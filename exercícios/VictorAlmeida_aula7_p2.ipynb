{
  "nbformat": 4,
  "nbformat_minor": 0,
  "metadata": {
    "colab": {
      "name": "VictorAlmeida_aula7_p2.ipynb",
      "provenance": [],
      "collapsed_sections": [],
      "authorship_tag": "ABX9TyNx2c9jkdKrdu2JbpRhs9hm",
      "include_colab_link": true
    },
    "kernelspec": {
      "name": "python3",
      "display_name": "Python 3"
    }
  },
  "cells": [
    {
      "cell_type": "markdown",
      "metadata": {
        "id": "view-in-github",
        "colab_type": "text"
      },
      "source": [
        "<a href=\"https://colab.research.google.com/github/Victor17in/PythonCurso/blob/master/exerc%C3%ADcios/VictorAlmeida_aula7_p2.ipynb\" target=\"_parent\"><img src=\"https://colab.research.google.com/assets/colab-badge.svg\" alt=\"Open In Colab\"/></a>"
      ]
    },
    {
      "cell_type": "markdown",
      "metadata": {
        "id": "HdzFVK0WjyH5"
      },
      "source": [
        "## Exercícios\n",
        "https://penseallen.github.io/PensePython2e/05-cond-recur.html\n",
        "\n",
        "1. O módulo time fornece uma função, também chamada time, que devolve a Hora Média de Greenwich na “época”, que é um momento arbitrário usado como ponto de referência. Em sistemas UNIX, a época é primeiro de janeiro de 1970."
      ]
    },
    {
      "cell_type": "code",
      "metadata": {
        "id": "X4McR1Pujrkt",
        "outputId": "4f130e35-4b26-4224-a512-b02bb2774020",
        "colab": {
          "base_uri": "https://localhost:8080/",
          "height": 34
        }
      },
      "source": [
        "import time\n",
        "time.time()"
      ],
      "execution_count": 174,
      "outputs": [
        {
          "output_type": "execute_result",
          "data": {
            "text/plain": [
              "1602963890.4522734"
            ]
          },
          "metadata": {
            "tags": []
          },
          "execution_count": 174
        }
      ]
    },
    {
      "cell_type": "markdown",
      "metadata": {
        "id": "6L0pv8tjj0b3"
      },
      "source": [
        "Escreva um script que leia a hora atual e a converta em um tempo em horas, minutos e segundos, mais o número de dias desde a época."
      ]
    },
    {
      "cell_type": "code",
      "metadata": {
        "id": "Q_camrcdkKKx",
        "outputId": "3e46ff32-43cb-4411-b588-ea4bca038099",
        "colab": {
          "base_uri": "https://localhost:8080/",
          "height": 136
        }
      },
      "source": [
        "import time\n",
        "t = time.strftime(str(time.localtime()))\n",
        "print(t)\n",
        "mylist = t\n",
        "print('Ano atual:',t[25:29])\n",
        "years = (int(t[25:29]) - 1970)\n",
        "print('Diferença em anos:', years)\n",
        "daysofyear = int(t[-16:-13])\n",
        "days = 365*years + daysofyear\n",
        "print('Diferença em dias:',days)\n",
        "#Horas\n",
        "if int(t[62:64]) == ValueError: #erro quando h é entre 0 e 9\n",
        "    h = int(t[62:63])\n",
        "else:\n",
        "    h = int(t[62:64])\n",
        "#print(h)\n",
        "#Minutos\n",
        "if int(t[73:75]) == ValueError: #erro quando min é entre 0 e 9\n",
        "    min = int(t[73:74])\n",
        "else:\n",
        "    min = int(t[73:75])\n",
        "#print(min)\n",
        "#Segundos\n",
        "if int(t[-39:-37]) == ValueError: #erro quando s é entre 0 e 9\n",
        "    s = int(t[-39:-38])\n",
        "else:\n",
        "    s = int(t[-39:-37])  \n",
        "#print(s)\n",
        "\n",
        "horastotais = days*24 + h\n",
        "print('Diferença em horas:', horastotais)\n",
        "mintotais = horastotais*60 + min\n",
        "print('Diferença em min:', mintotais)\n",
        "stotais = mintotais*60 + s\n",
        "print('Diferença em s:', stotais)"
      ],
      "execution_count": 69,
      "outputs": [
        {
          "output_type": "stream",
          "text": [
            "time.struct_time(tm_year=2020, tm_mon=10, tm_mday=17, tm_hour=21, tm_min=21, tm_sec=10, tm_wday=5, tm_yday=291, tm_isdst=0)\n",
            "Ano atual: 2020\n",
            "Diferença em anos: 50\n",
            "Diferença em dias: 18541\n",
            "Diferença em horas: 445005\n",
            "Diferença em min: 26700321\n",
            "Diferença em s: 1602019270\n"
          ],
          "name": "stdout"
        }
      ]
    },
    {
      "cell_type": "markdown",
      "metadata": {
        "id": "I_SwsRoRkbkP"
      },
      "source": [
        "2. O último teorema de Fermat diz que não existem números inteiros a, b e c tais que `a**n + b**n == c**n` para quaisquer valores de n maiores que 2.\n",
        "   1. Escreva uma função chamada `check_fermat` que receba quatro parâmetros – a, b, c e n – e verifique se o teorema de Fermat se mantém. Se n for maior que 2 e `a**n + b**n == c**n` o programa deve imprimir, “Holy smokes, Fermat was wrong!” Senão o programa deve exibir “No, that doesn’t work.”\n",
        "   1. Escreva uma função que peça ao usuário para digitar valores para a, b, c e n, os converta em números inteiros e use `check_fermat` para verificar se violam o teorema de Fermat."
      ]
    },
    {
      "cell_type": "code",
      "metadata": {
        "id": "AhmfdSuRt-hB",
        "outputId": "5913185c-a971-4b6b-b723-83f319ee5547",
        "colab": {
          "base_uri": "https://localhost:8080/",
          "height": 119
        }
      },
      "source": [
        "#1\n",
        "import math\n",
        "a = int(input('a ='))\n",
        "b = int(input('b ='))\n",
        "n= int(input('n ='))\n",
        "\n",
        "c = math.pow(a**n + b**n,n)\n",
        "print(c.is_integer())\n",
        "print(type(c),c)\n",
        "\n",
        "def check_fermat(a,b,c,n):\n",
        "  if n <= 2:\n",
        "   print('n maior que dois')\n",
        "  elif (not(c.is_integer())):\n",
        "    print ('c não é inteiro')\n",
        "  elif (a**n + b**n == c**n):\n",
        "     print('Holy smokes, Fermat was wrong!')\n",
        "  else:\n",
        "    print('No, that does not work.')\n",
        "\n",
        "check_fermat(a,b,c,n)"
      ],
      "execution_count": 14,
      "outputs": [
        {
          "output_type": "stream",
          "text": [
            "a =2\n",
            "b =1\n",
            "n =3\n",
            "True\n",
            "<class 'float'> 729.0\n",
            "No, that does not work.\n"
          ],
          "name": "stdout"
        }
      ]
    },
    {
      "cell_type": "code",
      "metadata": {
        "id": "pONaISATygOD",
        "outputId": "477c1efe-d915-4dba-8966-e4cc6a132e49",
        "colab": {
          "base_uri": "https://localhost:8080/",
          "height": 102
        }
      },
      "source": [
        "#2\n",
        "import math\n",
        "a = int(input('a ='))\n",
        "b = int(input('b ='))\n",
        "c = int(input('c ='))\n",
        "n = int(input('n ='))\n",
        "\n",
        "#c = math.pow(a**n + b**n,n)\n",
        "#print(c.is_integer())\n",
        "#print(type(c),c)\n",
        "\n",
        "def check_fermat(a,b,c,n):\n",
        "  if n <= 2:\n",
        "   print('n maior que dois')\n",
        "  elif (a**n + b**n == c**n):\n",
        "     print('Holy smokes, Fermat was wrong!')\n",
        "  else:\n",
        "    print('No, that does not work.')\n",
        "\n",
        "check_fermat(a,b,c,n)"
      ],
      "execution_count": 18,
      "outputs": [
        {
          "output_type": "stream",
          "text": [
            "a =3\n",
            "b =6\n",
            "c =9\n",
            "n =3\n",
            "No, that does not work.\n"
          ],
          "name": "stdout"
        }
      ]
    },
    {
      "cell_type": "code",
      "metadata": {
        "id": "eQTi45Fekeqz",
        "outputId": "23ccc783-8b17-493e-de55-4b1a7a372287",
        "colab": {
          "base_uri": "https://localhost:8080/",
          "height": 102
        }
      },
      "source": [
        "#no good\n",
        "import numpy as np\n",
        "import sympy as sym\n",
        "from sympy import init_printing\n",
        "a = sym.Symbol('a')\n",
        "b = sym.Symbol('b')\n",
        "c = sym.Symbol('c')\n",
        "\n",
        "x = int(input('a'))\n",
        "y = int(input('b'))\n",
        "z= int(input('c'))\n",
        "w= int(input('n'))\n",
        "def check_fermat(a,b,c,n):\n",
        "  if n > 2  and (a**n + b**n == c**n):\n",
        "    print('Holy smokes, Fermat was wrong!')\n",
        "  elif n <= 2:\n",
        "    print('n deve ser maior do que 2.')\n",
        "  else:\n",
        "    print('No, that does not work.')\n",
        "check_fermat(x,y,z,w)\n",
        "\n"
      ],
      "execution_count": null,
      "outputs": [
        {
          "output_type": "stream",
          "text": [
            "a3\n",
            "b3\n",
            "c3\n",
            "n2\n",
            "n deve ser maior do que 2.\n"
          ],
          "name": "stdout"
        }
      ]
    },
    {
      "cell_type": "markdown",
      "metadata": {
        "id": "-BbQdpNRyStr"
      },
      "source": [
        "3. Há um teste simples para ver se é possível formar um triângulo para quaisquer três comprimentos: Se algum dos três comprimentos for maior que a soma dos outros dois, então você não pode formar um triângulo. Senão, você pode. (Se a soma de dois comprimentos igualar o terceiro, eles formam um triângulo chamado “degenerado”.)\n",
        "   1. Escreva uma função chamada `is_triangle` que receba três números inteiros como argumentos, e que imprima “Yes” ou “No”, dependendo da possibilidade de formar ou não um triângulo de gravetos com os comprimentos dados.\n",
        "   1. Escreva uma função que peça ao usuário para digitar três comprimentos de gravetos, os converta em números inteiros e use `is_triangle` para verificar se os gravetos com os comprimentos dados podem formar um triângulo."
      ]
    },
    {
      "cell_type": "code",
      "metadata": {
        "id": "277dNlXZyYOO",
        "outputId": "f2dc8625-b035-4535-b983-7be104dedf99",
        "colab": {
          "base_uri": "https://localhost:8080/",
          "height": 85
        }
      },
      "source": [
        "#1 e 2\n",
        "def is_triangle(a,b,c):\n",
        "  if a + b < c or a + c < b or b + c < a:\n",
        "    print('No')\n",
        "  else:\n",
        "    print('Yes')\n",
        "def comprimento():\n",
        "  a = int(input('Interiro a:'))\n",
        "  b = int(input('Interiro b:'))  \n",
        "  c = int(input('Interiro c:'))\n",
        "  is_triangle(a,b,c)\n",
        "comprimento()"
      ],
      "execution_count": null,
      "outputs": [
        {
          "output_type": "stream",
          "text": [
            "Interiro a:3\n",
            "Interiro b:3\n",
            "Interiro c:3\n",
            "Yes\n"
          ],
          "name": "stdout"
        }
      ]
    },
    {
      "cell_type": "markdown",
      "metadata": {
        "id": "AnkKUh1T71p5"
      },
      "source": [
        "4. Leia a próxima função e veja se consegue compreender o que ela faz (veja os exemplos no Capítulo 4). Então execute-a e veja se acertou."
      ]
    },
    {
      "cell_type": "code",
      "metadata": {
        "id": "V9b7_Q5kGON0",
        "outputId": "798b9dd4-4aa3-4f24-b848-fb1dbde8053e",
        "colab": {
          "base_uri": "https://localhost:8080/",
          "height": 34
        }
      },
      "source": [
        "# declarações para instalar e importar o módulo Turtle no âmbito do Google Colab\n",
        "!pip3 install ColabTurtle\n",
        "import ColabTurtle"
      ],
      "execution_count": 177,
      "outputs": [
        {
          "output_type": "stream",
          "text": [
            "Requirement already satisfied: ColabTurtle in /usr/local/lib/python3.6/dist-packages (2.0.0)\n"
          ],
          "name": "stdout"
        }
      ]
    },
    {
      "cell_type": "code",
      "metadata": {
        "id": "imSgz2vx79vL",
        "outputId": "627a9d99-6673-4623-c454-9e91c0689a8c",
        "colab": {
          "base_uri": "https://localhost:8080/",
          "height": 521
        }
      },
      "source": [
        "import ColabTurtle.Turtle as t\n",
        "t.initializeTurtle()\n",
        "t.speed(10)\n",
        "def draw(t, length, n):\n",
        "    if n == 0:\n",
        "        return\n",
        "    angle = 50\n",
        "    t.forward(length * n)\n",
        "    t.left(angle)\n",
        "    draw(t, length, n-1)\n",
        "    t.right(2 * angle)\n",
        "    draw(t, length, n-1)\n",
        "    t.left(angle)\n",
        "    t.backward(length * n)\n",
        "\n",
        "draw(t,10, 5)"
      ],
      "execution_count": 59,
      "outputs": [
        {
          "output_type": "display_data",
          "data": {
            "text/html": [
              "\n",
              "      <svg width=\"800\" height=\"500\">\n",
              "        <rect width=\"100%\" height=\"100%\" fill=\"black\"/>\n",
              "        <line x1=\"400\" y1=\"250\" x2=\"400.0\" y2=\"200.0\" stroke-linecap=\"round\" style=\"stroke:white;stroke-width:4\"/><line x1=\"400.0\" y1=\"200.0\" x2=\"369.3582222752409\" y2=\"174.28849561253844\" stroke-linecap=\"round\" style=\"stroke:white;stroke-width:4\"/><line x1=\"369.3582222752409\" y1=\"174.28849561253844\" x2=\"339.8139896848747\" y2=\"179.49794094254634\" stroke-linecap=\"round\" style=\"stroke:white;stroke-width:4\"/><line x1=\"339.8139896848747\" y1=\"179.49794094254634\" x2=\"329.8139896848747\" y2=\"196.8184490182351\" stroke-linecap=\"round\" style=\"stroke:white;stroke-width:4\"/><line x1=\"329.8139896848747\" y1=\"196.8184490182351\" x2=\"333.2341911181314\" y2=\"206.21537522609418\" stroke-linecap=\"round\" style=\"stroke:white;stroke-width:4\"/><line x1=\"333.2341911181314\" y1=\"206.21537522609418\" x2=\"329.8139896848747\" y2=\"196.8184490182351\" stroke-linecap=\"round\" style=\"stroke:white;stroke-width:4\"/><line x1=\"329.8139896848747\" y1=\"196.8184490182351\" x2=\"319.96591215475263\" y2=\"198.5549307949044\" stroke-linecap=\"round\" style=\"stroke:white;stroke-width:4\"/><line x1=\"319.96591215475263\" y1=\"198.5549307949044\" x2=\"329.8139896848747\" y2=\"196.8184490182351\" stroke-linecap=\"round\" style=\"stroke:white;stroke-width:4\"/><line x1=\"329.8139896848747\" y1=\"196.8184490182351\" x2=\"339.8139896848747\" y2=\"179.49794094254634\" stroke-linecap=\"round\" style=\"stroke:white;stroke-width:4\"/><line x1=\"339.8139896848747\" y1=\"179.49794094254634\" x2=\"324.49310082249514\" y2=\"166.64218874881556\" stroke-linecap=\"round\" style=\"stroke:white;stroke-width:4\"/><line x1=\"324.49310082249514\" y1=\"166.64218874881556\" x2=\"314.6450232923731\" y2=\"168.37867052548486\" stroke-linecap=\"round\" style=\"stroke:white;stroke-width:4\"/><line x1=\"314.6450232923731\" y1=\"168.37867052548486\" x2=\"324.49310082249514\" y2=\"166.64218874881556\" stroke-linecap=\"round\" style=\"stroke:white;stroke-width:4\"/><line x1=\"324.49310082249514\" y1=\"166.64218874881556\" x2=\"324.49310082249514\" y2=\"156.64218874881556\" stroke-linecap=\"round\" style=\"stroke:white;stroke-width:4\"/><line x1=\"324.49310082249514\" y1=\"156.64218874881556\" x2=\"324.49310082249514\" y2=\"166.64218874881556\" stroke-linecap=\"round\" style=\"stroke:white;stroke-width:4\"/><line x1=\"324.49310082249514\" y1=\"166.64218874881556\" x2=\"339.8139896848747\" y2=\"179.49794094254634\" stroke-linecap=\"round\" style=\"stroke:white;stroke-width:4\"/><line x1=\"339.8139896848747\" y1=\"179.49794094254634\" x2=\"369.3582222752409\" y2=\"174.28849561253844\" stroke-linecap=\"round\" style=\"stroke:white;stroke-width:4\"/><line x1=\"369.3582222752409\" y1=\"174.28849561253844\" x2=\"369.3582222752409\" y2=\"144.28849561253844\" stroke-linecap=\"round\" style=\"stroke:white;stroke-width:4\"/><line x1=\"369.3582222752409\" y1=\"144.28849561253844\" x2=\"354.03733341286136\" y2=\"131.43274341880766\" stroke-linecap=\"round\" style=\"stroke:white;stroke-width:4\"/><line x1=\"354.03733341286136\" y1=\"131.43274341880766\" x2=\"344.1892558827393\" y2=\"133.16922519547697\" stroke-linecap=\"round\" style=\"stroke:white;stroke-width:4\"/><line x1=\"344.1892558827393\" y1=\"133.16922519547697\" x2=\"354.03733341286136\" y2=\"131.43274341880766\" stroke-linecap=\"round\" style=\"stroke:white;stroke-width:4\"/><line x1=\"354.03733341286136\" y1=\"131.43274341880766\" x2=\"354.03733341286136\" y2=\"121.43274341880766\" stroke-linecap=\"round\" style=\"stroke:white;stroke-width:4\"/><line x1=\"354.03733341286136\" y1=\"121.43274341880766\" x2=\"354.03733341286136\" y2=\"131.43274341880766\" stroke-linecap=\"round\" style=\"stroke:white;stroke-width:4\"/><line x1=\"354.03733341286136\" y1=\"131.43274341880766\" x2=\"369.3582222752409\" y2=\"144.28849561253844\" stroke-linecap=\"round\" style=\"stroke:white;stroke-width:4\"/><line x1=\"369.3582222752409\" y1=\"144.28849561253844\" x2=\"384.67911113762045\" y2=\"131.43274341880766\" stroke-linecap=\"round\" style=\"stroke:white;stroke-width:4\"/><line x1=\"384.67911113762045\" y1=\"131.43274341880766\" x2=\"384.67911113762045\" y2=\"121.43274341880766\" stroke-linecap=\"round\" style=\"stroke:white;stroke-width:4\"/><line x1=\"384.67911113762045\" y1=\"121.43274341880766\" x2=\"384.67911113762045\" y2=\"131.43274341880766\" stroke-linecap=\"round\" style=\"stroke:white;stroke-width:4\"/><line x1=\"384.67911113762045\" y1=\"131.43274341880766\" x2=\"394.5271886677425\" y2=\"133.16922519547697\" stroke-linecap=\"round\" style=\"stroke:white;stroke-width:4\"/><line x1=\"394.5271886677425\" y1=\"133.16922519547697\" x2=\"384.67911113762045\" y2=\"131.43274341880766\" stroke-linecap=\"round\" style=\"stroke:white;stroke-width:4\"/><line x1=\"384.67911113762045\" y1=\"131.43274341880766\" x2=\"369.3582222752409\" y2=\"144.28849561253844\" stroke-linecap=\"round\" style=\"stroke:white;stroke-width:4\"/><line x1=\"369.3582222752409\" y1=\"144.28849561253844\" x2=\"369.3582222752409\" y2=\"174.28849561253844\" stroke-linecap=\"round\" style=\"stroke:white;stroke-width:4\"/><line x1=\"369.3582222752409\" y1=\"174.28849561253844\" x2=\"400.0\" y2=\"200.0\" stroke-linecap=\"round\" style=\"stroke:white;stroke-width:4\"/><line x1=\"400.0\" y1=\"200.0\" x2=\"430.6417777247591\" y2=\"174.2884956125384\" stroke-linecap=\"round\" style=\"stroke:white;stroke-width:4\"/><line x1=\"430.6417777247591\" y1=\"174.2884956125384\" x2=\"430.6417777247591\" y2=\"144.2884956125384\" stroke-linecap=\"round\" style=\"stroke:white;stroke-width:4\"/><line x1=\"430.6417777247591\" y1=\"144.2884956125384\" x2=\"415.32088886237955\" y2=\"131.43274341880763\" stroke-linecap=\"round\" style=\"stroke:white;stroke-width:4\"/><line x1=\"415.32088886237955\" y1=\"131.43274341880763\" x2=\"405.4728113322575\" y2=\"133.16922519547694\" stroke-linecap=\"round\" style=\"stroke:white;stroke-width:4\"/><line x1=\"405.4728113322575\" y1=\"133.16922519547694\" x2=\"415.32088886237955\" y2=\"131.43274341880763\" stroke-linecap=\"round\" style=\"stroke:white;stroke-width:4\"/><line x1=\"415.32088886237955\" y1=\"131.43274341880763\" x2=\"415.32088886237955\" y2=\"121.43274341880763\" stroke-linecap=\"round\" style=\"stroke:white;stroke-width:4\"/><line x1=\"415.32088886237955\" y1=\"121.43274341880763\" x2=\"415.32088886237955\" y2=\"131.43274341880763\" stroke-linecap=\"round\" style=\"stroke:white;stroke-width:4\"/><line x1=\"415.32088886237955\" y1=\"131.43274341880763\" x2=\"430.6417777247591\" y2=\"144.2884956125384\" stroke-linecap=\"round\" style=\"stroke:white;stroke-width:4\"/><line x1=\"430.6417777247591\" y1=\"144.2884956125384\" x2=\"445.96266658713864\" y2=\"131.43274341880763\" stroke-linecap=\"round\" style=\"stroke:white;stroke-width:4\"/><line x1=\"445.96266658713864\" y1=\"131.43274341880763\" x2=\"445.96266658713864\" y2=\"121.43274341880763\" stroke-linecap=\"round\" style=\"stroke:white;stroke-width:4\"/><line x1=\"445.96266658713864\" y1=\"121.43274341880763\" x2=\"445.96266658713864\" y2=\"131.43274341880763\" stroke-linecap=\"round\" style=\"stroke:white;stroke-width:4\"/><line x1=\"445.96266658713864\" y1=\"131.43274341880763\" x2=\"455.8107441172607\" y2=\"133.16922519547694\" stroke-linecap=\"round\" style=\"stroke:white;stroke-width:4\"/><line x1=\"455.8107441172607\" y1=\"133.16922519547694\" x2=\"445.96266658713864\" y2=\"131.43274341880763\" stroke-linecap=\"round\" style=\"stroke:white;stroke-width:4\"/><line x1=\"445.96266658713864\" y1=\"131.43274341880763\" x2=\"430.6417777247591\" y2=\"144.2884956125384\" stroke-linecap=\"round\" style=\"stroke:white;stroke-width:4\"/><line x1=\"430.6417777247591\" y1=\"144.2884956125384\" x2=\"430.6417777247591\" y2=\"174.2884956125384\" stroke-linecap=\"round\" style=\"stroke:white;stroke-width:4\"/><line x1=\"430.6417777247591\" y1=\"174.2884956125384\" x2=\"460.1860103151253\" y2=\"179.49794094254634\" stroke-linecap=\"round\" style=\"stroke:white;stroke-width:4\"/><line x1=\"460.1860103151253\" y1=\"179.49794094254634\" x2=\"475.50689917750486\" y2=\"166.64218874881556\" stroke-linecap=\"round\" style=\"stroke:white;stroke-width:4\"/><line x1=\"475.50689917750486\" y1=\"166.64218874881556\" x2=\"475.50689917750486\" y2=\"156.64218874881556\" stroke-linecap=\"round\" style=\"stroke:white;stroke-width:4\"/><line x1=\"475.50689917750486\" y1=\"156.64218874881556\" x2=\"475.50689917750486\" y2=\"166.64218874881556\" stroke-linecap=\"round\" style=\"stroke:white;stroke-width:4\"/><line x1=\"475.50689917750486\" y1=\"166.64218874881556\" x2=\"485.3549767076269\" y2=\"168.37867052548486\" stroke-linecap=\"round\" style=\"stroke:white;stroke-width:4\"/><line x1=\"485.3549767076269\" y1=\"168.37867052548486\" x2=\"475.50689917750486\" y2=\"166.64218874881556\" stroke-linecap=\"round\" style=\"stroke:white;stroke-width:4\"/><line x1=\"475.50689917750486\" y1=\"166.64218874881556\" x2=\"460.1860103151253\" y2=\"179.49794094254634\" stroke-linecap=\"round\" style=\"stroke:white;stroke-width:4\"/><line x1=\"460.1860103151253\" y1=\"179.49794094254634\" x2=\"470.1860103151253\" y2=\"196.8184490182351\" stroke-linecap=\"round\" style=\"stroke:white;stroke-width:4\"/><line x1=\"470.1860103151253\" y1=\"196.8184490182351\" x2=\"480.03408784524737\" y2=\"198.5549307949044\" stroke-linecap=\"round\" style=\"stroke:white;stroke-width:4\"/><line x1=\"480.03408784524737\" y1=\"198.5549307949044\" x2=\"470.1860103151253\" y2=\"196.8184490182351\" stroke-linecap=\"round\" style=\"stroke:white;stroke-width:4\"/><line x1=\"470.1860103151253\" y1=\"196.8184490182351\" x2=\"466.7658088818686\" y2=\"206.21537522609418\" stroke-linecap=\"round\" style=\"stroke:white;stroke-width:4\"/><line x1=\"466.7658088818686\" y1=\"206.21537522609418\" x2=\"470.1860103151253\" y2=\"196.8184490182351\" stroke-linecap=\"round\" style=\"stroke:white;stroke-width:4\"/><line x1=\"470.1860103151253\" y1=\"196.8184490182351\" x2=\"460.1860103151253\" y2=\"179.49794094254634\" stroke-linecap=\"round\" style=\"stroke:white;stroke-width:4\"/><line x1=\"460.1860103151253\" y1=\"179.49794094254634\" x2=\"430.6417777247591\" y2=\"174.28849561253844\" stroke-linecap=\"round\" style=\"stroke:white;stroke-width:4\"/><line x1=\"430.6417777247591\" y1=\"174.28849561253844\" x2=\"400.0\" y2=\"200.00000000000003\" stroke-linecap=\"round\" style=\"stroke:white;stroke-width:4\"/><line x1=\"400.0\" y1=\"200.00000000000003\" x2=\"400.0\" y2=\"250.00000000000003\" stroke-linecap=\"round\" style=\"stroke:white;stroke-width:4\"/>\n",
              "        \n",
              "      <g visibility=visible transform=\"rotate(180,400.0,250.00000000000003) translate(400.0, 250.00000000000003)\">\n",
              "        <circle stroke=\"white\" stroke-width=\"3\" fill=\"transparent\" r=\"12\" cx=\"0\" cy=\"0\"/>\n",
              "        <polygon points=\"0,19 3,16 -3,16\" style=\"fill:white;stroke:white;stroke-width:2\"/>\n",
              "      </g>\n",
              "    \n",
              "      </svg>\n",
              "    "
            ],
            "text/plain": [
              "<IPython.core.display.HTML object>"
            ]
          },
          "metadata": {
            "tags": []
          }
        }
      ]
    },
    {
      "cell_type": "markdown",
      "metadata": {
        "id": "L9BnUAUc8AR9"
      },
      "source": [
        "A curva de Koch é um fractal que parece com o da Figura abaixo. \n",
        "![](https://github.com/PenseAllen/PensePython2e/raw/master/fig/tnkp_0502.png)\n",
        "\n",
        "Para desenhar uma curva de Koch com o comprimento x, tudo o que você tem que fazer é:\n",
        "\n",
        "1. Desenhe uma curva de Koch com o comprimento x/3.\n",
        "\n",
        "1. Vire 60 graus à esquerda.\n",
        "\n",
        "1. Desenhe uma curva de Koch com o comprimento x/3.\n",
        "\n",
        "1. Vire 120 graus à direita.\n",
        "\n",
        "1. Desenhe uma curva de Koch com o comprimento x/3.\n",
        "\n",
        "1. Vire 60 graus à esquerda.\n",
        "\n",
        "1. Desenhe uma curva de Koch com o comprimento x/3.\n",
        "\n",
        "\n",
        "A exceção é se x for menor que 3: neste caso, você pode desenhar apenas uma linha reta com o comprimento x.\n",
        "\n",
        "1. Escreva uma função chamada `koch` que receba um `ColabTurtle` (ou turtle) e um comprimento como parâmetros, e use o `ColabTurtle` para desenhar uma curva de Koch com o comprimento dado.\n",
        "\n",
        "1. Escreva uma função chamada `snowflake` que desenhe três curvas de Koch para fazer o traçado de um floco de neve.\n",
        "\n",
        "1. A curva de Koch pode ser generalizada de vários modos. Veja exemplos em http://en.wikipedia.org/wiki/Koch_snowflake e implemente o seu favorito."
      ]
    },
    {
      "cell_type": "code",
      "metadata": {
        "id": "Nk_9lBLAVFQ2",
        "outputId": "33dae429-67ce-4ff5-aba4-2d7e4639820b",
        "colab": {
          "base_uri": "https://localhost:8080/",
          "height": 521
        }
      },
      "source": [
        "#1\n",
        "import ColabTurtle.Turtle as t\n",
        "t.initializeTurtle()\n",
        "t.speed(10)\n",
        "def koch(t, length, n):\n",
        "    if n == 0:\n",
        "        return\n",
        "    angle = 60\n",
        "    t.forward(int(length * n/3))\n",
        "    t.left(angle)\n",
        "    koch(t, length, n-1)\n",
        "    t.right(2 * angle)\n",
        "    koch(t, length, n-1)\n",
        "    t.left(angle)\n",
        "    t.backward(int(length * n/3))\n",
        "\n",
        "koch(t,30, 5)"
      ],
      "execution_count": 52,
      "outputs": [
        {
          "output_type": "display_data",
          "data": {
            "text/html": [
              "\n",
              "      <svg width=\"800\" height=\"500\">\n",
              "        <rect width=\"100%\" height=\"100%\" fill=\"black\"/>\n",
              "        <line x1=\"400\" y1=\"250\" x2=\"400.0\" y2=\"200.0\" stroke-linecap=\"round\" style=\"stroke:white;stroke-width:4\"/><line x1=\"400.0\" y1=\"200.0\" x2=\"365.3589838486225\" y2=\"180.0\" stroke-linecap=\"round\" style=\"stroke:white;stroke-width:4\"/><line x1=\"365.3589838486225\" y1=\"180.0\" x2=\"339.3782217350893\" y2=\"195.0\" stroke-linecap=\"round\" style=\"stroke:white;stroke-width:4\"/><line x1=\"339.3782217350893\" y1=\"195.0\" x2=\"339.3782217350893\" y2=\"215.0\" stroke-linecap=\"round\" style=\"stroke:white;stroke-width:4\"/><line x1=\"339.3782217350893\" y1=\"215.0\" x2=\"348.0384757729337\" y2=\"220.0\" stroke-linecap=\"round\" style=\"stroke:white;stroke-width:4\"/><line x1=\"348.0384757729337\" y1=\"220.0\" x2=\"339.3782217350893\" y2=\"215.0\" stroke-linecap=\"round\" style=\"stroke:white;stroke-width:4\"/><line x1=\"339.3782217350893\" y1=\"215.0\" x2=\"330.71796769724494\" y2=\"220.0\" stroke-linecap=\"round\" style=\"stroke:white;stroke-width:4\"/><line x1=\"330.71796769724494\" y1=\"220.0\" x2=\"339.3782217350893\" y2=\"215.0\" stroke-linecap=\"round\" style=\"stroke:white;stroke-width:4\"/><line x1=\"339.3782217350893\" y1=\"215.0\" x2=\"339.3782217350893\" y2=\"195.0\" stroke-linecap=\"round\" style=\"stroke:white;stroke-width:4\"/><line x1=\"339.3782217350893\" y1=\"195.0\" x2=\"322.0577136594005\" y2=\"185.0\" stroke-linecap=\"round\" style=\"stroke:white;stroke-width:4\"/><line x1=\"322.0577136594005\" y1=\"185.0\" x2=\"313.39745962155615\" y2=\"190.0\" stroke-linecap=\"round\" style=\"stroke:white;stroke-width:4\"/><line x1=\"313.39745962155615\" y1=\"190.0\" x2=\"322.0577136594005\" y2=\"185.0\" stroke-linecap=\"round\" style=\"stroke:white;stroke-width:4\"/><line x1=\"322.0577136594005\" y1=\"185.0\" x2=\"322.0577136594005\" y2=\"175.0\" stroke-linecap=\"round\" style=\"stroke:white;stroke-width:4\"/><line x1=\"322.0577136594005\" y1=\"175.0\" x2=\"322.0577136594005\" y2=\"185.0\" stroke-linecap=\"round\" style=\"stroke:white;stroke-width:4\"/><line x1=\"322.0577136594005\" y1=\"185.0\" x2=\"339.3782217350893\" y2=\"195.0\" stroke-linecap=\"round\" style=\"stroke:white;stroke-width:4\"/><line x1=\"339.3782217350893\" y1=\"195.0\" x2=\"365.3589838486225\" y2=\"180.0\" stroke-linecap=\"round\" style=\"stroke:white;stroke-width:4\"/><line x1=\"365.3589838486225\" y1=\"180.0\" x2=\"365.3589838486225\" y2=\"150.0\" stroke-linecap=\"round\" style=\"stroke:white;stroke-width:4\"/><line x1=\"365.3589838486225\" y1=\"150.0\" x2=\"348.0384757729337\" y2=\"140.0\" stroke-linecap=\"round\" style=\"stroke:white;stroke-width:4\"/><line x1=\"348.0384757729337\" y1=\"140.0\" x2=\"339.3782217350893\" y2=\"145.0\" stroke-linecap=\"round\" style=\"stroke:white;stroke-width:4\"/><line x1=\"339.3782217350893\" y1=\"145.0\" x2=\"348.0384757729337\" y2=\"140.0\" stroke-linecap=\"round\" style=\"stroke:white;stroke-width:4\"/><line x1=\"348.0384757729337\" y1=\"140.0\" x2=\"348.0384757729337\" y2=\"130.0\" stroke-linecap=\"round\" style=\"stroke:white;stroke-width:4\"/><line x1=\"348.0384757729337\" y1=\"130.0\" x2=\"348.0384757729337\" y2=\"140.0\" stroke-linecap=\"round\" style=\"stroke:white;stroke-width:4\"/><line x1=\"348.0384757729337\" y1=\"140.0\" x2=\"365.3589838486225\" y2=\"150.0\" stroke-linecap=\"round\" style=\"stroke:white;stroke-width:4\"/><line x1=\"365.3589838486225\" y1=\"150.0\" x2=\"382.67949192431126\" y2=\"140.0\" stroke-linecap=\"round\" style=\"stroke:white;stroke-width:4\"/><line x1=\"382.67949192431126\" y1=\"140.0\" x2=\"382.67949192431126\" y2=\"130.0\" stroke-linecap=\"round\" style=\"stroke:white;stroke-width:4\"/><line x1=\"382.67949192431126\" y1=\"130.0\" x2=\"382.67949192431126\" y2=\"140.0\" stroke-linecap=\"round\" style=\"stroke:white;stroke-width:4\"/><line x1=\"382.67949192431126\" y1=\"140.0\" x2=\"391.33974596215563\" y2=\"145.0\" stroke-linecap=\"round\" style=\"stroke:white;stroke-width:4\"/><line x1=\"391.33974596215563\" y1=\"145.0\" x2=\"382.67949192431126\" y2=\"140.0\" stroke-linecap=\"round\" style=\"stroke:white;stroke-width:4\"/><line x1=\"382.67949192431126\" y1=\"140.0\" x2=\"365.3589838486225\" y2=\"150.0\" stroke-linecap=\"round\" style=\"stroke:white;stroke-width:4\"/><line x1=\"365.3589838486225\" y1=\"150.0\" x2=\"365.3589838486225\" y2=\"180.0\" stroke-linecap=\"round\" style=\"stroke:white;stroke-width:4\"/><line x1=\"365.3589838486225\" y1=\"180.0\" x2=\"400.0\" y2=\"200.0\" stroke-linecap=\"round\" style=\"stroke:white;stroke-width:4\"/><line x1=\"400.0\" y1=\"200.0\" x2=\"434.6410161513775\" y2=\"179.99999999999997\" stroke-linecap=\"round\" style=\"stroke:white;stroke-width:4\"/><line x1=\"434.6410161513775\" y1=\"179.99999999999997\" x2=\"434.6410161513775\" y2=\"149.99999999999997\" stroke-linecap=\"round\" style=\"stroke:white;stroke-width:4\"/><line x1=\"434.6410161513775\" y1=\"149.99999999999997\" x2=\"417.32050807568874\" y2=\"139.99999999999997\" stroke-linecap=\"round\" style=\"stroke:white;stroke-width:4\"/><line x1=\"417.32050807568874\" y1=\"139.99999999999997\" x2=\"408.66025403784437\" y2=\"144.99999999999997\" stroke-linecap=\"round\" style=\"stroke:white;stroke-width:4\"/><line x1=\"408.66025403784437\" y1=\"144.99999999999997\" x2=\"417.32050807568874\" y2=\"139.99999999999997\" stroke-linecap=\"round\" style=\"stroke:white;stroke-width:4\"/><line x1=\"417.32050807568874\" y1=\"139.99999999999997\" x2=\"417.32050807568874\" y2=\"129.99999999999997\" stroke-linecap=\"round\" style=\"stroke:white;stroke-width:4\"/><line x1=\"417.32050807568874\" y1=\"129.99999999999997\" x2=\"417.32050807568874\" y2=\"139.99999999999997\" stroke-linecap=\"round\" style=\"stroke:white;stroke-width:4\"/><line x1=\"417.32050807568874\" y1=\"139.99999999999997\" x2=\"434.6410161513775\" y2=\"149.99999999999997\" stroke-linecap=\"round\" style=\"stroke:white;stroke-width:4\"/><line x1=\"434.6410161513775\" y1=\"149.99999999999997\" x2=\"451.9615242270663\" y2=\"139.99999999999997\" stroke-linecap=\"round\" style=\"stroke:white;stroke-width:4\"/><line x1=\"451.9615242270663\" y1=\"139.99999999999997\" x2=\"451.9615242270663\" y2=\"129.99999999999997\" stroke-linecap=\"round\" style=\"stroke:white;stroke-width:4\"/><line x1=\"451.9615242270663\" y1=\"129.99999999999997\" x2=\"451.9615242270663\" y2=\"139.99999999999997\" stroke-linecap=\"round\" style=\"stroke:white;stroke-width:4\"/><line x1=\"451.9615242270663\" y1=\"139.99999999999997\" x2=\"460.6217782649107\" y2=\"144.99999999999997\" stroke-linecap=\"round\" style=\"stroke:white;stroke-width:4\"/><line x1=\"460.6217782649107\" y1=\"144.99999999999997\" x2=\"451.9615242270663\" y2=\"139.99999999999997\" stroke-linecap=\"round\" style=\"stroke:white;stroke-width:4\"/><line x1=\"451.9615242270663\" y1=\"139.99999999999997\" x2=\"434.6410161513775\" y2=\"149.99999999999997\" stroke-linecap=\"round\" style=\"stroke:white;stroke-width:4\"/><line x1=\"434.6410161513775\" y1=\"149.99999999999997\" x2=\"434.6410161513775\" y2=\"179.99999999999997\" stroke-linecap=\"round\" style=\"stroke:white;stroke-width:4\"/><line x1=\"434.6410161513775\" y1=\"179.99999999999997\" x2=\"460.6217782649107\" y2=\"194.99999999999997\" stroke-linecap=\"round\" style=\"stroke:white;stroke-width:4\"/><line x1=\"460.6217782649107\" y1=\"194.99999999999997\" x2=\"477.9422863405995\" y2=\"184.99999999999997\" stroke-linecap=\"round\" style=\"stroke:white;stroke-width:4\"/><line x1=\"477.9422863405995\" y1=\"184.99999999999997\" x2=\"477.9422863405995\" y2=\"174.99999999999997\" stroke-linecap=\"round\" style=\"stroke:white;stroke-width:4\"/><line x1=\"477.9422863405995\" y1=\"174.99999999999997\" x2=\"477.9422863405995\" y2=\"184.99999999999997\" stroke-linecap=\"round\" style=\"stroke:white;stroke-width:4\"/><line x1=\"477.9422863405995\" y1=\"184.99999999999997\" x2=\"486.60254037844385\" y2=\"189.99999999999997\" stroke-linecap=\"round\" style=\"stroke:white;stroke-width:4\"/><line x1=\"486.60254037844385\" y1=\"189.99999999999997\" x2=\"477.9422863405995\" y2=\"184.99999999999997\" stroke-linecap=\"round\" style=\"stroke:white;stroke-width:4\"/><line x1=\"477.9422863405995\" y1=\"184.99999999999997\" x2=\"460.6217782649107\" y2=\"194.99999999999997\" stroke-linecap=\"round\" style=\"stroke:white;stroke-width:4\"/><line x1=\"460.6217782649107\" y1=\"194.99999999999997\" x2=\"460.6217782649107\" y2=\"214.99999999999997\" stroke-linecap=\"round\" style=\"stroke:white;stroke-width:4\"/><line x1=\"460.6217782649107\" y1=\"214.99999999999997\" x2=\"469.28203230275506\" y2=\"219.99999999999997\" stroke-linecap=\"round\" style=\"stroke:white;stroke-width:4\"/><line x1=\"469.28203230275506\" y1=\"219.99999999999997\" x2=\"460.6217782649107\" y2=\"214.99999999999997\" stroke-linecap=\"round\" style=\"stroke:white;stroke-width:4\"/><line x1=\"460.6217782649107\" y1=\"214.99999999999997\" x2=\"451.9615242270663\" y2=\"219.99999999999997\" stroke-linecap=\"round\" style=\"stroke:white;stroke-width:4\"/><line x1=\"451.9615242270663\" y1=\"219.99999999999997\" x2=\"460.6217782649107\" y2=\"214.99999999999997\" stroke-linecap=\"round\" style=\"stroke:white;stroke-width:4\"/><line x1=\"460.6217782649107\" y1=\"214.99999999999997\" x2=\"460.6217782649107\" y2=\"194.99999999999997\" stroke-linecap=\"round\" style=\"stroke:white;stroke-width:4\"/><line x1=\"460.6217782649107\" y1=\"194.99999999999997\" x2=\"434.6410161513775\" y2=\"179.99999999999997\" stroke-linecap=\"round\" style=\"stroke:white;stroke-width:4\"/><line x1=\"434.6410161513775\" y1=\"179.99999999999997\" x2=\"400.0\" y2=\"200.0\" stroke-linecap=\"round\" style=\"stroke:white;stroke-width:4\"/><line x1=\"400.0\" y1=\"200.0\" x2=\"400.0\" y2=\"250.0\" stroke-linecap=\"round\" style=\"stroke:white;stroke-width:4\"/>\n",
              "        \n",
              "      <g visibility=visible transform=\"rotate(180,400.0,250.0) translate(400.0, 250.0)\">\n",
              "        <circle stroke=\"white\" stroke-width=\"3\" fill=\"transparent\" r=\"12\" cx=\"0\" cy=\"0\"/>\n",
              "        <polygon points=\"0,19 3,16 -3,16\" style=\"fill:white;stroke:white;stroke-width:2\"/>\n",
              "      </g>\n",
              "    \n",
              "      </svg>\n",
              "    "
            ],
            "text/plain": [
              "<IPython.core.display.HTML object>"
            ]
          },
          "metadata": {
            "tags": []
          }
        }
      ]
    },
    {
      "cell_type": "code",
      "metadata": {
        "id": "o0WC4ivNXRpy",
        "outputId": "3a985a0d-ee74-4b65-eced-cea6ee75f179",
        "colab": {
          "base_uri": "https://localhost:8080/",
          "height": 521
        }
      },
      "source": [
        "#2\n",
        "import ColabTurtle.Turtle as t\n",
        "t.initializeTurtle()\n",
        "t.speed(10)\n",
        "def snowflake(t, length, n):\n",
        "    if n == 0:\n",
        "        return\n",
        "    angle = 60\n",
        "    koch(t, length, n)\n",
        "    t.left(2*angle)\n",
        "    koch(t, length, n)\n",
        "    t.left(2*angle)\n",
        "    koch(t, length, n)\n",
        "    t.left(2*angle)\n",
        "\n",
        "snowflake(t,30, 5)"
      ],
      "execution_count": 67,
      "outputs": [
        {
          "output_type": "display_data",
          "data": {
            "text/html": [
              "\n",
              "      <svg width=\"800\" height=\"500\">\n",
              "        <rect width=\"100%\" height=\"100%\" fill=\"black\"/>\n",
              "        <line x1=\"400\" y1=\"250\" x2=\"400.0\" y2=\"200.0\" stroke-linecap=\"round\" style=\"stroke:white;stroke-width:4\"/><line x1=\"400.0\" y1=\"200.0\" x2=\"365.3589838486225\" y2=\"180.0\" stroke-linecap=\"round\" style=\"stroke:white;stroke-width:4\"/><line x1=\"365.3589838486225\" y1=\"180.0\" x2=\"339.3782217350893\" y2=\"195.0\" stroke-linecap=\"round\" style=\"stroke:white;stroke-width:4\"/><line x1=\"339.3782217350893\" y1=\"195.0\" x2=\"339.3782217350893\" y2=\"215.0\" stroke-linecap=\"round\" style=\"stroke:white;stroke-width:4\"/><line x1=\"339.3782217350893\" y1=\"215.0\" x2=\"348.0384757729337\" y2=\"220.0\" stroke-linecap=\"round\" style=\"stroke:white;stroke-width:4\"/><line x1=\"348.0384757729337\" y1=\"220.0\" x2=\"339.3782217350893\" y2=\"215.0\" stroke-linecap=\"round\" style=\"stroke:white;stroke-width:4\"/><line x1=\"339.3782217350893\" y1=\"215.0\" x2=\"330.71796769724494\" y2=\"220.0\" stroke-linecap=\"round\" style=\"stroke:white;stroke-width:4\"/><line x1=\"330.71796769724494\" y1=\"220.0\" x2=\"339.3782217350893\" y2=\"215.0\" stroke-linecap=\"round\" style=\"stroke:white;stroke-width:4\"/><line x1=\"339.3782217350893\" y1=\"215.0\" x2=\"339.3782217350893\" y2=\"195.0\" stroke-linecap=\"round\" style=\"stroke:white;stroke-width:4\"/><line x1=\"339.3782217350893\" y1=\"195.0\" x2=\"322.0577136594005\" y2=\"185.0\" stroke-linecap=\"round\" style=\"stroke:white;stroke-width:4\"/><line x1=\"322.0577136594005\" y1=\"185.0\" x2=\"313.39745962155615\" y2=\"190.0\" stroke-linecap=\"round\" style=\"stroke:white;stroke-width:4\"/><line x1=\"313.39745962155615\" y1=\"190.0\" x2=\"322.0577136594005\" y2=\"185.0\" stroke-linecap=\"round\" style=\"stroke:white;stroke-width:4\"/><line x1=\"322.0577136594005\" y1=\"185.0\" x2=\"322.0577136594005\" y2=\"175.0\" stroke-linecap=\"round\" style=\"stroke:white;stroke-width:4\"/><line x1=\"322.0577136594005\" y1=\"175.0\" x2=\"322.0577136594005\" y2=\"185.0\" stroke-linecap=\"round\" style=\"stroke:white;stroke-width:4\"/><line x1=\"322.0577136594005\" y1=\"185.0\" x2=\"339.3782217350893\" y2=\"195.0\" stroke-linecap=\"round\" style=\"stroke:white;stroke-width:4\"/><line x1=\"339.3782217350893\" y1=\"195.0\" x2=\"365.3589838486225\" y2=\"180.0\" stroke-linecap=\"round\" style=\"stroke:white;stroke-width:4\"/><line x1=\"365.3589838486225\" y1=\"180.0\" x2=\"365.3589838486225\" y2=\"150.0\" stroke-linecap=\"round\" style=\"stroke:white;stroke-width:4\"/><line x1=\"365.3589838486225\" y1=\"150.0\" x2=\"348.0384757729337\" y2=\"140.0\" stroke-linecap=\"round\" style=\"stroke:white;stroke-width:4\"/><line x1=\"348.0384757729337\" y1=\"140.0\" x2=\"339.3782217350893\" y2=\"145.0\" stroke-linecap=\"round\" style=\"stroke:white;stroke-width:4\"/><line x1=\"339.3782217350893\" y1=\"145.0\" x2=\"348.0384757729337\" y2=\"140.0\" stroke-linecap=\"round\" style=\"stroke:white;stroke-width:4\"/><line x1=\"348.0384757729337\" y1=\"140.0\" x2=\"348.0384757729337\" y2=\"130.0\" stroke-linecap=\"round\" style=\"stroke:white;stroke-width:4\"/><line x1=\"348.0384757729337\" y1=\"130.0\" x2=\"348.0384757729337\" y2=\"140.0\" stroke-linecap=\"round\" style=\"stroke:white;stroke-width:4\"/><line x1=\"348.0384757729337\" y1=\"140.0\" x2=\"365.3589838486225\" y2=\"150.0\" stroke-linecap=\"round\" style=\"stroke:white;stroke-width:4\"/><line x1=\"365.3589838486225\" y1=\"150.0\" x2=\"382.67949192431126\" y2=\"140.0\" stroke-linecap=\"round\" style=\"stroke:white;stroke-width:4\"/><line x1=\"382.67949192431126\" y1=\"140.0\" x2=\"382.67949192431126\" y2=\"130.0\" stroke-linecap=\"round\" style=\"stroke:white;stroke-width:4\"/><line x1=\"382.67949192431126\" y1=\"130.0\" x2=\"382.67949192431126\" y2=\"140.0\" stroke-linecap=\"round\" style=\"stroke:white;stroke-width:4\"/><line x1=\"382.67949192431126\" y1=\"140.0\" x2=\"391.33974596215563\" y2=\"145.0\" stroke-linecap=\"round\" style=\"stroke:white;stroke-width:4\"/><line x1=\"391.33974596215563\" y1=\"145.0\" x2=\"382.67949192431126\" y2=\"140.0\" stroke-linecap=\"round\" style=\"stroke:white;stroke-width:4\"/><line x1=\"382.67949192431126\" y1=\"140.0\" x2=\"365.3589838486225\" y2=\"150.0\" stroke-linecap=\"round\" style=\"stroke:white;stroke-width:4\"/><line x1=\"365.3589838486225\" y1=\"150.0\" x2=\"365.3589838486225\" y2=\"180.0\" stroke-linecap=\"round\" style=\"stroke:white;stroke-width:4\"/><line x1=\"365.3589838486225\" y1=\"180.0\" x2=\"400.0\" y2=\"200.0\" stroke-linecap=\"round\" style=\"stroke:white;stroke-width:4\"/><line x1=\"400.0\" y1=\"200.0\" x2=\"434.6410161513775\" y2=\"179.99999999999997\" stroke-linecap=\"round\" style=\"stroke:white;stroke-width:4\"/><line x1=\"434.6410161513775\" y1=\"179.99999999999997\" x2=\"434.6410161513775\" y2=\"149.99999999999997\" stroke-linecap=\"round\" style=\"stroke:white;stroke-width:4\"/><line x1=\"434.6410161513775\" y1=\"149.99999999999997\" x2=\"417.32050807568874\" y2=\"139.99999999999997\" stroke-linecap=\"round\" style=\"stroke:white;stroke-width:4\"/><line x1=\"417.32050807568874\" y1=\"139.99999999999997\" x2=\"408.66025403784437\" y2=\"144.99999999999997\" stroke-linecap=\"round\" style=\"stroke:white;stroke-width:4\"/><line x1=\"408.66025403784437\" y1=\"144.99999999999997\" x2=\"417.32050807568874\" y2=\"139.99999999999997\" stroke-linecap=\"round\" style=\"stroke:white;stroke-width:4\"/><line x1=\"417.32050807568874\" y1=\"139.99999999999997\" x2=\"417.32050807568874\" y2=\"129.99999999999997\" stroke-linecap=\"round\" style=\"stroke:white;stroke-width:4\"/><line x1=\"417.32050807568874\" y1=\"129.99999999999997\" x2=\"417.32050807568874\" y2=\"139.99999999999997\" stroke-linecap=\"round\" style=\"stroke:white;stroke-width:4\"/><line x1=\"417.32050807568874\" y1=\"139.99999999999997\" x2=\"434.6410161513775\" y2=\"149.99999999999997\" stroke-linecap=\"round\" style=\"stroke:white;stroke-width:4\"/><line x1=\"434.6410161513775\" y1=\"149.99999999999997\" x2=\"451.9615242270663\" y2=\"139.99999999999997\" stroke-linecap=\"round\" style=\"stroke:white;stroke-width:4\"/><line x1=\"451.9615242270663\" y1=\"139.99999999999997\" x2=\"451.9615242270663\" y2=\"129.99999999999997\" stroke-linecap=\"round\" style=\"stroke:white;stroke-width:4\"/><line x1=\"451.9615242270663\" y1=\"129.99999999999997\" x2=\"451.9615242270663\" y2=\"139.99999999999997\" stroke-linecap=\"round\" style=\"stroke:white;stroke-width:4\"/><line x1=\"451.9615242270663\" y1=\"139.99999999999997\" x2=\"460.6217782649107\" y2=\"144.99999999999997\" stroke-linecap=\"round\" style=\"stroke:white;stroke-width:4\"/><line x1=\"460.6217782649107\" y1=\"144.99999999999997\" x2=\"451.9615242270663\" y2=\"139.99999999999997\" stroke-linecap=\"round\" style=\"stroke:white;stroke-width:4\"/><line x1=\"451.9615242270663\" y1=\"139.99999999999997\" x2=\"434.6410161513775\" y2=\"149.99999999999997\" stroke-linecap=\"round\" style=\"stroke:white;stroke-width:4\"/><line x1=\"434.6410161513775\" y1=\"149.99999999999997\" x2=\"434.6410161513775\" y2=\"179.99999999999997\" stroke-linecap=\"round\" style=\"stroke:white;stroke-width:4\"/><line x1=\"434.6410161513775\" y1=\"179.99999999999997\" x2=\"460.6217782649107\" y2=\"194.99999999999997\" stroke-linecap=\"round\" style=\"stroke:white;stroke-width:4\"/><line x1=\"460.6217782649107\" y1=\"194.99999999999997\" x2=\"477.9422863405995\" y2=\"184.99999999999997\" stroke-linecap=\"round\" style=\"stroke:white;stroke-width:4\"/><line x1=\"477.9422863405995\" y1=\"184.99999999999997\" x2=\"477.9422863405995\" y2=\"174.99999999999997\" stroke-linecap=\"round\" style=\"stroke:white;stroke-width:4\"/><line x1=\"477.9422863405995\" y1=\"174.99999999999997\" x2=\"477.9422863405995\" y2=\"184.99999999999997\" stroke-linecap=\"round\" style=\"stroke:white;stroke-width:4\"/><line x1=\"477.9422863405995\" y1=\"184.99999999999997\" x2=\"486.60254037844385\" y2=\"189.99999999999997\" stroke-linecap=\"round\" style=\"stroke:white;stroke-width:4\"/><line x1=\"486.60254037844385\" y1=\"189.99999999999997\" x2=\"477.9422863405995\" y2=\"184.99999999999997\" stroke-linecap=\"round\" style=\"stroke:white;stroke-width:4\"/><line x1=\"477.9422863405995\" y1=\"184.99999999999997\" x2=\"460.6217782649107\" y2=\"194.99999999999997\" stroke-linecap=\"round\" style=\"stroke:white;stroke-width:4\"/><line x1=\"460.6217782649107\" y1=\"194.99999999999997\" x2=\"460.6217782649107\" y2=\"214.99999999999997\" stroke-linecap=\"round\" style=\"stroke:white;stroke-width:4\"/><line x1=\"460.6217782649107\" y1=\"214.99999999999997\" x2=\"469.28203230275506\" y2=\"219.99999999999997\" stroke-linecap=\"round\" style=\"stroke:white;stroke-width:4\"/><line x1=\"469.28203230275506\" y1=\"219.99999999999997\" x2=\"460.6217782649107\" y2=\"214.99999999999997\" stroke-linecap=\"round\" style=\"stroke:white;stroke-width:4\"/><line x1=\"460.6217782649107\" y1=\"214.99999999999997\" x2=\"451.9615242270663\" y2=\"219.99999999999997\" stroke-linecap=\"round\" style=\"stroke:white;stroke-width:4\"/><line x1=\"451.9615242270663\" y1=\"219.99999999999997\" x2=\"460.6217782649107\" y2=\"214.99999999999997\" stroke-linecap=\"round\" style=\"stroke:white;stroke-width:4\"/><line x1=\"460.6217782649107\" y1=\"214.99999999999997\" x2=\"460.6217782649107\" y2=\"194.99999999999997\" stroke-linecap=\"round\" style=\"stroke:white;stroke-width:4\"/><line x1=\"460.6217782649107\" y1=\"194.99999999999997\" x2=\"434.6410161513775\" y2=\"179.99999999999997\" stroke-linecap=\"round\" style=\"stroke:white;stroke-width:4\"/><line x1=\"434.6410161513775\" y1=\"179.99999999999997\" x2=\"400.0\" y2=\"200.0\" stroke-linecap=\"round\" style=\"stroke:white;stroke-width:4\"/><line x1=\"400.0\" y1=\"200.0\" x2=\"400.0\" y2=\"250.0\" stroke-linecap=\"round\" style=\"stroke:white;stroke-width:4\"/><line x1=\"400.0\" y1=\"250.0\" x2=\"356.69872981077805\" y2=\"275.0\" stroke-linecap=\"round\" style=\"stroke:white;stroke-width:4\"/><line x1=\"356.69872981077805\" y1=\"275.0\" x2=\"356.69872981077805\" y2=\"315.0\" stroke-linecap=\"round\" style=\"stroke:white;stroke-width:4\"/><line x1=\"356.69872981077805\" y1=\"315.0\" x2=\"382.6794919243112\" y2=\"330.0\" stroke-linecap=\"round\" style=\"stroke:white;stroke-width:4\"/><line x1=\"382.6794919243112\" y1=\"330.0\" x2=\"400.0\" y2=\"320.0\" stroke-linecap=\"round\" style=\"stroke:white;stroke-width:4\"/><line x1=\"400.0\" y1=\"320.0\" x2=\"400.0\" y2=\"310.0\" stroke-linecap=\"round\" style=\"stroke:white;stroke-width:4\"/><line x1=\"400.0\" y1=\"310.0\" x2=\"400.0\" y2=\"320.0\" stroke-linecap=\"round\" style=\"stroke:white;stroke-width:4\"/><line x1=\"400.0\" y1=\"320.0\" x2=\"408.66025403784437\" y2=\"325.0\" stroke-linecap=\"round\" style=\"stroke:white;stroke-width:4\"/><line x1=\"408.66025403784437\" y1=\"325.0\" x2=\"400.0\" y2=\"320.0\" stroke-linecap=\"round\" style=\"stroke:white;stroke-width:4\"/><line x1=\"400.0\" y1=\"320.0\" x2=\"382.6794919243112\" y2=\"330.0\" stroke-linecap=\"round\" style=\"stroke:white;stroke-width:4\"/><line x1=\"382.6794919243112\" y1=\"330.0\" x2=\"382.6794919243112\" y2=\"350.0\" stroke-linecap=\"round\" style=\"stroke:white;stroke-width:4\"/><line x1=\"382.6794919243112\" y1=\"350.0\" x2=\"391.3397459621556\" y2=\"355.0\" stroke-linecap=\"round\" style=\"stroke:white;stroke-width:4\"/><line x1=\"391.3397459621556\" y1=\"355.0\" x2=\"382.6794919243112\" y2=\"350.0\" stroke-linecap=\"round\" style=\"stroke:white;stroke-width:4\"/><line x1=\"382.6794919243112\" y1=\"350.0\" x2=\"374.01923788646684\" y2=\"355.0\" stroke-linecap=\"round\" style=\"stroke:white;stroke-width:4\"/><line x1=\"374.01923788646684\" y1=\"355.0\" x2=\"382.6794919243112\" y2=\"350.0\" stroke-linecap=\"round\" style=\"stroke:white;stroke-width:4\"/><line x1=\"382.6794919243112\" y1=\"350.0\" x2=\"382.6794919243112\" y2=\"330.0\" stroke-linecap=\"round\" style=\"stroke:white;stroke-width:4\"/><line x1=\"382.6794919243112\" y1=\"330.0\" x2=\"356.69872981077805\" y2=\"315.0\" stroke-linecap=\"round\" style=\"stroke:white;stroke-width:4\"/><line x1=\"356.69872981077805\" y1=\"315.0\" x2=\"330.7179676972449\" y2=\"330.0\" stroke-linecap=\"round\" style=\"stroke:white;stroke-width:4\"/><line x1=\"330.7179676972449\" y1=\"330.0\" x2=\"330.7179676972449\" y2=\"350.0\" stroke-linecap=\"round\" style=\"stroke:white;stroke-width:4\"/><line x1=\"330.7179676972449\" y1=\"350.0\" x2=\"339.37822173508926\" y2=\"355.0\" stroke-linecap=\"round\" style=\"stroke:white;stroke-width:4\"/><line x1=\"339.37822173508926\" y1=\"355.0\" x2=\"330.7179676972449\" y2=\"350.0\" stroke-linecap=\"round\" style=\"stroke:white;stroke-width:4\"/><line x1=\"330.7179676972449\" y1=\"350.0\" x2=\"322.0577136594005\" y2=\"355.0\" stroke-linecap=\"round\" style=\"stroke:white;stroke-width:4\"/><line x1=\"322.0577136594005\" y1=\"355.0\" x2=\"330.7179676972449\" y2=\"350.0\" stroke-linecap=\"round\" style=\"stroke:white;stroke-width:4\"/><line x1=\"330.7179676972449\" y1=\"350.0\" x2=\"330.7179676972449\" y2=\"330.0\" stroke-linecap=\"round\" style=\"stroke:white;stroke-width:4\"/><line x1=\"330.7179676972449\" y1=\"330.0\" x2=\"313.3974596215561\" y2=\"320.0\" stroke-linecap=\"round\" style=\"stroke:white;stroke-width:4\"/><line x1=\"313.3974596215561\" y1=\"320.0\" x2=\"304.7372055837117\" y2=\"325.0\" stroke-linecap=\"round\" style=\"stroke:white;stroke-width:4\"/><line x1=\"304.7372055837117\" y1=\"325.0\" x2=\"313.3974596215561\" y2=\"320.0\" stroke-linecap=\"round\" style=\"stroke:white;stroke-width:4\"/><line x1=\"313.3974596215561\" y1=\"320.0\" x2=\"313.3974596215561\" y2=\"310.0\" stroke-linecap=\"round\" style=\"stroke:white;stroke-width:4\"/><line x1=\"313.3974596215561\" y1=\"310.0\" x2=\"313.3974596215561\" y2=\"320.0\" stroke-linecap=\"round\" style=\"stroke:white;stroke-width:4\"/><line x1=\"313.3974596215561\" y1=\"320.0\" x2=\"330.7179676972449\" y2=\"330.0\" stroke-linecap=\"round\" style=\"stroke:white;stroke-width:4\"/><line x1=\"330.7179676972449\" y1=\"330.0\" x2=\"356.69872981077805\" y2=\"315.0\" stroke-linecap=\"round\" style=\"stroke:white;stroke-width:4\"/><line x1=\"356.69872981077805\" y1=\"315.0\" x2=\"356.69872981077805\" y2=\"275.0\" stroke-linecap=\"round\" style=\"stroke:white;stroke-width:4\"/><line x1=\"356.69872981077805\" y1=\"275.0\" x2=\"322.0577136594005\" y2=\"255.0\" stroke-linecap=\"round\" style=\"stroke:white;stroke-width:4\"/><line x1=\"322.0577136594005\" y1=\"255.0\" x2=\"296.07695154586736\" y2=\"270.0\" stroke-linecap=\"round\" style=\"stroke:white;stroke-width:4\"/><line x1=\"296.07695154586736\" y1=\"270.0\" x2=\"296.07695154586736\" y2=\"290.0\" stroke-linecap=\"round\" style=\"stroke:white;stroke-width:4\"/><line x1=\"296.07695154586736\" y1=\"290.0\" x2=\"304.7372055837117\" y2=\"295.0\" stroke-linecap=\"round\" style=\"stroke:white;stroke-width:4\"/><line x1=\"304.7372055837117\" y1=\"295.0\" x2=\"296.07695154586736\" y2=\"290.0\" stroke-linecap=\"round\" style=\"stroke:white;stroke-width:4\"/><line x1=\"296.07695154586736\" y1=\"290.0\" x2=\"287.416697508023\" y2=\"295.0\" stroke-linecap=\"round\" style=\"stroke:white;stroke-width:4\"/><line x1=\"287.416697508023\" y1=\"295.0\" x2=\"296.07695154586736\" y2=\"290.0\" stroke-linecap=\"round\" style=\"stroke:white;stroke-width:4\"/><line x1=\"296.07695154586736\" y1=\"290.0\" x2=\"296.07695154586736\" y2=\"270.0\" stroke-linecap=\"round\" style=\"stroke:white;stroke-width:4\"/><line x1=\"296.07695154586736\" y1=\"270.0\" x2=\"278.75644347017857\" y2=\"260.0\" stroke-linecap=\"round\" style=\"stroke:white;stroke-width:4\"/><line x1=\"278.75644347017857\" y1=\"260.0\" x2=\"270.0961894323342\" y2=\"265.0\" stroke-linecap=\"round\" style=\"stroke:white;stroke-width:4\"/><line x1=\"270.0961894323342\" y1=\"265.0\" x2=\"278.75644347017857\" y2=\"260.0\" stroke-linecap=\"round\" style=\"stroke:white;stroke-width:4\"/><line x1=\"278.75644347017857\" y1=\"260.0\" x2=\"278.75644347017857\" y2=\"250.0\" stroke-linecap=\"round\" style=\"stroke:white;stroke-width:4\"/><line x1=\"278.75644347017857\" y1=\"250.0\" x2=\"278.75644347017857\" y2=\"260.0\" stroke-linecap=\"round\" style=\"stroke:white;stroke-width:4\"/><line x1=\"278.75644347017857\" y1=\"260.0\" x2=\"296.07695154586736\" y2=\"270.0\" stroke-linecap=\"round\" style=\"stroke:white;stroke-width:4\"/><line x1=\"296.07695154586736\" y1=\"270.0\" x2=\"322.0577136594005\" y2=\"255.0\" stroke-linecap=\"round\" style=\"stroke:white;stroke-width:4\"/><line x1=\"322.0577136594005\" y1=\"255.0\" x2=\"322.0577136594005\" y2=\"225.0\" stroke-linecap=\"round\" style=\"stroke:white;stroke-width:4\"/><line x1=\"322.0577136594005\" y1=\"225.0\" x2=\"304.7372055837117\" y2=\"215.0\" stroke-linecap=\"round\" style=\"stroke:white;stroke-width:4\"/><line x1=\"304.7372055837117\" y1=\"215.0\" x2=\"296.07695154586736\" y2=\"220.0\" stroke-linecap=\"round\" style=\"stroke:white;stroke-width:4\"/><line x1=\"296.07695154586736\" y1=\"220.0\" x2=\"304.7372055837117\" y2=\"215.0\" stroke-linecap=\"round\" style=\"stroke:white;stroke-width:4\"/><line x1=\"304.7372055837117\" y1=\"215.0\" x2=\"304.7372055837117\" y2=\"205.0\" stroke-linecap=\"round\" style=\"stroke:white;stroke-width:4\"/><line x1=\"304.7372055837117\" y1=\"205.0\" x2=\"304.7372055837117\" y2=\"215.0\" stroke-linecap=\"round\" style=\"stroke:white;stroke-width:4\"/><line x1=\"304.7372055837117\" y1=\"215.0\" x2=\"322.0577136594005\" y2=\"225.0\" stroke-linecap=\"round\" style=\"stroke:white;stroke-width:4\"/><line x1=\"322.0577136594005\" y1=\"225.0\" x2=\"339.3782217350893\" y2=\"215.0\" stroke-linecap=\"round\" style=\"stroke:white;stroke-width:4\"/><line x1=\"339.3782217350893\" y1=\"215.0\" x2=\"339.3782217350893\" y2=\"205.0\" stroke-linecap=\"round\" style=\"stroke:white;stroke-width:4\"/><line x1=\"339.3782217350893\" y1=\"205.0\" x2=\"339.3782217350893\" y2=\"215.0\" stroke-linecap=\"round\" style=\"stroke:white;stroke-width:4\"/><line x1=\"339.3782217350893\" y1=\"215.0\" x2=\"348.0384757729337\" y2=\"220.0\" stroke-linecap=\"round\" style=\"stroke:white;stroke-width:4\"/><line x1=\"348.0384757729337\" y1=\"220.0\" x2=\"339.3782217350893\" y2=\"215.0\" stroke-linecap=\"round\" style=\"stroke:white;stroke-width:4\"/><line x1=\"339.3782217350893\" y1=\"215.0\" x2=\"322.0577136594005\" y2=\"225.0\" stroke-linecap=\"round\" style=\"stroke:white;stroke-width:4\"/><line x1=\"322.0577136594005\" y1=\"225.0\" x2=\"322.0577136594005\" y2=\"255.0\" stroke-linecap=\"round\" style=\"stroke:white;stroke-width:4\"/><line x1=\"322.0577136594005\" y1=\"255.0\" x2=\"356.69872981077805\" y2=\"275.0\" stroke-linecap=\"round\" style=\"stroke:white;stroke-width:4\"/><line x1=\"356.69872981077805\" y1=\"275.0\" x2=\"400.0\" y2=\"250.0\" stroke-linecap=\"round\" style=\"stroke:white;stroke-width:4\"/><line x1=\"400.0\" y1=\"250.0\" x2=\"443.30127018922195\" y2=\"275.0\" stroke-linecap=\"round\" style=\"stroke:white;stroke-width:4\"/><line x1=\"443.30127018922195\" y1=\"275.0\" x2=\"477.9422863405995\" y2=\"254.99999999999997\" stroke-linecap=\"round\" style=\"stroke:white;stroke-width:4\"/><line x1=\"477.9422863405995\" y1=\"254.99999999999997\" x2=\"477.9422863405995\" y2=\"224.99999999999997\" stroke-linecap=\"round\" style=\"stroke:white;stroke-width:4\"/><line x1=\"477.9422863405995\" y1=\"224.99999999999997\" x2=\"460.6217782649107\" y2=\"214.99999999999997\" stroke-linecap=\"round\" style=\"stroke:white;stroke-width:4\"/><line x1=\"460.6217782649107\" y1=\"214.99999999999997\" x2=\"451.9615242270663\" y2=\"219.99999999999997\" stroke-linecap=\"round\" style=\"stroke:white;stroke-width:4\"/><line x1=\"451.9615242270663\" y1=\"219.99999999999997\" x2=\"460.6217782649107\" y2=\"214.99999999999997\" stroke-linecap=\"round\" style=\"stroke:white;stroke-width:4\"/><line x1=\"460.6217782649107\" y1=\"214.99999999999997\" x2=\"460.6217782649107\" y2=\"204.99999999999997\" stroke-linecap=\"round\" style=\"stroke:white;stroke-width:4\"/><line x1=\"460.6217782649107\" y1=\"204.99999999999997\" x2=\"460.6217782649107\" y2=\"214.99999999999997\" stroke-linecap=\"round\" style=\"stroke:white;stroke-width:4\"/><line x1=\"460.6217782649107\" y1=\"214.99999999999997\" x2=\"477.9422863405995\" y2=\"224.99999999999997\" stroke-linecap=\"round\" style=\"stroke:white;stroke-width:4\"/><line x1=\"477.9422863405995\" y1=\"224.99999999999997\" x2=\"495.2627944162883\" y2=\"214.99999999999997\" stroke-linecap=\"round\" style=\"stroke:white;stroke-width:4\"/><line x1=\"495.2627944162883\" y1=\"214.99999999999997\" x2=\"495.2627944162883\" y2=\"204.99999999999997\" stroke-linecap=\"round\" style=\"stroke:white;stroke-width:4\"/><line x1=\"495.2627944162883\" y1=\"204.99999999999997\" x2=\"495.2627944162883\" y2=\"214.99999999999997\" stroke-linecap=\"round\" style=\"stroke:white;stroke-width:4\"/><line x1=\"495.2627944162883\" y1=\"214.99999999999997\" x2=\"503.92304845413264\" y2=\"219.99999999999997\" stroke-linecap=\"round\" style=\"stroke:white;stroke-width:4\"/><line x1=\"503.92304845413264\" y1=\"219.99999999999997\" x2=\"495.2627944162883\" y2=\"214.99999999999997\" stroke-linecap=\"round\" style=\"stroke:white;stroke-width:4\"/><line x1=\"495.2627944162883\" y1=\"214.99999999999997\" x2=\"477.9422863405995\" y2=\"224.99999999999997\" stroke-linecap=\"round\" style=\"stroke:white;stroke-width:4\"/><line x1=\"477.9422863405995\" y1=\"224.99999999999997\" x2=\"477.9422863405995\" y2=\"254.99999999999997\" stroke-linecap=\"round\" style=\"stroke:white;stroke-width:4\"/><line x1=\"477.9422863405995\" y1=\"254.99999999999997\" x2=\"503.92304845413264\" y2=\"269.99999999999994\" stroke-linecap=\"round\" style=\"stroke:white;stroke-width:4\"/><line x1=\"503.92304845413264\" y1=\"269.99999999999994\" x2=\"521.2435565298214\" y2=\"259.99999999999994\" stroke-linecap=\"round\" style=\"stroke:white;stroke-width:4\"/><line x1=\"521.2435565298214\" y1=\"259.99999999999994\" x2=\"521.2435565298214\" y2=\"249.99999999999994\" stroke-linecap=\"round\" style=\"stroke:white;stroke-width:4\"/><line x1=\"521.2435565298214\" y1=\"249.99999999999994\" x2=\"521.2435565298214\" y2=\"259.99999999999994\" stroke-linecap=\"round\" style=\"stroke:white;stroke-width:4\"/><line x1=\"521.2435565298214\" y1=\"259.99999999999994\" x2=\"529.9038105676658\" y2=\"264.99999999999994\" stroke-linecap=\"round\" style=\"stroke:white;stroke-width:4\"/><line x1=\"529.9038105676658\" y1=\"264.99999999999994\" x2=\"521.2435565298214\" y2=\"259.99999999999994\" stroke-linecap=\"round\" style=\"stroke:white;stroke-width:4\"/><line x1=\"521.2435565298214\" y1=\"259.99999999999994\" x2=\"503.9230484541326\" y2=\"269.99999999999994\" stroke-linecap=\"round\" style=\"stroke:white;stroke-width:4\"/><line x1=\"503.9230484541326\" y1=\"269.99999999999994\" x2=\"503.9230484541326\" y2=\"289.99999999999994\" stroke-linecap=\"round\" style=\"stroke:white;stroke-width:4\"/><line x1=\"503.9230484541326\" y1=\"289.99999999999994\" x2=\"512.583302491977\" y2=\"294.99999999999994\" stroke-linecap=\"round\" style=\"stroke:white;stroke-width:4\"/><line x1=\"512.583302491977\" y1=\"294.99999999999994\" x2=\"503.9230484541326\" y2=\"289.99999999999994\" stroke-linecap=\"round\" style=\"stroke:white;stroke-width:4\"/><line x1=\"503.9230484541326\" y1=\"289.99999999999994\" x2=\"495.2627944162882\" y2=\"294.99999999999994\" stroke-linecap=\"round\" style=\"stroke:white;stroke-width:4\"/><line x1=\"495.2627944162882\" y1=\"294.99999999999994\" x2=\"503.9230484541326\" y2=\"289.99999999999994\" stroke-linecap=\"round\" style=\"stroke:white;stroke-width:4\"/><line x1=\"503.9230484541326\" y1=\"289.99999999999994\" x2=\"503.9230484541326\" y2=\"269.99999999999994\" stroke-linecap=\"round\" style=\"stroke:white;stroke-width:4\"/><line x1=\"503.9230484541326\" y1=\"269.99999999999994\" x2=\"477.9422863405994\" y2=\"254.99999999999994\" stroke-linecap=\"round\" style=\"stroke:white;stroke-width:4\"/><line x1=\"477.9422863405994\" y1=\"254.99999999999994\" x2=\"443.3012701892219\" y2=\"274.99999999999994\" stroke-linecap=\"round\" style=\"stroke:white;stroke-width:4\"/><line x1=\"443.3012701892219\" y1=\"274.99999999999994\" x2=\"443.3012701892219\" y2=\"314.99999999999994\" stroke-linecap=\"round\" style=\"stroke:white;stroke-width:4\"/><line x1=\"443.3012701892219\" y1=\"314.99999999999994\" x2=\"469.28203230275506\" y2=\"329.99999999999994\" stroke-linecap=\"round\" style=\"stroke:white;stroke-width:4\"/><line x1=\"469.28203230275506\" y1=\"329.99999999999994\" x2=\"486.60254037844385\" y2=\"319.99999999999994\" stroke-linecap=\"round\" style=\"stroke:white;stroke-width:4\"/><line x1=\"486.60254037844385\" y1=\"319.99999999999994\" x2=\"486.60254037844385\" y2=\"309.99999999999994\" stroke-linecap=\"round\" style=\"stroke:white;stroke-width:4\"/><line x1=\"486.60254037844385\" y1=\"309.99999999999994\" x2=\"486.60254037844385\" y2=\"319.99999999999994\" stroke-linecap=\"round\" style=\"stroke:white;stroke-width:4\"/><line x1=\"486.60254037844385\" y1=\"319.99999999999994\" x2=\"495.2627944162882\" y2=\"324.99999999999994\" stroke-linecap=\"round\" style=\"stroke:white;stroke-width:4\"/><line x1=\"495.2627944162882\" y1=\"324.99999999999994\" x2=\"486.60254037844385\" y2=\"319.99999999999994\" stroke-linecap=\"round\" style=\"stroke:white;stroke-width:4\"/><line x1=\"486.60254037844385\" y1=\"319.99999999999994\" x2=\"469.28203230275506\" y2=\"329.99999999999994\" stroke-linecap=\"round\" style=\"stroke:white;stroke-width:4\"/><line x1=\"469.28203230275506\" y1=\"329.99999999999994\" x2=\"469.28203230275506\" y2=\"349.99999999999994\" stroke-linecap=\"round\" style=\"stroke:white;stroke-width:4\"/><line x1=\"469.28203230275506\" y1=\"349.99999999999994\" x2=\"477.9422863405994\" y2=\"354.99999999999994\" stroke-linecap=\"round\" style=\"stroke:white;stroke-width:4\"/><line x1=\"477.9422863405994\" y1=\"354.99999999999994\" x2=\"469.28203230275506\" y2=\"349.99999999999994\" stroke-linecap=\"round\" style=\"stroke:white;stroke-width:4\"/><line x1=\"469.28203230275506\" y1=\"349.99999999999994\" x2=\"460.6217782649107\" y2=\"354.99999999999994\" stroke-linecap=\"round\" style=\"stroke:white;stroke-width:4\"/><line x1=\"460.6217782649107\" y1=\"354.99999999999994\" x2=\"469.28203230275506\" y2=\"349.99999999999994\" stroke-linecap=\"round\" style=\"stroke:white;stroke-width:4\"/><line x1=\"469.28203230275506\" y1=\"349.99999999999994\" x2=\"469.28203230275506\" y2=\"329.99999999999994\" stroke-linecap=\"round\" style=\"stroke:white;stroke-width:4\"/><line x1=\"469.28203230275506\" y1=\"329.99999999999994\" x2=\"443.3012701892219\" y2=\"314.99999999999994\" stroke-linecap=\"round\" style=\"stroke:white;stroke-width:4\"/><line x1=\"443.3012701892219\" y1=\"314.99999999999994\" x2=\"417.32050807568874\" y2=\"329.99999999999994\" stroke-linecap=\"round\" style=\"stroke:white;stroke-width:4\"/><line x1=\"417.32050807568874\" y1=\"329.99999999999994\" x2=\"417.32050807568874\" y2=\"349.99999999999994\" stroke-linecap=\"round\" style=\"stroke:white;stroke-width:4\"/><line x1=\"417.32050807568874\" y1=\"349.99999999999994\" x2=\"425.9807621135331\" y2=\"354.99999999999994\" stroke-linecap=\"round\" style=\"stroke:white;stroke-width:4\"/><line x1=\"425.9807621135331\" y1=\"354.99999999999994\" x2=\"417.32050807568874\" y2=\"349.99999999999994\" stroke-linecap=\"round\" style=\"stroke:white;stroke-width:4\"/><line x1=\"417.32050807568874\" y1=\"349.99999999999994\" x2=\"408.66025403784437\" y2=\"354.99999999999994\" stroke-linecap=\"round\" style=\"stroke:white;stroke-width:4\"/><line x1=\"408.66025403784437\" y1=\"354.99999999999994\" x2=\"417.32050807568874\" y2=\"349.99999999999994\" stroke-linecap=\"round\" style=\"stroke:white;stroke-width:4\"/><line x1=\"417.32050807568874\" y1=\"349.99999999999994\" x2=\"417.32050807568874\" y2=\"329.99999999999994\" stroke-linecap=\"round\" style=\"stroke:white;stroke-width:4\"/><line x1=\"417.32050807568874\" y1=\"329.99999999999994\" x2=\"399.99999999999994\" y2=\"319.99999999999994\" stroke-linecap=\"round\" style=\"stroke:white;stroke-width:4\"/><line x1=\"399.99999999999994\" y1=\"319.99999999999994\" x2=\"391.3397459621556\" y2=\"324.99999999999994\" stroke-linecap=\"round\" style=\"stroke:white;stroke-width:4\"/><line x1=\"391.3397459621556\" y1=\"324.99999999999994\" x2=\"399.99999999999994\" y2=\"319.99999999999994\" stroke-linecap=\"round\" style=\"stroke:white;stroke-width:4\"/><line x1=\"399.99999999999994\" y1=\"319.99999999999994\" x2=\"399.99999999999994\" y2=\"309.99999999999994\" stroke-linecap=\"round\" style=\"stroke:white;stroke-width:4\"/><line x1=\"399.99999999999994\" y1=\"309.99999999999994\" x2=\"399.99999999999994\" y2=\"319.99999999999994\" stroke-linecap=\"round\" style=\"stroke:white;stroke-width:4\"/><line x1=\"399.99999999999994\" y1=\"319.99999999999994\" x2=\"417.32050807568874\" y2=\"329.99999999999994\" stroke-linecap=\"round\" style=\"stroke:white;stroke-width:4\"/><line x1=\"417.32050807568874\" y1=\"329.99999999999994\" x2=\"443.3012701892219\" y2=\"314.99999999999994\" stroke-linecap=\"round\" style=\"stroke:white;stroke-width:4\"/><line x1=\"443.3012701892219\" y1=\"314.99999999999994\" x2=\"443.3012701892219\" y2=\"274.99999999999994\" stroke-linecap=\"round\" style=\"stroke:white;stroke-width:4\"/><line x1=\"443.3012701892219\" y1=\"274.99999999999994\" x2=\"399.99999999999994\" y2=\"249.99999999999994\" stroke-linecap=\"round\" style=\"stroke:white;stroke-width:4\"/>\n",
              "        \n",
              "      <g visibility=visible transform=\"rotate(180,399.99999999999994,249.99999999999994) translate(399.99999999999994, 249.99999999999994)\">\n",
              "        <circle stroke=\"white\" stroke-width=\"3\" fill=\"transparent\" r=\"12\" cx=\"0\" cy=\"0\"/>\n",
              "        <polygon points=\"0,19 3,16 -3,16\" style=\"fill:white;stroke:white;stroke-width:2\"/>\n",
              "      </g>\n",
              "    \n",
              "      </svg>\n",
              "    "
            ],
            "text/plain": [
              "<IPython.core.display.HTML object>"
            ]
          },
          "metadata": {
            "tags": []
          }
        }
      ]
    }
  ]
}