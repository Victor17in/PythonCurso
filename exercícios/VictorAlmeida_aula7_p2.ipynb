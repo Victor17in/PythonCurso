{
  "nbformat": 4,
  "nbformat_minor": 0,
  "metadata": {
    "colab": {
      "name": "VictorAlmeida_aula7_p2.ipynb",
      "provenance": [],
      "collapsed_sections": [],
      "authorship_tag": "ABX9TyNS/4VwyMdnbEjM5Cu9o65w",
      "include_colab_link": true
    },
    "kernelspec": {
      "display_name": "Python 3",
      "name": "python3"
    }
  },
  "cells": [
    {
      "cell_type": "markdown",
      "metadata": {
        "id": "view-in-github",
        "colab_type": "text"
      },
      "source": [
        "<a href=\"https://colab.research.google.com/github/Victor17in/PythonCurso/blob/master/exerc%C3%ADcios/VictorAlmeida_aula7_p2.ipynb\" target=\"_parent\"><img src=\"https://colab.research.google.com/assets/colab-badge.svg\" alt=\"Open In Colab\"/></a>"
      ]
    },
    {
      "cell_type": "markdown",
      "metadata": {
        "id": "HdzFVK0WjyH5"
      },
      "source": [
        "## Exercícios\n",
        "https://penseallen.github.io/PensePython2e/05-cond-recur.html\n",
        "\n",
        "1. O módulo time fornece uma função, também chamada time, que devolve a Hora Média de Greenwich na “época”, que é um momento arbitrário usado como ponto de referência. Em sistemas UNIX, a época é primeiro de janeiro de 1970."
      ]
    },
    {
      "cell_type": "code",
      "metadata": {
        "id": "X4McR1Pujrkt",
        "outputId": "4f130e35-4b26-4224-a512-b02bb2774020",
        "colab": {
          "base_uri": "https://localhost:8080/",
          "height": 34
        }
      },
      "source": [
        "import time\n",
        "time.time()"
      ],
      "execution_count": null,
      "outputs": [
        {
          "output_type": "execute_result",
          "data": {
            "text/plain": [
              "1602963890.4522734"
            ]
          },
          "metadata": {
            "tags": []
          },
          "execution_count": 174
        }
      ]
    },
    {
      "cell_type": "markdown",
      "metadata": {
        "id": "6L0pv8tjj0b3"
      },
      "source": [
        "Escreva um script que leia a hora atual e a converta em um tempo em horas, minutos e segundos, mais o número de dias desde a época."
      ]
    },
    {
      "cell_type": "code",
      "metadata": {
        "id": "Q_camrcdkKKx",
        "outputId": "3e46ff32-43cb-4411-b588-ea4bca038099",
        "colab": {
          "base_uri": "https://localhost:8080/",
          "height": 136
        }
      },
      "source": [
        "import time\n",
        "t = time.strftime(str(time.localtime()))\n",
        "print(t)\n",
        "mylist = t\n",
        "print('Ano atual:',t[25:29])\n",
        "years = (int(t[25:29]) - 1970)\n",
        "print('Diferença em anos:', years)\n",
        "daysofyear = int(t[-16:-13])\n",
        "days = 365*years + daysofyear\n",
        "print('Diferença em dias:',days)\n",
        "#Horas\n",
        "if int(t[62:64]) == ValueError: #erro quando h é entre 0 e 9\n",
        "    h = int(t[62:63])\n",
        "else:\n",
        "    h = int(t[62:64])\n",
        "#print(h)\n",
        "#Minutos\n",
        "if int(t[73:75]) == ValueError: #erro quando min é entre 0 e 9\n",
        "    min = int(t[73:74])\n",
        "else:\n",
        "    min = int(t[73:75])\n",
        "#print(min)\n",
        "#Segundos\n",
        "if int(t[-39:-37]) == ValueError: #erro quando s é entre 0 e 9\n",
        "    s = int(t[-39:-38])\n",
        "else:\n",
        "    s = int(t[-39:-37])  \n",
        "#print(s)\n",
        "\n",
        "horastotais = days*24 + h\n",
        "print('Diferença em horas:', horastotais)\n",
        "mintotais = horastotais*60 + min\n",
        "print('Diferença em min:', mintotais)\n",
        "stotais = mintotais*60 + s\n",
        "print('Diferença em s:', stotais)"
      ],
      "execution_count": null,
      "outputs": [
        {
          "output_type": "stream",
          "text": [
            "time.struct_time(tm_year=2020, tm_mon=10, tm_mday=17, tm_hour=21, tm_min=21, tm_sec=10, tm_wday=5, tm_yday=291, tm_isdst=0)\n",
            "Ano atual: 2020\n",
            "Diferença em anos: 50\n",
            "Diferença em dias: 18541\n",
            "Diferença em horas: 445005\n",
            "Diferença em min: 26700321\n",
            "Diferença em s: 1602019270\n"
          ],
          "name": "stdout"
        }
      ]
    },
    {
      "cell_type": "markdown",
      "metadata": {
        "id": "I_SwsRoRkbkP"
      },
      "source": [
        "2. O último teorema de Fermat diz que não existem números inteiros a, b e c tais que `a**n + b**n == c**n` para quaisquer valores de n maiores que 2.\n",
        "   1. Escreva uma função chamada `check_fermat` que receba quatro parâmetros – a, b, c e n – e verifique se o teorema de Fermat se mantém. Se n for maior que 2 e `a**n + b**n == c**n` o programa deve imprimir, “Holy smokes, Fermat was wrong!” Senão o programa deve exibir “No, that doesn’t work.”\n",
        "   1. Escreva uma função que peça ao usuário para digitar valores para a, b, c e n, os converta em números inteiros e use `check_fermat` para verificar se violam o teorema de Fermat."
      ]
    },
    {
      "cell_type": "code",
      "metadata": {
        "id": "AhmfdSuRt-hB",
        "outputId": "5913185c-a971-4b6b-b723-83f319ee5547",
        "colab": {
          "base_uri": "https://localhost:8080/",
          "height": 119
        }
      },
      "source": [
        "#1\n",
        "import math\n",
        "a = int(input('a ='))\n",
        "b = int(input('b ='))\n",
        "n= int(input('n ='))\n",
        "\n",
        "c = math.pow(a**n + b**n,n)\n",
        "print(c.is_integer())\n",
        "print(type(c),c)\n",
        "\n",
        "def check_fermat(a,b,c,n):\n",
        "  if n <= 2:\n",
        "   print('n maior que dois')\n",
        "  elif (not(c.is_integer())):\n",
        "    print ('c não é inteiro')\n",
        "  elif (a**n + b**n == c**n):\n",
        "     print('Holy smokes, Fermat was wrong!')\n",
        "  else:\n",
        "    print('No, that does not work.')\n",
        "\n",
        "check_fermat(a,b,c,n)"
      ],
      "execution_count": null,
      "outputs": [
        {
          "output_type": "stream",
          "text": [
            "a =2\n",
            "b =1\n",
            "n =3\n",
            "True\n",
            "<class 'float'> 729.0\n",
            "No, that does not work.\n"
          ],
          "name": "stdout"
        }
      ]
    },
    {
      "cell_type": "code",
      "metadata": {
        "id": "pONaISATygOD",
        "outputId": "477c1efe-d915-4dba-8966-e4cc6a132e49",
        "colab": {
          "base_uri": "https://localhost:8080/",
          "height": 102
        }
      },
      "source": [
        "#2\n",
        "import math\n",
        "a = int(input('a ='))\n",
        "b = int(input('b ='))\n",
        "c = int(input('c ='))\n",
        "n = int(input('n ='))\n",
        "\n",
        "#c = math.pow(a**n + b**n,n)\n",
        "#print(c.is_integer())\n",
        "#print(type(c),c)\n",
        "\n",
        "def check_fermat(a,b,c,n):\n",
        "  if n <= 2:\n",
        "   print('n maior que dois')\n",
        "  elif (a**n + b**n == c**n):\n",
        "     print('Holy smokes, Fermat was wrong!')\n",
        "  else:\n",
        "    print('No, that does not work.')\n",
        "\n",
        "check_fermat(a,b,c,n)"
      ],
      "execution_count": null,
      "outputs": [
        {
          "output_type": "stream",
          "text": [
            "a =3\n",
            "b =6\n",
            "c =9\n",
            "n =3\n",
            "No, that does not work.\n"
          ],
          "name": "stdout"
        }
      ]
    },
    {
      "cell_type": "code",
      "metadata": {
        "id": "eQTi45Fekeqz",
        "outputId": "23ccc783-8b17-493e-de55-4b1a7a372287",
        "colab": {
          "base_uri": "https://localhost:8080/",
          "height": 102
        }
      },
      "source": [
        "#no good\n",
        "import numpy as np\n",
        "import sympy as sym\n",
        "from sympy import init_printing\n",
        "a = sym.Symbol('a')\n",
        "b = sym.Symbol('b')\n",
        "c = sym.Symbol('c')\n",
        "\n",
        "x = int(input('a'))\n",
        "y = int(input('b'))\n",
        "z= int(input('c'))\n",
        "w= int(input('n'))\n",
        "def check_fermat(a,b,c,n):\n",
        "  if n > 2  and (a**n + b**n == c**n):\n",
        "    print('Holy smokes, Fermat was wrong!')\n",
        "  elif n <= 2:\n",
        "    print('n deve ser maior do que 2.')\n",
        "  else:\n",
        "    print('No, that does not work.')\n",
        "check_fermat(x,y,z,w)\n",
        "\n"
      ],
      "execution_count": null,
      "outputs": [
        {
          "output_type": "stream",
          "text": [
            "a3\n",
            "b3\n",
            "c3\n",
            "n2\n",
            "n deve ser maior do que 2.\n"
          ],
          "name": "stdout"
        }
      ]
    },
    {
      "cell_type": "markdown",
      "metadata": {
        "id": "-BbQdpNRyStr"
      },
      "source": [
        "3. Há um teste simples para ver se é possível formar um triângulo para quaisquer três comprimentos: Se algum dos três comprimentos for maior que a soma dos outros dois, então você não pode formar um triângulo. Senão, você pode. (Se a soma de dois comprimentos igualar o terceiro, eles formam um triângulo chamado “degenerado”.)\n",
        "   1. Escreva uma função chamada `is_triangle` que receba três números inteiros como argumentos, e que imprima “Yes” ou “No”, dependendo da possibilidade de formar ou não um triângulo de gravetos com os comprimentos dados.\n",
        "   1. Escreva uma função que peça ao usuário para digitar três comprimentos de gravetos, os converta em números inteiros e use `is_triangle` para verificar se os gravetos com os comprimentos dados podem formar um triângulo."
      ]
    },
    {
      "cell_type": "code",
      "metadata": {
        "id": "277dNlXZyYOO",
        "outputId": "f2dc8625-b035-4535-b983-7be104dedf99",
        "colab": {
          "base_uri": "https://localhost:8080/",
          "height": 85
        }
      },
      "source": [
        "#1 e 2\n",
        "def is_triangle(a,b,c):\n",
        "  if a + b < c or a + c < b or b + c < a:\n",
        "    print('No')\n",
        "  else:\n",
        "    print('Yes')\n",
        "def comprimento():\n",
        "  a = int(input('Interiro a:'))\n",
        "  b = int(input('Interiro b:'))  \n",
        "  c = int(input('Interiro c:'))\n",
        "  is_triangle(a,b,c)\n",
        "comprimento()"
      ],
      "execution_count": null,
      "outputs": [
        {
          "output_type": "stream",
          "text": [
            "Interiro a:3\n",
            "Interiro b:3\n",
            "Interiro c:3\n",
            "Yes\n"
          ],
          "name": "stdout"
        }
      ]
    },
    {
      "cell_type": "markdown",
      "metadata": {
        "id": "AnkKUh1T71p5"
      },
      "source": [
        "4. Leia a próxima função e veja se consegue compreender o que ela faz (veja os exemplos no Capítulo 4). Então execute-a e veja se acertou."
      ]
    },
    {
      "cell_type": "code",
      "metadata": {
        "id": "V9b7_Q5kGON0",
        "outputId": "bb3885d0-67d4-4f27-be6b-e3c6fd96c62c",
        "colab": {
          "base_uri": "https://localhost:8080/",
          "height": 170
        }
      },
      "source": [
        "# declarações para instalar e importar o módulo Turtle no âmbito do Google Colab\n",
        "!pip3 install ColabTurtle\n",
        "import ColabTurtle"
      ],
      "execution_count": 2,
      "outputs": [
        {
          "output_type": "stream",
          "text": [
            "Collecting ColabTurtle\n",
            "  Downloading https://files.pythonhosted.org/packages/49/01/6da7091c2c6c917cce99c000b89acb6aa27b66ef6eafc0c0ccf59b98694f/ColabTurtle-2.0.0.tar.gz\n",
            "Building wheels for collected packages: ColabTurtle\n",
            "  Building wheel for ColabTurtle (setup.py) ... \u001b[?25l\u001b[?25hdone\n",
            "  Created wheel for ColabTurtle: filename=ColabTurtle-2.0.0-cp36-none-any.whl size=4032 sha256=8efbe4830d270bcfc4048992547c79df8d077465ec7cc4eed7c5984a2d6758ac\n",
            "  Stored in directory: /root/.cache/pip/wheels/a8/29/ec/ad346f0042ae467cc74f4378916348faf975b07890651dcae7\n",
            "Successfully built ColabTurtle\n",
            "Installing collected packages: ColabTurtle\n",
            "Successfully installed ColabTurtle-2.0.0\n"
          ],
          "name": "stdout"
        }
      ]
    },
    {
      "cell_type": "code",
      "metadata": {
        "id": "imSgz2vx79vL",
        "outputId": "627a9d99-6673-4623-c454-9e91c0689a8c",
        "colab": {
          "base_uri": "https://localhost:8080/",
          "height": 521
        }
      },
      "source": [
        "import ColabTurtle.Turtle as t\n",
        "t.initializeTurtle()\n",
        "t.speed(10)\n",
        "def draw(t, length, n):\n",
        "    if n == 0:\n",
        "        return\n",
        "    angle = 50\n",
        "    t.forward(length * n)\n",
        "    t.left(angle)\n",
        "    draw(t, length, n-1)\n",
        "    t.right(2 * angle)\n",
        "    draw(t, length, n-1)\n",
        "    t.left(angle)\n",
        "    t.backward(length * n)\n",
        "\n",
        "draw(t,10, 5)"
      ],
      "execution_count": null,
      "outputs": [
        {
          "output_type": "display_data",
          "data": {
            "text/html": [
              "\n",
              "      <svg width=\"800\" height=\"500\">\n",
              "        <rect width=\"100%\" height=\"100%\" fill=\"black\"/>\n",
              "        <line x1=\"400\" y1=\"250\" x2=\"400.0\" y2=\"200.0\" stroke-linecap=\"round\" style=\"stroke:white;stroke-width:4\"/><line x1=\"400.0\" y1=\"200.0\" x2=\"369.3582222752409\" y2=\"174.28849561253844\" stroke-linecap=\"round\" style=\"stroke:white;stroke-width:4\"/><line x1=\"369.3582222752409\" y1=\"174.28849561253844\" x2=\"339.8139896848747\" y2=\"179.49794094254634\" stroke-linecap=\"round\" style=\"stroke:white;stroke-width:4\"/><line x1=\"339.8139896848747\" y1=\"179.49794094254634\" x2=\"329.8139896848747\" y2=\"196.8184490182351\" stroke-linecap=\"round\" style=\"stroke:white;stroke-width:4\"/><line x1=\"329.8139896848747\" y1=\"196.8184490182351\" x2=\"333.2341911181314\" y2=\"206.21537522609418\" stroke-linecap=\"round\" style=\"stroke:white;stroke-width:4\"/><line x1=\"333.2341911181314\" y1=\"206.21537522609418\" x2=\"329.8139896848747\" y2=\"196.8184490182351\" stroke-linecap=\"round\" style=\"stroke:white;stroke-width:4\"/><line x1=\"329.8139896848747\" y1=\"196.8184490182351\" x2=\"319.96591215475263\" y2=\"198.5549307949044\" stroke-linecap=\"round\" style=\"stroke:white;stroke-width:4\"/><line x1=\"319.96591215475263\" y1=\"198.5549307949044\" x2=\"329.8139896848747\" y2=\"196.8184490182351\" stroke-linecap=\"round\" style=\"stroke:white;stroke-width:4\"/><line x1=\"329.8139896848747\" y1=\"196.8184490182351\" x2=\"339.8139896848747\" y2=\"179.49794094254634\" stroke-linecap=\"round\" style=\"stroke:white;stroke-width:4\"/><line x1=\"339.8139896848747\" y1=\"179.49794094254634\" x2=\"324.49310082249514\" y2=\"166.64218874881556\" stroke-linecap=\"round\" style=\"stroke:white;stroke-width:4\"/><line x1=\"324.49310082249514\" y1=\"166.64218874881556\" x2=\"314.6450232923731\" y2=\"168.37867052548486\" stroke-linecap=\"round\" style=\"stroke:white;stroke-width:4\"/><line x1=\"314.6450232923731\" y1=\"168.37867052548486\" x2=\"324.49310082249514\" y2=\"166.64218874881556\" stroke-linecap=\"round\" style=\"stroke:white;stroke-width:4\"/><line x1=\"324.49310082249514\" y1=\"166.64218874881556\" x2=\"324.49310082249514\" y2=\"156.64218874881556\" stroke-linecap=\"round\" style=\"stroke:white;stroke-width:4\"/><line x1=\"324.49310082249514\" y1=\"156.64218874881556\" x2=\"324.49310082249514\" y2=\"166.64218874881556\" stroke-linecap=\"round\" style=\"stroke:white;stroke-width:4\"/><line x1=\"324.49310082249514\" y1=\"166.64218874881556\" x2=\"339.8139896848747\" y2=\"179.49794094254634\" stroke-linecap=\"round\" style=\"stroke:white;stroke-width:4\"/><line x1=\"339.8139896848747\" y1=\"179.49794094254634\" x2=\"369.3582222752409\" y2=\"174.28849561253844\" stroke-linecap=\"round\" style=\"stroke:white;stroke-width:4\"/><line x1=\"369.3582222752409\" y1=\"174.28849561253844\" x2=\"369.3582222752409\" y2=\"144.28849561253844\" stroke-linecap=\"round\" style=\"stroke:white;stroke-width:4\"/><line x1=\"369.3582222752409\" y1=\"144.28849561253844\" x2=\"354.03733341286136\" y2=\"131.43274341880766\" stroke-linecap=\"round\" style=\"stroke:white;stroke-width:4\"/><line x1=\"354.03733341286136\" y1=\"131.43274341880766\" x2=\"344.1892558827393\" y2=\"133.16922519547697\" stroke-linecap=\"round\" style=\"stroke:white;stroke-width:4\"/><line x1=\"344.1892558827393\" y1=\"133.16922519547697\" x2=\"354.03733341286136\" y2=\"131.43274341880766\" stroke-linecap=\"round\" style=\"stroke:white;stroke-width:4\"/><line x1=\"354.03733341286136\" y1=\"131.43274341880766\" x2=\"354.03733341286136\" y2=\"121.43274341880766\" stroke-linecap=\"round\" style=\"stroke:white;stroke-width:4\"/><line x1=\"354.03733341286136\" y1=\"121.43274341880766\" x2=\"354.03733341286136\" y2=\"131.43274341880766\" stroke-linecap=\"round\" style=\"stroke:white;stroke-width:4\"/><line x1=\"354.03733341286136\" y1=\"131.43274341880766\" x2=\"369.3582222752409\" y2=\"144.28849561253844\" stroke-linecap=\"round\" style=\"stroke:white;stroke-width:4\"/><line x1=\"369.3582222752409\" y1=\"144.28849561253844\" x2=\"384.67911113762045\" y2=\"131.43274341880766\" stroke-linecap=\"round\" style=\"stroke:white;stroke-width:4\"/><line x1=\"384.67911113762045\" y1=\"131.43274341880766\" x2=\"384.67911113762045\" y2=\"121.43274341880766\" stroke-linecap=\"round\" style=\"stroke:white;stroke-width:4\"/><line x1=\"384.67911113762045\" y1=\"121.43274341880766\" x2=\"384.67911113762045\" y2=\"131.43274341880766\" stroke-linecap=\"round\" style=\"stroke:white;stroke-width:4\"/><line x1=\"384.67911113762045\" y1=\"131.43274341880766\" x2=\"394.5271886677425\" y2=\"133.16922519547697\" stroke-linecap=\"round\" style=\"stroke:white;stroke-width:4\"/><line x1=\"394.5271886677425\" y1=\"133.16922519547697\" x2=\"384.67911113762045\" y2=\"131.43274341880766\" stroke-linecap=\"round\" style=\"stroke:white;stroke-width:4\"/><line x1=\"384.67911113762045\" y1=\"131.43274341880766\" x2=\"369.3582222752409\" y2=\"144.28849561253844\" stroke-linecap=\"round\" style=\"stroke:white;stroke-width:4\"/><line x1=\"369.3582222752409\" y1=\"144.28849561253844\" x2=\"369.3582222752409\" y2=\"174.28849561253844\" stroke-linecap=\"round\" style=\"stroke:white;stroke-width:4\"/><line x1=\"369.3582222752409\" y1=\"174.28849561253844\" x2=\"400.0\" y2=\"200.0\" stroke-linecap=\"round\" style=\"stroke:white;stroke-width:4\"/><line x1=\"400.0\" y1=\"200.0\" x2=\"430.6417777247591\" y2=\"174.2884956125384\" stroke-linecap=\"round\" style=\"stroke:white;stroke-width:4\"/><line x1=\"430.6417777247591\" y1=\"174.2884956125384\" x2=\"430.6417777247591\" y2=\"144.2884956125384\" stroke-linecap=\"round\" style=\"stroke:white;stroke-width:4\"/><line x1=\"430.6417777247591\" y1=\"144.2884956125384\" x2=\"415.32088886237955\" y2=\"131.43274341880763\" stroke-linecap=\"round\" style=\"stroke:white;stroke-width:4\"/><line x1=\"415.32088886237955\" y1=\"131.43274341880763\" x2=\"405.4728113322575\" y2=\"133.16922519547694\" stroke-linecap=\"round\" style=\"stroke:white;stroke-width:4\"/><line x1=\"405.4728113322575\" y1=\"133.16922519547694\" x2=\"415.32088886237955\" y2=\"131.43274341880763\" stroke-linecap=\"round\" style=\"stroke:white;stroke-width:4\"/><line x1=\"415.32088886237955\" y1=\"131.43274341880763\" x2=\"415.32088886237955\" y2=\"121.43274341880763\" stroke-linecap=\"round\" style=\"stroke:white;stroke-width:4\"/><line x1=\"415.32088886237955\" y1=\"121.43274341880763\" x2=\"415.32088886237955\" y2=\"131.43274341880763\" stroke-linecap=\"round\" style=\"stroke:white;stroke-width:4\"/><line x1=\"415.32088886237955\" y1=\"131.43274341880763\" x2=\"430.6417777247591\" y2=\"144.2884956125384\" stroke-linecap=\"round\" style=\"stroke:white;stroke-width:4\"/><line x1=\"430.6417777247591\" y1=\"144.2884956125384\" x2=\"445.96266658713864\" y2=\"131.43274341880763\" stroke-linecap=\"round\" style=\"stroke:white;stroke-width:4\"/><line x1=\"445.96266658713864\" y1=\"131.43274341880763\" x2=\"445.96266658713864\" y2=\"121.43274341880763\" stroke-linecap=\"round\" style=\"stroke:white;stroke-width:4\"/><line x1=\"445.96266658713864\" y1=\"121.43274341880763\" x2=\"445.96266658713864\" y2=\"131.43274341880763\" stroke-linecap=\"round\" style=\"stroke:white;stroke-width:4\"/><line x1=\"445.96266658713864\" y1=\"131.43274341880763\" x2=\"455.8107441172607\" y2=\"133.16922519547694\" stroke-linecap=\"round\" style=\"stroke:white;stroke-width:4\"/><line x1=\"455.8107441172607\" y1=\"133.16922519547694\" x2=\"445.96266658713864\" y2=\"131.43274341880763\" stroke-linecap=\"round\" style=\"stroke:white;stroke-width:4\"/><line x1=\"445.96266658713864\" y1=\"131.43274341880763\" x2=\"430.6417777247591\" y2=\"144.2884956125384\" stroke-linecap=\"round\" style=\"stroke:white;stroke-width:4\"/><line x1=\"430.6417777247591\" y1=\"144.2884956125384\" x2=\"430.6417777247591\" y2=\"174.2884956125384\" stroke-linecap=\"round\" style=\"stroke:white;stroke-width:4\"/><line x1=\"430.6417777247591\" y1=\"174.2884956125384\" x2=\"460.1860103151253\" y2=\"179.49794094254634\" stroke-linecap=\"round\" style=\"stroke:white;stroke-width:4\"/><line x1=\"460.1860103151253\" y1=\"179.49794094254634\" x2=\"475.50689917750486\" y2=\"166.64218874881556\" stroke-linecap=\"round\" style=\"stroke:white;stroke-width:4\"/><line x1=\"475.50689917750486\" y1=\"166.64218874881556\" x2=\"475.50689917750486\" y2=\"156.64218874881556\" stroke-linecap=\"round\" style=\"stroke:white;stroke-width:4\"/><line x1=\"475.50689917750486\" y1=\"156.64218874881556\" x2=\"475.50689917750486\" y2=\"166.64218874881556\" stroke-linecap=\"round\" style=\"stroke:white;stroke-width:4\"/><line x1=\"475.50689917750486\" y1=\"166.64218874881556\" x2=\"485.3549767076269\" y2=\"168.37867052548486\" stroke-linecap=\"round\" style=\"stroke:white;stroke-width:4\"/><line x1=\"485.3549767076269\" y1=\"168.37867052548486\" x2=\"475.50689917750486\" y2=\"166.64218874881556\" stroke-linecap=\"round\" style=\"stroke:white;stroke-width:4\"/><line x1=\"475.50689917750486\" y1=\"166.64218874881556\" x2=\"460.1860103151253\" y2=\"179.49794094254634\" stroke-linecap=\"round\" style=\"stroke:white;stroke-width:4\"/><line x1=\"460.1860103151253\" y1=\"179.49794094254634\" x2=\"470.1860103151253\" y2=\"196.8184490182351\" stroke-linecap=\"round\" style=\"stroke:white;stroke-width:4\"/><line x1=\"470.1860103151253\" y1=\"196.8184490182351\" x2=\"480.03408784524737\" y2=\"198.5549307949044\" stroke-linecap=\"round\" style=\"stroke:white;stroke-width:4\"/><line x1=\"480.03408784524737\" y1=\"198.5549307949044\" x2=\"470.1860103151253\" y2=\"196.8184490182351\" stroke-linecap=\"round\" style=\"stroke:white;stroke-width:4\"/><line x1=\"470.1860103151253\" y1=\"196.8184490182351\" x2=\"466.7658088818686\" y2=\"206.21537522609418\" stroke-linecap=\"round\" style=\"stroke:white;stroke-width:4\"/><line x1=\"466.7658088818686\" y1=\"206.21537522609418\" x2=\"470.1860103151253\" y2=\"196.8184490182351\" stroke-linecap=\"round\" style=\"stroke:white;stroke-width:4\"/><line x1=\"470.1860103151253\" y1=\"196.8184490182351\" x2=\"460.1860103151253\" y2=\"179.49794094254634\" stroke-linecap=\"round\" style=\"stroke:white;stroke-width:4\"/><line x1=\"460.1860103151253\" y1=\"179.49794094254634\" x2=\"430.6417777247591\" y2=\"174.28849561253844\" stroke-linecap=\"round\" style=\"stroke:white;stroke-width:4\"/><line x1=\"430.6417777247591\" y1=\"174.28849561253844\" x2=\"400.0\" y2=\"200.00000000000003\" stroke-linecap=\"round\" style=\"stroke:white;stroke-width:4\"/><line x1=\"400.0\" y1=\"200.00000000000003\" x2=\"400.0\" y2=\"250.00000000000003\" stroke-linecap=\"round\" style=\"stroke:white;stroke-width:4\"/>\n",
              "        \n",
              "      <g visibility=visible transform=\"rotate(180,400.0,250.00000000000003) translate(400.0, 250.00000000000003)\">\n",
              "        <circle stroke=\"white\" stroke-width=\"3\" fill=\"transparent\" r=\"12\" cx=\"0\" cy=\"0\"/>\n",
              "        <polygon points=\"0,19 3,16 -3,16\" style=\"fill:white;stroke:white;stroke-width:2\"/>\n",
              "      </g>\n",
              "    \n",
              "      </svg>\n",
              "    "
            ],
            "text/plain": [
              "<IPython.core.display.HTML object>"
            ]
          },
          "metadata": {
            "tags": []
          }
        }
      ]
    },
    {
      "cell_type": "markdown",
      "metadata": {
        "id": "L9BnUAUc8AR9"
      },
      "source": [
        "A curva de Koch é um fractal que parece com o da Figura abaixo. \n",
        "![](https://github.com/PenseAllen/PensePython2e/raw/master/fig/tnkp_0502.png)\n",
        "\n",
        "Para desenhar uma curva de Koch com o comprimento x, tudo o que você tem que fazer é:\n",
        "\n",
        "1. Desenhe uma curva de Koch com o comprimento x/3.\n",
        "\n",
        "1. Vire 60 graus à esquerda.\n",
        "\n",
        "1. Desenhe uma curva de Koch com o comprimento x/3.\n",
        "\n",
        "1. Vire 120 graus à direita.\n",
        "\n",
        "1. Desenhe uma curva de Koch com o comprimento x/3.\n",
        "\n",
        "1. Vire 60 graus à esquerda.\n",
        "\n",
        "1. Desenhe uma curva de Koch com o comprimento x/3.\n",
        "\n",
        "\n",
        "A exceção é se x for menor que 3: neste caso, você pode desenhar apenas uma linha reta com o comprimento x.\n",
        "\n",
        "1. Escreva uma função chamada `koch` que receba um `ColabTurtle` (ou turtle) e um comprimento como parâmetros, e use o `ColabTurtle` para desenhar uma curva de Koch com o comprimento dado.\n",
        "\n",
        "1. Escreva uma função chamada `snowflake` que desenhe três curvas de Koch para fazer o traçado de um floco de neve.\n",
        "\n",
        "1. A curva de Koch pode ser generalizada de vários modos. Veja exemplos em http://en.wikipedia.org/wiki/Koch_snowflake e implemente o seu favorito."
      ]
    },
    {
      "cell_type": "code",
      "metadata": {
        "id": "Nk_9lBLAVFQ2",
        "outputId": "a99de479-0873-4d00-caef-e214c5cd6093",
        "colab": {
          "base_uri": "https://localhost:8080/",
          "height": 521
        }
      },
      "source": [
        "#1\n",
        "import ColabTurtle.Turtle as t\n",
        "t.initializeTurtle()\n",
        "t.speed(10)\n",
        "def koch(t, length):\n",
        "    if length <= 3:\n",
        "        #t.forward(int(length))\n",
        "        return\n",
        "    angle = 60\n",
        "    t.forward(int(length/3))\n",
        "    t.left(angle)\n",
        "    length = length/3\n",
        "    koch(t, length)\n",
        "    t.right(2 * angle)\n",
        "    koch(t, length)\n",
        "    t.left(angle)\n",
        "    t.penup()\n",
        "    t.backward(int(length/3))\n",
        "    t.pendown()\n",
        "\n",
        "koch(t,360)"
      ],
      "execution_count": 49,
      "outputs": [
        {
          "output_type": "display_data",
          "data": {
            "text/html": [
              "\n",
              "      <svg width=\"800\" height=\"500\">\n",
              "        <rect width=\"100%\" height=\"100%\" fill=\"black\"/>\n",
              "        <line x1=\"400\" y1=\"250\" x2=\"400.0\" y2=\"130.0\" stroke-linecap=\"round\" style=\"stroke:white;stroke-width:4\"/><line x1=\"400.0\" y1=\"130.0\" x2=\"365.3589838486225\" y2=\"110.0\" stroke-linecap=\"round\" style=\"stroke:white;stroke-width:4\"/><line x1=\"365.3589838486225\" y1=\"110.0\" x2=\"354.1006535994248\" y2=\"116.5\" stroke-linecap=\"round\" style=\"stroke:white;stroke-width:4\"/><line x1=\"354.1006535994248\" y1=\"116.5\" x2=\"354.1006535994248\" y2=\"120.5\" stroke-linecap=\"round\" style=\"stroke:white;stroke-width:4\"/><line x1=\"354.1006535994248\" y1=\"120.5\" x2=\"354.9666790032092\" y2=\"121.0\" stroke-linecap=\"round\" style=\"stroke:white;stroke-width:4\"/><line x1=\"354.9666790032092\" y1=\"121.0\" x2=\"354.1006535994248\" y2=\"121.5\" stroke-linecap=\"round\" style=\"stroke:white;stroke-width:4\"/><line x1=\"354.1006535994248\" y1=\"120.5\" x2=\"350.63655198428705\" y2=\"118.5\" stroke-linecap=\"round\" style=\"stroke:white;stroke-width:4\"/><line x1=\"350.63655198428705\" y1=\"118.5\" x2=\"349.77052658050263\" y2=\"119.0\" stroke-linecap=\"round\" style=\"stroke:white;stroke-width:4\"/><line x1=\"349.77052658050263\" y1=\"119.0\" x2=\"349.77052658050263\" y2=\"118.0\" stroke-linecap=\"round\" style=\"stroke:white;stroke-width:4\"/><line x1=\"354.1006535994248\" y1=\"116.5\" x2=\"354.1006535994248\" y2=\"103.5\" stroke-linecap=\"round\" style=\"stroke:white;stroke-width:4\"/><line x1=\"354.1006535994248\" y1=\"103.5\" x2=\"350.63655198428705\" y2=\"101.5\" stroke-linecap=\"round\" style=\"stroke:white;stroke-width:4\"/><line x1=\"350.63655198428705\" y1=\"101.5\" x2=\"349.77052658050263\" y2=\"102.0\" stroke-linecap=\"round\" style=\"stroke:white;stroke-width:4\"/><line x1=\"349.77052658050263\" y1=\"102.0\" x2=\"349.77052658050263\" y2=\"101.0\" stroke-linecap=\"round\" style=\"stroke:white;stroke-width:4\"/><line x1=\"350.63655198428705\" y1=\"101.5\" x2=\"354.1006535994248\" y2=\"99.5\" stroke-linecap=\"round\" style=\"stroke:white;stroke-width:4\"/><line x1=\"354.1006535994248\" y1=\"99.5\" x2=\"354.1006535994248\" y2=\"98.5\" stroke-linecap=\"round\" style=\"stroke:white;stroke-width:4\"/><line x1=\"354.1006535994248\" y1=\"98.5\" x2=\"354.9666790032092\" y2=\"99.0\" stroke-linecap=\"round\" style=\"stroke:white;stroke-width:4\"/><line x1=\"365.3589838486225\" y1=\"110.0\" x2=\"400.0\" y2=\"89.99999999999999\" stroke-linecap=\"round\" style=\"stroke:white;stroke-width:4\"/><line x1=\"400.0\" y1=\"89.99999999999999\" x2=\"400.0\" y2=\"76.99999999999999\" stroke-linecap=\"round\" style=\"stroke:white;stroke-width:4\"/><line x1=\"400.0\" y1=\"76.99999999999999\" x2=\"396.53589838486226\" y2=\"74.99999999999999\" stroke-linecap=\"round\" style=\"stroke:white;stroke-width:4\"/><line x1=\"396.53589838486226\" y1=\"74.99999999999999\" x2=\"395.66987298107784\" y2=\"75.49999999999999\" stroke-linecap=\"round\" style=\"stroke:white;stroke-width:4\"/><line x1=\"395.66987298107784\" y1=\"75.49999999999999\" x2=\"395.66987298107784\" y2=\"74.49999999999999\" stroke-linecap=\"round\" style=\"stroke:white;stroke-width:4\"/><line x1=\"396.53589838486226\" y1=\"74.99999999999999\" x2=\"400.0\" y2=\"72.99999999999999\" stroke-linecap=\"round\" style=\"stroke:white;stroke-width:4\"/><line x1=\"400.0\" y1=\"72.99999999999999\" x2=\"400.0\" y2=\"71.99999999999999\" stroke-linecap=\"round\" style=\"stroke:white;stroke-width:4\"/><line x1=\"400.0\" y1=\"71.99999999999999\" x2=\"400.8660254037844\" y2=\"72.49999999999999\" stroke-linecap=\"round\" style=\"stroke:white;stroke-width:4\"/><line x1=\"400.0\" y1=\"76.99999999999999\" x2=\"411.2583302491977\" y2=\"83.49999999999999\" stroke-linecap=\"round\" style=\"stroke:white;stroke-width:4\"/><line x1=\"411.2583302491977\" y1=\"83.49999999999999\" x2=\"414.7224318643354\" y2=\"81.49999999999999\" stroke-linecap=\"round\" style=\"stroke:white;stroke-width:4\"/><line x1=\"414.7224318643354\" y1=\"81.49999999999999\" x2=\"414.7224318643354\" y2=\"80.49999999999999\" stroke-linecap=\"round\" style=\"stroke:white;stroke-width:4\"/><line x1=\"414.7224318643354\" y1=\"80.49999999999999\" x2=\"415.58845726811984\" y2=\"80.99999999999999\" stroke-linecap=\"round\" style=\"stroke:white;stroke-width:4\"/><line x1=\"414.7224318643354\" y1=\"81.49999999999999\" x2=\"414.7224318643354\" y2=\"85.49999999999999\" stroke-linecap=\"round\" style=\"stroke:white;stroke-width:4\"/><line x1=\"414.7224318643354\" y1=\"85.49999999999999\" x2=\"415.58845726811984\" y2=\"85.99999999999999\" stroke-linecap=\"round\" style=\"stroke:white;stroke-width:4\"/><line x1=\"415.58845726811984\" y1=\"85.99999999999999\" x2=\"414.7224318643354\" y2=\"86.49999999999999\" stroke-linecap=\"round\" style=\"stroke:white;stroke-width:4\"/>\n",
              "        \n",
              "      <g visibility=visible transform=\"rotate(180,400.0,130.0) translate(400.0, 130.0)\">\n",
              "        <circle stroke=\"white\" stroke-width=\"3\" fill=\"transparent\" r=\"12\" cx=\"0\" cy=\"0\"/>\n",
              "        <polygon points=\"0,19 3,16 -3,16\" style=\"fill:white;stroke:white;stroke-width:2\"/>\n",
              "      </g>\n",
              "    \n",
              "      </svg>\n",
              "    "
            ],
            "text/plain": [
              "<IPython.core.display.HTML object>"
            ]
          },
          "metadata": {
            "tags": []
          }
        }
      ]
    },
    {
      "cell_type": "code",
      "metadata": {
        "id": "o0WC4ivNXRpy",
        "outputId": "7db20633-f2d2-4cda-f677-4102bb225edf",
        "colab": {
          "base_uri": "https://localhost:8080/",
          "height": 521
        }
      },
      "source": [
        "#2\n",
        "import ColabTurtle.Turtle as t\n",
        "t.initializeTurtle()\n",
        "t.speed(10)\n",
        "def snowflake(t, length):\n",
        "    if length <= 3:\n",
        "        return\n",
        "    angle = 60\n",
        "    koch(t, length)\n",
        "    t.left(angle)\n",
        "    koch(t, length)\n",
        "    t.left(angle)\n",
        "    koch(t, length)\n",
        "    t.left(angle)\n",
        "\n",
        "snowflake(t,360)"
      ],
      "execution_count": 48,
      "outputs": [
        {
          "output_type": "display_data",
          "data": {
            "text/html": [
              "\n",
              "      <svg width=\"800\" height=\"500\">\n",
              "        <rect width=\"100%\" height=\"100%\" fill=\"black\"/>\n",
              "        <line x1=\"400\" y1=\"250\" x2=\"400.0\" y2=\"130.0\" stroke-linecap=\"round\" style=\"stroke:white;stroke-width:4\"/><line x1=\"400.0\" y1=\"130.0\" x2=\"365.3589838486225\" y2=\"110.0\" stroke-linecap=\"round\" style=\"stroke:white;stroke-width:4\"/><line x1=\"365.3589838486225\" y1=\"110.0\" x2=\"354.1006535994248\" y2=\"116.5\" stroke-linecap=\"round\" style=\"stroke:white;stroke-width:4\"/><line x1=\"354.1006535994248\" y1=\"116.5\" x2=\"354.1006535994248\" y2=\"120.5\" stroke-linecap=\"round\" style=\"stroke:white;stroke-width:4\"/><line x1=\"354.1006535994248\" y1=\"120.5\" x2=\"354.9666790032092\" y2=\"121.0\" stroke-linecap=\"round\" style=\"stroke:white;stroke-width:4\"/><line x1=\"354.9666790032092\" y1=\"121.0\" x2=\"355.8327044069936\" y2=\"120.5\" stroke-linecap=\"round\" style=\"stroke:white;stroke-width:4\"/><line x1=\"355.8327044069936\" y1=\"120.5\" x2=\"355.8327044069936\" y2=\"121.5\" stroke-linecap=\"round\" style=\"stroke:white;stroke-width:4\"/><line x1=\"355.8327044069936\" y1=\"121.5\" x2=\"354.9666790032092\" y2=\"122.0\" stroke-linecap=\"round\" style=\"stroke:white;stroke-width:4\"/><line x1=\"354.9666790032092\" y1=\"122.0\" x2=\"354.9666790032092\" y2=\"123.0\" stroke-linecap=\"round\" style=\"stroke:white;stroke-width:4\"/><line x1=\"354.9666790032092\" y1=\"123.0\" x2=\"354.1006535994248\" y2=\"122.5\" stroke-linecap=\"round\" style=\"stroke:white;stroke-width:4\"/><line x1=\"354.1006535994248\" y1=\"121.5\" x2=\"350.63655198428705\" y2=\"119.5\" stroke-linecap=\"round\" style=\"stroke:white;stroke-width:4\"/><line x1=\"350.63655198428705\" y1=\"119.5\" x2=\"349.77052658050263\" y2=\"120.0\" stroke-linecap=\"round\" style=\"stroke:white;stroke-width:4\"/><line x1=\"349.77052658050263\" y1=\"120.0\" x2=\"349.77052658050263\" y2=\"121.0\" stroke-linecap=\"round\" style=\"stroke:white;stroke-width:4\"/><line x1=\"349.77052658050263\" y1=\"121.0\" x2=\"348.9045011767182\" y2=\"120.5\" stroke-linecap=\"round\" style=\"stroke:white;stroke-width:4\"/><line x1=\"348.9045011767182\" y1=\"120.5\" x2=\"348.9045011767182\" y2=\"119.5\" stroke-linecap=\"round\" style=\"stroke:white;stroke-width:4\"/><line x1=\"348.9045011767182\" y1=\"119.5\" x2=\"348.0384757729338\" y2=\"119.0\" stroke-linecap=\"round\" style=\"stroke:white;stroke-width:4\"/><line x1=\"348.0384757729338\" y1=\"119.0\" x2=\"348.9045011767182\" y2=\"118.5\" stroke-linecap=\"round\" style=\"stroke:white;stroke-width:4\"/><line x1=\"353.23462819564037\" y1=\"117.0\" x2=\"353.23462819564037\" y2=\"104.0\" stroke-linecap=\"round\" style=\"stroke:white;stroke-width:4\"/><line x1=\"353.23462819564037\" y1=\"104.0\" x2=\"349.77052658050263\" y2=\"102.0\" stroke-linecap=\"round\" style=\"stroke:white;stroke-width:4\"/><line x1=\"349.77052658050263\" y1=\"102.0\" x2=\"348.9045011767182\" y2=\"102.5\" stroke-linecap=\"round\" style=\"stroke:white;stroke-width:4\"/><line x1=\"348.9045011767182\" y1=\"102.5\" x2=\"348.9045011767182\" y2=\"103.5\" stroke-linecap=\"round\" style=\"stroke:white;stroke-width:4\"/><line x1=\"348.9045011767182\" y1=\"103.5\" x2=\"348.0384757729338\" y2=\"103.0\" stroke-linecap=\"round\" style=\"stroke:white;stroke-width:4\"/><line x1=\"348.0384757729338\" y1=\"103.0\" x2=\"348.0384757729338\" y2=\"102.0\" stroke-linecap=\"round\" style=\"stroke:white;stroke-width:4\"/><line x1=\"348.0384757729338\" y1=\"102.0\" x2=\"347.1724503691494\" y2=\"101.5\" stroke-linecap=\"round\" style=\"stroke:white;stroke-width:4\"/><line x1=\"347.1724503691494\" y1=\"101.5\" x2=\"348.0384757729338\" y2=\"101.0\" stroke-linecap=\"round\" style=\"stroke:white;stroke-width:4\"/><line x1=\"348.9045011767182\" y1=\"101.5\" x2=\"352.36860279185595\" y2=\"99.5\" stroke-linecap=\"round\" style=\"stroke:white;stroke-width:4\"/><line x1=\"352.36860279185595\" y1=\"99.5\" x2=\"352.36860279185595\" y2=\"98.5\" stroke-linecap=\"round\" style=\"stroke:white;stroke-width:4\"/><line x1=\"352.36860279185595\" y1=\"98.5\" x2=\"351.50257738807153\" y2=\"98.0\" stroke-linecap=\"round\" style=\"stroke:white;stroke-width:4\"/><line x1=\"351.50257738807153\" y1=\"98.0\" x2=\"352.36860279185595\" y2=\"97.5\" stroke-linecap=\"round\" style=\"stroke:white;stroke-width:4\"/><line x1=\"352.36860279185595\" y1=\"97.5\" x2=\"353.23462819564037\" y2=\"98.0\" stroke-linecap=\"round\" style=\"stroke:white;stroke-width:4\"/><line x1=\"353.23462819564037\" y1=\"98.0\" x2=\"354.1006535994248\" y2=\"97.5\" stroke-linecap=\"round\" style=\"stroke:white;stroke-width:4\"/><line x1=\"354.1006535994248\" y1=\"97.5\" x2=\"354.1006535994248\" y2=\"98.5\" stroke-linecap=\"round\" style=\"stroke:white;stroke-width:4\"/><line x1=\"364.49295844483805\" y1=\"109.5\" x2=\"399.1339745962156\" y2=\"89.49999999999999\" stroke-linecap=\"round\" style=\"stroke:white;stroke-width:4\"/><line x1=\"399.1339745962156\" y1=\"89.49999999999999\" x2=\"399.1339745962156\" y2=\"76.49999999999999\" stroke-linecap=\"round\" style=\"stroke:white;stroke-width:4\"/><line x1=\"399.1339745962156\" y1=\"76.49999999999999\" x2=\"395.66987298107784\" y2=\"74.49999999999999\" stroke-linecap=\"round\" style=\"stroke:white;stroke-width:4\"/><line x1=\"395.66987298107784\" y1=\"74.49999999999999\" x2=\"394.8038475772934\" y2=\"74.99999999999999\" stroke-linecap=\"round\" style=\"stroke:white;stroke-width:4\"/><line x1=\"394.8038475772934\" y1=\"74.99999999999999\" x2=\"394.8038475772934\" y2=\"75.99999999999999\" stroke-linecap=\"round\" style=\"stroke:white;stroke-width:4\"/><line x1=\"394.8038475772934\" y1=\"75.99999999999999\" x2=\"393.937822173509\" y2=\"75.49999999999999\" stroke-linecap=\"round\" style=\"stroke:white;stroke-width:4\"/><line x1=\"393.937822173509\" y1=\"75.49999999999999\" x2=\"393.937822173509\" y2=\"74.49999999999999\" stroke-linecap=\"round\" style=\"stroke:white;stroke-width:4\"/><line x1=\"393.937822173509\" y1=\"74.49999999999999\" x2=\"393.0717967697246\" y2=\"73.99999999999999\" stroke-linecap=\"round\" style=\"stroke:white;stroke-width:4\"/><line x1=\"393.0717967697246\" y1=\"73.99999999999999\" x2=\"393.937822173509\" y2=\"73.49999999999999\" stroke-linecap=\"round\" style=\"stroke:white;stroke-width:4\"/><line x1=\"394.8038475772934\" y1=\"73.99999999999999\" x2=\"398.26794919243116\" y2=\"71.99999999999999\" stroke-linecap=\"round\" style=\"stroke:white;stroke-width:4\"/><line x1=\"398.26794919243116\" y1=\"71.99999999999999\" x2=\"398.26794919243116\" y2=\"70.99999999999999\" stroke-linecap=\"round\" style=\"stroke:white;stroke-width:4\"/><line x1=\"398.26794919243116\" y1=\"70.99999999999999\" x2=\"397.40192378864674\" y2=\"70.49999999999999\" stroke-linecap=\"round\" style=\"stroke:white;stroke-width:4\"/><line x1=\"397.40192378864674\" y1=\"70.49999999999999\" x2=\"398.26794919243116\" y2=\"69.99999999999999\" stroke-linecap=\"round\" style=\"stroke:white;stroke-width:4\"/><line x1=\"398.26794919243116\" y1=\"69.99999999999999\" x2=\"399.1339745962156\" y2=\"70.49999999999999\" stroke-linecap=\"round\" style=\"stroke:white;stroke-width:4\"/><line x1=\"399.1339745962156\" y1=\"70.49999999999999\" x2=\"400.0\" y2=\"69.99999999999999\" stroke-linecap=\"round\" style=\"stroke:white;stroke-width:4\"/><line x1=\"400.0\" y1=\"69.99999999999999\" x2=\"400.0\" y2=\"70.99999999999999\" stroke-linecap=\"round\" style=\"stroke:white;stroke-width:4\"/><line x1=\"399.1339745962156\" y1=\"75.49999999999999\" x2=\"410.39230484541326\" y2=\"81.99999999999999\" stroke-linecap=\"round\" style=\"stroke:white;stroke-width:4\"/><line x1=\"410.39230484541326\" y1=\"81.99999999999999\" x2=\"413.856406460551\" y2=\"79.99999999999999\" stroke-linecap=\"round\" style=\"stroke:white;stroke-width:4\"/><line x1=\"413.856406460551\" y1=\"79.99999999999999\" x2=\"413.856406460551\" y2=\"78.99999999999999\" stroke-linecap=\"round\" style=\"stroke:white;stroke-width:4\"/><line x1=\"413.856406460551\" y1=\"78.99999999999999\" x2=\"412.9903810567666\" y2=\"78.49999999999999\" stroke-linecap=\"round\" style=\"stroke:white;stroke-width:4\"/><line x1=\"412.9903810567666\" y1=\"78.49999999999999\" x2=\"413.856406460551\" y2=\"77.99999999999999\" stroke-linecap=\"round\" style=\"stroke:white;stroke-width:4\"/><line x1=\"413.856406460551\" y1=\"77.99999999999999\" x2=\"414.7224318643354\" y2=\"78.49999999999999\" stroke-linecap=\"round\" style=\"stroke:white;stroke-width:4\"/><line x1=\"414.7224318643354\" y1=\"78.49999999999999\" x2=\"415.58845726811984\" y2=\"77.99999999999999\" stroke-linecap=\"round\" style=\"stroke:white;stroke-width:4\"/><line x1=\"415.58845726811984\" y1=\"77.99999999999999\" x2=\"415.58845726811984\" y2=\"78.99999999999999\" stroke-linecap=\"round\" style=\"stroke:white;stroke-width:4\"/><line x1=\"414.7224318643354\" y1=\"79.49999999999999\" x2=\"414.7224318643354\" y2=\"83.49999999999999\" stroke-linecap=\"round\" style=\"stroke:white;stroke-width:4\"/><line x1=\"414.7224318643354\" y1=\"83.49999999999999\" x2=\"415.58845726811984\" y2=\"83.99999999999999\" stroke-linecap=\"round\" style=\"stroke:white;stroke-width:4\"/><line x1=\"415.58845726811984\" y1=\"83.99999999999999\" x2=\"416.45448267190426\" y2=\"83.49999999999999\" stroke-linecap=\"round\" style=\"stroke:white;stroke-width:4\"/><line x1=\"416.45448267190426\" y1=\"83.49999999999999\" x2=\"416.45448267190426\" y2=\"84.49999999999999\" stroke-linecap=\"round\" style=\"stroke:white;stroke-width:4\"/><line x1=\"416.45448267190426\" y1=\"84.49999999999999\" x2=\"415.58845726811984\" y2=\"84.99999999999999\" stroke-linecap=\"round\" style=\"stroke:white;stroke-width:4\"/><line x1=\"415.58845726811984\" y1=\"84.99999999999999\" x2=\"415.58845726811984\" y2=\"85.99999999999999\" stroke-linecap=\"round\" style=\"stroke:white;stroke-width:4\"/><line x1=\"415.58845726811984\" y1=\"85.99999999999999\" x2=\"414.7224318643354\" y2=\"85.49999999999999\" stroke-linecap=\"round\" style=\"stroke:white;stroke-width:4\"/><line x1=\"400.0\" y1=\"129.0\" x2=\"296.07695154586736\" y2=\"68.99999999999999\" stroke-linecap=\"round\" style=\"stroke:white;stroke-width:4\"/><line x1=\"296.07695154586736\" y1=\"68.99999999999999\" x2=\"261.43593539448983\" y2=\"88.99999999999999\" stroke-linecap=\"round\" style=\"stroke:white;stroke-width:4\"/><line x1=\"261.43593539448983\" y1=\"88.99999999999999\" x2=\"261.43593539448983\" y2=\"101.99999999999999\" stroke-linecap=\"round\" style=\"stroke:white;stroke-width:4\"/><line x1=\"261.43593539448983\" y1=\"101.99999999999999\" x2=\"264.90003700962757\" y2=\"103.99999999999999\" stroke-linecap=\"round\" style=\"stroke:white;stroke-width:4\"/><line x1=\"264.90003700962757\" y1=\"103.99999999999999\" x2=\"265.766062413412\" y2=\"103.49999999999999\" stroke-linecap=\"round\" style=\"stroke:white;stroke-width:4\"/><line x1=\"265.766062413412\" y1=\"103.49999999999999\" x2=\"265.766062413412\" y2=\"102.49999999999999\" stroke-linecap=\"round\" style=\"stroke:white;stroke-width:4\"/><line x1=\"265.766062413412\" y1=\"102.49999999999999\" x2=\"266.6320878171964\" y2=\"102.99999999999999\" stroke-linecap=\"round\" style=\"stroke:white;stroke-width:4\"/><line x1=\"266.6320878171964\" y1=\"102.99999999999999\" x2=\"266.6320878171964\" y2=\"103.99999999999999\" stroke-linecap=\"round\" style=\"stroke:white;stroke-width:4\"/><line x1=\"266.6320878171964\" y1=\"103.99999999999999\" x2=\"267.4981132209808\" y2=\"104.49999999999999\" stroke-linecap=\"round\" style=\"stroke:white;stroke-width:4\"/><line x1=\"267.4981132209808\" y1=\"104.49999999999999\" x2=\"266.6320878171964\" y2=\"104.99999999999999\" stroke-linecap=\"round\" style=\"stroke:white;stroke-width:4\"/><line x1=\"265.766062413412\" y1=\"104.49999999999999\" x2=\"262.30196079827425\" y2=\"106.49999999999999\" stroke-linecap=\"round\" style=\"stroke:white;stroke-width:4\"/><line x1=\"262.30196079827425\" y1=\"106.49999999999999\" x2=\"262.30196079827425\" y2=\"107.49999999999999\" stroke-linecap=\"round\" style=\"stroke:white;stroke-width:4\"/><line x1=\"262.30196079827425\" y1=\"107.49999999999999\" x2=\"263.16798620205867\" y2=\"107.99999999999999\" stroke-linecap=\"round\" style=\"stroke:white;stroke-width:4\"/><line x1=\"263.16798620205867\" y1=\"107.99999999999999\" x2=\"262.30196079827425\" y2=\"108.49999999999999\" stroke-linecap=\"round\" style=\"stroke:white;stroke-width:4\"/><line x1=\"262.30196079827425\" y1=\"108.49999999999999\" x2=\"261.43593539448983\" y2=\"107.99999999999999\" stroke-linecap=\"round\" style=\"stroke:white;stroke-width:4\"/><line x1=\"261.43593539448983\" y1=\"107.99999999999999\" x2=\"260.5699099907054\" y2=\"108.49999999999999\" stroke-linecap=\"round\" style=\"stroke:white;stroke-width:4\"/><line x1=\"260.5699099907054\" y1=\"108.49999999999999\" x2=\"260.5699099907054\" y2=\"107.49999999999999\" stroke-linecap=\"round\" style=\"stroke:white;stroke-width:4\"/><line x1=\"261.43593539448983\" y1=\"102.99999999999999\" x2=\"250.17760514529212\" y2=\"96.49999999999999\" stroke-linecap=\"round\" style=\"stroke:white;stroke-width:4\"/><line x1=\"250.17760514529212\" y1=\"96.49999999999999\" x2=\"246.71350353015436\" y2=\"98.49999999999999\" stroke-linecap=\"round\" style=\"stroke:white;stroke-width:4\"/><line x1=\"246.71350353015436\" y1=\"98.49999999999999\" x2=\"246.71350353015436\" y2=\"99.49999999999999\" stroke-linecap=\"round\" style=\"stroke:white;stroke-width:4\"/><line x1=\"246.71350353015436\" y1=\"99.49999999999999\" x2=\"247.5795289339388\" y2=\"99.99999999999999\" stroke-linecap=\"round\" style=\"stroke:white;stroke-width:4\"/><line x1=\"247.5795289339388\" y1=\"99.99999999999999\" x2=\"246.71350353015436\" y2=\"100.49999999999999\" stroke-linecap=\"round\" style=\"stroke:white;stroke-width:4\"/><line x1=\"246.71350353015436\" y1=\"100.49999999999999\" x2=\"245.8474781263699\" y2=\"99.99999999999999\" stroke-linecap=\"round\" style=\"stroke:white;stroke-width:4\"/><line x1=\"245.8474781263699\" y1=\"99.99999999999999\" x2=\"244.98145272258546\" y2=\"100.49999999999999\" stroke-linecap=\"round\" style=\"stroke:white;stroke-width:4\"/><line x1=\"244.98145272258546\" y1=\"100.49999999999999\" x2=\"244.98145272258546\" y2=\"99.49999999999999\" stroke-linecap=\"round\" style=\"stroke:white;stroke-width:4\"/><line x1=\"245.8474781263699\" y1=\"98.99999999999999\" x2=\"245.8474781263699\" y2=\"94.99999999999999\" stroke-linecap=\"round\" style=\"stroke:white;stroke-width:4\"/><line x1=\"245.8474781263699\" y1=\"94.99999999999999\" x2=\"244.98145272258546\" y2=\"94.49999999999999\" stroke-linecap=\"round\" style=\"stroke:white;stroke-width:4\"/><line x1=\"244.98145272258546\" y1=\"94.49999999999999\" x2=\"244.115427318801\" y2=\"94.99999999999999\" stroke-linecap=\"round\" style=\"stroke:white;stroke-width:4\"/><line x1=\"244.115427318801\" y1=\"94.99999999999999\" x2=\"244.115427318801\" y2=\"93.99999999999999\" stroke-linecap=\"round\" style=\"stroke:white;stroke-width:4\"/><line x1=\"244.115427318801\" y1=\"93.99999999999999\" x2=\"244.98145272258546\" y2=\"93.49999999999999\" stroke-linecap=\"round\" style=\"stroke:white;stroke-width:4\"/><line x1=\"244.98145272258546\" y1=\"93.49999999999999\" x2=\"244.98145272258546\" y2=\"92.49999999999999\" stroke-linecap=\"round\" style=\"stroke:white;stroke-width:4\"/><line x1=\"244.98145272258546\" y1=\"92.49999999999999\" x2=\"245.8474781263699\" y2=\"92.99999999999999\" stroke-linecap=\"round\" style=\"stroke:white;stroke-width:4\"/><line x1=\"260.56990999070536\" y1=\"89.49999999999999\" x2=\"260.56990999070536\" y2=\"49.499999999999986\" stroke-linecap=\"round\" style=\"stroke:white;stroke-width:4\"/><line x1=\"260.56990999070536\" y1=\"49.499999999999986\" x2=\"249.31157974150764\" y2=\"42.999999999999986\" stroke-linecap=\"round\" style=\"stroke:white;stroke-width:4\"/><line x1=\"249.31157974150764\" y1=\"42.999999999999986\" x2=\"245.84747812636988\" y2=\"44.999999999999986\" stroke-linecap=\"round\" style=\"stroke:white;stroke-width:4\"/><line x1=\"245.84747812636988\" y1=\"44.999999999999986\" x2=\"245.84747812636988\" y2=\"45.999999999999986\" stroke-linecap=\"round\" style=\"stroke:white;stroke-width:4\"/><line x1=\"245.84747812636988\" y1=\"45.999999999999986\" x2=\"246.71350353015433\" y2=\"46.499999999999986\" stroke-linecap=\"round\" style=\"stroke:white;stroke-width:4\"/><line x1=\"246.71350353015433\" y1=\"46.499999999999986\" x2=\"245.84747812636988\" y2=\"46.999999999999986\" stroke-linecap=\"round\" style=\"stroke:white;stroke-width:4\"/><line x1=\"245.84747812636988\" y1=\"46.999999999999986\" x2=\"244.98145272258543\" y2=\"46.499999999999986\" stroke-linecap=\"round\" style=\"stroke:white;stroke-width:4\"/><line x1=\"244.98145272258543\" y1=\"46.499999999999986\" x2=\"244.11542731880098\" y2=\"46.999999999999986\" stroke-linecap=\"round\" style=\"stroke:white;stroke-width:4\"/><line x1=\"244.11542731880098\" y1=\"46.999999999999986\" x2=\"244.11542731880098\" y2=\"45.999999999999986\" stroke-linecap=\"round\" style=\"stroke:white;stroke-width:4\"/><line x1=\"244.98145272258543\" y1=\"45.499999999999986\" x2=\"244.98145272258543\" y2=\"41.499999999999986\" stroke-linecap=\"round\" style=\"stroke:white;stroke-width:4\"/><line x1=\"244.98145272258543\" y1=\"41.499999999999986\" x2=\"244.11542731880098\" y2=\"40.999999999999986\" stroke-linecap=\"round\" style=\"stroke:white;stroke-width:4\"/><line x1=\"244.11542731880098\" y1=\"40.999999999999986\" x2=\"243.24940191501653\" y2=\"41.499999999999986\" stroke-linecap=\"round\" style=\"stroke:white;stroke-width:4\"/><line x1=\"243.24940191501653\" y1=\"41.499999999999986\" x2=\"243.24940191501653\" y2=\"40.499999999999986\" stroke-linecap=\"round\" style=\"stroke:white;stroke-width:4\"/><line x1=\"243.24940191501653\" y1=\"40.499999999999986\" x2=\"244.11542731880098\" y2=\"39.999999999999986\" stroke-linecap=\"round\" style=\"stroke:white;stroke-width:4\"/><line x1=\"244.11542731880098\" y1=\"39.999999999999986\" x2=\"244.11542731880098\" y2=\"38.999999999999986\" stroke-linecap=\"round\" style=\"stroke:white;stroke-width:4\"/><line x1=\"244.11542731880098\" y1=\"38.999999999999986\" x2=\"244.98145272258543\" y2=\"39.499999999999986\" stroke-linecap=\"round\" style=\"stroke:white;stroke-width:4\"/><line x1=\"248.4455543377232\" y1=\"42.499999999999986\" x2=\"259.7038845869209\" y2=\"35.99999999999998\" stroke-linecap=\"round\" style=\"stroke:white;stroke-width:4\"/><line x1=\"259.7038845869209\" y1=\"35.99999999999998\" x2=\"259.7038845869209\" y2=\"31.99999999999998\" stroke-linecap=\"round\" style=\"stroke:white;stroke-width:4\"/><line x1=\"259.7038845869209\" y1=\"31.99999999999998\" x2=\"258.83785918313646\" y2=\"31.49999999999998\" stroke-linecap=\"round\" style=\"stroke:white;stroke-width:4\"/><line x1=\"258.83785918313646\" y1=\"31.49999999999998\" x2=\"257.97183377935204\" y2=\"31.99999999999998\" stroke-linecap=\"round\" style=\"stroke:white;stroke-width:4\"/><line x1=\"257.97183377935204\" y1=\"31.99999999999998\" x2=\"257.97183377935204\" y2=\"30.99999999999998\" stroke-linecap=\"round\" style=\"stroke:white;stroke-width:4\"/><line x1=\"257.97183377935204\" y1=\"30.99999999999998\" x2=\"258.83785918313646\" y2=\"30.49999999999998\" stroke-linecap=\"round\" style=\"stroke:white;stroke-width:4\"/><line x1=\"258.83785918313646\" y1=\"30.49999999999998\" x2=\"258.83785918313646\" y2=\"29.49999999999998\" stroke-linecap=\"round\" style=\"stroke:white;stroke-width:4\"/><line x1=\"258.83785918313646\" y1=\"29.49999999999998\" x2=\"259.7038845869209\" y2=\"29.99999999999998\" stroke-linecap=\"round\" style=\"stroke:white;stroke-width:4\"/><line x1=\"259.7038845869209\" y1=\"30.99999999999998\" x2=\"263.1679862020586\" y2=\"32.99999999999998\" stroke-linecap=\"round\" style=\"stroke:white;stroke-width:4\"/><line x1=\"263.1679862020586\" y1=\"32.99999999999998\" x2=\"264.03401160584303\" y2=\"32.49999999999998\" stroke-linecap=\"round\" style=\"stroke:white;stroke-width:4\"/><line x1=\"264.03401160584303\" y1=\"32.49999999999998\" x2=\"264.03401160584303\" y2=\"31.49999999999998\" stroke-linecap=\"round\" style=\"stroke:white;stroke-width:4\"/><line x1=\"264.03401160584303\" y1=\"31.49999999999998\" x2=\"264.90003700962745\" y2=\"31.99999999999998\" stroke-linecap=\"round\" style=\"stroke:white;stroke-width:4\"/><line x1=\"264.90003700962745\" y1=\"31.99999999999998\" x2=\"264.90003700962745\" y2=\"32.99999999999998\" stroke-linecap=\"round\" style=\"stroke:white;stroke-width:4\"/><line x1=\"264.90003700962745\" y1=\"32.99999999999998\" x2=\"265.7660624134119\" y2=\"33.49999999999998\" stroke-linecap=\"round\" style=\"stroke:white;stroke-width:4\"/><line x1=\"265.7660624134119\" y1=\"33.49999999999998\" x2=\"264.90003700962745\" y2=\"33.99999999999998\" stroke-linecap=\"round\" style=\"stroke:white;stroke-width:4\"/><line x1=\"295.2109261420828\" y1=\"68.49999999999999\" x2=\"191.28787768795019\" y2=\"128.49999999999997\" stroke-linecap=\"round\" style=\"stroke:white;stroke-width:4\"/><line x1=\"191.28787768795019\" y1=\"128.49999999999997\" x2=\"191.28787768795019\" y2=\"168.49999999999997\" stroke-linecap=\"round\" style=\"stroke:white;stroke-width:4\"/><line x1=\"191.28787768795019\" y1=\"168.49999999999997\" x2=\"202.5462079371479\" y2=\"174.99999999999997\" stroke-linecap=\"round\" style=\"stroke:white;stroke-width:4\"/><line x1=\"202.5462079371479\" y1=\"174.99999999999997\" x2=\"206.01030955228566\" y2=\"172.99999999999997\" stroke-linecap=\"round\" style=\"stroke:white;stroke-width:4\"/><line x1=\"206.01030955228566\" y1=\"172.99999999999997\" x2=\"206.01030955228566\" y2=\"171.99999999999997\" stroke-linecap=\"round\" style=\"stroke:white;stroke-width:4\"/><line x1=\"206.01030955228566\" y1=\"171.99999999999997\" x2=\"205.1442841485012\" y2=\"171.49999999999997\" stroke-linecap=\"round\" style=\"stroke:white;stroke-width:4\"/><line x1=\"205.1442841485012\" y1=\"171.49999999999997\" x2=\"206.01030955228566\" y2=\"170.99999999999997\" stroke-linecap=\"round\" style=\"stroke:white;stroke-width:4\"/><line x1=\"206.01030955228566\" y1=\"170.99999999999997\" x2=\"206.8763349560701\" y2=\"171.49999999999997\" stroke-linecap=\"round\" style=\"stroke:white;stroke-width:4\"/><line x1=\"206.8763349560701\" y1=\"171.49999999999997\" x2=\"207.74236035985456\" y2=\"170.99999999999997\" stroke-linecap=\"round\" style=\"stroke:white;stroke-width:4\"/><line x1=\"207.74236035985456\" y1=\"170.99999999999997\" x2=\"207.74236035985456\" y2=\"171.99999999999997\" stroke-linecap=\"round\" style=\"stroke:white;stroke-width:4\"/><line x1=\"206.8763349560701\" y1=\"172.49999999999997\" x2=\"206.8763349560701\" y2=\"176.49999999999997\" stroke-linecap=\"round\" style=\"stroke:white;stroke-width:4\"/><line x1=\"206.8763349560701\" y1=\"176.49999999999997\" x2=\"207.74236035985456\" y2=\"176.99999999999997\" stroke-linecap=\"round\" style=\"stroke:white;stroke-width:4\"/><line x1=\"207.74236035985456\" y1=\"176.99999999999997\" x2=\"208.608385763639\" y2=\"176.49999999999997\" stroke-linecap=\"round\" style=\"stroke:white;stroke-width:4\"/><line x1=\"208.608385763639\" y1=\"176.49999999999997\" x2=\"208.608385763639\" y2=\"177.49999999999997\" stroke-linecap=\"round\" style=\"stroke:white;stroke-width:4\"/><line x1=\"208.608385763639\" y1=\"177.49999999999997\" x2=\"207.74236035985456\" y2=\"177.99999999999997\" stroke-linecap=\"round\" style=\"stroke:white;stroke-width:4\"/><line x1=\"207.74236035985456\" y1=\"177.99999999999997\" x2=\"207.74236035985456\" y2=\"178.99999999999997\" stroke-linecap=\"round\" style=\"stroke:white;stroke-width:4\"/><line x1=\"207.74236035985456\" y1=\"178.99999999999997\" x2=\"206.8763349560701\" y2=\"178.49999999999997\" stroke-linecap=\"round\" style=\"stroke:white;stroke-width:4\"/><line x1=\"203.41223334093235\" y1=\"175.49999999999997\" x2=\"192.15390309173463\" y2=\"181.99999999999997\" stroke-linecap=\"round\" style=\"stroke:white;stroke-width:4\"/><line x1=\"192.15390309173463\" y1=\"181.99999999999997\" x2=\"192.15390309173463\" y2=\"185.99999999999997\" stroke-linecap=\"round\" style=\"stroke:white;stroke-width:4\"/><line x1=\"192.15390309173463\" y1=\"185.99999999999997\" x2=\"193.01992849551908\" y2=\"186.49999999999997\" stroke-linecap=\"round\" style=\"stroke:white;stroke-width:4\"/><line x1=\"193.01992849551908\" y1=\"186.49999999999997\" x2=\"193.88595389930353\" y2=\"185.99999999999997\" stroke-linecap=\"round\" style=\"stroke:white;stroke-width:4\"/><line x1=\"193.88595389930353\" y1=\"185.99999999999997\" x2=\"193.88595389930353\" y2=\"186.99999999999997\" stroke-linecap=\"round\" style=\"stroke:white;stroke-width:4\"/><line x1=\"193.88595389930353\" y1=\"186.99999999999997\" x2=\"193.01992849551908\" y2=\"187.49999999999997\" stroke-linecap=\"round\" style=\"stroke:white;stroke-width:4\"/><line x1=\"193.01992849551908\" y1=\"187.49999999999997\" x2=\"193.01992849551908\" y2=\"188.49999999999997\" stroke-linecap=\"round\" style=\"stroke:white;stroke-width:4\"/><line x1=\"193.01992849551908\" y1=\"188.49999999999997\" x2=\"192.15390309173463\" y2=\"187.99999999999997\" stroke-linecap=\"round\" style=\"stroke:white;stroke-width:4\"/><line x1=\"192.15390309173463\" y1=\"186.99999999999997\" x2=\"188.68980147659687\" y2=\"184.99999999999997\" stroke-linecap=\"round\" style=\"stroke:white;stroke-width:4\"/><line x1=\"188.68980147659687\" y1=\"184.99999999999997\" x2=\"187.82377607281242\" y2=\"185.49999999999997\" stroke-linecap=\"round\" style=\"stroke:white;stroke-width:4\"/><line x1=\"187.82377607281242\" y1=\"185.49999999999997\" x2=\"187.82377607281242\" y2=\"186.49999999999997\" stroke-linecap=\"round\" style=\"stroke:white;stroke-width:4\"/><line x1=\"187.82377607281242\" y1=\"186.49999999999997\" x2=\"186.95775066902797\" y2=\"185.99999999999997\" stroke-linecap=\"round\" style=\"stroke:white;stroke-width:4\"/><line x1=\"186.95775066902797\" y1=\"185.99999999999997\" x2=\"186.95775066902797\" y2=\"184.99999999999997\" stroke-linecap=\"round\" style=\"stroke:white;stroke-width:4\"/><line x1=\"186.95775066902797\" y1=\"184.99999999999997\" x2=\"186.09172526524353\" y2=\"184.49999999999997\" stroke-linecap=\"round\" style=\"stroke:white;stroke-width:4\"/><line x1=\"186.09172526524353\" y1=\"184.49999999999997\" x2=\"186.95775066902797\" y2=\"183.99999999999997\" stroke-linecap=\"round\" style=\"stroke:white;stroke-width:4\"/><line x1=\"191.28787768795019\" y1=\"169.49999999999997\" x2=\"156.64686153657266\" y2=\"149.49999999999997\" stroke-linecap=\"round\" style=\"stroke:white;stroke-width:4\"/><line x1=\"156.64686153657266\" y1=\"149.49999999999997\" x2=\"145.38853128737495\" y2=\"155.99999999999997\" stroke-linecap=\"round\" style=\"stroke:white;stroke-width:4\"/><line x1=\"145.38853128737495\" y1=\"155.99999999999997\" x2=\"145.38853128737495\" y2=\"159.99999999999997\" stroke-linecap=\"round\" style=\"stroke:white;stroke-width:4\"/><line x1=\"145.38853128737495\" y1=\"159.99999999999997\" x2=\"146.2545566911594\" y2=\"160.49999999999997\" stroke-linecap=\"round\" style=\"stroke:white;stroke-width:4\"/><line x1=\"146.2545566911594\" y1=\"160.49999999999997\" x2=\"147.12058209494384\" y2=\"159.99999999999997\" stroke-linecap=\"round\" style=\"stroke:white;stroke-width:4\"/><line x1=\"147.12058209494384\" y1=\"159.99999999999997\" x2=\"147.12058209494384\" y2=\"160.99999999999997\" stroke-linecap=\"round\" style=\"stroke:white;stroke-width:4\"/><line x1=\"147.12058209494384\" y1=\"160.99999999999997\" x2=\"146.2545566911594\" y2=\"161.49999999999997\" stroke-linecap=\"round\" style=\"stroke:white;stroke-width:4\"/><line x1=\"146.2545566911594\" y1=\"161.49999999999997\" x2=\"146.2545566911594\" y2=\"162.49999999999997\" stroke-linecap=\"round\" style=\"stroke:white;stroke-width:4\"/><line x1=\"146.2545566911594\" y1=\"162.49999999999997\" x2=\"145.38853128737495\" y2=\"161.99999999999997\" stroke-linecap=\"round\" style=\"stroke:white;stroke-width:4\"/><line x1=\"145.38853128737495\" y1=\"160.99999999999997\" x2=\"141.92442967223718\" y2=\"158.99999999999997\" stroke-linecap=\"round\" style=\"stroke:white;stroke-width:4\"/><line x1=\"141.92442967223718\" y1=\"158.99999999999997\" x2=\"141.05840426845273\" y2=\"159.49999999999997\" stroke-linecap=\"round\" style=\"stroke:white;stroke-width:4\"/><line x1=\"141.05840426845273\" y1=\"159.49999999999997\" x2=\"141.05840426845273\" y2=\"160.49999999999997\" stroke-linecap=\"round\" style=\"stroke:white;stroke-width:4\"/><line x1=\"141.05840426845273\" y1=\"160.49999999999997\" x2=\"140.19237886466829\" y2=\"159.99999999999997\" stroke-linecap=\"round\" style=\"stroke:white;stroke-width:4\"/><line x1=\"140.19237886466829\" y1=\"159.99999999999997\" x2=\"140.19237886466829\" y2=\"158.99999999999997\" stroke-linecap=\"round\" style=\"stroke:white;stroke-width:4\"/><line x1=\"140.19237886466829\" y1=\"158.99999999999997\" x2=\"139.32635346088384\" y2=\"158.49999999999997\" stroke-linecap=\"round\" style=\"stroke:white;stroke-width:4\"/><line x1=\"139.32635346088384\" y1=\"158.49999999999997\" x2=\"140.19237886466829\" y2=\"157.99999999999997\" stroke-linecap=\"round\" style=\"stroke:white;stroke-width:4\"/><line x1=\"144.5225058835905\" y1=\"156.49999999999997\" x2=\"144.5225058835905\" y2=\"143.49999999999997\" stroke-linecap=\"round\" style=\"stroke:white;stroke-width:4\"/><line x1=\"144.5225058835905\" y1=\"143.49999999999997\" x2=\"141.05840426845273\" y2=\"141.49999999999997\" stroke-linecap=\"round\" style=\"stroke:white;stroke-width:4\"/><line x1=\"141.05840426845273\" y1=\"141.49999999999997\" x2=\"140.19237886466829\" y2=\"141.99999999999997\" stroke-linecap=\"round\" style=\"stroke:white;stroke-width:4\"/><line x1=\"140.19237886466829\" y1=\"141.99999999999997\" x2=\"140.19237886466829\" y2=\"142.99999999999997\" stroke-linecap=\"round\" style=\"stroke:white;stroke-width:4\"/><line x1=\"140.19237886466829\" y1=\"142.99999999999997\" x2=\"139.32635346088384\" y2=\"142.49999999999997\" stroke-linecap=\"round\" style=\"stroke:white;stroke-width:4\"/><line x1=\"139.32635346088384\" y1=\"142.49999999999997\" x2=\"139.32635346088384\" y2=\"141.49999999999997\" stroke-linecap=\"round\" style=\"stroke:white;stroke-width:4\"/><line x1=\"139.32635346088384\" y1=\"141.49999999999997\" x2=\"138.4603280570994\" y2=\"140.99999999999997\" stroke-linecap=\"round\" style=\"stroke:white;stroke-width:4\"/><line x1=\"138.4603280570994\" y1=\"140.99999999999997\" x2=\"139.32635346088384\" y2=\"140.49999999999997\" stroke-linecap=\"round\" style=\"stroke:white;stroke-width:4\"/><line x1=\"140.19237886466829\" y1=\"140.99999999999997\" x2=\"143.65648047980605\" y2=\"138.99999999999997\" stroke-linecap=\"round\" style=\"stroke:white;stroke-width:4\"/><line x1=\"143.65648047980605\" y1=\"138.99999999999997\" x2=\"143.65648047980605\" y2=\"137.99999999999997\" stroke-linecap=\"round\" style=\"stroke:white;stroke-width:4\"/><line x1=\"143.65648047980605\" y1=\"137.99999999999997\" x2=\"142.7904550760216\" y2=\"137.49999999999997\" stroke-linecap=\"round\" style=\"stroke:white;stroke-width:4\"/><line x1=\"142.7904550760216\" y1=\"137.49999999999997\" x2=\"143.65648047980605\" y2=\"136.99999999999997\" stroke-linecap=\"round\" style=\"stroke:white;stroke-width:4\"/><line x1=\"143.65648047980605\" y1=\"136.99999999999997\" x2=\"144.5225058835905\" y2=\"137.49999999999997\" stroke-linecap=\"round\" style=\"stroke:white;stroke-width:4\"/><line x1=\"144.5225058835905\" y1=\"137.49999999999997\" x2=\"145.38853128737495\" y2=\"136.99999999999997\" stroke-linecap=\"round\" style=\"stroke:white;stroke-width:4\"/><line x1=\"145.38853128737495\" y1=\"136.99999999999997\" x2=\"145.38853128737495\" y2=\"137.99999999999997\" stroke-linecap=\"round\" style=\"stroke:white;stroke-width:4\"/>\n",
              "        \n",
              "      <g visibility=visible transform=\"rotate(0,190.42185228416577,128.99999999999997) translate(190.42185228416577, 128.99999999999997)\">\n",
              "        <circle stroke=\"white\" stroke-width=\"3\" fill=\"transparent\" r=\"12\" cx=\"0\" cy=\"0\"/>\n",
              "        <polygon points=\"0,19 3,16 -3,16\" style=\"fill:white;stroke:white;stroke-width:2\"/>\n",
              "      </g>\n",
              "    \n",
              "      </svg>\n",
              "    "
            ],
            "text/plain": [
              "<IPython.core.display.HTML object>"
            ]
          },
          "metadata": {
            "tags": []
          }
        }
      ]
    },
    {
      "cell_type": "code",
      "metadata": {
        "id": "DE4wFtyiCDXH"
      },
      "source": [
        ""
      ],
      "execution_count": null,
      "outputs": []
    },
    {
      "cell_type": "code",
      "metadata": {
        "id": "iOgsRqiePp4B",
        "outputId": "1397e08b-f7a7-4c53-99f9-fc0b53c456b1",
        "colab": {
          "background_save": true,
          "base_uri": "https://localhost:8080/",
          "height": 521
        }
      },
      "source": [
        "#3\n",
        "import ColabTurtle.Turtle as t\n",
        "t.initializeTurtle()\n",
        "t.speed(10)\n",
        "def koch1(t, length):\n",
        "    if length <= 3:\n",
        "        return\n",
        "    angle = 90\n",
        "    t.forward(int(length/3))\n",
        "    t.left(angle)\n",
        "    length = 2*length/3\n",
        "    koch(t, length)\n",
        "    t.right(2 * angle)\n",
        "    koch(t, length)\n",
        "    t.left(angle)\n",
        "    #t.backward(int(length/3))\n",
        "\n",
        "#koch1(t,200)\n",
        "\n",
        "def snowflake1(t, length):\n",
        "    if length <= 3:\n",
        "        return\n",
        "    angle = 90\n",
        "    koch1(t, length)\n",
        "    t.left(2*angle)\n",
        "    koch1(t, length)\n",
        "    t.left(2*angle)\n",
        "    koch1(t, length)\n",
        "    t.left(2*angle)\n",
        "\n",
        "snowflake1(t,100)"
      ],
      "execution_count": null,
      "outputs": [
        {
          "output_type": "display_data",
          "data": {
            "text/html": [
              "\n",
              "      <svg width=\"800\" height=\"500\">\n",
              "        <rect width=\"100%\" height=\"100%\" fill=\"black\"/>\n",
              "        <line x1=\"400\" y1=\"250\" x2=\"400.0\" y2=\"217.0\" stroke-linecap=\"round\" style=\"stroke:white;stroke-width:4\"/><line x1=\"400.0\" y1=\"217.0\" x2=\"378.0\" y2=\"217.0\" stroke-linecap=\"round\" style=\"stroke:white;stroke-width:4\"/><line x1=\"378.0\" y1=\"217.0\" x2=\"371.0\" y2=\"229.12435565298213\" stroke-linecap=\"round\" style=\"stroke:white;stroke-width:4\"/><line x1=\"371.0\" y1=\"229.12435565298213\" x2=\"375.5\" y2=\"236.91858428704208\" stroke-linecap=\"round\" style=\"stroke:white;stroke-width:4\"/><line x1=\"375.5\" y1=\"236.91858428704208\" x2=\"381.5\" y2=\"236.91858428704208\" stroke-linecap=\"round\" style=\"stroke:white;stroke-width:4\"/><line x1=\"381.5\" y1=\"236.91858428704208\" x2=\"383.5\" y2=\"233.45448267190432\" stroke-linecap=\"round\" style=\"stroke:white;stroke-width:4\"/><line x1=\"383.5\" y1=\"233.45448267190432\" x2=\"382.5\" y2=\"231.72243186433545\" stroke-linecap=\"round\" style=\"stroke:white;stroke-width:4\"/><line x1=\"382.5\" y1=\"231.72243186433545\" x2=\"381.5\" y2=\"231.72243186433545\" stroke-linecap=\"round\" style=\"stroke:white;stroke-width:4\"/><line x1=\"381.5\" y1=\"231.72243186433545\" x2=\"381.0\" y2=\"232.5884572681199\" stroke-linecap=\"round\" style=\"stroke:white;stroke-width:4\"/><line x1=\"381.0\" y1=\"232.5884572681199\" x2=\"380.5\" y2=\"231.72243186433545\" stroke-linecap=\"round\" style=\"stroke:white;stroke-width:4\"/><line x1=\"380.5\" y1=\"231.72243186433545\" x2=\"381.0\" y2=\"230.856406460551\" stroke-linecap=\"round\" style=\"stroke:white;stroke-width:4\"/><line x1=\"381.0\" y1=\"230.856406460551\" x2=\"380.5\" y2=\"229.99038105676655\" stroke-linecap=\"round\" style=\"stroke:white;stroke-width:4\"/><line x1=\"380.5\" y1=\"229.99038105676655\" x2=\"381.5\" y2=\"229.99038105676655\" stroke-linecap=\"round\" style=\"stroke:white;stroke-width:4\"/><line x1=\"381.5\" y1=\"229.99038105676655\" x2=\"383.5\" y2=\"229.99038105676655\" stroke-linecap=\"round\" style=\"stroke:white;stroke-width:4\"/><line x1=\"383.5\" y1=\"229.99038105676655\" x2=\"384.0\" y2=\"229.1243556529821\" stroke-linecap=\"round\" style=\"stroke:white;stroke-width:4\"/><line x1=\"384.0\" y1=\"229.1243556529821\" x2=\"383.5\" y2=\"228.25833024919766\" stroke-linecap=\"round\" style=\"stroke:white;stroke-width:4\"/><line x1=\"383.5\" y1=\"228.25833024919766\" x2=\"384.5\" y2=\"228.25833024919766\" stroke-linecap=\"round\" style=\"stroke:white;stroke-width:4\"/><line x1=\"384.5\" y1=\"228.25833024919766\" x2=\"385.0\" y2=\"229.1243556529821\" stroke-linecap=\"round\" style=\"stroke:white;stroke-width:4\"/><line x1=\"385.0\" y1=\"229.1243556529821\" x2=\"386.0\" y2=\"229.1243556529821\" stroke-linecap=\"round\" style=\"stroke:white;stroke-width:4\"/><line x1=\"386.0\" y1=\"229.1243556529821\" x2=\"385.5\" y2=\"229.99038105676655\" stroke-linecap=\"round\" style=\"stroke:white;stroke-width:4\"/><line x1=\"385.5\" y1=\"229.99038105676655\" x2=\"387.5\" y2=\"233.45448267190432\" stroke-linecap=\"round\" style=\"stroke:white;stroke-width:4\"/><line x1=\"387.5\" y1=\"233.45448267190432\" x2=\"389.5\" y2=\"233.45448267190432\" stroke-linecap=\"round\" style=\"stroke:white;stroke-width:4\"/><line x1=\"389.5\" y1=\"233.45448267190432\" x2=\"390.0\" y2=\"232.58845726811987\" stroke-linecap=\"round\" style=\"stroke:white;stroke-width:4\"/><line x1=\"390.0\" y1=\"232.58845726811987\" x2=\"389.5\" y2=\"231.72243186433542\" stroke-linecap=\"round\" style=\"stroke:white;stroke-width:4\"/><line x1=\"389.5\" y1=\"231.72243186433542\" x2=\"390.5\" y2=\"231.72243186433542\" stroke-linecap=\"round\" style=\"stroke:white;stroke-width:4\"/><line x1=\"390.5\" y1=\"231.72243186433542\" x2=\"391.0\" y2=\"232.58845726811987\" stroke-linecap=\"round\" style=\"stroke:white;stroke-width:4\"/><line x1=\"391.0\" y1=\"232.58845726811987\" x2=\"392.0\" y2=\"232.58845726811987\" stroke-linecap=\"round\" style=\"stroke:white;stroke-width:4\"/><line x1=\"392.0\" y1=\"232.58845726811987\" x2=\"391.5\" y2=\"233.45448267190432\" stroke-linecap=\"round\" style=\"stroke:white;stroke-width:4\"/><line x1=\"391.5\" y1=\"233.45448267190432\" x2=\"390.5\" y2=\"235.18653347947318\" stroke-linecap=\"round\" style=\"stroke:white;stroke-width:4\"/><line x1=\"390.5\" y1=\"235.18653347947318\" x2=\"391.0\" y2=\"236.05255888325763\" stroke-linecap=\"round\" style=\"stroke:white;stroke-width:4\"/><line x1=\"391.0\" y1=\"236.05255888325763\" x2=\"392.0\" y2=\"236.05255888325763\" stroke-linecap=\"round\" style=\"stroke:white;stroke-width:4\"/><line x1=\"392.0\" y1=\"236.05255888325763\" x2=\"391.5\" y2=\"236.91858428704208\" stroke-linecap=\"round\" style=\"stroke:white;stroke-width:4\"/><line x1=\"391.5\" y1=\"236.91858428704208\" x2=\"390.5\" y2=\"236.91858428704208\" stroke-linecap=\"round\" style=\"stroke:white;stroke-width:4\"/><line x1=\"390.5\" y1=\"236.91858428704208\" x2=\"390.0\" y2=\"237.78460969082653\" stroke-linecap=\"round\" style=\"stroke:white;stroke-width:4\"/><line x1=\"390.0\" y1=\"237.78460969082653\" x2=\"389.5\" y2=\"236.91858428704208\" stroke-linecap=\"round\" style=\"stroke:white;stroke-width:4\"/><line x1=\"389.5\" y1=\"236.91858428704208\" x2=\"386.5\" y2=\"242.1147367097487\" stroke-linecap=\"round\" style=\"stroke:white;stroke-width:4\"/><line x1=\"386.5\" y1=\"242.1147367097487\" x2=\"388.5\" y2=\"245.57883832488648\" stroke-linecap=\"round\" style=\"stroke:white;stroke-width:4\"/><line x1=\"388.5\" y1=\"245.57883832488648\" x2=\"390.5\" y2=\"245.57883832488648\" stroke-linecap=\"round\" style=\"stroke:white;stroke-width:4\"/><line x1=\"390.5\" y1=\"245.57883832488648\" x2=\"391.0\" y2=\"244.71281292110203\" stroke-linecap=\"round\" style=\"stroke:white;stroke-width:4\"/><line x1=\"391.0\" y1=\"244.71281292110203\" x2=\"390.5\" y2=\"243.84678751731758\" stroke-linecap=\"round\" style=\"stroke:white;stroke-width:4\"/><line x1=\"390.5\" y1=\"243.84678751731758\" x2=\"391.5\" y2=\"243.84678751731758\" stroke-linecap=\"round\" style=\"stroke:white;stroke-width:4\"/><line x1=\"391.5\" y1=\"243.84678751731758\" x2=\"392.0\" y2=\"244.71281292110203\" stroke-linecap=\"round\" style=\"stroke:white;stroke-width:4\"/><line x1=\"392.0\" y1=\"244.71281292110203\" x2=\"393.0\" y2=\"244.71281292110203\" stroke-linecap=\"round\" style=\"stroke:white;stroke-width:4\"/><line x1=\"393.0\" y1=\"244.71281292110203\" x2=\"392.5\" y2=\"245.57883832488648\" stroke-linecap=\"round\" style=\"stroke:white;stroke-width:4\"/><line x1=\"392.5\" y1=\"245.57883832488648\" x2=\"391.5\" y2=\"247.31088913245534\" stroke-linecap=\"round\" style=\"stroke:white;stroke-width:4\"/><line x1=\"391.5\" y1=\"247.31088913245534\" x2=\"392.0\" y2=\"248.1769145362398\" stroke-linecap=\"round\" style=\"stroke:white;stroke-width:4\"/><line x1=\"392.0\" y1=\"248.1769145362398\" x2=\"393.0\" y2=\"248.1769145362398\" stroke-linecap=\"round\" style=\"stroke:white;stroke-width:4\"/><line x1=\"393.0\" y1=\"248.1769145362398\" x2=\"392.5\" y2=\"249.04293994002424\" stroke-linecap=\"round\" style=\"stroke:white;stroke-width:4\"/><line x1=\"392.5\" y1=\"249.04293994002424\" x2=\"391.5\" y2=\"249.04293994002424\" stroke-linecap=\"round\" style=\"stroke:white;stroke-width:4\"/><line x1=\"391.5\" y1=\"249.04293994002424\" x2=\"391.0\" y2=\"249.9089653438087\" stroke-linecap=\"round\" style=\"stroke:white;stroke-width:4\"/><line x1=\"391.0\" y1=\"249.9089653438087\" x2=\"390.5\" y2=\"249.04293994002424\" stroke-linecap=\"round\" style=\"stroke:white;stroke-width:4\"/><line x1=\"390.5\" y1=\"249.04293994002424\" x2=\"386.5\" y2=\"249.04293994002424\" stroke-linecap=\"round\" style=\"stroke:white;stroke-width:4\"/><line x1=\"386.5\" y1=\"249.04293994002424\" x2=\"385.5\" y2=\"250.7749907475931\" stroke-linecap=\"round\" style=\"stroke:white;stroke-width:4\"/><line x1=\"385.5\" y1=\"250.7749907475931\" x2=\"386.0\" y2=\"251.64101615137756\" stroke-linecap=\"round\" style=\"stroke:white;stroke-width:4\"/><line x1=\"386.0\" y1=\"251.64101615137756\" x2=\"387.0\" y2=\"251.64101615137756\" stroke-linecap=\"round\" style=\"stroke:white;stroke-width:4\"/><line x1=\"387.0\" y1=\"251.64101615137756\" x2=\"386.5\" y2=\"252.507041555162\" stroke-linecap=\"round\" style=\"stroke:white;stroke-width:4\"/><line x1=\"386.5\" y1=\"252.507041555162\" x2=\"385.5\" y2=\"252.507041555162\" stroke-linecap=\"round\" style=\"stroke:white;stroke-width:4\"/><line x1=\"385.5\" y1=\"252.507041555162\" x2=\"385.0\" y2=\"253.37306695894645\" stroke-linecap=\"round\" style=\"stroke:white;stroke-width:4\"/><line x1=\"385.0\" y1=\"253.37306695894645\" x2=\"384.5\" y2=\"252.507041555162\" stroke-linecap=\"round\" style=\"stroke:white;stroke-width:4\"/><line x1=\"384.5\" y1=\"252.507041555162\" x2=\"383.5\" y2=\"250.77499074759314\" stroke-linecap=\"round\" style=\"stroke:white;stroke-width:4\"/><line x1=\"383.5\" y1=\"250.77499074759314\" x2=\"382.5\" y2=\"250.77499074759314\" stroke-linecap=\"round\" style=\"stroke:white;stroke-width:4\"/><line x1=\"382.5\" y1=\"250.77499074759314\" x2=\"382.0\" y2=\"251.64101615137758\" stroke-linecap=\"round\" style=\"stroke:white;stroke-width:4\"/><line x1=\"382.0\" y1=\"251.64101615137758\" x2=\"381.5\" y2=\"250.77499074759314\" stroke-linecap=\"round\" style=\"stroke:white;stroke-width:4\"/><line x1=\"381.5\" y1=\"250.77499074759314\" x2=\"382.0\" y2=\"249.9089653438087\" stroke-linecap=\"round\" style=\"stroke:white;stroke-width:4\"/><line x1=\"382.0\" y1=\"249.9089653438087\" x2=\"381.5\" y2=\"249.04293994002424\" stroke-linecap=\"round\" style=\"stroke:white;stroke-width:4\"/><line x1=\"381.5\" y1=\"249.04293994002424\" x2=\"382.5\" y2=\"249.04293994002424\" stroke-linecap=\"round\" style=\"stroke:white;stroke-width:4\"/><line x1=\"382.5\" y1=\"249.04293994002424\" x2=\"373.5\" y2=\"249.04293994002424\" stroke-linecap=\"round\" style=\"stroke:white;stroke-width:4\"/><line x1=\"373.5\" y1=\"249.04293994002424\" x2=\"370.5\" y2=\"254.23909236273087\" stroke-linecap=\"round\" style=\"stroke:white;stroke-width:4\"/><line x1=\"370.5\" y1=\"254.23909236273087\" x2=\"372.5\" y2=\"257.70319397786864\" stroke-linecap=\"round\" style=\"stroke:white;stroke-width:4\"/><line x1=\"372.5\" y1=\"257.70319397786864\" x2=\"374.5\" y2=\"257.70319397786864\" stroke-linecap=\"round\" style=\"stroke:white;stroke-width:4\"/><line x1=\"374.5\" y1=\"257.70319397786864\" x2=\"375.0\" y2=\"256.8371685740842\" stroke-linecap=\"round\" style=\"stroke:white;stroke-width:4\"/><line x1=\"375.0\" y1=\"256.8371685740842\" x2=\"374.5\" y2=\"255.97114317029977\" stroke-linecap=\"round\" style=\"stroke:white;stroke-width:4\"/><line x1=\"374.5\" y1=\"255.97114317029977\" x2=\"375.5\" y2=\"255.97114317029977\" stroke-linecap=\"round\" style=\"stroke:white;stroke-width:4\"/><line x1=\"375.5\" y1=\"255.97114317029977\" x2=\"376.0\" y2=\"256.8371685740842\" stroke-linecap=\"round\" style=\"stroke:white;stroke-width:4\"/><line x1=\"376.0\" y1=\"256.8371685740842\" x2=\"377.0\" y2=\"256.8371685740842\" stroke-linecap=\"round\" style=\"stroke:white;stroke-width:4\"/><line x1=\"377.0\" y1=\"256.8371685740842\" x2=\"376.5\" y2=\"257.70319397786864\" stroke-linecap=\"round\" style=\"stroke:white;stroke-width:4\"/><line x1=\"376.5\" y1=\"257.70319397786864\" x2=\"375.5\" y2=\"259.43524478543753\" stroke-linecap=\"round\" style=\"stroke:white;stroke-width:4\"/><line x1=\"375.5\" y1=\"259.43524478543753\" x2=\"376.0\" y2=\"260.30127018922195\" stroke-linecap=\"round\" style=\"stroke:white;stroke-width:4\"/><line x1=\"376.0\" y1=\"260.30127018922195\" x2=\"377.0\" y2=\"260.30127018922195\" stroke-linecap=\"round\" style=\"stroke:white;stroke-width:4\"/><line x1=\"377.0\" y1=\"260.30127018922195\" x2=\"376.5\" y2=\"261.1672955930064\" stroke-linecap=\"round\" style=\"stroke:white;stroke-width:4\"/><line x1=\"376.5\" y1=\"261.1672955930064\" x2=\"375.5\" y2=\"261.1672955930064\" stroke-linecap=\"round\" style=\"stroke:white;stroke-width:4\"/><line x1=\"375.5\" y1=\"261.1672955930064\" x2=\"375.0\" y2=\"262.0333209967908\" stroke-linecap=\"round\" style=\"stroke:white;stroke-width:4\"/><line x1=\"375.0\" y1=\"262.0333209967908\" x2=\"374.5\" y2=\"261.1672955930064\" stroke-linecap=\"round\" style=\"stroke:white;stroke-width:4\"/><line x1=\"374.5\" y1=\"261.1672955930064\" x2=\"370.5\" y2=\"261.1672955930064\" stroke-linecap=\"round\" style=\"stroke:white;stroke-width:4\"/><line x1=\"370.5\" y1=\"261.1672955930064\" x2=\"369.5\" y2=\"262.89934640057527\" stroke-linecap=\"round\" style=\"stroke:white;stroke-width:4\"/><line x1=\"369.5\" y1=\"262.89934640057527\" x2=\"370.0\" y2=\"263.7653718043597\" stroke-linecap=\"round\" style=\"stroke:white;stroke-width:4\"/><line x1=\"370.0\" y1=\"263.7653718043597\" x2=\"371.0\" y2=\"263.7653718043597\" stroke-linecap=\"round\" style=\"stroke:white;stroke-width:4\"/><line x1=\"371.0\" y1=\"263.7653718043597\" x2=\"370.5\" y2=\"264.6313972081441\" stroke-linecap=\"round\" style=\"stroke:white;stroke-width:4\"/><line x1=\"370.5\" y1=\"264.6313972081441\" x2=\"369.5\" y2=\"264.6313972081441\" stroke-linecap=\"round\" style=\"stroke:white;stroke-width:4\"/><line x1=\"369.5\" y1=\"264.6313972081441\" x2=\"369.0\" y2=\"265.4974226119285\" stroke-linecap=\"round\" style=\"stroke:white;stroke-width:4\"/><line x1=\"369.0\" y1=\"265.4974226119285\" x2=\"368.5\" y2=\"264.6313972081441\" stroke-linecap=\"round\" style=\"stroke:white;stroke-width:4\"/><line x1=\"368.5\" y1=\"264.6313972081441\" x2=\"367.5\" y2=\"262.8993464005752\" stroke-linecap=\"round\" style=\"stroke:white;stroke-width:4\"/><line x1=\"367.5\" y1=\"262.8993464005752\" x2=\"366.5\" y2=\"262.8993464005752\" stroke-linecap=\"round\" style=\"stroke:white;stroke-width:4\"/><line x1=\"366.5\" y1=\"262.8993464005752\" x2=\"366.0\" y2=\"263.76537180435963\" stroke-linecap=\"round\" style=\"stroke:white;stroke-width:4\"/><line x1=\"366.0\" y1=\"263.76537180435963\" x2=\"365.5\" y2=\"262.8993464005752\" stroke-linecap=\"round\" style=\"stroke:white;stroke-width:4\"/><line x1=\"365.5\" y1=\"262.8993464005752\" x2=\"366.0\" y2=\"262.0333209967908\" stroke-linecap=\"round\" style=\"stroke:white;stroke-width:4\"/><line x1=\"366.0\" y1=\"262.0333209967908\" x2=\"365.5\" y2=\"261.1672955930064\" stroke-linecap=\"round\" style=\"stroke:white;stroke-width:4\"/><line x1=\"365.5\" y1=\"261.1672955930064\" x2=\"366.5\" y2=\"261.1672955930064\" stroke-linecap=\"round\" style=\"stroke:white;stroke-width:4\"/><line x1=\"366.5\" y1=\"261.1672955930064\" x2=\"363.5\" y2=\"255.97114317029974\" stroke-linecap=\"round\" style=\"stroke:white;stroke-width:4\"/><line x1=\"363.5\" y1=\"255.97114317029974\" x2=\"359.5\" y2=\"255.97114317029974\" stroke-linecap=\"round\" style=\"stroke:white;stroke-width:4\"/><line x1=\"359.5\" y1=\"255.97114317029974\" x2=\"358.5\" y2=\"257.70319397786864\" stroke-linecap=\"round\" style=\"stroke:white;stroke-width:4\"/><line x1=\"358.5\" y1=\"257.70319397786864\" x2=\"359.0\" y2=\"258.56921938165306\" stroke-linecap=\"round\" style=\"stroke:white;stroke-width:4\"/><line x1=\"359.0\" y1=\"258.56921938165306\" x2=\"360.0\" y2=\"258.56921938165306\" stroke-linecap=\"round\" style=\"stroke:white;stroke-width:4\"/><line x1=\"360.0\" y1=\"258.56921938165306\" x2=\"359.5\" y2=\"259.4352447854375\" stroke-linecap=\"round\" style=\"stroke:white;stroke-width:4\"/><line x1=\"359.5\" y1=\"259.4352447854375\" x2=\"358.5\" y2=\"259.4352447854375\" stroke-linecap=\"round\" style=\"stroke:white;stroke-width:4\"/><line x1=\"358.5\" y1=\"259.4352447854375\" x2=\"358.0\" y2=\"260.3012701892219\" stroke-linecap=\"round\" style=\"stroke:white;stroke-width:4\"/><line x1=\"358.0\" y1=\"260.3012701892219\" x2=\"357.5\" y2=\"259.4352447854375\" stroke-linecap=\"round\" style=\"stroke:white;stroke-width:4\"/><line x1=\"357.5\" y1=\"259.4352447854375\" x2=\"356.5\" y2=\"257.7031939778686\" stroke-linecap=\"round\" style=\"stroke:white;stroke-width:4\"/><line x1=\"356.5\" y1=\"257.7031939778686\" x2=\"355.5\" y2=\"257.7031939778686\" stroke-linecap=\"round\" style=\"stroke:white;stroke-width:4\"/><line x1=\"355.5\" y1=\"257.7031939778686\" x2=\"355.0\" y2=\"258.569219381653\" stroke-linecap=\"round\" style=\"stroke:white;stroke-width:4\"/><line x1=\"355.0\" y1=\"258.569219381653\" x2=\"354.5\" y2=\"257.7031939778686\" stroke-linecap=\"round\" style=\"stroke:white;stroke-width:4\"/><line x1=\"354.5\" y1=\"257.7031939778686\" x2=\"355.0\" y2=\"256.83716857408416\" stroke-linecap=\"round\" style=\"stroke:white;stroke-width:4\"/><line x1=\"355.0\" y1=\"256.83716857408416\" x2=\"354.5\" y2=\"255.9711431702997\" stroke-linecap=\"round\" style=\"stroke:white;stroke-width:4\"/><line x1=\"354.5\" y1=\"255.9711431702997\" x2=\"355.5\" y2=\"255.9711431702997\" stroke-linecap=\"round\" style=\"stroke:white;stroke-width:4\"/><line x1=\"355.5\" y1=\"255.9711431702997\" x2=\"357.5\" y2=\"252.50704155516195\" stroke-linecap=\"round\" style=\"stroke:white;stroke-width:4\"/><line x1=\"357.5\" y1=\"252.50704155516195\" x2=\"356.5\" y2=\"250.77499074759308\" stroke-linecap=\"round\" style=\"stroke:white;stroke-width:4\"/><line x1=\"356.5\" y1=\"250.77499074759308\" x2=\"355.5\" y2=\"250.77499074759308\" stroke-linecap=\"round\" style=\"stroke:white;stroke-width:4\"/><line x1=\"355.5\" y1=\"250.77499074759308\" x2=\"355.0\" y2=\"251.64101615137753\" stroke-linecap=\"round\" style=\"stroke:white;stroke-width:4\"/><line x1=\"355.0\" y1=\"251.64101615137753\" x2=\"354.5\" y2=\"250.77499074759308\" stroke-linecap=\"round\" style=\"stroke:white;stroke-width:4\"/><line x1=\"354.5\" y1=\"250.77499074759308\" x2=\"355.0\" y2=\"249.90896534380863\" stroke-linecap=\"round\" style=\"stroke:white;stroke-width:4\"/><line x1=\"355.0\" y1=\"249.90896534380863\" x2=\"354.5\" y2=\"249.04293994002418\" stroke-linecap=\"round\" style=\"stroke:white;stroke-width:4\"/><line x1=\"354.5\" y1=\"249.04293994002418\" x2=\"355.5\" y2=\"249.04293994002418\" stroke-linecap=\"round\" style=\"stroke:white;stroke-width:4\"/><line x1=\"355.5\" y1=\"249.04293994002418\" x2=\"357.5\" y2=\"249.04293994002418\" stroke-linecap=\"round\" style=\"stroke:white;stroke-width:4\"/><line x1=\"357.5\" y1=\"249.04293994002418\" x2=\"358.0\" y2=\"248.17691453623974\" stroke-linecap=\"round\" style=\"stroke:white;stroke-width:4\"/><line x1=\"358.0\" y1=\"248.17691453623974\" x2=\"357.5\" y2=\"247.3108891324553\" stroke-linecap=\"round\" style=\"stroke:white;stroke-width:4\"/><line x1=\"357.5\" y1=\"247.3108891324553\" x2=\"358.5\" y2=\"247.3108891324553\" stroke-linecap=\"round\" style=\"stroke:white;stroke-width:4\"/><line x1=\"358.5\" y1=\"247.3108891324553\" x2=\"359.0\" y2=\"248.17691453623974\" stroke-linecap=\"round\" style=\"stroke:white;stroke-width:4\"/><line x1=\"359.0\" y1=\"248.17691453623974\" x2=\"360.0\" y2=\"248.17691453623974\" stroke-linecap=\"round\" style=\"stroke:white;stroke-width:4\"/><line x1=\"360.0\" y1=\"248.17691453623974\" x2=\"359.5\" y2=\"249.04293994002418\" stroke-linecap=\"round\" style=\"stroke:white;stroke-width:4\"/><line x1=\"359.5\" y1=\"249.04293994002418\" x2=\"352.5\" y2=\"236.91858428704205\" stroke-linecap=\"round\" style=\"stroke:white;stroke-width:4\"/><line x1=\"352.5\" y1=\"236.91858428704205\" x2=\"343.5\" y2=\"236.91858428704205\" stroke-linecap=\"round\" style=\"stroke:white;stroke-width:4\"/><line x1=\"343.5\" y1=\"236.91858428704205\" x2=\"340.5\" y2=\"242.11473670974868\" stroke-linecap=\"round\" style=\"stroke:white;stroke-width:4\"/><line x1=\"340.5\" y1=\"242.11473670974868\" x2=\"342.5\" y2=\"245.57883832488645\" stroke-linecap=\"round\" style=\"stroke:white;stroke-width:4\"/><line x1=\"342.5\" y1=\"245.57883832488645\" x2=\"344.5\" y2=\"245.57883832488645\" stroke-linecap=\"round\" style=\"stroke:white;stroke-width:4\"/><line x1=\"344.5\" y1=\"245.57883832488645\" x2=\"345.0\" y2=\"244.712812921102\" stroke-linecap=\"round\" style=\"stroke:white;stroke-width:4\"/><line x1=\"345.0\" y1=\"244.712812921102\" x2=\"344.5\" y2=\"243.84678751731755\" stroke-linecap=\"round\" style=\"stroke:white;stroke-width:4\"/><line x1=\"344.5\" y1=\"243.84678751731755\" x2=\"345.5\" y2=\"243.84678751731755\" stroke-linecap=\"round\" style=\"stroke:white;stroke-width:4\"/><line x1=\"345.5\" y1=\"243.84678751731755\" x2=\"346.0\" y2=\"244.712812921102\" stroke-linecap=\"round\" style=\"stroke:white;stroke-width:4\"/><line x1=\"346.0\" y1=\"244.712812921102\" x2=\"347.0\" y2=\"244.712812921102\" stroke-linecap=\"round\" style=\"stroke:white;stroke-width:4\"/><line x1=\"347.0\" y1=\"244.712812921102\" x2=\"346.5\" y2=\"245.57883832488645\" stroke-linecap=\"round\" style=\"stroke:white;stroke-width:4\"/><line x1=\"346.5\" y1=\"245.57883832488645\" x2=\"345.5\" y2=\"247.31088913245532\" stroke-linecap=\"round\" style=\"stroke:white;stroke-width:4\"/><line x1=\"345.5\" y1=\"247.31088913245532\" x2=\"346.0\" y2=\"248.17691453623976\" stroke-linecap=\"round\" style=\"stroke:white;stroke-width:4\"/><line x1=\"346.0\" y1=\"248.17691453623976\" x2=\"347.0\" y2=\"248.17691453623976\" stroke-linecap=\"round\" style=\"stroke:white;stroke-width:4\"/><line x1=\"347.0\" y1=\"248.17691453623976\" x2=\"346.5\" y2=\"249.0429399400242\" stroke-linecap=\"round\" style=\"stroke:white;stroke-width:4\"/><line x1=\"346.5\" y1=\"249.0429399400242\" x2=\"345.5\" y2=\"249.0429399400242\" stroke-linecap=\"round\" style=\"stroke:white;stroke-width:4\"/><line x1=\"345.5\" y1=\"249.0429399400242\" x2=\"345.0\" y2=\"249.90896534380866\" stroke-linecap=\"round\" style=\"stroke:white;stroke-width:4\"/><line x1=\"345.0\" y1=\"249.90896534380866\" x2=\"344.5\" y2=\"249.0429399400242\" stroke-linecap=\"round\" style=\"stroke:white;stroke-width:4\"/><line x1=\"344.5\" y1=\"249.0429399400242\" x2=\"340.5\" y2=\"249.0429399400242\" stroke-linecap=\"round\" style=\"stroke:white;stroke-width:4\"/><line x1=\"340.5\" y1=\"249.0429399400242\" x2=\"339.5\" y2=\"250.77499074759308\" stroke-linecap=\"round\" style=\"stroke:white;stroke-width:4\"/><line x1=\"339.5\" y1=\"250.77499074759308\" x2=\"340.0\" y2=\"251.64101615137753\" stroke-linecap=\"round\" style=\"stroke:white;stroke-width:4\"/><line x1=\"340.0\" y1=\"251.64101615137753\" x2=\"341.0\" y2=\"251.64101615137753\" stroke-linecap=\"round\" style=\"stroke:white;stroke-width:4\"/><line x1=\"341.0\" y1=\"251.64101615137753\" x2=\"340.5\" y2=\"252.50704155516198\" stroke-linecap=\"round\" style=\"stroke:white;stroke-width:4\"/><line x1=\"340.5\" y1=\"252.50704155516198\" x2=\"339.5\" y2=\"252.50704155516198\" stroke-linecap=\"round\" style=\"stroke:white;stroke-width:4\"/><line x1=\"339.5\" y1=\"252.50704155516198\" x2=\"339.0\" y2=\"253.37306695894642\" stroke-linecap=\"round\" style=\"stroke:white;stroke-width:4\"/><line x1=\"339.0\" y1=\"253.37306695894642\" x2=\"338.5\" y2=\"252.50704155516198\" stroke-linecap=\"round\" style=\"stroke:white;stroke-width:4\"/><line x1=\"338.5\" y1=\"252.50704155516198\" x2=\"337.5\" y2=\"250.7749907475931\" stroke-linecap=\"round\" style=\"stroke:white;stroke-width:4\"/><line x1=\"337.5\" y1=\"250.7749907475931\" x2=\"336.5\" y2=\"250.7749907475931\" stroke-linecap=\"round\" style=\"stroke:white;stroke-width:4\"/><line x1=\"336.5\" y1=\"250.7749907475931\" x2=\"336.0\" y2=\"251.64101615137756\" stroke-linecap=\"round\" style=\"stroke:white;stroke-width:4\"/><line x1=\"336.0\" y1=\"251.64101615137756\" x2=\"335.5\" y2=\"250.7749907475931\" stroke-linecap=\"round\" style=\"stroke:white;stroke-width:4\"/><line x1=\"335.5\" y1=\"250.7749907475931\" x2=\"336.0\" y2=\"249.90896534380866\" stroke-linecap=\"round\" style=\"stroke:white;stroke-width:4\"/><line x1=\"336.0\" y1=\"249.90896534380866\" x2=\"335.5\" y2=\"249.0429399400242\" stroke-linecap=\"round\" style=\"stroke:white;stroke-width:4\"/><line x1=\"335.5\" y1=\"249.0429399400242\" x2=\"336.5\" y2=\"249.0429399400242\" stroke-linecap=\"round\" style=\"stroke:white;stroke-width:4\"/><line x1=\"336.5\" y1=\"249.0429399400242\" x2=\"333.5\" y2=\"243.84678751731758\" stroke-linecap=\"round\" style=\"stroke:white;stroke-width:4\"/><line x1=\"333.5\" y1=\"243.84678751731758\" x2=\"329.5\" y2=\"243.84678751731758\" stroke-linecap=\"round\" style=\"stroke:white;stroke-width:4\"/><line x1=\"329.5\" y1=\"243.84678751731758\" x2=\"328.5\" y2=\"245.57883832488645\" stroke-linecap=\"round\" style=\"stroke:white;stroke-width:4\"/><line x1=\"328.5\" y1=\"245.57883832488645\" x2=\"329.0\" y2=\"246.4448637286709\" stroke-linecap=\"round\" style=\"stroke:white;stroke-width:4\"/><line x1=\"329.0\" y1=\"246.4448637286709\" x2=\"330.0\" y2=\"246.4448637286709\" stroke-linecap=\"round\" style=\"stroke:white;stroke-width:4\"/><line x1=\"330.0\" y1=\"246.4448637286709\" x2=\"329.5\" y2=\"247.31088913245534\" stroke-linecap=\"round\" style=\"stroke:white;stroke-width:4\"/><line x1=\"329.5\" y1=\"247.31088913245534\" x2=\"328.5\" y2=\"247.31088913245534\" stroke-linecap=\"round\" style=\"stroke:white;stroke-width:4\"/><line x1=\"328.5\" y1=\"247.31088913245534\" x2=\"328.0\" y2=\"248.1769145362398\" stroke-linecap=\"round\" style=\"stroke:white;stroke-width:4\"/><line x1=\"328.0\" y1=\"248.1769145362398\" x2=\"327.5\" y2=\"247.31088913245534\" stroke-linecap=\"round\" style=\"stroke:white;stroke-width:4\"/><line x1=\"327.5\" y1=\"247.31088913245534\" x2=\"326.5\" y2=\"245.57883832488648\" stroke-linecap=\"round\" style=\"stroke:white;stroke-width:4\"/><line x1=\"326.5\" y1=\"245.57883832488648\" x2=\"325.5\" y2=\"245.57883832488648\" stroke-linecap=\"round\" style=\"stroke:white;stroke-width:4\"/><line x1=\"325.5\" y1=\"245.57883832488648\" x2=\"325.0\" y2=\"246.44486372867092\" stroke-linecap=\"round\" style=\"stroke:white;stroke-width:4\"/><line x1=\"325.0\" y1=\"246.44486372867092\" x2=\"324.5\" y2=\"245.57883832488648\" stroke-linecap=\"round\" style=\"stroke:white;stroke-width:4\"/><line x1=\"324.5\" y1=\"245.57883832488648\" x2=\"325.0\" y2=\"244.71281292110203\" stroke-linecap=\"round\" style=\"stroke:white;stroke-width:4\"/><line x1=\"325.0\" y1=\"244.71281292110203\" x2=\"324.5\" y2=\"243.84678751731758\" stroke-linecap=\"round\" style=\"stroke:white;stroke-width:4\"/><line x1=\"324.5\" y1=\"243.84678751731758\" x2=\"325.5\" y2=\"243.84678751731758\" stroke-linecap=\"round\" style=\"stroke:white;stroke-width:4\"/><line x1=\"325.5\" y1=\"243.84678751731758\" x2=\"327.5\" y2=\"240.38268590217982\" stroke-linecap=\"round\" style=\"stroke:white;stroke-width:4\"/><line x1=\"327.5\" y1=\"240.38268590217982\" x2=\"326.5\" y2=\"238.65063509461095\" stroke-linecap=\"round\" style=\"stroke:white;stroke-width:4\"/><line x1=\"326.5\" y1=\"238.65063509461095\" x2=\"325.5\" y2=\"238.65063509461095\" stroke-linecap=\"round\" style=\"stroke:white;stroke-width:4\"/><line x1=\"325.5\" y1=\"238.65063509461095\" x2=\"325.0\" y2=\"239.5166604983954\" stroke-linecap=\"round\" style=\"stroke:white;stroke-width:4\"/><line x1=\"325.0\" y1=\"239.5166604983954\" x2=\"324.5\" y2=\"238.65063509461095\" stroke-linecap=\"round\" style=\"stroke:white;stroke-width:4\"/><line x1=\"324.5\" y1=\"238.65063509461095\" x2=\"325.0\" y2=\"237.7846096908265\" stroke-linecap=\"round\" style=\"stroke:white;stroke-width:4\"/><line x1=\"325.0\" y1=\"237.7846096908265\" x2=\"324.5\" y2=\"236.91858428704205\" stroke-linecap=\"round\" style=\"stroke:white;stroke-width:4\"/><line x1=\"324.5\" y1=\"236.91858428704205\" x2=\"325.5\" y2=\"236.91858428704205\" stroke-linecap=\"round\" style=\"stroke:white;stroke-width:4\"/><line x1=\"325.5\" y1=\"236.91858428704205\" x2=\"327.5\" y2=\"236.91858428704205\" stroke-linecap=\"round\" style=\"stroke:white;stroke-width:4\"/><line x1=\"327.5\" y1=\"236.91858428704205\" x2=\"328.0\" y2=\"236.0525588832576\" stroke-linecap=\"round\" style=\"stroke:white;stroke-width:4\"/><line x1=\"328.0\" y1=\"236.0525588832576\" x2=\"327.5\" y2=\"235.18653347947316\" stroke-linecap=\"round\" style=\"stroke:white;stroke-width:4\"/><line x1=\"327.5\" y1=\"235.18653347947316\" x2=\"328.5\" y2=\"235.18653347947316\" stroke-linecap=\"round\" style=\"stroke:white;stroke-width:4\"/><line x1=\"328.5\" y1=\"235.18653347947316\" x2=\"329.0\" y2=\"236.0525588832576\" stroke-linecap=\"round\" style=\"stroke:white;stroke-width:4\"/><line x1=\"329.0\" y1=\"236.0525588832576\" x2=\"330.0\" y2=\"236.0525588832576\" stroke-linecap=\"round\" style=\"stroke:white;stroke-width:4\"/><line x1=\"330.0\" y1=\"236.0525588832576\" x2=\"329.5\" y2=\"236.91858428704205\" stroke-linecap=\"round\" style=\"stroke:white;stroke-width:4\"/><line x1=\"329.5\" y1=\"236.91858428704205\" x2=\"334.0\" y2=\"229.1243556529821\" stroke-linecap=\"round\" style=\"stroke:white;stroke-width:4\"/><line x1=\"334.0\" y1=\"229.1243556529821\" x2=\"331.0\" y2=\"223.92820323027547\" stroke-linecap=\"round\" style=\"stroke:white;stroke-width:4\"/><line x1=\"331.0\" y1=\"223.92820323027547\" x2=\"327.0\" y2=\"223.92820323027547\" stroke-linecap=\"round\" style=\"stroke:white;stroke-width:4\"/><line x1=\"327.0\" y1=\"223.92820323027547\" x2=\"326.0\" y2=\"225.66025403784434\" stroke-linecap=\"round\" style=\"stroke:white;stroke-width:4\"/><line x1=\"326.0\" y1=\"225.66025403784434\" x2=\"326.5\" y2=\"226.5262794416288\" stroke-linecap=\"round\" style=\"stroke:white;stroke-width:4\"/><line x1=\"326.5\" y1=\"226.5262794416288\" x2=\"327.5\" y2=\"226.5262794416288\" stroke-linecap=\"round\" style=\"stroke:white;stroke-width:4\"/><line x1=\"327.5\" y1=\"226.5262794416288\" x2=\"327.0\" y2=\"227.39230484541324\" stroke-linecap=\"round\" style=\"stroke:white;stroke-width:4\"/><line x1=\"327.0\" y1=\"227.39230484541324\" x2=\"326.0\" y2=\"227.39230484541324\" stroke-linecap=\"round\" style=\"stroke:white;stroke-width:4\"/><line x1=\"326.0\" y1=\"227.39230484541324\" x2=\"325.5\" y2=\"228.25833024919768\" stroke-linecap=\"round\" style=\"stroke:white;stroke-width:4\"/><line x1=\"325.5\" y1=\"228.25833024919768\" x2=\"325.0\" y2=\"227.39230484541324\" stroke-linecap=\"round\" style=\"stroke:white;stroke-width:4\"/><line x1=\"325.0\" y1=\"227.39230484541324\" x2=\"324.0\" y2=\"225.66025403784437\" stroke-linecap=\"round\" style=\"stroke:white;stroke-width:4\"/><line x1=\"324.0\" y1=\"225.66025403784437\" x2=\"323.0\" y2=\"225.66025403784437\" stroke-linecap=\"round\" style=\"stroke:white;stroke-width:4\"/><line x1=\"323.0\" y1=\"225.66025403784437\" x2=\"322.5\" y2=\"226.52627944162882\" stroke-linecap=\"round\" style=\"stroke:white;stroke-width:4\"/><line x1=\"322.5\" y1=\"226.52627944162882\" x2=\"322.0\" y2=\"225.66025403784437\" stroke-linecap=\"round\" style=\"stroke:white;stroke-width:4\"/><line x1=\"322.0\" y1=\"225.66025403784437\" x2=\"322.5\" y2=\"224.79422863405992\" stroke-linecap=\"round\" style=\"stroke:white;stroke-width:4\"/><line x1=\"322.5\" y1=\"224.79422863405992\" x2=\"322.0\" y2=\"223.92820323027547\" stroke-linecap=\"round\" style=\"stroke:white;stroke-width:4\"/><line x1=\"322.0\" y1=\"223.92820323027547\" x2=\"323.0\" y2=\"223.92820323027547\" stroke-linecap=\"round\" style=\"stroke:white;stroke-width:4\"/><line x1=\"323.0\" y1=\"223.92820323027547\" x2=\"325.0\" y2=\"220.4641016151377\" stroke-linecap=\"round\" style=\"stroke:white;stroke-width:4\"/><line x1=\"325.0\" y1=\"220.4641016151377\" x2=\"324.0\" y2=\"218.73205080756884\" stroke-linecap=\"round\" style=\"stroke:white;stroke-width:4\"/><line x1=\"324.0\" y1=\"218.73205080756884\" x2=\"323.0\" y2=\"218.73205080756884\" stroke-linecap=\"round\" style=\"stroke:white;stroke-width:4\"/><line x1=\"323.0\" y1=\"218.73205080756884\" x2=\"322.5\" y2=\"219.5980762113533\" stroke-linecap=\"round\" style=\"stroke:white;stroke-width:4\"/><line x1=\"322.5\" y1=\"219.5980762113533\" x2=\"322.0\" y2=\"218.73205080756884\" stroke-linecap=\"round\" style=\"stroke:white;stroke-width:4\"/><line x1=\"322.0\" y1=\"218.73205080756884\" x2=\"322.5\" y2=\"217.8660254037844\" stroke-linecap=\"round\" style=\"stroke:white;stroke-width:4\"/><line x1=\"322.5\" y1=\"217.8660254037844\" x2=\"322.0\" y2=\"216.99999999999994\" stroke-linecap=\"round\" style=\"stroke:white;stroke-width:4\"/><line x1=\"322.0\" y1=\"216.99999999999994\" x2=\"323.0\" y2=\"216.99999999999994\" stroke-linecap=\"round\" style=\"stroke:white;stroke-width:4\"/><line x1=\"323.0\" y1=\"216.99999999999994\" x2=\"325.0\" y2=\"216.99999999999994\" stroke-linecap=\"round\" style=\"stroke:white;stroke-width:4\"/><line x1=\"325.0\" y1=\"216.99999999999994\" x2=\"325.5\" y2=\"216.1339745962155\" stroke-linecap=\"round\" style=\"stroke:white;stroke-width:4\"/><line x1=\"325.5\" y1=\"216.1339745962155\" x2=\"325.0\" y2=\"215.26794919243105\" stroke-linecap=\"round\" style=\"stroke:white;stroke-width:4\"/><line x1=\"325.0\" y1=\"215.26794919243105\" x2=\"326.0\" y2=\"215.26794919243105\" stroke-linecap=\"round\" style=\"stroke:white;stroke-width:4\"/><line x1=\"326.0\" y1=\"215.26794919243105\" x2=\"326.5\" y2=\"216.1339745962155\" stroke-linecap=\"round\" style=\"stroke:white;stroke-width:4\"/><line x1=\"326.5\" y1=\"216.1339745962155\" x2=\"327.5\" y2=\"216.1339745962155\" stroke-linecap=\"round\" style=\"stroke:white;stroke-width:4\"/><line x1=\"327.5\" y1=\"216.1339745962155\" x2=\"327.0\" y2=\"216.99999999999994\" stroke-linecap=\"round\" style=\"stroke:white;stroke-width:4\"/><line x1=\"327.0\" y1=\"216.99999999999994\" x2=\"333.0\" y2=\"216.99999999999994\" stroke-linecap=\"round\" style=\"stroke:white;stroke-width:4\"/><line x1=\"333.0\" y1=\"216.99999999999994\" x2=\"335.0\" y2=\"213.53589838486218\" stroke-linecap=\"round\" style=\"stroke:white;stroke-width:4\"/><line x1=\"335.0\" y1=\"213.53589838486218\" x2=\"334.0\" y2=\"211.8038475772933\" stroke-linecap=\"round\" style=\"stroke:white;stroke-width:4\"/><line x1=\"334.0\" y1=\"211.8038475772933\" x2=\"333.0\" y2=\"211.8038475772933\" stroke-linecap=\"round\" style=\"stroke:white;stroke-width:4\"/><line x1=\"333.0\" y1=\"211.8038475772933\" x2=\"332.5\" y2=\"212.66987298107776\" stroke-linecap=\"round\" style=\"stroke:white;stroke-width:4\"/><line x1=\"332.5\" y1=\"212.66987298107776\" x2=\"332.0\" y2=\"211.8038475772933\" stroke-linecap=\"round\" style=\"stroke:white;stroke-width:4\"/><line x1=\"332.0\" y1=\"211.8038475772933\" x2=\"332.5\" y2=\"210.93782217350886\" stroke-linecap=\"round\" style=\"stroke:white;stroke-width:4\"/><line x1=\"332.5\" y1=\"210.93782217350886\" x2=\"332.0\" y2=\"210.07179676972441\" stroke-linecap=\"round\" style=\"stroke:white;stroke-width:4\"/><line x1=\"332.0\" y1=\"210.07179676972441\" x2=\"333.0\" y2=\"210.07179676972441\" stroke-linecap=\"round\" style=\"stroke:white;stroke-width:4\"/><line x1=\"333.0\" y1=\"210.07179676972441\" x2=\"335.0\" y2=\"210.07179676972441\" stroke-linecap=\"round\" style=\"stroke:white;stroke-width:4\"/><line x1=\"335.0\" y1=\"210.07179676972441\" x2=\"335.5\" y2=\"209.20577136593997\" stroke-linecap=\"round\" style=\"stroke:white;stroke-width:4\"/><line x1=\"335.5\" y1=\"209.20577136593997\" x2=\"335.0\" y2=\"208.33974596215552\" stroke-linecap=\"round\" style=\"stroke:white;stroke-width:4\"/><line x1=\"335.0\" y1=\"208.33974596215552\" x2=\"336.0\" y2=\"208.33974596215552\" stroke-linecap=\"round\" style=\"stroke:white;stroke-width:4\"/><line x1=\"336.0\" y1=\"208.33974596215552\" x2=\"336.5\" y2=\"209.20577136593997\" stroke-linecap=\"round\" style=\"stroke:white;stroke-width:4\"/><line x1=\"336.5\" y1=\"209.20577136593997\" x2=\"337.5\" y2=\"209.20577136593997\" stroke-linecap=\"round\" style=\"stroke:white;stroke-width:4\"/><line x1=\"337.5\" y1=\"209.20577136593997\" x2=\"337.0\" y2=\"210.07179676972441\" stroke-linecap=\"round\" style=\"stroke:white;stroke-width:4\"/><line x1=\"337.0\" y1=\"210.07179676972441\" x2=\"339.0\" y2=\"213.53589838486218\" stroke-linecap=\"round\" style=\"stroke:white;stroke-width:4\"/><line x1=\"339.0\" y1=\"213.53589838486218\" x2=\"341.0\" y2=\"213.53589838486218\" stroke-linecap=\"round\" style=\"stroke:white;stroke-width:4\"/><line x1=\"341.0\" y1=\"213.53589838486218\" x2=\"341.5\" y2=\"212.66987298107773\" stroke-linecap=\"round\" style=\"stroke:white;stroke-width:4\"/><line x1=\"341.5\" y1=\"212.66987298107773\" x2=\"341.0\" y2=\"211.80384757729328\" stroke-linecap=\"round\" style=\"stroke:white;stroke-width:4\"/><line x1=\"341.0\" y1=\"211.80384757729328\" x2=\"342.0\" y2=\"211.80384757729328\" stroke-linecap=\"round\" style=\"stroke:white;stroke-width:4\"/><line x1=\"342.0\" y1=\"211.80384757729328\" x2=\"342.5\" y2=\"212.66987298107773\" stroke-linecap=\"round\" style=\"stroke:white;stroke-width:4\"/><line x1=\"342.5\" y1=\"212.66987298107773\" x2=\"343.5\" y2=\"212.66987298107773\" stroke-linecap=\"round\" style=\"stroke:white;stroke-width:4\"/><line x1=\"343.5\" y1=\"212.66987298107773\" x2=\"343.0\" y2=\"213.53589838486218\" stroke-linecap=\"round\" style=\"stroke:white;stroke-width:4\"/><line x1=\"343.0\" y1=\"213.53589838486218\" x2=\"342.0\" y2=\"215.26794919243105\" stroke-linecap=\"round\" style=\"stroke:white;stroke-width:4\"/><line x1=\"342.0\" y1=\"215.26794919243105\" x2=\"342.5\" y2=\"216.1339745962155\" stroke-linecap=\"round\" style=\"stroke:white;stroke-width:4\"/><line x1=\"342.5\" y1=\"216.1339745962155\" x2=\"343.5\" y2=\"216.1339745962155\" stroke-linecap=\"round\" style=\"stroke:white;stroke-width:4\"/><line x1=\"343.5\" y1=\"216.1339745962155\" x2=\"343.0\" y2=\"216.99999999999994\" stroke-linecap=\"round\" style=\"stroke:white;stroke-width:4\"/><line x1=\"343.0\" y1=\"216.99999999999994\" x2=\"342.0\" y2=\"216.99999999999994\" stroke-linecap=\"round\" style=\"stroke:white;stroke-width:4\"/><line x1=\"342.0\" y1=\"216.99999999999994\" x2=\"341.5\" y2=\"217.8660254037844\" stroke-linecap=\"round\" style=\"stroke:white;stroke-width:4\"/><line x1=\"341.5\" y1=\"217.8660254037844\" x2=\"341.0\" y2=\"216.99999999999994\" stroke-linecap=\"round\" style=\"stroke:white;stroke-width:4\"/><line x1=\"341.0\" y1=\"216.99999999999994\" x2=\"363.0\" y2=\"216.99999999999994\" stroke-linecap=\"round\" style=\"stroke:white;stroke-width:4\"/><line x1=\"363.0\" y1=\"216.99999999999994\" x2=\"370.0\" y2=\"204.8756443470178\" stroke-linecap=\"round\" style=\"stroke:white;stroke-width:4\"/><line x1=\"370.0\" y1=\"204.8756443470178\" x2=\"365.5\" y2=\"197.08141571295786\" stroke-linecap=\"round\" style=\"stroke:white;stroke-width:4\"/><line x1=\"365.5\" y1=\"197.08141571295786\" x2=\"359.5\" y2=\"197.08141571295786\" stroke-linecap=\"round\" style=\"stroke:white;stroke-width:4\"/><line x1=\"359.5\" y1=\"197.08141571295786\" x2=\"357.5\" y2=\"200.54551732809563\" stroke-linecap=\"round\" style=\"stroke:white;stroke-width:4\"/><line x1=\"357.5\" y1=\"200.54551732809563\" x2=\"358.5\" y2=\"202.2775681356645\" stroke-linecap=\"round\" style=\"stroke:white;stroke-width:4\"/><line x1=\"358.5\" y1=\"202.2775681356645\" x2=\"359.5\" y2=\"202.2775681356645\" stroke-linecap=\"round\" style=\"stroke:white;stroke-width:4\"/><line x1=\"359.5\" y1=\"202.2775681356645\" x2=\"360.0\" y2=\"201.41154273188005\" stroke-linecap=\"round\" style=\"stroke:white;stroke-width:4\"/><line x1=\"360.0\" y1=\"201.41154273188005\" x2=\"360.5\" y2=\"202.2775681356645\" stroke-linecap=\"round\" style=\"stroke:white;stroke-width:4\"/><line x1=\"360.5\" y1=\"202.2775681356645\" x2=\"360.0\" y2=\"203.14359353944894\" stroke-linecap=\"round\" style=\"stroke:white;stroke-width:4\"/><line x1=\"360.0\" y1=\"203.14359353944894\" x2=\"360.5\" y2=\"204.0096189432334\" stroke-linecap=\"round\" style=\"stroke:white;stroke-width:4\"/><line x1=\"360.5\" y1=\"204.0096189432334\" x2=\"359.5\" y2=\"204.0096189432334\" stroke-linecap=\"round\" style=\"stroke:white;stroke-width:4\"/><line x1=\"359.5\" y1=\"204.0096189432334\" x2=\"357.5\" y2=\"204.0096189432334\" stroke-linecap=\"round\" style=\"stroke:white;stroke-width:4\"/><line x1=\"357.5\" y1=\"204.0096189432334\" x2=\"357.0\" y2=\"204.87564434701784\" stroke-linecap=\"round\" style=\"stroke:white;stroke-width:4\"/><line x1=\"357.0\" y1=\"204.87564434701784\" x2=\"357.5\" y2=\"205.7416697508023\" stroke-linecap=\"round\" style=\"stroke:white;stroke-width:4\"/><line x1=\"357.5\" y1=\"205.7416697508023\" x2=\"356.5\" y2=\"205.7416697508023\" stroke-linecap=\"round\" style=\"stroke:white;stroke-width:4\"/><line x1=\"356.5\" y1=\"205.7416697508023\" x2=\"356.0\" y2=\"204.87564434701784\" stroke-linecap=\"round\" style=\"stroke:white;stroke-width:4\"/><line x1=\"356.0\" y1=\"204.87564434701784\" x2=\"355.0\" y2=\"204.87564434701784\" stroke-linecap=\"round\" style=\"stroke:white;stroke-width:4\"/><line x1=\"355.0\" y1=\"204.87564434701784\" x2=\"355.5\" y2=\"204.0096189432334\" stroke-linecap=\"round\" style=\"stroke:white;stroke-width:4\"/><line x1=\"355.5\" y1=\"204.0096189432334\" x2=\"353.5\" y2=\"200.54551732809563\" stroke-linecap=\"round\" style=\"stroke:white;stroke-width:4\"/><line x1=\"353.5\" y1=\"200.54551732809563\" x2=\"351.5\" y2=\"200.54551732809563\" stroke-linecap=\"round\" style=\"stroke:white;stroke-width:4\"/><line x1=\"351.5\" y1=\"200.54551732809563\" x2=\"351.0\" y2=\"201.41154273188008\" stroke-linecap=\"round\" style=\"stroke:white;stroke-width:4\"/><line x1=\"351.0\" y1=\"201.41154273188008\" x2=\"351.5\" y2=\"202.27756813566452\" stroke-linecap=\"round\" style=\"stroke:white;stroke-width:4\"/><line x1=\"351.5\" y1=\"202.27756813566452\" x2=\"350.5\" y2=\"202.27756813566452\" stroke-linecap=\"round\" style=\"stroke:white;stroke-width:4\"/><line x1=\"350.5\" y1=\"202.27756813566452\" x2=\"350.0\" y2=\"201.41154273188008\" stroke-linecap=\"round\" style=\"stroke:white;stroke-width:4\"/><line x1=\"350.0\" y1=\"201.41154273188008\" x2=\"349.0\" y2=\"201.41154273188008\" stroke-linecap=\"round\" style=\"stroke:white;stroke-width:4\"/><line x1=\"349.0\" y1=\"201.41154273188008\" x2=\"349.5\" y2=\"200.54551732809563\" stroke-linecap=\"round\" style=\"stroke:white;stroke-width:4\"/><line x1=\"349.5\" y1=\"200.54551732809563\" x2=\"350.5\" y2=\"198.81346652052676\" stroke-linecap=\"round\" style=\"stroke:white;stroke-width:4\"/><line x1=\"350.5\" y1=\"198.81346652052676\" x2=\"350.0\" y2=\"197.9474411167423\" stroke-linecap=\"round\" style=\"stroke:white;stroke-width:4\"/><line x1=\"350.0\" y1=\"197.9474411167423\" x2=\"349.0\" y2=\"197.9474411167423\" stroke-linecap=\"round\" style=\"stroke:white;stroke-width:4\"/><line x1=\"349.0\" y1=\"197.9474411167423\" x2=\"349.5\" y2=\"197.08141571295786\" stroke-linecap=\"round\" style=\"stroke:white;stroke-width:4\"/><line x1=\"349.5\" y1=\"197.08141571295786\" x2=\"350.5\" y2=\"197.08141571295786\" stroke-linecap=\"round\" style=\"stroke:white;stroke-width:4\"/><line x1=\"350.5\" y1=\"197.08141571295786\" x2=\"351.0\" y2=\"196.21539030917342\" stroke-linecap=\"round\" style=\"stroke:white;stroke-width:4\"/><line x1=\"351.0\" y1=\"196.21539030917342\" x2=\"351.5\" y2=\"197.08141571295786\" stroke-linecap=\"round\" style=\"stroke:white;stroke-width:4\"/><line x1=\"351.5\" y1=\"197.08141571295786\" x2=\"354.5\" y2=\"191.88526329025123\" stroke-linecap=\"round\" style=\"stroke:white;stroke-width:4\"/><line x1=\"354.5\" y1=\"191.88526329025123\" x2=\"352.5\" y2=\"188.42116167511347\" stroke-linecap=\"round\" style=\"stroke:white;stroke-width:4\"/><line x1=\"352.5\" y1=\"188.42116167511347\" x2=\"350.5\" y2=\"188.42116167511347\" stroke-linecap=\"round\" style=\"stroke:white;stroke-width:4\"/><line x1=\"350.5\" y1=\"188.42116167511347\" x2=\"350.0\" y2=\"189.28718707889792\" stroke-linecap=\"round\" style=\"stroke:white;stroke-width:4\"/><line x1=\"350.0\" y1=\"189.28718707889792\" x2=\"350.5\" y2=\"190.15321248268236\" stroke-linecap=\"round\" style=\"stroke:white;stroke-width:4\"/><line x1=\"350.5\" y1=\"190.15321248268236\" x2=\"349.5\" y2=\"190.15321248268236\" stroke-linecap=\"round\" style=\"stroke:white;stroke-width:4\"/><line x1=\"349.5\" y1=\"190.15321248268236\" x2=\"349.0\" y2=\"189.28718707889792\" stroke-linecap=\"round\" style=\"stroke:white;stroke-width:4\"/><line x1=\"349.0\" y1=\"189.28718707889792\" x2=\"348.0\" y2=\"189.28718707889792\" stroke-linecap=\"round\" style=\"stroke:white;stroke-width:4\"/><line x1=\"348.0\" y1=\"189.28718707889792\" x2=\"348.5\" y2=\"188.42116167511347\" stroke-linecap=\"round\" style=\"stroke:white;stroke-width:4\"/><line x1=\"348.5\" y1=\"188.42116167511347\" x2=\"349.5\" y2=\"186.6891108675446\" stroke-linecap=\"round\" style=\"stroke:white;stroke-width:4\"/><line x1=\"349.5\" y1=\"186.6891108675446\" x2=\"349.0\" y2=\"185.82308546376015\" stroke-linecap=\"round\" style=\"stroke:white;stroke-width:4\"/><line x1=\"349.0\" y1=\"185.82308546376015\" x2=\"348.0\" y2=\"185.82308546376015\" stroke-linecap=\"round\" style=\"stroke:white;stroke-width:4\"/><line x1=\"348.0\" y1=\"185.82308546376015\" x2=\"348.5\" y2=\"184.9570600599757\" stroke-linecap=\"round\" style=\"stroke:white;stroke-width:4\"/><line x1=\"348.5\" y1=\"184.9570600599757\" x2=\"349.5\" y2=\"184.9570600599757\" stroke-linecap=\"round\" style=\"stroke:white;stroke-width:4\"/><line x1=\"349.5\" y1=\"184.9570600599757\" x2=\"350.0\" y2=\"184.09103465619125\" stroke-linecap=\"round\" style=\"stroke:white;stroke-width:4\"/><line x1=\"350.0\" y1=\"184.09103465619125\" x2=\"350.5\" y2=\"184.9570600599757\" stroke-linecap=\"round\" style=\"stroke:white;stroke-width:4\"/><line x1=\"350.5\" y1=\"184.9570600599757\" x2=\"354.5\" y2=\"184.9570600599757\" stroke-linecap=\"round\" style=\"stroke:white;stroke-width:4\"/><line x1=\"354.5\" y1=\"184.9570600599757\" x2=\"355.5\" y2=\"183.22500925240684\" stroke-linecap=\"round\" style=\"stroke:white;stroke-width:4\"/><line x1=\"355.5\" y1=\"183.22500925240684\" x2=\"355.0\" y2=\"182.3589838486224\" stroke-linecap=\"round\" style=\"stroke:white;stroke-width:4\"/><line x1=\"355.0\" y1=\"182.3589838486224\" x2=\"354.0\" y2=\"182.3589838486224\" stroke-linecap=\"round\" style=\"stroke:white;stroke-width:4\"/><line x1=\"354.0\" y1=\"182.3589838486224\" x2=\"354.5\" y2=\"181.49295844483794\" stroke-linecap=\"round\" style=\"stroke:white;stroke-width:4\"/><line x1=\"354.5\" y1=\"181.49295844483794\" x2=\"355.5\" y2=\"181.49295844483794\" stroke-linecap=\"round\" style=\"stroke:white;stroke-width:4\"/><line x1=\"355.5\" y1=\"181.49295844483794\" x2=\"356.0\" y2=\"180.6269330410535\" stroke-linecap=\"round\" style=\"stroke:white;stroke-width:4\"/><line x1=\"356.0\" y1=\"180.6269330410535\" x2=\"356.5\" y2=\"181.49295844483794\" stroke-linecap=\"round\" style=\"stroke:white;stroke-width:4\"/><line x1=\"356.5\" y1=\"181.49295844483794\" x2=\"357.5\" y2=\"183.2250092524068\" stroke-linecap=\"round\" style=\"stroke:white;stroke-width:4\"/><line x1=\"357.5\" y1=\"183.2250092524068\" x2=\"358.5\" y2=\"183.2250092524068\" stroke-linecap=\"round\" style=\"stroke:white;stroke-width:4\"/><line x1=\"358.5\" y1=\"183.2250092524068\" x2=\"359.0\" y2=\"182.35898384862236\" stroke-linecap=\"round\" style=\"stroke:white;stroke-width:4\"/><line x1=\"359.0\" y1=\"182.35898384862236\" x2=\"359.5\" y2=\"183.2250092524068\" stroke-linecap=\"round\" style=\"stroke:white;stroke-width:4\"/><line x1=\"359.5\" y1=\"183.2250092524068\" x2=\"359.0\" y2=\"184.09103465619125\" stroke-linecap=\"round\" style=\"stroke:white;stroke-width:4\"/><line x1=\"359.0\" y1=\"184.09103465619125\" x2=\"359.5\" y2=\"184.9570600599757\" stroke-linecap=\"round\" style=\"stroke:white;stroke-width:4\"/><line x1=\"359.5\" y1=\"184.9570600599757\" x2=\"358.5\" y2=\"184.9570600599757\" stroke-linecap=\"round\" style=\"stroke:white;stroke-width:4\"/><line x1=\"358.5\" y1=\"184.9570600599757\" x2=\"367.5\" y2=\"184.9570600599757\" stroke-linecap=\"round\" style=\"stroke:white;stroke-width:4\"/><line x1=\"367.5\" y1=\"184.9570600599757\" x2=\"370.5\" y2=\"179.76090763726907\" stroke-linecap=\"round\" style=\"stroke:white;stroke-width:4\"/><line x1=\"370.5\" y1=\"179.76090763726907\" x2=\"368.5\" y2=\"176.2968060221313\" stroke-linecap=\"round\" style=\"stroke:white;stroke-width:4\"/><line x1=\"368.5\" y1=\"176.2968060221313\" x2=\"366.5\" y2=\"176.2968060221313\" stroke-linecap=\"round\" style=\"stroke:white;stroke-width:4\"/><line x1=\"366.5\" y1=\"176.2968060221313\" x2=\"366.0\" y2=\"177.16283142591575\" stroke-linecap=\"round\" style=\"stroke:white;stroke-width:4\"/><line x1=\"366.0\" y1=\"177.16283142591575\" x2=\"366.5\" y2=\"178.0288568297002\" stroke-linecap=\"round\" style=\"stroke:white;stroke-width:4\"/><line x1=\"366.5\" y1=\"178.0288568297002\" x2=\"365.5\" y2=\"178.0288568297002\" stroke-linecap=\"round\" style=\"stroke:white;stroke-width:4\"/><line x1=\"365.5\" y1=\"178.0288568297002\" x2=\"365.0\" y2=\"177.16283142591575\" stroke-linecap=\"round\" style=\"stroke:white;stroke-width:4\"/><line x1=\"365.0\" y1=\"177.16283142591575\" x2=\"364.0\" y2=\"177.16283142591575\" stroke-linecap=\"round\" style=\"stroke:white;stroke-width:4\"/><line x1=\"364.0\" y1=\"177.16283142591575\" x2=\"364.5\" y2=\"176.2968060221313\" stroke-linecap=\"round\" style=\"stroke:white;stroke-width:4\"/><line x1=\"364.5\" y1=\"176.2968060221313\" x2=\"365.5\" y2=\"174.56475521456244\" stroke-linecap=\"round\" style=\"stroke:white;stroke-width:4\"/><line x1=\"365.5\" y1=\"174.56475521456244\" x2=\"365.0\" y2=\"173.698729810778\" stroke-linecap=\"round\" style=\"stroke:white;stroke-width:4\"/><line x1=\"365.0\" y1=\"173.698729810778\" x2=\"364.0\" y2=\"173.698729810778\" stroke-linecap=\"round\" style=\"stroke:white;stroke-width:4\"/><line x1=\"364.0\" y1=\"173.698729810778\" x2=\"364.5\" y2=\"172.83270440699354\" stroke-linecap=\"round\" style=\"stroke:white;stroke-width:4\"/><line x1=\"364.5\" y1=\"172.83270440699354\" x2=\"365.5\" y2=\"172.83270440699354\" stroke-linecap=\"round\" style=\"stroke:white;stroke-width:4\"/><line x1=\"365.5\" y1=\"172.83270440699354\" x2=\"366.0\" y2=\"171.9666790032091\" stroke-linecap=\"round\" style=\"stroke:white;stroke-width:4\"/><line x1=\"366.0\" y1=\"171.9666790032091\" x2=\"366.5\" y2=\"172.83270440699354\" stroke-linecap=\"round\" style=\"stroke:white;stroke-width:4\"/><line x1=\"366.5\" y1=\"172.83270440699354\" x2=\"370.5\" y2=\"172.83270440699354\" stroke-linecap=\"round\" style=\"stroke:white;stroke-width:4\"/><line x1=\"370.5\" y1=\"172.83270440699354\" x2=\"371.5\" y2=\"171.10065359942467\" stroke-linecap=\"round\" style=\"stroke:white;stroke-width:4\"/><line x1=\"371.5\" y1=\"171.10065359942467\" x2=\"371.0\" y2=\"170.23462819564023\" stroke-linecap=\"round\" style=\"stroke:white;stroke-width:4\"/><line x1=\"371.0\" y1=\"170.23462819564023\" x2=\"370.0\" y2=\"170.23462819564023\" stroke-linecap=\"round\" style=\"stroke:white;stroke-width:4\"/><line x1=\"370.0\" y1=\"170.23462819564023\" x2=\"370.5\" y2=\"169.36860279185578\" stroke-linecap=\"round\" style=\"stroke:white;stroke-width:4\"/><line x1=\"370.5\" y1=\"169.36860279185578\" x2=\"371.5\" y2=\"169.36860279185578\" stroke-linecap=\"round\" style=\"stroke:white;stroke-width:4\"/><line x1=\"371.5\" y1=\"169.36860279185578\" x2=\"372.0\" y2=\"168.50257738807133\" stroke-linecap=\"round\" style=\"stroke:white;stroke-width:4\"/><line x1=\"372.0\" y1=\"168.50257738807133\" x2=\"372.5\" y2=\"169.36860279185578\" stroke-linecap=\"round\" style=\"stroke:white;stroke-width:4\"/><line x1=\"372.5\" y1=\"169.36860279185578\" x2=\"373.5\" y2=\"171.10065359942465\" stroke-linecap=\"round\" style=\"stroke:white;stroke-width:4\"/><line x1=\"373.5\" y1=\"171.10065359942465\" x2=\"374.5\" y2=\"171.10065359942465\" stroke-linecap=\"round\" style=\"stroke:white;stroke-width:4\"/><line x1=\"374.5\" y1=\"171.10065359942465\" x2=\"375.0\" y2=\"170.2346281956402\" stroke-linecap=\"round\" style=\"stroke:white;stroke-width:4\"/><line x1=\"375.0\" y1=\"170.2346281956402\" x2=\"375.5\" y2=\"171.10065359942465\" stroke-linecap=\"round\" style=\"stroke:white;stroke-width:4\"/><line x1=\"375.5\" y1=\"171.10065359942465\" x2=\"375.0\" y2=\"171.9666790032091\" stroke-linecap=\"round\" style=\"stroke:white;stroke-width:4\"/><line x1=\"375.0\" y1=\"171.9666790032091\" x2=\"375.5\" y2=\"172.83270440699354\" stroke-linecap=\"round\" style=\"stroke:white;stroke-width:4\"/><line x1=\"375.5\" y1=\"172.83270440699354\" x2=\"374.5\" y2=\"172.83270440699354\" stroke-linecap=\"round\" style=\"stroke:white;stroke-width:4\"/><line x1=\"374.5\" y1=\"172.83270440699354\" x2=\"377.5\" y2=\"178.02885682970017\" stroke-linecap=\"round\" style=\"stroke:white;stroke-width:4\"/><line x1=\"377.5\" y1=\"178.02885682970017\" x2=\"381.5\" y2=\"178.02885682970017\" stroke-linecap=\"round\" style=\"stroke:white;stroke-width:4\"/><line x1=\"381.5\" y1=\"178.02885682970017\" x2=\"382.5\" y2=\"176.2968060221313\" stroke-linecap=\"round\" style=\"stroke:white;stroke-width:4\"/><line x1=\"382.5\" y1=\"176.2968060221313\" x2=\"382.0\" y2=\"175.43078061834686\" stroke-linecap=\"round\" style=\"stroke:white;stroke-width:4\"/><line x1=\"382.0\" y1=\"175.43078061834686\" x2=\"381.0\" y2=\"175.43078061834686\" stroke-linecap=\"round\" style=\"stroke:white;stroke-width:4\"/><line x1=\"381.0\" y1=\"175.43078061834686\" x2=\"381.5\" y2=\"174.5647552145624\" stroke-linecap=\"round\" style=\"stroke:white;stroke-width:4\"/><line x1=\"381.5\" y1=\"174.5647552145624\" x2=\"382.5\" y2=\"174.5647552145624\" stroke-linecap=\"round\" style=\"stroke:white;stroke-width:4\"/><line x1=\"382.5\" y1=\"174.5647552145624\" x2=\"383.0\" y2=\"173.69872981077796\" stroke-linecap=\"round\" style=\"stroke:white;stroke-width:4\"/><line x1=\"383.0\" y1=\"173.69872981077796\" x2=\"383.5\" y2=\"174.5647552145624\" stroke-linecap=\"round\" style=\"stroke:white;stroke-width:4\"/><line x1=\"383.5\" y1=\"174.5647552145624\" x2=\"384.5\" y2=\"176.29680602213128\" stroke-linecap=\"round\" style=\"stroke:white;stroke-width:4\"/><line x1=\"384.5\" y1=\"176.29680602213128\" x2=\"385.5\" y2=\"176.29680602213128\" stroke-linecap=\"round\" style=\"stroke:white;stroke-width:4\"/><line x1=\"385.5\" y1=\"176.29680602213128\" x2=\"386.0\" y2=\"175.43078061834683\" stroke-linecap=\"round\" style=\"stroke:white;stroke-width:4\"/><line x1=\"386.0\" y1=\"175.43078061834683\" x2=\"386.5\" y2=\"176.29680602213128\" stroke-linecap=\"round\" style=\"stroke:white;stroke-width:4\"/><line x1=\"386.5\" y1=\"176.29680602213128\" x2=\"386.0\" y2=\"177.16283142591573\" stroke-linecap=\"round\" style=\"stroke:white;stroke-width:4\"/><line x1=\"386.0\" y1=\"177.16283142591573\" x2=\"386.5\" y2=\"178.02885682970017\" stroke-linecap=\"round\" style=\"stroke:white;stroke-width:4\"/><line x1=\"386.5\" y1=\"178.02885682970017\" x2=\"385.5\" y2=\"178.02885682970017\" stroke-linecap=\"round\" style=\"stroke:white;stroke-width:4\"/><line x1=\"385.5\" y1=\"178.02885682970017\" x2=\"383.5\" y2=\"181.49295844483794\" stroke-linecap=\"round\" style=\"stroke:white;stroke-width:4\"/><line x1=\"383.5\" y1=\"181.49295844483794\" x2=\"384.5\" y2=\"183.2250092524068\" stroke-linecap=\"round\" style=\"stroke:white;stroke-width:4\"/><line x1=\"384.5\" y1=\"183.2250092524068\" x2=\"385.5\" y2=\"183.2250092524068\" stroke-linecap=\"round\" style=\"stroke:white;stroke-width:4\"/><line x1=\"385.5\" y1=\"183.2250092524068\" x2=\"386.0\" y2=\"182.35898384862236\" stroke-linecap=\"round\" style=\"stroke:white;stroke-width:4\"/><line x1=\"386.0\" y1=\"182.35898384862236\" x2=\"386.5\" y2=\"183.2250092524068\" stroke-linecap=\"round\" style=\"stroke:white;stroke-width:4\"/><line x1=\"386.5\" y1=\"183.2250092524068\" x2=\"386.0\" y2=\"184.09103465619125\" stroke-linecap=\"round\" style=\"stroke:white;stroke-width:4\"/><line x1=\"386.0\" y1=\"184.09103465619125\" x2=\"386.5\" y2=\"184.9570600599757\" stroke-linecap=\"round\" style=\"stroke:white;stroke-width:4\"/><line x1=\"386.5\" y1=\"184.9570600599757\" x2=\"385.5\" y2=\"184.9570600599757\" stroke-linecap=\"round\" style=\"stroke:white;stroke-width:4\"/><line x1=\"385.5\" y1=\"184.9570600599757\" x2=\"383.5\" y2=\"184.9570600599757\" stroke-linecap=\"round\" style=\"stroke:white;stroke-width:4\"/><line x1=\"383.5\" y1=\"184.9570600599757\" x2=\"383.0\" y2=\"185.82308546376015\" stroke-linecap=\"round\" style=\"stroke:white;stroke-width:4\"/><line x1=\"383.0\" y1=\"185.82308546376015\" x2=\"383.5\" y2=\"186.6891108675446\" stroke-linecap=\"round\" style=\"stroke:white;stroke-width:4\"/><line x1=\"383.5\" y1=\"186.6891108675446\" x2=\"382.5\" y2=\"186.6891108675446\" stroke-linecap=\"round\" style=\"stroke:white;stroke-width:4\"/><line x1=\"382.5\" y1=\"186.6891108675446\" x2=\"382.0\" y2=\"185.82308546376015\" stroke-linecap=\"round\" style=\"stroke:white;stroke-width:4\"/><line x1=\"382.0\" y1=\"185.82308546376015\" x2=\"381.0\" y2=\"185.82308546376015\" stroke-linecap=\"round\" style=\"stroke:white;stroke-width:4\"/><line x1=\"381.0\" y1=\"185.82308546376015\" x2=\"381.5\" y2=\"184.9570600599757\" stroke-linecap=\"round\" style=\"stroke:white;stroke-width:4\"/><line x1=\"381.5\" y1=\"184.9570600599757\" x2=\"388.5\" y2=\"197.08141571295783\" stroke-linecap=\"round\" style=\"stroke:white;stroke-width:4\"/><line x1=\"388.5\" y1=\"197.08141571295783\" x2=\"397.5\" y2=\"197.08141571295783\" stroke-linecap=\"round\" style=\"stroke:white;stroke-width:4\"/><line x1=\"397.5\" y1=\"197.08141571295783\" x2=\"400.5\" y2=\"191.8852632902512\" stroke-linecap=\"round\" style=\"stroke:white;stroke-width:4\"/><line x1=\"400.5\" y1=\"191.8852632902512\" x2=\"398.5\" y2=\"188.42116167511344\" stroke-linecap=\"round\" style=\"stroke:white;stroke-width:4\"/><line x1=\"398.5\" y1=\"188.42116167511344\" x2=\"396.5\" y2=\"188.42116167511344\" stroke-linecap=\"round\" style=\"stroke:white;stroke-width:4\"/><line x1=\"396.5\" y1=\"188.42116167511344\" x2=\"396.0\" y2=\"189.2871870788979\" stroke-linecap=\"round\" style=\"stroke:white;stroke-width:4\"/><line x1=\"396.0\" y1=\"189.2871870788979\" x2=\"396.5\" y2=\"190.15321248268233\" stroke-linecap=\"round\" style=\"stroke:white;stroke-width:4\"/><line x1=\"396.5\" y1=\"190.15321248268233\" x2=\"395.5\" y2=\"190.15321248268233\" stroke-linecap=\"round\" style=\"stroke:white;stroke-width:4\"/><line x1=\"395.5\" y1=\"190.15321248268233\" x2=\"395.0\" y2=\"189.2871870788979\" stroke-linecap=\"round\" style=\"stroke:white;stroke-width:4\"/><line x1=\"395.0\" y1=\"189.2871870788979\" x2=\"394.0\" y2=\"189.2871870788979\" stroke-linecap=\"round\" style=\"stroke:white;stroke-width:4\"/><line x1=\"394.0\" y1=\"189.2871870788979\" x2=\"394.5\" y2=\"188.42116167511344\" stroke-linecap=\"round\" style=\"stroke:white;stroke-width:4\"/><line x1=\"394.5\" y1=\"188.42116167511344\" x2=\"395.5\" y2=\"186.68911086754457\" stroke-linecap=\"round\" style=\"stroke:white;stroke-width:4\"/><line x1=\"395.5\" y1=\"186.68911086754457\" x2=\"395.0\" y2=\"185.82308546376012\" stroke-linecap=\"round\" style=\"stroke:white;stroke-width:4\"/><line x1=\"395.0\" y1=\"185.82308546376012\" x2=\"394.0\" y2=\"185.82308546376012\" stroke-linecap=\"round\" style=\"stroke:white;stroke-width:4\"/><line x1=\"394.0\" y1=\"185.82308546376012\" x2=\"394.5\" y2=\"184.95706005997567\" stroke-linecap=\"round\" style=\"stroke:white;stroke-width:4\"/><line x1=\"394.5\" y1=\"184.95706005997567\" x2=\"395.5\" y2=\"184.95706005997567\" stroke-linecap=\"round\" style=\"stroke:white;stroke-width:4\"/><line x1=\"395.5\" y1=\"184.95706005997567\" x2=\"396.0\" y2=\"184.09103465619123\" stroke-linecap=\"round\" style=\"stroke:white;stroke-width:4\"/><line x1=\"396.0\" y1=\"184.09103465619123\" x2=\"396.5\" y2=\"184.95706005997567\" stroke-linecap=\"round\" style=\"stroke:white;stroke-width:4\"/><line x1=\"396.5\" y1=\"184.95706005997567\" x2=\"400.5\" y2=\"184.95706005997567\" stroke-linecap=\"round\" style=\"stroke:white;stroke-width:4\"/><line x1=\"400.5\" y1=\"184.95706005997567\" x2=\"401.5\" y2=\"183.2250092524068\" stroke-linecap=\"round\" style=\"stroke:white;stroke-width:4\"/>\n",
              "        \n",
              "      <g visibility=visible transform=\"rotate(210,401.5,183.2250092524068) translate(401.5, 183.2250092524068)\">\n",
              "        <circle stroke=\"white\" stroke-width=\"3\" fill=\"transparent\" r=\"12\" cx=\"0\" cy=\"0\"/>\n",
              "        <polygon points=\"0,19 3,16 -3,16\" style=\"fill:white;stroke:white;stroke-width:2\"/>\n",
              "      </g>\n",
              "    \n",
              "      </svg>\n",
              "    "
            ],
            "text/plain": [
              "<IPython.core.display.HTML object>"
            ]
          },
          "metadata": {
            "tags": []
          }
        },
        {
          "output_type": "stream",
          "text": [
            "Buffered data was truncated after reaching the output size limit."
          ],
          "name": "stdout"
        }
      ]
    }
  ]
}