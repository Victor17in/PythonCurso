{
  "nbformat": 4,
  "nbformat_minor": 0,
  "metadata": {
    "colab": {
      "name": "VictorAlmeida_aula3_3_4.ipynb",
      "provenance": [],
      "authorship_tag": "ABX9TyPxiY7MW0FXlsM83wO0h2iW",
      "include_colab_link": true
    },
    "kernelspec": {
      "name": "python3",
      "display_name": "Python 3"
    }
  },
  "cells": [
    {
      "cell_type": "markdown",
      "metadata": {
        "id": "view-in-github",
        "colab_type": "text"
      },
      "source": [
        "<a href=\"https://colab.research.google.com/github/Victor17in/PythonCurso/blob/master/exerc%C3%ADcios/VictorAlmeida_aula3_3_4.ipynb\" target=\"_parent\"><img src=\"https://colab.research.google.com/assets/colab-badge.svg\" alt=\"Open In Colab\"/></a>"
      ]
    },
    {
      "cell_type": "code",
      "metadata": {
        "id": "txtU-ttLhdxL",
        "outputId": "69db135e-8597-413b-fc2a-7c822c1bc046",
        "colab": {
          "base_uri": "https://localhost:8080/",
          "height": 289
        }
      },
      "source": [
        "import math\n",
        "print ('Crie uma função que faça a conversão de uma medida inicialmente em milhas para m, e outra para o inverso; uma de horas para segundos, e o inverso.')\n",
        "print ('Utilize estas funções para resolver novamente o primeiro exercício da semana passada (da corrida).')\n",
        "print(\"Se você fizer uma corrida de 10 quilômetros em 43 minutos e 30 segundos, qual será seu tempo médio por milha? \")\n",
        "print (' Qual é a sua velocidade média em milhas por hora?(Dica: há 1,61 quilômetros em uma milha)')\n",
        "x= 10 #km\n",
        "t= 43.5 #min\n",
        "\n",
        "#Conversões\n",
        "c= x/1.61 #de km para milhas\n",
        "th= t/60 #de min para h\n",
        "tl = th*60 #de h para min\n",
        "\n",
        "print (c, 'milhas')\n",
        "print (th, 'horas')\n",
        "vm = c/th\n",
        "print ('A velocidade média é:')\n",
        "print (vm, 'milhas por hora')\n",
        "tm = th/c\n",
        "print('O tempo médio é:')\n",
        "print (tm, 'por milha')\n",
        "\n",
        "print ('')\n",
        "print ('Se uma pessoa demora 30 minutos em 4 milhas, qual velocidade media em km/h ? e o tempo médio por kilometro?')\n",
        "u=4 #milhas\n",
        "k = 30 #Hora\n",
        "\n",
        "#Conversões\n",
        "cmilhasparakm = 1.61*u #de milhas para km\n",
        "H= k/60 #de min para h\n",
        "tl = th*60 #de h para min\n",
        "\n",
        "v = cmilhasparakm/H\n",
        "print('Velocidade média é:')\n",
        "print (v, 'km/h')\n",
        "tmd = H/cmilhasparakm\n",
        "print('O tempo médio é:')\n",
        "print (tmd, 'por KM')"
      ],
      "execution_count": null,
      "outputs": [
        {
          "output_type": "stream",
          "text": [
            "Crie uma função que faça a conversão de uma medida inicialmente em milhas para m, e outra para o inverso; uma de horas para segundos, e o inverso.\n",
            "Utilize estas funções para resolver novamente o primeiro exercício da semana passada (da corrida).\n",
            "Se você fizer uma corrida de 10 quilômetros em 43 minutos e 30 segundos, qual será seu tempo médio por milha? \n",
            " Qual é a sua velocidade média em milhas por hora?(Dica: há 1,61 quilômetros em uma milha)\n",
            "6.211180124223602 milhas\n",
            "0.725 horas\n",
            "A velocidade média é:\n",
            "8.567144998929106 milhas por hora\n",
            "O tempo médio é:\n",
            "0.11672500000000001 por milha\n",
            "\n",
            "Se uma pessoa demora 30 minutos em 4 milhas, qual velocidade media em km/h ? e o tempo médio por kilometro?\n",
            "Velocidade média é:\n",
            "12.88 km/h\n",
            "O tempo médio é:\n",
            "0.07763975155279502 por KM\n"
          ],
          "name": "stdout"
        }
      ]
    },
    {
      "cell_type": "code",
      "metadata": {
        "id": "3OBnyYwtZwcu",
        "outputId": "a66391b2-752e-4a57-9cf2-cde46b795fc6",
        "colab": {
          "base_uri": "https://localhost:8080/",
          "height": 289
        }
      },
      "source": [
        "import math\n",
        "print ('Crie uma função que faça a conversão de uma medida inicialmente em milhas para m, e outra para o inverso; uma de horas para segundos, e o inverso.')\n",
        "print ('Utilize estas funções para resolver novamente o primeiro exercício da semana passada (da corrida).')\n",
        "print(\"Se você fizer uma corrida de 10 quilômetros em 43 minutos e 30 segundos, qual será seu tempo médio por milha? \")\n",
        "print (' Qual é a sua velocidade média em milhas por hora?(Dica: há 1,61 quilômetros em uma milha)')\n",
        "def pri():\n",
        "    x= 10 #km\n",
        "    t= 43.5 #min\n",
        "\n",
        "#Conversões\n",
        "    c= x/1.61 #de km para milhas\n",
        "    th= t/60 #de min para h\n",
        "    tl = th*60 #de h para min\n",
        "\n",
        "    print (c, 'milhas')\n",
        "    print (th, 'horas')\n",
        "    vm = c/th\n",
        "    print ('A velocidade média é:')\n",
        "    print (vm, 'milhas por hora')\n",
        "    tm = th/c\n",
        "    print('O tempo médio é:')\n",
        "    print (tm, 'por milha')\n",
        "pri()\n",
        "print ('')\n",
        "print ('Se uma pessoa demora 30 minutos em 4 milhas, qual velocidade media em km/h ? e o tempo médio por kilometro?')\n",
        "def seg():\n",
        "    u=4 #milhas\n",
        "    k = 30 #Hora\n",
        "    t= 43.5 #min\n",
        "    th= t/60 #de min para h\n",
        "#Conversões\n",
        "    cmilhasparakm = 1.61*u #de milhas para km\n",
        "    H= k/60 #de min para h\n",
        "    tl = th*60 #de h para min\n",
        "\n",
        "    v = cmilhasparakm/H\n",
        "    print('Velocidade média é:')\n",
        "    print (v, 'km/h')\n",
        "    tmd = H/cmilhasparakm\n",
        "    print('O tempo médio é:')\n",
        "    print (tmd, 'por KM')\n",
        "seg()"
      ],
      "execution_count": null,
      "outputs": [
        {
          "output_type": "stream",
          "text": [
            "Crie uma função que faça a conversão de uma medida inicialmente em milhas para m, e outra para o inverso; uma de horas para segundos, e o inverso.\n",
            "Utilize estas funções para resolver novamente o primeiro exercício da semana passada (da corrida).\n",
            "Se você fizer uma corrida de 10 quilômetros em 43 minutos e 30 segundos, qual será seu tempo médio por milha? \n",
            " Qual é a sua velocidade média em milhas por hora?(Dica: há 1,61 quilômetros em uma milha)\n",
            "6.211180124223602 milhas\n",
            "0.725 horas\n",
            "A velocidade média é:\n",
            "8.567144998929106 milhas por hora\n",
            "O tempo médio é:\n",
            "0.11672500000000001 por milha\n",
            "\n",
            "Se uma pessoa demora 30 minutos em 4 milhas, qual velocidade media em km/h ? e o tempo médio por kilometro?\n",
            "Velocidade média é:\n",
            "12.88 km/h\n",
            "O tempo médio é:\n",
            "0.07763975155279502 por KM\n"
          ],
          "name": "stdout"
        }
      ]
    },
    {
      "cell_type": "markdown",
      "metadata": {
        "id": "qFTpEUd6nUJ1"
      },
      "source": [
        "Refazendo"
      ]
    },
    {
      "cell_type": "markdown",
      "metadata": {
        "id": "x6mQSMjBnWPD"
      },
      "source": [
        "Crie uma função que faça a conversão de uma medida inicialmente em milhas para m, e outra para o inverso; uma de horas para segundos, e o inverso."
      ]
    },
    {
      "cell_type": "code",
      "metadata": {
        "id": "LmnKQe8fnPX-"
      },
      "source": [
        "def milhas_para_metro():\n",
        "    c= x*1610 #de milhas para m\n",
        "    print(c, 'm')\n",
        "def metro_para_milhas():\n",
        "    c= x/1610 #de m para milhas\n",
        "    print(c, 'milhas')\n",
        "\n",
        "def h_para_s():\n",
        "     tl = th*60*60 #de h para s\n",
        "     print (tl, 'segundos')\n",
        "\n",
        "def s_para_h():\n",
        "     th= t/3600 #de s para h\n",
        "     print (th, 'horas')"
      ],
      "execution_count": 13,
      "outputs": []
    },
    {
      "cell_type": "markdown",
      "metadata": {
        "id": "nuaBmcc3owVP"
      },
      "source": [
        "Se você fizer uma corrida de 10 quilômetros em 43 minutos e 30 segundos, qual será seu tempo médio por milha? Qual é a sua velocidade média em milhas por hora?(Dica: há 1,61 quilômetros em uma milha)"
      ]
    },
    {
      "cell_type": "code",
      "metadata": {
        "id": "NrVWvNcuo0Na",
        "outputId": "00b00ff2-6a47-4f11-be75-e8b268685b8b",
        "colab": {
          "base_uri": "https://localhost:8080/",
          "height": 119
        }
      },
      "source": [
        "\n",
        "x= 10000 #m\n",
        "t= 43.5*60 #s\n",
        "metro_para_milhas()\n",
        "s_para_h()\n",
        "#\n",
        "c= x/1610 #de m para milhas\n",
        "th= t/3600 #de s para h\n",
        "tl = th*60 #de h para min\n",
        "#\n",
        "vm = c/th\n",
        "print ('A velocidade média é:')\n",
        "print (vm, 'milhas por hora')\n",
        "tm = th/c\n",
        "print('O tempo médio é:')\n",
        "print (tm, 'por milha')"
      ],
      "execution_count": 15,
      "outputs": [
        {
          "output_type": "stream",
          "text": [
            "6.211180124223603 milhas\n",
            "0.725 horas\n",
            "A velocidade média é:\n",
            "8.567144998929107 milhas por hora\n",
            "O tempo médio é:\n",
            "0.116725 por milha\n"
          ],
          "name": "stdout"
        }
      ]
    },
    {
      "cell_type": "markdown",
      "metadata": {
        "id": "hjGu20AYrE4e"
      },
      "source": [
        "Se uma pessoa demora 30 minutos em 4 milhas, qual velocidade media em km/h ? e o tempo médio por kilometro?"
      ]
    },
    {
      "cell_type": "code",
      "metadata": {
        "id": "KEiTTfn9rF8M",
        "outputId": "d1f4fc72-0f57-465c-8c53-9122227595cd",
        "colab": {
          "base_uri": "https://localhost:8080/",
          "height": 119
        }
      },
      "source": [
        "x= 4 #milhas\n",
        "t= 30*60 #s\n",
        "s_para_h()\n",
        "milhas_para_metro()\n",
        "u=4 #milhas\n",
        "k = 30 #Hora\n",
        "t= 43.5 #min\n",
        "th= t/60 #de min para h\n",
        "#\n",
        "cmilhasparakm = 1.61*u #de milhas para km\n",
        "H= k/60 #de min para h\n",
        "tl = th*60 #de h para min\n",
        "\n",
        "v = cmilhasparakm/H\n",
        "print('Velocidade média é:')\n",
        "print (v, 'km/h')\n",
        "tmd = H/cmilhasparakm\n",
        "print('O tempo médio é:')\n",
        "print (tmd, 'por KM')\n"
      ],
      "execution_count": 18,
      "outputs": [
        {
          "output_type": "stream",
          "text": [
            "0.5 horas\n",
            "6440 m\n",
            "Velocidade média é:\n",
            "12.88 km/h\n",
            "O tempo médio é:\n",
            "0.07763975155279502 por KM\n"
          ],
          "name": "stdout"
        }
      ]
    }
  ]
}