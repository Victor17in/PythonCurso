{
  "nbformat": 4,
  "nbformat_minor": 0,
  "metadata": {
    "colab": {
      "name": "VictorAlmeida_aula3_3_4.ipynb",
      "provenance": [],
      "authorship_tag": "ABX9TyMQpuBW8xcP9ix28sfFDS49",
      "include_colab_link": true
    },
    "kernelspec": {
      "name": "python3",
      "display_name": "Python 3"
    }
  },
  "cells": [
    {
      "cell_type": "markdown",
      "metadata": {
        "id": "view-in-github",
        "colab_type": "text"
      },
      "source": [
        "<a href=\"https://colab.research.google.com/github/Victor17in/PythonCurso/blob/master/exerc%C3%ADcios/VictorAlmeida_aula3_3_4.ipynb\" target=\"_parent\"><img src=\"https://colab.research.google.com/assets/colab-badge.svg\" alt=\"Open In Colab\"/></a>"
      ]
    },
    {
      "cell_type": "code",
      "metadata": {
        "id": "txtU-ttLhdxL",
        "outputId": "69db135e-8597-413b-fc2a-7c822c1bc046",
        "colab": {
          "base_uri": "https://localhost:8080/",
          "height": 289
        }
      },
      "source": [
        "import math\n",
        "print ('Crie uma função que faça a conversão de uma medida inicialmente em milhas para m, e outra para o inverso; uma de horas para segundos, e o inverso.')\n",
        "print ('Utilize estas funções para resolver novamente o primeiro exercício da semana passada (da corrida).')\n",
        "print(\"Se você fizer uma corrida de 10 quilômetros em 43 minutos e 30 segundos, qual será seu tempo médio por milha? \")\n",
        "print (' Qual é a sua velocidade média em milhas por hora?(Dica: há 1,61 quilômetros em uma milha)')\n",
        "x= 10 #km\n",
        "t= 43.5 #min\n",
        "\n",
        "#Conversões\n",
        "c= x/1.61 #de km para milhas\n",
        "th= t/60 #de min para h\n",
        "tl = th*60 #de h para min\n",
        "\n",
        "print (c, 'milhas')\n",
        "print (th, 'horas')\n",
        "vm = c/th\n",
        "print ('A velocidade média é:')\n",
        "print (vm, 'milhas por hora')\n",
        "tm = th/c\n",
        "print('O tempo médio é:')\n",
        "print (tm, 'por milha')\n",
        "\n",
        "print ('')\n",
        "print ('Se uma pessoa demora 30 minutos em 4 milhas, qual velocidade media em km/h ? e o tempo médio por kilometro?')\n",
        "u=4 #milhas\n",
        "k = 30 #Hora\n",
        "\n",
        "#Conversões\n",
        "cmilhasparakm = 1.61*u #de milhas para km\n",
        "H= k/60 #de min para h\n",
        "tl = th*60 #de h para min\n",
        "\n",
        "v = cmilhasparakm/H\n",
        "print('Velocidade média é:')\n",
        "print (v, 'km/h')\n",
        "tmd = H/cmilhasparakm\n",
        "print('O tempo médio é:')\n",
        "print (tmd, 'por KM')"
      ],
      "execution_count": null,
      "outputs": [
        {
          "output_type": "stream",
          "text": [
            "Crie uma função que faça a conversão de uma medida inicialmente em milhas para m, e outra para o inverso; uma de horas para segundos, e o inverso.\n",
            "Utilize estas funções para resolver novamente o primeiro exercício da semana passada (da corrida).\n",
            "Se você fizer uma corrida de 10 quilômetros em 43 minutos e 30 segundos, qual será seu tempo médio por milha? \n",
            " Qual é a sua velocidade média em milhas por hora?(Dica: há 1,61 quilômetros em uma milha)\n",
            "6.211180124223602 milhas\n",
            "0.725 horas\n",
            "A velocidade média é:\n",
            "8.567144998929106 milhas por hora\n",
            "O tempo médio é:\n",
            "0.11672500000000001 por milha\n",
            "\n",
            "Se uma pessoa demora 30 minutos em 4 milhas, qual velocidade media em km/h ? e o tempo médio por kilometro?\n",
            "Velocidade média é:\n",
            "12.88 km/h\n",
            "O tempo médio é:\n",
            "0.07763975155279502 por KM\n"
          ],
          "name": "stdout"
        }
      ]
    },
    {
      "cell_type": "code",
      "metadata": {
        "id": "3OBnyYwtZwcu",
        "outputId": "a66391b2-752e-4a57-9cf2-cde46b795fc6",
        "colab": {
          "base_uri": "https://localhost:8080/",
          "height": 289
        }
      },
      "source": [
        "import math\n",
        "print ('Crie uma função que faça a conversão de uma medida inicialmente em milhas para m, e outra para o inverso; uma de horas para segundos, e o inverso.')\n",
        "print ('Utilize estas funções para resolver novamente o primeiro exercício da semana passada (da corrida).')\n",
        "print(\"Se você fizer uma corrida de 10 quilômetros em 43 minutos e 30 segundos, qual será seu tempo médio por milha? \")\n",
        "print (' Qual é a sua velocidade média em milhas por hora?(Dica: há 1,61 quilômetros em uma milha)')\n",
        "def pri():\n",
        "    x= 10 #km\n",
        "    t= 43.5 #min\n",
        "\n",
        "#Conversões\n",
        "    c= x/1.61 #de km para milhas\n",
        "    th= t/60 #de min para h\n",
        "    tl = th*60 #de h para min\n",
        "\n",
        "    print (c, 'milhas')\n",
        "    print (th, 'horas')\n",
        "    vm = c/th\n",
        "    print ('A velocidade média é:')\n",
        "    print (vm, 'milhas por hora')\n",
        "    tm = th/c\n",
        "    print('O tempo médio é:')\n",
        "    print (tm, 'por milha')\n",
        "pri()\n",
        "print ('')\n",
        "print ('Se uma pessoa demora 30 minutos em 4 milhas, qual velocidade media em km/h ? e o tempo médio por kilometro?')\n",
        "def seg():\n",
        "    u=4 #milhas\n",
        "    k = 30 #Hora\n",
        "    t= 43.5 #min\n",
        "    th= t/60 #de min para h\n",
        "#Conversões\n",
        "    cmilhasparakm = 1.61*u #de milhas para km\n",
        "    H= k/60 #de min para h\n",
        "    tl = th*60 #de h para min\n",
        "\n",
        "    v = cmilhasparakm/H\n",
        "    print('Velocidade média é:')\n",
        "    print (v, 'km/h')\n",
        "    tmd = H/cmilhasparakm\n",
        "    print('O tempo médio é:')\n",
        "    print (tmd, 'por KM')\n",
        "seg()"
      ],
      "execution_count": 4,
      "outputs": [
        {
          "output_type": "stream",
          "text": [
            "Crie uma função que faça a conversão de uma medida inicialmente em milhas para m, e outra para o inverso; uma de horas para segundos, e o inverso.\n",
            "Utilize estas funções para resolver novamente o primeiro exercício da semana passada (da corrida).\n",
            "Se você fizer uma corrida de 10 quilômetros em 43 minutos e 30 segundos, qual será seu tempo médio por milha? \n",
            " Qual é a sua velocidade média em milhas por hora?(Dica: há 1,61 quilômetros em uma milha)\n",
            "6.211180124223602 milhas\n",
            "0.725 horas\n",
            "A velocidade média é:\n",
            "8.567144998929106 milhas por hora\n",
            "O tempo médio é:\n",
            "0.11672500000000001 por milha\n",
            "\n",
            "Se uma pessoa demora 30 minutos em 4 milhas, qual velocidade media em km/h ? e o tempo médio por kilometro?\n",
            "Velocidade média é:\n",
            "12.88 km/h\n",
            "O tempo médio é:\n",
            "0.07763975155279502 por KM\n"
          ],
          "name": "stdout"
        }
      ]
    }
  ]
}