{
  "nbformat": 4,
  "nbformat_minor": 0,
  "metadata": {
    "kernelspec": {
      "display_name": "Python 3",
      "language": "python",
      "name": "python3"
    },
    "language_info": {
      "codemirror_mode": {
        "name": "ipython",
        "version": 3
      },
      "file_extension": ".py",
      "mimetype": "text/x-python",
      "name": "python",
      "nbconvert_exporter": "python",
      "pygments_lexer": "ipython3",
      "version": "3.7.0"
    },
    "colab": {
      "name": "Cópia de Cópia de Cópia de Cópia de aula1_o_que_e_python.ipynb",
      "provenance": [],
      "include_colab_link": true
    }
  },
  "cells": [
    {
      "cell_type": "markdown",
      "metadata": {
        "id": "view-in-github",
        "colab_type": "text"
      },
      "source": [
        "<a href=\"https://colab.research.google.com/github/Victor17in/PythonCurso/blob/master/exerc%C3%ADcios/C%C3%B3pia_de_aula1_o_que_e_python1_5.ipynb\" target=\"_parent\"><img src=\"https://colab.research.google.com/assets/colab-badge.svg\" alt=\"Open In Colab\"/></a>"
      ]
    },
    {
      "cell_type": "code",
      "metadata": {
        "id": "HGgrwvbhO4zS",
        "colab_type": "code",
        "colab": {
          "base_uri": "https://localhost:8080/",
          "height": 88
        },
        "outputId": "3e132e57-3853-4554-8eac-9707222bf4b7"
      },
      "source": [
        "print(\"Calcule o seu IMC = M/A^2 (com a massa em Kg e a altura em metros). Um valor saudável estara em geral entre 20-25. Um bebê de 6 meses gorducho tem 70 cm de comprimento e 11 kg de massa, qual o IMC dele?\")\n",
        "\n",
        "IMCV= 95.8/(1.8**2)\n",
        "\n",
        "IMCG= 11/(0.7**2)\n",
        "\n",
        "print(\"O aluno Victor tem 95,8Kg e 1.80m, seu IMC é:\", IMCV)\n",
        "\n",
        "print(\"O IMC do bebe GORDUCHO é:\", IMCG)"
      ],
      "execution_count": 3,
      "outputs": [
        {
          "output_type": "stream",
          "text": [
            "Calcule o seu IMC = M/A^2 (com a massa em Kg e a altura em metros). Um valor saudável estara em geral entre 20-25. Um bebê de 6 meses gorducho tem 70 cm de comprimento e 11 kg de massa, qual o IMC dele?\n",
            "O aluno Victor tem 95,8Kg e 1.80m, seu IMC é: 29.5679012345679\n",
            "O IMC do bebe GORDUCHO é: 22.44897959183674\n"
          ],
          "name": "stdout"
        }
      ]
    }
  ]
}