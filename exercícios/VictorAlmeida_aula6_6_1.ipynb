{
  "nbformat": 4,
  "nbformat_minor": 0,
  "metadata": {
    "kernelspec": {
      "display_name": "Python 3",
      "language": "python",
      "name": "python3"
    },
    "language_info": {
      "codemirror_mode": {
        "name": "ipython",
        "version": 3
      },
      "file_extension": ".py",
      "mimetype": "text/x-python",
      "name": "python",
      "nbconvert_exporter": "python",
      "pygments_lexer": "ipython3",
      "version": "3.6.4"
    },
    "colab": {
      "name": "VictorAlmeida_aula6_6_1.ipynb",
      "provenance": [],
      "collapsed_sections": [],
      "include_colab_link": true
    }
  },
  "cells": [
    {
      "cell_type": "markdown",
      "metadata": {
        "id": "view-in-github",
        "colab_type": "text"
      },
      "source": [
        "<a href=\"https://colab.research.google.com/github/Victor17in/PythonCurso/blob/master/exerc%C3%ADcios/VictorAlmeida_aula6_6_1.ipynb\" target=\"_parent\"><img src=\"https://colab.research.google.com/assets/colab-badge.svg\" alt=\"Open In Colab\"/></a>"
      ]
    },
    {
      "cell_type": "markdown",
      "metadata": {
        "id": "7xJo458eRIz_"
      },
      "source": [
        "### Exercícios\n",
        "\n",
        "1. Considere o seguinte script:"
      ]
    },
    {
      "cell_type": "code",
      "metadata": {
        "id": "NajHrqwGdYXZ",
        "outputId": "b6c91d2e-c226-44d6-9ef0-0f4d6b2e307c",
        "colab": {
          "base_uri": "https://localhost:8080/",
          "height": 170
        }
      },
      "source": [
        "!pip3 install ColabTurtle"
      ],
      "execution_count": 1,
      "outputs": [
        {
          "output_type": "stream",
          "text": [
            "Collecting ColabTurtle\n",
            "  Downloading https://files.pythonhosted.org/packages/49/01/6da7091c2c6c917cce99c000b89acb6aa27b66ef6eafc0c0ccf59b98694f/ColabTurtle-2.0.0.tar.gz\n",
            "Building wheels for collected packages: ColabTurtle\n",
            "  Building wheel for ColabTurtle (setup.py) ... \u001b[?25l\u001b[?25hdone\n",
            "  Created wheel for ColabTurtle: filename=ColabTurtle-2.0.0-cp36-none-any.whl size=4032 sha256=5a180daaf6df0608b2b8c9df37e22894377e62deec1e59d67c0172c4909ca856\n",
            "  Stored in directory: /root/.cache/pip/wheels/a8/29/ec/ad346f0042ae467cc74f4378916348faf975b07890651dcae7\n",
            "Successfully built ColabTurtle\n",
            "Installing collected packages: ColabTurtle\n",
            "Successfully installed ColabTurtle-2.0.0\n"
          ],
          "name": "stdout"
        }
      ]
    },
    {
      "cell_type": "code",
      "metadata": {
        "id": "vB4IycDrhrGa",
        "outputId": "f9265da5-8817-4510-8550-0c35c4a575c6",
        "colab": {
          "base_uri": "https://localhost:8080/",
          "height": 521
        }
      },
      "source": [
        "import ColabTurtle.Turtle as tess\n",
        "\n",
        "def draw_bar(t, height):\n",
        "    \"\"\" Get turtle t to draw one bar, of height. \"\"\"\n",
        "    t.forward(height)\n",
        "    t.right(90)\n",
        "    t.forward(40)\n",
        "    t.right(90)\n",
        "    t.forward(height)\n",
        "    t.left(90)\n",
        "    t.forward(10)\n",
        "    t.left(90)\n",
        "\n",
        "tess.initializeTurtle()   # inicialização\n",
        "\n",
        "tess.color(\"blue\")\n",
        "tess.bgcolor(\"white\")\n",
        "tess.penup() #levantar a caneta\n",
        "tess.goto(10,450) #mudar posicao de inicio \n",
        "tess.pendown() #abaixar a caneta\n",
        "\n",
        "xs = [48,117,200,240,160,260,220]\n",
        "\n",
        "for a in xs:\n",
        "    draw_bar(tess, a)"
      ],
      "execution_count": 2,
      "outputs": [
        {
          "output_type": "display_data",
          "data": {
            "text/html": [
              "\n",
              "      <svg width=\"800\" height=\"500\">\n",
              "        <rect width=\"100%\" height=\"100%\" fill=\"white\"/>\n",
              "        <line x1=\"10\" y1=\"450\" x2=\"9.999999999999991\" y2=\"402.0\" stroke-linecap=\"round\" style=\"stroke:blue;stroke-width:4\"/><line x1=\"9.999999999999991\" y1=\"402.0\" x2=\"49.99999999999999\" y2=\"402.0\" stroke-linecap=\"round\" style=\"stroke:blue;stroke-width:4\"/><line x1=\"49.99999999999999\" y1=\"402.0\" x2=\"49.99999999999999\" y2=\"450.0\" stroke-linecap=\"round\" style=\"stroke:blue;stroke-width:4\"/><line x1=\"49.99999999999999\" y1=\"450.0\" x2=\"59.99999999999999\" y2=\"450.0\" stroke-linecap=\"round\" style=\"stroke:blue;stroke-width:4\"/><line x1=\"59.99999999999999\" y1=\"450.0\" x2=\"59.99999999999997\" y2=\"333.0\" stroke-linecap=\"round\" style=\"stroke:blue;stroke-width:4\"/><line x1=\"59.99999999999997\" y1=\"333.0\" x2=\"99.99999999999997\" y2=\"333.0\" stroke-linecap=\"round\" style=\"stroke:blue;stroke-width:4\"/><line x1=\"99.99999999999997\" y1=\"333.0\" x2=\"99.99999999999999\" y2=\"450.0\" stroke-linecap=\"round\" style=\"stroke:blue;stroke-width:4\"/><line x1=\"99.99999999999999\" y1=\"450.0\" x2=\"109.99999999999999\" y2=\"450.0\" stroke-linecap=\"round\" style=\"stroke:blue;stroke-width:4\"/><line x1=\"109.99999999999999\" y1=\"450.0\" x2=\"109.99999999999994\" y2=\"250.0\" stroke-linecap=\"round\" style=\"stroke:blue;stroke-width:4\"/><line x1=\"109.99999999999994\" y1=\"250.0\" x2=\"149.99999999999994\" y2=\"250.0\" stroke-linecap=\"round\" style=\"stroke:blue;stroke-width:4\"/><line x1=\"149.99999999999994\" y1=\"250.0\" x2=\"149.99999999999994\" y2=\"450.0\" stroke-linecap=\"round\" style=\"stroke:blue;stroke-width:4\"/><line x1=\"149.99999999999994\" y1=\"450.0\" x2=\"159.99999999999994\" y2=\"450.0\" stroke-linecap=\"round\" style=\"stroke:blue;stroke-width:4\"/><line x1=\"159.99999999999994\" y1=\"450.0\" x2=\"159.9999999999999\" y2=\"210.0\" stroke-linecap=\"round\" style=\"stroke:blue;stroke-width:4\"/><line x1=\"159.9999999999999\" y1=\"210.0\" x2=\"199.9999999999999\" y2=\"210.0\" stroke-linecap=\"round\" style=\"stroke:blue;stroke-width:4\"/><line x1=\"199.9999999999999\" y1=\"210.0\" x2=\"199.99999999999991\" y2=\"450.0\" stroke-linecap=\"round\" style=\"stroke:blue;stroke-width:4\"/><line x1=\"199.99999999999991\" y1=\"450.0\" x2=\"209.99999999999991\" y2=\"450.0\" stroke-linecap=\"round\" style=\"stroke:blue;stroke-width:4\"/><line x1=\"209.99999999999991\" y1=\"450.0\" x2=\"209.9999999999999\" y2=\"290.0\" stroke-linecap=\"round\" style=\"stroke:blue;stroke-width:4\"/><line x1=\"209.9999999999999\" y1=\"290.0\" x2=\"249.9999999999999\" y2=\"290.0\" stroke-linecap=\"round\" style=\"stroke:blue;stroke-width:4\"/><line x1=\"249.9999999999999\" y1=\"290.0\" x2=\"249.9999999999999\" y2=\"450.0\" stroke-linecap=\"round\" style=\"stroke:blue;stroke-width:4\"/><line x1=\"249.9999999999999\" y1=\"450.0\" x2=\"259.9999999999999\" y2=\"450.0\" stroke-linecap=\"round\" style=\"stroke:blue;stroke-width:4\"/><line x1=\"259.9999999999999\" y1=\"450.0\" x2=\"259.99999999999983\" y2=\"190.0\" stroke-linecap=\"round\" style=\"stroke:blue;stroke-width:4\"/><line x1=\"259.99999999999983\" y1=\"190.0\" x2=\"299.99999999999983\" y2=\"190.0\" stroke-linecap=\"round\" style=\"stroke:blue;stroke-width:4\"/><line x1=\"299.99999999999983\" y1=\"190.0\" x2=\"299.99999999999983\" y2=\"450.0\" stroke-linecap=\"round\" style=\"stroke:blue;stroke-width:4\"/><line x1=\"299.99999999999983\" y1=\"450.0\" x2=\"309.99999999999983\" y2=\"450.0\" stroke-linecap=\"round\" style=\"stroke:blue;stroke-width:4\"/><line x1=\"309.99999999999983\" y1=\"450.0\" x2=\"309.9999999999998\" y2=\"230.0\" stroke-linecap=\"round\" style=\"stroke:blue;stroke-width:4\"/><line x1=\"309.9999999999998\" y1=\"230.0\" x2=\"349.9999999999998\" y2=\"230.0\" stroke-linecap=\"round\" style=\"stroke:blue;stroke-width:4\"/><line x1=\"349.9999999999998\" y1=\"230.0\" x2=\"349.9999999999998\" y2=\"450.0\" stroke-linecap=\"round\" style=\"stroke:blue;stroke-width:4\"/><line x1=\"349.9999999999998\" y1=\"450.0\" x2=\"359.9999999999998\" y2=\"450.0\" stroke-linecap=\"round\" style=\"stroke:blue;stroke-width:4\"/>\n",
              "        \n",
              "      <g visibility=visible transform=\"rotate(180,359.9999999999998,450.0) translate(359.9999999999998, 450.0)\">\n",
              "        <circle stroke=\"blue\" stroke-width=\"3\" fill=\"transparent\" r=\"12\" cx=\"0\" cy=\"0\"/>\n",
              "        <polygon points=\"0,19 3,16 -3,16\" style=\"fill:blue;stroke:blue;stroke-width:2\"/>\n",
              "      </g>\n",
              "    \n",
              "      </svg>\n",
              "    "
            ],
            "text/plain": [
              "<IPython.core.display.HTML object>"
            ]
          },
          "metadata": {
            "tags": []
          }
        }
      ]
    },
    {
      "cell_type": "markdown",
      "metadata": {
        "id": "7UXSE3AaRI0H"
      },
      "source": [
        "1) Modifique-o para que o resultado seja um **histograma**, como o mostrado na figura abaixo.\n",
        "Amplie seu script para que seja possível passar ao programa dados (frequência), com o valor do bin (classe de frequência) e cores determinados pelo usuário.\n",
        "\n",
        "\n",
        "Adicione declarações condicionais à função para casos passíveis de gerar erros, como por exemplo, se alguma variável do argumento da \n",
        "função não for definida.\n",
        "\n",
        "***Exemplo***: amplie sua função para tomar como argumento uma lista que contenha as frequências do histograma e verifique que o argumento realmente é uma lista. Caso não seja, imprima uma mensagem de erro.\n",
        "\n",
        "![](https://github.com/malbouis/Python_intro/blob/master/aulas_2019/pics/histo.png)\n"
      ]
    },
    {
      "cell_type": "code",
      "metadata": {
        "id": "RnDNoAFGzkHt",
        "outputId": "72314d22-fbe7-494b-e837-8bee543f7255",
        "colab": {
          "base_uri": "https://localhost:8080/",
          "height": 929
        }
      },
      "source": [
        "import ColabTurtle.Turtle as tess\n",
        "import numpy as np\n",
        "import sympy as sym\n",
        "from sympy import init_printing\n",
        "\n",
        "binhistograma = sym.Symbol('binhistograma') #40\n",
        "print ('Escolha o bin das barras:')\n",
        "binhistograma = int(input())\n",
        "def draw_bar(t, height):\n",
        "    \"\"\" Get turtle t to draw one bar, of height. \"\"\"\n",
        "    t.color(input('Escolha a cor(white, yellow, orange, red, green, blue, purple, grey, black):'))\n",
        "    t.forward(height) \n",
        "    t.right(90)\n",
        "    t.forward(binhistograma)\n",
        "    t.right(90)\n",
        "    t.forward(height)\n",
        "    t.left(90)\n",
        "    t.forward(10)\n",
        "    t.left(90)\n",
        "\n",
        "tess.initializeTurtle()   # inicialização\n",
        "\n",
        "tess.color(\"blue\")\n",
        "tess.bgcolor(\"white\")\n",
        "tess.penup() #levantar a caneta\n",
        "tess.goto(10,450) #mudar posicao de inicio \n",
        "tess.pendown() #abaixar a caneta\n",
        "\n",
        "print ('Escolha a frequência de cada uma das barras:')\n",
        "f1 = sym.Symbol('f1')\n",
        "f2 = sym.Symbol('f2')\n",
        "f3 = sym.Symbol('f3')\n",
        "f4 = sym.Symbol('f4')\n",
        "f5 = sym.Symbol('f5')\n",
        "f6 = sym.Symbol('f6')\n",
        "f7 = sym.Symbol('f7')\n",
        "\n",
        "while True:\n",
        "  f1 = int(input('Escolha f1 '))\n",
        "  if type(f1) == int:\n",
        "    print('ok')\n",
        "    break\n",
        "  else:\n",
        "    print('Inteiro por favor')   \n",
        "\n",
        "while True:\n",
        "  f2 = int(input('Escolha f2 '))\n",
        "  if type(f2) == int:\n",
        "    print('ok')\n",
        "    break\n",
        "  else:\n",
        "    print('Inteiro por favor')\n",
        "\n",
        "while True:\n",
        "  f3 = int(input('Escolha f3 '))\n",
        "  if type(f3) == int:\n",
        "    print('ok')\n",
        "    break\n",
        "  else:\n",
        "    print('Inteiro por favor')\n",
        "\n",
        "while True:\n",
        "  f4 = int(input('Escolha f4 '))\n",
        "  if type(f4) == int:\n",
        "    print('ok')\n",
        "    break\n",
        "  else:\n",
        "    print('Inteiro por favor')\n",
        "\n",
        "while True:\n",
        "  f5 = int(input('Escolha f5 '))\n",
        "  if type(f5) == int:\n",
        "    print('ok')\n",
        "    break\n",
        "  else:\n",
        "    print('Inteiro por favor')\n",
        "\n",
        "while True:\n",
        "  f6 = int(input('Escolha f6 '))\n",
        "  if type(f6) == int:\n",
        "    print('ok')\n",
        "    break\n",
        "  else:\n",
        "    print('Inteiro por favor')\n",
        "\n",
        "while True:\n",
        "  f7 = int(input('Escolha f7 '))\n",
        "  if type(f7) == int:\n",
        "    print('ok')\n",
        "    break\n",
        "  else:\n",
        "    print('Inteiro por favor')\n",
        "\n",
        "\n",
        "xs = [f1,f2,f3,f4,f5,f6,f7]\n",
        "\n",
        "for a in xs:\n",
        "    draw_bar(tess, a)"
      ],
      "execution_count": 77,
      "outputs": [
        {
          "output_type": "stream",
          "text": [
            "Escolha o bin das barras:\n",
            "51\n"
          ],
          "name": "stdout"
        },
        {
          "output_type": "display_data",
          "data": {
            "text/html": [
              "\n",
              "      <svg width=\"800\" height=\"500\">\n",
              "        <rect width=\"100%\" height=\"100%\" fill=\"white\"/>\n",
              "        <line x1=\"10\" y1=\"450\" x2=\"9.999999999999991\" y2=\"400.0\" stroke-linecap=\"round\" style=\"stroke:black;stroke-width:4\"/><line x1=\"9.999999999999991\" y1=\"400.0\" x2=\"60.99999999999999\" y2=\"400.0\" stroke-linecap=\"round\" style=\"stroke:black;stroke-width:4\"/><line x1=\"60.99999999999999\" y1=\"400.0\" x2=\"60.99999999999999\" y2=\"450.0\" stroke-linecap=\"round\" style=\"stroke:black;stroke-width:4\"/><line x1=\"60.99999999999999\" y1=\"450.0\" x2=\"71.0\" y2=\"450.0\" stroke-linecap=\"round\" style=\"stroke:black;stroke-width:4\"/><line x1=\"71.0\" y1=\"450.0\" x2=\"70.99999999999999\" y2=\"390.0\" stroke-linecap=\"round\" style=\"stroke:yellow;stroke-width:4\"/><line x1=\"70.99999999999999\" y1=\"390.0\" x2=\"121.99999999999999\" y2=\"390.0\" stroke-linecap=\"round\" style=\"stroke:yellow;stroke-width:4\"/><line x1=\"121.99999999999999\" y1=\"390.0\" x2=\"121.99999999999999\" y2=\"450.0\" stroke-linecap=\"round\" style=\"stroke:yellow;stroke-width:4\"/><line x1=\"121.99999999999999\" y1=\"450.0\" x2=\"132.0\" y2=\"450.0\" stroke-linecap=\"round\" style=\"stroke:yellow;stroke-width:4\"/><line x1=\"132.0\" y1=\"450.0\" x2=\"131.99999999999997\" y2=\"370.0\" stroke-linecap=\"round\" style=\"stroke:red;stroke-width:4\"/><line x1=\"131.99999999999997\" y1=\"370.0\" x2=\"182.99999999999997\" y2=\"370.0\" stroke-linecap=\"round\" style=\"stroke:red;stroke-width:4\"/><line x1=\"182.99999999999997\" y1=\"370.0\" x2=\"182.99999999999997\" y2=\"450.0\" stroke-linecap=\"round\" style=\"stroke:red;stroke-width:4\"/><line x1=\"182.99999999999997\" y1=\"450.0\" x2=\"192.99999999999997\" y2=\"450.0\" stroke-linecap=\"round\" style=\"stroke:red;stroke-width:4\"/><line x1=\"192.99999999999997\" y1=\"450.0\" x2=\"192.99999999999997\" y2=\"415.0\" stroke-linecap=\"round\" style=\"stroke:blue;stroke-width:4\"/><line x1=\"192.99999999999997\" y1=\"415.0\" x2=\"243.99999999999997\" y2=\"415.0\" stroke-linecap=\"round\" style=\"stroke:blue;stroke-width:4\"/><line x1=\"243.99999999999997\" y1=\"415.0\" x2=\"243.99999999999997\" y2=\"450.0\" stroke-linecap=\"round\" style=\"stroke:blue;stroke-width:4\"/><line x1=\"243.99999999999997\" y1=\"450.0\" x2=\"253.99999999999997\" y2=\"450.0\" stroke-linecap=\"round\" style=\"stroke:blue;stroke-width:4\"/><line x1=\"253.99999999999997\" y1=\"450.0\" x2=\"253.99999999999994\" y2=\"357.0\" stroke-linecap=\"round\" style=\"stroke:green;stroke-width:4\"/><line x1=\"253.99999999999994\" y1=\"357.0\" x2=\"304.99999999999994\" y2=\"357.0\" stroke-linecap=\"round\" style=\"stroke:green;stroke-width:4\"/><line x1=\"304.99999999999994\" y1=\"357.0\" x2=\"304.99999999999994\" y2=\"450.0\" stroke-linecap=\"round\" style=\"stroke:green;stroke-width:4\"/><line x1=\"304.99999999999994\" y1=\"450.0\" x2=\"314.99999999999994\" y2=\"450.0\" stroke-linecap=\"round\" style=\"stroke:green;stroke-width:4\"/><line x1=\"314.99999999999994\" y1=\"450.0\" x2=\"314.99999999999994\" y2=\"350.0\" stroke-linecap=\"round\" style=\"stroke:orange;stroke-width:4\"/><line x1=\"314.99999999999994\" y1=\"350.0\" x2=\"365.99999999999994\" y2=\"350.0\" stroke-linecap=\"round\" style=\"stroke:orange;stroke-width:4\"/><line x1=\"365.99999999999994\" y1=\"350.0\" x2=\"365.99999999999994\" y2=\"450.0\" stroke-linecap=\"round\" style=\"stroke:orange;stroke-width:4\"/><line x1=\"365.99999999999994\" y1=\"450.0\" x2=\"375.99999999999994\" y2=\"450.0\" stroke-linecap=\"round\" style=\"stroke:orange;stroke-width:4\"/><line x1=\"375.99999999999994\" y1=\"450.0\" x2=\"375.99999999999994\" y2=\"425.0\" stroke-linecap=\"round\" style=\"stroke:grey;stroke-width:4\"/><line x1=\"375.99999999999994\" y1=\"425.0\" x2=\"426.99999999999994\" y2=\"425.0\" stroke-linecap=\"round\" style=\"stroke:grey;stroke-width:4\"/><line x1=\"426.99999999999994\" y1=\"425.0\" x2=\"426.99999999999994\" y2=\"450.0\" stroke-linecap=\"round\" style=\"stroke:grey;stroke-width:4\"/><line x1=\"426.99999999999994\" y1=\"450.0\" x2=\"436.99999999999994\" y2=\"450.0\" stroke-linecap=\"round\" style=\"stroke:grey;stroke-width:4\"/>\n",
              "        \n",
              "      <g visibility=visible transform=\"rotate(180,436.99999999999994,450.0) translate(436.99999999999994, 450.0)\">\n",
              "        <circle stroke=\"grey\" stroke-width=\"3\" fill=\"transparent\" r=\"12\" cx=\"0\" cy=\"0\"/>\n",
              "        <polygon points=\"0,19 3,16 -3,16\" style=\"fill:grey;stroke:grey;stroke-width:2\"/>\n",
              "      </g>\n",
              "    \n",
              "      </svg>\n",
              "    "
            ],
            "text/plain": [
              "<IPython.core.display.HTML object>"
            ]
          },
          "metadata": {
            "tags": []
          }
        },
        {
          "output_type": "stream",
          "text": [
            "Escolha a frequência de cada uma das barras:\n",
            "Escolha f1 50\n",
            "ok\n",
            "Escolha f2 60\n",
            "ok\n",
            "Escolha f3 80\n",
            "ok\n",
            "Escolha f4 35\n",
            "ok\n",
            "Escolha f5 93\n",
            "ok\n",
            "Escolha f6 100\n",
            "ok\n",
            "Escolha f7 25\n",
            "ok\n",
            "Escolha a cor(white, yellow, orange, red, green, blue, purple, grey, black):black\n",
            "Escolha a cor(white, yellow, orange, red, green, blue, purple, grey, black):yellow\n",
            "Escolha a cor(white, yellow, orange, red, green, blue, purple, grey, black):red\n",
            "Escolha a cor(white, yellow, orange, red, green, blue, purple, grey, black):blue\n",
            "Escolha a cor(white, yellow, orange, red, green, blue, purple, grey, black):green\n",
            "Escolha a cor(white, yellow, orange, red, green, blue, purple, grey, black):orange\n",
            "Escolha a cor(white, yellow, orange, red, green, blue, purple, grey, black):grey\n"
          ],
          "name": "stdout"
        }
      ]
    },
    {
      "cell_type": "markdown",
      "metadata": {
        "id": "X1iEvjfMC_gG"
      },
      "source": [
        "2) Repita o exercício 1) usando **Manipulação de exceção em Python** (pesquisem!!!!), com as cláusulas ```try``` e ```except```.  <=== **A ser apresentado em sala de aula**.\n",
        "\n",
        "2) **Desafio**: Faça um programa equivalente ao do item 1., utilizando ***matplotlib*** e ***numpy*** ao invés de ***turtle***"
      ]
    },
    {
      "cell_type": "code",
      "metadata": {
        "id": "oH8wL_YxO9Xg",
        "outputId": "408ad637-dd33-48b8-817c-54cfc7995c31",
        "colab": {
          "base_uri": "https://localhost:8080/",
          "height": 793
        }
      },
      "source": [
        "import ColabTurtle.Turtle as tess\n",
        "import numpy as np\n",
        "import sympy as sym\n",
        "from sympy import init_printing\n",
        "\n",
        "binhistograma = sym.Symbol('binhistograma') #40\n",
        "while True:\n",
        "  try:\n",
        "    binhistograma = int(input('Escolha o bin das barras: '))\n",
        "    break\n",
        "  except:\n",
        "    print('Inteiro por favor')\n",
        "\n",
        "def draw_bar(t, height):\n",
        "    \"\"\" Get turtle t to draw one bar, of height. \"\"\"\n",
        "    t.color(input('Escolha a cor(white yellow, orange, red, green, blue, purple, grey, black):')) #('white', 'yellow', 'orange', 'red', 'green', 'blue', 'purple', 'grey', 'black')\n",
        "    t.forward(height)\n",
        "    t.right(90)\n",
        "    t.forward(binhistograma)\n",
        "    t.right(90)\n",
        "    t.forward(height)\n",
        "    t.left(90)\n",
        "    t.forward(10)\n",
        "    t.left(90)\n",
        "\n",
        "tess.initializeTurtle()   # inicialização\n",
        "\n",
        "tess.color(\"blue\")\n",
        "tess.bgcolor(\"white\")\n",
        "tess.penup() #levantar a caneta\n",
        "tess.goto(10,450) #mudar posicao de inicio \n",
        "tess.pendown() #abaixar a caneta\n",
        "\n",
        "print ('Escolha a frequência de cada uma das barras:')\n",
        "f1 = sym.Symbol('f1')\n",
        "f2 = sym.Symbol('f2')\n",
        "f3 = sym.Symbol('f3')\n",
        "f4 = sym.Symbol('f4')\n",
        "f5 = sym.Symbol('f5')\n",
        "f6 = sym.Symbol('f6')\n",
        "f7 = sym.Symbol('f7')\n",
        "\n",
        "while True:\n",
        "  try:\n",
        "    f1 = int(input('Escolha f1 '))\n",
        "    break\n",
        "  except:\n",
        "    print('Inteiro por favor')   \n",
        "\n",
        "while True:\n",
        "  try:\n",
        "    f2 = int(input('Escolha f2 '))\n",
        "    break\n",
        "  except:\n",
        "    print('Inteiro por favor')\n",
        "\n",
        "while True:\n",
        "  try:\n",
        "    f3 = int(input('Escolha f3 '))\n",
        "    break\n",
        "  except:\n",
        "    print('Inteiro por favor')\n",
        "\n",
        "while True:\n",
        "  try:\n",
        "    f4 = int(input('Escolha f4 '))\n",
        "    break\n",
        "  except:\n",
        "    print('Inteiro por favor')\n",
        "\n",
        "while True:\n",
        "  try:\n",
        "    f5 = int(input('Escolha f5 '))\n",
        "    break\n",
        "  except:\n",
        "    print('Inteiro por favor')\n",
        "\n",
        "while True:\n",
        "  try:\n",
        "    f6 = int(input('Escolha f6 '))\n",
        "    break\n",
        "  except:\n",
        "    print('Inteiro por favor')\n",
        "\n",
        "while True:\n",
        "  try:\n",
        "    f7 = int(input('Escolha f7 '))\n",
        "    break\n",
        "  except:\n",
        "    print('Inteiro por favor')\n",
        "\n",
        "xs = [f1,f2,f3,f4,f5,f6,f7]\n",
        "\n",
        "for a in xs:\n",
        "    draw_bar(tess, a)"
      ],
      "execution_count": 75,
      "outputs": [
        {
          "output_type": "stream",
          "text": [
            "Escolha o bin das barras: 40\n"
          ],
          "name": "stdout"
        },
        {
          "output_type": "display_data",
          "data": {
            "text/html": [
              "\n",
              "      <svg width=\"800\" height=\"500\">\n",
              "        <rect width=\"100%\" height=\"100%\" fill=\"white\"/>\n",
              "        <line x1=\"10\" y1=\"450\" x2=\"9.999999999999982\" y2=\"350.0\" stroke-linecap=\"round\" style=\"stroke:black;stroke-width:4\"/><line x1=\"9.999999999999982\" y1=\"350.0\" x2=\"49.999999999999986\" y2=\"350.0\" stroke-linecap=\"round\" style=\"stroke:black;stroke-width:4\"/><line x1=\"49.999999999999986\" y1=\"350.0\" x2=\"49.99999999999999\" y2=\"450.0\" stroke-linecap=\"round\" style=\"stroke:black;stroke-width:4\"/><line x1=\"49.99999999999999\" y1=\"450.0\" x2=\"59.99999999999999\" y2=\"450.0\" stroke-linecap=\"round\" style=\"stroke:black;stroke-width:4\"/><line x1=\"59.99999999999999\" y1=\"450.0\" x2=\"59.999999999999986\" y2=\"400.0\" stroke-linecap=\"round\" style=\"stroke:green;stroke-width:4\"/><line x1=\"59.999999999999986\" y1=\"400.0\" x2=\"99.99999999999999\" y2=\"400.0\" stroke-linecap=\"round\" style=\"stroke:green;stroke-width:4\"/><line x1=\"99.99999999999999\" y1=\"400.0\" x2=\"99.99999999999999\" y2=\"450.0\" stroke-linecap=\"round\" style=\"stroke:green;stroke-width:4\"/><line x1=\"99.99999999999999\" y1=\"450.0\" x2=\"109.99999999999999\" y2=\"450.0\" stroke-linecap=\"round\" style=\"stroke:green;stroke-width:4\"/><line x1=\"109.99999999999999\" y1=\"450.0\" x2=\"109.99999999999997\" y2=\"390.0\" stroke-linecap=\"round\" style=\"stroke:red;stroke-width:4\"/><line x1=\"109.99999999999997\" y1=\"390.0\" x2=\"149.99999999999997\" y2=\"390.0\" stroke-linecap=\"round\" style=\"stroke:red;stroke-width:4\"/><line x1=\"149.99999999999997\" y1=\"390.0\" x2=\"149.99999999999997\" y2=\"450.0\" stroke-linecap=\"round\" style=\"stroke:red;stroke-width:4\"/><line x1=\"149.99999999999997\" y1=\"450.0\" x2=\"159.99999999999997\" y2=\"450.0\" stroke-linecap=\"round\" style=\"stroke:red;stroke-width:4\"/><line x1=\"159.99999999999997\" y1=\"450.0\" x2=\"159.99999999999997\" y2=\"400.0\" stroke-linecap=\"round\" style=\"stroke:yellow;stroke-width:4\"/><line x1=\"159.99999999999997\" y1=\"400.0\" x2=\"199.99999999999997\" y2=\"400.0\" stroke-linecap=\"round\" style=\"stroke:yellow;stroke-width:4\"/><line x1=\"199.99999999999997\" y1=\"400.0\" x2=\"199.99999999999997\" y2=\"450.0\" stroke-linecap=\"round\" style=\"stroke:yellow;stroke-width:4\"/><line x1=\"199.99999999999997\" y1=\"450.0\" x2=\"209.99999999999997\" y2=\"450.0\" stroke-linecap=\"round\" style=\"stroke:yellow;stroke-width:4\"/><line x1=\"209.99999999999997\" y1=\"450.0\" x2=\"209.99999999999997\" y2=\"390.0\" stroke-linecap=\"round\" style=\"stroke:grey;stroke-width:4\"/><line x1=\"209.99999999999997\" y1=\"390.0\" x2=\"249.99999999999997\" y2=\"390.0\" stroke-linecap=\"round\" style=\"stroke:grey;stroke-width:4\"/><line x1=\"249.99999999999997\" y1=\"390.0\" x2=\"249.99999999999997\" y2=\"450.0\" stroke-linecap=\"round\" style=\"stroke:grey;stroke-width:4\"/><line x1=\"249.99999999999997\" y1=\"450.0\" x2=\"260.0\" y2=\"450.0\" stroke-linecap=\"round\" style=\"stroke:grey;stroke-width:4\"/><line x1=\"260.0\" y1=\"450.0\" x2=\"260.0\" y2=\"425.0\" stroke-linecap=\"round\" style=\"stroke:purple;stroke-width:4\"/><line x1=\"260.0\" y1=\"425.0\" x2=\"300.0\" y2=\"425.0\" stroke-linecap=\"round\" style=\"stroke:purple;stroke-width:4\"/><line x1=\"300.0\" y1=\"425.0\" x2=\"300.0\" y2=\"450.0\" stroke-linecap=\"round\" style=\"stroke:purple;stroke-width:4\"/><line x1=\"300.0\" y1=\"450.0\" x2=\"310.0\" y2=\"450.0\" stroke-linecap=\"round\" style=\"stroke:purple;stroke-width:4\"/><line x1=\"310.0\" y1=\"450.0\" x2=\"310.0\" y2=\"400.0\" stroke-linecap=\"round\" style=\"stroke:orange;stroke-width:4\"/><line x1=\"310.0\" y1=\"400.0\" x2=\"350.0\" y2=\"400.0\" stroke-linecap=\"round\" style=\"stroke:orange;stroke-width:4\"/><line x1=\"350.0\" y1=\"400.0\" x2=\"350.0\" y2=\"450.0\" stroke-linecap=\"round\" style=\"stroke:orange;stroke-width:4\"/><line x1=\"350.0\" y1=\"450.0\" x2=\"360.0\" y2=\"450.0\" stroke-linecap=\"round\" style=\"stroke:orange;stroke-width:4\"/>\n",
              "        \n",
              "      <g visibility=visible transform=\"rotate(180,360.0,450.0) translate(360.0, 450.0)\">\n",
              "        <circle stroke=\"orange\" stroke-width=\"3\" fill=\"transparent\" r=\"12\" cx=\"0\" cy=\"0\"/>\n",
              "        <polygon points=\"0,19 3,16 -3,16\" style=\"fill:orange;stroke:orange;stroke-width:2\"/>\n",
              "      </g>\n",
              "    \n",
              "      </svg>\n",
              "    "
            ],
            "text/plain": [
              "<IPython.core.display.HTML object>"
            ]
          },
          "metadata": {
            "tags": []
          }
        },
        {
          "output_type": "stream",
          "text": [
            "Escolha a frequência de cada uma das barras:\n",
            "Escolha f1 100\n",
            "Escolha f2 50\n",
            "Escolha f3 60\n",
            "Escolha f4 50\n",
            "Escolha f5 60\n",
            "Escolha f6 25\n",
            "Escolha f7 50\n",
            "Escolha a cor(white yellow, orange, red, green, blue, purple, grey, black):black\n",
            "Escolha a cor(white yellow, orange, red, green, blue, purple, grey, black):green\n",
            "Escolha a cor(white yellow, orange, red, green, blue, purple, grey, black):red\n",
            "Escolha a cor(white yellow, orange, red, green, blue, purple, grey, black):yellow\n",
            "Escolha a cor(white yellow, orange, red, green, blue, purple, grey, black):grey\n",
            "Escolha a cor(white yellow, orange, red, green, blue, purple, grey, black):purple\n",
            "Escolha a cor(white yellow, orange, red, green, blue, purple, grey, black):orange\n"
          ],
          "name": "stdout"
        }
      ]
    }
  ]
}