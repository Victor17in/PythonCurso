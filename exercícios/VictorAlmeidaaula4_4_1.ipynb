{
  "nbformat": 4,
  "nbformat_minor": 0,
  "metadata": {
    "colab": {
      "name": "VictorAlmeidaaula4_4_1.ipynb",
      "provenance": [],
      "authorship_tag": "ABX9TyPd5RN1HvZZ30Ig+3QQkyI8",
      "include_colab_link": true
    },
    "kernelspec": {
      "name": "python3",
      "display_name": "Python 3"
    }
  },
  "cells": [
    {
      "cell_type": "markdown",
      "metadata": {
        "id": "view-in-github",
        "colab_type": "text"
      },
      "source": [
        "<a href=\"https://colab.research.google.com/github/Victor17in/PythonCurso/blob/master/exerc%C3%ADcios/VictorAlmeidaaula4_4_1.ipynb\" target=\"_parent\"><img src=\"https://colab.research.google.com/assets/colab-badge.svg\" alt=\"Open In Colab\"/></a>"
      ]
    },
    {
      "cell_type": "code",
      "metadata": {
        "id": "oUNdLl6Nkpx6",
        "outputId": "6940bffb-1809-4f48-afe9-a43a2760c574",
        "colab": {
          "base_uri": "https://localhost:8080/",
          "height": 459
        }
      },
      "source": [
        "#Exercício:\n",
        "#Um objeto de função é um valor que você pode atribuir a uma variável ou passar como um argumento.')\n",
        "#Por exemplo, do_twice é uma função que usa um objeto de função como argumento e o chama duas vezes:')\n",
        "print('Digite este exemplo em um script e teste-o.') \n",
        "[ ]\n",
        "from math import pi\n",
        "def do_twice (f): \n",
        "    f () \n",
        "    f ()\n",
        "#Aqui está um exemplo que usa do_twice para chamar uma função chamada print_spam duas vezes.\n",
        "\n",
        "[ ]\n",
        "def print_spam (): \n",
        "    print('spam') \n",
        "\n",
        "do_twice (print_spam)\n",
        "\n",
        "\n",
        "print('Modifique do_twice para que sejam necessários dois argumentos, um objeto de função e um valor,')\n",
        "print(' e chame a função duas vezes, passando o valor como um argumento.')\n",
        "\n",
        "def do_twice2 (f, g): \n",
        "    z= 'valor0'\n",
        "    f () \n",
        "    f ()\n",
        "    g ()\n",
        "    g ()\n",
        "[ ]\n",
        "def print_spam2 (): \n",
        "    print('spam') \n",
        "\n",
        "do_twice2 (print_spam2, print_spam2)\n",
        "do_twice2 (print_spam2, print_spam2)\n",
        "print('')\n",
        "print('Escreva uma versão mais geral de print_spam, chamada print_twice, que use uma string como parâmetro e imprima duas vezes.') \n",
        "print('Use a versão modificada de do_twice para chamar print_twice duas vezes, passando \"spam\" como um argumento.')\n",
        "\n",
        "def print_twice ():\n",
        "    x= 'parâmetro'\n",
        "    print(x)\n",
        "    print(x)\n",
        "print_twice()\n",
        "print('')\n",
        "def do_twice3 (spam): \n",
        "    print_twice()\n",
        "    print_twice()\n",
        "do_twice3(print_twice)\n",
        "\n",
        "print('Defina uma nova função chamada do_four que recebe um objeto de função e um valor e chama a função quatro vezes, passando o valor como um parâmetro.')\n",
        "print(' Deve haver apenas duas declarações no corpo desta função, não quatro.')\n",
        "def do_four():\n",
        "    y= 'valor'\n",
        "    print(y, y, y, y)\n",
        "do_four()"
      ],
      "execution_count": 18,
      "outputs": [
        {
          "output_type": "stream",
          "text": [
            "Digite este exemplo em um script e teste-o.\n",
            "spam\n",
            "spam\n",
            "Modifique do_twice para que sejam necessários dois argumentos, um objeto de função e um valor,\n",
            " e chame a função duas vezes, passando o valor como um argumento.\n",
            "spam\n",
            "spam\n",
            "spam\n",
            "spam\n",
            "spam\n",
            "spam\n",
            "spam\n",
            "spam\n",
            "\n",
            "Escreva uma versão mais geral de print_spam, chamada print_twice, que use uma string como parâmetro e imprima duas vezes.\n",
            "Use a versão modificada de do_twice para chamar print_twice duas vezes, passando \"spam\" como um argumento.\n",
            "parâmetro\n",
            "parâmetro\n",
            "\n",
            "parâmetro\n",
            "parâmetro\n",
            "parâmetro\n",
            "parâmetro\n",
            "Defina uma nova função chamada do_four que recebe um objeto de função e um valor e chama a função quatro vezes, passando o valor como um parâmetro.\n",
            " Deve haver apenas duas declarações no corpo desta função, não quatro.\n",
            "valor valor valor valor\n"
          ],
          "name": "stdout"
        }
      ]
    }
  ]
}