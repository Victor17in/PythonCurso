{
  "nbformat": 4,
  "nbformat_minor": 0,
  "metadata": {
    "colab": {
      "name": "aula2_2_3.ipynb",
      "provenance": [],
      "authorship_tag": "ABX9TyM8NRAzX4Krb/1T5kniYxQx",
      "include_colab_link": true
    },
    "kernelspec": {
      "name": "python3",
      "display_name": "Python 3"
    }
  },
  "cells": [
    {
      "cell_type": "markdown",
      "metadata": {
        "id": "view-in-github",
        "colab_type": "text"
      },
      "source": [
        "<a href=\"https://colab.research.google.com/github/Victor17in/PythonCurso/blob/master/exerc%C3%ADcios/aula2_2_3.ipynb\" target=\"_parent\"><img src=\"https://colab.research.google.com/assets/colab-badge.svg\" alt=\"Open In Colab\"/></a>"
      ]
    },
    {
      "cell_type": "code",
      "metadata": {
        "id": "u2ds5lj6EMOw",
        "colab_type": "code",
        "colab": {
          "base_uri": "https://localhost:8080/",
          "height": 204
        },
        "outputId": "9881161b-c88d-4155-ec3b-187f7e860b57"
      },
      "source": [
        "print ('Suponha que o preço de um livro seja 24.95 reais, porém as livrarias têm desconto de 40%.')\n",
        "print ('Os custos de envio são de 3.00 reais para o primeiro livro e 0.75 reais para os livros adicionais.')\n",
        "print ('Qual é o custo total da compra de 60 livros?') \n",
        "l = 24.95\n",
        "d = 0.6\n",
        "lreal = round(l*d,2)\n",
        "print ('Valor sem entrega de um livro em reais:')\n",
        "print (lreal)\n",
        "print ('Valor sem entrega de 60 livros em reais:')\n",
        "y = 60*lreal\n",
        "print (y)\n",
        "n = 60\n",
        "x = 3 + 0.75*(n-1)\n",
        "print ('Valor da entrega de 60 livros em reais:')\n",
        "print (x)\n",
        "print ('Valor total em reais:')\n",
        "print (x+y)"
      ],
      "execution_count": 29,
      "outputs": [
        {
          "output_type": "stream",
          "text": [
            "Suponha que o preço de um livro seja 24.95 reais, porém as livrarias têm desconto de 40%.\n",
            "Os custos de envio são de 3.00 reais para o primeiro livro e 0.75 reais para os livros adicionais.\n",
            "Qual é o custo total da compra de 60 livros?\n",
            "Valor sem entrega de um livro em reais:\n",
            "14.97\n",
            "Valor sem entrega de 60 livros em reais:\n",
            "898.2\n",
            "Valor da entrega de 60 livros em reais:\n",
            "47.25\n",
            "Valor total em reais:\n",
            "945.45\n"
          ],
          "name": "stdout"
        }
      ]
    }
  ]
}
