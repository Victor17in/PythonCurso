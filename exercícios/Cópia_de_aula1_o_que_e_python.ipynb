{
  "nbformat": 4,
  "nbformat_minor": 0,
  "metadata": {
    "kernelspec": {
      "display_name": "Python 3",
      "language": "python",
      "name": "python3"
    },
    "language_info": {
      "codemirror_mode": {
        "name": "ipython",
        "version": 3
      },
      "file_extension": ".py",
      "mimetype": "text/x-python",
      "name": "python",
      "nbconvert_exporter": "python",
      "pygments_lexer": "ipython3",
      "version": "3.7.0"
    },
    "colab": {
      "name": "Cópia de Cópia de aula1_o_que_e_python.ipynb",
      "provenance": [],
      "include_colab_link": true
    }
  },
  "cells": [
    {
      "cell_type": "markdown",
      "metadata": {
        "id": "view-in-github",
        "colab_type": "text"
      },
      "source": [
        "<a href=\"https://colab.research.google.com/github/Victor17in/PythonCurso/blob/master/exerc%C3%ADcios/C%C3%B3pia_de_aula1_o_que_e_python.ipynb\" target=\"_parent\"><img src=\"https://colab.research.google.com/assets/colab-badge.svg\" alt=\"Open In Colab\"/></a>"
      ]
    },
    {
      "cell_type": "markdown",
      "metadata": {
        "id": "AorQXEEymp38",
        "colab_type": "text"
      },
      "source": [
        "# Exercícios\n",
        "\n",
        "### Exercício 1:\n",
        "Escreva na tela do modo prompt: \"mundo, mundo, vasto mundo\""
      ]
    },
    {
      "cell_type": "code",
      "metadata": {
        "scrolled": true,
        "id": "iNQorxmdmp3-",
        "colab_type": "code",
        "colab": {}
      },
      "source": [
        "print('mundo, mundo, vasto mundo')"
      ],
      "execution_count": null,
      "outputs": []
    },
    {
      "cell_type": "markdown",
      "metadata": {
        "id": "dVoNJP3rmp4D",
        "colab_type": "text"
      },
      "source": [
        "### Exercício 2:\n",
        "Imprima na tela a documentação da função *print*"
      ]
    },
    {
      "cell_type": "code",
      "metadata": {
        "scrolled": true,
        "id": "e-tjr2J1mp4E",
        "colab_type": "code",
        "colab": {}
      },
      "source": [
        "help('print')"
      ],
      "execution_count": null,
      "outputs": []
    },
    {
      "cell_type": "markdown",
      "metadata": {
        "id": "sE4F0ZW6mp4H",
        "colab_type": "text"
      },
      "source": [
        "### Exercício 3:\n",
        "Inicie o interpretador Python e use-o como uma calculadora. A sintaxe do Python para operações matemáticas é quase igual à notação matemática padrão: \n",
        "* adição: + \n",
        "* subtração: - \n",
        "* divisão: /\n",
        "* multiplicação: *\n",
        "   \n",
        "   \n",
        "***Se você fizer uma corrida de 10 quilômetros em 43 minutos e 30 segundos, qual será seu tempo médio por milha? Qual é a sua velocidade média em milhas por hora? (Dica: há 1,61 quilômetros em uma milha).***"
      ]
    },
    {
      "cell_type": "code",
      "metadata": {
        "id": "HGgrwvbhO4zS",
        "colab_type": "code",
        "colab": {
          "base_uri": "https://localhost:8080/",
          "height": 173
        },
        "outputId": "04e58af1-69a4-42ae-9865-e50fe40fa228"
      },
      "source": [
        "  \n",
        "print(\"Se você fizer uma corrida de 10 quilômetros em 43 minutos e 30 segundos, qual será seu tempo médio por milha? Qual é a sua velocidade média em milhas por hora? (Dica: há 1,61 quilômetros em uma milha).\")\n",
        "\n",
        "x= 10\n",
        "\t\n",
        "print(\"x =\", x,\"km\")\n",
        "\n",
        "y= 1.61\n",
        "\n",
        "print(\"y =\", y,\"km (uma milha)\")\n",
        "\n",
        "t= 43.5\n",
        "\n",
        "print(\"t =\", t,\"min (tempo total)\")\n",
        "\n",
        "tx= t/x\n",
        " \n",
        "print(\"1km demora a ser percorrido t/x minutos então, t/x=\", tx)\n",
        "\n",
        "ytx= y*tx\n",
        "\n",
        "print(\"Se uma milha é 1,61km então o tempo de uma milha é y.t/x onde y.t/x=\", ytx)\n",
        "\n",
        "x60t= x*60/t\n",
        "\n",
        "print(\"A velocidade média em km/h é x.60/t=\", x60t)\n",
        "\n",
        "yx60t= x60t/y\n",
        "\n",
        "print(\"Já a velocidade média em milhas/h é a velocidade em km/h divido por y onde (x.60)/(t.y)=\", yx60t)"
      ],
      "execution_count": 1,
      "outputs": [
        {
          "output_type": "stream",
          "text": [
            "Se você fizer uma corrida de 10 quilômetros em 43 minutos e 30 segundos, qual será seu tempo médio por milha? Qual é a sua velocidade média em milhas por hora? (Dica: há 1,61 quilômetros em uma milha).\n",
            "x = 10 km\n",
            "y = 1.61 km (uma milha)\n",
            "t = 43.5 min (tempo total)\n",
            "1km demora a ser percorrido t/x minutos então, t/x= 4.35\n",
            "Se uma milha é 1,61km então o tempo de uma milha é y.t/x onde y.t/x= 7.0035\n",
            "A velocidade média em km/h é x.60/t= 13.793103448275861\n",
            "Já a velocidade média em milhas/h é a velocidade em km/h divido por y onde (x.60)/(t.y)= 8.567144998929106\n"
          ],
          "name": "stdout"
        }
      ]
    }
  ]
}