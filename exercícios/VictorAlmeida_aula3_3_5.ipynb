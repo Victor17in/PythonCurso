{
  "nbformat": 4,
  "nbformat_minor": 0,
  "metadata": {
    "colab": {
      "name": "VictorAlmeida_aula3_3_5.ipynb",
      "provenance": [],
      "authorship_tag": "ABX9TyMbrZ1a8jLrZKo1Abe4In9d",
      "include_colab_link": true
    },
    "kernelspec": {
      "name": "python3",
      "display_name": "Python 3"
    }
  },
  "cells": [
    {
      "cell_type": "markdown",
      "metadata": {
        "id": "view-in-github",
        "colab_type": "text"
      },
      "source": [
        "<a href=\"https://colab.research.google.com/github/Victor17in/PythonCurso/blob/master/exerc%C3%ADcios/VictorAlmeida_aula3_3_5.ipynb\" target=\"_parent\"><img src=\"https://colab.research.google.com/assets/colab-badge.svg\" alt=\"Open In Colab\"/></a>"
      ]
    },
    {
      "cell_type": "code",
      "metadata": {
        "id": "GdYgEV_RN5kr",
        "outputId": "fd4fb1cb-cb8b-418e-bea2-0355b6d525ca",
        "colab": {
          "base_uri": "https://localhost:8080/",
          "height": 204
        }
      },
      "source": [
        "print ('Crie funções para calcular os outros exemplos das aulas anteriores: IMC, volume de uma esfera, distancia entre pontos de máximos de difração.')\n",
        "print ('Decida quais serão os argumentos e o valor retornado.')\n",
        "print ('')\n",
        "def imc():\n",
        "    p= 96\n",
        "    a= 1.79\n",
        "    IMC= p/(a**2)\n",
        "    print('O IMC é:')\n",
        "    print (round(IMC,2))\n",
        "\n",
        "def vol_esfera():\n",
        "    pi = 3.14159\n",
        "    r = 7\n",
        "    V = (4*pi*r**3)/3\n",
        "    print ('O volume da esfera é:')\n",
        "    print (round(V,2), 'u.v')\n",
        "\n",
        "def dpmd():\n",
        "    l = 632.8*10**(-9)\n",
        "    D = 1.98\n",
        "    d = 0.250*10**(-3)\n",
        "    y = l*D/d\n",
        "    print ('A distância  entre dois máximos consecutivos de interferência é:')\n",
        "    print (round(y, 4), 'm')\n",
        "imc()\n",
        "print ('')\n",
        "vol_esfera()\n",
        "print ('')\n",
        "dpmd()"
      ],
      "execution_count": 22,
      "outputs": [
        {
          "output_type": "stream",
          "text": [
            "Crie funções para calcular os outros exemplos das aulas anteriores: IMC, volume de uma esfera, distancia entre pontos de máximos de difração.\n",
            "Decida quais serão os argumentos e o valor retornado.\n",
            "\n",
            "O IMC é:\n",
            "29.96\n",
            "\n",
            "O volume da esfera é:\n",
            "1436.75 u.v\n",
            "\n",
            "A distância  entre dois máximos consecutivos de interferência é:\n",
            "0.005 m\n"
          ],
          "name": "stdout"
        }
      ]
    }
  ]
}