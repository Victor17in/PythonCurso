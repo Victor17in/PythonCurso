{
  "nbformat": 4,
  "nbformat_minor": 0,
  "metadata": {
    "colab": {
      "name": "VictorAlmeida_aula4_4_1.ipynb",
      "provenance": [],
      "authorship_tag": "ABX9TyNpVdVS1li6oAudr3J1giYd",
      "include_colab_link": true
    },
    "kernelspec": {
      "name": "python3",
      "display_name": "Python 3"
    }
  },
  "cells": [
    {
      "cell_type": "markdown",
      "metadata": {
        "id": "view-in-github",
        "colab_type": "text"
      },
      "source": [
        "<a href=\"https://colab.research.google.com/github/Victor17in/PythonCurso/blob/master/exerc%C3%ADcios/VictorAlmeida_aula4_4_1.ipynb\" target=\"_parent\"><img src=\"https://colab.research.google.com/assets/colab-badge.svg\" alt=\"Open In Colab\"/></a>"
      ]
    },
    {
      "cell_type": "markdown",
      "metadata": {
        "id": "0X_lNPUQdm6D"
      },
      "source": [
        "Primeira tentativa"
      ]
    },
    {
      "cell_type": "code",
      "metadata": {
        "id": "oUNdLl6Nkpx6"
      },
      "source": [
        "#Exercício:\n",
        "#Um objeto de função é um valor que você pode atribuir a uma variável ou passar como um argumento.')\n",
        "#Por exemplo, do_twice é uma função que usa um objeto de função como argumento e o chama duas vezes:')\n",
        "print('Digite este exemplo em um script e teste-o.') \n",
        "[ ]\n",
        "from math import pi\n",
        "def do_twice (f): \n",
        "    f () \n",
        "    f ()\n",
        "#Aqui está um exemplo que usa do_twice para chamar uma função chamada print_spam duas vezes.\n",
        "\n",
        "[ ]\n",
        "def print_spam (): \n",
        "    print('spam') \n",
        "\n",
        "do_twice (print_spam)\n",
        "\n",
        "\n",
        "print('Modifique do_twice para que sejam necessários dois argumentos, um objeto de função e um valor,')\n",
        "print(' e chame a função duas vezes, passando o valor como um argumento.')\n",
        "\n",
        "def do_twice2 (f, g): \n",
        "    z= 'valor0'\n",
        "    f () \n",
        "    f ()\n",
        "    g ()\n",
        "    g ()\n",
        "[ ]\n",
        "def print_spam2 (): \n",
        "    print('spam') \n",
        "\n",
        "do_twice2 (print_spam2, print_spam2)\n",
        "do_twice2 (print_spam2, print_spam2)\n",
        "print('')\n",
        "print('Escreva uma versão mais geral de print_spam, chamada print_twice, que use uma string como parâmetro e imprima duas vezes.') \n",
        "print('Use a versão modificada de do_twice para chamar print_twice duas vezes, passando \"spam\" como um argumento.')\n",
        "\n",
        "def print_twice ():\n",
        "    x= 'parâmetro'\n",
        "    print(x)\n",
        "    print(x)\n",
        "print_twice()\n",
        "print('')\n",
        "def do_twice3 (spam): \n",
        "    print_twice()\n",
        "    print_twice()\n",
        "do_twice3(print_twice)\n",
        "\n",
        "print('Defina uma nova função chamada do_four que recebe um objeto de função e um valor e chama a função quatro vezes, passando o valor como um parâmetro.')\n",
        "print(' Deve haver apenas duas declarações no corpo desta função, não quatro.')\n",
        "def do_four():\n",
        "    y= 'valor'\n",
        "    print(y, y, y, y)\n",
        "do_four()"
      ],
      "execution_count": null,
      "outputs": []
    },
    {
      "cell_type": "markdown",
      "metadata": {
        "id": "T0h2Vc2xfpwb"
      },
      "source": [
        "Segunda tentativa (correta)"
      ]
    },
    {
      "cell_type": "markdown",
      "metadata": {
        "id": "t5Ydom53dcK0"
      },
      "source": [
        "Modifique do_twice para que sejam necessários dois argumentos, um objeto de função e um valor,\n",
        " e chame a função duas vezes, passando o valor como um argumento."
      ]
    },
    {
      "cell_type": "code",
      "metadata": {
        "id": "Sn6gDe4ja_6Y",
        "outputId": "af4123b4-4546-4701-ce38-7f158adb047d",
        "colab": {
          "base_uri": "https://localhost:8080/",
          "height": 51
        }
      },
      "source": [
        "def do_twice2 (f, g): \n",
        "    f (g) \n",
        "    f (g)\n",
        "\n",
        "def print_spam (argumento): \n",
        "    print(argumento) \n",
        "\n",
        "z= 'valor0'\n",
        "do_twice2(print_spam, z)"
      ],
      "execution_count": 6,
      "outputs": [
        {
          "output_type": "stream",
          "text": [
            "valor0\n",
            "valor0\n"
          ],
          "name": "stdout"
        }
      ]
    },
    {
      "cell_type": "markdown",
      "metadata": {
        "id": "yqqATWbxdu9P"
      },
      "source": [
        "Escreva uma versão mais geral de print_spam, chamada print_twice, que use uma string como parâmetro e imprima duas vezes.\n",
        "Use a versão modificada de do_twice para chamar print_twice duas vezes, passando \"spam\" como um argumento."
      ]
    },
    {
      "cell_type": "code",
      "metadata": {
        "id": "ejDFNf9Gd2Bc",
        "outputId": "944c8f78-d739-4691-c6a5-c358f1f0d661",
        "colab": {
          "base_uri": "https://localhost:8080/",
          "height": 51
        }
      },
      "source": [
        "def print_twice (st):\n",
        "    print(st)\n",
        "    print(st)\n",
        "x= 'parâmetro'\n",
        "print_twice(x)"
      ],
      "execution_count": 7,
      "outputs": [
        {
          "output_type": "stream",
          "text": [
            "parâmetro\n",
            "parâmetro\n"
          ],
          "name": "stdout"
        }
      ]
    },
    {
      "cell_type": "code",
      "metadata": {
        "id": "ihB2lau6eMzT",
        "outputId": "555a1728-188b-4aa9-81b0-b792b1ea5445",
        "colab": {
          "base_uri": "https://localhost:8080/",
          "height": 85
        }
      },
      "source": [
        "arg = 'argumento'\n",
        "do_twice2(print_twice, arg)"
      ],
      "execution_count": 8,
      "outputs": [
        {
          "output_type": "stream",
          "text": [
            "argumento\n",
            "argumento\n",
            "argumento\n",
            "argumento\n"
          ],
          "name": "stdout"
        }
      ]
    },
    {
      "cell_type": "markdown",
      "metadata": {
        "id": "C8BrdH5NfC0u"
      },
      "source": [
        "Defina uma nova função chamada do_four que recebe um objeto de função e um valor e chama a função quatro vezes, passando o valor como um parâmetro. Deve haver apenas duas declarações no corpo desta função, não quatro."
      ]
    },
    {
      "cell_type": "code",
      "metadata": {
        "id": "YsMpgm8LfJBU",
        "outputId": "f13288d2-9e20-4578-c521-ed3f3f95bdec",
        "colab": {
          "base_uri": "https://localhost:8080/",
          "height": 85
        }
      },
      "source": [
        "def do_four(f, z):\n",
        "    f(z)\n",
        "    f(z)\n",
        "do_four(print_twice, arg)"
      ],
      "execution_count": 9,
      "outputs": [
        {
          "output_type": "stream",
          "text": [
            "argumento\n",
            "argumento\n",
            "argumento\n",
            "argumento\n"
          ],
          "name": "stdout"
        }
      ]
    }
  ]
}