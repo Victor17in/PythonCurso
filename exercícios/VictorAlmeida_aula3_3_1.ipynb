{
  "nbformat": 4,
  "nbformat_minor": 0,
  "metadata": {
    "colab": {
      "name": "VictorAlmeida_aula3_3_1.ipynb",
      "provenance": [],
      "authorship_tag": "ABX9TyOj91prSbyrpSoChHZGVm4j",
      "include_colab_link": true
    },
    "kernelspec": {
      "name": "python3",
      "display_name": "Python 3"
    }
  },
  "cells": [
    {
      "cell_type": "markdown",
      "metadata": {
        "id": "view-in-github",
        "colab_type": "text"
      },
      "source": [
        "<a href=\"https://colab.research.google.com/github/Victor17in/PythonCurso/blob/master/exerc%C3%ADcios/VictorAlmeida_aula3_3_1.ipynb\" target=\"_parent\"><img src=\"https://colab.research.google.com/assets/colab-badge.svg\" alt=\"Open In Colab\"/></a>"
      ]
    },
    {
      "cell_type": "code",
      "metadata": {
        "id": "Nmn-f7wlCPc6",
        "colab_type": "code",
        "colab": {
          "base_uri": "https://localhost:8080/",
          "height": 68
        },
        "outputId": "0bc2ca8f-434b-49f2-b3a5-fb55cb5e6495"
      },
      "source": [
        "import math\n",
        "print ('Crie uma funcão que tome um argumento e imprima o valor e o tipo dele.')\n",
        "x = math.sin(math.pi)\n",
        "print(x)\n",
        "print(type(x))"
      ],
      "execution_count": 22,
      "outputs": [
        {
          "output_type": "stream",
          "text": [
            "Crie uma funcão que tome um argumento e imprima o valor e o tipo dele.\n",
            "1.2246467991473532e-16\n",
            "<class 'float'>\n"
          ],
          "name": "stdout"
        }
      ]
    }
  ]
}