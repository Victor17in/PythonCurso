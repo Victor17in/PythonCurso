{
  "nbformat": 4,
  "nbformat_minor": 0,
  "metadata": {
    "colab": {
      "name": "VictorAlmeida_aula16.ipynb",
      "provenance": [],
      "authorship_tag": "ABX9TyOQY7Hemqg0jVZsQLNw9JU8",
      "include_colab_link": true
    },
    "kernelspec": {
      "name": "python3",
      "display_name": "Python 3"
    }
  },
  "cells": [
    {
      "cell_type": "markdown",
      "metadata": {
        "id": "view-in-github",
        "colab_type": "text"
      },
      "source": [
        "<a href=\"https://colab.research.google.com/github/Victor17in/PythonCurso/blob/master/exerc%C3%ADcios/VictorAlmeida_aula12.ipynb\" target=\"_parent\"><img src=\"https://colab.research.google.com/assets/colab-badge.svg\" alt=\"Open In Colab\"/></a>"
      ]
    },
    {
      "cell_type": "markdown",
      "metadata": {
        "id": "oVVNZU9-KbvH"
      },
      "source": [
        "## Exercícios:\n",
        "\n",
        "1) Escreva uma função que calcula a distância entre dois pontos, usando a classe Ponto que fizemos nessa aula.\n",
        "\n",
        "2) Adicione um método reflexao_x à classe Ponto que retorna uma instância de Ponto, que é o reflexo do Ponto sobre o eixo x. Por exemplo, Point (3, 5) .reflexao_x () é (3, -5)\n",
        "\n",
        "3) Adicione um método ***inclinacao_da_origem*** à classe Ponto, que retorne a inclinação da linha que une a origem ao Ponto. \n",
        "\n",
        "O que pode dar errado com esse programa?\n",
        "\n",
        "***R:*** O programa pode dar errado caso a coordenada x do ponto seja 0, pois, não há divisão por 0, por isso, é preciso adicionar um if statement que retorne None caso self.x = 0.\n",
        "\n",
        "4) A equação de uma linha reta é “y = ax + b”. Os coeficientes a e b descrevem completamente a reta. Escreva um método na classe Ponto para que, se uma instância Ponto receber outro Ponto, calcule a equação da linha reta que une os dois pontos. Deve retornar os dois coeficientes como uma tupla de dois valores.\n",
        "\n",
        "O resultado acima nos diz que a equação da reta é y = 2x + 3. Quando esse método falha?\n",
        "\n",
        "***R:*** O método falha quando a subtração das coordenadas x de cada ponto é igual 0, como não há divisão por zero é necessário implementar um if statement que retorne None caso alvo.x - self.x = 0."
      ]
    },
    {
      "cell_type": "code",
      "metadata": {
        "id": "UbgHOB1jLpNa"
      },
      "source": [
        "class Ponto:\n",
        "    \"\"\" Cria um novo Ponto, com coordenadas x, y \"\"\"\n",
        "\n",
        "    def __init__(self, x=0, y=0):\n",
        "        \"\"\" Inicializa em x, y o novo ponto criado pela classe \"\"\"\n",
        "        self.x = x\n",
        "        self.y = y\n",
        "\n",
        "    def __str__(self):\n",
        "        return \"({0}, {1})\".format(self.x, self.y)\n",
        "\n",
        "    def distancia_da_origem(self):\n",
        "        \"\"\" Calcula minha distânica da origem \"\"\"\n",
        "        return (self.x**2 + self.y**2)**0.5\n",
        "\n",
        "    def ponto_medio(self, alvo):\n",
        "        \"\"\" Retorna o ponto medio entre esse ponto e o alvo \"\"\"\n",
        "        mx = (self.x + alvo.x)/2\n",
        "        my = (self.y + alvo.y)/2\n",
        "        return Ponto(mx, my)\n",
        "\n",
        "    def distancia_entre_pontos(self, alvo):\n",
        "    \t\"\"\" Calcula a distância entre um ponto e outro ponto alvo \"\"\"\n",
        "    \tdx = (alvo.x - self.x)**2\n",
        "    \tdy = (alvo.y - self.y)**2\n",
        "    \treturn (dx + dy)**0.5\n",
        "\n",
        "    def reflexao_x(self):\n",
        "    \t\"\"\" Calcula o ponto refletido pelo eixo x \"\"\"\n",
        "    \treturn Ponto(self.x,-(self.y))\n",
        "\n",
        "    def inclinacao_da_origem(self):\n",
        "    \t\"\"\" Calcula o ângulo entre a origem e o ponto \"\"\"\n",
        "    \tif self.x == 0:\n",
        "    \t\treturn None\n",
        "    \telse:\n",
        "    \t\treturn self.y/self.x\n",
        "\n",
        "    def coeficiente_angular(self,alvo):\n",
        "    \t\"\"\" Calcula o coeficiente angualr entre dois pontos \"\"\"\n",
        "    \tif (alvo.x - self.x) == 0:\n",
        "    \t\treturn None\n",
        "    \telse:\n",
        "    \t\treturn (alvo.y - self.y)/(alvo.x - self.x)\n",
        "\n",
        "    def equaçao_da_reta(self,alvo):\n",
        "    \t\"\"\" Calcula a equação da reta entre um ponto e outro ponto alvo \"\"\"\n",
        "    \tm = self.coeficiente_angular(alvo)\n",
        "    \tn = self.y - m*self.x\n",
        "    \treturn (m, n)"
      ],
      "execution_count": 6,
      "outputs": []
    },
    {
      "cell_type": "code",
      "metadata": {
        "colab": {
          "base_uri": "https://localhost:8080/"
        },
        "id": "81M62viqM1bq",
        "outputId": "76422240-3d45-42a6-edf7-618a64d71c3a"
      },
      "source": [
        "px = eval(input('Coordenada x do ponto p: '))\n",
        "py = eval(input('Coordenada y do ponto p: '))\n",
        "qx = eval(input('Coordenada x do ponto q: '))\n",
        "qy = eval(input('Coordenada y do ponto q: '))\n",
        "\n",
        "print('A distância entre p e a origem é:', round(Ponto(px, py).distancia_da_origem(), 2), 'unidades de medida.')\n",
        "print('A distância entre q e a origem é:', round(Ponto(qx, qy).distancia_da_origem(), 2), 'unidades de medida.')\n",
        "print('O ponto médio entre p e q é:', Ponto(px, py).ponto_medio(Ponto(qx, qy)))\n",
        "print('A distância entre os pontos p e q é:', round(Ponto(px, py).distancia_entre_pontos(Ponto(qx, qy)), 2), 'unidades de medida.')\n",
        "print('A reflexão do ponto p pelo eixo x é:', Ponto(px, py).reflexao_x())\n",
        "print('A inclinação da reta que une os pontos', Ponto(px, py), 'é:', Ponto(px, py).inclinacao_da_origem())\n",
        "print('O coeficiente angular e linear da reta formada pelos pontos são', Ponto(px, py).equaçao_da_reta(Ponto(qx, qy)))\n",
        "print('A equação geral da reta é: y =', m, 'x +', n)\n"
      ],
      "execution_count": 22,
      "outputs": [
        {
          "output_type": "stream",
          "text": [
            "Coordenada x do ponto p: 5\n",
            "Coordenada y do ponto p: 6\n",
            "Coordenada x do ponto q: 7\n",
            "Coordenada y do ponto q: 9\n",
            "A distância entre p e a origem é: 7.81 unidades de medida.\n",
            "A distância entre q e a origem é: 11.4 unidades de medida.\n",
            "O ponto médio entre p e q é: (6.0, 7.5)\n",
            "A distância entre os pontos p e q é: 3.61 unidades de medida.\n",
            "A reflexão do ponto p pelo eixo x é: (5, -6)\n",
            "A inclinação da reta que une os pontos (5, 6) é: 1.2\n",
            "O coeficiente angular e linear da reta formada pelos pontos são (1.5, -1.5)\n",
            "A equação geral da reta é: y = 3.0 x + -9.0\n"
          ],
          "name": "stdout"
        }
      ]
    }
  ]
}