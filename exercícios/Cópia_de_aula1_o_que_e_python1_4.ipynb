{
  "nbformat": 4,
  "nbformat_minor": 0,
  "metadata": {
    "kernelspec": {
      "display_name": "Python 3",
      "language": "python",
      "name": "python3"
    },
    "language_info": {
      "codemirror_mode": {
        "name": "ipython",
        "version": 3
      },
      "file_extension": ".py",
      "mimetype": "text/x-python",
      "name": "python",
      "nbconvert_exporter": "python",
      "pygments_lexer": "ipython3",
      "version": "3.7.0"
    },
    "colab": {
      "name": "Cópia de Cópia de Cópia de Cópia de aula1_o_que_e_python.ipynb",
      "provenance": [],
      "include_colab_link": true
    }
  },
  "cells": [
    {
      "cell_type": "markdown",
      "metadata": {
        "id": "view-in-github",
        "colab_type": "text"
      },
      "source": [
        "<a href=\"https://colab.research.google.com/github/Victor17in/PythonCurso/blob/master/exerc%C3%ADcios/C%C3%B3pia_de_aula1_o_que_e_python1_4.ipynb\" target=\"_parent\"><img src=\"https://colab.research.google.com/assets/colab-badge.svg\" alt=\"Open In Colab\"/></a>"
      ]
    },
    {
      "cell_type": "code",
      "metadata": {
        "id": "HGgrwvbhO4zS",
        "colab_type": "code",
        "colab": {
          "base_uri": "https://localhost:8080/",
          "height": 85
        },
        "outputId": "e8d1a449-5117-41dc-9fca-719b86b06c3d"
      },
      "source": [
        "import math\n",
        "\n",
        "print(\"Se, ao meio dia, a sombra de um poste de 5 m de altura tem apenas 50 cm de comprimento no chão, qual o ângulo zenital do sol? \")\n",
        "\n",
        "C1=5\n",
        "\n",
        "C2=0.5\n",
        "\n",
        "print(\"Os catetos de um triangulo formado pelo poste e sua sombra são\", C1,\"e\", C2,\"respectivamente\")\n",
        "\n",
        "tan= C2/C1\n",
        "\n",
        "print(\"Logo, a tangente do ângulo zenital é\", tan)\n",
        "\n",
        "theta= math.degrees(math.atan(tan))\n",
        "\n",
        "print(\"E o ângulo zenital é\", theta)"
      ],
      "execution_count": 1,
      "outputs": [
        {
          "output_type": "stream",
          "text": [
            "Se, ao meio dia, a sombra de um poste de 5 m de altura tem apenas 50 cm de comprimento no chão, qual o ângulo zenital do sol? \n",
            "Os catetos de um triangulo formado pelo poste e sua sombra são 5 e 0.5 respectivamente\n",
            "Logo, a tangente do ângulo zenital é 0.1\n",
            "E o ângulo zenital é 5.710593137499643\n"
          ],
          "name": "stdout"
        }
      ]
    }
  ]
}