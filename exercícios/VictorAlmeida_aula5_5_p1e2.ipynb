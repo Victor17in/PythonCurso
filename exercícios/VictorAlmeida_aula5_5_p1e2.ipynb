{
  "nbformat": 4,
  "nbformat_minor": 0,
  "metadata": {
    "colab": {
      "name": "VictorAlmeida_aula5_5_1e2.ipynb",
      "provenance": [],
      "authorship_tag": "ABX9TyPLVnq8wk/3Nr9nv/CYuzqa",
      "include_colab_link": true
    },
    "kernelspec": {
      "name": "python3",
      "display_name": "Python 3"
    }
  },
  "cells": [
    {
      "cell_type": "markdown",
      "metadata": {
        "id": "view-in-github",
        "colab_type": "text"
      },
      "source": [
        "<a href=\"https://colab.research.google.com/github/Victor17in/PythonCurso/blob/master/exerc%C3%ADcios/VictorAlmeida_aula5_5_p1e2.ipynb\" target=\"_parent\"><img src=\"https://colab.research.google.com/assets/colab-badge.svg\" alt=\"Open In Colab\"/></a>"
      ]
    },
    {
      "cell_type": "markdown",
      "metadata": {
        "id": "Yvukp2eZt1ua"
      },
      "source": [
        "## Exercícios - Parte 1:\n",
        "[**Não é possível fazer no Google Colab. Pule para o exercício 2**] Modifique o programa da tartaruga (primeiro exemplo) para que, antes de criar a janela, ele solicite que o usuário insira a cor de fundo desejada. Ele deve armazenar as respostas do usuário em uma variável e modificar a cor da janela de acordo com os desejos do usuário. \n",
        "   * ***Dicas***: faça uso da função ***input***, built-in do python\n",
        "   * você pode encontrar uma lista de nomes de cores permitidos em http://www.tcl.tk/man/tcl8.4/TkCmd/colors.htm. Inclui alguns bem incomuns, como “peach puff” e “HotPink” ”***\n",
        "   \n",
        "2.Faça modificações similares para permitir que o usuário mude a cor da tartaruga durante a execução do programa."
      ]
    },
    {
      "cell_type": "code",
      "metadata": {
        "id": "hFShrj2Tufgm",
        "outputId": "d887ca36-2315-4671-e17a-33d2815bcd45",
        "colab": {
          "base_uri": "https://localhost:8080/",
          "height": 170
        }
      },
      "source": [
        "# declarações para instalar e importar o módulo Turtle no âmbito do Google Colab\n",
        "!pip3 install ColabTurtle\n",
        "import ColabTurtle"
      ],
      "execution_count": 2,
      "outputs": [
        {
          "output_type": "stream",
          "text": [
            "Collecting ColabTurtle\n",
            "  Downloading https://files.pythonhosted.org/packages/49/01/6da7091c2c6c917cce99c000b89acb6aa27b66ef6eafc0c0ccf59b98694f/ColabTurtle-2.0.0.tar.gz\n",
            "Building wheels for collected packages: ColabTurtle\n",
            "  Building wheel for ColabTurtle (setup.py) ... \u001b[?25l\u001b[?25hdone\n",
            "  Created wheel for ColabTurtle: filename=ColabTurtle-2.0.0-cp36-none-any.whl size=4032 sha256=6c6e42a237a70b55489e0735120ba0d13f31cdf230a4a10116f113b482171c31\n",
            "  Stored in directory: /root/.cache/pip/wheels/a8/29/ec/ad346f0042ae467cc74f4378916348faf975b07890651dcae7\n",
            "Successfully built ColabTurtle\n",
            "Installing collected packages: ColabTurtle\n",
            "Successfully installed ColabTurtle-2.0.0\n"
          ],
          "name": "stdout"
        }
      ]
    },
    {
      "cell_type": "code",
      "metadata": {
        "id": "7tcXa3zpt1CU",
        "outputId": "a80c9d87-c2a8-4af4-c445-76b728697ec1",
        "colab": {
          "base_uri": "https://localhost:8080/",
          "height": 572
        }
      },
      "source": [
        "teca = ColabTurtle.Turtle # Cria uma tartaruga, atribui a teca\n",
        "teca.initializeTurtle()\n",
        "teca.color(input('Escolha a cor(em Inglês):'))            # o método color diz à Teca para mudar sua cor (atributo)\n",
        "teca.width(int(input('Escolha a largura de 0 a 10:')))               # o método width faz Teca ajustar a largura da caneta (atributo)\n",
        "\n",
        "teca.forward(100)\n",
        "teca.left(120)\n",
        "teca.forward(50)\n",
        "teca.left(120)\n",
        "teca.forward(50)\n",
        "teca.left(60)\n",
        "teca.forward(50)\n",
        "teca.left(120)\n",
        "teca.forward(100)\n",
        "#\n",
        "teca.left(120)\n",
        "teca.forward(50)\n",
        "teca.left(120)\n",
        "teca.forward(100)\n",
        "#\n",
        "teca.left(120)\n",
        "teca.forward(50)\n",
        "teca.left(120)\n",
        "teca.forward(100)\n",
        "#\n",
        "teca.left(120)\n",
        "teca.forward(50)\n",
        "teca.left(120)\n",
        "teca.forward(100)\n",
        "#\n",
        "teca.right(120)\n",
        "teca.forward(50)\n",
        "#\n",
        "teca.right(60)\n",
        "teca.forward(50)\n",
        "teca.right(60)\n",
        "teca.forward(50)\n",
        "teca.right(60)\n",
        "teca.forward(50)\n",
        "teca.right(120)\n",
        "teca.forward(50)\n",
        "teca.color(input('Escolha a cor(em Inglês):'))"
      ],
      "execution_count": 28,
      "outputs": [
        {
          "output_type": "display_data",
          "data": {
            "text/html": [
              "\n",
              "      <svg width=\"800\" height=\"500\">\n",
              "        <rect width=\"100%\" height=\"100%\" fill=\"black\"/>\n",
              "        <line x1=\"400\" y1=\"250\" x2=\"400.0\" y2=\"150.0\" stroke-linecap=\"round\" style=\"stroke:red;stroke-width:10\"/><line x1=\"400.0\" y1=\"150.0\" x2=\"356.69872981077805\" y2=\"175.0\" stroke-linecap=\"round\" style=\"stroke:red;stroke-width:10\"/><line x1=\"356.69872981077805\" y1=\"175.0\" x2=\"400.0\" y2=\"200.0\" stroke-linecap=\"round\" style=\"stroke:red;stroke-width:10\"/><line x1=\"400.0\" y1=\"200.0\" x2=\"443.3012701892219\" y2=\"174.99999999999997\" stroke-linecap=\"round\" style=\"stroke:red;stroke-width:10\"/><line x1=\"443.3012701892219\" y1=\"174.99999999999997\" x2=\"356.69872981077805\" y2=\"124.99999999999996\" stroke-linecap=\"round\" style=\"stroke:red;stroke-width:10\"/><line x1=\"356.69872981077805\" y1=\"124.99999999999996\" x2=\"356.69872981077805\" y2=\"174.99999999999994\" stroke-linecap=\"round\" style=\"stroke:red;stroke-width:10\"/><line x1=\"356.69872981077805\" y1=\"174.99999999999994\" x2=\"443.3012701892219\" y2=\"124.9999999999999\" stroke-linecap=\"round\" style=\"stroke:red;stroke-width:10\"/><line x1=\"443.3012701892219\" y1=\"124.9999999999999\" x2=\"399.99999999999994\" y2=\"99.99999999999989\" stroke-linecap=\"round\" style=\"stroke:red;stroke-width:10\"/><line x1=\"399.99999999999994\" y1=\"99.99999999999989\" x2=\"399.99999999999994\" y2=\"199.9999999999999\" stroke-linecap=\"round\" style=\"stroke:red;stroke-width:10\"/><line x1=\"399.99999999999994\" y1=\"199.9999999999999\" x2=\"443.30127018922184\" y2=\"174.99999999999986\" stroke-linecap=\"round\" style=\"stroke:red;stroke-width:10\"/><line x1=\"443.30127018922184\" y1=\"174.99999999999986\" x2=\"356.698729810778\" y2=\"124.99999999999984\" stroke-linecap=\"round\" style=\"stroke:red;stroke-width:10\"/><line x1=\"356.698729810778\" y1=\"124.99999999999984\" x2=\"399.9999999999999\" y2=\"99.99999999999983\" stroke-linecap=\"round\" style=\"stroke:red;stroke-width:10\"/><line x1=\"399.9999999999999\" y1=\"99.99999999999983\" x2=\"443.30127018922184\" y2=\"124.99999999999983\" stroke-linecap=\"round\" style=\"stroke:red;stroke-width:10\"/><line x1=\"443.30127018922184\" y1=\"124.99999999999983\" x2=\"443.30127018922184\" y2=\"174.99999999999983\" stroke-linecap=\"round\" style=\"stroke:red;stroke-width:10\"/><line x1=\"443.30127018922184\" y1=\"174.99999999999983\" x2=\"399.9999999999999\" y2=\"199.99999999999983\" stroke-linecap=\"round\" style=\"stroke:red;stroke-width:10\"/><line x1=\"399.9999999999999\" y1=\"199.99999999999983\" x2=\"399.9999999999999\" y2=\"149.99999999999983\" stroke-linecap=\"round\" style=\"stroke:red;stroke-width:10\"/>\n",
              "        \n",
              "      <g visibility=visible transform=\"rotate(180,399.9999999999999,149.99999999999983) translate(399.9999999999999, 149.99999999999983)\">\n",
              "        <circle stroke=\"yellow\" stroke-width=\"3\" fill=\"transparent\" r=\"12\" cx=\"0\" cy=\"0\"/>\n",
              "        <polygon points=\"0,19 3,16 -3,16\" style=\"fill:yellow;stroke:yellow;stroke-width:2\"/>\n",
              "      </g>\n",
              "    \n",
              "      </svg>\n",
              "    "
            ],
            "text/plain": [
              "<IPython.core.display.HTML object>"
            ]
          },
          "metadata": {
            "tags": []
          }
        },
        {
          "output_type": "stream",
          "text": [
            "Escolha a cor(em Inglês):red\n",
            "Escolha a largura de 0 a 10:10\n",
            "Escolha a cor(em Inglês):yellow\n"
          ],
          "name": "stdout"
        }
      ]
    },
    {
      "cell_type": "markdown",
      "metadata": {
        "id": "6eyVMAC40GeF"
      },
      "source": [
        "3.Investiguem os métodos e atributos do módulo ```turtle```  (```ColabTurtle``` no Google Colab);"
      ]
    },
    {
      "cell_type": "markdown",
      "metadata": {
        "id": "1AFCuNVM04LL"
      },
      "source": [
        " https://github.com/tolgaatam/ColabTurtle/blob/master/ColabTurtle/Turtle.py"
      ]
    },
    {
      "cell_type": "markdown",
      "metadata": {
        "id": "jucDYJYT06MV"
      },
      "source": [
        "Desenhe um quadrado, usando a forma de tartaruga, ao invés da flecha, para desenhar (***caso esteja no Google Colab, não precisa mudar a forma***).\n",
        "   Mude a velocidade com que a tartaruga faz o desenho."
      ]
    },
    {
      "cell_type": "code",
      "metadata": {
        "id": "D9xRD7ix0NPH",
        "outputId": "bed66bb5-f0ea-45e3-b184-d1c39e1f61c5",
        "colab": {
          "base_uri": "https://localhost:8080/",
          "height": 521
        }
      },
      "source": [
        "joana = ColabTurtle.Turtle\n",
        "joana.initializeTurtle()\n",
        "joana.color('blue')\n",
        "for i in range(4):\n",
        "    joana.forward(100)\n",
        "    joana.left(90)\n",
        "    joana.speed(10)"
      ],
      "execution_count": 31,
      "outputs": [
        {
          "output_type": "display_data",
          "data": {
            "text/html": [
              "\n",
              "      <svg width=\"800\" height=\"500\">\n",
              "        <rect width=\"100%\" height=\"100%\" fill=\"black\"/>\n",
              "        <line x1=\"400\" y1=\"250\" x2=\"400.0\" y2=\"150.0\" stroke-linecap=\"round\" style=\"stroke:blue;stroke-width:4\"/><line x1=\"400.0\" y1=\"150.0\" x2=\"300.0\" y2=\"150.0\" stroke-linecap=\"round\" style=\"stroke:blue;stroke-width:4\"/><line x1=\"300.0\" y1=\"150.0\" x2=\"300.0\" y2=\"250.0\" stroke-linecap=\"round\" style=\"stroke:blue;stroke-width:4\"/><line x1=\"300.0\" y1=\"250.0\" x2=\"400.0\" y2=\"250.0\" stroke-linecap=\"round\" style=\"stroke:blue;stroke-width:4\"/>\n",
              "        \n",
              "      <g visibility=visible transform=\"rotate(180,400.0,250.0) translate(400.0, 250.0)\">\n",
              "        <circle stroke=\"blue\" stroke-width=\"3\" fill=\"transparent\" r=\"12\" cx=\"0\" cy=\"0\"/>\n",
              "        <polygon points=\"0,19 3,16 -3,16\" style=\"fill:blue;stroke:blue;stroke-width:2\"/>\n",
              "      </g>\n",
              "    \n",
              "      </svg>\n",
              "    "
            ],
            "text/plain": [
              "<IPython.core.display.HTML object>"
            ]
          },
          "metadata": {
            "tags": []
          }
        }
      ]
    },
    {
      "cell_type": "markdown",
      "metadata": {
        "id": "Vqss55Vu2IbQ"
      },
      "source": [
        "5.Sabendo que o ângulo interno da ponta de uma estrela de 5 pontas é de 36 graus, desenhe uma estrela.\n",
        "![title](https://github.com/malbouis/Python_intro/blob/master/aulas_2019/pics/estrela.png?raw=1)"
      ]
    },
    {
      "cell_type": "code",
      "metadata": {
        "id": "G1wUG6uc2MkF",
        "outputId": "63da0e91-c7a8-40fe-f8e9-415f2aae3866",
        "colab": {
          "base_uri": "https://localhost:8080/",
          "height": 521
        }
      },
      "source": [
        "jorgina = ColabTurtle.Turtle\n",
        "jorgina.initializeTurtle()\n",
        "jorgina.color('yellow')\n",
        "jorgina.speed(7)\n",
        "jorgina.right(60)\n",
        "jorgina.forward(75)\n",
        "jorgina.left(180)\n",
        "\n",
        "for i in range(4):\n",
        "    jorgina.forward(150)\n",
        "    jorgina.right(144)\n",
        "#FB\n",
        "#jorgina.forward(150)\n",
        "#jorgina.right(144)\n",
        "#jorgina.forward(150)\n",
        "#jorgina.right(144)\n",
        "#jorgina.forward(150)\n",
        "#jorgina.right(144)\n",
        "#jorgina.forward(150)\n",
        "#jorgina.right(144)\n",
        "\n",
        "jorgina.forward(150)"
      ],
      "execution_count": 64,
      "outputs": [
        {
          "output_type": "display_data",
          "data": {
            "text/html": [
              "\n",
              "      <svg width=\"800\" height=\"500\">\n",
              "        <rect width=\"100%\" height=\"100%\" fill=\"black\"/>\n",
              "        <line x1=\"400\" y1=\"250\" x2=\"464.95190528383284\" y2=\"212.49999999999997\" stroke-linecap=\"round\" style=\"stroke:yellow;stroke-width:4\"/><line x1=\"464.95190528383284\" y1=\"212.49999999999997\" x2=\"335.04809471616704\" y2=\"287.49999999999994\" stroke-linecap=\"round\" style=\"stroke:yellow;stroke-width:4\"/><line x1=\"335.04809471616704\" y1=\"287.49999999999994\" x2=\"396.058591177537\" y2=\"150.4681813536098\" stroke-linecap=\"round\" style=\"stroke:yellow;stroke-width:4\"/><line x1=\"396.058591177537\" y1=\"150.4681813536098\" x2=\"427.2453448002009\" y2=\"297.1903214636806\" stroke-linecap=\"round\" style=\"stroke:yellow;stroke-width:4\"/><line x1=\"427.2453448002009\" y1=\"297.1903214636806\" x2=\"315.77362097859174\" y2=\"196.8207305098519\" stroke-linecap=\"round\" style=\"stroke:yellow;stroke-width:4\"/><line x1=\"315.77362097859174\" y1=\"196.8207305098519\" x2=\"464.95190528383273\" y2=\"212.49999999999991\" stroke-linecap=\"round\" style=\"stroke:yellow;stroke-width:4\"/>\n",
              "        \n",
              "      <g visibility=visible transform=\"rotate(-84,464.95190528383273,212.49999999999991) translate(464.95190528383273, 212.49999999999991)\">\n",
              "        <circle stroke=\"yellow\" stroke-width=\"3\" fill=\"transparent\" r=\"12\" cx=\"0\" cy=\"0\"/>\n",
              "        <polygon points=\"0,19 3,16 -3,16\" style=\"fill:yellow;stroke:yellow;stroke-width:2\"/>\n",
              "      </g>\n",
              "    \n",
              "      </svg>\n",
              "    "
            ],
            "text/plain": [
              "<IPython.core.display.HTML object>"
            ]
          },
          "metadata": {
            "tags": []
          }
        }
      ]
    },
    {
      "cell_type": "markdown",
      "metadata": {
        "id": "mKHajRkk69TQ"
      },
      "source": [
        "6.Sabendo o ângulo interno da ponta de uma estrela, desenhe quatro estrelas em uma janela, com uma certa distância entre elas. Dica: use a função penup() e pendown() do módulo ```turtle```."
      ]
    },
    {
      "cell_type": "code",
      "metadata": {
        "id": "CjOYyTpI7OCo",
        "outputId": "ea42e2d1-e5c7-4a40-fa2b-e166084943fe",
        "colab": {
          "base_uri": "https://localhost:8080/",
          "height": 521
        }
      },
      "source": [
        "jo = ColabTurtle.Turtle\n",
        "jo.initializeTurtle()\n",
        "jo.color('yellow')\n",
        "jo.speed(7)\n",
        "jo.right(60)\n",
        "jo.forward(75)\n",
        "jo.left(180)\n",
        "\n",
        "for i in range(4):\n",
        "    jo.forward(150)\n",
        "    jo.right(144)\n",
        "jo.forward(150)\n",
        "\n",
        "jo.penup()\n",
        "jo.forward(150)\n",
        "jo.pendown()\n",
        "for i in range(4):\n",
        "    jo.forward(150)\n",
        "    jo.right(144)\n",
        "jo.forward(150)\n",
        "\n",
        "jo.penup()\n",
        "jo.forward(100)\n",
        "jo.right(60)\n",
        "jo.pendown()\n",
        "for i in range(4):\n",
        "    jo.forward(150)\n",
        "    jo.right(144)\n",
        "jo.forward(150)"
      ],
      "execution_count": 76,
      "outputs": [
        {
          "output_type": "display_data",
          "data": {
            "text/html": [
              "\n",
              "      <svg width=\"800\" height=\"500\">\n",
              "        <rect width=\"100%\" height=\"100%\" fill=\"black\"/>\n",
              "        <line x1=\"400\" y1=\"250\" x2=\"464.95190528383284\" y2=\"212.49999999999997\" stroke-linecap=\"round\" style=\"stroke:yellow;stroke-width:4\"/><line x1=\"464.95190528383284\" y1=\"212.49999999999997\" x2=\"335.04809471616704\" y2=\"287.49999999999994\" stroke-linecap=\"round\" style=\"stroke:yellow;stroke-width:4\"/><line x1=\"335.04809471616704\" y1=\"287.49999999999994\" x2=\"396.058591177537\" y2=\"150.4681813536098\" stroke-linecap=\"round\" style=\"stroke:yellow;stroke-width:4\"/><line x1=\"396.058591177537\" y1=\"150.4681813536098\" x2=\"427.2453448002009\" y2=\"297.1903214636806\" stroke-linecap=\"round\" style=\"stroke:yellow;stroke-width:4\"/><line x1=\"427.2453448002009\" y1=\"297.1903214636806\" x2=\"315.77362097859174\" y2=\"196.8207305098519\" stroke-linecap=\"round\" style=\"stroke:yellow;stroke-width:4\"/><line x1=\"315.77362097859174\" y1=\"196.8207305098519\" x2=\"464.95190528383273\" y2=\"212.49999999999991\" stroke-linecap=\"round\" style=\"stroke:yellow;stroke-width:4\"/><line x1=\"614.1301895890738\" y1=\"228.17926949014793\" x2=\"763.3084738943148\" y2=\"243.85853898029595\" stroke-linecap=\"round\" style=\"stroke:yellow;stroke-width:4\"/><line x1=\"763.3084738943148\" y1=\"243.85853898029595\" x2=\"633.404663326649\" y2=\"318.8585389802959\" stroke-linecap=\"round\" style=\"stroke:yellow;stroke-width:4\"/><line x1=\"633.404663326649\" y1=\"318.8585389802959\" x2=\"694.415159788019\" y2=\"181.82672033390577\" stroke-linecap=\"round\" style=\"stroke:yellow;stroke-width:4\"/><line x1=\"694.415159788019\" y1=\"181.82672033390577\" x2=\"725.6019134106829\" y2=\"328.5488604439766\" stroke-linecap=\"round\" style=\"stroke:yellow;stroke-width:4\"/><line x1=\"725.6019134106829\" y1=\"328.5488604439766\" x2=\"614.1301895890738\" y2=\"228.17926949014787\" stroke-linecap=\"round\" style=\"stroke:yellow;stroke-width:4\"/><line x1=\"539.8157070413343\" y1=\"161.26620885426206\" x2=\"571.0024606639982\" y2=\"14.544068744191236\" stroke-linecap=\"round\" style=\"stroke:yellow;stroke-width:4\"/><line x1=\"571.0024606639982\" y1=\"14.544068744191236\" x2=\"632.0129571253683\" y2=\"151.57588739058136\" stroke-linecap=\"round\" style=\"stroke:yellow;stroke-width:4\"/><line x1=\"632.0129571253683\" y1=\"151.57588739058136\" x2=\"502.1091465577025\" y2=\"76.57588739058134\" stroke-linecap=\"round\" style=\"stroke:yellow;stroke-width:4\"/><line x1=\"502.1091465577025\" y1=\"76.57588739058134\" x2=\"651.2874308629434\" y2=\"60.89661790043333\" stroke-linecap=\"round\" style=\"stroke:yellow;stroke-width:4\"/><line x1=\"651.2874308629434\" y1=\"60.89661790043333\" x2=\"539.8157070413343\" y2=\"161.26620885426206\" stroke-linecap=\"round\" style=\"stroke:yellow;stroke-width:4\"/>\n",
              "        \n",
              "      <g visibility=visible transform=\"rotate(48,539.8157070413343,161.26620885426206) translate(539.8157070413343, 161.26620885426206)\">\n",
              "        <circle stroke=\"yellow\" stroke-width=\"3\" fill=\"transparent\" r=\"12\" cx=\"0\" cy=\"0\"/>\n",
              "        <polygon points=\"0,19 3,16 -3,16\" style=\"fill:yellow;stroke:yellow;stroke-width:2\"/>\n",
              "      </g>\n",
              "    \n",
              "      </svg>\n",
              "    "
            ],
            "text/plain": [
              "<IPython.core.display.HTML object>"
            ]
          },
          "metadata": {
            "tags": []
          }
        }
      ]
    },
    {
      "cell_type": "markdown",
      "metadata": {
        "id": "gWGk9pmC9e24"
      },
      "source": [
        "## Exercícios - Parte 2:\n",
        "  \n",
        "1. Escreva um conjunto apropriadamente geral de funções que possam desenhar flores como na Figura abaixo:\n",
        "![flowers](https://github.com/malbouis/Python_intro/blob/master/aulas_2019/pics/flowers.png?raw=1)"
      ]
    },
    {
      "cell_type": "code",
      "metadata": {
        "id": "NJRZI8C19gp0",
        "outputId": "7073c583-fddc-459d-fad5-d9311d8e2a8b",
        "colab": {
          "base_uri": "https://localhost:8080/",
          "height": 521
        }
      },
      "source": [
        "import math\n",
        "jc = ColabTurtle.Turtle\n",
        "jc.initializeTurtle()\n",
        "jc.color('yellow')\n",
        "jc.speed(10)\n",
        "\n",
        "for i in range(6):\n",
        "        jc.forward(5)\n",
        "        jc.left(10)\n",
        "jc.forward(10)\n",
        "for i in range(6):\n",
        "        jc.forward(11)\n",
        "        jc.left(3)\n",
        "\n",
        "for i in range(6):\n",
        "        jc.forward(5)\n",
        "        jc.left(25)\n",
        "jc.forward(10)\n",
        "for i in range(6):\n",
        "        jc.forward(11)\n",
        "        jc.left(3)\n",
        "for i in range(6):\n",
        "        jc.forward(5)\n",
        "        jc.left(10)\n",
        "#\n",
        "jc.forward(15)\n",
        "#\n",
        "for i in range(6):\n",
        "        jc.forward(5)\n",
        "        jc.left(10)\n",
        "jc.forward(10)\n",
        "for i in range(6):\n",
        "        jc.forward(11)\n",
        "        jc.left(3)\n",
        "\n",
        "for i in range(6):\n",
        "        jc.forward(5)\n",
        "        jc.left(25)\n",
        "jc.forward(10)\n",
        "for i in range(6):\n",
        "        jc.forward(11)\n",
        "        jc.left(3)\n",
        "for i in range(6):\n",
        "        jc.forward(5)\n",
        "        jc.left(10)\n",
        "\n",
        "#\n",
        "jc.forward(15)\n",
        "#\n",
        "for i in range(6):\n",
        "        jc.forward(5)\n",
        "        jc.left(10)\n",
        "jc.forward(10)\n",
        "for i in range(6):\n",
        "        jc.forward(11)\n",
        "        jc.left(3)\n",
        "\n",
        "for i in range(6):\n",
        "        jc.forward(5)\n",
        "        jc.left(25)\n",
        "jc.forward(10)\n",
        "for i in range(6):\n",
        "        jc.forward(11)\n",
        "        jc.left(3)\n",
        "for i in range(6):\n",
        "        jc.forward(5)\n",
        "        jc.left(10)\n",
        "\n",
        "#\n",
        "jc.forward(15)\n",
        "#\n",
        "for i in range(6):\n",
        "        jc.forward(5)\n",
        "        jc.left(10)\n",
        "jc.forward(10)\n",
        "for i in range(6):\n",
        "        jc.forward(11)\n",
        "        jc.left(3)\n",
        "\n",
        "for i in range(6):\n",
        "        jc.forward(5)\n",
        "        jc.left(25)\n",
        "jc.forward(10)\n",
        "for i in range(6):\n",
        "        jc.forward(11)\n",
        "        jc.left(3)\n",
        "for i in range(6):\n",
        "        jc.forward(5)\n",
        "        jc.left(10)\n",
        "\n",
        "#\n",
        "jc.forward(15)\n",
        "#\n",
        "for i in range(6):\n",
        "        jc.forward(5)\n",
        "        jc.left(10)\n",
        "jc.forward(10)\n",
        "for i in range(6):\n",
        "        jc.forward(11)\n",
        "        jc.left(3)\n",
        "\n",
        "for i in range(6):\n",
        "        jc.forward(5)\n",
        "        jc.left(25)\n",
        "jc.forward(10)\n",
        "for i in range(6):\n",
        "        jc.forward(11)\n",
        "        jc.left(3)\n",
        "for i in range(6):\n",
        "        jc.forward(5)\n",
        "        jc.left(10)\n",
        "\n",
        "#\n",
        "jc.forward(15)\n",
        "#\n",
        "for i in range(6):\n",
        "        jc.forward(5)\n",
        "        jc.left(10)\n",
        "jc.forward(10)\n",
        "for i in range(6):\n",
        "        jc.forward(11)\n",
        "        jc.left(3)\n",
        "\n",
        "for i in range(6):\n",
        "        jc.forward(5)\n",
        "        jc.left(25)\n",
        "jc.forward(10)\n",
        "for i in range(6):\n",
        "        jc.forward(11)\n",
        "        jc.left(3)\n",
        "for i in range(6):\n",
        "        jc.forward(5)\n",
        "        jc.left(10)\n",
        "\n",
        "#\n",
        "jc.forward(15)\n",
        "#\n",
        "for i in range(6):\n",
        "        jc.forward(5)\n",
        "        jc.left(10)\n",
        "jc.forward(10)\n",
        "for i in range(6):\n",
        "        jc.forward(11)\n",
        "        jc.left(3)\n",
        "\n",
        "for i in range(6):\n",
        "        jc.forward(5)\n",
        "        jc.left(25)\n",
        "jc.forward(10)\n",
        "for i in range(6):\n",
        "        jc.forward(11)\n",
        "        jc.left(3)\n",
        "for i in range(6):\n",
        "        jc.forward(5)\n",
        "        jc.left(10)"
      ],
      "execution_count": 171,
      "outputs": [
        {
          "output_type": "display_data",
          "data": {
            "text/html": [
              "\n",
              "      <svg width=\"800\" height=\"500\">\n",
              "        <rect width=\"100%\" height=\"100%\" fill=\"black\"/>\n",
              "        <line x1=\"400\" y1=\"250\" x2=\"400.0\" y2=\"245.0\" stroke-linecap=\"round\" style=\"stroke:yellow;stroke-width:4\"/><line x1=\"400.0\" y1=\"245.0\" x2=\"399.13175911166536\" y2=\"240.07596123493897\" stroke-linecap=\"round\" style=\"stroke:yellow;stroke-width:4\"/><line x1=\"399.13175911166536\" y1=\"240.07596123493897\" x2=\"397.421658395037\" y2=\"235.37749813100942\" stroke-linecap=\"round\" style=\"stroke:yellow;stroke-width:4\"/><line x1=\"397.421658395037\" y1=\"235.37749813100942\" x2=\"394.921658395037\" y2=\"231.04737111208723\" stroke-linecap=\"round\" style=\"stroke:yellow;stroke-width:4\"/><line x1=\"394.921658395037\" y1=\"231.04737111208723\" x2=\"391.70772034660433\" y2=\"227.21714889649235\" stroke-linecap=\"round\" style=\"stroke:yellow;stroke-width:4\"/><line x1=\"391.70772034660433\" y1=\"227.21714889649235\" x2=\"387.8774981310094\" y2=\"224.00321084805964\" stroke-linecap=\"round\" style=\"stroke:yellow;stroke-width:4\"/><line x1=\"387.8774981310094\" y1=\"224.00321084805964\" x2=\"379.21724409316505\" y2=\"219.00321084805964\" stroke-linecap=\"round\" style=\"stroke:yellow;stroke-width:4\"/><line x1=\"379.21724409316505\" y1=\"219.00321084805964\" x2=\"369.6909646515362\" y2=\"213.50321084805964\" stroke-linecap=\"round\" style=\"stroke:yellow;stroke-width:4\"/><line x1=\"369.6909646515362\" y1=\"213.50321084805964\" x2=\"359.8898928854642\" y2=\"208.50931535092462\" stroke-linecap=\"round\" style=\"stroke:yellow;stroke-width:4\"/><line x1=\"359.8898928854642\" y1=\"208.50931535092462\" x2=\"349.84089285139555\" y2=\"204.0352122770908\" stroke-linecap=\"round\" style=\"stroke:yellow;stroke-width:4\"/><line x1=\"349.84089285139555\" y1=\"204.0352122770908\" x2=\"339.57150815992634\" y2=\"200.0931648320925\" stroke-linecap=\"round\" style=\"stroke:yellow;stroke-width:4\"/><line x1=\"339.57150815992634\" y1=\"200.0931648320925\" x2=\"329.1098864806796\" y2=\"196.69397789396808\" stroke-linecap=\"round\" style=\"stroke:yellow;stroke-width:4\"/><line x1=\"329.1098864806796\" y1=\"196.69397789396808\" x2=\"318.48470239149987\" y2=\"193.84696839784036\" stroke-linecap=\"round\" style=\"stroke:yellow;stroke-width:4\"/><line x1=\"318.48470239149987\" y1=\"193.84696839784036\" x2=\"313.59396438783085\" y2=\"192.80740994375157\" stroke-linecap=\"round\" style=\"stroke:yellow;stroke-width:4\"/><line x1=\"313.59396438783085\" y1=\"192.80740994375157\" x2=\"308.72211406390466\" y2=\"193.9321652154709\" stroke-linecap=\"round\" style=\"stroke:yellow;stroke-width:4\"/><line x1=\"308.72211406390466\" y1=\"193.9321652154709\" x2=\"304.782060295871\" y2=\"197.01047259209918\" stroke-linecap=\"round\" style=\"stroke:yellow;stroke-width:4\"/><line x1=\"304.782060295871\" y1=\"197.01047259209918\" x2=\"302.5121077971733\" y2=\"201.465505213041\" stroke-linecap=\"round\" style=\"stroke:yellow;stroke-width:4\"/><line x1=\"302.5121077971733\" y1=\"201.465505213041\" x2=\"302.33761031366083\" y2=\"206.4624593481365\" stroke-linecap=\"round\" style=\"stroke:yellow;stroke-width:4\"/><line x1=\"302.33761031366083\" y1=\"206.4624593481365\" x2=\"304.2912659561072\" y2=\"211.0649836153987\" stroke-linecap=\"round\" style=\"stroke:yellow;stroke-width:4\"/><line x1=\"304.2912659561072\" y1=\"211.0649836153987\" x2=\"311.7227142108812\" y2=\"217.75628967898726\" stroke-linecap=\"round\" style=\"stroke:yellow;stroke-width:4\"/><line x1=\"311.7227142108812\" y1=\"217.75628967898726\" x2=\"319.8973072911325\" y2=\"225.1167263489347\" stroke-linecap=\"round\" style=\"stroke:yellow;stroke-width:4\"/><line x1=\"319.8973072911325\" y1=\"225.1167263489347\" x2=\"328.44591286715917\" y2=\"232.0392506504829\" stroke-linecap=\"round\" style=\"stroke:yellow;stroke-width:4\"/><line x1=\"328.44591286715917\" y1=\"232.0392506504829\" x2=\"337.3450998052836\" y2=\"238.5048884257001\" stroke-linecap=\"round\" style=\"stroke:yellow;stroke-width:4\"/><line x1=\"337.3450998052836\" y1=\"238.5048884257001\" x2=\"346.57047605268326\" y2=\"244.4959178108654\" stroke-linecap=\"round\" style=\"stroke:yellow;stroke-width:4\"/><line x1=\"346.57047605268326\" y1=\"244.4959178108654\" x2=\"356.0967554943121\" y2=\"249.9959178108654\" stroke-linecap=\"round\" style=\"stroke:yellow;stroke-width:4\"/><line x1=\"356.0967554943121\" y1=\"249.9959178108654\" x2=\"365.89782726038413\" y2=\"254.9898133080004\" stroke-linecap=\"round\" style=\"stroke:yellow;stroke-width:4\"/><line x1=\"365.89782726038413\" y1=\"254.9898133080004\" x2=\"370.46555454859714\" y2=\"257.02349652337944\" stroke-linecap=\"round\" style=\"stroke:yellow;stroke-width:4\"/><line x1=\"370.46555454859714\" y1=\"257.02349652337944\" x2=\"375.3170331799771\" y2=\"258.2331060013778\" stroke-linecap=\"round\" style=\"stroke:yellow;stroke-width:4\"/><line x1=\"375.3170331799771\" y1=\"258.2331060013778\" x2=\"380.30485343127623\" y2=\"258.5818883700984\" stroke-linecap=\"round\" style=\"stroke:yellow;stroke-width:4\"/><line x1=\"380.30485343127623\" y1=\"258.5818883700984\" x2=\"385.27746290811757\" y2=\"258.05924605376015\" stroke-linecap=\"round\" style=\"stroke:yellow;stroke-width:4\"/><line x1=\"385.27746290811757\" y1=\"258.05924605376015\" x2=\"390.0837713878092\" y2=\"256.68105927467514\" stroke-linecap=\"round\" style=\"stroke:yellow;stroke-width:4\"/><line x1=\"390.0837713878092\" y1=\"256.68105927467514\" x2=\"394.577741619305\" y2=\"254.48920354072973\" stroke-linecap=\"round\" style=\"stroke:yellow;stroke-width:4\"/><line x1=\"394.577741619305\" y1=\"254.48920354072973\" x2=\"406.71299653492923\" y2=\"245.67242475634262\" stroke-linecap=\"round\" style=\"stroke:yellow;stroke-width:4\"/><line x1=\"406.71299653492923\" y1=\"245.67242475634262\" x2=\"410.758081506804\" y2=\"242.73349849488025\" stroke-linecap=\"round\" style=\"stroke:yellow;stroke-width:4\"/><line x1=\"410.758081506804\" y1=\"242.73349849488025\" x2=\"414.231373359099\" y2=\"239.136799493187\" stroke-linecap=\"round\" style=\"stroke:yellow;stroke-width:4\"/><line x1=\"414.231373359099\" y1=\"239.136799493187\" x2=\"417.02733787645275\" y2=\"234.9916116304118\" stroke-linecap=\"round\" style=\"stroke:yellow;stroke-width:4\"/><line x1=\"417.02733787645275\" y1=\"234.9916116304118\" x2=\"419.0610210918317\" y2=\"230.4238843421988\" stroke-linecap=\"round\" style=\"stroke:yellow;stroke-width:4\"/><line x1=\"419.0610210918317\" y1=\"230.4238843421988\" x2=\"420.2706305698301\" y2=\"225.5724057108188\" stroke-linecap=\"round\" style=\"stroke:yellow;stroke-width:4\"/><line x1=\"420.2706305698301\" y1=\"225.5724057108188\" x2=\"420.6194129385507\" y2=\"220.58458545951967\" stroke-linecap=\"round\" style=\"stroke:yellow;stroke-width:4\"/><line x1=\"420.6194129385507\" y1=\"220.58458545951967\" x2=\"419.5741283058741\" y2=\"210.63936650583693\" stroke-linecap=\"round\" style=\"stroke:yellow;stroke-width:4\"/><line x1=\"419.5741283058741\" y1=\"210.63936650583693\" x2=\"418.42431520992994\" y2=\"199.6996256567859\" stroke-linecap=\"round\" style=\"stroke:yellow;stroke-width:4\"/><line x1=\"418.42431520992994\" y1=\"199.6996256567859\" x2=\"416.7035360944874\" y2=\"188.8350539102394\" stroke-linecap=\"round\" style=\"stroke:yellow;stroke-width:4\"/><line x1=\"416.7035360944874\" y1=\"188.8350539102394\" x2=\"414.41650749549206\" y2=\"178.07543030216755\" stroke-linecap=\"round\" style=\"stroke:yellow;stroke-width:4\"/><line x1=\"414.41650749549206\" y1=\"178.07543030216755\" x2=\"411.56949799936433\" y2=\"167.4502462129878\" stroke-linecap=\"round\" style=\"stroke:yellow;stroke-width:4\"/><line x1=\"411.56949799936433\" y1=\"167.4502462129878\" x2=\"408.1703110612399\" y2=\"156.9886245337411\" stroke-linecap=\"round\" style=\"stroke:yellow;stroke-width:4\"/><line x1=\"408.1703110612399\" y1=\"156.9886245337411\" x2=\"404.2282636162416\" y2=\"146.7192398422719\" stroke-linecap=\"round\" style=\"stroke:yellow;stroke-width:4\"/><line x1=\"404.2282636162416\" y1=\"146.7192398422719\" x2=\"402.19458040086255\" y2=\"142.15151255405888\" stroke-linecap=\"round\" style=\"stroke:yellow;stroke-width:4\"/><line x1=\"402.19458040086255\" y1=\"142.15151255405888\" x2=\"398.42103249974866\" y2=\"138.87121740910635\" stroke-linecap=\"round\" style=\"stroke:yellow;stroke-width:4\"/><line x1=\"398.42103249974866\" y1=\"138.87121740910635\" x2=\"393.61472402005705\" y2=\"137.49303063002137\" stroke-linecap=\"round\" style=\"stroke:yellow;stroke-width:4\"/><line x1=\"393.61472402005705\" y1=\"137.49303063002137\" x2=\"388.67628231708136\" y2=\"138.2752029552225\" stroke-linecap=\"round\" style=\"stroke:yellow;stroke-width:4\"/><line x1=\"388.67628231708136\" y1=\"138.2752029552225\" x2=\"384.5310944543061\" y2=\"141.07116747257624\" stroke-linecap=\"round\" style=\"stroke:yellow;stroke-width:4\"/><line x1=\"384.5310944543061\" y1=\"141.07116747257624\" x2=\"381.95590407975584\" y2=\"145.3570039760868\" stroke-linecap=\"round\" style=\"stroke:yellow;stroke-width:4\"/><line x1=\"381.95590407975584\" y1=\"145.3570039760868\" x2=\"380.9106194470793\" y2=\"155.30222292976953\" stroke-linecap=\"round\" style=\"stroke:yellow;stroke-width:4\"/><line x1=\"380.9106194470793\" y1=\"155.30222292976953\" x2=\"379.7608063511351\" y2=\"166.24196377882055\" stroke-linecap=\"round\" style=\"stroke:yellow;stroke-width:4\"/><line x1=\"379.7608063511351\" y1=\"166.24196377882055\" x2=\"379.1851108324627\" y2=\"177.22688866112085\" stroke-linecap=\"round\" style=\"stroke:yellow;stroke-width:4\"/><line x1=\"379.1851108324627\" y1=\"177.22688866112085\" x2=\"379.1851108324627\" y2=\"188.22688866112085\" stroke-linecap=\"round\" style=\"stroke:yellow;stroke-width:4\"/><line x1=\"379.1851108324627\" y1=\"188.22688866112085\" x2=\"379.7608063511351\" y2=\"199.21181354342116\" stroke-linecap=\"round\" style=\"stroke:yellow;stroke-width:4\"/><line x1=\"379.7608063511351\" y1=\"199.21181354342116\" x2=\"380.9106194470793\" y2=\"210.15155439247218\" stroke-linecap=\"round\" style=\"stroke:yellow;stroke-width:4\"/><line x1=\"380.9106194470793\" y1=\"210.15155439247218\" x2=\"382.63139856252184\" y2=\"221.0161261390187\" stroke-linecap=\"round\" style=\"stroke:yellow;stroke-width:4\"/><line x1=\"382.63139856252184\" y1=\"221.0161261390187\" x2=\"383.67095701661066\" y2=\"225.9068641426877\" stroke-linecap=\"round\" style=\"stroke:yellow;stroke-width:4\"/><line x1=\"383.67095701661066\" y1=\"225.9068641426877\" x2=\"385.5439899836902\" y2=\"230.54278341552165\" stroke-linecap=\"round\" style=\"stroke:yellow;stroke-width:4\"/><line x1=\"385.5439899836902\" y1=\"230.54278341552165\" x2=\"388.19358630485624\" y2=\"234.78302389630377\" stroke-linecap=\"round\" style=\"stroke:yellow;stroke-width:4\"/><line x1=\"388.19358630485624\" y1=\"234.78302389630377\" x2=\"391.53923933665055\" y2=\"238.49874802369075\" stroke-linecap=\"round\" style=\"stroke:yellow;stroke-width:4\"/><line x1=\"391.53923933665055\" y1=\"238.49874802369075\" x2=\"395.4792931046842\" y2=\"241.57705540031904\" stroke-linecap=\"round\" style=\"stroke:yellow;stroke-width:4\"/><line x1=\"395.4792931046842\" y1=\"241.57705540031904\" x2=\"399.89403106897885\" y2=\"243.9244132142485\" stroke-linecap=\"round\" style=\"stroke:yellow;stroke-width:4\"/><line x1=\"399.89403106897885\" y1=\"243.9244132142485\" x2=\"414.1598788134061\" y2=\"248.5596681298727\" stroke-linecap=\"round\" style=\"stroke:yellow;stroke-width:4\"/><line x1=\"414.1598788134061\" y1=\"248.5596681298727\" x2=\"418.91516139488186\" y2=\"250.10475310174743\" stroke-linecap=\"round\" style=\"stroke:yellow;stroke-width:4\"/><line x1=\"418.91516139488186\" y1=\"250.10475310174743\" x2=\"423.8665017385897\" y2=\"250.80061860654777\" stroke-linecap=\"round\" style=\"stroke:yellow;stroke-width:4\"/><line x1=\"423.8665017385897\" y1=\"250.80061860654777\" x2=\"428.8634558736852\" y2=\"250.62612112303526\" stroke-linecap=\"round\" style=\"stroke:yellow;stroke-width:4\"/><line x1=\"428.8634558736852\" y1=\"250.62612112303526\" x2=\"433.7541938773542\" y2=\"249.58656266894647\" stroke-linecap=\"round\" style=\"stroke:yellow;stroke-width:4\"/><line x1=\"433.7541938773542\" y1=\"249.58656266894647\" x2=\"438.39011315018814\" y2=\"247.71352970186692\" stroke-linecap=\"round\" style=\"stroke:yellow;stroke-width:4\"/><line x1=\"438.39011315018814\" y1=\"247.71352970186692\" x2=\"442.63035363097026\" y2=\"245.0639333807009\" stroke-linecap=\"round\" style=\"stroke:yellow;stroke-width:4\"/><line x1=\"442.63035363097026\" y1=\"245.0639333807009\" x2=\"450.0618018857442\" y2=\"238.37262731711232\" stroke-linecap=\"round\" style=\"stroke:yellow;stroke-width:4\"/><line x1=\"450.0618018857442\" y1=\"238.37262731711232\" x2=\"458.23639496599554\" y2=\"231.01219064716489\" stroke-linecap=\"round\" style=\"stroke:yellow;stroke-width:4\"/><line x1=\"458.23639496599554\" y1=\"231.01219064716489\" x2=\"466.0145695590476\" y2=\"223.23401605411286\" stroke-linecap=\"round\" style=\"stroke:yellow;stroke-width:4\"/><line x1=\"466.0145695590476\" y1=\"223.23401605411286\" x2=\"473.375006228995\" y2=\"215.05942297386153\" stroke-linecap=\"round\" style=\"stroke:yellow;stroke-width:4\"/><line x1=\"473.375006228995\" y1=\"215.05942297386153\" x2=\"480.2975305305432\" y2=\"206.51081739783484\" stroke-linecap=\"round\" style=\"stroke:yellow;stroke-width:4\"/><line x1=\"480.2975305305432\" y1=\"206.51081739783484\" x2=\"486.7631683057604\" y2=\"197.61163045971043\" stroke-linecap=\"round\" style=\"stroke:yellow;stroke-width:4\"/><line x1=\"486.7631683057604\" y1=\"197.61163045971043\" x2=\"492.7541976909257\" y2=\"188.38625421231075\" stroke-linecap=\"round\" style=\"stroke:yellow;stroke-width:4\"/><line x1=\"492.7541976909257\" y1=\"188.38625421231075\" x2=\"495.2541976909257\" y2=\"184.05612719338856\" stroke-linecap=\"round\" style=\"stroke:yellow;stroke-width:4\"/><line x1=\"495.2541976909257\" y1=\"184.05612719338856\" x2=\"495.689976404664\" y2=\"179.07515370292984\" stroke-linecap=\"round\" style=\"stroke:yellow;stroke-width:4\"/><line x1=\"495.689976404664\" y1=\"179.07515370292984\" x2=\"493.97987568803563\" y2=\"174.37669059900028\" stroke-linecap=\"round\" style=\"stroke:yellow;stroke-width:4\"/><line x1=\"493.97987568803563\" y1=\"174.37669059900028\" x2=\"490.44434178210287\" y2=\"170.84115669306755\" stroke-linecap=\"round\" style=\"stroke:yellow;stroke-width:4\"/><line x1=\"490.44434178210287\" y1=\"170.84115669306755\" x2=\"485.7458786781733\" y2=\"169.1310559764392\" stroke-linecap=\"round\" style=\"stroke:yellow;stroke-width:4\"/><line x1=\"485.7458786781733\" y1=\"169.1310559764392\" x2=\"480.7649051877146\" y2=\"169.5668346901775\" stroke-linecap=\"round\" style=\"stroke:yellow;stroke-width:4\"/><line x1=\"480.7649051877146\" y1=\"169.5668346901775\" x2=\"472.1046511498702\" y2=\"174.5668346901775\" stroke-linecap=\"round\" style=\"stroke:yellow;stroke-width:4\"/><line x1=\"472.1046511498702\" y1=\"174.5668346901775\" x2=\"462.5783717082414\" y2=\"180.0668346901775\" stroke-linecap=\"round\" style=\"stroke:yellow;stroke-width:4\"/><line x1=\"462.5783717082414\" y1=\"180.0668346901775\" x2=\"453.3529954608417\" y2=\"186.0578640753428\" stroke-linecap=\"round\" style=\"stroke:yellow;stroke-width:4\"/><line x1=\"453.3529954608417\" y1=\"186.0578640753428\" x2=\"444.4538085227173\" y2=\"192.52350185056\" stroke-linecap=\"round\" style=\"stroke:yellow;stroke-width:4\"/><line x1=\"444.4538085227173\" y1=\"192.52350185056\" x2=\"435.9052029466906\" y2=\"199.4460261521082\" stroke-linecap=\"round\" style=\"stroke:yellow;stroke-width:4\"/><line x1=\"435.9052029466906\" y1=\"199.4460261521082\" x2=\"427.7306098664393\" y2=\"206.80646282205564\" stroke-linecap=\"round\" style=\"stroke:yellow;stroke-width:4\"/><line x1=\"427.7306098664393\" y1=\"206.80646282205564\" x2=\"419.95243527338727\" y2=\"214.58463741510766\" stroke-linecap=\"round\" style=\"stroke:yellow;stroke-width:4\"/><line x1=\"419.95243527338727\" y1=\"214.58463741510766\" x2=\"416.60678224159295\" y2=\"218.30036154249464\" stroke-linecap=\"round\" style=\"stroke:yellow;stroke-width:4\"/><line x1=\"416.60678224159295\" y1=\"218.30036154249464\" x2=\"413.9571859204269\" y2=\"222.54060202327676\" stroke-linecap=\"round\" style=\"stroke:yellow;stroke-width:4\"/><line x1=\"413.9571859204269\" y1=\"222.54060202327676\" x2=\"412.08415295334737\" y2=\"227.1765212961107\" stroke-linecap=\"round\" style=\"stroke:yellow;stroke-width:4\"/><line x1=\"412.08415295334737\" y1=\"227.1765212961107\" x2=\"411.04459449925855\" y2=\"232.06725929977972\" stroke-linecap=\"round\" style=\"stroke:yellow;stroke-width:4\"/><line x1=\"411.04459449925855\" y1=\"232.06725929977972\" x2=\"410.87009701574607\" y2=\"237.0642134348752\" stroke-linecap=\"round\" style=\"stroke:yellow;stroke-width:4\"/><line x1=\"410.87009701574607\" y1=\"237.0642134348752\" x2=\"411.5659625205464\" y2=\"242.01555377858304\" stroke-linecap=\"round\" style=\"stroke:yellow;stroke-width:4\"/><line x1=\"411.5659625205464\" y1=\"242.01555377858304\" x2=\"416.2012174361706\" y2=\"256.28140152301035\" stroke-linecap=\"round\" style=\"stroke:yellow;stroke-width:4\"/><line x1=\"416.2012174361706\" y1=\"256.28140152301035\" x2=\"417.7463024080454\" y2=\"261.0366841044861\" stroke-linecap=\"round\" style=\"stroke:yellow;stroke-width:4\"/><line x1=\"417.7463024080454\" y1=\"261.0366841044861\" x2=\"420.09366022197486\" y2=\"265.45142206878074\" stroke-linecap=\"round\" style=\"stroke:yellow;stroke-width:4\"/><line x1=\"420.09366022197486\" y1=\"265.45142206878074\" x2=\"423.17196759860315\" y2=\"269.3914758368144\" stroke-linecap=\"round\" style=\"stroke:yellow;stroke-width:4\"/><line x1=\"423.17196759860315\" y1=\"269.3914758368144\" x2=\"426.8876917259901\" y2=\"272.7371288686087\" stroke-linecap=\"round\" style=\"stroke:yellow;stroke-width:4\"/><line x1=\"426.8876917259901\" y1=\"272.7371288686087\" x2=\"431.12793220677224\" y2=\"275.3867251897747\" stroke-linecap=\"round\" style=\"stroke:yellow;stroke-width:4\"/><line x1=\"431.12793220677224\" y1=\"275.3867251897747\" x2=\"435.76385147960616\" y2=\"277.2597581568543\" stroke-linecap=\"round\" style=\"stroke:yellow;stroke-width:4\"/><line x1=\"435.76385147960616\" y1=\"277.2597581568543\" x2=\"445.5453274869442\" y2=\"279.33887506503186\" stroke-linecap=\"round\" style=\"stroke:yellow;stroke-width:4\"/><line x1=\"445.5453274869442\" y1=\"279.33887506503186\" x2=\"456.30495109501607\" y2=\"281.6259036640272\" stroke-linecap=\"round\" style=\"stroke:yellow;stroke-width:4\"/><line x1=\"456.30495109501607\" y1=\"281.6259036640272\" x2=\"467.1695228415626\" y2=\"283.34668277946975\" stroke-linecap=\"round\" style=\"stroke:yellow;stroke-width:4\"/><line x1=\"467.1695228415626\" y1=\"283.34668277946975\" x2=\"478.1092636906136\" y2=\"284.4964958754139\" stroke-linecap=\"round\" style=\"stroke:yellow;stroke-width:4\"/><line x1=\"478.1092636906136\" y1=\"284.4964958754139\" x2=\"489.09418857291394\" y2=\"285.0721913940863\" stroke-linecap=\"round\" style=\"stroke:yellow;stroke-width:4\"/><line x1=\"489.09418857291394\" y1=\"285.0721913940863\" x2=\"500.09418857291394\" y2=\"285.0721913940863\" stroke-linecap=\"round\" style=\"stroke:yellow;stroke-width:4\"/><line x1=\"500.09418857291394\" y1=\"285.0721913940863\" x2=\"511.07911345521427\" y2=\"284.4964958754139\" stroke-linecap=\"round\" style=\"stroke:yellow;stroke-width:4\"/><line x1=\"511.07911345521427\" y1=\"284.4964958754139\" x2=\"516.0517229320557\" y2=\"283.9738535590757\" stroke-linecap=\"round\" style=\"stroke:yellow;stroke-width:4\"/><line x1=\"516.0517229320557\" y1=\"283.9738535590757\" x2=\"520.3375594355663\" y2=\"281.3986631845254\" stroke-linecap=\"round\" style=\"stroke:yellow;stroke-width:4\"/><line x1=\"520.3375594355663\" y1=\"281.3986631845254\" x2=\"523.13352395292\" y2=\"277.25347532175016\" stroke-linecap=\"round\" style=\"stroke:yellow;stroke-width:4\"/><line x1=\"523.13352395292\" y1=\"277.25347532175016\" x2=\"523.9156962781211\" y2=\"272.31503361877446\" stroke-linecap=\"round\" style=\"stroke:yellow;stroke-width:4\"/><line x1=\"523.9156962781211\" y1=\"272.31503361877446\" x2=\"522.5375094990361\" y2=\"267.50872513908286\" stroke-linecap=\"round\" style=\"stroke:yellow;stroke-width:4\"/><line x1=\"522.5375094990361\" y1=\"267.50872513908286\" x2=\"519.2572143540835\" y2=\"263.73517723796897\" stroke-linecap=\"round\" style=\"stroke:yellow;stroke-width:4\"/><line x1=\"519.2572143540835\" y1=\"263.73517723796897\" x2=\"510.12175977765753\" y2=\"259.66781080721097\" stroke-linecap=\"round\" style=\"stroke:yellow;stroke-width:4\"/><line x1=\"510.12175977765753\" y1=\"259.66781080721097\" x2=\"500.0727597435889\" y2=\"255.19370773337715\" stroke-linecap=\"round\" style=\"stroke:yellow;stroke-width:4\"/><line x1=\"500.0727597435889\" y1=\"255.19370773337715\" x2=\"489.8033750521197\" y2=\"251.25166028837884\" stroke-linecap=\"round\" style=\"stroke:yellow;stroke-width:4\"/><line x1=\"489.8033750521197\" y1=\"251.25166028837884\" x2=\"479.341753372873\" y2=\"247.85247335025443\" stroke-linecap=\"round\" style=\"stroke:yellow;stroke-width:4\"/><line x1=\"479.341753372873\" y1=\"247.85247335025443\" x2=\"468.7165692836932\" y2=\"245.0054638541267\" stroke-linecap=\"round\" style=\"stroke:yellow;stroke-width:4\"/><line x1=\"468.7165692836932\" y1=\"245.0054638541267\" x2=\"457.95694567562134\" y2=\"242.71843525513134\" stroke-linecap=\"round\" style=\"stroke:yellow;stroke-width:4\"/><line x1=\"457.95694567562134\" y1=\"242.71843525513134\" x2=\"447.0923739290748\" y2=\"240.99765613968881\" stroke-linecap=\"round\" style=\"stroke:yellow;stroke-width:4\"/><line x1=\"447.0923739290748\" y1=\"240.99765613968881\" x2=\"442.1197644522335\" y2=\"240.47501382335054\" stroke-linecap=\"round\" style=\"stroke:yellow;stroke-width:4\"/><line x1=\"442.1197644522335\" y1=\"240.47501382335054\" x2=\"437.13194420093436\" y2=\"240.82379619207117\" stroke-linecap=\"round\" style=\"stroke:yellow;stroke-width:4\"/><line x1=\"437.13194420093436\" y1=\"240.82379619207117\" x2=\"432.2804655695544\" y2=\"242.0334056700695\" stroke-linecap=\"round\" style=\"stroke:yellow;stroke-width:4\"/><line x1=\"432.2804655695544\" y1=\"242.0334056700695\" x2=\"427.7127382813414\" y2=\"244.0670888854485\" stroke-linecap=\"round\" style=\"stroke:yellow;stroke-width:4\"/><line x1=\"427.7127382813414\" y1=\"244.0670888854485\" x2=\"423.56755041856616\" y2=\"246.86305340280222\" stroke-linecap=\"round\" style=\"stroke:yellow;stroke-width:4\"/><line x1=\"423.56755041856616\" y1=\"246.86305340280222\" x2=\"419.9708514168729\" y2=\"250.3363452550972\" stroke-linecap=\"round\" style=\"stroke:yellow;stroke-width:4\"/><line x1=\"419.9708514168729\" y1=\"250.3363452550972\" x2=\"411.1540726324858\" y2=\"262.4716001707214\" stroke-linecap=\"round\" style=\"stroke:yellow;stroke-width:4\"/><line x1=\"411.1540726324858\" y1=\"262.4716001707214\" x2=\"408.2151463710234\" y2=\"266.51668514259615\" stroke-linecap=\"round\" style=\"stroke:yellow;stroke-width:4\"/><line x1=\"408.2151463710234\" y1=\"266.51668514259615\" x2=\"406.02329063707805\" y2=\"271.010655374092\" stroke-linecap=\"round\" style=\"stroke:yellow;stroke-width:4\"/><line x1=\"406.02329063707805\" y1=\"271.010655374092\" x2=\"404.64510385799304\" y2=\"275.8169638537836\" stroke-linecap=\"round\" style=\"stroke:yellow;stroke-width:4\"/><line x1=\"404.64510385799304\" y1=\"275.8169638537836\" x2=\"404.1224615416548\" y2=\"280.78957333062493\" stroke-linecap=\"round\" style=\"stroke:yellow;stroke-width:4\"/><line x1=\"404.1224615416548\" y1=\"280.78957333062493\" x2=\"404.4712439103754\" y2=\"285.77739358192406\" stroke-linecap=\"round\" style=\"stroke:yellow;stroke-width:4\"/><line x1=\"404.4712439103754\" y1=\"285.77739358192406\" x2=\"405.68085338837375\" y2=\"290.628872213304\" stroke-linecap=\"round\" style=\"stroke:yellow;stroke-width:4\"/><line x1=\"405.68085338837375\" y1=\"290.628872213304\" x2=\"409.74821981913175\" y2=\"299.76432678973003\" stroke-linecap=\"round\" style=\"stroke:yellow;stroke-width:4\"/><line x1=\"409.74821981913175\" y1=\"299.76432678973003\" x2=\"414.22232289296556\" y2=\"309.81332682379866\" stroke-linecap=\"round\" style=\"stroke:yellow;stroke-width:4\"/><line x1=\"414.22232289296556\" y1=\"309.81332682379866\" x2=\"419.2162183901006\" y2=\"319.6143985898707\" stroke-linecap=\"round\" style=\"stroke:yellow;stroke-width:4\"/><line x1=\"419.2162183901006\" y1=\"319.6143985898707\" x2=\"424.7162183901006\" y2=\"329.14067803149953\" stroke-linecap=\"round\" style=\"stroke:yellow;stroke-width:4\"/><line x1=\"424.7162183901006\" y1=\"329.14067803149953\" x2=\"430.7072477752659\" y2=\"338.3660542788992\" stroke-linecap=\"round\" style=\"stroke:yellow;stroke-width:4\"/><line x1=\"430.7072477752659\" y1=\"338.3660542788992\" x2=\"437.1728855504831\" y2=\"347.26524121702363\" stroke-linecap=\"round\" style=\"stroke:yellow;stroke-width:4\"/><line x1=\"437.1728855504831\" y1=\"347.26524121702363\" x2=\"444.0954098520313\" y2=\"355.8138467930503\" stroke-linecap=\"round\" style=\"stroke:yellow;stroke-width:4\"/><line x1=\"444.0954098520313\" y1=\"355.8138467930503\" x2=\"447.4410628838256\" y2=\"359.52957092043727\" stroke-linecap=\"round\" style=\"stroke:yellow;stroke-width:4\"/><line x1=\"447.4410628838256\" y1=\"359.52957092043727\" x2=\"452.0435871510878\" y2=\"361.48322656288366\" stroke-linecap=\"round\" style=\"stroke:yellow;stroke-width:4\"/><line x1=\"452.0435871510878\" y1=\"361.48322656288366\" x2=\"457.04054128618327\" y2=\"361.3087290793712\" stroke-linecap=\"round\" style=\"stroke:yellow;stroke-width:4\"/><line x1=\"457.04054128618327\" y1=\"361.3087290793712\" x2=\"461.4955739071251\" y2=\"359.0387765806734\" stroke-linecap=\"round\" style=\"stroke:yellow;stroke-width:4\"/><line x1=\"461.4955739071251\" y1=\"359.0387765806734\" x2=\"464.5738812837534\" y2=\"355.0987228126398\" stroke-linecap=\"round\" style=\"stroke:yellow;stroke-width:4\"/><line x1=\"464.5738812837534\" y1=\"355.0987228126398\" x2=\"465.6986365554727\" y2=\"350.2268724887136\" stroke-linecap=\"round\" style=\"stroke:yellow;stroke-width:4\"/><line x1=\"465.6986365554727\" y1=\"350.2268724887136\" x2=\"463.61951964729514\" y2=\"340.44539648137555\" stroke-linecap=\"round\" style=\"stroke:yellow;stroke-width:4\"/><line x1=\"463.61951964729514\" y1=\"340.44539648137555\" x2=\"461.3324910482998\" y2=\"329.6857728733037\" stroke-linecap=\"round\" style=\"stroke:yellow;stroke-width:4\"/><line x1=\"461.3324910482998\" y1=\"329.6857728733037\" x2=\"458.4854815521721\" y2=\"319.0605887841239\" stroke-linecap=\"round\" style=\"stroke:yellow;stroke-width:4\"/><line x1=\"458.4854815521721\" y1=\"319.0605887841239\" x2=\"455.08629461404763\" y2=\"308.59896710487726\" stroke-linecap=\"round\" style=\"stroke:yellow;stroke-width:4\"/><line x1=\"455.08629461404763\" y1=\"308.59896710487726\" x2=\"451.1442471690493\" y2=\"298.32958241340805\" stroke-linecap=\"round\" style=\"stroke:yellow;stroke-width:4\"/><line x1=\"451.1442471690493\" y1=\"298.32958241340805\" x2=\"446.6701440952155\" y2=\"288.2805823793394\" stroke-linecap=\"round\" style=\"stroke:yellow;stroke-width:4\"/><line x1=\"446.6701440952155\" y1=\"288.2805823793394\" x2=\"441.67624859808046\" y2=\"278.4795106132674\" stroke-linecap=\"round\" style=\"stroke:yellow;stroke-width:4\"/><line x1=\"441.67624859808046\" y1=\"278.4795106132674\" x2=\"439.17624859808046\" y2=\"274.1493835943452\" stroke-linecap=\"round\" style=\"stroke:yellow;stroke-width:4\"/><line x1=\"439.17624859808046\" y1=\"274.1493835943452\" x2=\"435.9623105496478\" y2=\"270.31916137875027\" stroke-linecap=\"round\" style=\"stroke:yellow;stroke-width:4\"/><line x1=\"435.9623105496478\" y1=\"270.31916137875027\" x2=\"432.13208833405287\" y2=\"267.1052233303176\" stroke-linecap=\"round\" style=\"stroke:yellow;stroke-width:4\"/><line x1=\"432.13208833405287\" y1=\"267.1052233303176\" x2=\"427.80196131513065\" y2=\"264.6052233303176\" stroke-linecap=\"round\" style=\"stroke:yellow;stroke-width:4\"/><line x1=\"427.80196131513065\" y1=\"264.6052233303176\" x2=\"423.1034982112011\" y2=\"262.89512261368924\" stroke-linecap=\"round\" style=\"stroke:yellow;stroke-width:4\"/><line x1=\"423.1034982112011\" y1=\"262.89512261368924\" x2=\"418.1794594461401\" y2=\"262.0268817253546\" stroke-linecap=\"round\" style=\"stroke:yellow;stroke-width:4\"/><line x1=\"418.1794594461401\" y1=\"262.0268817253546\" x2=\"403.1794594461401\" y2=\"262.0268817253546\" stroke-linecap=\"round\" style=\"stroke:yellow;stroke-width:4\"/><line x1=\"403.1794594461401\" y1=\"262.0268817253546\" x2=\"398.1794594461401\" y2=\"262.0268817253546\" stroke-linecap=\"round\" style=\"stroke:yellow;stroke-width:4\"/><line x1=\"398.1794594461401\" y1=\"262.0268817253546\" x2=\"393.25542068107904\" y2=\"262.89512261368924\" stroke-linecap=\"round\" style=\"stroke:yellow;stroke-width:4\"/><line x1=\"393.25542068107904\" y1=\"262.89512261368924\" x2=\"388.5569575771495\" y2=\"264.6052233303176\" stroke-linecap=\"round\" style=\"stroke:yellow;stroke-width:4\"/><line x1=\"388.5569575771495\" y1=\"264.6052233303176\" x2=\"384.2268305582273\" y2=\"267.1052233303176\" stroke-linecap=\"round\" style=\"stroke:yellow;stroke-width:4\"/><line x1=\"384.2268305582273\" y1=\"267.1052233303176\" x2=\"380.39660834263236\" y2=\"270.31916137875027\" stroke-linecap=\"round\" style=\"stroke:yellow;stroke-width:4\"/><line x1=\"380.39660834263236\" y1=\"270.31916137875027\" x2=\"377.1826702941997\" y2=\"274.1493835943452\" stroke-linecap=\"round\" style=\"stroke:yellow;stroke-width:4\"/><line x1=\"377.1826702941997\" y1=\"274.1493835943452\" x2=\"372.1826702941997\" y2=\"282.80963763218955\" stroke-linecap=\"round\" style=\"stroke:yellow;stroke-width:4\"/><line x1=\"372.1826702941997\" y1=\"282.80963763218955\" x2=\"366.6826702941997\" y2=\"292.3359170738184\" stroke-linecap=\"round\" style=\"stroke:yellow;stroke-width:4\"/><line x1=\"366.6826702941997\" y1=\"292.3359170738184\" x2=\"361.6887747970647\" y2=\"302.1369888398904\" stroke-linecap=\"round\" style=\"stroke:yellow;stroke-width:4\"/><line x1=\"361.6887747970647\" y1=\"302.1369888398904\" x2=\"357.2146717232309\" y2=\"312.18598887395905\" stroke-linecap=\"round\" style=\"stroke:yellow;stroke-width:4\"/><line x1=\"357.2146717232309\" y1=\"312.18598887395905\" x2=\"353.27262427823257\" y2=\"322.45537356542826\" stroke-linecap=\"round\" style=\"stroke:yellow;stroke-width:4\"/><line x1=\"353.27262427823257\" y1=\"322.45537356542826\" x2=\"349.8734373401081\" y2=\"332.9169952446749\" stroke-linecap=\"round\" style=\"stroke:yellow;stroke-width:4\"/><line x1=\"349.8734373401081\" y1=\"332.9169952446749\" x2=\"347.0264278439804\" y2=\"343.5421793338547\" stroke-linecap=\"round\" style=\"stroke:yellow;stroke-width:4\"/><line x1=\"347.0264278439804\" y1=\"343.5421793338547\" x2=\"345.9868693898916\" y2=\"348.4329173375237\" stroke-linecap=\"round\" style=\"stroke:yellow;stroke-width:4\"/><line x1=\"345.9868693898916\" y1=\"348.4329173375237\" x2=\"347.1116246616109\" y2=\"353.3047676614499\" stroke-linecap=\"round\" style=\"stroke:yellow;stroke-width:4\"/><line x1=\"347.1116246616109\" y1=\"353.3047676614499\" x2=\"350.1899320382392\" y2=\"357.2448214294835\" stroke-linecap=\"round\" style=\"stroke:yellow;stroke-width:4\"/><line x1=\"350.1899320382392\" y1=\"357.2448214294835\" x2=\"354.644964659181\" y2=\"359.5147739281813\" stroke-linecap=\"round\" style=\"stroke:yellow;stroke-width:4\"/><line x1=\"354.644964659181\" y1=\"359.5147739281813\" x2=\"359.64191879427653\" y2=\"359.68927141169377\" stroke-linecap=\"round\" style=\"stroke:yellow;stroke-width:4\"/><line x1=\"359.64191879427653\" y1=\"359.68927141169377\" x2=\"364.24444306153873\" y2=\"357.7356157692474\" stroke-linecap=\"round\" style=\"stroke:yellow;stroke-width:4\"/><line x1=\"364.24444306153873\" y1=\"357.7356157692474\" x2=\"370.9357491251273\" y2=\"350.3041675144734\" stroke-linecap=\"round\" style=\"stroke:yellow;stroke-width:4\"/><line x1=\"370.9357491251273\" y1=\"350.3041675144734\" x2=\"378.29618579507473\" y2=\"342.1295744342221\" stroke-linecap=\"round\" style=\"stroke:yellow;stroke-width:4\"/><line x1=\"378.29618579507473\" y1=\"342.1295744342221\" x2=\"385.21871009662294\" y2=\"333.58096885819543\" stroke-linecap=\"round\" style=\"stroke:yellow;stroke-width:4\"/><line x1=\"385.21871009662294\" y1=\"333.58096885819543\" x2=\"391.68434787184015\" y2=\"324.681781920071\" stroke-linecap=\"round\" style=\"stroke:yellow;stroke-width:4\"/><line x1=\"391.68434787184015\" y1=\"324.681781920071\" x2=\"397.67537725700544\" y2=\"315.45640567267134\" stroke-linecap=\"round\" style=\"stroke:yellow;stroke-width:4\"/><line x1=\"397.67537725700544\" y1=\"315.45640567267134\" x2=\"403.17537725700544\" y2=\"305.9301262310425\" stroke-linecap=\"round\" style=\"stroke:yellow;stroke-width:4\"/><line x1=\"403.17537725700544\" y1=\"305.9301262310425\" x2=\"408.1692727541404\" y2=\"296.12905446497047\" stroke-linecap=\"round\" style=\"stroke:yellow;stroke-width:4\"/><line x1=\"408.1692727541404\" y1=\"296.12905446497047\" x2=\"410.2029559695194\" y2=\"291.56132717675746\" stroke-linecap=\"round\" style=\"stroke:yellow;stroke-width:4\"/><line x1=\"410.2029559695194\" y1=\"291.56132717675746\" x2=\"411.41256544751775\" y2=\"286.7098485453775\" stroke-linecap=\"round\" style=\"stroke:yellow;stroke-width:4\"/><line x1=\"411.41256544751775\" y1=\"286.7098485453775\" x2=\"411.76134781623836\" y2=\"281.72202829407837\" stroke-linecap=\"round\" style=\"stroke:yellow;stroke-width:4\"/><line x1=\"411.76134781623836\" y1=\"281.72202829407837\" x2=\"411.2387054999001\" y2=\"276.74941881723703\" stroke-linecap=\"round\" style=\"stroke:yellow;stroke-width:4\"/><line x1=\"411.2387054999001\" y1=\"276.74941881723703\" x2=\"409.8605187208151\" y2=\"271.9431103375454\" stroke-linecap=\"round\" style=\"stroke:yellow;stroke-width:4\"/><line x1=\"409.8605187208151\" y1=\"271.9431103375454\" x2=\"407.6686629868697\" y2=\"267.4491401060496\" stroke-linecap=\"round\" style=\"stroke:yellow;stroke-width:4\"/><line x1=\"407.6686629868697\" y1=\"267.4491401060496\" x2=\"398.8518842024826\" y2=\"255.31388519042537\" stroke-linecap=\"round\" style=\"stroke:yellow;stroke-width:4\"/><line x1=\"398.8518842024826\" y1=\"255.31388519042537\" x2=\"395.91295794102024\" y2=\"251.26880021855064\" stroke-linecap=\"round\" style=\"stroke:yellow;stroke-width:4\"/><line x1=\"395.91295794102024\" y1=\"251.26880021855064\" x2=\"392.316258939327\" y2=\"247.79550836625566\" stroke-linecap=\"round\" style=\"stroke:yellow;stroke-width:4\"/><line x1=\"392.316258939327\" y1=\"247.79550836625566\" x2=\"388.17107107655175\" y2=\"244.99954384890194\" stroke-linecap=\"round\" style=\"stroke:yellow;stroke-width:4\"/><line x1=\"388.17107107655175\" y1=\"244.99954384890194\" x2=\"383.60334378833875\" y2=\"242.96586063352294\" stroke-linecap=\"round\" style=\"stroke:yellow;stroke-width:4\"/><line x1=\"383.60334378833875\" y1=\"242.96586063352294\" x2=\"378.7518651569588\" y2=\"241.7562511555246\" stroke-linecap=\"round\" style=\"stroke:yellow;stroke-width:4\"/><line x1=\"378.7518651569588\" y1=\"241.7562511555246\" x2=\"373.76404490565966\" y2=\"241.40746878680397\" stroke-linecap=\"round\" style=\"stroke:yellow;stroke-width:4\"/><line x1=\"373.76404490565966\" y1=\"241.40746878680397\" x2=\"363.8188259519769\" y2=\"242.4527534194805\" stroke-linecap=\"round\" style=\"stroke:yellow;stroke-width:4\"/><line x1=\"363.8188259519769\" y1=\"242.4527534194805\" x2=\"352.8790851029259\" y2=\"243.60256651542468\" stroke-linecap=\"round\" style=\"stroke:yellow;stroke-width:4\"/><line x1=\"352.8790851029259\" y1=\"243.60256651542468\" x2=\"342.0145133563794\" y2=\"245.32334563086724\" stroke-linecap=\"round\" style=\"stroke:yellow;stroke-width:4\"/><line x1=\"342.0145133563794\" y1=\"245.32334563086724\" x2=\"331.2548897483075\" y2=\"247.6103742298626\" stroke-linecap=\"round\" style=\"stroke:yellow;stroke-width:4\"/><line x1=\"331.2548897483075\" y1=\"247.6103742298626\" x2=\"320.62970565912775\" y2=\"250.45738372599033\" stroke-linecap=\"round\" style=\"stroke:yellow;stroke-width:4\"/><line x1=\"320.62970565912775\" y1=\"250.45738372599033\" x2=\"310.1680839798811\" y2=\"253.85657066411474\" stroke-linecap=\"round\" style=\"stroke:yellow;stroke-width:4\"/><line x1=\"310.1680839798811\" y1=\"253.85657066411474\" x2=\"299.8986992884119\" y2=\"257.798618109113\" stroke-linecap=\"round\" style=\"stroke:yellow;stroke-width:4\"/><line x1=\"299.8986992884119\" y1=\"257.798618109113\" x2=\"295.33097200019887\" y2=\"259.83230132449205\" stroke-linecap=\"round\" style=\"stroke:yellow;stroke-width:4\"/><line x1=\"295.33097200019887\" y1=\"259.83230132449205\" x2=\"292.0506768552463\" y2=\"263.60584922560594\" stroke-linecap=\"round\" style=\"stroke:yellow;stroke-width:4\"/><line x1=\"292.0506768552463\" y1=\"263.60584922560594\" x2=\"290.6724900761613\" y2=\"268.41215770529755\" stroke-linecap=\"round\" style=\"stroke:yellow;stroke-width:4\"/><line x1=\"290.6724900761613\" y1=\"268.41215770529755\" x2=\"291.45466240136244\" y2=\"273.35059940827324\" stroke-linecap=\"round\" style=\"stroke:yellow;stroke-width:4\"/><line x1=\"291.45466240136244\" y1=\"273.35059940827324\" x2=\"294.2506269187162\" y2=\"277.49578727104847\" stroke-linecap=\"round\" style=\"stroke:yellow;stroke-width:4\"/><line x1=\"294.2506269187162\" y1=\"277.49578727104847\" x2=\"298.53646342222675\" y2=\"280.07097764559876\" stroke-linecap=\"round\" style=\"stroke:yellow;stroke-width:4\"/><line x1=\"298.53646342222675\" y1=\"280.07097764559876\" x2=\"308.4816823759095\" y2=\"281.1162622782753\" stroke-linecap=\"round\" style=\"stroke:yellow;stroke-width:4\"/><line x1=\"308.4816823759095\" y1=\"281.1162622782753\" x2=\"319.4214232249605\" y2=\"282.2660753742195\" stroke-linecap=\"round\" style=\"stroke:yellow;stroke-width:4\"/><line x1=\"319.4214232249605\" y1=\"282.2660753742195\" x2=\"330.40634810726084\" y2=\"282.8417708928919\" stroke-linecap=\"round\" style=\"stroke:yellow;stroke-width:4\"/><line x1=\"330.40634810726084\" y1=\"282.8417708928919\" x2=\"341.40634810726084\" y2=\"282.8417708928919\" stroke-linecap=\"round\" style=\"stroke:yellow;stroke-width:4\"/><line x1=\"341.40634810726084\" y1=\"282.8417708928919\" x2=\"352.3912729895612\" y2=\"282.2660753742195\" stroke-linecap=\"round\" style=\"stroke:yellow;stroke-width:4\"/><line x1=\"352.3912729895612\" y1=\"282.2660753742195\" x2=\"363.3310138386122\" y2=\"281.1162622782753\" stroke-linecap=\"round\" style=\"stroke:yellow;stroke-width:4\"/><line x1=\"363.3310138386122\" y1=\"281.1162622782753\" x2=\"374.1955855851587\" y2=\"279.39548316283276\" stroke-linecap=\"round\" style=\"stroke:yellow;stroke-width:4\"/><line x1=\"374.1955855851587\" y1=\"279.39548316283276\" x2=\"379.0863235888277\" y2=\"278.35592470874394\" stroke-linecap=\"round\" style=\"stroke:yellow;stroke-width:4\"/><line x1=\"379.0863235888277\" y1=\"278.35592470874394\" x2=\"383.72224286166164\" y2=\"276.4828917416644\" stroke-linecap=\"round\" style=\"stroke:yellow;stroke-width:4\"/><line x1=\"383.72224286166164\" y1=\"276.4828917416644\" x2=\"387.96248334244376\" y2=\"273.83329542049836\" stroke-linecap=\"round\" style=\"stroke:yellow;stroke-width:4\"/><line x1=\"387.96248334244376\" y1=\"273.83329542049836\" x2=\"391.67820746983074\" y2=\"270.48764238870405\" stroke-linecap=\"round\" style=\"stroke:yellow;stroke-width:4\"/><line x1=\"391.67820746983074\" y1=\"270.48764238870405\" x2=\"394.756514846459\" y2=\"266.5475886206704\" stroke-linecap=\"round\" style=\"stroke:yellow;stroke-width:4\"/><line x1=\"394.756514846459\" y1=\"266.5475886206704\" x2=\"397.1038726603885\" y2=\"262.13285065637575\" stroke-linecap=\"round\" style=\"stroke:yellow;stroke-width:4\"/>\n",
              "        \n",
              "      <g visibility=visible transform=\"rotate(198,397.1038726603885,262.13285065637575) translate(397.1038726603885, 262.13285065637575)\">\n",
              "        <circle stroke=\"yellow\" stroke-width=\"3\" fill=\"transparent\" r=\"12\" cx=\"0\" cy=\"0\"/>\n",
              "        <polygon points=\"0,19 3,16 -3,16\" style=\"fill:yellow;stroke:yellow;stroke-width:2\"/>\n",
              "      </g>\n",
              "    \n",
              "      </svg>\n",
              "    "
            ],
            "text/plain": [
              "<IPython.core.display.HTML object>"
            ]
          },
          "metadata": {
            "tags": []
          }
        }
      ]
    },
    {
      "cell_type": "markdown",
      "metadata": {
        "id": "Xvxr7CzPCI8U"
      },
      "source": [
        "2. Escreva um conjunto apropriadamente geral de funções que podem desenhar formas como na figura:\n",
        "![shapes](https://github.com/malbouis/Python_intro/blob/master/aulas_2019/pics/shapes_turtle.png?raw=1)\n",
        "Veja mais exercícios em: http://greenteapress.com/thinkpython2/html/thinkpython2005.html#sec42\n",
        "e: http://dfnae.fis.uerj.br/twiki/bin/view/DFNAE/IntroPython#Aula_6"
      ]
    },
    {
      "cell_type": "code",
      "metadata": {
        "id": "QBCW6dfxCUUw",
        "outputId": "a1ff14d1-7b59-4ff4-df00-4728321d86d7",
        "colab": {
          "base_uri": "https://localhost:8080/",
          "height": 521
        }
      },
      "source": [
        "import math\n",
        "jd = ColabTurtle.Turtle\n",
        "jd.initializeTurtle()\n",
        "jd.color('blue')\n",
        "jd.speed(10)\n",
        "\n",
        "jd.right(60)\n",
        "jd.forward(100)\n",
        "jd.left(120)\n",
        "\n",
        "for i in range(7):\n",
        "    jd.forward(100)\n",
        "    jd.left(60)\n",
        "\n",
        "jd.left(60)\n",
        "\n",
        "for i in range(2):\n",
        "    jd.forward(200)\n",
        "    jd.right(120)\n",
        "    jd.forward(100)\n",
        "    jd.right(120)\n",
        "\n",
        "jd.forward(200)"
      ],
      "execution_count": 139,
      "outputs": [
        {
          "output_type": "display_data",
          "data": {
            "text/html": [
              "\n",
              "      <svg width=\"800\" height=\"500\">\n",
              "        <rect width=\"100%\" height=\"100%\" fill=\"black\"/>\n",
              "        <line x1=\"400\" y1=\"250\" x2=\"486.60254037844385\" y2=\"199.99999999999994\" stroke-linecap=\"round\" style=\"stroke:blue;stroke-width:4\"/><line x1=\"486.60254037844385\" y1=\"199.99999999999994\" x2=\"400.0\" y2=\"149.99999999999994\" stroke-linecap=\"round\" style=\"stroke:blue;stroke-width:4\"/><line x1=\"400.0\" y1=\"149.99999999999994\" x2=\"313.3974596215561\" y2=\"199.99999999999994\" stroke-linecap=\"round\" style=\"stroke:blue;stroke-width:4\"/><line x1=\"313.3974596215561\" y1=\"199.99999999999994\" x2=\"313.3974596215561\" y2=\"299.99999999999994\" stroke-linecap=\"round\" style=\"stroke:blue;stroke-width:4\"/><line x1=\"313.3974596215561\" y1=\"299.99999999999994\" x2=\"400.0\" y2=\"349.99999999999994\" stroke-linecap=\"round\" style=\"stroke:blue;stroke-width:4\"/><line x1=\"400.0\" y1=\"349.99999999999994\" x2=\"486.60254037844385\" y2=\"299.9999999999999\" stroke-linecap=\"round\" style=\"stroke:blue;stroke-width:4\"/><line x1=\"486.60254037844385\" y1=\"299.9999999999999\" x2=\"486.60254037844385\" y2=\"199.9999999999999\" stroke-linecap=\"round\" style=\"stroke:blue;stroke-width:4\"/><line x1=\"486.60254037844385\" y1=\"199.9999999999999\" x2=\"400.0\" y2=\"149.9999999999999\" stroke-linecap=\"round\" style=\"stroke:blue;stroke-width:4\"/><line x1=\"400.0\" y1=\"149.9999999999999\" x2=\"400.0\" y2=\"349.9999999999999\" stroke-linecap=\"round\" style=\"stroke:blue;stroke-width:4\"/><line x1=\"400.0\" y1=\"349.9999999999999\" x2=\"313.39745962155615\" y2=\"299.9999999999999\" stroke-linecap=\"round\" style=\"stroke:blue;stroke-width:4\"/><line x1=\"313.39745962155615\" y1=\"299.9999999999999\" x2=\"486.6025403784438\" y2=\"199.9999999999998\" stroke-linecap=\"round\" style=\"stroke:blue;stroke-width:4\"/><line x1=\"486.6025403784438\" y1=\"199.9999999999998\" x2=\"486.6025403784438\" y2=\"299.9999999999998\" stroke-linecap=\"round\" style=\"stroke:blue;stroke-width:4\"/><line x1=\"486.6025403784438\" y1=\"299.9999999999998\" x2=\"313.3974596215561\" y2=\"199.99999999999974\" stroke-linecap=\"round\" style=\"stroke:blue;stroke-width:4\"/>\n",
              "        \n",
              "      <g visibility=visible transform=\"rotate(120,313.3974596215561,199.99999999999974) translate(313.3974596215561, 199.99999999999974)\">\n",
              "        <circle stroke=\"blue\" stroke-width=\"3\" fill=\"transparent\" r=\"12\" cx=\"0\" cy=\"0\"/>\n",
              "        <polygon points=\"0,19 3,16 -3,16\" style=\"fill:blue;stroke:blue;stroke-width:2\"/>\n",
              "      </g>\n",
              "    \n",
              "      </svg>\n",
              "    "
            ],
            "text/plain": [
              "<IPython.core.display.HTML object>"
            ]
          },
          "metadata": {
            "tags": []
          }
        }
      ]
    },
    {
      "cell_type": "markdown",
      "metadata": {
        "id": "MgCBlRSWFYZ5"
      },
      "source": [
        "3.Adicione instruções para desenhar o talo e folha da flor. Faça a refatoração apropriada para a interface da flor completa ficar \"limpa\"."
      ]
    },
    {
      "cell_type": "code",
      "metadata": {
        "id": "ieJHBRz0FffX"
      },
      "source": [
        ""
      ],
      "execution_count": null,
      "outputs": []
    }
  ]
}