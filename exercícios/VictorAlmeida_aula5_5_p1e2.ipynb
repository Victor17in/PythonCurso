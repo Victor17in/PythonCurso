{
  "nbformat": 4,
  "nbformat_minor": 0,
  "metadata": {
    "colab": {
      "name": "VictorAlmeida_aula5_5_p1e2.ipynb",
      "provenance": [],
      "authorship_tag": "ABX9TyOJcEakbLbF87oPCanuCZvM",
      "include_colab_link": true
    },
    "kernelspec": {
      "name": "python3",
      "display_name": "Python 3"
    }
  },
  "cells": [
    {
      "cell_type": "markdown",
      "metadata": {
        "id": "view-in-github",
        "colab_type": "text"
      },
      "source": [
        "<a href=\"https://colab.research.google.com/github/Victor17in/PythonCurso/blob/master/exerc%C3%ADcios/VictorAlmeida_aula5_5_p1e2.ipynb\" target=\"_parent\"><img src=\"https://colab.research.google.com/assets/colab-badge.svg\" alt=\"Open In Colab\"/></a>"
      ]
    },
    {
      "cell_type": "markdown",
      "metadata": {
        "id": "Yvukp2eZt1ua"
      },
      "source": [
        "## Exercícios - Parte 1:\n",
        "[**Não é possível fazer no Google Colab. Pule para o exercício 2**] Modifique o programa da tartaruga (primeiro exemplo) para que, antes de criar a janela, ele solicite que o usuário insira a cor de fundo desejada. Ele deve armazenar as respostas do usuário em uma variável e modificar a cor da janela de acordo com os desejos do usuário. \n",
        "   * ***Dicas***: faça uso da função ***input***, built-in do python\n",
        "   * você pode encontrar uma lista de nomes de cores permitidos em http://www.tcl.tk/man/tcl8.4/TkCmd/colors.htm. Inclui alguns bem incomuns, como “peach puff” e “HotPink” ”***\n",
        "   \n",
        "2.Faça modificações similares para permitir que o usuário mude a cor da tartaruga durante a execução do programa."
      ]
    },
    {
      "cell_type": "code",
      "metadata": {
        "id": "hFShrj2Tufgm",
        "outputId": "d887ca36-2315-4671-e17a-33d2815bcd45",
        "colab": {
          "base_uri": "https://localhost:8080/",
          "height": 170
        }
      },
      "source": [
        "# declarações para instalar e importar o módulo Turtle no âmbito do Google Colab\n",
        "!pip3 install ColabTurtle\n",
        "import ColabTurtle"
      ],
      "execution_count": null,
      "outputs": [
        {
          "output_type": "stream",
          "text": [
            "Collecting ColabTurtle\n",
            "  Downloading https://files.pythonhosted.org/packages/49/01/6da7091c2c6c917cce99c000b89acb6aa27b66ef6eafc0c0ccf59b98694f/ColabTurtle-2.0.0.tar.gz\n",
            "Building wheels for collected packages: ColabTurtle\n",
            "  Building wheel for ColabTurtle (setup.py) ... \u001b[?25l\u001b[?25hdone\n",
            "  Created wheel for ColabTurtle: filename=ColabTurtle-2.0.0-cp36-none-any.whl size=4032 sha256=6c6e42a237a70b55489e0735120ba0d13f31cdf230a4a10116f113b482171c31\n",
            "  Stored in directory: /root/.cache/pip/wheels/a8/29/ec/ad346f0042ae467cc74f4378916348faf975b07890651dcae7\n",
            "Successfully built ColabTurtle\n",
            "Installing collected packages: ColabTurtle\n",
            "Successfully installed ColabTurtle-2.0.0\n"
          ],
          "name": "stdout"
        }
      ]
    },
    {
      "cell_type": "code",
      "metadata": {
        "id": "7tcXa3zpt1CU",
        "outputId": "a80c9d87-c2a8-4af4-c445-76b728697ec1",
        "colab": {
          "base_uri": "https://localhost:8080/",
          "height": 572
        }
      },
      "source": [
        "teca = ColabTurtle.Turtle # Cria uma tartaruga, atribui a teca\n",
        "teca.initializeTurtle()\n",
        "teca.color(input('Escolha a cor(em Inglês):'))            # o método color diz à Teca para mudar sua cor (atributo)\n",
        "teca.width(int(input('Escolha a largura de 0 a 10:')))               # o método width faz Teca ajustar a largura da caneta (atributo)\n",
        "\n",
        "teca.forward(100)\n",
        "teca.left(120)\n",
        "teca.forward(50)\n",
        "teca.left(120)\n",
        "teca.forward(50)\n",
        "teca.left(60)\n",
        "teca.forward(50)\n",
        "teca.left(120)\n",
        "teca.forward(100)\n",
        "#\n",
        "teca.left(120)\n",
        "teca.forward(50)\n",
        "teca.left(120)\n",
        "teca.forward(100)\n",
        "#\n",
        "teca.left(120)\n",
        "teca.forward(50)\n",
        "teca.left(120)\n",
        "teca.forward(100)\n",
        "#\n",
        "teca.left(120)\n",
        "teca.forward(50)\n",
        "teca.left(120)\n",
        "teca.forward(100)\n",
        "#\n",
        "teca.right(120)\n",
        "teca.forward(50)\n",
        "#\n",
        "teca.right(60)\n",
        "teca.forward(50)\n",
        "teca.right(60)\n",
        "teca.forward(50)\n",
        "teca.right(60)\n",
        "teca.forward(50)\n",
        "teca.right(120)\n",
        "teca.forward(50)\n",
        "teca.color(input('Escolha a cor(em Inglês):'))"
      ],
      "execution_count": null,
      "outputs": [
        {
          "output_type": "display_data",
          "data": {
            "text/html": [
              "\n",
              "      <svg width=\"800\" height=\"500\">\n",
              "        <rect width=\"100%\" height=\"100%\" fill=\"black\"/>\n",
              "        <line x1=\"400\" y1=\"250\" x2=\"400.0\" y2=\"150.0\" stroke-linecap=\"round\" style=\"stroke:red;stroke-width:10\"/><line x1=\"400.0\" y1=\"150.0\" x2=\"356.69872981077805\" y2=\"175.0\" stroke-linecap=\"round\" style=\"stroke:red;stroke-width:10\"/><line x1=\"356.69872981077805\" y1=\"175.0\" x2=\"400.0\" y2=\"200.0\" stroke-linecap=\"round\" style=\"stroke:red;stroke-width:10\"/><line x1=\"400.0\" y1=\"200.0\" x2=\"443.3012701892219\" y2=\"174.99999999999997\" stroke-linecap=\"round\" style=\"stroke:red;stroke-width:10\"/><line x1=\"443.3012701892219\" y1=\"174.99999999999997\" x2=\"356.69872981077805\" y2=\"124.99999999999996\" stroke-linecap=\"round\" style=\"stroke:red;stroke-width:10\"/><line x1=\"356.69872981077805\" y1=\"124.99999999999996\" x2=\"356.69872981077805\" y2=\"174.99999999999994\" stroke-linecap=\"round\" style=\"stroke:red;stroke-width:10\"/><line x1=\"356.69872981077805\" y1=\"174.99999999999994\" x2=\"443.3012701892219\" y2=\"124.9999999999999\" stroke-linecap=\"round\" style=\"stroke:red;stroke-width:10\"/><line x1=\"443.3012701892219\" y1=\"124.9999999999999\" x2=\"399.99999999999994\" y2=\"99.99999999999989\" stroke-linecap=\"round\" style=\"stroke:red;stroke-width:10\"/><line x1=\"399.99999999999994\" y1=\"99.99999999999989\" x2=\"399.99999999999994\" y2=\"199.9999999999999\" stroke-linecap=\"round\" style=\"stroke:red;stroke-width:10\"/><line x1=\"399.99999999999994\" y1=\"199.9999999999999\" x2=\"443.30127018922184\" y2=\"174.99999999999986\" stroke-linecap=\"round\" style=\"stroke:red;stroke-width:10\"/><line x1=\"443.30127018922184\" y1=\"174.99999999999986\" x2=\"356.698729810778\" y2=\"124.99999999999984\" stroke-linecap=\"round\" style=\"stroke:red;stroke-width:10\"/><line x1=\"356.698729810778\" y1=\"124.99999999999984\" x2=\"399.9999999999999\" y2=\"99.99999999999983\" stroke-linecap=\"round\" style=\"stroke:red;stroke-width:10\"/><line x1=\"399.9999999999999\" y1=\"99.99999999999983\" x2=\"443.30127018922184\" y2=\"124.99999999999983\" stroke-linecap=\"round\" style=\"stroke:red;stroke-width:10\"/><line x1=\"443.30127018922184\" y1=\"124.99999999999983\" x2=\"443.30127018922184\" y2=\"174.99999999999983\" stroke-linecap=\"round\" style=\"stroke:red;stroke-width:10\"/><line x1=\"443.30127018922184\" y1=\"174.99999999999983\" x2=\"399.9999999999999\" y2=\"199.99999999999983\" stroke-linecap=\"round\" style=\"stroke:red;stroke-width:10\"/><line x1=\"399.9999999999999\" y1=\"199.99999999999983\" x2=\"399.9999999999999\" y2=\"149.99999999999983\" stroke-linecap=\"round\" style=\"stroke:red;stroke-width:10\"/>\n",
              "        \n",
              "      <g visibility=visible transform=\"rotate(180,399.9999999999999,149.99999999999983) translate(399.9999999999999, 149.99999999999983)\">\n",
              "        <circle stroke=\"yellow\" stroke-width=\"3\" fill=\"transparent\" r=\"12\" cx=\"0\" cy=\"0\"/>\n",
              "        <polygon points=\"0,19 3,16 -3,16\" style=\"fill:yellow;stroke:yellow;stroke-width:2\"/>\n",
              "      </g>\n",
              "    \n",
              "      </svg>\n",
              "    "
            ],
            "text/plain": [
              "<IPython.core.display.HTML object>"
            ]
          },
          "metadata": {
            "tags": []
          }
        },
        {
          "output_type": "stream",
          "text": [
            "Escolha a cor(em Inglês):red\n",
            "Escolha a largura de 0 a 10:10\n",
            "Escolha a cor(em Inglês):yellow\n"
          ],
          "name": "stdout"
        }
      ]
    },
    {
      "cell_type": "markdown",
      "metadata": {
        "id": "6eyVMAC40GeF"
      },
      "source": [
        "3.Investiguem os métodos e atributos do módulo ```turtle```  (```ColabTurtle``` no Google Colab);"
      ]
    },
    {
      "cell_type": "markdown",
      "metadata": {
        "id": "1AFCuNVM04LL"
      },
      "source": [
        " https://github.com/tolgaatam/ColabTurtle/blob/master/ColabTurtle/Turtle.py"
      ]
    },
    {
      "cell_type": "markdown",
      "metadata": {
        "id": "jucDYJYT06MV"
      },
      "source": [
        "Desenhe um quadrado, usando a forma de tartaruga, ao invés da flecha, para desenhar (***caso esteja no Google Colab, não precisa mudar a forma***).\n",
        "   Mude a velocidade com que a tartaruga faz o desenho."
      ]
    },
    {
      "cell_type": "code",
      "metadata": {
        "id": "D9xRD7ix0NPH",
        "outputId": "bed66bb5-f0ea-45e3-b184-d1c39e1f61c5",
        "colab": {
          "base_uri": "https://localhost:8080/",
          "height": 521
        }
      },
      "source": [
        "joana = ColabTurtle.Turtle\n",
        "joana.initializeTurtle()\n",
        "joana.color('blue')\n",
        "for i in range(4):\n",
        "    joana.forward(100)\n",
        "    joana.left(90)\n",
        "    joana.speed(10)"
      ],
      "execution_count": null,
      "outputs": [
        {
          "output_type": "display_data",
          "data": {
            "text/html": [
              "\n",
              "      <svg width=\"800\" height=\"500\">\n",
              "        <rect width=\"100%\" height=\"100%\" fill=\"black\"/>\n",
              "        <line x1=\"400\" y1=\"250\" x2=\"400.0\" y2=\"150.0\" stroke-linecap=\"round\" style=\"stroke:blue;stroke-width:4\"/><line x1=\"400.0\" y1=\"150.0\" x2=\"300.0\" y2=\"150.0\" stroke-linecap=\"round\" style=\"stroke:blue;stroke-width:4\"/><line x1=\"300.0\" y1=\"150.0\" x2=\"300.0\" y2=\"250.0\" stroke-linecap=\"round\" style=\"stroke:blue;stroke-width:4\"/><line x1=\"300.0\" y1=\"250.0\" x2=\"400.0\" y2=\"250.0\" stroke-linecap=\"round\" style=\"stroke:blue;stroke-width:4\"/>\n",
              "        \n",
              "      <g visibility=visible transform=\"rotate(180,400.0,250.0) translate(400.0, 250.0)\">\n",
              "        <circle stroke=\"blue\" stroke-width=\"3\" fill=\"transparent\" r=\"12\" cx=\"0\" cy=\"0\"/>\n",
              "        <polygon points=\"0,19 3,16 -3,16\" style=\"fill:blue;stroke:blue;stroke-width:2\"/>\n",
              "      </g>\n",
              "    \n",
              "      </svg>\n",
              "    "
            ],
            "text/plain": [
              "<IPython.core.display.HTML object>"
            ]
          },
          "metadata": {
            "tags": []
          }
        }
      ]
    },
    {
      "cell_type": "markdown",
      "metadata": {
        "id": "Vqss55Vu2IbQ"
      },
      "source": [
        "5.Sabendo que o ângulo interno da ponta de uma estrela de 5 pontas é de 36 graus, desenhe uma estrela.\n",
        "![title](https://github.com/malbouis/Python_intro/blob/master/aulas_2019/pics/estrela.png?raw=1)"
      ]
    },
    {
      "cell_type": "code",
      "metadata": {
        "id": "G1wUG6uc2MkF",
        "outputId": "63da0e91-c7a8-40fe-f8e9-415f2aae3866",
        "colab": {
          "base_uri": "https://localhost:8080/",
          "height": 521
        }
      },
      "source": [
        "jorgina = ColabTurtle.Turtle\n",
        "jorgina.initializeTurtle()\n",
        "jorgina.color('yellow')\n",
        "jorgina.speed(7)\n",
        "jorgina.right(60)\n",
        "jorgina.forward(75)\n",
        "jorgina.left(180)\n",
        "\n",
        "for i in range(4):\n",
        "    jorgina.forward(150)\n",
        "    jorgina.right(144)\n",
        "#FB\n",
        "#jorgina.forward(150)\n",
        "#jorgina.right(144)\n",
        "#jorgina.forward(150)\n",
        "#jorgina.right(144)\n",
        "#jorgina.forward(150)\n",
        "#jorgina.right(144)\n",
        "#jorgina.forward(150)\n",
        "#jorgina.right(144)\n",
        "\n",
        "jorgina.forward(150)"
      ],
      "execution_count": null,
      "outputs": [
        {
          "output_type": "display_data",
          "data": {
            "text/html": [
              "\n",
              "      <svg width=\"800\" height=\"500\">\n",
              "        <rect width=\"100%\" height=\"100%\" fill=\"black\"/>\n",
              "        <line x1=\"400\" y1=\"250\" x2=\"464.95190528383284\" y2=\"212.49999999999997\" stroke-linecap=\"round\" style=\"stroke:yellow;stroke-width:4\"/><line x1=\"464.95190528383284\" y1=\"212.49999999999997\" x2=\"335.04809471616704\" y2=\"287.49999999999994\" stroke-linecap=\"round\" style=\"stroke:yellow;stroke-width:4\"/><line x1=\"335.04809471616704\" y1=\"287.49999999999994\" x2=\"396.058591177537\" y2=\"150.4681813536098\" stroke-linecap=\"round\" style=\"stroke:yellow;stroke-width:4\"/><line x1=\"396.058591177537\" y1=\"150.4681813536098\" x2=\"427.2453448002009\" y2=\"297.1903214636806\" stroke-linecap=\"round\" style=\"stroke:yellow;stroke-width:4\"/><line x1=\"427.2453448002009\" y1=\"297.1903214636806\" x2=\"315.77362097859174\" y2=\"196.8207305098519\" stroke-linecap=\"round\" style=\"stroke:yellow;stroke-width:4\"/><line x1=\"315.77362097859174\" y1=\"196.8207305098519\" x2=\"464.95190528383273\" y2=\"212.49999999999991\" stroke-linecap=\"round\" style=\"stroke:yellow;stroke-width:4\"/>\n",
              "        \n",
              "      <g visibility=visible transform=\"rotate(-84,464.95190528383273,212.49999999999991) translate(464.95190528383273, 212.49999999999991)\">\n",
              "        <circle stroke=\"yellow\" stroke-width=\"3\" fill=\"transparent\" r=\"12\" cx=\"0\" cy=\"0\"/>\n",
              "        <polygon points=\"0,19 3,16 -3,16\" style=\"fill:yellow;stroke:yellow;stroke-width:2\"/>\n",
              "      </g>\n",
              "    \n",
              "      </svg>\n",
              "    "
            ],
            "text/plain": [
              "<IPython.core.display.HTML object>"
            ]
          },
          "metadata": {
            "tags": []
          }
        }
      ]
    },
    {
      "cell_type": "markdown",
      "metadata": {
        "id": "mKHajRkk69TQ"
      },
      "source": [
        "6.Sabendo o ângulo interno da ponta de uma estrela, desenhe quatro estrelas em uma janela, com uma certa distância entre elas. Dica: use a função penup() e pendown() do módulo ```turtle```."
      ]
    },
    {
      "cell_type": "code",
      "metadata": {
        "id": "CjOYyTpI7OCo",
        "outputId": "ea42e2d1-e5c7-4a40-fa2b-e166084943fe",
        "colab": {
          "base_uri": "https://localhost:8080/",
          "height": 521
        }
      },
      "source": [
        "jo = ColabTurtle.Turtle\n",
        "jo.initializeTurtle()\n",
        "jo.color('yellow')\n",
        "jo.speed(7)\n",
        "jo.right(60)\n",
        "jo.forward(75)\n",
        "jo.left(180)\n",
        "\n",
        "for i in range(4):\n",
        "    jo.forward(150)\n",
        "    jo.right(144)\n",
        "jo.forward(150)\n",
        "\n",
        "jo.penup()\n",
        "jo.forward(150)\n",
        "jo.pendown()\n",
        "for i in range(4):\n",
        "    jo.forward(150)\n",
        "    jo.right(144)\n",
        "jo.forward(150)\n",
        "\n",
        "jo.penup()\n",
        "jo.forward(100)\n",
        "jo.right(60)\n",
        "jo.pendown()\n",
        "for i in range(4):\n",
        "    jo.forward(150)\n",
        "    jo.right(144)\n",
        "jo.forward(150)"
      ],
      "execution_count": null,
      "outputs": [
        {
          "output_type": "display_data",
          "data": {
            "text/html": [
              "\n",
              "      <svg width=\"800\" height=\"500\">\n",
              "        <rect width=\"100%\" height=\"100%\" fill=\"black\"/>\n",
              "        <line x1=\"400\" y1=\"250\" x2=\"464.95190528383284\" y2=\"212.49999999999997\" stroke-linecap=\"round\" style=\"stroke:yellow;stroke-width:4\"/><line x1=\"464.95190528383284\" y1=\"212.49999999999997\" x2=\"335.04809471616704\" y2=\"287.49999999999994\" stroke-linecap=\"round\" style=\"stroke:yellow;stroke-width:4\"/><line x1=\"335.04809471616704\" y1=\"287.49999999999994\" x2=\"396.058591177537\" y2=\"150.4681813536098\" stroke-linecap=\"round\" style=\"stroke:yellow;stroke-width:4\"/><line x1=\"396.058591177537\" y1=\"150.4681813536098\" x2=\"427.2453448002009\" y2=\"297.1903214636806\" stroke-linecap=\"round\" style=\"stroke:yellow;stroke-width:4\"/><line x1=\"427.2453448002009\" y1=\"297.1903214636806\" x2=\"315.77362097859174\" y2=\"196.8207305098519\" stroke-linecap=\"round\" style=\"stroke:yellow;stroke-width:4\"/><line x1=\"315.77362097859174\" y1=\"196.8207305098519\" x2=\"464.95190528383273\" y2=\"212.49999999999991\" stroke-linecap=\"round\" style=\"stroke:yellow;stroke-width:4\"/><line x1=\"614.1301895890738\" y1=\"228.17926949014793\" x2=\"763.3084738943148\" y2=\"243.85853898029595\" stroke-linecap=\"round\" style=\"stroke:yellow;stroke-width:4\"/><line x1=\"763.3084738943148\" y1=\"243.85853898029595\" x2=\"633.404663326649\" y2=\"318.8585389802959\" stroke-linecap=\"round\" style=\"stroke:yellow;stroke-width:4\"/><line x1=\"633.404663326649\" y1=\"318.8585389802959\" x2=\"694.415159788019\" y2=\"181.82672033390577\" stroke-linecap=\"round\" style=\"stroke:yellow;stroke-width:4\"/><line x1=\"694.415159788019\" y1=\"181.82672033390577\" x2=\"725.6019134106829\" y2=\"328.5488604439766\" stroke-linecap=\"round\" style=\"stroke:yellow;stroke-width:4\"/><line x1=\"725.6019134106829\" y1=\"328.5488604439766\" x2=\"614.1301895890738\" y2=\"228.17926949014787\" stroke-linecap=\"round\" style=\"stroke:yellow;stroke-width:4\"/><line x1=\"539.8157070413343\" y1=\"161.26620885426206\" x2=\"571.0024606639982\" y2=\"14.544068744191236\" stroke-linecap=\"round\" style=\"stroke:yellow;stroke-width:4\"/><line x1=\"571.0024606639982\" y1=\"14.544068744191236\" x2=\"632.0129571253683\" y2=\"151.57588739058136\" stroke-linecap=\"round\" style=\"stroke:yellow;stroke-width:4\"/><line x1=\"632.0129571253683\" y1=\"151.57588739058136\" x2=\"502.1091465577025\" y2=\"76.57588739058134\" stroke-linecap=\"round\" style=\"stroke:yellow;stroke-width:4\"/><line x1=\"502.1091465577025\" y1=\"76.57588739058134\" x2=\"651.2874308629434\" y2=\"60.89661790043333\" stroke-linecap=\"round\" style=\"stroke:yellow;stroke-width:4\"/><line x1=\"651.2874308629434\" y1=\"60.89661790043333\" x2=\"539.8157070413343\" y2=\"161.26620885426206\" stroke-linecap=\"round\" style=\"stroke:yellow;stroke-width:4\"/>\n",
              "        \n",
              "      <g visibility=visible transform=\"rotate(48,539.8157070413343,161.26620885426206) translate(539.8157070413343, 161.26620885426206)\">\n",
              "        <circle stroke=\"yellow\" stroke-width=\"3\" fill=\"transparent\" r=\"12\" cx=\"0\" cy=\"0\"/>\n",
              "        <polygon points=\"0,19 3,16 -3,16\" style=\"fill:yellow;stroke:yellow;stroke-width:2\"/>\n",
              "      </g>\n",
              "    \n",
              "      </svg>\n",
              "    "
            ],
            "text/plain": [
              "<IPython.core.display.HTML object>"
            ]
          },
          "metadata": {
            "tags": []
          }
        }
      ]
    },
    {
      "cell_type": "markdown",
      "metadata": {
        "id": "gWGk9pmC9e24"
      },
      "source": [
        "## Exercícios - Parte 2:\n",
        "  \n",
        "1. Escreva um conjunto apropriadamente geral de funções que possam desenhar flores como na Figura abaixo:\n",
        "![flowers](https://github.com/malbouis/Python_intro/blob/master/aulas_2019/pics/flowers.png?raw=1)"
      ]
    },
    {
      "cell_type": "code",
      "metadata": {
        "id": "NJRZI8C19gp0",
        "outputId": "7073c583-fddc-459d-fad5-d9311d8e2a8b",
        "colab": {
          "base_uri": "https://localhost:8080/",
          "height": 521
        }
      },
      "source": [
        "import math\n",
        "jc = ColabTurtle.Turtle\n",
        "jc.initializeTurtle()\n",
        "jc.color('yellow')\n",
        "jc.speed(10)\n",
        "\n",
        "for i in range(6):\n",
        "        jc.forward(5)\n",
        "        jc.left(10)\n",
        "jc.forward(10)\n",
        "for i in range(6):\n",
        "        jc.forward(11)\n",
        "        jc.left(3)\n",
        "\n",
        "for i in range(6):\n",
        "        jc.forward(5)\n",
        "        jc.left(25)\n",
        "jc.forward(10)\n",
        "for i in range(6):\n",
        "        jc.forward(11)\n",
        "        jc.left(3)\n",
        "for i in range(6):\n",
        "        jc.forward(5)\n",
        "        jc.left(10)\n",
        "#\n",
        "jc.forward(15)\n",
        "#\n",
        "for i in range(6):\n",
        "        jc.forward(5)\n",
        "        jc.left(10)\n",
        "jc.forward(10)\n",
        "for i in range(6):\n",
        "        jc.forward(11)\n",
        "        jc.left(3)\n",
        "\n",
        "for i in range(6):\n",
        "        jc.forward(5)\n",
        "        jc.left(25)\n",
        "jc.forward(10)\n",
        "for i in range(6):\n",
        "        jc.forward(11)\n",
        "        jc.left(3)\n",
        "for i in range(6):\n",
        "        jc.forward(5)\n",
        "        jc.left(10)\n",
        "\n",
        "#\n",
        "jc.forward(15)\n",
        "#\n",
        "for i in range(6):\n",
        "        jc.forward(5)\n",
        "        jc.left(10)\n",
        "jc.forward(10)\n",
        "for i in range(6):\n",
        "        jc.forward(11)\n",
        "        jc.left(3)\n",
        "\n",
        "for i in range(6):\n",
        "        jc.forward(5)\n",
        "        jc.left(25)\n",
        "jc.forward(10)\n",
        "for i in range(6):\n",
        "        jc.forward(11)\n",
        "        jc.left(3)\n",
        "for i in range(6):\n",
        "        jc.forward(5)\n",
        "        jc.left(10)\n",
        "\n",
        "#\n",
        "jc.forward(15)\n",
        "#\n",
        "for i in range(6):\n",
        "        jc.forward(5)\n",
        "        jc.left(10)\n",
        "jc.forward(10)\n",
        "for i in range(6):\n",
        "        jc.forward(11)\n",
        "        jc.left(3)\n",
        "\n",
        "for i in range(6):\n",
        "        jc.forward(5)\n",
        "        jc.left(25)\n",
        "jc.forward(10)\n",
        "for i in range(6):\n",
        "        jc.forward(11)\n",
        "        jc.left(3)\n",
        "for i in range(6):\n",
        "        jc.forward(5)\n",
        "        jc.left(10)\n",
        "\n",
        "#\n",
        "jc.forward(15)\n",
        "#\n",
        "for i in range(6):\n",
        "        jc.forward(5)\n",
        "        jc.left(10)\n",
        "jc.forward(10)\n",
        "for i in range(6):\n",
        "        jc.forward(11)\n",
        "        jc.left(3)\n",
        "\n",
        "for i in range(6):\n",
        "        jc.forward(5)\n",
        "        jc.left(25)\n",
        "jc.forward(10)\n",
        "for i in range(6):\n",
        "        jc.forward(11)\n",
        "        jc.left(3)\n",
        "for i in range(6):\n",
        "        jc.forward(5)\n",
        "        jc.left(10)\n",
        "\n",
        "#\n",
        "jc.forward(15)\n",
        "#\n",
        "for i in range(6):\n",
        "        jc.forward(5)\n",
        "        jc.left(10)\n",
        "jc.forward(10)\n",
        "for i in range(6):\n",
        "        jc.forward(11)\n",
        "        jc.left(3)\n",
        "\n",
        "for i in range(6):\n",
        "        jc.forward(5)\n",
        "        jc.left(25)\n",
        "jc.forward(10)\n",
        "for i in range(6):\n",
        "        jc.forward(11)\n",
        "        jc.left(3)\n",
        "for i in range(6):\n",
        "        jc.forward(5)\n",
        "        jc.left(10)\n",
        "\n",
        "#\n",
        "jc.forward(15)\n",
        "#\n",
        "for i in range(6):\n",
        "        jc.forward(5)\n",
        "        jc.left(10)\n",
        "jc.forward(10)\n",
        "for i in range(6):\n",
        "        jc.forward(11)\n",
        "        jc.left(3)\n",
        "\n",
        "for i in range(6):\n",
        "        jc.forward(5)\n",
        "        jc.left(25)\n",
        "jc.forward(10)\n",
        "for i in range(6):\n",
        "        jc.forward(11)\n",
        "        jc.left(3)\n",
        "for i in range(6):\n",
        "        jc.forward(5)\n",
        "        jc.left(10)"
      ],
      "execution_count": null,
      "outputs": [
        {
          "output_type": "display_data",
          "data": {
            "text/html": [
              "\n",
              "      <svg width=\"800\" height=\"500\">\n",
              "        <rect width=\"100%\" height=\"100%\" fill=\"black\"/>\n",
              "        <line x1=\"400\" y1=\"250\" x2=\"400.0\" y2=\"245.0\" stroke-linecap=\"round\" style=\"stroke:yellow;stroke-width:4\"/><line x1=\"400.0\" y1=\"245.0\" x2=\"399.13175911166536\" y2=\"240.07596123493897\" stroke-linecap=\"round\" style=\"stroke:yellow;stroke-width:4\"/><line x1=\"399.13175911166536\" y1=\"240.07596123493897\" x2=\"397.421658395037\" y2=\"235.37749813100942\" stroke-linecap=\"round\" style=\"stroke:yellow;stroke-width:4\"/><line x1=\"397.421658395037\" y1=\"235.37749813100942\" x2=\"394.921658395037\" y2=\"231.04737111208723\" stroke-linecap=\"round\" style=\"stroke:yellow;stroke-width:4\"/><line x1=\"394.921658395037\" y1=\"231.04737111208723\" x2=\"391.70772034660433\" y2=\"227.21714889649235\" stroke-linecap=\"round\" style=\"stroke:yellow;stroke-width:4\"/><line x1=\"391.70772034660433\" y1=\"227.21714889649235\" x2=\"387.8774981310094\" y2=\"224.00321084805964\" stroke-linecap=\"round\" style=\"stroke:yellow;stroke-width:4\"/><line x1=\"387.8774981310094\" y1=\"224.00321084805964\" x2=\"379.21724409316505\" y2=\"219.00321084805964\" stroke-linecap=\"round\" style=\"stroke:yellow;stroke-width:4\"/><line x1=\"379.21724409316505\" y1=\"219.00321084805964\" x2=\"369.6909646515362\" y2=\"213.50321084805964\" stroke-linecap=\"round\" style=\"stroke:yellow;stroke-width:4\"/><line x1=\"369.6909646515362\" y1=\"213.50321084805964\" x2=\"359.8898928854642\" y2=\"208.50931535092462\" stroke-linecap=\"round\" style=\"stroke:yellow;stroke-width:4\"/><line x1=\"359.8898928854642\" y1=\"208.50931535092462\" x2=\"349.84089285139555\" y2=\"204.0352122770908\" stroke-linecap=\"round\" style=\"stroke:yellow;stroke-width:4\"/><line x1=\"349.84089285139555\" y1=\"204.0352122770908\" x2=\"339.57150815992634\" y2=\"200.0931648320925\" stroke-linecap=\"round\" style=\"stroke:yellow;stroke-width:4\"/><line x1=\"339.57150815992634\" y1=\"200.0931648320925\" x2=\"329.1098864806796\" y2=\"196.69397789396808\" stroke-linecap=\"round\" style=\"stroke:yellow;stroke-width:4\"/><line x1=\"329.1098864806796\" y1=\"196.69397789396808\" x2=\"318.48470239149987\" y2=\"193.84696839784036\" stroke-linecap=\"round\" style=\"stroke:yellow;stroke-width:4\"/><line x1=\"318.48470239149987\" y1=\"193.84696839784036\" x2=\"313.59396438783085\" y2=\"192.80740994375157\" stroke-linecap=\"round\" style=\"stroke:yellow;stroke-width:4\"/><line x1=\"313.59396438783085\" y1=\"192.80740994375157\" x2=\"308.72211406390466\" y2=\"193.9321652154709\" stroke-linecap=\"round\" style=\"stroke:yellow;stroke-width:4\"/><line x1=\"308.72211406390466\" y1=\"193.9321652154709\" x2=\"304.782060295871\" y2=\"197.01047259209918\" stroke-linecap=\"round\" style=\"stroke:yellow;stroke-width:4\"/><line x1=\"304.782060295871\" y1=\"197.01047259209918\" x2=\"302.5121077971733\" y2=\"201.465505213041\" stroke-linecap=\"round\" style=\"stroke:yellow;stroke-width:4\"/><line x1=\"302.5121077971733\" y1=\"201.465505213041\" x2=\"302.33761031366083\" y2=\"206.4624593481365\" stroke-linecap=\"round\" style=\"stroke:yellow;stroke-width:4\"/><line x1=\"302.33761031366083\" y1=\"206.4624593481365\" x2=\"304.2912659561072\" y2=\"211.0649836153987\" stroke-linecap=\"round\" style=\"stroke:yellow;stroke-width:4\"/><line x1=\"304.2912659561072\" y1=\"211.0649836153987\" x2=\"311.7227142108812\" y2=\"217.75628967898726\" stroke-linecap=\"round\" style=\"stroke:yellow;stroke-width:4\"/><line x1=\"311.7227142108812\" y1=\"217.75628967898726\" x2=\"319.8973072911325\" y2=\"225.1167263489347\" stroke-linecap=\"round\" style=\"stroke:yellow;stroke-width:4\"/><line x1=\"319.8973072911325\" y1=\"225.1167263489347\" x2=\"328.44591286715917\" y2=\"232.0392506504829\" stroke-linecap=\"round\" style=\"stroke:yellow;stroke-width:4\"/><line x1=\"328.44591286715917\" y1=\"232.0392506504829\" x2=\"337.3450998052836\" y2=\"238.5048884257001\" stroke-linecap=\"round\" style=\"stroke:yellow;stroke-width:4\"/><line x1=\"337.3450998052836\" y1=\"238.5048884257001\" x2=\"346.57047605268326\" y2=\"244.4959178108654\" stroke-linecap=\"round\" style=\"stroke:yellow;stroke-width:4\"/><line x1=\"346.57047605268326\" y1=\"244.4959178108654\" x2=\"356.0967554943121\" y2=\"249.9959178108654\" stroke-linecap=\"round\" style=\"stroke:yellow;stroke-width:4\"/><line x1=\"356.0967554943121\" y1=\"249.9959178108654\" x2=\"365.89782726038413\" y2=\"254.9898133080004\" stroke-linecap=\"round\" style=\"stroke:yellow;stroke-width:4\"/><line x1=\"365.89782726038413\" y1=\"254.9898133080004\" x2=\"370.46555454859714\" y2=\"257.02349652337944\" stroke-linecap=\"round\" style=\"stroke:yellow;stroke-width:4\"/><line x1=\"370.46555454859714\" y1=\"257.02349652337944\" x2=\"375.3170331799771\" y2=\"258.2331060013778\" stroke-linecap=\"round\" style=\"stroke:yellow;stroke-width:4\"/><line x1=\"375.3170331799771\" y1=\"258.2331060013778\" x2=\"380.30485343127623\" y2=\"258.5818883700984\" stroke-linecap=\"round\" style=\"stroke:yellow;stroke-width:4\"/><line x1=\"380.30485343127623\" y1=\"258.5818883700984\" x2=\"385.27746290811757\" y2=\"258.05924605376015\" stroke-linecap=\"round\" style=\"stroke:yellow;stroke-width:4\"/><line x1=\"385.27746290811757\" y1=\"258.05924605376015\" x2=\"390.0837713878092\" y2=\"256.68105927467514\" stroke-linecap=\"round\" style=\"stroke:yellow;stroke-width:4\"/><line x1=\"390.0837713878092\" y1=\"256.68105927467514\" x2=\"394.577741619305\" y2=\"254.48920354072973\" stroke-linecap=\"round\" style=\"stroke:yellow;stroke-width:4\"/><line x1=\"394.577741619305\" y1=\"254.48920354072973\" x2=\"406.71299653492923\" y2=\"245.67242475634262\" stroke-linecap=\"round\" style=\"stroke:yellow;stroke-width:4\"/><line x1=\"406.71299653492923\" y1=\"245.67242475634262\" x2=\"410.758081506804\" y2=\"242.73349849488025\" stroke-linecap=\"round\" style=\"stroke:yellow;stroke-width:4\"/><line x1=\"410.758081506804\" y1=\"242.73349849488025\" x2=\"414.231373359099\" y2=\"239.136799493187\" stroke-linecap=\"round\" style=\"stroke:yellow;stroke-width:4\"/><line x1=\"414.231373359099\" y1=\"239.136799493187\" x2=\"417.02733787645275\" y2=\"234.9916116304118\" stroke-linecap=\"round\" style=\"stroke:yellow;stroke-width:4\"/><line x1=\"417.02733787645275\" y1=\"234.9916116304118\" x2=\"419.0610210918317\" y2=\"230.4238843421988\" stroke-linecap=\"round\" style=\"stroke:yellow;stroke-width:4\"/><line x1=\"419.0610210918317\" y1=\"230.4238843421988\" x2=\"420.2706305698301\" y2=\"225.5724057108188\" stroke-linecap=\"round\" style=\"stroke:yellow;stroke-width:4\"/><line x1=\"420.2706305698301\" y1=\"225.5724057108188\" x2=\"420.6194129385507\" y2=\"220.58458545951967\" stroke-linecap=\"round\" style=\"stroke:yellow;stroke-width:4\"/><line x1=\"420.6194129385507\" y1=\"220.58458545951967\" x2=\"419.5741283058741\" y2=\"210.63936650583693\" stroke-linecap=\"round\" style=\"stroke:yellow;stroke-width:4\"/><line x1=\"419.5741283058741\" y1=\"210.63936650583693\" x2=\"418.42431520992994\" y2=\"199.6996256567859\" stroke-linecap=\"round\" style=\"stroke:yellow;stroke-width:4\"/><line x1=\"418.42431520992994\" y1=\"199.6996256567859\" x2=\"416.7035360944874\" y2=\"188.8350539102394\" stroke-linecap=\"round\" style=\"stroke:yellow;stroke-width:4\"/><line x1=\"416.7035360944874\" y1=\"188.8350539102394\" x2=\"414.41650749549206\" y2=\"178.07543030216755\" stroke-linecap=\"round\" style=\"stroke:yellow;stroke-width:4\"/><line x1=\"414.41650749549206\" y1=\"178.07543030216755\" x2=\"411.56949799936433\" y2=\"167.4502462129878\" stroke-linecap=\"round\" style=\"stroke:yellow;stroke-width:4\"/><line x1=\"411.56949799936433\" y1=\"167.4502462129878\" x2=\"408.1703110612399\" y2=\"156.9886245337411\" stroke-linecap=\"round\" style=\"stroke:yellow;stroke-width:4\"/><line x1=\"408.1703110612399\" y1=\"156.9886245337411\" x2=\"404.2282636162416\" y2=\"146.7192398422719\" stroke-linecap=\"round\" style=\"stroke:yellow;stroke-width:4\"/><line x1=\"404.2282636162416\" y1=\"146.7192398422719\" x2=\"402.19458040086255\" y2=\"142.15151255405888\" stroke-linecap=\"round\" style=\"stroke:yellow;stroke-width:4\"/><line x1=\"402.19458040086255\" y1=\"142.15151255405888\" x2=\"398.42103249974866\" y2=\"138.87121740910635\" stroke-linecap=\"round\" style=\"stroke:yellow;stroke-width:4\"/><line x1=\"398.42103249974866\" y1=\"138.87121740910635\" x2=\"393.61472402005705\" y2=\"137.49303063002137\" stroke-linecap=\"round\" style=\"stroke:yellow;stroke-width:4\"/><line x1=\"393.61472402005705\" y1=\"137.49303063002137\" x2=\"388.67628231708136\" y2=\"138.2752029552225\" stroke-linecap=\"round\" style=\"stroke:yellow;stroke-width:4\"/><line x1=\"388.67628231708136\" y1=\"138.2752029552225\" x2=\"384.5310944543061\" y2=\"141.07116747257624\" stroke-linecap=\"round\" style=\"stroke:yellow;stroke-width:4\"/><line x1=\"384.5310944543061\" y1=\"141.07116747257624\" x2=\"381.95590407975584\" y2=\"145.3570039760868\" stroke-linecap=\"round\" style=\"stroke:yellow;stroke-width:4\"/><line x1=\"381.95590407975584\" y1=\"145.3570039760868\" x2=\"380.9106194470793\" y2=\"155.30222292976953\" stroke-linecap=\"round\" style=\"stroke:yellow;stroke-width:4\"/><line x1=\"380.9106194470793\" y1=\"155.30222292976953\" x2=\"379.7608063511351\" y2=\"166.24196377882055\" stroke-linecap=\"round\" style=\"stroke:yellow;stroke-width:4\"/><line x1=\"379.7608063511351\" y1=\"166.24196377882055\" x2=\"379.1851108324627\" y2=\"177.22688866112085\" stroke-linecap=\"round\" style=\"stroke:yellow;stroke-width:4\"/><line x1=\"379.1851108324627\" y1=\"177.22688866112085\" x2=\"379.1851108324627\" y2=\"188.22688866112085\" stroke-linecap=\"round\" style=\"stroke:yellow;stroke-width:4\"/><line x1=\"379.1851108324627\" y1=\"188.22688866112085\" x2=\"379.7608063511351\" y2=\"199.21181354342116\" stroke-linecap=\"round\" style=\"stroke:yellow;stroke-width:4\"/><line x1=\"379.7608063511351\" y1=\"199.21181354342116\" x2=\"380.9106194470793\" y2=\"210.15155439247218\" stroke-linecap=\"round\" style=\"stroke:yellow;stroke-width:4\"/><line x1=\"380.9106194470793\" y1=\"210.15155439247218\" x2=\"382.63139856252184\" y2=\"221.0161261390187\" stroke-linecap=\"round\" style=\"stroke:yellow;stroke-width:4\"/><line x1=\"382.63139856252184\" y1=\"221.0161261390187\" x2=\"383.67095701661066\" y2=\"225.9068641426877\" stroke-linecap=\"round\" style=\"stroke:yellow;stroke-width:4\"/><line x1=\"383.67095701661066\" y1=\"225.9068641426877\" x2=\"385.5439899836902\" y2=\"230.54278341552165\" stroke-linecap=\"round\" style=\"stroke:yellow;stroke-width:4\"/><line x1=\"385.5439899836902\" y1=\"230.54278341552165\" x2=\"388.19358630485624\" y2=\"234.78302389630377\" stroke-linecap=\"round\" style=\"stroke:yellow;stroke-width:4\"/><line x1=\"388.19358630485624\" y1=\"234.78302389630377\" x2=\"391.53923933665055\" y2=\"238.49874802369075\" stroke-linecap=\"round\" style=\"stroke:yellow;stroke-width:4\"/><line x1=\"391.53923933665055\" y1=\"238.49874802369075\" x2=\"395.4792931046842\" y2=\"241.57705540031904\" stroke-linecap=\"round\" style=\"stroke:yellow;stroke-width:4\"/><line x1=\"395.4792931046842\" y1=\"241.57705540031904\" x2=\"399.89403106897885\" y2=\"243.9244132142485\" stroke-linecap=\"round\" style=\"stroke:yellow;stroke-width:4\"/><line x1=\"399.89403106897885\" y1=\"243.9244132142485\" x2=\"414.1598788134061\" y2=\"248.5596681298727\" stroke-linecap=\"round\" style=\"stroke:yellow;stroke-width:4\"/><line x1=\"414.1598788134061\" y1=\"248.5596681298727\" x2=\"418.91516139488186\" y2=\"250.10475310174743\" stroke-linecap=\"round\" style=\"stroke:yellow;stroke-width:4\"/><line x1=\"418.91516139488186\" y1=\"250.10475310174743\" x2=\"423.8665017385897\" y2=\"250.80061860654777\" stroke-linecap=\"round\" style=\"stroke:yellow;stroke-width:4\"/><line x1=\"423.8665017385897\" y1=\"250.80061860654777\" x2=\"428.8634558736852\" y2=\"250.62612112303526\" stroke-linecap=\"round\" style=\"stroke:yellow;stroke-width:4\"/><line x1=\"428.8634558736852\" y1=\"250.62612112303526\" x2=\"433.7541938773542\" y2=\"249.58656266894647\" stroke-linecap=\"round\" style=\"stroke:yellow;stroke-width:4\"/><line x1=\"433.7541938773542\" y1=\"249.58656266894647\" x2=\"438.39011315018814\" y2=\"247.71352970186692\" stroke-linecap=\"round\" style=\"stroke:yellow;stroke-width:4\"/><line x1=\"438.39011315018814\" y1=\"247.71352970186692\" x2=\"442.63035363097026\" y2=\"245.0639333807009\" stroke-linecap=\"round\" style=\"stroke:yellow;stroke-width:4\"/><line x1=\"442.63035363097026\" y1=\"245.0639333807009\" x2=\"450.0618018857442\" y2=\"238.37262731711232\" stroke-linecap=\"round\" style=\"stroke:yellow;stroke-width:4\"/><line x1=\"450.0618018857442\" y1=\"238.37262731711232\" x2=\"458.23639496599554\" y2=\"231.01219064716489\" stroke-linecap=\"round\" style=\"stroke:yellow;stroke-width:4\"/><line x1=\"458.23639496599554\" y1=\"231.01219064716489\" x2=\"466.0145695590476\" y2=\"223.23401605411286\" stroke-linecap=\"round\" style=\"stroke:yellow;stroke-width:4\"/><line x1=\"466.0145695590476\" y1=\"223.23401605411286\" x2=\"473.375006228995\" y2=\"215.05942297386153\" stroke-linecap=\"round\" style=\"stroke:yellow;stroke-width:4\"/><line x1=\"473.375006228995\" y1=\"215.05942297386153\" x2=\"480.2975305305432\" y2=\"206.51081739783484\" stroke-linecap=\"round\" style=\"stroke:yellow;stroke-width:4\"/><line x1=\"480.2975305305432\" y1=\"206.51081739783484\" x2=\"486.7631683057604\" y2=\"197.61163045971043\" stroke-linecap=\"round\" style=\"stroke:yellow;stroke-width:4\"/><line x1=\"486.7631683057604\" y1=\"197.61163045971043\" x2=\"492.7541976909257\" y2=\"188.38625421231075\" stroke-linecap=\"round\" style=\"stroke:yellow;stroke-width:4\"/><line x1=\"492.7541976909257\" y1=\"188.38625421231075\" x2=\"495.2541976909257\" y2=\"184.05612719338856\" stroke-linecap=\"round\" style=\"stroke:yellow;stroke-width:4\"/><line x1=\"495.2541976909257\" y1=\"184.05612719338856\" x2=\"495.689976404664\" y2=\"179.07515370292984\" stroke-linecap=\"round\" style=\"stroke:yellow;stroke-width:4\"/><line x1=\"495.689976404664\" y1=\"179.07515370292984\" x2=\"493.97987568803563\" y2=\"174.37669059900028\" stroke-linecap=\"round\" style=\"stroke:yellow;stroke-width:4\"/><line x1=\"493.97987568803563\" y1=\"174.37669059900028\" x2=\"490.44434178210287\" y2=\"170.84115669306755\" stroke-linecap=\"round\" style=\"stroke:yellow;stroke-width:4\"/><line x1=\"490.44434178210287\" y1=\"170.84115669306755\" x2=\"485.7458786781733\" y2=\"169.1310559764392\" stroke-linecap=\"round\" style=\"stroke:yellow;stroke-width:4\"/><line x1=\"485.7458786781733\" y1=\"169.1310559764392\" x2=\"480.7649051877146\" y2=\"169.5668346901775\" stroke-linecap=\"round\" style=\"stroke:yellow;stroke-width:4\"/><line x1=\"480.7649051877146\" y1=\"169.5668346901775\" x2=\"472.1046511498702\" y2=\"174.5668346901775\" stroke-linecap=\"round\" style=\"stroke:yellow;stroke-width:4\"/><line x1=\"472.1046511498702\" y1=\"174.5668346901775\" x2=\"462.5783717082414\" y2=\"180.0668346901775\" stroke-linecap=\"round\" style=\"stroke:yellow;stroke-width:4\"/><line x1=\"462.5783717082414\" y1=\"180.0668346901775\" x2=\"453.3529954608417\" y2=\"186.0578640753428\" stroke-linecap=\"round\" style=\"stroke:yellow;stroke-width:4\"/><line x1=\"453.3529954608417\" y1=\"186.0578640753428\" x2=\"444.4538085227173\" y2=\"192.52350185056\" stroke-linecap=\"round\" style=\"stroke:yellow;stroke-width:4\"/><line x1=\"444.4538085227173\" y1=\"192.52350185056\" x2=\"435.9052029466906\" y2=\"199.4460261521082\" stroke-linecap=\"round\" style=\"stroke:yellow;stroke-width:4\"/><line x1=\"435.9052029466906\" y1=\"199.4460261521082\" x2=\"427.7306098664393\" y2=\"206.80646282205564\" stroke-linecap=\"round\" style=\"stroke:yellow;stroke-width:4\"/><line x1=\"427.7306098664393\" y1=\"206.80646282205564\" x2=\"419.95243527338727\" y2=\"214.58463741510766\" stroke-linecap=\"round\" style=\"stroke:yellow;stroke-width:4\"/><line x1=\"419.95243527338727\" y1=\"214.58463741510766\" x2=\"416.60678224159295\" y2=\"218.30036154249464\" stroke-linecap=\"round\" style=\"stroke:yellow;stroke-width:4\"/><line x1=\"416.60678224159295\" y1=\"218.30036154249464\" x2=\"413.9571859204269\" y2=\"222.54060202327676\" stroke-linecap=\"round\" style=\"stroke:yellow;stroke-width:4\"/><line x1=\"413.9571859204269\" y1=\"222.54060202327676\" x2=\"412.08415295334737\" y2=\"227.1765212961107\" stroke-linecap=\"round\" style=\"stroke:yellow;stroke-width:4\"/><line x1=\"412.08415295334737\" y1=\"227.1765212961107\" x2=\"411.04459449925855\" y2=\"232.06725929977972\" stroke-linecap=\"round\" style=\"stroke:yellow;stroke-width:4\"/><line x1=\"411.04459449925855\" y1=\"232.06725929977972\" x2=\"410.87009701574607\" y2=\"237.0642134348752\" stroke-linecap=\"round\" style=\"stroke:yellow;stroke-width:4\"/><line x1=\"410.87009701574607\" y1=\"237.0642134348752\" x2=\"411.5659625205464\" y2=\"242.01555377858304\" stroke-linecap=\"round\" style=\"stroke:yellow;stroke-width:4\"/><line x1=\"411.5659625205464\" y1=\"242.01555377858304\" x2=\"416.2012174361706\" y2=\"256.28140152301035\" stroke-linecap=\"round\" style=\"stroke:yellow;stroke-width:4\"/><line x1=\"416.2012174361706\" y1=\"256.28140152301035\" x2=\"417.7463024080454\" y2=\"261.0366841044861\" stroke-linecap=\"round\" style=\"stroke:yellow;stroke-width:4\"/><line x1=\"417.7463024080454\" y1=\"261.0366841044861\" x2=\"420.09366022197486\" y2=\"265.45142206878074\" stroke-linecap=\"round\" style=\"stroke:yellow;stroke-width:4\"/><line x1=\"420.09366022197486\" y1=\"265.45142206878074\" x2=\"423.17196759860315\" y2=\"269.3914758368144\" stroke-linecap=\"round\" style=\"stroke:yellow;stroke-width:4\"/><line x1=\"423.17196759860315\" y1=\"269.3914758368144\" x2=\"426.8876917259901\" y2=\"272.7371288686087\" stroke-linecap=\"round\" style=\"stroke:yellow;stroke-width:4\"/><line x1=\"426.8876917259901\" y1=\"272.7371288686087\" x2=\"431.12793220677224\" y2=\"275.3867251897747\" stroke-linecap=\"round\" style=\"stroke:yellow;stroke-width:4\"/><line x1=\"431.12793220677224\" y1=\"275.3867251897747\" x2=\"435.76385147960616\" y2=\"277.2597581568543\" stroke-linecap=\"round\" style=\"stroke:yellow;stroke-width:4\"/><line x1=\"435.76385147960616\" y1=\"277.2597581568543\" x2=\"445.5453274869442\" y2=\"279.33887506503186\" stroke-linecap=\"round\" style=\"stroke:yellow;stroke-width:4\"/><line x1=\"445.5453274869442\" y1=\"279.33887506503186\" x2=\"456.30495109501607\" y2=\"281.6259036640272\" stroke-linecap=\"round\" style=\"stroke:yellow;stroke-width:4\"/><line x1=\"456.30495109501607\" y1=\"281.6259036640272\" x2=\"467.1695228415626\" y2=\"283.34668277946975\" stroke-linecap=\"round\" style=\"stroke:yellow;stroke-width:4\"/><line x1=\"467.1695228415626\" y1=\"283.34668277946975\" x2=\"478.1092636906136\" y2=\"284.4964958754139\" stroke-linecap=\"round\" style=\"stroke:yellow;stroke-width:4\"/><line x1=\"478.1092636906136\" y1=\"284.4964958754139\" x2=\"489.09418857291394\" y2=\"285.0721913940863\" stroke-linecap=\"round\" style=\"stroke:yellow;stroke-width:4\"/><line x1=\"489.09418857291394\" y1=\"285.0721913940863\" x2=\"500.09418857291394\" y2=\"285.0721913940863\" stroke-linecap=\"round\" style=\"stroke:yellow;stroke-width:4\"/><line x1=\"500.09418857291394\" y1=\"285.0721913940863\" x2=\"511.07911345521427\" y2=\"284.4964958754139\" stroke-linecap=\"round\" style=\"stroke:yellow;stroke-width:4\"/><line x1=\"511.07911345521427\" y1=\"284.4964958754139\" x2=\"516.0517229320557\" y2=\"283.9738535590757\" stroke-linecap=\"round\" style=\"stroke:yellow;stroke-width:4\"/><line x1=\"516.0517229320557\" y1=\"283.9738535590757\" x2=\"520.3375594355663\" y2=\"281.3986631845254\" stroke-linecap=\"round\" style=\"stroke:yellow;stroke-width:4\"/><line x1=\"520.3375594355663\" y1=\"281.3986631845254\" x2=\"523.13352395292\" y2=\"277.25347532175016\" stroke-linecap=\"round\" style=\"stroke:yellow;stroke-width:4\"/><line x1=\"523.13352395292\" y1=\"277.25347532175016\" x2=\"523.9156962781211\" y2=\"272.31503361877446\" stroke-linecap=\"round\" style=\"stroke:yellow;stroke-width:4\"/><line x1=\"523.9156962781211\" y1=\"272.31503361877446\" x2=\"522.5375094990361\" y2=\"267.50872513908286\" stroke-linecap=\"round\" style=\"stroke:yellow;stroke-width:4\"/><line x1=\"522.5375094990361\" y1=\"267.50872513908286\" x2=\"519.2572143540835\" y2=\"263.73517723796897\" stroke-linecap=\"round\" style=\"stroke:yellow;stroke-width:4\"/><line x1=\"519.2572143540835\" y1=\"263.73517723796897\" x2=\"510.12175977765753\" y2=\"259.66781080721097\" stroke-linecap=\"round\" style=\"stroke:yellow;stroke-width:4\"/><line x1=\"510.12175977765753\" y1=\"259.66781080721097\" x2=\"500.0727597435889\" y2=\"255.19370773337715\" stroke-linecap=\"round\" style=\"stroke:yellow;stroke-width:4\"/><line x1=\"500.0727597435889\" y1=\"255.19370773337715\" x2=\"489.8033750521197\" y2=\"251.25166028837884\" stroke-linecap=\"round\" style=\"stroke:yellow;stroke-width:4\"/><line x1=\"489.8033750521197\" y1=\"251.25166028837884\" x2=\"479.341753372873\" y2=\"247.85247335025443\" stroke-linecap=\"round\" style=\"stroke:yellow;stroke-width:4\"/><line x1=\"479.341753372873\" y1=\"247.85247335025443\" x2=\"468.7165692836932\" y2=\"245.0054638541267\" stroke-linecap=\"round\" style=\"stroke:yellow;stroke-width:4\"/><line x1=\"468.7165692836932\" y1=\"245.0054638541267\" x2=\"457.95694567562134\" y2=\"242.71843525513134\" stroke-linecap=\"round\" style=\"stroke:yellow;stroke-width:4\"/><line x1=\"457.95694567562134\" y1=\"242.71843525513134\" x2=\"447.0923739290748\" y2=\"240.99765613968881\" stroke-linecap=\"round\" style=\"stroke:yellow;stroke-width:4\"/><line x1=\"447.0923739290748\" y1=\"240.99765613968881\" x2=\"442.1197644522335\" y2=\"240.47501382335054\" stroke-linecap=\"round\" style=\"stroke:yellow;stroke-width:4\"/><line x1=\"442.1197644522335\" y1=\"240.47501382335054\" x2=\"437.13194420093436\" y2=\"240.82379619207117\" stroke-linecap=\"round\" style=\"stroke:yellow;stroke-width:4\"/><line x1=\"437.13194420093436\" y1=\"240.82379619207117\" x2=\"432.2804655695544\" y2=\"242.0334056700695\" stroke-linecap=\"round\" style=\"stroke:yellow;stroke-width:4\"/><line x1=\"432.2804655695544\" y1=\"242.0334056700695\" x2=\"427.7127382813414\" y2=\"244.0670888854485\" stroke-linecap=\"round\" style=\"stroke:yellow;stroke-width:4\"/><line x1=\"427.7127382813414\" y1=\"244.0670888854485\" x2=\"423.56755041856616\" y2=\"246.86305340280222\" stroke-linecap=\"round\" style=\"stroke:yellow;stroke-width:4\"/><line x1=\"423.56755041856616\" y1=\"246.86305340280222\" x2=\"419.9708514168729\" y2=\"250.3363452550972\" stroke-linecap=\"round\" style=\"stroke:yellow;stroke-width:4\"/><line x1=\"419.9708514168729\" y1=\"250.3363452550972\" x2=\"411.1540726324858\" y2=\"262.4716001707214\" stroke-linecap=\"round\" style=\"stroke:yellow;stroke-width:4\"/><line x1=\"411.1540726324858\" y1=\"262.4716001707214\" x2=\"408.2151463710234\" y2=\"266.51668514259615\" stroke-linecap=\"round\" style=\"stroke:yellow;stroke-width:4\"/><line x1=\"408.2151463710234\" y1=\"266.51668514259615\" x2=\"406.02329063707805\" y2=\"271.010655374092\" stroke-linecap=\"round\" style=\"stroke:yellow;stroke-width:4\"/><line x1=\"406.02329063707805\" y1=\"271.010655374092\" x2=\"404.64510385799304\" y2=\"275.8169638537836\" stroke-linecap=\"round\" style=\"stroke:yellow;stroke-width:4\"/><line x1=\"404.64510385799304\" y1=\"275.8169638537836\" x2=\"404.1224615416548\" y2=\"280.78957333062493\" stroke-linecap=\"round\" style=\"stroke:yellow;stroke-width:4\"/><line x1=\"404.1224615416548\" y1=\"280.78957333062493\" x2=\"404.4712439103754\" y2=\"285.77739358192406\" stroke-linecap=\"round\" style=\"stroke:yellow;stroke-width:4\"/><line x1=\"404.4712439103754\" y1=\"285.77739358192406\" x2=\"405.68085338837375\" y2=\"290.628872213304\" stroke-linecap=\"round\" style=\"stroke:yellow;stroke-width:4\"/><line x1=\"405.68085338837375\" y1=\"290.628872213304\" x2=\"409.74821981913175\" y2=\"299.76432678973003\" stroke-linecap=\"round\" style=\"stroke:yellow;stroke-width:4\"/><line x1=\"409.74821981913175\" y1=\"299.76432678973003\" x2=\"414.22232289296556\" y2=\"309.81332682379866\" stroke-linecap=\"round\" style=\"stroke:yellow;stroke-width:4\"/><line x1=\"414.22232289296556\" y1=\"309.81332682379866\" x2=\"419.2162183901006\" y2=\"319.6143985898707\" stroke-linecap=\"round\" style=\"stroke:yellow;stroke-width:4\"/><line x1=\"419.2162183901006\" y1=\"319.6143985898707\" x2=\"424.7162183901006\" y2=\"329.14067803149953\" stroke-linecap=\"round\" style=\"stroke:yellow;stroke-width:4\"/><line x1=\"424.7162183901006\" y1=\"329.14067803149953\" x2=\"430.7072477752659\" y2=\"338.3660542788992\" stroke-linecap=\"round\" style=\"stroke:yellow;stroke-width:4\"/><line x1=\"430.7072477752659\" y1=\"338.3660542788992\" x2=\"437.1728855504831\" y2=\"347.26524121702363\" stroke-linecap=\"round\" style=\"stroke:yellow;stroke-width:4\"/><line x1=\"437.1728855504831\" y1=\"347.26524121702363\" x2=\"444.0954098520313\" y2=\"355.8138467930503\" stroke-linecap=\"round\" style=\"stroke:yellow;stroke-width:4\"/><line x1=\"444.0954098520313\" y1=\"355.8138467930503\" x2=\"447.4410628838256\" y2=\"359.52957092043727\" stroke-linecap=\"round\" style=\"stroke:yellow;stroke-width:4\"/><line x1=\"447.4410628838256\" y1=\"359.52957092043727\" x2=\"452.0435871510878\" y2=\"361.48322656288366\" stroke-linecap=\"round\" style=\"stroke:yellow;stroke-width:4\"/><line x1=\"452.0435871510878\" y1=\"361.48322656288366\" x2=\"457.04054128618327\" y2=\"361.3087290793712\" stroke-linecap=\"round\" style=\"stroke:yellow;stroke-width:4\"/><line x1=\"457.04054128618327\" y1=\"361.3087290793712\" x2=\"461.4955739071251\" y2=\"359.0387765806734\" stroke-linecap=\"round\" style=\"stroke:yellow;stroke-width:4\"/><line x1=\"461.4955739071251\" y1=\"359.0387765806734\" x2=\"464.5738812837534\" y2=\"355.0987228126398\" stroke-linecap=\"round\" style=\"stroke:yellow;stroke-width:4\"/><line x1=\"464.5738812837534\" y1=\"355.0987228126398\" x2=\"465.6986365554727\" y2=\"350.2268724887136\" stroke-linecap=\"round\" style=\"stroke:yellow;stroke-width:4\"/><line x1=\"465.6986365554727\" y1=\"350.2268724887136\" x2=\"463.61951964729514\" y2=\"340.44539648137555\" stroke-linecap=\"round\" style=\"stroke:yellow;stroke-width:4\"/><line x1=\"463.61951964729514\" y1=\"340.44539648137555\" x2=\"461.3324910482998\" y2=\"329.6857728733037\" stroke-linecap=\"round\" style=\"stroke:yellow;stroke-width:4\"/><line x1=\"461.3324910482998\" y1=\"329.6857728733037\" x2=\"458.4854815521721\" y2=\"319.0605887841239\" stroke-linecap=\"round\" style=\"stroke:yellow;stroke-width:4\"/><line x1=\"458.4854815521721\" y1=\"319.0605887841239\" x2=\"455.08629461404763\" y2=\"308.59896710487726\" stroke-linecap=\"round\" style=\"stroke:yellow;stroke-width:4\"/><line x1=\"455.08629461404763\" y1=\"308.59896710487726\" x2=\"451.1442471690493\" y2=\"298.32958241340805\" stroke-linecap=\"round\" style=\"stroke:yellow;stroke-width:4\"/><line x1=\"451.1442471690493\" y1=\"298.32958241340805\" x2=\"446.6701440952155\" y2=\"288.2805823793394\" stroke-linecap=\"round\" style=\"stroke:yellow;stroke-width:4\"/><line x1=\"446.6701440952155\" y1=\"288.2805823793394\" x2=\"441.67624859808046\" y2=\"278.4795106132674\" stroke-linecap=\"round\" style=\"stroke:yellow;stroke-width:4\"/><line x1=\"441.67624859808046\" y1=\"278.4795106132674\" x2=\"439.17624859808046\" y2=\"274.1493835943452\" stroke-linecap=\"round\" style=\"stroke:yellow;stroke-width:4\"/><line x1=\"439.17624859808046\" y1=\"274.1493835943452\" x2=\"435.9623105496478\" y2=\"270.31916137875027\" stroke-linecap=\"round\" style=\"stroke:yellow;stroke-width:4\"/><line x1=\"435.9623105496478\" y1=\"270.31916137875027\" x2=\"432.13208833405287\" y2=\"267.1052233303176\" stroke-linecap=\"round\" style=\"stroke:yellow;stroke-width:4\"/><line x1=\"432.13208833405287\" y1=\"267.1052233303176\" x2=\"427.80196131513065\" y2=\"264.6052233303176\" stroke-linecap=\"round\" style=\"stroke:yellow;stroke-width:4\"/><line x1=\"427.80196131513065\" y1=\"264.6052233303176\" x2=\"423.1034982112011\" y2=\"262.89512261368924\" stroke-linecap=\"round\" style=\"stroke:yellow;stroke-width:4\"/><line x1=\"423.1034982112011\" y1=\"262.89512261368924\" x2=\"418.1794594461401\" y2=\"262.0268817253546\" stroke-linecap=\"round\" style=\"stroke:yellow;stroke-width:4\"/><line x1=\"418.1794594461401\" y1=\"262.0268817253546\" x2=\"403.1794594461401\" y2=\"262.0268817253546\" stroke-linecap=\"round\" style=\"stroke:yellow;stroke-width:4\"/><line x1=\"403.1794594461401\" y1=\"262.0268817253546\" x2=\"398.1794594461401\" y2=\"262.0268817253546\" stroke-linecap=\"round\" style=\"stroke:yellow;stroke-width:4\"/><line x1=\"398.1794594461401\" y1=\"262.0268817253546\" x2=\"393.25542068107904\" y2=\"262.89512261368924\" stroke-linecap=\"round\" style=\"stroke:yellow;stroke-width:4\"/><line x1=\"393.25542068107904\" y1=\"262.89512261368924\" x2=\"388.5569575771495\" y2=\"264.6052233303176\" stroke-linecap=\"round\" style=\"stroke:yellow;stroke-width:4\"/><line x1=\"388.5569575771495\" y1=\"264.6052233303176\" x2=\"384.2268305582273\" y2=\"267.1052233303176\" stroke-linecap=\"round\" style=\"stroke:yellow;stroke-width:4\"/><line x1=\"384.2268305582273\" y1=\"267.1052233303176\" x2=\"380.39660834263236\" y2=\"270.31916137875027\" stroke-linecap=\"round\" style=\"stroke:yellow;stroke-width:4\"/><line x1=\"380.39660834263236\" y1=\"270.31916137875027\" x2=\"377.1826702941997\" y2=\"274.1493835943452\" stroke-linecap=\"round\" style=\"stroke:yellow;stroke-width:4\"/><line x1=\"377.1826702941997\" y1=\"274.1493835943452\" x2=\"372.1826702941997\" y2=\"282.80963763218955\" stroke-linecap=\"round\" style=\"stroke:yellow;stroke-width:4\"/><line x1=\"372.1826702941997\" y1=\"282.80963763218955\" x2=\"366.6826702941997\" y2=\"292.3359170738184\" stroke-linecap=\"round\" style=\"stroke:yellow;stroke-width:4\"/><line x1=\"366.6826702941997\" y1=\"292.3359170738184\" x2=\"361.6887747970647\" y2=\"302.1369888398904\" stroke-linecap=\"round\" style=\"stroke:yellow;stroke-width:4\"/><line x1=\"361.6887747970647\" y1=\"302.1369888398904\" x2=\"357.2146717232309\" y2=\"312.18598887395905\" stroke-linecap=\"round\" style=\"stroke:yellow;stroke-width:4\"/><line x1=\"357.2146717232309\" y1=\"312.18598887395905\" x2=\"353.27262427823257\" y2=\"322.45537356542826\" stroke-linecap=\"round\" style=\"stroke:yellow;stroke-width:4\"/><line x1=\"353.27262427823257\" y1=\"322.45537356542826\" x2=\"349.8734373401081\" y2=\"332.9169952446749\" stroke-linecap=\"round\" style=\"stroke:yellow;stroke-width:4\"/><line x1=\"349.8734373401081\" y1=\"332.9169952446749\" x2=\"347.0264278439804\" y2=\"343.5421793338547\" stroke-linecap=\"round\" style=\"stroke:yellow;stroke-width:4\"/><line x1=\"347.0264278439804\" y1=\"343.5421793338547\" x2=\"345.9868693898916\" y2=\"348.4329173375237\" stroke-linecap=\"round\" style=\"stroke:yellow;stroke-width:4\"/><line x1=\"345.9868693898916\" y1=\"348.4329173375237\" x2=\"347.1116246616109\" y2=\"353.3047676614499\" stroke-linecap=\"round\" style=\"stroke:yellow;stroke-width:4\"/><line x1=\"347.1116246616109\" y1=\"353.3047676614499\" x2=\"350.1899320382392\" y2=\"357.2448214294835\" stroke-linecap=\"round\" style=\"stroke:yellow;stroke-width:4\"/><line x1=\"350.1899320382392\" y1=\"357.2448214294835\" x2=\"354.644964659181\" y2=\"359.5147739281813\" stroke-linecap=\"round\" style=\"stroke:yellow;stroke-width:4\"/><line x1=\"354.644964659181\" y1=\"359.5147739281813\" x2=\"359.64191879427653\" y2=\"359.68927141169377\" stroke-linecap=\"round\" style=\"stroke:yellow;stroke-width:4\"/><line x1=\"359.64191879427653\" y1=\"359.68927141169377\" x2=\"364.24444306153873\" y2=\"357.7356157692474\" stroke-linecap=\"round\" style=\"stroke:yellow;stroke-width:4\"/><line x1=\"364.24444306153873\" y1=\"357.7356157692474\" x2=\"370.9357491251273\" y2=\"350.3041675144734\" stroke-linecap=\"round\" style=\"stroke:yellow;stroke-width:4\"/><line x1=\"370.9357491251273\" y1=\"350.3041675144734\" x2=\"378.29618579507473\" y2=\"342.1295744342221\" stroke-linecap=\"round\" style=\"stroke:yellow;stroke-width:4\"/><line x1=\"378.29618579507473\" y1=\"342.1295744342221\" x2=\"385.21871009662294\" y2=\"333.58096885819543\" stroke-linecap=\"round\" style=\"stroke:yellow;stroke-width:4\"/><line x1=\"385.21871009662294\" y1=\"333.58096885819543\" x2=\"391.68434787184015\" y2=\"324.681781920071\" stroke-linecap=\"round\" style=\"stroke:yellow;stroke-width:4\"/><line x1=\"391.68434787184015\" y1=\"324.681781920071\" x2=\"397.67537725700544\" y2=\"315.45640567267134\" stroke-linecap=\"round\" style=\"stroke:yellow;stroke-width:4\"/><line x1=\"397.67537725700544\" y1=\"315.45640567267134\" x2=\"403.17537725700544\" y2=\"305.9301262310425\" stroke-linecap=\"round\" style=\"stroke:yellow;stroke-width:4\"/><line x1=\"403.17537725700544\" y1=\"305.9301262310425\" x2=\"408.1692727541404\" y2=\"296.12905446497047\" stroke-linecap=\"round\" style=\"stroke:yellow;stroke-width:4\"/><line x1=\"408.1692727541404\" y1=\"296.12905446497047\" x2=\"410.2029559695194\" y2=\"291.56132717675746\" stroke-linecap=\"round\" style=\"stroke:yellow;stroke-width:4\"/><line x1=\"410.2029559695194\" y1=\"291.56132717675746\" x2=\"411.41256544751775\" y2=\"286.7098485453775\" stroke-linecap=\"round\" style=\"stroke:yellow;stroke-width:4\"/><line x1=\"411.41256544751775\" y1=\"286.7098485453775\" x2=\"411.76134781623836\" y2=\"281.72202829407837\" stroke-linecap=\"round\" style=\"stroke:yellow;stroke-width:4\"/><line x1=\"411.76134781623836\" y1=\"281.72202829407837\" x2=\"411.2387054999001\" y2=\"276.74941881723703\" stroke-linecap=\"round\" style=\"stroke:yellow;stroke-width:4\"/><line x1=\"411.2387054999001\" y1=\"276.74941881723703\" x2=\"409.8605187208151\" y2=\"271.9431103375454\" stroke-linecap=\"round\" style=\"stroke:yellow;stroke-width:4\"/><line x1=\"409.8605187208151\" y1=\"271.9431103375454\" x2=\"407.6686629868697\" y2=\"267.4491401060496\" stroke-linecap=\"round\" style=\"stroke:yellow;stroke-width:4\"/><line x1=\"407.6686629868697\" y1=\"267.4491401060496\" x2=\"398.8518842024826\" y2=\"255.31388519042537\" stroke-linecap=\"round\" style=\"stroke:yellow;stroke-width:4\"/><line x1=\"398.8518842024826\" y1=\"255.31388519042537\" x2=\"395.91295794102024\" y2=\"251.26880021855064\" stroke-linecap=\"round\" style=\"stroke:yellow;stroke-width:4\"/><line x1=\"395.91295794102024\" y1=\"251.26880021855064\" x2=\"392.316258939327\" y2=\"247.79550836625566\" stroke-linecap=\"round\" style=\"stroke:yellow;stroke-width:4\"/><line x1=\"392.316258939327\" y1=\"247.79550836625566\" x2=\"388.17107107655175\" y2=\"244.99954384890194\" stroke-linecap=\"round\" style=\"stroke:yellow;stroke-width:4\"/><line x1=\"388.17107107655175\" y1=\"244.99954384890194\" x2=\"383.60334378833875\" y2=\"242.96586063352294\" stroke-linecap=\"round\" style=\"stroke:yellow;stroke-width:4\"/><line x1=\"383.60334378833875\" y1=\"242.96586063352294\" x2=\"378.7518651569588\" y2=\"241.7562511555246\" stroke-linecap=\"round\" style=\"stroke:yellow;stroke-width:4\"/><line x1=\"378.7518651569588\" y1=\"241.7562511555246\" x2=\"373.76404490565966\" y2=\"241.40746878680397\" stroke-linecap=\"round\" style=\"stroke:yellow;stroke-width:4\"/><line x1=\"373.76404490565966\" y1=\"241.40746878680397\" x2=\"363.8188259519769\" y2=\"242.4527534194805\" stroke-linecap=\"round\" style=\"stroke:yellow;stroke-width:4\"/><line x1=\"363.8188259519769\" y1=\"242.4527534194805\" x2=\"352.8790851029259\" y2=\"243.60256651542468\" stroke-linecap=\"round\" style=\"stroke:yellow;stroke-width:4\"/><line x1=\"352.8790851029259\" y1=\"243.60256651542468\" x2=\"342.0145133563794\" y2=\"245.32334563086724\" stroke-linecap=\"round\" style=\"stroke:yellow;stroke-width:4\"/><line x1=\"342.0145133563794\" y1=\"245.32334563086724\" x2=\"331.2548897483075\" y2=\"247.6103742298626\" stroke-linecap=\"round\" style=\"stroke:yellow;stroke-width:4\"/><line x1=\"331.2548897483075\" y1=\"247.6103742298626\" x2=\"320.62970565912775\" y2=\"250.45738372599033\" stroke-linecap=\"round\" style=\"stroke:yellow;stroke-width:4\"/><line x1=\"320.62970565912775\" y1=\"250.45738372599033\" x2=\"310.1680839798811\" y2=\"253.85657066411474\" stroke-linecap=\"round\" style=\"stroke:yellow;stroke-width:4\"/><line x1=\"310.1680839798811\" y1=\"253.85657066411474\" x2=\"299.8986992884119\" y2=\"257.798618109113\" stroke-linecap=\"round\" style=\"stroke:yellow;stroke-width:4\"/><line x1=\"299.8986992884119\" y1=\"257.798618109113\" x2=\"295.33097200019887\" y2=\"259.83230132449205\" stroke-linecap=\"round\" style=\"stroke:yellow;stroke-width:4\"/><line x1=\"295.33097200019887\" y1=\"259.83230132449205\" x2=\"292.0506768552463\" y2=\"263.60584922560594\" stroke-linecap=\"round\" style=\"stroke:yellow;stroke-width:4\"/><line x1=\"292.0506768552463\" y1=\"263.60584922560594\" x2=\"290.6724900761613\" y2=\"268.41215770529755\" stroke-linecap=\"round\" style=\"stroke:yellow;stroke-width:4\"/><line x1=\"290.6724900761613\" y1=\"268.41215770529755\" x2=\"291.45466240136244\" y2=\"273.35059940827324\" stroke-linecap=\"round\" style=\"stroke:yellow;stroke-width:4\"/><line x1=\"291.45466240136244\" y1=\"273.35059940827324\" x2=\"294.2506269187162\" y2=\"277.49578727104847\" stroke-linecap=\"round\" style=\"stroke:yellow;stroke-width:4\"/><line x1=\"294.2506269187162\" y1=\"277.49578727104847\" x2=\"298.53646342222675\" y2=\"280.07097764559876\" stroke-linecap=\"round\" style=\"stroke:yellow;stroke-width:4\"/><line x1=\"298.53646342222675\" y1=\"280.07097764559876\" x2=\"308.4816823759095\" y2=\"281.1162622782753\" stroke-linecap=\"round\" style=\"stroke:yellow;stroke-width:4\"/><line x1=\"308.4816823759095\" y1=\"281.1162622782753\" x2=\"319.4214232249605\" y2=\"282.2660753742195\" stroke-linecap=\"round\" style=\"stroke:yellow;stroke-width:4\"/><line x1=\"319.4214232249605\" y1=\"282.2660753742195\" x2=\"330.40634810726084\" y2=\"282.8417708928919\" stroke-linecap=\"round\" style=\"stroke:yellow;stroke-width:4\"/><line x1=\"330.40634810726084\" y1=\"282.8417708928919\" x2=\"341.40634810726084\" y2=\"282.8417708928919\" stroke-linecap=\"round\" style=\"stroke:yellow;stroke-width:4\"/><line x1=\"341.40634810726084\" y1=\"282.8417708928919\" x2=\"352.3912729895612\" y2=\"282.2660753742195\" stroke-linecap=\"round\" style=\"stroke:yellow;stroke-width:4\"/><line x1=\"352.3912729895612\" y1=\"282.2660753742195\" x2=\"363.3310138386122\" y2=\"281.1162622782753\" stroke-linecap=\"round\" style=\"stroke:yellow;stroke-width:4\"/><line x1=\"363.3310138386122\" y1=\"281.1162622782753\" x2=\"374.1955855851587\" y2=\"279.39548316283276\" stroke-linecap=\"round\" style=\"stroke:yellow;stroke-width:4\"/><line x1=\"374.1955855851587\" y1=\"279.39548316283276\" x2=\"379.0863235888277\" y2=\"278.35592470874394\" stroke-linecap=\"round\" style=\"stroke:yellow;stroke-width:4\"/><line x1=\"379.0863235888277\" y1=\"278.35592470874394\" x2=\"383.72224286166164\" y2=\"276.4828917416644\" stroke-linecap=\"round\" style=\"stroke:yellow;stroke-width:4\"/><line x1=\"383.72224286166164\" y1=\"276.4828917416644\" x2=\"387.96248334244376\" y2=\"273.83329542049836\" stroke-linecap=\"round\" style=\"stroke:yellow;stroke-width:4\"/><line x1=\"387.96248334244376\" y1=\"273.83329542049836\" x2=\"391.67820746983074\" y2=\"270.48764238870405\" stroke-linecap=\"round\" style=\"stroke:yellow;stroke-width:4\"/><line x1=\"391.67820746983074\" y1=\"270.48764238870405\" x2=\"394.756514846459\" y2=\"266.5475886206704\" stroke-linecap=\"round\" style=\"stroke:yellow;stroke-width:4\"/><line x1=\"394.756514846459\" y1=\"266.5475886206704\" x2=\"397.1038726603885\" y2=\"262.13285065637575\" stroke-linecap=\"round\" style=\"stroke:yellow;stroke-width:4\"/>\n",
              "        \n",
              "      <g visibility=visible transform=\"rotate(198,397.1038726603885,262.13285065637575) translate(397.1038726603885, 262.13285065637575)\">\n",
              "        <circle stroke=\"yellow\" stroke-width=\"3\" fill=\"transparent\" r=\"12\" cx=\"0\" cy=\"0\"/>\n",
              "        <polygon points=\"0,19 3,16 -3,16\" style=\"fill:yellow;stroke:yellow;stroke-width:2\"/>\n",
              "      </g>\n",
              "    \n",
              "      </svg>\n",
              "    "
            ],
            "text/plain": [
              "<IPython.core.display.HTML object>"
            ]
          },
          "metadata": {
            "tags": []
          }
        }
      ]
    },
    {
      "cell_type": "markdown",
      "metadata": {
        "id": "Xvxr7CzPCI8U"
      },
      "source": [
        "2. Escreva um conjunto apropriadamente geral de funções que podem desenhar formas como na figura:\n",
        "![shapes](https://github.com/malbouis/Python_intro/blob/master/aulas_2019/pics/shapes_turtle.png?raw=1)\n",
        "Veja mais exercícios em: http://greenteapress.com/thinkpython2/html/thinkpython2005.html#sec42\n",
        "e: http://dfnae.fis.uerj.br/twiki/bin/view/DFNAE/IntroPython#Aula_6"
      ]
    },
    {
      "cell_type": "code",
      "metadata": {
        "id": "QBCW6dfxCUUw",
        "outputId": "a1ff14d1-7b59-4ff4-df00-4728321d86d7",
        "colab": {
          "base_uri": "https://localhost:8080/",
          "height": 521
        }
      },
      "source": [
        "import math\n",
        "jd = ColabTurtle.Turtle\n",
        "jd.initializeTurtle()\n",
        "jd.color('blue')\n",
        "jd.speed(10)\n",
        "\n",
        "jd.right(60)\n",
        "jd.forward(100)\n",
        "jd.left(120)\n",
        "\n",
        "for i in range(7):\n",
        "    jd.forward(100)\n",
        "    jd.left(60)\n",
        "\n",
        "jd.left(60)\n",
        "\n",
        "for i in range(2):\n",
        "    jd.forward(200)\n",
        "    jd.right(120)\n",
        "    jd.forward(100)\n",
        "    jd.right(120)\n",
        "\n",
        "jd.forward(200)"
      ],
      "execution_count": null,
      "outputs": [
        {
          "output_type": "display_data",
          "data": {
            "text/html": [
              "\n",
              "      <svg width=\"800\" height=\"500\">\n",
              "        <rect width=\"100%\" height=\"100%\" fill=\"black\"/>\n",
              "        <line x1=\"400\" y1=\"250\" x2=\"486.60254037844385\" y2=\"199.99999999999994\" stroke-linecap=\"round\" style=\"stroke:blue;stroke-width:4\"/><line x1=\"486.60254037844385\" y1=\"199.99999999999994\" x2=\"400.0\" y2=\"149.99999999999994\" stroke-linecap=\"round\" style=\"stroke:blue;stroke-width:4\"/><line x1=\"400.0\" y1=\"149.99999999999994\" x2=\"313.3974596215561\" y2=\"199.99999999999994\" stroke-linecap=\"round\" style=\"stroke:blue;stroke-width:4\"/><line x1=\"313.3974596215561\" y1=\"199.99999999999994\" x2=\"313.3974596215561\" y2=\"299.99999999999994\" stroke-linecap=\"round\" style=\"stroke:blue;stroke-width:4\"/><line x1=\"313.3974596215561\" y1=\"299.99999999999994\" x2=\"400.0\" y2=\"349.99999999999994\" stroke-linecap=\"round\" style=\"stroke:blue;stroke-width:4\"/><line x1=\"400.0\" y1=\"349.99999999999994\" x2=\"486.60254037844385\" y2=\"299.9999999999999\" stroke-linecap=\"round\" style=\"stroke:blue;stroke-width:4\"/><line x1=\"486.60254037844385\" y1=\"299.9999999999999\" x2=\"486.60254037844385\" y2=\"199.9999999999999\" stroke-linecap=\"round\" style=\"stroke:blue;stroke-width:4\"/><line x1=\"486.60254037844385\" y1=\"199.9999999999999\" x2=\"400.0\" y2=\"149.9999999999999\" stroke-linecap=\"round\" style=\"stroke:blue;stroke-width:4\"/><line x1=\"400.0\" y1=\"149.9999999999999\" x2=\"400.0\" y2=\"349.9999999999999\" stroke-linecap=\"round\" style=\"stroke:blue;stroke-width:4\"/><line x1=\"400.0\" y1=\"349.9999999999999\" x2=\"313.39745962155615\" y2=\"299.9999999999999\" stroke-linecap=\"round\" style=\"stroke:blue;stroke-width:4\"/><line x1=\"313.39745962155615\" y1=\"299.9999999999999\" x2=\"486.6025403784438\" y2=\"199.9999999999998\" stroke-linecap=\"round\" style=\"stroke:blue;stroke-width:4\"/><line x1=\"486.6025403784438\" y1=\"199.9999999999998\" x2=\"486.6025403784438\" y2=\"299.9999999999998\" stroke-linecap=\"round\" style=\"stroke:blue;stroke-width:4\"/><line x1=\"486.6025403784438\" y1=\"299.9999999999998\" x2=\"313.3974596215561\" y2=\"199.99999999999974\" stroke-linecap=\"round\" style=\"stroke:blue;stroke-width:4\"/>\n",
              "        \n",
              "      <g visibility=visible transform=\"rotate(120,313.3974596215561,199.99999999999974) translate(313.3974596215561, 199.99999999999974)\">\n",
              "        <circle stroke=\"blue\" stroke-width=\"3\" fill=\"transparent\" r=\"12\" cx=\"0\" cy=\"0\"/>\n",
              "        <polygon points=\"0,19 3,16 -3,16\" style=\"fill:blue;stroke:blue;stroke-width:2\"/>\n",
              "      </g>\n",
              "    \n",
              "      </svg>\n",
              "    "
            ],
            "text/plain": [
              "<IPython.core.display.HTML object>"
            ]
          },
          "metadata": {
            "tags": []
          }
        }
      ]
    },
    {
      "cell_type": "markdown",
      "metadata": {
        "id": "MgCBlRSWFYZ5"
      },
      "source": [
        "3.Adicione instruções para desenhar o talo e folha da flor. Faça a refatoração apropriada para a interface da flor completa ficar \"limpa\"."
      ]
    },
    {
      "cell_type": "code",
      "metadata": {
        "id": "ieJHBRz0FffX",
        "outputId": "5a7b4f2a-4581-47d0-854a-e522d1da5590",
        "colab": {
          "base_uri": "https://localhost:8080/",
          "height": 521
        }
      },
      "source": [
        "import math\n",
        "jc = ColabTurtle.Turtle\n",
        "jc.initializeTurtle()\n",
        "jc.color('yellow')\n",
        "jc.speed(10)\n",
        "\n",
        "for i in range(6):\n",
        "        jc.forward(5)\n",
        "        jc.left(10)\n",
        "jc.forward(10)\n",
        "for i in range(6):\n",
        "        jc.forward(11)\n",
        "        jc.left(3)\n",
        "\n",
        "for i in range(6):\n",
        "        jc.forward(5)\n",
        "        jc.left(25)\n",
        "jc.forward(10)\n",
        "for i in range(6):\n",
        "        jc.forward(11)\n",
        "        jc.left(3)\n",
        "for i in range(6):\n",
        "        jc.forward(5)\n",
        "        jc.left(10)\n",
        "\n",
        "for i in range(6):\n",
        "#\n",
        "        jc.forward(15)\n",
        "#\n",
        "        for i in range(6):\n",
        "                jc.forward(5)\n",
        "                jc.left(10)\n",
        "        jc.forward(10)\n",
        "        for i in range(6):\n",
        "                jc.forward(11)\n",
        "                jc.left(3)\n",
        "\n",
        "        for i in range(6):\n",
        "                jc.forward(5)\n",
        "                jc.left(25)\n",
        "        jc.forward(10)\n",
        "        for i in range(6):\n",
        "                jc.forward(11)\n",
        "                jc.left(3)\n",
        "        for i in range(6):\n",
        "                jc.forward(5)\n",
        "                jc.left(10)\n",
        "jc.color('green')\n",
        "jc.right(160)\n",
        "jc.forward(80)\n",
        "\n",
        "for i in range(6):\n",
        "        jc.forward(5)\n",
        "        jc.left(10)\n",
        "jc.forward(10)\n",
        "for i in range(6):\n",
        "        jc.forward(11)\n",
        "        jc.left(3)\n",
        "\n",
        "for i in range(6):\n",
        "        jc.forward(5)\n",
        "        jc.left(25)\n",
        "jc.forward(10)\n",
        "for i in range(6):\n",
        "        jc.forward(11)\n",
        "        jc.left(3)\n",
        "for i in range(6):\n",
        "        jc.forward(5)\n",
        "        jc.left(10)\n",
        "\n",
        "for i in range(5):\n",
        "        jc.forward(5)\n",
        "        jc.left(10)\n",
        "jc.forward(80)\n",
        "jc.left(180)"
      ],
      "execution_count": 188,
      "outputs": [
        {
          "output_type": "display_data",
          "data": {
            "text/html": [
              "\n",
              "      <svg width=\"800\" height=\"500\">\n",
              "        <rect width=\"100%\" height=\"100%\" fill=\"black\"/>\n",
              "        <line x1=\"400\" y1=\"250\" x2=\"400.0\" y2=\"245.0\" stroke-linecap=\"round\" style=\"stroke:yellow;stroke-width:4\"/><line x1=\"400.0\" y1=\"245.0\" x2=\"399.13175911166536\" y2=\"240.07596123493897\" stroke-linecap=\"round\" style=\"stroke:yellow;stroke-width:4\"/><line x1=\"399.13175911166536\" y1=\"240.07596123493897\" x2=\"397.421658395037\" y2=\"235.37749813100942\" stroke-linecap=\"round\" style=\"stroke:yellow;stroke-width:4\"/><line x1=\"397.421658395037\" y1=\"235.37749813100942\" x2=\"394.921658395037\" y2=\"231.04737111208723\" stroke-linecap=\"round\" style=\"stroke:yellow;stroke-width:4\"/><line x1=\"394.921658395037\" y1=\"231.04737111208723\" x2=\"391.70772034660433\" y2=\"227.21714889649235\" stroke-linecap=\"round\" style=\"stroke:yellow;stroke-width:4\"/><line x1=\"391.70772034660433\" y1=\"227.21714889649235\" x2=\"387.8774981310094\" y2=\"224.00321084805964\" stroke-linecap=\"round\" style=\"stroke:yellow;stroke-width:4\"/><line x1=\"387.8774981310094\" y1=\"224.00321084805964\" x2=\"379.21724409316505\" y2=\"219.00321084805964\" stroke-linecap=\"round\" style=\"stroke:yellow;stroke-width:4\"/><line x1=\"379.21724409316505\" y1=\"219.00321084805964\" x2=\"369.6909646515362\" y2=\"213.50321084805964\" stroke-linecap=\"round\" style=\"stroke:yellow;stroke-width:4\"/><line x1=\"369.6909646515362\" y1=\"213.50321084805964\" x2=\"359.8898928854642\" y2=\"208.50931535092462\" stroke-linecap=\"round\" style=\"stroke:yellow;stroke-width:4\"/><line x1=\"359.8898928854642\" y1=\"208.50931535092462\" x2=\"349.84089285139555\" y2=\"204.0352122770908\" stroke-linecap=\"round\" style=\"stroke:yellow;stroke-width:4\"/><line x1=\"349.84089285139555\" y1=\"204.0352122770908\" x2=\"339.57150815992634\" y2=\"200.0931648320925\" stroke-linecap=\"round\" style=\"stroke:yellow;stroke-width:4\"/><line x1=\"339.57150815992634\" y1=\"200.0931648320925\" x2=\"329.1098864806796\" y2=\"196.69397789396808\" stroke-linecap=\"round\" style=\"stroke:yellow;stroke-width:4\"/><line x1=\"329.1098864806796\" y1=\"196.69397789396808\" x2=\"318.48470239149987\" y2=\"193.84696839784036\" stroke-linecap=\"round\" style=\"stroke:yellow;stroke-width:4\"/><line x1=\"318.48470239149987\" y1=\"193.84696839784036\" x2=\"313.59396438783085\" y2=\"192.80740994375157\" stroke-linecap=\"round\" style=\"stroke:yellow;stroke-width:4\"/><line x1=\"313.59396438783085\" y1=\"192.80740994375157\" x2=\"308.72211406390466\" y2=\"193.9321652154709\" stroke-linecap=\"round\" style=\"stroke:yellow;stroke-width:4\"/><line x1=\"308.72211406390466\" y1=\"193.9321652154709\" x2=\"304.782060295871\" y2=\"197.01047259209918\" stroke-linecap=\"round\" style=\"stroke:yellow;stroke-width:4\"/><line x1=\"304.782060295871\" y1=\"197.01047259209918\" x2=\"302.5121077971733\" y2=\"201.465505213041\" stroke-linecap=\"round\" style=\"stroke:yellow;stroke-width:4\"/><line x1=\"302.5121077971733\" y1=\"201.465505213041\" x2=\"302.33761031366083\" y2=\"206.4624593481365\" stroke-linecap=\"round\" style=\"stroke:yellow;stroke-width:4\"/><line x1=\"302.33761031366083\" y1=\"206.4624593481365\" x2=\"304.2912659561072\" y2=\"211.0649836153987\" stroke-linecap=\"round\" style=\"stroke:yellow;stroke-width:4\"/><line x1=\"304.2912659561072\" y1=\"211.0649836153987\" x2=\"311.7227142108812\" y2=\"217.75628967898726\" stroke-linecap=\"round\" style=\"stroke:yellow;stroke-width:4\"/><line x1=\"311.7227142108812\" y1=\"217.75628967898726\" x2=\"319.8973072911325\" y2=\"225.1167263489347\" stroke-linecap=\"round\" style=\"stroke:yellow;stroke-width:4\"/><line x1=\"319.8973072911325\" y1=\"225.1167263489347\" x2=\"328.44591286715917\" y2=\"232.0392506504829\" stroke-linecap=\"round\" style=\"stroke:yellow;stroke-width:4\"/><line x1=\"328.44591286715917\" y1=\"232.0392506504829\" x2=\"337.3450998052836\" y2=\"238.5048884257001\" stroke-linecap=\"round\" style=\"stroke:yellow;stroke-width:4\"/><line x1=\"337.3450998052836\" y1=\"238.5048884257001\" x2=\"346.57047605268326\" y2=\"244.4959178108654\" stroke-linecap=\"round\" style=\"stroke:yellow;stroke-width:4\"/><line x1=\"346.57047605268326\" y1=\"244.4959178108654\" x2=\"356.0967554943121\" y2=\"249.9959178108654\" stroke-linecap=\"round\" style=\"stroke:yellow;stroke-width:4\"/><line x1=\"356.0967554943121\" y1=\"249.9959178108654\" x2=\"365.89782726038413\" y2=\"254.9898133080004\" stroke-linecap=\"round\" style=\"stroke:yellow;stroke-width:4\"/><line x1=\"365.89782726038413\" y1=\"254.9898133080004\" x2=\"370.46555454859714\" y2=\"257.02349652337944\" stroke-linecap=\"round\" style=\"stroke:yellow;stroke-width:4\"/><line x1=\"370.46555454859714\" y1=\"257.02349652337944\" x2=\"375.3170331799771\" y2=\"258.2331060013778\" stroke-linecap=\"round\" style=\"stroke:yellow;stroke-width:4\"/><line x1=\"375.3170331799771\" y1=\"258.2331060013778\" x2=\"380.30485343127623\" y2=\"258.5818883700984\" stroke-linecap=\"round\" style=\"stroke:yellow;stroke-width:4\"/><line x1=\"380.30485343127623\" y1=\"258.5818883700984\" x2=\"385.27746290811757\" y2=\"258.05924605376015\" stroke-linecap=\"round\" style=\"stroke:yellow;stroke-width:4\"/><line x1=\"385.27746290811757\" y1=\"258.05924605376015\" x2=\"390.0837713878092\" y2=\"256.68105927467514\" stroke-linecap=\"round\" style=\"stroke:yellow;stroke-width:4\"/><line x1=\"390.0837713878092\" y1=\"256.68105927467514\" x2=\"394.577741619305\" y2=\"254.48920354072973\" stroke-linecap=\"round\" style=\"stroke:yellow;stroke-width:4\"/><line x1=\"394.577741619305\" y1=\"254.48920354072973\" x2=\"406.71299653492923\" y2=\"245.67242475634262\" stroke-linecap=\"round\" style=\"stroke:yellow;stroke-width:4\"/><line x1=\"406.71299653492923\" y1=\"245.67242475634262\" x2=\"410.758081506804\" y2=\"242.73349849488025\" stroke-linecap=\"round\" style=\"stroke:yellow;stroke-width:4\"/><line x1=\"410.758081506804\" y1=\"242.73349849488025\" x2=\"414.231373359099\" y2=\"239.136799493187\" stroke-linecap=\"round\" style=\"stroke:yellow;stroke-width:4\"/><line x1=\"414.231373359099\" y1=\"239.136799493187\" x2=\"417.02733787645275\" y2=\"234.9916116304118\" stroke-linecap=\"round\" style=\"stroke:yellow;stroke-width:4\"/><line x1=\"417.02733787645275\" y1=\"234.9916116304118\" x2=\"419.0610210918317\" y2=\"230.4238843421988\" stroke-linecap=\"round\" style=\"stroke:yellow;stroke-width:4\"/><line x1=\"419.0610210918317\" y1=\"230.4238843421988\" x2=\"420.2706305698301\" y2=\"225.5724057108188\" stroke-linecap=\"round\" style=\"stroke:yellow;stroke-width:4\"/><line x1=\"420.2706305698301\" y1=\"225.5724057108188\" x2=\"420.6194129385507\" y2=\"220.58458545951967\" stroke-linecap=\"round\" style=\"stroke:yellow;stroke-width:4\"/><line x1=\"420.6194129385507\" y1=\"220.58458545951967\" x2=\"419.5741283058741\" y2=\"210.63936650583693\" stroke-linecap=\"round\" style=\"stroke:yellow;stroke-width:4\"/><line x1=\"419.5741283058741\" y1=\"210.63936650583693\" x2=\"418.42431520992994\" y2=\"199.6996256567859\" stroke-linecap=\"round\" style=\"stroke:yellow;stroke-width:4\"/><line x1=\"418.42431520992994\" y1=\"199.6996256567859\" x2=\"416.7035360944874\" y2=\"188.8350539102394\" stroke-linecap=\"round\" style=\"stroke:yellow;stroke-width:4\"/><line x1=\"416.7035360944874\" y1=\"188.8350539102394\" x2=\"414.41650749549206\" y2=\"178.07543030216755\" stroke-linecap=\"round\" style=\"stroke:yellow;stroke-width:4\"/><line x1=\"414.41650749549206\" y1=\"178.07543030216755\" x2=\"411.56949799936433\" y2=\"167.4502462129878\" stroke-linecap=\"round\" style=\"stroke:yellow;stroke-width:4\"/><line x1=\"411.56949799936433\" y1=\"167.4502462129878\" x2=\"408.1703110612399\" y2=\"156.9886245337411\" stroke-linecap=\"round\" style=\"stroke:yellow;stroke-width:4\"/><line x1=\"408.1703110612399\" y1=\"156.9886245337411\" x2=\"404.2282636162416\" y2=\"146.7192398422719\" stroke-linecap=\"round\" style=\"stroke:yellow;stroke-width:4\"/><line x1=\"404.2282636162416\" y1=\"146.7192398422719\" x2=\"402.19458040086255\" y2=\"142.15151255405888\" stroke-linecap=\"round\" style=\"stroke:yellow;stroke-width:4\"/><line x1=\"402.19458040086255\" y1=\"142.15151255405888\" x2=\"398.42103249974866\" y2=\"138.87121740910635\" stroke-linecap=\"round\" style=\"stroke:yellow;stroke-width:4\"/><line x1=\"398.42103249974866\" y1=\"138.87121740910635\" x2=\"393.61472402005705\" y2=\"137.49303063002137\" stroke-linecap=\"round\" style=\"stroke:yellow;stroke-width:4\"/><line x1=\"393.61472402005705\" y1=\"137.49303063002137\" x2=\"388.67628231708136\" y2=\"138.2752029552225\" stroke-linecap=\"round\" style=\"stroke:yellow;stroke-width:4\"/><line x1=\"388.67628231708136\" y1=\"138.2752029552225\" x2=\"384.5310944543061\" y2=\"141.07116747257624\" stroke-linecap=\"round\" style=\"stroke:yellow;stroke-width:4\"/><line x1=\"384.5310944543061\" y1=\"141.07116747257624\" x2=\"381.95590407975584\" y2=\"145.3570039760868\" stroke-linecap=\"round\" style=\"stroke:yellow;stroke-width:4\"/><line x1=\"381.95590407975584\" y1=\"145.3570039760868\" x2=\"380.9106194470793\" y2=\"155.30222292976953\" stroke-linecap=\"round\" style=\"stroke:yellow;stroke-width:4\"/><line x1=\"380.9106194470793\" y1=\"155.30222292976953\" x2=\"379.7608063511351\" y2=\"166.24196377882055\" stroke-linecap=\"round\" style=\"stroke:yellow;stroke-width:4\"/><line x1=\"379.7608063511351\" y1=\"166.24196377882055\" x2=\"379.1851108324627\" y2=\"177.22688866112085\" stroke-linecap=\"round\" style=\"stroke:yellow;stroke-width:4\"/><line x1=\"379.1851108324627\" y1=\"177.22688866112085\" x2=\"379.1851108324627\" y2=\"188.22688866112085\" stroke-linecap=\"round\" style=\"stroke:yellow;stroke-width:4\"/><line x1=\"379.1851108324627\" y1=\"188.22688866112085\" x2=\"379.7608063511351\" y2=\"199.21181354342116\" stroke-linecap=\"round\" style=\"stroke:yellow;stroke-width:4\"/><line x1=\"379.7608063511351\" y1=\"199.21181354342116\" x2=\"380.9106194470793\" y2=\"210.15155439247218\" stroke-linecap=\"round\" style=\"stroke:yellow;stroke-width:4\"/><line x1=\"380.9106194470793\" y1=\"210.15155439247218\" x2=\"382.63139856252184\" y2=\"221.0161261390187\" stroke-linecap=\"round\" style=\"stroke:yellow;stroke-width:4\"/><line x1=\"382.63139856252184\" y1=\"221.0161261390187\" x2=\"383.67095701661066\" y2=\"225.9068641426877\" stroke-linecap=\"round\" style=\"stroke:yellow;stroke-width:4\"/><line x1=\"383.67095701661066\" y1=\"225.9068641426877\" x2=\"385.5439899836902\" y2=\"230.54278341552165\" stroke-linecap=\"round\" style=\"stroke:yellow;stroke-width:4\"/><line x1=\"385.5439899836902\" y1=\"230.54278341552165\" x2=\"388.19358630485624\" y2=\"234.78302389630377\" stroke-linecap=\"round\" style=\"stroke:yellow;stroke-width:4\"/><line x1=\"388.19358630485624\" y1=\"234.78302389630377\" x2=\"391.53923933665055\" y2=\"238.49874802369075\" stroke-linecap=\"round\" style=\"stroke:yellow;stroke-width:4\"/><line x1=\"391.53923933665055\" y1=\"238.49874802369075\" x2=\"395.4792931046842\" y2=\"241.57705540031904\" stroke-linecap=\"round\" style=\"stroke:yellow;stroke-width:4\"/><line x1=\"395.4792931046842\" y1=\"241.57705540031904\" x2=\"399.89403106897885\" y2=\"243.9244132142485\" stroke-linecap=\"round\" style=\"stroke:yellow;stroke-width:4\"/><line x1=\"399.89403106897885\" y1=\"243.9244132142485\" x2=\"414.1598788134061\" y2=\"248.5596681298727\" stroke-linecap=\"round\" style=\"stroke:yellow;stroke-width:4\"/><line x1=\"414.1598788134061\" y1=\"248.5596681298727\" x2=\"418.91516139488186\" y2=\"250.10475310174743\" stroke-linecap=\"round\" style=\"stroke:yellow;stroke-width:4\"/><line x1=\"418.91516139488186\" y1=\"250.10475310174743\" x2=\"423.8665017385897\" y2=\"250.80061860654777\" stroke-linecap=\"round\" style=\"stroke:yellow;stroke-width:4\"/><line x1=\"423.8665017385897\" y1=\"250.80061860654777\" x2=\"428.8634558736852\" y2=\"250.62612112303526\" stroke-linecap=\"round\" style=\"stroke:yellow;stroke-width:4\"/><line x1=\"428.8634558736852\" y1=\"250.62612112303526\" x2=\"433.7541938773542\" y2=\"249.58656266894647\" stroke-linecap=\"round\" style=\"stroke:yellow;stroke-width:4\"/><line x1=\"433.7541938773542\" y1=\"249.58656266894647\" x2=\"438.39011315018814\" y2=\"247.71352970186692\" stroke-linecap=\"round\" style=\"stroke:yellow;stroke-width:4\"/><line x1=\"438.39011315018814\" y1=\"247.71352970186692\" x2=\"442.63035363097026\" y2=\"245.0639333807009\" stroke-linecap=\"round\" style=\"stroke:yellow;stroke-width:4\"/><line x1=\"442.63035363097026\" y1=\"245.0639333807009\" x2=\"450.0618018857442\" y2=\"238.37262731711232\" stroke-linecap=\"round\" style=\"stroke:yellow;stroke-width:4\"/><line x1=\"450.0618018857442\" y1=\"238.37262731711232\" x2=\"458.23639496599554\" y2=\"231.01219064716489\" stroke-linecap=\"round\" style=\"stroke:yellow;stroke-width:4\"/><line x1=\"458.23639496599554\" y1=\"231.01219064716489\" x2=\"466.0145695590476\" y2=\"223.23401605411286\" stroke-linecap=\"round\" style=\"stroke:yellow;stroke-width:4\"/><line x1=\"466.0145695590476\" y1=\"223.23401605411286\" x2=\"473.375006228995\" y2=\"215.05942297386153\" stroke-linecap=\"round\" style=\"stroke:yellow;stroke-width:4\"/><line x1=\"473.375006228995\" y1=\"215.05942297386153\" x2=\"480.2975305305432\" y2=\"206.51081739783484\" stroke-linecap=\"round\" style=\"stroke:yellow;stroke-width:4\"/><line x1=\"480.2975305305432\" y1=\"206.51081739783484\" x2=\"486.7631683057604\" y2=\"197.61163045971043\" stroke-linecap=\"round\" style=\"stroke:yellow;stroke-width:4\"/><line x1=\"486.7631683057604\" y1=\"197.61163045971043\" x2=\"492.7541976909257\" y2=\"188.38625421231075\" stroke-linecap=\"round\" style=\"stroke:yellow;stroke-width:4\"/><line x1=\"492.7541976909257\" y1=\"188.38625421231075\" x2=\"495.2541976909257\" y2=\"184.05612719338856\" stroke-linecap=\"round\" style=\"stroke:yellow;stroke-width:4\"/><line x1=\"495.2541976909257\" y1=\"184.05612719338856\" x2=\"495.689976404664\" y2=\"179.07515370292984\" stroke-linecap=\"round\" style=\"stroke:yellow;stroke-width:4\"/><line x1=\"495.689976404664\" y1=\"179.07515370292984\" x2=\"493.97987568803563\" y2=\"174.37669059900028\" stroke-linecap=\"round\" style=\"stroke:yellow;stroke-width:4\"/><line x1=\"493.97987568803563\" y1=\"174.37669059900028\" x2=\"490.44434178210287\" y2=\"170.84115669306755\" stroke-linecap=\"round\" style=\"stroke:yellow;stroke-width:4\"/><line x1=\"490.44434178210287\" y1=\"170.84115669306755\" x2=\"485.7458786781733\" y2=\"169.1310559764392\" stroke-linecap=\"round\" style=\"stroke:yellow;stroke-width:4\"/><line x1=\"485.7458786781733\" y1=\"169.1310559764392\" x2=\"480.7649051877146\" y2=\"169.5668346901775\" stroke-linecap=\"round\" style=\"stroke:yellow;stroke-width:4\"/><line x1=\"480.7649051877146\" y1=\"169.5668346901775\" x2=\"472.1046511498702\" y2=\"174.5668346901775\" stroke-linecap=\"round\" style=\"stroke:yellow;stroke-width:4\"/><line x1=\"472.1046511498702\" y1=\"174.5668346901775\" x2=\"462.5783717082414\" y2=\"180.0668346901775\" stroke-linecap=\"round\" style=\"stroke:yellow;stroke-width:4\"/><line x1=\"462.5783717082414\" y1=\"180.0668346901775\" x2=\"453.3529954608417\" y2=\"186.0578640753428\" stroke-linecap=\"round\" style=\"stroke:yellow;stroke-width:4\"/><line x1=\"453.3529954608417\" y1=\"186.0578640753428\" x2=\"444.4538085227173\" y2=\"192.52350185056\" stroke-linecap=\"round\" style=\"stroke:yellow;stroke-width:4\"/><line x1=\"444.4538085227173\" y1=\"192.52350185056\" x2=\"435.9052029466906\" y2=\"199.4460261521082\" stroke-linecap=\"round\" style=\"stroke:yellow;stroke-width:4\"/><line x1=\"435.9052029466906\" y1=\"199.4460261521082\" x2=\"427.7306098664393\" y2=\"206.80646282205564\" stroke-linecap=\"round\" style=\"stroke:yellow;stroke-width:4\"/><line x1=\"427.7306098664393\" y1=\"206.80646282205564\" x2=\"419.95243527338727\" y2=\"214.58463741510766\" stroke-linecap=\"round\" style=\"stroke:yellow;stroke-width:4\"/><line x1=\"419.95243527338727\" y1=\"214.58463741510766\" x2=\"416.60678224159295\" y2=\"218.30036154249464\" stroke-linecap=\"round\" style=\"stroke:yellow;stroke-width:4\"/><line x1=\"416.60678224159295\" y1=\"218.30036154249464\" x2=\"413.9571859204269\" y2=\"222.54060202327676\" stroke-linecap=\"round\" style=\"stroke:yellow;stroke-width:4\"/><line x1=\"413.9571859204269\" y1=\"222.54060202327676\" x2=\"412.08415295334737\" y2=\"227.1765212961107\" stroke-linecap=\"round\" style=\"stroke:yellow;stroke-width:4\"/><line x1=\"412.08415295334737\" y1=\"227.1765212961107\" x2=\"411.04459449925855\" y2=\"232.06725929977972\" stroke-linecap=\"round\" style=\"stroke:yellow;stroke-width:4\"/><line x1=\"411.04459449925855\" y1=\"232.06725929977972\" x2=\"410.87009701574607\" y2=\"237.0642134348752\" stroke-linecap=\"round\" style=\"stroke:yellow;stroke-width:4\"/><line x1=\"410.87009701574607\" y1=\"237.0642134348752\" x2=\"411.5659625205464\" y2=\"242.01555377858304\" stroke-linecap=\"round\" style=\"stroke:yellow;stroke-width:4\"/><line x1=\"411.5659625205464\" y1=\"242.01555377858304\" x2=\"416.2012174361706\" y2=\"256.28140152301035\" stroke-linecap=\"round\" style=\"stroke:yellow;stroke-width:4\"/><line x1=\"416.2012174361706\" y1=\"256.28140152301035\" x2=\"417.7463024080454\" y2=\"261.0366841044861\" stroke-linecap=\"round\" style=\"stroke:yellow;stroke-width:4\"/><line x1=\"417.7463024080454\" y1=\"261.0366841044861\" x2=\"420.09366022197486\" y2=\"265.45142206878074\" stroke-linecap=\"round\" style=\"stroke:yellow;stroke-width:4\"/><line x1=\"420.09366022197486\" y1=\"265.45142206878074\" x2=\"423.17196759860315\" y2=\"269.3914758368144\" stroke-linecap=\"round\" style=\"stroke:yellow;stroke-width:4\"/><line x1=\"423.17196759860315\" y1=\"269.3914758368144\" x2=\"426.8876917259901\" y2=\"272.7371288686087\" stroke-linecap=\"round\" style=\"stroke:yellow;stroke-width:4\"/><line x1=\"426.8876917259901\" y1=\"272.7371288686087\" x2=\"431.12793220677224\" y2=\"275.3867251897747\" stroke-linecap=\"round\" style=\"stroke:yellow;stroke-width:4\"/><line x1=\"431.12793220677224\" y1=\"275.3867251897747\" x2=\"435.76385147960616\" y2=\"277.2597581568543\" stroke-linecap=\"round\" style=\"stroke:yellow;stroke-width:4\"/><line x1=\"435.76385147960616\" y1=\"277.2597581568543\" x2=\"445.5453274869442\" y2=\"279.33887506503186\" stroke-linecap=\"round\" style=\"stroke:yellow;stroke-width:4\"/><line x1=\"445.5453274869442\" y1=\"279.33887506503186\" x2=\"456.30495109501607\" y2=\"281.6259036640272\" stroke-linecap=\"round\" style=\"stroke:yellow;stroke-width:4\"/><line x1=\"456.30495109501607\" y1=\"281.6259036640272\" x2=\"467.1695228415626\" y2=\"283.34668277946975\" stroke-linecap=\"round\" style=\"stroke:yellow;stroke-width:4\"/><line x1=\"467.1695228415626\" y1=\"283.34668277946975\" x2=\"478.1092636906136\" y2=\"284.4964958754139\" stroke-linecap=\"round\" style=\"stroke:yellow;stroke-width:4\"/><line x1=\"478.1092636906136\" y1=\"284.4964958754139\" x2=\"489.09418857291394\" y2=\"285.0721913940863\" stroke-linecap=\"round\" style=\"stroke:yellow;stroke-width:4\"/><line x1=\"489.09418857291394\" y1=\"285.0721913940863\" x2=\"500.09418857291394\" y2=\"285.0721913940863\" stroke-linecap=\"round\" style=\"stroke:yellow;stroke-width:4\"/><line x1=\"500.09418857291394\" y1=\"285.0721913940863\" x2=\"511.07911345521427\" y2=\"284.4964958754139\" stroke-linecap=\"round\" style=\"stroke:yellow;stroke-width:4\"/><line x1=\"511.07911345521427\" y1=\"284.4964958754139\" x2=\"516.0517229320557\" y2=\"283.9738535590757\" stroke-linecap=\"round\" style=\"stroke:yellow;stroke-width:4\"/><line x1=\"516.0517229320557\" y1=\"283.9738535590757\" x2=\"520.3375594355663\" y2=\"281.3986631845254\" stroke-linecap=\"round\" style=\"stroke:yellow;stroke-width:4\"/><line x1=\"520.3375594355663\" y1=\"281.3986631845254\" x2=\"523.13352395292\" y2=\"277.25347532175016\" stroke-linecap=\"round\" style=\"stroke:yellow;stroke-width:4\"/><line x1=\"523.13352395292\" y1=\"277.25347532175016\" x2=\"523.9156962781211\" y2=\"272.31503361877446\" stroke-linecap=\"round\" style=\"stroke:yellow;stroke-width:4\"/><line x1=\"523.9156962781211\" y1=\"272.31503361877446\" x2=\"522.5375094990361\" y2=\"267.50872513908286\" stroke-linecap=\"round\" style=\"stroke:yellow;stroke-width:4\"/><line x1=\"522.5375094990361\" y1=\"267.50872513908286\" x2=\"519.2572143540835\" y2=\"263.73517723796897\" stroke-linecap=\"round\" style=\"stroke:yellow;stroke-width:4\"/><line x1=\"519.2572143540835\" y1=\"263.73517723796897\" x2=\"510.12175977765753\" y2=\"259.66781080721097\" stroke-linecap=\"round\" style=\"stroke:yellow;stroke-width:4\"/><line x1=\"510.12175977765753\" y1=\"259.66781080721097\" x2=\"500.0727597435889\" y2=\"255.19370773337715\" stroke-linecap=\"round\" style=\"stroke:yellow;stroke-width:4\"/><line x1=\"500.0727597435889\" y1=\"255.19370773337715\" x2=\"489.8033750521197\" y2=\"251.25166028837884\" stroke-linecap=\"round\" style=\"stroke:yellow;stroke-width:4\"/><line x1=\"489.8033750521197\" y1=\"251.25166028837884\" x2=\"479.341753372873\" y2=\"247.85247335025443\" stroke-linecap=\"round\" style=\"stroke:yellow;stroke-width:4\"/><line x1=\"479.341753372873\" y1=\"247.85247335025443\" x2=\"468.7165692836932\" y2=\"245.0054638541267\" stroke-linecap=\"round\" style=\"stroke:yellow;stroke-width:4\"/><line x1=\"468.7165692836932\" y1=\"245.0054638541267\" x2=\"457.95694567562134\" y2=\"242.71843525513134\" stroke-linecap=\"round\" style=\"stroke:yellow;stroke-width:4\"/><line x1=\"457.95694567562134\" y1=\"242.71843525513134\" x2=\"447.0923739290748\" y2=\"240.99765613968881\" stroke-linecap=\"round\" style=\"stroke:yellow;stroke-width:4\"/><line x1=\"447.0923739290748\" y1=\"240.99765613968881\" x2=\"442.1197644522335\" y2=\"240.47501382335054\" stroke-linecap=\"round\" style=\"stroke:yellow;stroke-width:4\"/><line x1=\"442.1197644522335\" y1=\"240.47501382335054\" x2=\"437.13194420093436\" y2=\"240.82379619207117\" stroke-linecap=\"round\" style=\"stroke:yellow;stroke-width:4\"/><line x1=\"437.13194420093436\" y1=\"240.82379619207117\" x2=\"432.2804655695544\" y2=\"242.0334056700695\" stroke-linecap=\"round\" style=\"stroke:yellow;stroke-width:4\"/><line x1=\"432.2804655695544\" y1=\"242.0334056700695\" x2=\"427.7127382813414\" y2=\"244.0670888854485\" stroke-linecap=\"round\" style=\"stroke:yellow;stroke-width:4\"/><line x1=\"427.7127382813414\" y1=\"244.0670888854485\" x2=\"423.56755041856616\" y2=\"246.86305340280222\" stroke-linecap=\"round\" style=\"stroke:yellow;stroke-width:4\"/><line x1=\"423.56755041856616\" y1=\"246.86305340280222\" x2=\"419.9708514168729\" y2=\"250.3363452550972\" stroke-linecap=\"round\" style=\"stroke:yellow;stroke-width:4\"/><line x1=\"419.9708514168729\" y1=\"250.3363452550972\" x2=\"411.1540726324858\" y2=\"262.4716001707214\" stroke-linecap=\"round\" style=\"stroke:yellow;stroke-width:4\"/><line x1=\"411.1540726324858\" y1=\"262.4716001707214\" x2=\"408.2151463710234\" y2=\"266.51668514259615\" stroke-linecap=\"round\" style=\"stroke:yellow;stroke-width:4\"/><line x1=\"408.2151463710234\" y1=\"266.51668514259615\" x2=\"406.02329063707805\" y2=\"271.010655374092\" stroke-linecap=\"round\" style=\"stroke:yellow;stroke-width:4\"/><line x1=\"406.02329063707805\" y1=\"271.010655374092\" x2=\"404.64510385799304\" y2=\"275.8169638537836\" stroke-linecap=\"round\" style=\"stroke:yellow;stroke-width:4\"/><line x1=\"404.64510385799304\" y1=\"275.8169638537836\" x2=\"404.1224615416548\" y2=\"280.78957333062493\" stroke-linecap=\"round\" style=\"stroke:yellow;stroke-width:4\"/><line x1=\"404.1224615416548\" y1=\"280.78957333062493\" x2=\"404.4712439103754\" y2=\"285.77739358192406\" stroke-linecap=\"round\" style=\"stroke:yellow;stroke-width:4\"/><line x1=\"404.4712439103754\" y1=\"285.77739358192406\" x2=\"405.68085338837375\" y2=\"290.628872213304\" stroke-linecap=\"round\" style=\"stroke:yellow;stroke-width:4\"/><line x1=\"405.68085338837375\" y1=\"290.628872213304\" x2=\"409.74821981913175\" y2=\"299.76432678973003\" stroke-linecap=\"round\" style=\"stroke:yellow;stroke-width:4\"/><line x1=\"409.74821981913175\" y1=\"299.76432678973003\" x2=\"414.22232289296556\" y2=\"309.81332682379866\" stroke-linecap=\"round\" style=\"stroke:yellow;stroke-width:4\"/><line x1=\"414.22232289296556\" y1=\"309.81332682379866\" x2=\"419.2162183901006\" y2=\"319.6143985898707\" stroke-linecap=\"round\" style=\"stroke:yellow;stroke-width:4\"/><line x1=\"419.2162183901006\" y1=\"319.6143985898707\" x2=\"424.7162183901006\" y2=\"329.14067803149953\" stroke-linecap=\"round\" style=\"stroke:yellow;stroke-width:4\"/><line x1=\"424.7162183901006\" y1=\"329.14067803149953\" x2=\"430.7072477752659\" y2=\"338.3660542788992\" stroke-linecap=\"round\" style=\"stroke:yellow;stroke-width:4\"/><line x1=\"430.7072477752659\" y1=\"338.3660542788992\" x2=\"437.1728855504831\" y2=\"347.26524121702363\" stroke-linecap=\"round\" style=\"stroke:yellow;stroke-width:4\"/><line x1=\"437.1728855504831\" y1=\"347.26524121702363\" x2=\"444.0954098520313\" y2=\"355.8138467930503\" stroke-linecap=\"round\" style=\"stroke:yellow;stroke-width:4\"/><line x1=\"444.0954098520313\" y1=\"355.8138467930503\" x2=\"447.4410628838256\" y2=\"359.52957092043727\" stroke-linecap=\"round\" style=\"stroke:yellow;stroke-width:4\"/><line x1=\"447.4410628838256\" y1=\"359.52957092043727\" x2=\"452.0435871510878\" y2=\"361.48322656288366\" stroke-linecap=\"round\" style=\"stroke:yellow;stroke-width:4\"/><line x1=\"452.0435871510878\" y1=\"361.48322656288366\" x2=\"457.04054128618327\" y2=\"361.3087290793712\" stroke-linecap=\"round\" style=\"stroke:yellow;stroke-width:4\"/><line x1=\"457.04054128618327\" y1=\"361.3087290793712\" x2=\"461.4955739071251\" y2=\"359.0387765806734\" stroke-linecap=\"round\" style=\"stroke:yellow;stroke-width:4\"/><line x1=\"461.4955739071251\" y1=\"359.0387765806734\" x2=\"464.5738812837534\" y2=\"355.0987228126398\" stroke-linecap=\"round\" style=\"stroke:yellow;stroke-width:4\"/><line x1=\"464.5738812837534\" y1=\"355.0987228126398\" x2=\"465.6986365554727\" y2=\"350.2268724887136\" stroke-linecap=\"round\" style=\"stroke:yellow;stroke-width:4\"/><line x1=\"465.6986365554727\" y1=\"350.2268724887136\" x2=\"463.61951964729514\" y2=\"340.44539648137555\" stroke-linecap=\"round\" style=\"stroke:yellow;stroke-width:4\"/><line x1=\"463.61951964729514\" y1=\"340.44539648137555\" x2=\"461.3324910482998\" y2=\"329.6857728733037\" stroke-linecap=\"round\" style=\"stroke:yellow;stroke-width:4\"/><line x1=\"461.3324910482998\" y1=\"329.6857728733037\" x2=\"458.4854815521721\" y2=\"319.0605887841239\" stroke-linecap=\"round\" style=\"stroke:yellow;stroke-width:4\"/><line x1=\"458.4854815521721\" y1=\"319.0605887841239\" x2=\"455.08629461404763\" y2=\"308.59896710487726\" stroke-linecap=\"round\" style=\"stroke:yellow;stroke-width:4\"/><line x1=\"455.08629461404763\" y1=\"308.59896710487726\" x2=\"451.1442471690493\" y2=\"298.32958241340805\" stroke-linecap=\"round\" style=\"stroke:yellow;stroke-width:4\"/><line x1=\"451.1442471690493\" y1=\"298.32958241340805\" x2=\"446.6701440952155\" y2=\"288.2805823793394\" stroke-linecap=\"round\" style=\"stroke:yellow;stroke-width:4\"/><line x1=\"446.6701440952155\" y1=\"288.2805823793394\" x2=\"441.67624859808046\" y2=\"278.4795106132674\" stroke-linecap=\"round\" style=\"stroke:yellow;stroke-width:4\"/><line x1=\"441.67624859808046\" y1=\"278.4795106132674\" x2=\"439.17624859808046\" y2=\"274.1493835943452\" stroke-linecap=\"round\" style=\"stroke:yellow;stroke-width:4\"/><line x1=\"439.17624859808046\" y1=\"274.1493835943452\" x2=\"435.9623105496478\" y2=\"270.31916137875027\" stroke-linecap=\"round\" style=\"stroke:yellow;stroke-width:4\"/><line x1=\"435.9623105496478\" y1=\"270.31916137875027\" x2=\"432.13208833405287\" y2=\"267.1052233303176\" stroke-linecap=\"round\" style=\"stroke:yellow;stroke-width:4\"/><line x1=\"432.13208833405287\" y1=\"267.1052233303176\" x2=\"427.80196131513065\" y2=\"264.6052233303176\" stroke-linecap=\"round\" style=\"stroke:yellow;stroke-width:4\"/><line x1=\"427.80196131513065\" y1=\"264.6052233303176\" x2=\"423.1034982112011\" y2=\"262.89512261368924\" stroke-linecap=\"round\" style=\"stroke:yellow;stroke-width:4\"/><line x1=\"423.1034982112011\" y1=\"262.89512261368924\" x2=\"418.1794594461401\" y2=\"262.0268817253546\" stroke-linecap=\"round\" style=\"stroke:yellow;stroke-width:4\"/><line x1=\"418.1794594461401\" y1=\"262.0268817253546\" x2=\"403.1794594461401\" y2=\"262.0268817253546\" stroke-linecap=\"round\" style=\"stroke:yellow;stroke-width:4\"/><line x1=\"403.1794594461401\" y1=\"262.0268817253546\" x2=\"398.1794594461401\" y2=\"262.0268817253546\" stroke-linecap=\"round\" style=\"stroke:yellow;stroke-width:4\"/><line x1=\"398.1794594461401\" y1=\"262.0268817253546\" x2=\"393.25542068107904\" y2=\"262.89512261368924\" stroke-linecap=\"round\" style=\"stroke:yellow;stroke-width:4\"/><line x1=\"393.25542068107904\" y1=\"262.89512261368924\" x2=\"388.5569575771495\" y2=\"264.6052233303176\" stroke-linecap=\"round\" style=\"stroke:yellow;stroke-width:4\"/><line x1=\"388.5569575771495\" y1=\"264.6052233303176\" x2=\"384.2268305582273\" y2=\"267.1052233303176\" stroke-linecap=\"round\" style=\"stroke:yellow;stroke-width:4\"/><line x1=\"384.2268305582273\" y1=\"267.1052233303176\" x2=\"380.39660834263236\" y2=\"270.31916137875027\" stroke-linecap=\"round\" style=\"stroke:yellow;stroke-width:4\"/><line x1=\"380.39660834263236\" y1=\"270.31916137875027\" x2=\"377.1826702941997\" y2=\"274.1493835943452\" stroke-linecap=\"round\" style=\"stroke:yellow;stroke-width:4\"/><line x1=\"377.1826702941997\" y1=\"274.1493835943452\" x2=\"372.1826702941997\" y2=\"282.80963763218955\" stroke-linecap=\"round\" style=\"stroke:yellow;stroke-width:4\"/><line x1=\"372.1826702941997\" y1=\"282.80963763218955\" x2=\"366.6826702941997\" y2=\"292.3359170738184\" stroke-linecap=\"round\" style=\"stroke:yellow;stroke-width:4\"/><line x1=\"366.6826702941997\" y1=\"292.3359170738184\" x2=\"361.6887747970647\" y2=\"302.1369888398904\" stroke-linecap=\"round\" style=\"stroke:yellow;stroke-width:4\"/><line x1=\"361.6887747970647\" y1=\"302.1369888398904\" x2=\"357.2146717232309\" y2=\"312.18598887395905\" stroke-linecap=\"round\" style=\"stroke:yellow;stroke-width:4\"/><line x1=\"357.2146717232309\" y1=\"312.18598887395905\" x2=\"353.27262427823257\" y2=\"322.45537356542826\" stroke-linecap=\"round\" style=\"stroke:yellow;stroke-width:4\"/><line x1=\"353.27262427823257\" y1=\"322.45537356542826\" x2=\"349.8734373401081\" y2=\"332.9169952446749\" stroke-linecap=\"round\" style=\"stroke:yellow;stroke-width:4\"/><line x1=\"349.8734373401081\" y1=\"332.9169952446749\" x2=\"347.0264278439804\" y2=\"343.5421793338547\" stroke-linecap=\"round\" style=\"stroke:yellow;stroke-width:4\"/><line x1=\"347.0264278439804\" y1=\"343.5421793338547\" x2=\"345.9868693898916\" y2=\"348.4329173375237\" stroke-linecap=\"round\" style=\"stroke:yellow;stroke-width:4\"/><line x1=\"345.9868693898916\" y1=\"348.4329173375237\" x2=\"347.1116246616109\" y2=\"353.3047676614499\" stroke-linecap=\"round\" style=\"stroke:yellow;stroke-width:4\"/><line x1=\"347.1116246616109\" y1=\"353.3047676614499\" x2=\"350.1899320382392\" y2=\"357.2448214294835\" stroke-linecap=\"round\" style=\"stroke:yellow;stroke-width:4\"/><line x1=\"350.1899320382392\" y1=\"357.2448214294835\" x2=\"354.644964659181\" y2=\"359.5147739281813\" stroke-linecap=\"round\" style=\"stroke:yellow;stroke-width:4\"/><line x1=\"354.644964659181\" y1=\"359.5147739281813\" x2=\"359.64191879427653\" y2=\"359.68927141169377\" stroke-linecap=\"round\" style=\"stroke:yellow;stroke-width:4\"/><line x1=\"359.64191879427653\" y1=\"359.68927141169377\" x2=\"364.24444306153873\" y2=\"357.7356157692474\" stroke-linecap=\"round\" style=\"stroke:yellow;stroke-width:4\"/><line x1=\"364.24444306153873\" y1=\"357.7356157692474\" x2=\"370.9357491251273\" y2=\"350.3041675144734\" stroke-linecap=\"round\" style=\"stroke:yellow;stroke-width:4\"/><line x1=\"370.9357491251273\" y1=\"350.3041675144734\" x2=\"378.29618579507473\" y2=\"342.1295744342221\" stroke-linecap=\"round\" style=\"stroke:yellow;stroke-width:4\"/><line x1=\"378.29618579507473\" y1=\"342.1295744342221\" x2=\"385.21871009662294\" y2=\"333.58096885819543\" stroke-linecap=\"round\" style=\"stroke:yellow;stroke-width:4\"/><line x1=\"385.21871009662294\" y1=\"333.58096885819543\" x2=\"391.68434787184015\" y2=\"324.681781920071\" stroke-linecap=\"round\" style=\"stroke:yellow;stroke-width:4\"/><line x1=\"391.68434787184015\" y1=\"324.681781920071\" x2=\"397.67537725700544\" y2=\"315.45640567267134\" stroke-linecap=\"round\" style=\"stroke:yellow;stroke-width:4\"/><line x1=\"397.67537725700544\" y1=\"315.45640567267134\" x2=\"403.17537725700544\" y2=\"305.9301262310425\" stroke-linecap=\"round\" style=\"stroke:yellow;stroke-width:4\"/><line x1=\"403.17537725700544\" y1=\"305.9301262310425\" x2=\"408.1692727541404\" y2=\"296.12905446497047\" stroke-linecap=\"round\" style=\"stroke:yellow;stroke-width:4\"/><line x1=\"408.1692727541404\" y1=\"296.12905446497047\" x2=\"410.2029559695194\" y2=\"291.56132717675746\" stroke-linecap=\"round\" style=\"stroke:yellow;stroke-width:4\"/><line x1=\"410.2029559695194\" y1=\"291.56132717675746\" x2=\"411.41256544751775\" y2=\"286.7098485453775\" stroke-linecap=\"round\" style=\"stroke:yellow;stroke-width:4\"/><line x1=\"411.41256544751775\" y1=\"286.7098485453775\" x2=\"411.76134781623836\" y2=\"281.72202829407837\" stroke-linecap=\"round\" style=\"stroke:yellow;stroke-width:4\"/><line x1=\"411.76134781623836\" y1=\"281.72202829407837\" x2=\"411.2387054999001\" y2=\"276.74941881723703\" stroke-linecap=\"round\" style=\"stroke:yellow;stroke-width:4\"/><line x1=\"411.2387054999001\" y1=\"276.74941881723703\" x2=\"409.8605187208151\" y2=\"271.9431103375454\" stroke-linecap=\"round\" style=\"stroke:yellow;stroke-width:4\"/><line x1=\"409.8605187208151\" y1=\"271.9431103375454\" x2=\"407.6686629868697\" y2=\"267.4491401060496\" stroke-linecap=\"round\" style=\"stroke:yellow;stroke-width:4\"/><line x1=\"407.6686629868697\" y1=\"267.4491401060496\" x2=\"398.8518842024826\" y2=\"255.31388519042537\" stroke-linecap=\"round\" style=\"stroke:yellow;stroke-width:4\"/><line x1=\"398.8518842024826\" y1=\"255.31388519042537\" x2=\"395.91295794102024\" y2=\"251.26880021855064\" stroke-linecap=\"round\" style=\"stroke:yellow;stroke-width:4\"/><line x1=\"395.91295794102024\" y1=\"251.26880021855064\" x2=\"392.316258939327\" y2=\"247.79550836625566\" stroke-linecap=\"round\" style=\"stroke:yellow;stroke-width:4\"/><line x1=\"392.316258939327\" y1=\"247.79550836625566\" x2=\"388.17107107655175\" y2=\"244.99954384890194\" stroke-linecap=\"round\" style=\"stroke:yellow;stroke-width:4\"/><line x1=\"388.17107107655175\" y1=\"244.99954384890194\" x2=\"383.60334378833875\" y2=\"242.96586063352294\" stroke-linecap=\"round\" style=\"stroke:yellow;stroke-width:4\"/><line x1=\"383.60334378833875\" y1=\"242.96586063352294\" x2=\"378.7518651569588\" y2=\"241.7562511555246\" stroke-linecap=\"round\" style=\"stroke:yellow;stroke-width:4\"/><line x1=\"378.7518651569588\" y1=\"241.7562511555246\" x2=\"373.76404490565966\" y2=\"241.40746878680397\" stroke-linecap=\"round\" style=\"stroke:yellow;stroke-width:4\"/><line x1=\"373.76404490565966\" y1=\"241.40746878680397\" x2=\"363.8188259519769\" y2=\"242.4527534194805\" stroke-linecap=\"round\" style=\"stroke:yellow;stroke-width:4\"/><line x1=\"363.8188259519769\" y1=\"242.4527534194805\" x2=\"352.8790851029259\" y2=\"243.60256651542468\" stroke-linecap=\"round\" style=\"stroke:yellow;stroke-width:4\"/><line x1=\"352.8790851029259\" y1=\"243.60256651542468\" x2=\"342.0145133563794\" y2=\"245.32334563086724\" stroke-linecap=\"round\" style=\"stroke:yellow;stroke-width:4\"/><line x1=\"342.0145133563794\" y1=\"245.32334563086724\" x2=\"331.2548897483075\" y2=\"247.6103742298626\" stroke-linecap=\"round\" style=\"stroke:yellow;stroke-width:4\"/><line x1=\"331.2548897483075\" y1=\"247.6103742298626\" x2=\"320.62970565912775\" y2=\"250.45738372599033\" stroke-linecap=\"round\" style=\"stroke:yellow;stroke-width:4\"/><line x1=\"320.62970565912775\" y1=\"250.45738372599033\" x2=\"310.1680839798811\" y2=\"253.85657066411474\" stroke-linecap=\"round\" style=\"stroke:yellow;stroke-width:4\"/><line x1=\"310.1680839798811\" y1=\"253.85657066411474\" x2=\"299.8986992884119\" y2=\"257.798618109113\" stroke-linecap=\"round\" style=\"stroke:yellow;stroke-width:4\"/><line x1=\"299.8986992884119\" y1=\"257.798618109113\" x2=\"295.33097200019887\" y2=\"259.83230132449205\" stroke-linecap=\"round\" style=\"stroke:yellow;stroke-width:4\"/><line x1=\"295.33097200019887\" y1=\"259.83230132449205\" x2=\"292.0506768552463\" y2=\"263.60584922560594\" stroke-linecap=\"round\" style=\"stroke:yellow;stroke-width:4\"/><line x1=\"292.0506768552463\" y1=\"263.60584922560594\" x2=\"290.6724900761613\" y2=\"268.41215770529755\" stroke-linecap=\"round\" style=\"stroke:yellow;stroke-width:4\"/><line x1=\"290.6724900761613\" y1=\"268.41215770529755\" x2=\"291.45466240136244\" y2=\"273.35059940827324\" stroke-linecap=\"round\" style=\"stroke:yellow;stroke-width:4\"/><line x1=\"291.45466240136244\" y1=\"273.35059940827324\" x2=\"294.2506269187162\" y2=\"277.49578727104847\" stroke-linecap=\"round\" style=\"stroke:yellow;stroke-width:4\"/><line x1=\"294.2506269187162\" y1=\"277.49578727104847\" x2=\"298.53646342222675\" y2=\"280.07097764559876\" stroke-linecap=\"round\" style=\"stroke:yellow;stroke-width:4\"/><line x1=\"298.53646342222675\" y1=\"280.07097764559876\" x2=\"308.4816823759095\" y2=\"281.1162622782753\" stroke-linecap=\"round\" style=\"stroke:yellow;stroke-width:4\"/><line x1=\"308.4816823759095\" y1=\"281.1162622782753\" x2=\"319.4214232249605\" y2=\"282.2660753742195\" stroke-linecap=\"round\" style=\"stroke:yellow;stroke-width:4\"/><line x1=\"319.4214232249605\" y1=\"282.2660753742195\" x2=\"330.40634810726084\" y2=\"282.8417708928919\" stroke-linecap=\"round\" style=\"stroke:yellow;stroke-width:4\"/><line x1=\"330.40634810726084\" y1=\"282.8417708928919\" x2=\"341.40634810726084\" y2=\"282.8417708928919\" stroke-linecap=\"round\" style=\"stroke:yellow;stroke-width:4\"/><line x1=\"341.40634810726084\" y1=\"282.8417708928919\" x2=\"352.3912729895612\" y2=\"282.2660753742195\" stroke-linecap=\"round\" style=\"stroke:yellow;stroke-width:4\"/><line x1=\"352.3912729895612\" y1=\"282.2660753742195\" x2=\"363.3310138386122\" y2=\"281.1162622782753\" stroke-linecap=\"round\" style=\"stroke:yellow;stroke-width:4\"/><line x1=\"363.3310138386122\" y1=\"281.1162622782753\" x2=\"374.1955855851587\" y2=\"279.39548316283276\" stroke-linecap=\"round\" style=\"stroke:yellow;stroke-width:4\"/><line x1=\"374.1955855851587\" y1=\"279.39548316283276\" x2=\"379.0863235888277\" y2=\"278.35592470874394\" stroke-linecap=\"round\" style=\"stroke:yellow;stroke-width:4\"/><line x1=\"379.0863235888277\" y1=\"278.35592470874394\" x2=\"383.72224286166164\" y2=\"276.4828917416644\" stroke-linecap=\"round\" style=\"stroke:yellow;stroke-width:4\"/><line x1=\"383.72224286166164\" y1=\"276.4828917416644\" x2=\"387.96248334244376\" y2=\"273.83329542049836\" stroke-linecap=\"round\" style=\"stroke:yellow;stroke-width:4\"/><line x1=\"387.96248334244376\" y1=\"273.83329542049836\" x2=\"391.67820746983074\" y2=\"270.48764238870405\" stroke-linecap=\"round\" style=\"stroke:yellow;stroke-width:4\"/><line x1=\"391.67820746983074\" y1=\"270.48764238870405\" x2=\"394.756514846459\" y2=\"266.5475886206704\" stroke-linecap=\"round\" style=\"stroke:yellow;stroke-width:4\"/><line x1=\"394.756514846459\" y1=\"266.5475886206704\" x2=\"397.1038726603885\" y2=\"262.13285065637575\" stroke-linecap=\"round\" style=\"stroke:yellow;stroke-width:4\"/><line x1=\"397.1038726603885\" y1=\"262.13285065637575\" x2=\"399.8958323965886\" y2=\"342.0841168179034\" stroke-linecap=\"round\" style=\"stroke:green;stroke-width:4\"/><line x1=\"399.8958323965886\" y1=\"342.0841168179034\" x2=\"400.0703298801011\" y2=\"347.08107095299886\" stroke-linecap=\"round\" style=\"stroke:green;stroke-width:4\"/><line x1=\"400.0703298801011\" y1=\"347.08107095299886\" x2=\"401.1098883341899\" y2=\"351.97180895666787\" stroke-linecap=\"round\" style=\"stroke:green;stroke-width:4\"/><line x1=\"401.1098883341899\" y1=\"351.97180895666787\" x2=\"402.98292130126947\" y2=\"356.6077282295018\" stroke-linecap=\"round\" style=\"stroke:green;stroke-width:4\"/><line x1=\"402.98292130126947\" y1=\"356.6077282295018\" x2=\"405.6325176224355\" y2=\"360.8479687102839\" stroke-linecap=\"round\" style=\"stroke:green;stroke-width:4\"/><line x1=\"405.6325176224355\" y1=\"360.8479687102839\" x2=\"408.9781706542298\" y2=\"364.5636928376709\" stroke-linecap=\"round\" style=\"stroke:green;stroke-width:4\"/><line x1=\"408.9781706542298\" y1=\"364.5636928376709\" x2=\"412.91822442226345\" y2=\"367.6420002142992\" stroke-linecap=\"round\" style=\"stroke:green;stroke-width:4\"/><line x1=\"412.91822442226345\" y1=\"367.6420002142992\" x2=\"421.7477003508527\" y2=\"372.33671584215807\" stroke-linecap=\"round\" style=\"stroke:green;stroke-width:4\"/><line x1=\"421.7477003508527\" y1=\"372.33671584215807\" x2=\"431.4601238723009\" y2=\"377.50090303280285\" stroke-linecap=\"round\" style=\"stroke:green;stroke-width:4\"/><line x1=\"431.4601238723009\" y1=\"377.50090303280285\" x2=\"441.4295095297041\" y2=\"382.14970391195055\" stroke-linecap=\"round\" style=\"stroke:green;stroke-width:4\"/><line x1=\"441.4295095297041\" y1=\"382.14970391195055\" x2=\"451.62853192993873\" y2=\"386.2703764395256\" stroke-linecap=\"round\" style=\"stroke:green;stroke-width:4\"/><line x1=\"451.62853192993873\" y1=\"386.2703764395256\" x2=\"462.0292362615312\" y2=\"389.8516261385543\" stroke-linecap=\"round\" style=\"stroke:green;stroke-width:4\"/><line x1=\"462.0292362615312\" y1=\"389.8516261385543\" x2=\"472.6031149168527\" y2=\"392.8836370525413\" stroke-linecap=\"round\" style=\"stroke:green;stroke-width:4\"/><line x1=\"472.6031149168527\" y1=\"392.8836370525413\" x2=\"483.3211856294903\" y2=\"395.3580986503238\" stroke-linecap=\"round\" style=\"stroke:green;stroke-width:4\"/><line x1=\"483.3211856294903\" y1=\"395.3580986503238\" x2=\"488.2452243945513\" y2=\"396.22633953865846\" stroke-linecap=\"round\" style=\"stroke:green;stroke-width:4\"/><line x1=\"488.2452243945513\" y1=\"396.22633953865846\" x2=\"493.0748535259967\" y2=\"394.9322443131459\" stroke-linecap=\"round\" style=\"stroke:green;stroke-width:4\"/><line x1=\"493.0748535259967\" y1=\"394.9322443131459\" x2=\"496.9050757415916\" y2=\"391.7183062647132\" stroke-linecap=\"round\" style=\"stroke:green;stroke-width:4\"/><line x1=\"496.9050757415916\" y1=\"391.7183062647132\" x2=\"499.01816705029506\" y2=\"387.18676732952997\" stroke-linecap=\"round\" style=\"stroke:green;stroke-width:4\"/><line x1=\"499.01816705029506\" y1=\"387.18676732952997\" x2=\"499.01816705029506\" y2=\"382.18676732952997\" stroke-linecap=\"round\" style=\"stroke:green;stroke-width:4\"/><line x1=\"499.01816705029506\" y1=\"382.18676732952997\" x2=\"496.9050757415916\" y2=\"377.6552283943467\" stroke-linecap=\"round\" style=\"stroke:green;stroke-width:4\"/><line x1=\"496.9050757415916\" y1=\"377.6552283943467\" x2=\"489.2446313104018\" y2=\"371.2273522974813\" stroke-linecap=\"round\" style=\"stroke:green;stroke-width:4\"/><line x1=\"489.2446313104018\" y1=\"371.2273522974813\" x2=\"480.81814243609307\" y2=\"364.1566885909293\" stroke-linecap=\"round\" style=\"stroke:green;stroke-width:4\"/><line x1=\"480.81814243609307\" y1=\"364.1566885909293\" x2=\"472.0331518255729\" y2=\"357.5367233362568\" stroke-linecap=\"round\" style=\"stroke:green;stroke-width:4\"/><line x1=\"472.0331518255729\" y1=\"357.5367233362568\" x2=\"462.9137385274674\" y2=\"351.38560139807856\" stroke-linecap=\"round\" style=\"stroke:green;stroke-width:4\"/><line x1=\"462.9137385274674\" y1=\"351.38560139807856\" x2=\"453.48489821974414\" y2=\"345.72018257406796\" stroke-linecap=\"round\" style=\"stroke:green;stroke-width:4\"/><line x1=\"453.48489821974414\" y1=\"345.72018257406796\" x2=\"443.7724746982959\" y2=\"340.5559953834232\" stroke-linecap=\"round\" style=\"stroke:green;stroke-width:4\"/><line x1=\"443.7724746982959\" y1=\"340.5559953834232\" x2=\"433.80308904089276\" y2=\"335.9071945042755\" stroke-linecap=\"round\" style=\"stroke:green;stroke-width:4\"/><line x1=\"433.80308904089276\" y1=\"335.9071945042755\" x2=\"429.16716976805884\" y2=\"334.0341615371959\" stroke-linecap=\"round\" style=\"stroke:green;stroke-width:4\"/><line x1=\"429.16716976805884\" y1=\"334.0341615371959\" x2=\"424.2764317643898\" y2=\"332.9946030831071\" stroke-linecap=\"round\" style=\"stroke:green;stroke-width:4\"/><line x1=\"424.2764317643898\" y1=\"332.9946030831071\" x2=\"419.2794776292943\" y2=\"332.8201055995946\" stroke-linecap=\"round\" style=\"stroke:green;stroke-width:4\"/><line x1=\"419.2794776292943\" y1=\"332.8201055995946\" x2=\"414.3281372855865\" y2=\"333.51597110439496\" stroke-linecap=\"round\" style=\"stroke:green;stroke-width:4\"/><line x1=\"414.3281372855865\" y1=\"333.51597110439496\" x2=\"409.57285470411074\" y2=\"335.0610560762697\" stroke-linecap=\"round\" style=\"stroke:green;stroke-width:4\"/><line x1=\"409.57285470411074\" y1=\"335.0610560762697\" x2=\"405.1581167398161\" y2=\"337.4084138901992\" stroke-linecap=\"round\" style=\"stroke:green;stroke-width:4\"/><line x1=\"405.1581167398161\" y1=\"337.4084138901992\" x2=\"401.21806297178244\" y2=\"340.4867212668275\" stroke-linecap=\"round\" style=\"stroke:green;stroke-width:4\"/><line x1=\"401.21806297178244\" y1=\"340.4867212668275\" x2=\"397.87240993998813\" y2=\"344.20244539421446\" stroke-linecap=\"round\" style=\"stroke:green;stroke-width:4\"/><line x1=\"397.87240993998813\" y1=\"344.20244539421446\" x2=\"395.2228136188221\" y2=\"348.4426858749966\" stroke-linecap=\"round\" style=\"stroke:green;stroke-width:4\"/><line x1=\"395.2228136188221\" y1=\"348.4426858749966\" x2=\"393.34978065174255\" y2=\"353.0786051478305\" stroke-linecap=\"round\" style=\"stroke:green;stroke-width:4\"/><line x1=\"393.34978065174255\" y1=\"353.0786051478305\" x2=\"392.31022219765373\" y2=\"357.9693431514995\" stroke-linecap=\"round\" style=\"stroke:green;stroke-width:4\"/><line x1=\"392.31022219765373\" y1=\"357.9693431514995\" x2=\"389.5182624614537\" y2=\"437.92060931302717\" stroke-linecap=\"round\" style=\"stroke:green;stroke-width:4\"/>\n",
              "        \n",
              "      <g visibility=visible transform=\"rotate(182,389.5182624614537,437.92060931302717) translate(389.5182624614537, 437.92060931302717)\">\n",
              "        <circle stroke=\"green\" stroke-width=\"3\" fill=\"transparent\" r=\"12\" cx=\"0\" cy=\"0\"/>\n",
              "        <polygon points=\"0,19 3,16 -3,16\" style=\"fill:green;stroke:green;stroke-width:2\"/>\n",
              "      </g>\n",
              "    \n",
              "      </svg>\n",
              "    "
            ],
            "text/plain": [
              "<IPython.core.display.HTML object>"
            ]
          },
          "metadata": {
            "tags": []
          }
        }
      ]
    },
    {
      "cell_type": "code",
      "metadata": {
        "id": "wFbuAy91h9Qn"
      },
      "source": [
        "def folha():\n",
        "    for i in range(6):\n",
        "        jc.forward(5)\n",
        "        jc.left(10)\n",
        "    jc.forward(10)\n",
        "    for i in range(6):\n",
        "        jc.forward(11)\n",
        "        jc.left(3)\n",
        "\n",
        "    for i in range(6):\n",
        "        jc.forward(5)\n",
        "        jc.left(25)\n",
        "    jc.forward(10)\n",
        "    for i in range(6):\n",
        "        jc.forward(11)\n",
        "        jc.left(3)\n",
        "    for i in range(6):\n",
        "        jc.forward(5)\n",
        "        jc.left(10)\n",
        "\n",
        "def flor():\n",
        "    for i in range(7):\n",
        "      folha()"
      ],
      "execution_count": 211,
      "outputs": []
    },
    {
      "cell_type": "code",
      "metadata": {
        "id": "ztYjlw3tnxTQ",
        "outputId": "f11b342d-4efe-448b-9a6b-6a536a2bd9e7",
        "colab": {
          "base_uri": "https://localhost:8080/",
          "height": 521
        }
      },
      "source": [
        "jc = ColabTurtle.Turtle\n",
        "jc.initializeTurtle()\n",
        "jc.color('yellow')\n",
        "jc.speed(10)\n",
        "\n",
        "flor()\n",
        "jc.color('green')\n",
        "jc.right(160)\n",
        "jc.forward(80)\n",
        "folha()\n",
        "for i in range(5):\n",
        "        jc.forward(5)\n",
        "        jc.left(10)\n",
        "jc.forward(80)\n",
        "jc.left(180)"
      ],
      "execution_count": 212,
      "outputs": [
        {
          "output_type": "display_data",
          "data": {
            "text/html": [
              "\n",
              "      <svg width=\"800\" height=\"500\">\n",
              "        <rect width=\"100%\" height=\"100%\" fill=\"black\"/>\n",
              "        <line x1=\"400\" y1=\"250\" x2=\"400.0\" y2=\"245.0\" stroke-linecap=\"round\" style=\"stroke:yellow;stroke-width:4\"/><line x1=\"400.0\" y1=\"245.0\" x2=\"399.13175911166536\" y2=\"240.07596123493897\" stroke-linecap=\"round\" style=\"stroke:yellow;stroke-width:4\"/><line x1=\"399.13175911166536\" y1=\"240.07596123493897\" x2=\"397.421658395037\" y2=\"235.37749813100942\" stroke-linecap=\"round\" style=\"stroke:yellow;stroke-width:4\"/><line x1=\"397.421658395037\" y1=\"235.37749813100942\" x2=\"394.921658395037\" y2=\"231.04737111208723\" stroke-linecap=\"round\" style=\"stroke:yellow;stroke-width:4\"/><line x1=\"394.921658395037\" y1=\"231.04737111208723\" x2=\"391.70772034660433\" y2=\"227.21714889649235\" stroke-linecap=\"round\" style=\"stroke:yellow;stroke-width:4\"/><line x1=\"391.70772034660433\" y1=\"227.21714889649235\" x2=\"387.8774981310094\" y2=\"224.00321084805964\" stroke-linecap=\"round\" style=\"stroke:yellow;stroke-width:4\"/><line x1=\"387.8774981310094\" y1=\"224.00321084805964\" x2=\"379.21724409316505\" y2=\"219.00321084805964\" stroke-linecap=\"round\" style=\"stroke:yellow;stroke-width:4\"/><line x1=\"379.21724409316505\" y1=\"219.00321084805964\" x2=\"369.6909646515362\" y2=\"213.50321084805964\" stroke-linecap=\"round\" style=\"stroke:yellow;stroke-width:4\"/><line x1=\"369.6909646515362\" y1=\"213.50321084805964\" x2=\"359.8898928854642\" y2=\"208.50931535092462\" stroke-linecap=\"round\" style=\"stroke:yellow;stroke-width:4\"/><line x1=\"359.8898928854642\" y1=\"208.50931535092462\" x2=\"349.84089285139555\" y2=\"204.0352122770908\" stroke-linecap=\"round\" style=\"stroke:yellow;stroke-width:4\"/><line x1=\"349.84089285139555\" y1=\"204.0352122770908\" x2=\"339.57150815992634\" y2=\"200.0931648320925\" stroke-linecap=\"round\" style=\"stroke:yellow;stroke-width:4\"/><line x1=\"339.57150815992634\" y1=\"200.0931648320925\" x2=\"329.1098864806796\" y2=\"196.69397789396808\" stroke-linecap=\"round\" style=\"stroke:yellow;stroke-width:4\"/><line x1=\"329.1098864806796\" y1=\"196.69397789396808\" x2=\"318.48470239149987\" y2=\"193.84696839784036\" stroke-linecap=\"round\" style=\"stroke:yellow;stroke-width:4\"/><line x1=\"318.48470239149987\" y1=\"193.84696839784036\" x2=\"313.59396438783085\" y2=\"192.80740994375157\" stroke-linecap=\"round\" style=\"stroke:yellow;stroke-width:4\"/><line x1=\"313.59396438783085\" y1=\"192.80740994375157\" x2=\"308.72211406390466\" y2=\"193.9321652154709\" stroke-linecap=\"round\" style=\"stroke:yellow;stroke-width:4\"/><line x1=\"308.72211406390466\" y1=\"193.9321652154709\" x2=\"304.782060295871\" y2=\"197.01047259209918\" stroke-linecap=\"round\" style=\"stroke:yellow;stroke-width:4\"/><line x1=\"304.782060295871\" y1=\"197.01047259209918\" x2=\"302.5121077971733\" y2=\"201.465505213041\" stroke-linecap=\"round\" style=\"stroke:yellow;stroke-width:4\"/><line x1=\"302.5121077971733\" y1=\"201.465505213041\" x2=\"302.33761031366083\" y2=\"206.4624593481365\" stroke-linecap=\"round\" style=\"stroke:yellow;stroke-width:4\"/><line x1=\"302.33761031366083\" y1=\"206.4624593481365\" x2=\"304.2912659561072\" y2=\"211.0649836153987\" stroke-linecap=\"round\" style=\"stroke:yellow;stroke-width:4\"/><line x1=\"304.2912659561072\" y1=\"211.0649836153987\" x2=\"311.7227142108812\" y2=\"217.75628967898726\" stroke-linecap=\"round\" style=\"stroke:yellow;stroke-width:4\"/><line x1=\"311.7227142108812\" y1=\"217.75628967898726\" x2=\"319.8973072911325\" y2=\"225.1167263489347\" stroke-linecap=\"round\" style=\"stroke:yellow;stroke-width:4\"/><line x1=\"319.8973072911325\" y1=\"225.1167263489347\" x2=\"328.44591286715917\" y2=\"232.0392506504829\" stroke-linecap=\"round\" style=\"stroke:yellow;stroke-width:4\"/><line x1=\"328.44591286715917\" y1=\"232.0392506504829\" x2=\"337.3450998052836\" y2=\"238.5048884257001\" stroke-linecap=\"round\" style=\"stroke:yellow;stroke-width:4\"/><line x1=\"337.3450998052836\" y1=\"238.5048884257001\" x2=\"346.57047605268326\" y2=\"244.4959178108654\" stroke-linecap=\"round\" style=\"stroke:yellow;stroke-width:4\"/><line x1=\"346.57047605268326\" y1=\"244.4959178108654\" x2=\"356.0967554943121\" y2=\"249.9959178108654\" stroke-linecap=\"round\" style=\"stroke:yellow;stroke-width:4\"/><line x1=\"356.0967554943121\" y1=\"249.9959178108654\" x2=\"365.89782726038413\" y2=\"254.9898133080004\" stroke-linecap=\"round\" style=\"stroke:yellow;stroke-width:4\"/><line x1=\"365.89782726038413\" y1=\"254.9898133080004\" x2=\"370.46555454859714\" y2=\"257.02349652337944\" stroke-linecap=\"round\" style=\"stroke:yellow;stroke-width:4\"/><line x1=\"370.46555454859714\" y1=\"257.02349652337944\" x2=\"375.3170331799771\" y2=\"258.2331060013778\" stroke-linecap=\"round\" style=\"stroke:yellow;stroke-width:4\"/><line x1=\"375.3170331799771\" y1=\"258.2331060013778\" x2=\"380.30485343127623\" y2=\"258.5818883700984\" stroke-linecap=\"round\" style=\"stroke:yellow;stroke-width:4\"/><line x1=\"380.30485343127623\" y1=\"258.5818883700984\" x2=\"385.27746290811757\" y2=\"258.05924605376015\" stroke-linecap=\"round\" style=\"stroke:yellow;stroke-width:4\"/><line x1=\"385.27746290811757\" y1=\"258.05924605376015\" x2=\"390.0837713878092\" y2=\"256.68105927467514\" stroke-linecap=\"round\" style=\"stroke:yellow;stroke-width:4\"/><line x1=\"390.0837713878092\" y1=\"256.68105927467514\" x2=\"394.577741619305\" y2=\"254.48920354072973\" stroke-linecap=\"round\" style=\"stroke:yellow;stroke-width:4\"/><line x1=\"394.577741619305\" y1=\"254.48920354072973\" x2=\"398.6228265911798\" y2=\"251.55027727926736\" stroke-linecap=\"round\" style=\"stroke:yellow;stroke-width:4\"/><line x1=\"398.6228265911798\" y1=\"251.55027727926736\" x2=\"402.0961184434748\" y2=\"247.9535782775741\" stroke-linecap=\"round\" style=\"stroke:yellow;stroke-width:4\"/><line x1=\"402.0961184434748\" y1=\"247.9535782775741\" x2=\"404.89208296082853\" y2=\"243.8083904147989\" stroke-linecap=\"round\" style=\"stroke:yellow;stroke-width:4\"/><line x1=\"404.89208296082853\" y1=\"243.8083904147989\" x2=\"406.9257661762075\" y2=\"239.2406631265859\" stroke-linecap=\"round\" style=\"stroke:yellow;stroke-width:4\"/><line x1=\"406.9257661762075\" y1=\"239.2406631265859\" x2=\"408.13537565420586\" y2=\"234.3891844952059\" stroke-linecap=\"round\" style=\"stroke:yellow;stroke-width:4\"/><line x1=\"408.13537565420586\" y1=\"234.3891844952059\" x2=\"408.48415802292647\" y2=\"229.40136424390678\" stroke-linecap=\"round\" style=\"stroke:yellow;stroke-width:4\"/><line x1=\"408.48415802292647\" y1=\"229.40136424390678\" x2=\"407.4388733902499\" y2=\"219.45614529022404\" stroke-linecap=\"round\" style=\"stroke:yellow;stroke-width:4\"/><line x1=\"407.4388733902499\" y1=\"219.45614529022404\" x2=\"406.2890602943057\" y2=\"208.51640444117302\" stroke-linecap=\"round\" style=\"stroke:yellow;stroke-width:4\"/><line x1=\"406.2890602943057\" y1=\"208.51640444117302\" x2=\"404.5682811788632\" y2=\"197.6518326946265\" stroke-linecap=\"round\" style=\"stroke:yellow;stroke-width:4\"/><line x1=\"404.5682811788632\" y1=\"197.6518326946265\" x2=\"402.28125257986784\" y2=\"186.89220908655466\" stroke-linecap=\"round\" style=\"stroke:yellow;stroke-width:4\"/><line x1=\"402.28125257986784\" y1=\"186.89220908655466\" x2=\"399.4342430837401\" y2=\"176.2670249973749\" stroke-linecap=\"round\" style=\"stroke:yellow;stroke-width:4\"/><line x1=\"399.4342430837401\" y1=\"176.2670249973749\" x2=\"396.03505614561567\" y2=\"165.8054033181282\" stroke-linecap=\"round\" style=\"stroke:yellow;stroke-width:4\"/><line x1=\"396.03505614561567\" y1=\"165.8054033181282\" x2=\"392.09300870061736\" y2=\"155.536018626659\" stroke-linecap=\"round\" style=\"stroke:yellow;stroke-width:4\"/><line x1=\"392.09300870061736\" y1=\"155.536018626659\" x2=\"390.05932548523833\" y2=\"150.968291338446\" stroke-linecap=\"round\" style=\"stroke:yellow;stroke-width:4\"/><line x1=\"390.05932548523833\" y1=\"150.968291338446\" x2=\"386.28577758412445\" y2=\"147.68799619349346\" stroke-linecap=\"round\" style=\"stroke:yellow;stroke-width:4\"/><line x1=\"386.28577758412445\" y1=\"147.68799619349346\" x2=\"381.47946910443284\" y2=\"146.30980941440848\" stroke-linecap=\"round\" style=\"stroke:yellow;stroke-width:4\"/><line x1=\"381.47946910443284\" y1=\"146.30980941440848\" x2=\"376.54102740145714\" y2=\"147.09198173960962\" stroke-linecap=\"round\" style=\"stroke:yellow;stroke-width:4\"/><line x1=\"376.54102740145714\" y1=\"147.09198173960962\" x2=\"372.3958395386819\" y2=\"149.88794625696335\" stroke-linecap=\"round\" style=\"stroke:yellow;stroke-width:4\"/><line x1=\"372.3958395386819\" y1=\"149.88794625696335\" x2=\"369.8206491641316\" y2=\"154.1737827604739\" stroke-linecap=\"round\" style=\"stroke:yellow;stroke-width:4\"/><line x1=\"369.8206491641316\" y1=\"154.1737827604739\" x2=\"368.77536453145507\" y2=\"164.11900171415664\" stroke-linecap=\"round\" style=\"stroke:yellow;stroke-width:4\"/><line x1=\"368.77536453145507\" y1=\"164.11900171415664\" x2=\"367.6255514355109\" y2=\"175.05874256320766\" stroke-linecap=\"round\" style=\"stroke:yellow;stroke-width:4\"/><line x1=\"367.6255514355109\" y1=\"175.05874256320766\" x2=\"367.0498559168385\" y2=\"186.04366744550796\" stroke-linecap=\"round\" style=\"stroke:yellow;stroke-width:4\"/><line x1=\"367.0498559168385\" y1=\"186.04366744550796\" x2=\"367.0498559168385\" y2=\"197.04366744550796\" stroke-linecap=\"round\" style=\"stroke:yellow;stroke-width:4\"/><line x1=\"367.0498559168385\" y1=\"197.04366744550796\" x2=\"367.6255514355109\" y2=\"208.02859232780827\" stroke-linecap=\"round\" style=\"stroke:yellow;stroke-width:4\"/><line x1=\"367.6255514355109\" y1=\"208.02859232780827\" x2=\"368.77536453145507\" y2=\"218.9683331768593\" stroke-linecap=\"round\" style=\"stroke:yellow;stroke-width:4\"/><line x1=\"368.77536453145507\" y1=\"218.9683331768593\" x2=\"370.4961436468976\" y2=\"229.8329049234058\" stroke-linecap=\"round\" style=\"stroke:yellow;stroke-width:4\"/><line x1=\"370.4961436468976\" y1=\"229.8329049234058\" x2=\"371.53570210098644\" y2=\"234.72364292707482\" stroke-linecap=\"round\" style=\"stroke:yellow;stroke-width:4\"/><line x1=\"371.53570210098644\" y1=\"234.72364292707482\" x2=\"373.408735068066\" y2=\"239.35956219990877\" stroke-linecap=\"round\" style=\"stroke:yellow;stroke-width:4\"/><line x1=\"373.408735068066\" y1=\"239.35956219990877\" x2=\"376.058331389232\" y2=\"243.59980268069089\" stroke-linecap=\"round\" style=\"stroke:yellow;stroke-width:4\"/><line x1=\"376.058331389232\" y1=\"243.59980268069089\" x2=\"379.40398442102634\" y2=\"247.31552680807786\" stroke-linecap=\"round\" style=\"stroke:yellow;stroke-width:4\"/><line x1=\"379.40398442102634\" y1=\"247.31552680807786\" x2=\"383.34403818906\" y2=\"250.39383418470615\" stroke-linecap=\"round\" style=\"stroke:yellow;stroke-width:4\"/><line x1=\"383.34403818906\" y1=\"250.39383418470615\" x2=\"387.75877615335463\" y2=\"252.7411919986356\" stroke-linecap=\"round\" style=\"stroke:yellow;stroke-width:4\"/><line x1=\"387.75877615335463\" y1=\"252.7411919986356\" x2=\"392.51405873483037\" y2=\"254.28627697051033\" stroke-linecap=\"round\" style=\"stroke:yellow;stroke-width:4\"/><line x1=\"392.51405873483037\" y1=\"254.28627697051033\" x2=\"397.4653990785382\" y2=\"254.98214247531067\" stroke-linecap=\"round\" style=\"stroke:yellow;stroke-width:4\"/><line x1=\"397.4653990785382\" y1=\"254.98214247531067\" x2=\"402.4623532136337\" y2=\"254.80764499179816\" stroke-linecap=\"round\" style=\"stroke:yellow;stroke-width:4\"/><line x1=\"402.4623532136337\" y1=\"254.80764499179816\" x2=\"407.35309121730273\" y2=\"253.76808653770937\" stroke-linecap=\"round\" style=\"stroke:yellow;stroke-width:4\"/><line x1=\"407.35309121730273\" y1=\"253.76808653770937\" x2=\"411.98901049013665\" y2=\"251.8950535706298\" stroke-linecap=\"round\" style=\"stroke:yellow;stroke-width:4\"/><line x1=\"411.98901049013665\" y1=\"251.8950535706298\" x2=\"416.22925097091877\" y2=\"249.24545724946378\" stroke-linecap=\"round\" style=\"stroke:yellow;stroke-width:4\"/><line x1=\"416.22925097091877\" y1=\"249.24545724946378\" x2=\"423.6606992256927\" y2=\"242.5541511858752\" stroke-linecap=\"round\" style=\"stroke:yellow;stroke-width:4\"/><line x1=\"423.6606992256927\" y1=\"242.5541511858752\" x2=\"431.83529230594405\" y2=\"235.19371451592778\" stroke-linecap=\"round\" style=\"stroke:yellow;stroke-width:4\"/><line x1=\"431.83529230594405\" y1=\"235.19371451592778\" x2=\"439.6134668989961\" y2=\"227.41553992287575\" stroke-linecap=\"round\" style=\"stroke:yellow;stroke-width:4\"/><line x1=\"439.6134668989961\" y1=\"227.41553992287575\" x2=\"446.9739035689435\" y2=\"219.24094684262442\" stroke-linecap=\"round\" style=\"stroke:yellow;stroke-width:4\"/><line x1=\"446.9739035689435\" y1=\"219.24094684262442\" x2=\"453.8964278704917\" y2=\"210.69234126659774\" stroke-linecap=\"round\" style=\"stroke:yellow;stroke-width:4\"/><line x1=\"453.8964278704917\" y1=\"210.69234126659774\" x2=\"460.3620656457089\" y2=\"201.79315432847332\" stroke-linecap=\"round\" style=\"stroke:yellow;stroke-width:4\"/><line x1=\"460.3620656457089\" y1=\"201.79315432847332\" x2=\"466.3530950308742\" y2=\"192.56777808107364\" stroke-linecap=\"round\" style=\"stroke:yellow;stroke-width:4\"/><line x1=\"466.3530950308742\" y1=\"192.56777808107364\" x2=\"468.8530950308742\" y2=\"188.23765106215146\" stroke-linecap=\"round\" style=\"stroke:yellow;stroke-width:4\"/><line x1=\"468.8530950308742\" y1=\"188.23765106215146\" x2=\"469.2888737446125\" y2=\"183.25667757169273\" stroke-linecap=\"round\" style=\"stroke:yellow;stroke-width:4\"/><line x1=\"469.2888737446125\" y1=\"183.25667757169273\" x2=\"467.57877302798414\" y2=\"178.55821446776318\" stroke-linecap=\"round\" style=\"stroke:yellow;stroke-width:4\"/><line x1=\"467.57877302798414\" y1=\"178.55821446776318\" x2=\"464.0432391220514\" y2=\"175.02268056183044\" stroke-linecap=\"round\" style=\"stroke:yellow;stroke-width:4\"/><line x1=\"464.0432391220514\" y1=\"175.02268056183044\" x2=\"459.3447760181218\" y2=\"173.3125798452021\" stroke-linecap=\"round\" style=\"stroke:yellow;stroke-width:4\"/><line x1=\"459.3447760181218\" y1=\"173.3125798452021\" x2=\"454.3638025276631\" y2=\"173.7483585589404\" stroke-linecap=\"round\" style=\"stroke:yellow;stroke-width:4\"/><line x1=\"454.3638025276631\" y1=\"173.7483585589404\" x2=\"445.70354848981873\" y2=\"178.7483585589404\" stroke-linecap=\"round\" style=\"stroke:yellow;stroke-width:4\"/><line x1=\"445.70354848981873\" y1=\"178.7483585589404\" x2=\"436.1772690481899\" y2=\"184.2483585589404\" stroke-linecap=\"round\" style=\"stroke:yellow;stroke-width:4\"/><line x1=\"436.1772690481899\" y1=\"184.2483585589404\" x2=\"426.95189280079023\" y2=\"190.2393879441057\" stroke-linecap=\"round\" style=\"stroke:yellow;stroke-width:4\"/><line x1=\"426.95189280079023\" y1=\"190.2393879441057\" x2=\"418.0527058626658\" y2=\"196.7050257193229\" stroke-linecap=\"round\" style=\"stroke:yellow;stroke-width:4\"/><line x1=\"418.0527058626658\" y1=\"196.7050257193229\" x2=\"409.50410028663913\" y2=\"203.6275500208711\" stroke-linecap=\"round\" style=\"stroke:yellow;stroke-width:4\"/><line x1=\"409.50410028663913\" y1=\"203.6275500208711\" x2=\"401.3295072063878\" y2=\"210.98798669081853\" stroke-linecap=\"round\" style=\"stroke:yellow;stroke-width:4\"/><line x1=\"401.3295072063878\" y1=\"210.98798669081853\" x2=\"393.5513326133358\" y2=\"218.76616128387056\" stroke-linecap=\"round\" style=\"stroke:yellow;stroke-width:4\"/><line x1=\"393.5513326133358\" y1=\"218.76616128387056\" x2=\"390.20567958154146\" y2=\"222.48188541125754\" stroke-linecap=\"round\" style=\"stroke:yellow;stroke-width:4\"/><line x1=\"390.20567958154146\" y1=\"222.48188541125754\" x2=\"387.55608326037543\" y2=\"226.72212589203966\" stroke-linecap=\"round\" style=\"stroke:yellow;stroke-width:4\"/><line x1=\"387.55608326037543\" y1=\"226.72212589203966\" x2=\"385.6830502932959\" y2=\"231.3580451648736\" stroke-linecap=\"round\" style=\"stroke:yellow;stroke-width:4\"/><line x1=\"385.6830502932959\" y1=\"231.3580451648736\" x2=\"384.64349183920706\" y2=\"236.24878316854262\" stroke-linecap=\"round\" style=\"stroke:yellow;stroke-width:4\"/><line x1=\"384.64349183920706\" y1=\"236.24878316854262\" x2=\"384.4689943556946\" y2=\"241.2457373036381\" stroke-linecap=\"round\" style=\"stroke:yellow;stroke-width:4\"/><line x1=\"384.4689943556946\" y1=\"241.2457373036381\" x2=\"385.1648598604949\" y2=\"246.19707764734594\" stroke-linecap=\"round\" style=\"stroke:yellow;stroke-width:4\"/><line x1=\"385.1648598604949\" y1=\"246.19707764734594\" x2=\"386.7099448323697\" y2=\"250.9523602288217\" stroke-linecap=\"round\" style=\"stroke:yellow;stroke-width:4\"/><line x1=\"386.7099448323697\" y1=\"250.9523602288217\" x2=\"389.05730264629915\" y2=\"255.36709819311633\" stroke-linecap=\"round\" style=\"stroke:yellow;stroke-width:4\"/><line x1=\"389.05730264629915\" y1=\"255.36709819311633\" x2=\"392.13561002292744\" y2=\"259.30715196114994\" stroke-linecap=\"round\" style=\"stroke:yellow;stroke-width:4\"/><line x1=\"392.13561002292744\" y1=\"259.30715196114994\" x2=\"395.8513341503144\" y2=\"262.65280499294425\" stroke-linecap=\"round\" style=\"stroke:yellow;stroke-width:4\"/><line x1=\"395.8513341503144\" y1=\"262.65280499294425\" x2=\"400.09157463109653\" y2=\"265.3024013141103\" stroke-linecap=\"round\" style=\"stroke:yellow;stroke-width:4\"/><line x1=\"400.09157463109653\" y1=\"265.3024013141103\" x2=\"404.72749390393045\" y2=\"267.17543428118984\" stroke-linecap=\"round\" style=\"stroke:yellow;stroke-width:4\"/><line x1=\"404.72749390393045\" y1=\"267.17543428118984\" x2=\"414.50896991126854\" y2=\"269.2545511893674\" stroke-linecap=\"round\" style=\"stroke:yellow;stroke-width:4\"/><line x1=\"414.50896991126854\" y1=\"269.2545511893674\" x2=\"425.2685935193404\" y2=\"271.54157978836275\" stroke-linecap=\"round\" style=\"stroke:yellow;stroke-width:4\"/><line x1=\"425.2685935193404\" y1=\"271.54157978836275\" x2=\"436.13316526588693\" y2=\"273.2623589038053\" stroke-linecap=\"round\" style=\"stroke:yellow;stroke-width:4\"/><line x1=\"436.13316526588693\" y1=\"273.2623589038053\" x2=\"447.07290611493795\" y2=\"274.4121719997495\" stroke-linecap=\"round\" style=\"stroke:yellow;stroke-width:4\"/><line x1=\"447.07290611493795\" y1=\"274.4121719997495\" x2=\"458.0578309972383\" y2=\"274.98786751842187\" stroke-linecap=\"round\" style=\"stroke:yellow;stroke-width:4\"/><line x1=\"458.0578309972383\" y1=\"274.98786751842187\" x2=\"469.0578309972383\" y2=\"274.98786751842187\" stroke-linecap=\"round\" style=\"stroke:yellow;stroke-width:4\"/><line x1=\"469.0578309972383\" y1=\"274.98786751842187\" x2=\"480.0427558795386\" y2=\"274.4121719997495\" stroke-linecap=\"round\" style=\"stroke:yellow;stroke-width:4\"/><line x1=\"480.0427558795386\" y1=\"274.4121719997495\" x2=\"485.01536535637996\" y2=\"273.88952968341124\" stroke-linecap=\"round\" style=\"stroke:yellow;stroke-width:4\"/><line x1=\"485.01536535637996\" y1=\"273.88952968341124\" x2=\"489.3012018598905\" y2=\"271.31433930886095\" stroke-linecap=\"round\" style=\"stroke:yellow;stroke-width:4\"/><line x1=\"489.3012018598905\" y1=\"271.31433930886095\" x2=\"492.09716637724426\" y2=\"267.1691514460857\" stroke-linecap=\"round\" style=\"stroke:yellow;stroke-width:4\"/><line x1=\"492.09716637724426\" y1=\"267.1691514460857\" x2=\"492.8793387024454\" y2=\"262.23070974311\" stroke-linecap=\"round\" style=\"stroke:yellow;stroke-width:4\"/><line x1=\"492.8793387024454\" y1=\"262.23070974311\" x2=\"491.5011519233604\" y2=\"257.4244012634184\" stroke-linecap=\"round\" style=\"stroke:yellow;stroke-width:4\"/><line x1=\"491.5011519233604\" y1=\"257.4244012634184\" x2=\"488.22085677840784\" y2=\"253.65085336230456\" stroke-linecap=\"round\" style=\"stroke:yellow;stroke-width:4\"/><line x1=\"488.22085677840784\" y1=\"253.65085336230456\" x2=\"479.0854022019818\" y2=\"249.58348693154656\" stroke-linecap=\"round\" style=\"stroke:yellow;stroke-width:4\"/><line x1=\"479.0854022019818\" y1=\"249.58348693154656\" x2=\"469.0364021679132\" y2=\"245.10938385771277\" stroke-linecap=\"round\" style=\"stroke:yellow;stroke-width:4\"/><line x1=\"469.0364021679132\" y1=\"245.10938385771277\" x2=\"458.767017476444\" y2=\"241.16733641271446\" stroke-linecap=\"round\" style=\"stroke:yellow;stroke-width:4\"/><line x1=\"458.767017476444\" y1=\"241.16733641271446\" x2=\"448.3053957971973\" y2=\"237.76814947459005\" stroke-linecap=\"round\" style=\"stroke:yellow;stroke-width:4\"/><line x1=\"448.3053957971973\" y1=\"237.76814947459005\" x2=\"437.68021170801757\" y2=\"234.92113997846232\" stroke-linecap=\"round\" style=\"stroke:yellow;stroke-width:4\"/><line x1=\"437.68021170801757\" y1=\"234.92113997846232\" x2=\"426.9205880999457\" y2=\"232.63411137946696\" stroke-linecap=\"round\" style=\"stroke:yellow;stroke-width:4\"/><line x1=\"426.9205880999457\" y1=\"232.63411137946696\" x2=\"416.0560163533992\" y2=\"230.91333226402443\" stroke-linecap=\"round\" style=\"stroke:yellow;stroke-width:4\"/><line x1=\"416.0560163533992\" y1=\"230.91333226402443\" x2=\"411.08340687655783\" y2=\"230.39068994768616\" stroke-linecap=\"round\" style=\"stroke:yellow;stroke-width:4\"/><line x1=\"411.08340687655783\" y1=\"230.39068994768616\" x2=\"406.0955866252587\" y2=\"230.7394723164068\" stroke-linecap=\"round\" style=\"stroke:yellow;stroke-width:4\"/><line x1=\"406.0955866252587\" y1=\"230.7394723164068\" x2=\"401.24410799387874\" y2=\"231.94908179440512\" stroke-linecap=\"round\" style=\"stroke:yellow;stroke-width:4\"/><line x1=\"401.24410799387874\" y1=\"231.94908179440512\" x2=\"396.67638070566574\" y2=\"233.98276500978412\" stroke-linecap=\"round\" style=\"stroke:yellow;stroke-width:4\"/><line x1=\"396.67638070566574\" y1=\"233.98276500978412\" x2=\"392.5311928428905\" y2=\"236.77872952713784\" stroke-linecap=\"round\" style=\"stroke:yellow;stroke-width:4\"/><line x1=\"392.5311928428905\" y1=\"236.77872952713784\" x2=\"388.93449384119725\" y2=\"240.25202137943282\" stroke-linecap=\"round\" style=\"stroke:yellow;stroke-width:4\"/><line x1=\"388.93449384119725\" y1=\"240.25202137943282\" x2=\"385.9955675797349\" y2=\"244.29710635130755\" stroke-linecap=\"round\" style=\"stroke:yellow;stroke-width:4\"/><line x1=\"385.9955675797349\" y1=\"244.29710635130755\" x2=\"383.8037118457895\" y2=\"248.79107658280338\" stroke-linecap=\"round\" style=\"stroke:yellow;stroke-width:4\"/><line x1=\"383.8037118457895\" y1=\"248.79107658280338\" x2=\"382.4255250667045\" y2=\"253.597385062495\" stroke-linecap=\"round\" style=\"stroke:yellow;stroke-width:4\"/><line x1=\"382.4255250667045\" y1=\"253.597385062495\" x2=\"381.90288275036625\" y2=\"258.56999453933634\" stroke-linecap=\"round\" style=\"stroke:yellow;stroke-width:4\"/><line x1=\"381.90288275036625\" y1=\"258.56999453933634\" x2=\"382.25166511908685\" y2=\"263.55781479063546\" stroke-linecap=\"round\" style=\"stroke:yellow;stroke-width:4\"/><line x1=\"382.25166511908685\" y1=\"263.55781479063546\" x2=\"383.4612745970852\" y2=\"268.4092934220154\" stroke-linecap=\"round\" style=\"stroke:yellow;stroke-width:4\"/><line x1=\"383.4612745970852\" y1=\"268.4092934220154\" x2=\"387.5286410278432\" y2=\"277.54474799844144\" stroke-linecap=\"round\" style=\"stroke:yellow;stroke-width:4\"/><line x1=\"387.5286410278432\" y1=\"277.54474799844144\" x2=\"392.002744101677\" y2=\"287.59374803251006\" stroke-linecap=\"round\" style=\"stroke:yellow;stroke-width:4\"/><line x1=\"392.002744101677\" y1=\"287.59374803251006\" x2=\"396.99663959881207\" y2=\"297.3948197985821\" stroke-linecap=\"round\" style=\"stroke:yellow;stroke-width:4\"/><line x1=\"396.99663959881207\" y1=\"297.3948197985821\" x2=\"402.49663959881207\" y2=\"306.92109924021094\" stroke-linecap=\"round\" style=\"stroke:yellow;stroke-width:4\"/><line x1=\"402.49663959881207\" y1=\"306.92109924021094\" x2=\"408.48766898397736\" y2=\"316.1464754876106\" stroke-linecap=\"round\" style=\"stroke:yellow;stroke-width:4\"/><line x1=\"408.48766898397736\" y1=\"316.1464754876106\" x2=\"414.95330675919456\" y2=\"325.04566242573503\" stroke-linecap=\"round\" style=\"stroke:yellow;stroke-width:4\"/><line x1=\"414.95330675919456\" y1=\"325.04566242573503\" x2=\"421.87583106074277\" y2=\"333.5942680017617\" stroke-linecap=\"round\" style=\"stroke:yellow;stroke-width:4\"/><line x1=\"421.87583106074277\" y1=\"333.5942680017617\" x2=\"425.2214840925371\" y2=\"337.30999212914867\" stroke-linecap=\"round\" style=\"stroke:yellow;stroke-width:4\"/><line x1=\"425.2214840925371\" y1=\"337.30999212914867\" x2=\"429.8240083597993\" y2=\"339.26364777159506\" stroke-linecap=\"round\" style=\"stroke:yellow;stroke-width:4\"/><line x1=\"429.8240083597993\" y1=\"339.26364777159506\" x2=\"434.82096249489473\" y2=\"339.0891502880826\" stroke-linecap=\"round\" style=\"stroke:yellow;stroke-width:4\"/><line x1=\"434.82096249489473\" y1=\"339.0891502880826\" x2=\"439.27599511583657\" y2=\"336.8191977893848\" stroke-linecap=\"round\" style=\"stroke:yellow;stroke-width:4\"/><line x1=\"439.27599511583657\" y1=\"336.8191977893848\" x2=\"442.35430249246485\" y2=\"332.8791440213512\" stroke-linecap=\"round\" style=\"stroke:yellow;stroke-width:4\"/><line x1=\"442.35430249246485\" y1=\"332.8791440213512\" x2=\"443.4790577641842\" y2=\"328.007293697425\" stroke-linecap=\"round\" style=\"stroke:yellow;stroke-width:4\"/><line x1=\"443.4790577641842\" y1=\"328.007293697425\" x2=\"441.3999408560066\" y2=\"318.22581769008696\" stroke-linecap=\"round\" style=\"stroke:yellow;stroke-width:4\"/><line x1=\"441.3999408560066\" y1=\"318.22581769008696\" x2=\"439.11291225701126\" y2=\"307.4661940820151\" stroke-linecap=\"round\" style=\"stroke:yellow;stroke-width:4\"/><line x1=\"439.11291225701126\" y1=\"307.4661940820151\" x2=\"436.26590276088353\" y2=\"296.8410099928353\" stroke-linecap=\"round\" style=\"stroke:yellow;stroke-width:4\"/><line x1=\"436.26590276088353\" y1=\"296.8410099928353\" x2=\"432.8667158227591\" y2=\"286.37938831358866\" stroke-linecap=\"round\" style=\"stroke:yellow;stroke-width:4\"/><line x1=\"432.8667158227591\" y1=\"286.37938831358866\" x2=\"428.9246683777608\" y2=\"276.11000362211945\" stroke-linecap=\"round\" style=\"stroke:yellow;stroke-width:4\"/><line x1=\"428.9246683777608\" y1=\"276.11000362211945\" x2=\"424.45056530392696\" y2=\"266.0610035880508\" stroke-linecap=\"round\" style=\"stroke:yellow;stroke-width:4\"/><line x1=\"424.45056530392696\" y1=\"266.0610035880508\" x2=\"419.4566698067919\" y2=\"256.2599318219788\" stroke-linecap=\"round\" style=\"stroke:yellow;stroke-width:4\"/><line x1=\"419.4566698067919\" y1=\"256.2599318219788\" x2=\"416.9566698067919\" y2=\"251.9298048030566\" stroke-linecap=\"round\" style=\"stroke:yellow;stroke-width:4\"/><line x1=\"416.9566698067919\" y1=\"251.9298048030566\" x2=\"413.74273175835924\" y2=\"248.09958258746173\" stroke-linecap=\"round\" style=\"stroke:yellow;stroke-width:4\"/><line x1=\"413.74273175835924\" y1=\"248.09958258746173\" x2=\"409.9125095427643\" y2=\"244.88564453902902\" stroke-linecap=\"round\" style=\"stroke:yellow;stroke-width:4\"/><line x1=\"409.9125095427643\" y1=\"244.88564453902902\" x2=\"405.5823825238421\" y2=\"242.38564453902902\" stroke-linecap=\"round\" style=\"stroke:yellow;stroke-width:4\"/><line x1=\"405.5823825238421\" y1=\"242.38564453902902\" x2=\"400.88391941991256\" y2=\"240.67554382240067\" stroke-linecap=\"round\" style=\"stroke:yellow;stroke-width:4\"/><line x1=\"400.88391941991256\" y1=\"240.67554382240067\" x2=\"395.95988065485153\" y2=\"239.80730293406603\" stroke-linecap=\"round\" style=\"stroke:yellow;stroke-width:4\"/><line x1=\"395.95988065485153\" y1=\"239.80730293406603\" x2=\"390.95988065485153\" y2=\"239.80730293406603\" stroke-linecap=\"round\" style=\"stroke:yellow;stroke-width:4\"/><line x1=\"390.95988065485153\" y1=\"239.80730293406603\" x2=\"386.0358418897905\" y2=\"240.67554382240067\" stroke-linecap=\"round\" style=\"stroke:yellow;stroke-width:4\"/><line x1=\"386.0358418897905\" y1=\"240.67554382240067\" x2=\"381.33737878586095\" y2=\"242.38564453902902\" stroke-linecap=\"round\" style=\"stroke:yellow;stroke-width:4\"/><line x1=\"381.33737878586095\" y1=\"242.38564453902902\" x2=\"377.00725176693874\" y2=\"244.88564453902902\" stroke-linecap=\"round\" style=\"stroke:yellow;stroke-width:4\"/><line x1=\"377.00725176693874\" y1=\"244.88564453902902\" x2=\"373.1770295513438\" y2=\"248.09958258746173\" stroke-linecap=\"round\" style=\"stroke:yellow;stroke-width:4\"/><line x1=\"373.1770295513438\" y1=\"248.09958258746173\" x2=\"369.96309150291114\" y2=\"251.9298048030566\" stroke-linecap=\"round\" style=\"stroke:yellow;stroke-width:4\"/><line x1=\"369.96309150291114\" y1=\"251.9298048030566\" x2=\"364.96309150291114\" y2=\"260.590058840901\" stroke-linecap=\"round\" style=\"stroke:yellow;stroke-width:4\"/><line x1=\"364.96309150291114\" y1=\"260.590058840901\" x2=\"359.46309150291114\" y2=\"270.11633828252985\" stroke-linecap=\"round\" style=\"stroke:yellow;stroke-width:4\"/><line x1=\"359.46309150291114\" y1=\"270.11633828252985\" x2=\"354.46919600577615\" y2=\"279.9174100486019\" stroke-linecap=\"round\" style=\"stroke:yellow;stroke-width:4\"/><line x1=\"354.46919600577615\" y1=\"279.9174100486019\" x2=\"349.99509293194234\" y2=\"289.9664100826705\" stroke-linecap=\"round\" style=\"stroke:yellow;stroke-width:4\"/><line x1=\"349.99509293194234\" y1=\"289.9664100826705\" x2=\"346.05304548694403\" y2=\"300.2357947741397\" stroke-linecap=\"round\" style=\"stroke:yellow;stroke-width:4\"/><line x1=\"346.05304548694403\" y1=\"300.2357947741397\" x2=\"342.6538585488196\" y2=\"310.6974164533864\" stroke-linecap=\"round\" style=\"stroke:yellow;stroke-width:4\"/><line x1=\"342.6538585488196\" y1=\"310.6974164533864\" x2=\"339.80684905269186\" y2=\"321.32260054256614\" stroke-linecap=\"round\" style=\"stroke:yellow;stroke-width:4\"/><line x1=\"339.80684905269186\" y1=\"321.32260054256614\" x2=\"338.76729059860304\" y2=\"326.21333854623515\" stroke-linecap=\"round\" style=\"stroke:yellow;stroke-width:4\"/><line x1=\"338.76729059860304\" y1=\"326.21333854623515\" x2=\"339.89204587032236\" y2=\"331.08518887016135\" stroke-linecap=\"round\" style=\"stroke:yellow;stroke-width:4\"/><line x1=\"339.89204587032236\" y1=\"331.08518887016135\" x2=\"342.97035324695065\" y2=\"335.025242638195\" stroke-linecap=\"round\" style=\"stroke:yellow;stroke-width:4\"/><line x1=\"342.97035324695065\" y1=\"335.025242638195\" x2=\"347.4253858678925\" y2=\"337.29519513689274\" stroke-linecap=\"round\" style=\"stroke:yellow;stroke-width:4\"/><line x1=\"347.4253858678925\" y1=\"337.29519513689274\" x2=\"352.422340002988\" y2=\"337.4696926204052\" stroke-linecap=\"round\" style=\"stroke:yellow;stroke-width:4\"/><line x1=\"352.422340002988\" y1=\"337.4696926204052\" x2=\"357.0248642702502\" y2=\"335.51603697795883\" stroke-linecap=\"round\" style=\"stroke:yellow;stroke-width:4\"/><line x1=\"357.0248642702502\" y1=\"335.51603697795883\" x2=\"363.71617033383876\" y2=\"328.0845887231849\" stroke-linecap=\"round\" style=\"stroke:yellow;stroke-width:4\"/><line x1=\"363.71617033383876\" y1=\"328.0845887231849\" x2=\"371.0766070037862\" y2=\"319.90999564293355\" stroke-linecap=\"round\" style=\"stroke:yellow;stroke-width:4\"/><line x1=\"371.0766070037862\" y1=\"319.90999564293355\" x2=\"377.9991313053344\" y2=\"311.3613900669069\" stroke-linecap=\"round\" style=\"stroke:yellow;stroke-width:4\"/><line x1=\"377.9991313053344\" y1=\"311.3613900669069\" x2=\"384.4647690805516\" y2=\"302.46220312878245\" stroke-linecap=\"round\" style=\"stroke:yellow;stroke-width:4\"/><line x1=\"384.4647690805516\" y1=\"302.46220312878245\" x2=\"390.4557984657169\" y2=\"293.2368268813828\" stroke-linecap=\"round\" style=\"stroke:yellow;stroke-width:4\"/><line x1=\"390.4557984657169\" y1=\"293.2368268813828\" x2=\"395.9557984657169\" y2=\"283.71054743975395\" stroke-linecap=\"round\" style=\"stroke:yellow;stroke-width:4\"/><line x1=\"395.9557984657169\" y1=\"283.71054743975395\" x2=\"400.9496939628519\" y2=\"273.9094756736819\" stroke-linecap=\"round\" style=\"stroke:yellow;stroke-width:4\"/><line x1=\"400.9496939628519\" y1=\"273.9094756736819\" x2=\"402.98337717823085\" y2=\"269.3417483854689\" stroke-linecap=\"round\" style=\"stroke:yellow;stroke-width:4\"/><line x1=\"402.98337717823085\" y1=\"269.3417483854689\" x2=\"404.1929866562292\" y2=\"264.49026975408896\" stroke-linecap=\"round\" style=\"stroke:yellow;stroke-width:4\"/><line x1=\"404.1929866562292\" y1=\"264.49026975408896\" x2=\"404.5417690249498\" y2=\"259.50244950278983\" stroke-linecap=\"round\" style=\"stroke:yellow;stroke-width:4\"/><line x1=\"404.5417690249498\" y1=\"259.50244950278983\" x2=\"404.01912670861157\" y2=\"254.52984002594846\" stroke-linecap=\"round\" style=\"stroke:yellow;stroke-width:4\"/><line x1=\"404.01912670861157\" y1=\"254.52984002594846\" x2=\"402.64093992952655\" y2=\"249.72353154625685\" stroke-linecap=\"round\" style=\"stroke:yellow;stroke-width:4\"/><line x1=\"402.64093992952655\" y1=\"249.72353154625685\" x2=\"400.4490841955812\" y2=\"245.229561314761\" stroke-linecap=\"round\" style=\"stroke:yellow;stroke-width:4\"/><line x1=\"400.4490841955812\" y1=\"245.229561314761\" x2=\"397.5101579341188\" y2=\"241.18447634288628\" stroke-linecap=\"round\" style=\"stroke:yellow;stroke-width:4\"/><line x1=\"397.5101579341188\" y1=\"241.18447634288628\" x2=\"393.91345893242556\" y2=\"237.7111844905913\" stroke-linecap=\"round\" style=\"stroke:yellow;stroke-width:4\"/><line x1=\"393.91345893242556\" y1=\"237.7111844905913\" x2=\"389.7682710696503\" y2=\"234.91521997323758\" stroke-linecap=\"round\" style=\"stroke:yellow;stroke-width:4\"/><line x1=\"389.7682710696503\" y1=\"234.91521997323758\" x2=\"385.2005437814373\" y2=\"232.88153675785858\" stroke-linecap=\"round\" style=\"stroke:yellow;stroke-width:4\"/><line x1=\"385.2005437814373\" y1=\"232.88153675785858\" x2=\"380.34906515005736\" y2=\"231.67192727986026\" stroke-linecap=\"round\" style=\"stroke:yellow;stroke-width:4\"/><line x1=\"380.34906515005736\" y1=\"231.67192727986026\" x2=\"375.36124489875823\" y2=\"231.32314491113962\" stroke-linecap=\"round\" style=\"stroke:yellow;stroke-width:4\"/><line x1=\"375.36124489875823\" y1=\"231.32314491113962\" x2=\"365.4160259450755\" y2=\"232.36842954381615\" stroke-linecap=\"round\" style=\"stroke:yellow;stroke-width:4\"/><line x1=\"365.4160259450755\" y1=\"232.36842954381615\" x2=\"354.47628509602447\" y2=\"233.51824263976033\" stroke-linecap=\"round\" style=\"stroke:yellow;stroke-width:4\"/><line x1=\"354.47628509602447\" y1=\"233.51824263976033\" x2=\"343.61171334947795\" y2=\"235.23902175520288\" stroke-linecap=\"round\" style=\"stroke:yellow;stroke-width:4\"/><line x1=\"343.61171334947795\" y1=\"235.23902175520288\" x2=\"332.8520897414061\" y2=\"237.52605035419825\" stroke-linecap=\"round\" style=\"stroke:yellow;stroke-width:4\"/><line x1=\"332.8520897414061\" y1=\"237.52605035419825\" x2=\"322.2269056522263\" y2=\"240.37305985032597\" stroke-linecap=\"round\" style=\"stroke:yellow;stroke-width:4\"/><line x1=\"322.2269056522263\" y1=\"240.37305985032597\" x2=\"311.76528397297966\" y2=\"243.7722467884504\" stroke-linecap=\"round\" style=\"stroke:yellow;stroke-width:4\"/><line x1=\"311.76528397297966\" y1=\"243.7722467884504\" x2=\"301.49589928151045\" y2=\"247.7142942334487\" stroke-linecap=\"round\" style=\"stroke:yellow;stroke-width:4\"/><line x1=\"301.49589928151045\" y1=\"247.7142942334487\" x2=\"296.92817199329744\" y2=\"249.7479774488277\" stroke-linecap=\"round\" style=\"stroke:yellow;stroke-width:4\"/><line x1=\"296.92817199329744\" y1=\"249.7479774488277\" x2=\"293.6478768483449\" y2=\"253.52152534994156\" stroke-linecap=\"round\" style=\"stroke:yellow;stroke-width:4\"/><line x1=\"293.6478768483449\" y1=\"253.52152534994156\" x2=\"292.26969006925987\" y2=\"258.32783382963316\" stroke-linecap=\"round\" style=\"stroke:yellow;stroke-width:4\"/><line x1=\"292.26969006925987\" y1=\"258.32783382963316\" x2=\"293.051862394461\" y2=\"263.26627553260886\" stroke-linecap=\"round\" style=\"stroke:yellow;stroke-width:4\"/><line x1=\"293.051862394461\" y1=\"263.26627553260886\" x2=\"295.84782691181476\" y2=\"267.4114633953841\" stroke-linecap=\"round\" style=\"stroke:yellow;stroke-width:4\"/><line x1=\"295.84782691181476\" y1=\"267.4114633953841\" x2=\"300.1336634153253\" y2=\"269.9866537699344\" stroke-linecap=\"round\" style=\"stroke:yellow;stroke-width:4\"/><line x1=\"300.1336634153253\" y1=\"269.9866537699344\" x2=\"310.07888236900806\" y2=\"271.03193840261093\" stroke-linecap=\"round\" style=\"stroke:yellow;stroke-width:4\"/><line x1=\"310.07888236900806\" y1=\"271.03193840261093\" x2=\"321.0186232180591\" y2=\"272.1817514985551\" stroke-linecap=\"round\" style=\"stroke:yellow;stroke-width:4\"/><line x1=\"321.0186232180591\" y1=\"272.1817514985551\" x2=\"332.0035481003594\" y2=\"272.7574470172275\" stroke-linecap=\"round\" style=\"stroke:yellow;stroke-width:4\"/><line x1=\"332.0035481003594\" y1=\"272.7574470172275\" x2=\"343.0035481003594\" y2=\"272.7574470172275\" stroke-linecap=\"round\" style=\"stroke:yellow;stroke-width:4\"/><line x1=\"343.0035481003594\" y1=\"272.7574470172275\" x2=\"353.98847298265974\" y2=\"272.1817514985551\" stroke-linecap=\"round\" style=\"stroke:yellow;stroke-width:4\"/><line x1=\"353.98847298265974\" y1=\"272.1817514985551\" x2=\"364.92821383171076\" y2=\"271.03193840261093\" stroke-linecap=\"round\" style=\"stroke:yellow;stroke-width:4\"/><line x1=\"364.92821383171076\" y1=\"271.03193840261093\" x2=\"375.7927855782573\" y2=\"269.3111592871684\" stroke-linecap=\"round\" style=\"stroke:yellow;stroke-width:4\"/><line x1=\"375.7927855782573\" y1=\"269.3111592871684\" x2=\"380.6835235819263\" y2=\"268.27160083307956\" stroke-linecap=\"round\" style=\"stroke:yellow;stroke-width:4\"/><line x1=\"380.6835235819263\" y1=\"268.27160083307956\" x2=\"385.3194428547602\" y2=\"266.398567866\" stroke-linecap=\"round\" style=\"stroke:yellow;stroke-width:4\"/><line x1=\"385.3194428547602\" y1=\"266.398567866\" x2=\"389.55968333554233\" y2=\"263.748971544834\" stroke-linecap=\"round\" style=\"stroke:yellow;stroke-width:4\"/><line x1=\"389.55968333554233\" y1=\"263.748971544834\" x2=\"393.2754074629293\" y2=\"260.40331851303966\" stroke-linecap=\"round\" style=\"stroke:yellow;stroke-width:4\"/><line x1=\"393.2754074629293\" y1=\"260.40331851303966\" x2=\"396.3537148395576\" y2=\"256.46326474500603\" stroke-linecap=\"round\" style=\"stroke:yellow;stroke-width:4\"/><line x1=\"396.3537148395576\" y1=\"256.46326474500603\" x2=\"398.7010726534871\" y2=\"252.0485267807114\" stroke-linecap=\"round\" style=\"stroke:yellow;stroke-width:4\"/><line x1=\"398.7010726534871\" y1=\"252.0485267807114\" x2=\"401.4930323896872\" y2=\"331.9997929422391\" stroke-linecap=\"round\" style=\"stroke:green;stroke-width:4\"/><line x1=\"401.4930323896872\" y1=\"331.9997929422391\" x2=\"401.66752987319967\" y2=\"336.9967470773346\" stroke-linecap=\"round\" style=\"stroke:green;stroke-width:4\"/><line x1=\"401.66752987319967\" y1=\"336.9967470773346\" x2=\"402.7070883272885\" y2=\"341.8874850810036\" stroke-linecap=\"round\" style=\"stroke:green;stroke-width:4\"/><line x1=\"402.7070883272885\" y1=\"341.8874850810036\" x2=\"404.58012129436804\" y2=\"346.5234043538375\" stroke-linecap=\"round\" style=\"stroke:green;stroke-width:4\"/><line x1=\"404.58012129436804\" y1=\"346.5234043538375\" x2=\"407.22971761553407\" y2=\"350.76364483461964\" stroke-linecap=\"round\" style=\"stroke:green;stroke-width:4\"/><line x1=\"407.22971761553407\" y1=\"350.76364483461964\" x2=\"410.5753706473284\" y2=\"354.4793689620066\" stroke-linecap=\"round\" style=\"stroke:green;stroke-width:4\"/><line x1=\"410.5753706473284\" y1=\"354.4793689620066\" x2=\"414.515424415362\" y2=\"357.5576763386349\" stroke-linecap=\"round\" style=\"stroke:green;stroke-width:4\"/><line x1=\"414.515424415362\" y1=\"357.5576763386349\" x2=\"423.3449003439513\" y2=\"362.2523919664938\" stroke-linecap=\"round\" style=\"stroke:green;stroke-width:4\"/><line x1=\"423.3449003439513\" y1=\"362.2523919664938\" x2=\"433.0573238653995\" y2=\"367.4165791571386\" stroke-linecap=\"round\" style=\"stroke:green;stroke-width:4\"/><line x1=\"433.0573238653995\" y1=\"367.4165791571386\" x2=\"443.02670952280266\" y2=\"372.0653800362863\" stroke-linecap=\"round\" style=\"stroke:green;stroke-width:4\"/><line x1=\"443.02670952280266\" y1=\"372.0653800362863\" x2=\"453.2257319230373\" y2=\"376.1860525638613\" stroke-linecap=\"round\" style=\"stroke:green;stroke-width:4\"/><line x1=\"453.2257319230373\" y1=\"376.1860525638613\" x2=\"463.62643625462977\" y2=\"379.76730226289004\" stroke-linecap=\"round\" style=\"stroke:green;stroke-width:4\"/><line x1=\"463.62643625462977\" y1=\"379.76730226289004\" x2=\"474.20031490995126\" y2=\"382.79931317687704\" stroke-linecap=\"round\" style=\"stroke:green;stroke-width:4\"/><line x1=\"474.20031490995126\" y1=\"382.79931317687704\" x2=\"484.91838562258886\" y2=\"385.27377477465956\" stroke-linecap=\"round\" style=\"stroke:green;stroke-width:4\"/><line x1=\"484.91838562258886\" y1=\"385.27377477465956\" x2=\"489.8424243876499\" y2=\"386.1420156629942\" stroke-linecap=\"round\" style=\"stroke:green;stroke-width:4\"/><line x1=\"489.8424243876499\" y1=\"386.1420156629942\" x2=\"494.67205351909524\" y2=\"384.8479204374816\" stroke-linecap=\"round\" style=\"stroke:green;stroke-width:4\"/><line x1=\"494.67205351909524\" y1=\"384.8479204374816\" x2=\"498.50227573469016\" y2=\"381.6339823890489\" stroke-linecap=\"round\" style=\"stroke:green;stroke-width:4\"/><line x1=\"498.50227573469016\" y1=\"381.6339823890489\" x2=\"500.61536704339363\" y2=\"377.1024434538657\" stroke-linecap=\"round\" style=\"stroke:green;stroke-width:4\"/><line x1=\"500.61536704339363\" y1=\"377.1024434538657\" x2=\"500.61536704339363\" y2=\"372.1024434538657\" stroke-linecap=\"round\" style=\"stroke:green;stroke-width:4\"/><line x1=\"500.61536704339363\" y1=\"372.1024434538657\" x2=\"498.50227573469016\" y2=\"367.5709045186824\" stroke-linecap=\"round\" style=\"stroke:green;stroke-width:4\"/><line x1=\"498.50227573469016\" y1=\"367.5709045186824\" x2=\"490.8418313035004\" y2=\"361.143028421817\" stroke-linecap=\"round\" style=\"stroke:green;stroke-width:4\"/><line x1=\"490.8418313035004\" y1=\"361.143028421817\" x2=\"482.41534242919164\" y2=\"354.07236471526505\" stroke-linecap=\"round\" style=\"stroke:green;stroke-width:4\"/><line x1=\"482.41534242919164\" y1=\"354.07236471526505\" x2=\"473.63035181867144\" y2=\"347.4523994605925\" stroke-linecap=\"round\" style=\"stroke:green;stroke-width:4\"/><line x1=\"473.63035181867144\" y1=\"347.4523994605925\" x2=\"464.51093852056596\" y2=\"341.3012775224143\" stroke-linecap=\"round\" style=\"stroke:green;stroke-width:4\"/><line x1=\"464.51093852056596\" y1=\"341.3012775224143\" x2=\"455.0820982128427\" y2=\"335.6358586984037\" stroke-linecap=\"round\" style=\"stroke:green;stroke-width:4\"/><line x1=\"455.0820982128427\" y1=\"335.6358586984037\" x2=\"445.3696746913945\" y2=\"330.4716715077589\" stroke-linecap=\"round\" style=\"stroke:green;stroke-width:4\"/><line x1=\"445.3696746913945\" y1=\"330.4716715077589\" x2=\"435.4002890339913\" y2=\"325.8228706286112\" stroke-linecap=\"round\" style=\"stroke:green;stroke-width:4\"/><line x1=\"435.4002890339913\" y1=\"325.8228706286112\" x2=\"430.7643697611574\" y2=\"323.94983766153166\" stroke-linecap=\"round\" style=\"stroke:green;stroke-width:4\"/><line x1=\"430.7643697611574\" y1=\"323.94983766153166\" x2=\"425.8736317574884\" y2=\"322.91027920744284\" stroke-linecap=\"round\" style=\"stroke:green;stroke-width:4\"/><line x1=\"425.8736317574884\" y1=\"322.91027920744284\" x2=\"420.8766776223929\" y2=\"322.73578172393036\" stroke-linecap=\"round\" style=\"stroke:green;stroke-width:4\"/><line x1=\"420.8766776223929\" y1=\"322.73578172393036\" x2=\"415.92533727868505\" y2=\"323.4316472287307\" stroke-linecap=\"round\" style=\"stroke:green;stroke-width:4\"/><line x1=\"415.92533727868505\" y1=\"323.4316472287307\" x2=\"411.1700546972093\" y2=\"324.97673220060545\" stroke-linecap=\"round\" style=\"stroke:green;stroke-width:4\"/><line x1=\"411.1700546972093\" y1=\"324.97673220060545\" x2=\"406.75531673291465\" y2=\"327.32409001453493\" stroke-linecap=\"round\" style=\"stroke:green;stroke-width:4\"/><line x1=\"406.75531673291465\" y1=\"327.32409001453493\" x2=\"402.815262964881\" y2=\"330.4023973911632\" stroke-linecap=\"round\" style=\"stroke:green;stroke-width:4\"/><line x1=\"402.815262964881\" y1=\"330.4023973911632\" x2=\"399.4696099330867\" y2=\"334.1181215185502\" stroke-linecap=\"round\" style=\"stroke:green;stroke-width:4\"/><line x1=\"399.4696099330867\" y1=\"334.1181215185502\" x2=\"396.8200136119207\" y2=\"338.3583619993323\" stroke-linecap=\"round\" style=\"stroke:green;stroke-width:4\"/><line x1=\"396.8200136119207\" y1=\"338.3583619993323\" x2=\"394.9469806448411\" y2=\"342.99428127216623\" stroke-linecap=\"round\" style=\"stroke:green;stroke-width:4\"/><line x1=\"394.9469806448411\" y1=\"342.99428127216623\" x2=\"393.9074221907523\" y2=\"347.88501927583525\" stroke-linecap=\"round\" style=\"stroke:green;stroke-width:4\"/><line x1=\"393.9074221907523\" y1=\"347.88501927583525\" x2=\"391.11546245455224\" y2=\"427.8362854373629\" stroke-linecap=\"round\" style=\"stroke:green;stroke-width:4\"/>\n",
              "        \n",
              "      <g visibility=visible transform=\"rotate(182,391.11546245455224,427.8362854373629) translate(391.11546245455224, 427.8362854373629)\">\n",
              "        <circle stroke=\"green\" stroke-width=\"3\" fill=\"transparent\" r=\"12\" cx=\"0\" cy=\"0\"/>\n",
              "        <polygon points=\"0,19 3,16 -3,16\" style=\"fill:green;stroke:green;stroke-width:2\"/>\n",
              "      </g>\n",
              "    \n",
              "      </svg>\n",
              "    "
            ],
            "text/plain": [
              "<IPython.core.display.HTML object>"
            ]
          },
          "metadata": {
            "tags": []
          }
        }
      ]
    },
    {
      "cell_type": "markdown",
      "metadata": {
        "id": "GKFkktD3o5Di"
      },
      "source": [
        "As letras do alfabeto podem ser construídas a partir de um número moderado de elementos básicos, como linhas verticais e horizontais e algumas curvas. Projete um alfabeto que possa ser desenhado com um número mínimo de elementos básicos e depois escreva funções que desenhem as letras.\n",
        "   1. Você deve escrever uma função para cada letra, com os nomes ```draw_a_```, ```_draw_b_```, etc., e colocar suas funções em um arquivo chamado ```letters.py```. Você pode baixar uma “turtle typewriter” de http://thinkpython2.com/code/typewriter.py para ajudá-lo a testar seu código.\n",
        "   1. Você pode obter uma solução em http://thinkpython2.com/code/letters.py; também requer http://thinkpython2.com/code/polygon.py."
      ]
    },
    {
      "cell_type": "code",
      "metadata": {
        "id": "bEzq2e_XpEj3",
        "outputId": "4c3b1f46-b06b-428d-ee31-2a919453c0e8",
        "colab": {
          "base_uri": "https://localhost:8080/",
          "height": 521
        }
      },
      "source": [
        "alf = ColabTurtle.Turtle\n",
        "alf.initializeTurtle()\n",
        "alf.color('yellow')\n",
        "alf.speed(10)\n",
        "def a():\n",
        "  alf.right(30)\n",
        "  alf.forward(50)\n",
        "  alf.right(120)\n",
        "  alf.forward(50)\n",
        "  alf.right(180)\n",
        "  alf.forward(25)\n",
        "  alf.left(60)\n",
        "  alf.forward(25)\n",
        "  alf.left(180)\n",
        "  alf.forward(25)\n",
        "  alf.right(60)\n",
        "  alf.forward(26)\n",
        "  alf.left(150)\n",
        "#a ok\n",
        "def b():\n",
        "  alf.forward(45)\n",
        "  alf.right(90)\n",
        "  alf.forward(25)\n",
        "  for i in range(6):\n",
        "    alf.right(30)\n",
        "    alf.forward(6)\n",
        "  alf.forward(10)\n",
        "  alf.left(180)\n",
        "  alf.forward(15)\n",
        "  for i in range(6):\n",
        "    alf.right(30)\n",
        "    alf.forward(6)\n",
        "  alf.forward(10)\n",
        "  alf.left(180)\n",
        "  alf.penup()\n",
        "  alf.forward(30)\n",
        "  alf.left(90)\n",
        "  alf.pendown()\n",
        "#b ok\n",
        "def c():\n",
        "  alf.penup()\n",
        "  alf.right(90)\n",
        "  alf.forward(23)\n",
        "  alf.left(180)\n",
        "  alf.pendown()\n",
        "  for i in range(6):\n",
        "    alf.right(25)\n",
        "    alf.forward(11)\n",
        "  alf.right(30)\n",
        "  alf.penup()\n",
        "  alf.forward(15)\n",
        "  alf.right(90)\n",
        "  alf.forward(50)\n",
        "  alf.left(180)\n",
        "  alf.pendown()\n",
        "#c ok\n",
        "def d():\n",
        "  alf.forward(45)\n",
        "  alf.right(90)\n",
        "  alf.forward(15)\n",
        "  for i in range(3):\n",
        "    alf.right(45)\n",
        "    alf.forward(20)\n",
        "  alf.right(45)\n",
        "  alf.forward(15)\n",
        "  alf.left(180)\n",
        "  alf.penup()\n",
        "  alf.forward(34)\n",
        "  alf.left(90)\n",
        "  alf.pendown()\n",
        "#d ok\n",
        "def e():\n",
        "  alf.forward(46)\n",
        "  alf.right(90)\n",
        "  alf.forward(25)\n",
        "  alf.right(180)\n",
        "  alf.forward(25)\n",
        "  alf.left(90)\n",
        "  alf.forward(23)\n",
        "  alf.left(90)\n",
        "  alf.forward(25)\n",
        "  alf.right(180)\n",
        "  alf.forward(23)\n",
        "  alf.penup()\n",
        "  alf.left(90)\n",
        "  alf.forward(25)\n",
        "  alf.left(90)\n",
        "  alf.pendown()\n",
        "  alf.forward(25)\n",
        "  alf.penup()\n",
        "  alf.forward(8)\n",
        "  alf.left(90)\n",
        "  alf.pendown()\n",
        "#e ok\n",
        "def f():\n",
        "  alf.forward(46)\n",
        "  alf.right(90)\n",
        "  alf.forward(25)\n",
        "  alf.right(180)\n",
        "  alf.forward(25)\n",
        "  alf.left(90)\n",
        "  alf.forward(23)\n",
        "  alf.left(90)\n",
        "  alf.forward(25)\n",
        "  alf.right(180)\n",
        "  alf.forward(23)\n",
        "  alf.penup()\n",
        "  alf.left(90)\n",
        "  alf.forward(25)\n",
        "  alf.left(90)\n",
        "  alf.forward(25)\n",
        "  alf.forward(8)\n",
        "  alf.left(90)\n",
        "  alf.pendown()\n",
        "#f ok\n",
        "def g():\n",
        "  alf.penup()\n",
        "  alf.forward(23)\n",
        "  alf.right(90)\n",
        "  alf.forward(12)\n",
        "  alf.pendown()\n",
        "  alf.forward(13)\n",
        "  for i in range(2):\n",
        "    alf.right(45)\n",
        "    alf.forward(14)\n",
        "  alf.right(90)\n",
        "  alf.forward(30)\n",
        "  alf.right(90)\n",
        "  alf.forward(20)\n",
        "  for i in range(3):\n",
        "    alf.forward(16)\n",
        "    alf.right(45)\n",
        "  alf.penup()\n",
        "  alf.right(45)\n",
        "  alf.forward(46)\n",
        "  alf.left(90)\n",
        "  alf.forward(10)\n",
        "  alf.left(90)\n",
        "  alf.pendown()\n",
        "#g ok\n",
        "def h():\n",
        "  alf.forward(46)\n",
        "  alf.right(180)\n",
        "  alf.forward(23)\n",
        "  alf.left(90)\n",
        "  alf.forward(25)\n",
        "  alf.left(90)\n",
        "  alf.forward(23)\n",
        "  alf.right(180)\n",
        "  alf.forward(46)\n",
        "  alf.left(90)\n",
        "  alf.penup()\n",
        "  alf.forward(10)\n",
        "  alf.left(90)\n",
        "  alf.pendown()\n",
        "#h ok\n",
        "def i():\n",
        "  alf.forward(46)\n",
        "  alf.right(180)\n",
        "  alf.penup()\n",
        "  alf.forward(46)\n",
        "  alf.left(90)\n",
        "  alf.forward(10)\n",
        "  alf.left(90)\n",
        "  alf.pendown()\n",
        "#i ok\n",
        "def j():\n",
        "  alf.right(90)\n",
        "  for i in range(3):\n",
        "    alf.left(30)\n",
        "    alf.forward(10)\n",
        "  alf.forward(22)\n",
        "  alf.left(180)\n",
        "  alf.penup()\n",
        "  alf.forward(46)\n",
        "  alf.left(90)\n",
        "  alf.forward(10)\n",
        "  alf.left(90)\n",
        "  alf.pendown()\n",
        "#j ok\n",
        "def k():\n",
        "  alf.forward(46)\n",
        "  alf.left(180)\n",
        "  alf.penup()\n",
        "  alf.forward(23)\n",
        "  alf.pendown()\n",
        "  alf.left(120)\n",
        "  alf.forward(35)\n",
        "  alf.left(180)\n",
        "  alf.penup()\n",
        "  alf.forward(35)\n",
        "  alf.left(120)\n",
        "  alf.pendown()\n",
        "  alf.forward(35)\n",
        "  alf.penup()\n",
        "  alf.forward(5)\n",
        "  alf.left(30)\n",
        "  alf.forward(10)\n",
        "  alf.pendown()\n",
        "  alf.left(90)\n",
        "#k ok\n",
        "def l():\n",
        "  alf.forward(46)\n",
        "  alf.right(180)\n",
        "  alf.penup()\n",
        "  alf.forward(46)\n",
        "  alf.left(90)\n",
        "  alf.pendown()\n",
        "  alf.forward(25)\n",
        "  alf.penup()\n",
        "  alf.forward(8)\n",
        "  alf.left(90)\n",
        "  alf.pendown()\n",
        "#l ok\n",
        "def m():\n",
        "  alf.right(25)\n",
        "  alf.forward(46)\n",
        "  alf.right(130)\n",
        "  alf.forward(46)\n",
        "  alf.left(130)\n",
        "  alf.forward(46)\n",
        "  alf.right(130)\n",
        "  alf.forward(46)\n",
        "  alf.left(65)\n",
        "  alf.penup()\n",
        "  alf.forward(10)\n",
        "  alf.left(90)\n",
        "  alf.pendown()\n",
        "#m ok\n",
        "def n():\n",
        "  alf.forward(46)\n",
        "  alf.right(150)\n",
        "  alf.forward(52)\n",
        "  alf.left(150)\n",
        "  alf.forward(46)\n",
        "  alf.penup()\n",
        "  alf.right(180)\n",
        "  alf.forward(46)\n",
        "  alf.left(90)\n",
        "  alf.forward(10)\n",
        "  alf.left(90)\n",
        "  alf.pendown()\n",
        "#n ok\n",
        "def o():\n",
        "  alf.penup()\n",
        "  alf.forward(23)\n",
        "  alf.pendown()\n",
        "  for i in range(25):\n",
        "    alf.forward(6)\n",
        "    alf.right(15)\n",
        "  alf.penup()\n",
        "  alf.left(195)\n",
        "  alf.forward(23)\n",
        "  alf.left(90)\n",
        "  alf.forward(52)\n",
        "  alf.left(90)\n",
        "  alf.pendown()\n",
        "#o ok\n",
        "def p():\n",
        "  alf.forward(45)\n",
        "  alf.right(90)\n",
        "  alf.forward(25)\n",
        "  for i in range(6):\n",
        "    alf.right(30)\n",
        "    alf.forward(6)\n",
        "  alf.forward(18)\n",
        "  alf.penup()\n",
        "  alf.left(180)\n",
        "  alf.forward(15)\n",
        "  for i in range(6):\n",
        "    alf.right(30)\n",
        "    alf.forward(6)\n",
        "  alf.forward(10)\n",
        "  alf.left(180)\n",
        "  alf.forward(38)\n",
        "  alf.left(90)\n",
        "  alf.pendown()\n",
        "#p ok\n",
        "def q():\n",
        "  alf.penup()\n",
        "  alf.right(90)\n",
        "  alf.forward(25)\n",
        "  alf.pendown()\n",
        "  for i in range(27):\n",
        "    alf.forward(6)\n",
        "    alf.left(15)\n",
        "  alf.left(90)\n",
        "  alf.forward(12)\n",
        "  alf.left(180)\n",
        "  alf.forward(24)\n",
        "  alf.left(45)\n",
        "  alf.penup()\n",
        "  alf.forward(10)\n",
        "  alf.left(90)\n",
        "  alf.pendown()\n",
        "#q ok\n",
        "def r():\n",
        "  alf.forward(45)\n",
        "  alf.right(90)\n",
        "  alf.forward(25)\n",
        "  for i in range(6):\n",
        "    alf.right(30)\n",
        "    alf.forward(6)\n",
        "  alf.forward(18)\n",
        "  alf.left(140)\n",
        "  alf.forward(35)\n",
        "  alf.penup()\n",
        "  alf.forward(5)\n",
        "  alf.left(40)\n",
        "  alf.forward(10)\n",
        "  alf.pendown()\n",
        "  alf.left(90)\n",
        "#r of\n",
        "def s():\n",
        "  alf.penup()\n",
        "  alf.forward(46)\n",
        "  alf.right(90)\n",
        "  alf.forward(25)\n",
        "  alf.left(180)\n",
        "  alf.pendown()\n",
        "  alf.forward(15)\n",
        "  for i in range(6):\n",
        "    alf.left(30)\n",
        "    alf.forward(6)\n",
        "  for i in range(6):\n",
        "    alf.right(30)\n",
        "    alf.forward(6)\n",
        "  alf.forward(5)\n",
        "  alf.left(180)\n",
        "  alf.penup()\n",
        "  alf.forward(25)\n",
        "  alf.left(90)\n",
        "  alf.pendown()\n",
        "#s ok\n",
        "def t():\n",
        "  alf.penup()\n",
        "  alf.forward(46)\n",
        "  alf.right(90)\n",
        "  alf.pendown()\n",
        "  alf.forward(26)\n",
        "  alf.penup()\n",
        "  alf.left(180)\n",
        "  alf.forward(13)\n",
        "  alf.left(90)\n",
        "  alf.pendown()\n",
        "  alf.forward(46)\n",
        "  alf.left(90)\n",
        "  alf.penup()\n",
        "  alf.forward(18)\n",
        "  alf.left(90)\n",
        "  alf.pendown()\n",
        "#t ok\n",
        "def u():\n",
        "  alf.penup()\n",
        "  alf.forward(46)\n",
        "  alf.left(180)\n",
        "  alf.pendown()\n",
        "  alf.forward(36)\n",
        "  for i in range(6):\n",
        "    alf.left(30)\n",
        "    alf.forward(6)\n",
        "  alf.forward(30)\n",
        "  alf.left(180)\n",
        "  alf.penup()\n",
        "  alf.forward(46)\n",
        "  alf.left(90)\n",
        "  alf.forward(10)\n",
        "  alf.left(90)\n",
        "  alf.pendown()\n",
        "#u ok\n",
        "def v():\n",
        "  alf.penup()\n",
        "  alf.forward(46)\n",
        "  alf.right(150)\n",
        "  alf.pendown()\n",
        "  alf.forward(50)\n",
        "  alf.left(120)\n",
        "  alf.forward(50)\n",
        "  alf.penup()\n",
        "  alf.left(210)\n",
        "  alf.forward(46)\n",
        "  alf.left(90)\n",
        "  alf.forward(5)\n",
        "  alf.left(90)\n",
        "  alf.pendown()\n",
        "#v ok\n",
        "def w():\n",
        "  alf.penup()\n",
        "  alf.forward(46)\n",
        "  alf.right(150)\n",
        "  alf.pendown()\n",
        "  alf.forward(50)\n",
        "  alf.left(120)\n",
        "  alf.forward(46)\n",
        "  alf.right(130)\n",
        "  alf.forward(46)\n",
        "  alf.left(130)\n",
        "  alf.forward(46)\n",
        "  alf.right(130)\n",
        "  alf.penup()\n",
        "  alf.right(22)\n",
        "  alf.forward(46)\n",
        "  alf.left(90)\n",
        "  alf.forward(10)\n",
        "  alf.left(90)\n",
        "  alf.pendown()\n",
        "#w ok\n",
        "def x():\n",
        "  alf.right(45)\n",
        "  alf.forward(60)\n",
        "  alf.penup()\n",
        "  alf.left(180)\n",
        "  alf.forward(30)\n",
        "  alf.pendown()\n",
        "  alf.right(90)\n",
        "  alf.forward(30)\n",
        "  alf.penup()\n",
        "  alf.left(180)\n",
        "  alf.forward(30)\n",
        "  alf.pendown()\n",
        "  alf.forward(30)\n",
        "  alf.left(45)\n",
        "  alf.penup()\n",
        "  alf.forward(10)\n",
        "  alf.left(90)\n",
        "  alf.pendown()\n",
        "#x ok\n",
        "def y():\n",
        "  alf.penup()\n",
        "  alf.forward(46)\n",
        "  alf.right(130)\n",
        "  alf.pendown()\n",
        "  alf.forward(30)\n",
        "  alf.left(90)\n",
        "  alf.forward(30)\n",
        "  alf.penup()\n",
        "  alf.left(180)\n",
        "  alf.forward(30)\n",
        "  alf.pendown()\n",
        "  alf.forward(30)\n",
        "  alf.left(130)\n",
        "  alf.penup()\n",
        "  alf.forward(45)\n",
        "  alf.left(90)\n",
        "  alf.pendown()\n",
        "#y ok\n",
        "def z():\n",
        "  alf.penup()\n",
        "  alf.forward(46)\n",
        "  alf.right(90)\n",
        "  alf.pendown()\n",
        "  alf.forward(40)\n",
        "  alf.right(130)\n",
        "  alf.forward(60)\n",
        "  alf.left(130)\n",
        "  alf.forward(38)\n",
        "  alf.penup()\n",
        "  alf.forward(10)\n",
        "  alf.left(90)\n",
        "  alf.pendown()\n",
        "#z ok\n",
        "def comeco():  \n",
        "  alf.penup()\n",
        "  alf.left(90)\n",
        "  alf.forward(380)\n",
        "  alf.right(90)\n",
        "  #alf.forward(180)\n",
        "  alf.pendown()\n",
        "def espaco():\n",
        "  alf.penup()\n",
        "  alf.right(90)\n",
        "  alf.forward(30)\n",
        "  alf.left(90)\n",
        "  alf.pendown()\n",
        "#fim da definição\n",
        "comeco()\n",
        "t()\n",
        "h()\n",
        "i()\n",
        "n()\n",
        "k()\n",
        "espaco()\n",
        "p()\n",
        "y()\n",
        "t()\n",
        "h()\n",
        "o()\n",
        "n()"
      ],
      "execution_count": 626,
      "outputs": [
        {
          "output_type": "display_data",
          "data": {
            "text/html": [
              "\n",
              "      <svg width=\"800\" height=\"500\">\n",
              "        <rect width=\"100%\" height=\"100%\" fill=\"black\"/>\n",
              "        <line x1=\"19.999999999999993\" y1=\"204.00000000000006\" x2=\"45.99999999999999\" y2=\"204.00000000000006\" stroke-linecap=\"round\" style=\"stroke:yellow;stroke-width:4\"/><line x1=\"32.99999999999999\" y1=\"204.00000000000006\" x2=\"32.99999999999999\" y2=\"250.00000000000006\" stroke-linecap=\"round\" style=\"stroke:yellow;stroke-width:4\"/><line x1=\"50.99999999999999\" y1=\"250.00000000000006\" x2=\"50.999999999999986\" y2=\"204.00000000000006\" stroke-linecap=\"round\" style=\"stroke:yellow;stroke-width:4\"/><line x1=\"50.999999999999986\" y1=\"204.00000000000006\" x2=\"50.999999999999986\" y2=\"227.00000000000006\" stroke-linecap=\"round\" style=\"stroke:yellow;stroke-width:4\"/><line x1=\"50.999999999999986\" y1=\"227.00000000000006\" x2=\"75.99999999999999\" y2=\"227.00000000000006\" stroke-linecap=\"round\" style=\"stroke:yellow;stroke-width:4\"/><line x1=\"75.99999999999999\" y1=\"227.00000000000006\" x2=\"75.99999999999999\" y2=\"204.00000000000006\" stroke-linecap=\"round\" style=\"stroke:yellow;stroke-width:4\"/><line x1=\"75.99999999999999\" y1=\"204.00000000000006\" x2=\"75.99999999999999\" y2=\"250.00000000000006\" stroke-linecap=\"round\" style=\"stroke:yellow;stroke-width:4\"/><line x1=\"85.99999999999999\" y1=\"250.00000000000006\" x2=\"85.99999999999997\" y2=\"204.00000000000006\" stroke-linecap=\"round\" style=\"stroke:yellow;stroke-width:4\"/><line x1=\"95.99999999999997\" y1=\"250.00000000000006\" x2=\"95.99999999999996\" y2=\"204.00000000000006\" stroke-linecap=\"round\" style=\"stroke:yellow;stroke-width:4\"/><line x1=\"95.99999999999996\" y1=\"204.00000000000006\" x2=\"121.99999999999997\" y2=\"249.03332099679085\" stroke-linecap=\"round\" style=\"stroke:yellow;stroke-width:4\"/><line x1=\"121.99999999999997\" y1=\"249.03332099679085\" x2=\"121.99999999999996\" y2=\"203.03332099679085\" stroke-linecap=\"round\" style=\"stroke:yellow;stroke-width:4\"/><line x1=\"131.99999999999994\" y1=\"249.03332099679085\" x2=\"131.99999999999994\" y2=\"203.03332099679085\" stroke-linecap=\"round\" style=\"stroke:yellow;stroke-width:4\"/><line x1=\"131.99999999999994\" y1=\"226.03332099679085\" x2=\"162.3108891324553\" y2=\"208.53332099679085\" stroke-linecap=\"round\" style=\"stroke:yellow;stroke-width:4\"/><line x1=\"131.99999999999994\" y1=\"226.03332099679085\" x2=\"162.3108891324553\" y2=\"243.53332099679085\" stroke-linecap=\"round\" style=\"stroke:yellow;stroke-width:4\"/><line x1=\"206.64101615137747\" y1=\"246.03332099679085\" x2=\"206.64101615137747\" y2=\"201.03332099679085\" stroke-linecap=\"round\" style=\"stroke:yellow;stroke-width:4\"/><line x1=\"206.64101615137747\" y1=\"201.03332099679085\" x2=\"231.64101615137747\" y2=\"201.03332099679085\" stroke-linecap=\"round\" style=\"stroke:yellow;stroke-width:4\"/><line x1=\"231.64101615137747\" y1=\"201.03332099679085\" x2=\"236.8371685740841\" y2=\"204.03332099679085\" stroke-linecap=\"round\" style=\"stroke:yellow;stroke-width:4\"/><line x1=\"236.8371685740841\" y1=\"204.03332099679085\" x2=\"239.8371685740841\" y2=\"209.22947341949748\" stroke-linecap=\"round\" style=\"stroke:yellow;stroke-width:4\"/><line x1=\"239.8371685740841\" y1=\"209.22947341949748\" x2=\"239.8371685740841\" y2=\"215.22947341949748\" stroke-linecap=\"round\" style=\"stroke:yellow;stroke-width:4\"/><line x1=\"239.8371685740841\" y1=\"215.22947341949748\" x2=\"236.8371685740841\" y2=\"220.4256258422041\" stroke-linecap=\"round\" style=\"stroke:yellow;stroke-width:4\"/><line x1=\"236.8371685740841\" y1=\"220.4256258422041\" x2=\"231.64101615137747\" y2=\"223.4256258422041\" stroke-linecap=\"round\" style=\"stroke:yellow;stroke-width:4\"/><line x1=\"231.64101615137747\" y1=\"223.4256258422041\" x2=\"225.64101615137747\" y2=\"223.4256258422041\" stroke-linecap=\"round\" style=\"stroke:yellow;stroke-width:4\"/><line x1=\"225.64101615137747\" y1=\"223.4256258422041\" x2=\"207.64101615137747\" y2=\"223.4256258422041\" stroke-linecap=\"round\" style=\"stroke:yellow;stroke-width:4\"/><line x1=\"244.64101615137747\" y1=\"199.81793068761738\" x2=\"267.6223494449468\" y2=\"219.10155897821355\" stroke-linecap=\"round\" style=\"stroke:yellow;stroke-width:4\"/><line x1=\"267.6223494449468\" y1=\"219.10155897821355\" x2=\"286.905977735543\" y2=\"196.1202256846442\" stroke-linecap=\"round\" style=\"stroke:yellow;stroke-width:4\"/><line x1=\"267.6223494449468\" y1=\"219.10155897821355\" x2=\"248.33872115435062\" y2=\"242.0828922717829\" stroke-linecap=\"round\" style=\"stroke:yellow;stroke-width:4\"/><line x1=\"293.33872115435065\" y1=\"196.0828922717829\" x2=\"319.33872115435065\" y2=\"196.0828922717829\" stroke-linecap=\"round\" style=\"stroke:yellow;stroke-width:4\"/><line x1=\"306.33872115435065\" y1=\"196.0828922717829\" x2=\"306.33872115435065\" y2=\"242.0828922717829\" stroke-linecap=\"round\" style=\"stroke:yellow;stroke-width:4\"/><line x1=\"324.33872115435065\" y1=\"242.0828922717829\" x2=\"324.33872115435065\" y2=\"196.0828922717829\" stroke-linecap=\"round\" style=\"stroke:yellow;stroke-width:4\"/><line x1=\"324.33872115435065\" y1=\"196.0828922717829\" x2=\"324.33872115435065\" y2=\"219.0828922717829\" stroke-linecap=\"round\" style=\"stroke:yellow;stroke-width:4\"/><line x1=\"324.33872115435065\" y1=\"219.0828922717829\" x2=\"349.33872115435065\" y2=\"219.0828922717829\" stroke-linecap=\"round\" style=\"stroke:yellow;stroke-width:4\"/><line x1=\"349.33872115435065\" y1=\"219.0828922717829\" x2=\"349.33872115435065\" y2=\"196.0828922717829\" stroke-linecap=\"round\" style=\"stroke:yellow;stroke-width:4\"/><line x1=\"349.33872115435065\" y1=\"196.0828922717829\" x2=\"349.33872115435065\" y2=\"242.0828922717829\" stroke-linecap=\"round\" style=\"stroke:yellow;stroke-width:4\"/><line x1=\"359.33872115435065\" y1=\"219.0828922717829\" x2=\"359.33872115435065\" y2=\"213.0828922717829\" stroke-linecap=\"round\" style=\"stroke:yellow;stroke-width:4\"/><line x1=\"359.33872115435065\" y1=\"213.0828922717829\" x2=\"360.8916354249658\" y2=\"207.2873373140485\" stroke-linecap=\"round\" style=\"stroke:yellow;stroke-width:4\"/><line x1=\"360.8916354249658\" y1=\"207.2873373140485\" x2=\"363.8916354249658\" y2=\"202.09118489134187\" stroke-linecap=\"round\" style=\"stroke:yellow;stroke-width:4\"/><line x1=\"363.8916354249658\" y1=\"202.09118489134187\" x2=\"368.13427611208505\" y2=\"197.84854420422258\" stroke-linecap=\"round\" style=\"stroke:yellow;stroke-width:4\"/><line x1=\"368.13427611208505\" y1=\"197.84854420422258\" x2=\"373.3304285347917\" y2=\"194.84854420422258\" stroke-linecap=\"round\" style=\"stroke:yellow;stroke-width:4\"/><line x1=\"373.3304285347917\" y1=\"194.84854420422258\" x2=\"379.1259834925261\" y2=\"193.29562993360744\" stroke-linecap=\"round\" style=\"stroke:yellow;stroke-width:4\"/><line x1=\"379.1259834925261\" y1=\"193.29562993360744\" x2=\"385.1259834925261\" y2=\"193.29562993360744\" stroke-linecap=\"round\" style=\"stroke:yellow;stroke-width:4\"/><line x1=\"385.1259834925261\" y1=\"193.29562993360744\" x2=\"390.92153845026047\" y2=\"194.84854420422258\" stroke-linecap=\"round\" style=\"stroke:yellow;stroke-width:4\"/><line x1=\"390.92153845026047\" y1=\"194.84854420422258\" x2=\"396.1176908729671\" y2=\"197.84854420422258\" stroke-linecap=\"round\" style=\"stroke:yellow;stroke-width:4\"/><line x1=\"396.1176908729671\" y1=\"197.84854420422258\" x2=\"400.36033156008637\" y2=\"202.09118489134187\" stroke-linecap=\"round\" style=\"stroke:yellow;stroke-width:4\"/><line x1=\"400.36033156008637\" y1=\"202.09118489134187\" x2=\"403.36033156008637\" y2=\"207.2873373140485\" stroke-linecap=\"round\" style=\"stroke:yellow;stroke-width:4\"/><line x1=\"403.36033156008637\" y1=\"207.2873373140485\" x2=\"404.9132458307015\" y2=\"213.0828922717829\" stroke-linecap=\"round\" style=\"stroke:yellow;stroke-width:4\"/><line x1=\"404.9132458307015\" y1=\"213.0828922717829\" x2=\"404.9132458307015\" y2=\"219.0828922717829\" stroke-linecap=\"round\" style=\"stroke:yellow;stroke-width:4\"/><line x1=\"404.9132458307015\" y1=\"219.0828922717829\" x2=\"403.36033156008637\" y2=\"224.8784472295173\" stroke-linecap=\"round\" style=\"stroke:yellow;stroke-width:4\"/><line x1=\"403.36033156008637\" y1=\"224.8784472295173\" x2=\"400.36033156008637\" y2=\"230.07459965222392\" stroke-linecap=\"round\" style=\"stroke:yellow;stroke-width:4\"/><line x1=\"400.36033156008637\" y1=\"230.07459965222392\" x2=\"396.1176908729671\" y2=\"234.31724033934321\" stroke-linecap=\"round\" style=\"stroke:yellow;stroke-width:4\"/><line x1=\"396.1176908729671\" y1=\"234.31724033934321\" x2=\"390.92153845026047\" y2=\"237.31724033934321\" stroke-linecap=\"round\" style=\"stroke:yellow;stroke-width:4\"/><line x1=\"390.92153845026047\" y1=\"237.31724033934321\" x2=\"385.1259834925261\" y2=\"238.87015460995835\" stroke-linecap=\"round\" style=\"stroke:yellow;stroke-width:4\"/><line x1=\"385.1259834925261\" y1=\"238.87015460995835\" x2=\"379.1259834925261\" y2=\"238.87015460995835\" stroke-linecap=\"round\" style=\"stroke:yellow;stroke-width:4\"/><line x1=\"379.1259834925261\" y1=\"238.87015460995835\" x2=\"373.3304285347917\" y2=\"237.31724033934321\" stroke-linecap=\"round\" style=\"stroke:yellow;stroke-width:4\"/><line x1=\"373.3304285347917\" y1=\"237.31724033934321\" x2=\"368.13427611208505\" y2=\"234.31724033934321\" stroke-linecap=\"round\" style=\"stroke:yellow;stroke-width:4\"/><line x1=\"368.13427611208505\" y1=\"234.31724033934321\" x2=\"363.8916354249658\" y2=\"230.07459965222392\" stroke-linecap=\"round\" style=\"stroke:yellow;stroke-width:4\"/><line x1=\"363.8916354249658\" y1=\"230.07459965222392\" x2=\"360.8916354249658\" y2=\"224.8784472295173\" stroke-linecap=\"round\" style=\"stroke:yellow;stroke-width:4\"/><line x1=\"360.8916354249658\" y1=\"224.8784472295173\" x2=\"359.33872115435065\" y2=\"219.0828922717829\" stroke-linecap=\"round\" style=\"stroke:yellow;stroke-width:4\"/><line x1=\"359.33872115435065\" y1=\"219.0828922717829\" x2=\"359.33872115435065\" y2=\"213.0828922717829\" stroke-linecap=\"round\" style=\"stroke:yellow;stroke-width:4\"/><line x1=\"411.33872115435065\" y1=\"236.0828922717829\" x2=\"411.33872115435065\" y2=\"190.0828922717829\" stroke-linecap=\"round\" style=\"stroke:yellow;stroke-width:4\"/><line x1=\"411.33872115435065\" y1=\"190.0828922717829\" x2=\"437.33872115435065\" y2=\"235.1162132685737\" stroke-linecap=\"round\" style=\"stroke:yellow;stroke-width:4\"/><line x1=\"437.33872115435065\" y1=\"235.1162132685737\" x2=\"437.33872115435065\" y2=\"189.1162132685737\" stroke-linecap=\"round\" style=\"stroke:yellow;stroke-width:4\"/>\n",
              "        \n",
              "      <g visibility=visible transform=\"rotate(180,447.33872115435065,235.1162132685737) translate(447.33872115435065, 235.1162132685737)\">\n",
              "        <circle stroke=\"yellow\" stroke-width=\"3\" fill=\"transparent\" r=\"12\" cx=\"0\" cy=\"0\"/>\n",
              "        <polygon points=\"0,19 3,16 -3,16\" style=\"fill:yellow;stroke:yellow;stroke-width:2\"/>\n",
              "      </g>\n",
              "    \n",
              "      </svg>\n",
              "    "
            ],
            "text/plain": [
              "<IPython.core.display.HTML object>"
            ]
          },
          "metadata": {
            "tags": []
          }
        }
      ]
    },
    {
      "cell_type": "markdown",
      "metadata": {
        "id": "rUfm9AWmeO0p"
      },
      "source": [
        "Leia sobre espirais em http://en.wikipedia.org/wiki/Spiral; em seguida, escreva um programa que desenhe uma espiral arquimediana (ou um dos outros tipos). Solução: http://thinkpython2.com/code/spiral.py."
      ]
    },
    {
      "cell_type": "code",
      "metadata": {
        "id": "KHfMeebpeSjD",
        "outputId": "1cbee745-204e-445c-c6aa-c4dc557a85d5",
        "colab": {
          "base_uri": "https://localhost:8080/",
          "height": 521
        }
      },
      "source": [
        "sp = ColabTurtle.Turtle\n",
        "sp.initializeTurtle()\n",
        "sp.color('red')\n",
        "sp.speed(10)\n",
        "sp.width(2)\n",
        "#cornu espiral\n",
        "for i in range(55):\n",
        "  x= 10 + x\n",
        "  sp.left(x)\n",
        "  sp.forward(15)\n"
      ],
      "execution_count": 745,
      "outputs": [
        {
          "output_type": "display_data",
          "data": {
            "text/html": [
              "\n",
              "      <svg width=\"800\" height=\"500\">\n",
              "        <rect width=\"100%\" height=\"100%\" fill=\"black\"/>\n",
              "        <line x1=\"400\" y1=\"250\" x2=\"385.1846748910729\" y2=\"247.65348302439654\" stroke-linecap=\"round\" style=\"stroke:red;stroke-width:2\"/><line x1=\"385.1846748910729\" y1=\"247.65348302439654\" x2=\"383.09707837667196\" y2=\"262.5075040555201\" stroke-linecap=\"round\" style=\"stroke:red;stroke-width:2\"/><line x1=\"383.09707837667196\" y1=\"262.5075040555201\" x2=\"398.0765213979906\" y2=\"261.72246471187594\" stroke-linecap=\"round\" style=\"stroke:red;stroke-width:2\"/><line x1=\"398.0765213979906\" y1=\"261.72246471187594\" x2=\"391.97547175185355\" y2=\"248.01928284723692\" stroke-linecap=\"round\" style=\"stroke:red;stroke-width:2\"/><line x1=\"391.97547175185355\" y1=\"248.01928284723692\" x2=\"383.37182520658786\" y2=\"260.3065635115718\" stroke-linecap=\"round\" style=\"stroke:red;stroke-width:2\"/><line x1=\"383.37182520658786\" y1=\"260.3065635115718\" x2=\"398.28965363711194\" y2=\"258.738636562557\" stroke-linecap=\"round\" style=\"stroke:red;stroke-width:2\"/><line x1=\"398.28965363711194\" y1=\"258.738636562557\" x2=\"385.7095951179306\" y2=\"250.5690510373316\" stroke-linecap=\"round\" style=\"stroke:red;stroke-width:2\"/><line x1=\"385.7095951179306\" y1=\"250.5690510373316\" x2=\"392.75166855971895\" y2=\"263.8132649302155\" stroke-linecap=\"round\" style=\"stroke:red;stroke-width:2\"/><line x1=\"392.75166855971895\" y1=\"263.8132649302155\" x2=\"390.40515158411546\" y2=\"248.99793982128844\" stroke-linecap=\"round\" style=\"stroke:red;stroke-width:2\"/><line x1=\"390.40515158411546\" y1=\"248.99793982128844\" x2=\"390.40515158411546\" y2=\"263.99793982128847\" stroke-linecap=\"round\" style=\"stroke:red;stroke-width:2\"/><line x1=\"390.40515158411546\" y1=\"263.99793982128847\" x2=\"390.1433654875562\" y2=\"249.0002243939426\" stroke-linecap=\"round\" style=\"stroke:red;stroke-width:2\"/><line x1=\"390.1433654875562\" y1=\"249.0002243939426\" x2=\"393.2620408498226\" y2=\"263.6724384049497\" stroke-linecap=\"round\" style=\"stroke:red;stroke-width:2\"/><line x1=\"393.2620408498226\" y1=\"263.6724384049497\" x2=\"385.0924553245972\" y2=\"251.0923798857683\" stroke-linecap=\"round\" style=\"stroke:red;stroke-width:2\"/><line x1=\"385.0924553245972\" y1=\"251.0923798857683\" x2=\"398.5743660190847\" y2=\"257.6679470876045\" stroke-linecap=\"round\" style=\"stroke:red;stroke-width:2\"/><line x1=\"398.5743660190847\" y1=\"257.6679470876045\" x2=\"384.0854786247487\" y2=\"261.5502327641423\" stroke-linecap=\"round\" style=\"stroke:red;stroke-width:2\"/><line x1=\"384.0854786247487\" y1=\"261.5502327641423\" x2=\"390.1865282708857\" y2=\"247.8470508995033\" stroke-linecap=\"round\" style=\"stroke:red;stroke-width:2\"/><line x1=\"390.1865282708857\" y1=\"247.8470508995033\" x2=\"399.2137536181664\" y2=\"259.8265835502127\" stroke-linecap=\"round\" style=\"stroke:red;stroke-width:2\"/><line x1=\"399.2137536181664\" y1=\"259.8265835502127\" x2=\"384.9479058737391\" y2=\"264.46183846583693\" stroke-linecap=\"round\" style=\"stroke:red;stroke-width:2\"/><line x1=\"384.9479058737391\" y1=\"264.46183846583693\" x2=\"382.6013888981356\" y2=\"249.64651335690988\" stroke-linecap=\"round\" style=\"stroke:red;stroke-width:2\"/><line x1=\"382.6013888981356\" y1=\"249.64651335690988\" x2=\"397.37350519331875\" y2=\"247.04179069190593\" stroke-linecap=\"round\" style=\"stroke:red;stroke-width:2\"/><line x1=\"397.37350519331875\" y1=\"247.04179069190593\" x2=\"402.74902443649825\" y2=\"261.04549708936395\" stroke-linecap=\"round\" style=\"stroke:red;stroke-width:2\"/><line x1=\"402.74902443649825\" y1=\"261.04549708936395\" x2=\"391.6018520543373\" y2=\"271.08245618474683\" stroke-linecap=\"round\" style=\"stroke:red;stroke-width:2\"/><line x1=\"391.6018520543373\" y1=\"271.08245618474683\" x2=\"377.2572807148918\" y2=\"266.69688061390576\" stroke-linecap=\"round\" style=\"stroke:red;stroke-width:2\"/><line x1=\"377.2572807148918\" y1=\"266.69688061390576\" x2=\"371.1562310687548\" y2=\"252.99369874926674\" stroke-linecap=\"round\" style=\"stroke:red;stroke-width:2\"/><line x1=\"371.1562310687548\" y1=\"252.99369874926674\" x2=\"375.03851674529255\" y2=\"238.50481135493072\" stroke-linecap=\"round\" style=\"stroke:red;stroke-width:2\"/><line x1=\"375.03851674529255\" y1=\"238.50481135493072\" x2=\"385.4583923021775\" y2=\"227.71471434985096\" stroke-linecap=\"round\" style=\"stroke:red;stroke-width:2\"/><line x1=\"385.4583923021775\" y1=\"227.71471434985096\" x2=\"398.823490165003\" y2=\"220.90485685375776\" stroke-linecap=\"round\" style=\"stroke:red;stroke-width:2\"/><line x1=\"398.823490165003\" y1=\"220.90485685375776\" x2=\"413.0893379094303\" y2=\"216.26960193813355\" stroke-linecap=\"round\" style=\"stroke:red;stroke-width:2\"/><line x1=\"413.0893379094303\" y1=\"216.26960193813355\" x2=\"427.27211654342005\" y2=\"211.3860796212762\" stroke-linecap=\"round\" style=\"stroke:red;stroke-width:2\"/><line x1=\"427.27211654342005\" y1=\"211.3860796212762\" x2=\"440.26249760018663\" y2=\"203.8860796212762\" stroke-linecap=\"round\" style=\"stroke:red;stroke-width:2\"/><line x1=\"440.26249760018663\" y1=\"203.8860796212762\" x2=\"449.7023034659342\" y2=\"192.22889019942164\" stroke-linecap=\"round\" style=\"stroke:red;stroke-width:2\"/><line x1=\"449.7023034659342\" y1=\"192.22889019942164\" x2=\"451.7898999803352\" y2=\"177.3748691682981\" stroke-linecap=\"round\" style=\"stroke:red;stroke-width:2\"/><line x1=\"451.7898999803352\" y1=\"177.3748691682981\" x2=\"443.6203144551098\" y2=\"164.79481064911673\" stroke-linecap=\"round\" style=\"stroke:red;stroke-width:2\"/><line x1=\"443.6203144551098\" y1=\"164.79481064911673\" x2=\"428.7024860245857\" y2=\"163.22688370010192\" stroke-linecap=\"round\" style=\"stroke:red;stroke-width:2\"/><line x1=\"428.7024860245857\" y1=\"163.22688370010192\" x2=\"420.09883947932\" y2=\"175.5141643644368\" stroke-linecap=\"round\" style=\"stroke:red;stroke-width:2\"/><line x1=\"420.09883947932\" y1=\"175.5141643644368\" x2=\"428.91561826370713\" y2=\"187.649419280061\" stroke-linecap=\"round\" style=\"stroke:red;stroke-width:2\"/><line x1=\"428.91561826370713\" y1=\"187.649419280061\" x2=\"442.28071612653264\" y2=\"180.8395617839678\" stroke-linecap=\"round\" style=\"stroke:red;stroke-width:2\"/><line x1=\"442.28071612653264\" y1=\"180.8395617839678\" x2=\"435.23864268474426\" y2=\"167.59534789108392\" stroke-linecap=\"round\" style=\"stroke:red;stroke-width:2\"/><line x1=\"435.23864268474426\" y1=\"167.59534789108392\" x2=\"423.5814532628897\" y2=\"177.03515375683148\" stroke-linecap=\"round\" style=\"stroke:red;stroke-width:2\"/><line x1=\"423.5814532628897\" y1=\"177.03515375683148\" x2=\"436.57183431965626\" y2=\"184.53515375683148\" stroke-linecap=\"round\" style=\"stroke:red;stroke-width:2\"/><line x1=\"436.57183431965626\" y1=\"184.53515375683148\" x2=\"436.310048223097\" y2=\"169.5374383294856\" stroke-linecap=\"round\" style=\"stroke:red;stroke-width:2\"/><line x1=\"436.310048223097\" y1=\"169.5374383294856\" x2=\"425.16287584093607\" y2=\"179.5743974248685\" stroke-linecap=\"round\" style=\"stroke:red;stroke-width:2\"/><line x1=\"425.16287584093607\" y1=\"179.5743974248685\" x2=\"440.1423188622547\" y2=\"178.78935808122432\" stroke-linecap=\"round\" style=\"stroke:red;stroke-width:2\"/><line x1=\"440.1423188622547\" y1=\"178.78935808122432\" x2=\"426.6604081677672\" y2=\"172.21379087938817\" stroke-linecap=\"round\" style=\"stroke:red;stroke-width:2\"/><line x1=\"426.6604081677672\" y1=\"172.21379087938817\" x2=\"437.26700988556536\" y2=\"182.82039259718638\" stroke-linecap=\"round\" style=\"stroke:red;stroke-width:2\"/><line x1=\"437.26700988556536\" y1=\"182.82039259718638\" x2=\"428.45023110117825\" y2=\"170.68513768156217\" stroke-linecap=\"round\" style=\"stroke:red;stroke-width:2\"/><line x1=\"428.45023110117825\" y1=\"170.68513768156217\" x2=\"437.47745644845895\" y2=\"182.66467033227156\" stroke-linecap=\"round\" style=\"stroke:red;stroke-width:2\"/><line x1=\"437.47745644845895\" y1=\"182.66467033227156\" x2=\"426.330284066298\" y2=\"172.62771123688867\" stroke-linecap=\"round\" style=\"stroke:red;stroke-width:2\"/><line x1=\"426.330284066298\" y1=\"172.62771123688867\" x2=\"440.33399046375604\" y2=\"178.00323048006817\" stroke-linecap=\"round\" style=\"stroke:red;stroke-width:2\"/><line x1=\"440.33399046375604\" y1=\"178.00323048006817\" x2=\"425.5618741685729\" y2=\"180.60795314507212\" stroke-linecap=\"round\" style=\"stroke:red;stroke-width:2\"/><line x1=\"425.5618741685729\" y1=\"180.60795314507212\" x2=\"435.0016800343205\" y2=\"168.95076372321756\" stroke-linecap=\"round\" style=\"stroke:red;stroke-width:2\"/><line x1=\"435.0016800343205\" y1=\"168.95076372321756\" x2=\"438.1203553965869\" y2=\"183.62297773422463\" stroke-linecap=\"round\" style=\"stroke:red;stroke-width:2\"/><line x1=\"438.1203553965869\" y1=\"183.62297773422463\" x2=\"423.7757840571414\" y2=\"179.2374021633836\" stroke-linecap=\"round\" style=\"stroke:red;stroke-width:2\"/><line x1=\"423.7757840571414\" y1=\"179.2374021633836\" x2=\"432.5925628415285\" y2=\"167.10214724775938\" stroke-linecap=\"round\" style=\"stroke:red;stroke-width:2\"/><line x1=\"432.5925628415285\" y1=\"167.10214724775938\" x2=\"443.19916455932673\" y2=\"177.7087489655576\" stroke-linecap=\"round\" style=\"stroke:red;stroke-width:2\"/>\n",
              "        \n",
              "      <g visibility=visible transform=\"rotate(-45,443.19916455932673,177.7087489655576) translate(443.19916455932673, 177.7087489655576)\">\n",
              "        <circle stroke=\"red\" stroke-width=\"3\" fill=\"transparent\" r=\"12\" cx=\"0\" cy=\"0\"/>\n",
              "        <polygon points=\"0,19 3,16 -3,16\" style=\"fill:red;stroke:red;stroke-width:2\"/>\n",
              "      </g>\n",
              "    \n",
              "      </svg>\n",
              "    "
            ],
            "text/plain": [
              "<IPython.core.display.HTML object>"
            ]
          },
          "metadata": {
            "tags": []
          }
        }
      ]
    }
  ]
}