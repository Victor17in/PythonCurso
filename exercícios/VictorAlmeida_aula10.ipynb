{
  "nbformat": 4,
  "nbformat_minor": 0,
  "metadata": {
    "colab": {
      "name": "VictorAlmeida_aula10.ipynb",
      "provenance": [],
      "collapsed_sections": [],
      "authorship_tag": "ABX9TyN17tX8Xr6OM84fK9z888ES",
      "include_colab_link": true
    },
    "kernelspec": {
      "name": "python3",
      "display_name": "Python 3"
    }
  },
  "cells": [
    {
      "cell_type": "markdown",
      "metadata": {
        "id": "view-in-github",
        "colab_type": "text"
      },
      "source": [
        "<a href=\"https://colab.research.google.com/github/Victor17in/PythonCurso/blob/master/exerc%C3%ADcios/VictorAlmeida_aula10.ipynb\" target=\"_parent\"><img src=\"https://colab.research.google.com/assets/colab-badge.svg\" alt=\"Open In Colab\"/></a>"
      ]
    },
    {
      "cell_type": "markdown",
      "metadata": {
        "id": "9U2jv7E7yaT9"
      },
      "source": [
        "## Exercícios\n",
        "\n",
        "1. Quantos intervalos (ou qual largura de intervalo) é preciso implementar para ter uma precisão de 1% no resultado numérico na integração de $f(x)$ de 0 a 10? \n",
        "\n",
        "$\\dfrac{R_{num}-R_{an}}{R_{an}} \\leq 1\\% $\n",
        "\n",
        "2. Faça a integração numérica pela esquerda da mesma função. Compare o resultado com a integração pela direita.\n",
        "\n",
        "3. Faça a integração por trapézios. Lembre que a área de um trapézio é dada por: $A=\\frac{(a + b)h}{2}$\n",
        "\n",
        "3. Faça a integração numérica das funções trigonométricas $\\sin(x)$ e $\\cos(x)$ num período $0 < x \\leq 2\\pi$\n",
        "\n",
        "4. Faça a integração das funções hiperbólicas  $\\sinh(x)$ e $\\cosh(x)$ no intervalo $0-10$."
      ]
    },
    {
      "cell_type": "code",
      "metadata": {
        "id": "dO-nEUEKyVzT",
        "outputId": "070f0d3a-d393-4789-d520-1fce13b9ea77",
        "colab": {
          "base_uri": "https://localhost:8080/"
        }
      },
      "source": [
        "#1\n",
        "import matplotlib.pyplot as plt\n",
        "import numpy as np\n",
        "import math\n",
        "a = math.exp(0)- math.exp(-10)\n",
        "x_i = 0\n",
        "x_f = 10\n",
        "dx = 1\n",
        "perc = 1\n",
        "while perc >= 0.01:\n",
        "  n_steps = round((x_f - x_i)/dx)\n",
        "  x = np.arange(x_i,x_f,dx)\n",
        "  S1= 0\n",
        "  for xi in x:\n",
        "      S1 = S1+ math.exp(-xi) * dx\n",
        "\n",
        "  perc = abs(S1 - a)/a\n",
        "  print('aproximação',S1, f\"Soma de {n_steps} caixinhas\", 'Erro:', perc*100, '%')\n",
        "  print( )\n",
        "  dx = dx*0.1"
      ],
      "execution_count": null,
      "outputs": [
        {
          "output_type": "stream",
          "text": [
            "aproximação 1.5819048852379485 Soma de 10 caixinhas Erro: 58.197670686932625 %\n",
            "\n",
            "aproximação 1.0507854867242843 Soma de 100 caixinhas Erro: 5.083319447750567 %\n",
            "\n",
            "aproximação 1.004962706011702 Soma de 1000 caixinhas Erro: 0.5008333319445322 %\n",
            "\n"
          ],
          "name": "stdout"
        }
      ]
    },
    {
      "cell_type": "code",
      "metadata": {
        "id": "QqiFF8Eqyoga",
        "outputId": "45534334-8fc4-4f3a-de2e-d93ede7601a3",
        "colab": {
          "base_uri": "https://localhost:8080/"
        }
      },
      "source": [
        "#2\n",
        "import numpy as np\n",
        "def f(x):\n",
        "  return np.exp(-x)\n",
        "\n",
        "def left_integral(f,a,b,dx):\n",
        "  x = np.arange(a,b,dx)\n",
        "  sum = 0\n",
        "  for i in range(len(x) - 1):\n",
        "    sum = sum + f(x[i])*dx\n",
        "  print(f\"soma pela esquerda = {sum}\")\n",
        "  return sum\n",
        "\n",
        "def right_integral(f,a,b,dx):\n",
        "  x = np.arange(a,b,dx)\n",
        "  sum = 0\n",
        "  for i in range(1,len(x)):\n",
        "    sum = sum + f(x[i])*dx\n",
        "  print(f\"soma pela direita = {sum}\")\n",
        "  return sum\n",
        "\n",
        "s1 = right_integral(f, a=0, b=10, dx=1 )\n",
        "s2 = left_integral(f, a=0, b=10, dx=1 )\n",
        "print((s1+s2)/2)"
      ],
      "execution_count": null,
      "outputs": [
        {
          "output_type": "stream",
          "text": [
            "soma pela direita = 0.5819048852379487\n",
            "soma pela esquerda = 1.5817814754338617\n",
            "1.0818431803359052\n"
          ],
          "name": "stdout"
        }
      ]
    },
    {
      "cell_type": "code",
      "metadata": {
        "id": "XbjY_ou4rHeM",
        "outputId": "0a561e26-31b3-4bf9-f688-e29da20a4d33",
        "colab": {
          "base_uri": "https://localhost:8080/",
          "height": 265
        }
      },
      "source": [
        "#extra meu\n",
        "import matplotlib.pyplot as plt\n",
        "import numpy as np\n",
        "import math\n",
        "x=range(0,10)\n",
        "y=[math.cos(xi) for xi in x]  # isto se chama \"list comprehension\"]\n",
        "\n",
        "plt.bar(x,y,color=\"red\",align=\"edge\",width=1)\n",
        "x1 = np.linspace(0,10, 1000) # intervalo de 0 a 10, com 1000 divisões\n",
        "y1=[math.cos(xi) for xi in x1]\n",
        "plt.plot(x1,y1)\n",
        "plt.show()"
      ],
      "execution_count": null,
      "outputs": [
        {
          "output_type": "display_data",
          "data": {
            "image/png": "[encoded data removed]",
            "text/plain": [
              "<Figure size 432x288 with 1 Axes>"
            ]
          },
          "metadata": {
            "tags": [],
            "needs_background": "light"
          }
        }
      ]
    },
    {
      "cell_type": "code",
      "metadata": {
        "id": "P_oBCoFpwNyK",
        "outputId": "cc80c255-58dd-40ee-cd41-42ecb91f7d99",
        "colab": {
          "base_uri": "https://localhost:8080/",
          "height": 265
        }
      },
      "source": [
        "#extra meu\n",
        "x = np.linspace(0,1.5,100)\n",
        "y = np.exp(-x)\n",
        "plt.plot(x,y)\n",
        "\n",
        "x0 = 0; x1 = 1;\n",
        "y0 = np.exp(-x0); y1 = np.exp(-x1);\n",
        "plt.fill_between([x0,x1],[y0,y1])\n",
        "plt.fill_between([1,1.5],[np.exp(-1),np.exp(-1.5)])\n",
        "plt.xlim([0,1.5]); plt.ylim([0,1.5]);\n",
        "plt.show()"
      ],
      "execution_count": null,
      "outputs": [
        {
          "output_type": "display_data",
          "data": {
            "image/png": "[encoded data removed]",
            "text/plain": [
              "<Figure size 432x288 with 1 Axes>"
            ]
          },
          "metadata": {
            "tags": [],
            "needs_background": "light"
          }
        }
      ]
    },
    {
      "cell_type": "code",
      "metadata": {
        "id": "HkC71D8d3oL3",
        "outputId": "971cde77-ebc6-41ba-dc5b-de4155ea66e5",
        "colab": {
          "base_uri": "https://localhost:8080/"
        }
      },
      "source": [
        "#3 tarpezio (f(x[i-1]) + f(x[i]))*dx/2 h=dx (a+b)*h/2\n",
        "import numpy as np\n",
        "def f(x):\n",
        "  return np.exp(-x)\n",
        "\n",
        "def left_integral(f,a,b,dx):\n",
        "  x = np.arange(a,b,dx)\n",
        "  sum = 0\n",
        "  for i in range(len(x) - 1):\n",
        "    sum = sum + (f(x[i-1]) + f(x[i]))*dx/2\n",
        "  print(f\"soma pela esquerda = {sum}\")\n",
        "  return sum\n",
        "\n",
        "def right_integral(f,a,b,dx):\n",
        "  x = np.arange(a,b,dx)\n",
        "  sum = 0\n",
        "  for i in range(1,len(x)):\n",
        "    sum = sum + (f(x[i-1]) + f(x[i]))*dx/2\n",
        "  print(f\"soma pela direita = {sum}\")\n",
        "  return sum\n",
        "s1 = right_integral(f, a=0, b=10, dx=1 ) #direita melhor\n",
        "s2 = left_integral(f, a=0, b=10, dx=1 )\n",
        "print((s1+s2)/2)"
      ],
      "execution_count": null,
      "outputs": [
        {
          "output_type": "stream",
          "text": [
            "soma pela direita = 1.0818431803359057\n",
            "soma pela esquerda = 1.5816754490219544\n",
            "1.33175931467893\n"
          ],
          "name": "stdout"
        }
      ]
    },
    {
      "cell_type": "code",
      "metadata": {
        "id": "MMNof3DDS3gs",
        "outputId": "76960d0f-4bab-440c-87e2-b1b88fc8f22e",
        "colab": {
          "base_uri": "https://localhost:8080/"
        }
      },
      "source": [
        "#4 a\n",
        "import numpy as np\n",
        "import math\n",
        "def f(x):\n",
        "  return math.sin(x)\n",
        "\n",
        "def left_integral(f,a,b,dx):\n",
        "  x = np.arange(a,b,dx)\n",
        "  sum = 0\n",
        "  for i in range(len(x) - 1):\n",
        "    sum = sum + f(x[i])*dx\n",
        "  print(f\"soma pela esquerda = {sum}\")\n",
        "  return sum\n",
        "\n",
        "def right_integral(f,a,b,dx):\n",
        "  x = np.arange(a,b,dx)\n",
        "  sum = 0\n",
        "  for i in range(1,len(x)):\n",
        "    sum = sum + f(x[i])*dx\n",
        "  print(f\"soma pela direita = {sum}\")\n",
        "  return sum\n",
        "\n",
        "s1 = right_integral(f, a=0, b=2*math.pi, dx=0.1 )\n",
        "s2 = left_integral(f, a=0, b=2*math.pi, dx=0.1 )\n",
        "print((s1+s2)/2)"
      ],
      "execution_count": null,
      "outputs": [
        {
          "output_type": "stream",
          "text": [
            "soma pela direita = -0.0006994492302847804\n",
            "soma pela esquerda = 0.00760949105146486\n",
            "0.0034550209105900396\n"
          ],
          "name": "stdout"
        }
      ]
    },
    {
      "cell_type": "code",
      "metadata": {
        "id": "9nX_1r__TZhF",
        "outputId": "2ab9140e-b5d8-4776-eb31-e893c107bdcb",
        "colab": {
          "base_uri": "https://localhost:8080/"
        }
      },
      "source": [
        "#4 b\n",
        "import numpy as np\n",
        "import math\n",
        "def f(x):\n",
        "  return math.cos(x)\n",
        "\n",
        "def left_integral(f,a,b,dx):\n",
        "  x = np.arange(a,b,dx)\n",
        "  sum = 0\n",
        "  for i in range(len(x) - 1):\n",
        "    sum = sum + f(x[i])*dx\n",
        "  print(f\"soma pela esquerda = {sum}\")\n",
        "  return sum\n",
        "\n",
        "def right_integral(f,a,b,dx):\n",
        "  x = np.arange(a,b,dx)\n",
        "  sum = 0\n",
        "  for i in range(1,len(x)):\n",
        "    sum = sum + f(x[i])*dx\n",
        "  print(f\"soma pela direita = {sum}\")\n",
        "  return sum\n",
        "\n",
        "s1 = right_integral(f, a=0, b=2*math.pi, dx=0.1 )\n",
        "s2 = left_integral(f, a=0, b=2*math.pi, dx=0.1 )\n",
        "print((s1+s2)/2)"
      ],
      "execution_count": null,
      "outputs": [
        {
          "output_type": "stream",
          "text": [
            "soma pela direita = -0.08319304525437743\n",
            "soma pela esquerda = -0.0828472549566991\n",
            "-0.08302015010553826\n"
          ],
          "name": "stdout"
        }
      ]
    },
    {
      "cell_type": "code",
      "metadata": {
        "id": "oMkB_ZETTozE",
        "outputId": "28c3eab8-e1fa-40e8-e13e-6f619ec61d16",
        "colab": {
          "base_uri": "https://localhost:8080/"
        }
      },
      "source": [
        "#5 a\n",
        "import numpy as np\n",
        "import math\n",
        "def f(x):\n",
        "  return math.sinh(x)\n",
        "\n",
        "def left_integral(f,a,b,dx):\n",
        "  x = np.arange(a,b,dx)\n",
        "  sum = 0\n",
        "  for i in range(len(x) - 1):\n",
        "    sum = sum + f(x[i])*dx\n",
        "  print(f\"soma pela esquerda = {sum}\")\n",
        "  return sum\n",
        "\n",
        "def right_integral(f,a,b,dx):\n",
        "  x = np.arange(a,b,dx)\n",
        "  sum = 0\n",
        "  for i in range(1,len(x)):\n",
        "    sum = sum + f(x[i])*dx\n",
        "  print(f\"soma pela direita = {sum}\")\n",
        "  return sum\n",
        "\n",
        "s1 = right_integral(f, a=0, b=10, dx=0.1 )\n",
        "s2 = left_integral(f, a=0, b=10, dx=0.1 )\n",
        "print((s1+s2)/2)"
      ],
      "execution_count": null,
      "outputs": [
        {
          "output_type": "stream",
          "text": [
            "soma pela direita = 10470.746608022188\n",
            "soma pela esquerda = 9474.228088619408\n",
            "9972.487348320798\n"
          ],
          "name": "stdout"
        }
      ]
    },
    {
      "cell_type": "code",
      "metadata": {
        "id": "phP63JpjT13-",
        "outputId": "f79e772d-758d-4e7f-81de-065241d94a52",
        "colab": {
          "base_uri": "https://localhost:8080/"
        }
      },
      "source": [
        "#5 b\n",
        "import numpy as np\n",
        "import math\n",
        "def f(x):\n",
        "  return math.cosh(x)\n",
        "\n",
        "def left_integral(f,a,b,dx):\n",
        "  x = np.arange(a,b,dx)\n",
        "  sum = 0\n",
        "  for i in range(len(x) - 1):\n",
        "    sum = sum + f(x[i])*dx\n",
        "  print(f\"soma pela esquerda = {sum}\")\n",
        "  return sum\n",
        "\n",
        "def right_integral(f,a,b,dx):\n",
        "  x = np.arange(a,b,dx)\n",
        "  sum = 0\n",
        "  for i in range(1,len(x)):\n",
        "    sum = sum + f(x[i])*dx\n",
        "  print(f\"soma pela direita = {sum}\")\n",
        "  return sum\n",
        "\n",
        "s1 = right_integral(f, a=0, b=10, dx=0.1 )\n",
        "s2 = left_integral(f, a=0, b=10, dx=0.1 )\n",
        "print((s1+s2)/2)"
      ],
      "execution_count": null,
      "outputs": [
        {
          "output_type": "stream",
          "text": [
            "soma pela direita = 10471.697393508914\n",
            "soma pela esquerda = 9475.278869088663\n",
            "9973.488131298789\n"
          ],
          "name": "stdout"
        }
      ]
    },
    {
      "cell_type": "markdown",
      "metadata": {
        "id": "N7WLqkURixSZ"
      },
      "source": [
        "### Exercícios extras de resolução numérica de equações  diferenciais (da aula passada)\n",
        "\n",
        "1. Imagine que tem um/a maratonista treinando, que num trecho de $5 km$ tem velocidade quase constante de $12 km/h$. Produza uma lista distância percorrida em intervalos de 1 minuto.\n",
        "\n",
        "1. O/A mesmo/a atleta no seguinte trecho acelera por $200$ metros até chegar em $15 km/h$ por $2 km$. Queremos obter uma tabela ou gráfico da distância percorrida en função do tempo e o tempo total para chegar em $7 km$, faça isto utilizando listas.\n",
        "\n",
        "1. Considere um pêndulo simples num plano. O comprimento da linha é $1$ metro, a massa é $0,2 kg$ e a aceleração de gravidade $9,8 m/s^2$. Faça um gráfico ou crie uma tabela para a posição em coordenadas cartesianas em função do tempo, utilizando listas.\n",
        "\n",
        "1. Resolva o pêndulo simples com coordenadas polares (ao invés de coordenadas cartesianas).\n",
        "\n",
        "- (opcional) Pesquise sobre o pacote numpy e os objetos desse pacote chamados array, tente utilizálos ao invés de listas para resolver os exercícios.\n",
        "\n",
        "- (opcional) Pesquise sobre o pacote scipy e seu modulo integrate para resolver integrações ou equações diferenciais numéricamente."
      ]
    },
    {
      "cell_type": "code",
      "metadata": {
        "id": "SjqFoyXViwnR",
        "outputId": "ab7cb76d-6ee6-43af-f56d-53dfce0b0aad",
        "colab": {
          "base_uri": "https://localhost:8080/",
          "height": 297
        }
      },
      "source": [
        "#1b\n",
        "import matplotlib.pyplot as plt\n",
        "d_inicial=0\n",
        "d_final=5\n",
        "v=12.                           #km/h\n",
        "t=[i for i in range(0,26)]     #intervalos de 1 minuto, 30 minutos\n",
        "d = [d_inicial+v/60 * ti for ti in t] # v em km/min\n",
        " \n",
        "plt.plot(t,d)\n",
        "plt.xlabel('tempo (min)')\n",
        "plt.ylabel('distância (km)')\n",
        "plt.show()\n",
        "i=d.index(5)\n",
        "print(\"O atleta percorreu {0} kilômetros em {1} minutos\".format(d[i],t[i]))"
      ],
      "execution_count": 3,
      "outputs": [
        {
          "output_type": "display_data",
          "data": {
            "image/png": "[encoded data removed]",
            "text/plain": [
              "<Figure size 432x288 with 1 Axes>"
            ]
          },
          "metadata": {
            "tags": [],
            "needs_background": "light"
          }
        },
        {
          "output_type": "stream",
          "text": [
            "O atleta percorreu 5.0 kilômetros em 25 minutos\n"
          ],
          "name": "stdout"
        }
      ]
    },
    {
      "cell_type": "code",
      "metadata": {
        "id": "Vqx4GRYckwmk",
        "outputId": "846b83c9-02eb-48c1-a366-178fe3fd8903",
        "colab": {
          "base_uri": "https://localhost:8080/",
          "height": 572
        }
      },
      "source": [
        "#2b\n",
        "t = []\n",
        "dpercorrida = []\n",
        "so = 0\n",
        "sf = 5 #km\n",
        "vconst = 12 #km/h\n",
        "to = 0\n",
        "acrescimodet = 1 #min\n",
        "\n",
        "vconstkmpormin = vconst/60 #km/h para km/min\n",
        "#print(vconstkmpormin)\n",
        "\n",
        "while so != sf:\n",
        "  t.append(to)\n",
        "  #milista.append(10)\n",
        "  so = vconstkmpormin*to\n",
        "  to = to + acrescimodet\n",
        "  dpercorrida.append(round(so,2))\n",
        "\n",
        "print(t)\n",
        "print(dpercorrida)\n",
        "\n",
        "t2 = []\n",
        "dpercorrida2 = []\n",
        "so2 = 0\n",
        "sf2 = 0.2 #km\n",
        "vo = 12 #km/h\n",
        "vf = 15 #km/h\n",
        "to2 = 0\n",
        "acrescimodet2 = 1 #min\n",
        "vokmpormin = vo/60 #km/h para km/min\n",
        "vfkmpormin = vf/60 #km/h para km/min\n",
        "#def torricelli():\n",
        "#vf**2 = vo + 2*a*sf2\n",
        "vdiferequad = (vf**2 - vo**2)\n",
        "print(vdiferequad)\n",
        "Variação2 = (2*sf2)\n",
        "print(Variação2)\n",
        "ac = ((vf**2 - vo**2)/(2*sf2)) #km/(h*h)\n",
        "acm = ((vfkmpormin**2 - vokmpormin**2)/(2*sf2)) #km/(min*min)\n",
        "print(ac, 'km por h*h')\n",
        "print(acm, 'km por minquadrado')\n",
        "acs = ac*3600\n",
        "print(acs) \n",
        "\n",
        "tempo200m = (vf-vo)/ac\n",
        "print(tempo200m, 'h')\n",
        "print(round(tempo200m*60,2), 'min -> tempo de 200 m')\n",
        "print(round(tempo200m*3600,2), 's -> tempo de 200 m')\n",
        "\n",
        "t200 = [25.89]\n",
        "d200m = [5.2]\n",
        "t2 = []\n",
        "dpercorrida2 = []\n",
        "so2 = 5.2\n",
        "sf = 7 #km\n",
        "vconst = 15 #km/h\n",
        "to2 = 26 # min\n",
        "acrescimodet = 1 #min\n",
        "\n",
        "vconstkmpormin = vconst/60 #km/h para km/min\n",
        "#print(vconstkmpormin)\n",
        "\n",
        "while so2 != sf:\n",
        "  t2.append(to2)\n",
        "  so2 = vconstkmpormin*to2\n",
        "  to2 = round(to2 + acrescimodet)\n",
        "  dpercorrida2.append(round(so2,2))\n",
        "\n",
        "print(t2)\n",
        "print(dpercorrida2)\n",
        "mylist = t + t200 +t2\n",
        "mylistd = dpercorrida + d200m + dpercorrida2\n",
        "print(mylist)\n",
        "print(mylistd)\n",
        "\n",
        "import matplotlib.pyplot as plt\n",
        "\n",
        "t=mylist\n",
        "x=mylistd\n",
        "\n",
        "plt.plot(t,x)\n",
        "plt.xlabel(\"tempo min\")\n",
        "plt.ylabel(\"distância m\")\n"
      ],
      "execution_count": 4,
      "outputs": [
        {
          "output_type": "stream",
          "text": [
            "[0, 1, 2, 3, 4, 5, 6, 7, 8, 9, 10, 11, 12, 13, 14, 15, 16, 17, 18, 19, 20, 21, 22, 23, 24, 25]\n",
            "[0.0, 0.2, 0.4, 0.6, 0.8, 1.0, 1.2, 1.4, 1.6, 1.8, 2.0, 2.2, 2.4, 2.6, 2.8, 3.0, 3.2, 3.4, 3.6, 3.8, 4.0, 4.2, 4.4, 4.6, 4.8, 5.0]\n",
            "81\n",
            "0.4\n",
            "202.5 km por h*h\n",
            "0.05624999999999998 km por minquadrado\n",
            "729000.0\n",
            "0.014814814814814815 h\n",
            "0.89 min -> tempo de 200 m\n",
            "53.33 s -> tempo de 200 m\n",
            "[26, 27, 28]\n",
            "[6.5, 6.75, 7.0]\n",
            "[0, 1, 2, 3, 4, 5, 6, 7, 8, 9, 10, 11, 12, 13, 14, 15, 16, 17, 18, 19, 20, 21, 22, 23, 24, 25, 25.89, 26, 27, 28]\n",
            "[0.0, 0.2, 0.4, 0.6, 0.8, 1.0, 1.2, 1.4, 1.6, 1.8, 2.0, 2.2, 2.4, 2.6, 2.8, 3.0, 3.2, 3.4, 3.6, 3.8, 4.0, 4.2, 4.4, 4.6, 4.8, 5.0, 5.2, 6.5, 6.75, 7.0]\n"
          ],
          "name": "stdout"
        },
        {
          "output_type": "execute_result",
          "data": {
            "text/plain": [
              "Text(0, 0.5, 'distância m')"
            ]
          },
          "metadata": {
            "tags": []
          },
          "execution_count": 4
        },
        {
          "output_type": "display_data",
          "data": {
            "image/png": "[encoded data removed]",
            "text/plain": [
              "<Figure size 432x288 with 1 Axes>"
            ]
          },
          "metadata": {
            "tags": [],
            "needs_background": "light"
          }
        }
      ]
    },
    {
      "cell_type": "code",
      "metadata": {
        "id": "7HqIRUD7mnly",
        "outputId": "672a81a9-78c0-40b1-f530-361bdb52176f",
        "colab": {
          "base_uri": "https://localhost:8080/",
          "height": 297
        }
      },
      "source": [
        "#3b\n",
        "import matplotlib.pyplot as plt\n",
        "import math\n",
        "l = 1  # m\n",
        "m = 0.2 # kg\n",
        "g = 9.8 # m/s²\n",
        "angle = int(input())\n",
        "\n",
        "tl = []\n",
        "xl = []\n",
        "zl = []  \n",
        "\n",
        "theta = math.radians(angle)\n",
        "vx = 0                                            \n",
        "vz = 0                                            \n",
        "w = 0  #rad/s\n",
        "to = 0  \n",
        "tf = 30 \n",
        "acrescimodet = 0.1\n",
        "x = l*math.sin(theta)                                  \n",
        "z = -l*math.cos(theta)                                                                      \n",
        "\n",
        "while to <= tf:\n",
        "\tx = l*math.sin(theta)\n",
        "\tz = -l*math.cos(theta)\n",
        "\tac = -(g/l)*math.sin(theta)\n",
        "\tw = w + ac*acrescimodet\n",
        "\ttheta = theta + w*acrescimodet\n",
        "\tto = to + acrescimodet\n",
        "\ttl.append(t)\n",
        "\txl.append(x)\n",
        "\tzl.append(z)\n",
        " \n",
        "def grafico(x,f,x_label,f_label):\n",
        "\tplt.plot(x,f)\n",
        "\tplt.xlabel(x_label)\n",
        "\tplt.ylabel(f_label)\n",
        "\n",
        "grafico(xl,zl,'Posição x em m','Posição z em m')  "
      ],
      "execution_count": 5,
      "outputs": [
        {
          "output_type": "stream",
          "text": [
            "30\n"
          ],
          "name": "stdout"
        },
        {
          "output_type": "display_data",
          "data": {
            "image/png": "[encoded data removed]",
            "text/plain": [
              "<Figure size 432x288 with 1 Axes>"
            ]
          },
          "metadata": {
            "tags": [],
            "needs_background": "light"
          }
        }
      ]
    },
    {
      "cell_type": "code",
      "metadata": {
        "id": "5Q6k-B1ZnGUl",
        "outputId": "a59eddc0-5d51-4fde-c70a-67c0de13ad26",
        "colab": {
          "base_uri": "https://localhost:8080/",
          "height": 305
        }
      },
      "source": [
        "#4b passar para coordenadas polares\n",
        "import matplotlib.pyplot as plt\n",
        "import math\n",
        "l = 1  # m\n",
        "m = 0.2 # kg\n",
        "g = 9.8 # m/s²\n",
        "angle = int(input())\n",
        "\n",
        "tl = []\n",
        "xl = []\n",
        "zl = [] \n",
        "yl = [] \n",
        "rl = []\n",
        "angulol = []\n",
        "\n",
        "theta = math.radians(angle)\n",
        "vx = 0                                            \n",
        "vz = 0                                            \n",
        "w = 0  #rad/s\n",
        "to = 0  \n",
        "tf = 30 \n",
        "acrescimodet = 0.1\n",
        "x = l*math.sin(theta)                                  \n",
        "z = -l*math.cos(theta)                                                                      \n",
        "\n",
        "while to <= tf:\n",
        "\tx = l*math.sin(theta)\n",
        "\ttheta= np.arcsin(x/l)\n",
        "\tz = -l*math.cos(theta)\n",
        "\tac = -(g/l)*math.sin(theta)\n",
        "\tw = w + ac*acrescimodet\n",
        "\ttheta = theta + w*acrescimodet\n",
        "\tto = to + acrescimodet\n",
        "\tr = (((x**2)+(z**2))**1/2) #sempre será bem proximo de 0.5\n",
        "\ty = r*math.cos(theta)\n",
        " \n",
        "\ttl.append(t)\n",
        "\txl.append(x)\n",
        "\tzl.append(z)\n",
        "\tyl.append(y)\n",
        "\trl.append(r)\n",
        "\tangulol.append(theta)\n",
        "\n",
        "import numpy as np \n",
        "import matplotlib.pyplot as plt \n",
        "  \n",
        "def polar(rad, r):  \n",
        "  plt.axes(projection = 'polar') \n",
        "  rads = np.arange(0, (2 * np.pi), 0.01)\n",
        "  plt.polar(rad, r, 'g.') \n",
        "  plt.show()\n",
        "\n",
        "polar(angulol, yl)\n"
      ],
      "execution_count": 73,
      "outputs": [
        {
          "output_type": "stream",
          "text": [
            "45\n"
          ],
          "name": "stdout"
        },
        {
          "output_type": "display_data",
          "data": {
            "image/png": "[encoded data removed]",
            "text/plain": [
              "<Figure size 432x288 with 1 Axes>"
            ]
          },
          "metadata": {
            "tags": [],
            "needs_background": "light"
          }
        }
      ]
    },
    {
      "cell_type": "code",
      "metadata": {
        "id": "iAsbiqvwg4PI",
        "outputId": "b9aaad16-c9ba-4075-bc0d-7bd750eca9b7",
        "colab": {
          "base_uri": "https://localhost:8080/",
          "height": 286
        }
      },
      "source": [
        "import numpy as np \n",
        "import matplotlib.pyplot as plt \n",
        "  \n",
        "def polar(rad, r):  \n",
        "  plt.axes(projection = 'polar') \n",
        "  rads = np.arange(0, (2 * np.pi), 0.01)\n",
        "  plt.polar(rad, r, 'g.') \n",
        "  plt.show()\n",
        "\n",
        "polar(angulol, rl)\n"
      ],
      "execution_count": 67,
      "outputs": [
        {
          "output_type": "display_data",
          "data": {
            "image/png": "[encoded data removed]",
            "text/plain": [
              "<Figure size 432x288 with 1 Axes>"
            ]
          },
          "metadata": {
            "tags": [],
            "needs_background": "light"
          }
        }
      ]
    }
  ]
}