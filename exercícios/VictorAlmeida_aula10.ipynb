{
  "nbformat": 4,
  "nbformat_minor": 0,
  "metadata": {
    "colab": {
      "name": "VictorAlmeida_aula10.ipynb",
      "provenance": [],
      "authorship_tag": "ABX9TyOhtpSRwliPJusbkWVN7B2D",
      "include_colab_link": true
    },
    "kernelspec": {
      "name": "python3",
      "display_name": "Python 3"
    }
  },
  "cells": [
    {
      "cell_type": "markdown",
      "metadata": {
        "id": "view-in-github",
        "colab_type": "text"
      },
      "source": [
        "<a href=\"https://colab.research.google.com/github/Victor17in/PythonCurso/blob/master/exerc%C3%ADcios/VictorAlmeida_aula10.ipynb\" target=\"_parent\"><img src=\"https://colab.research.google.com/assets/colab-badge.svg\" alt=\"Open In Colab\"/></a>"
      ]
    },
    {
      "cell_type": "markdown",
      "metadata": {
        "id": "9U2jv7E7yaT9"
      },
      "source": [
        "## Exercícios\n",
        "\n",
        "1. Quantos intervalos (ou qual largura de intervalo) é preciso implementar para ter uma precisão de 1% no resultado numérico na integração de $f(x)$ de 0 a 10? \n",
        "\n",
        "$\\dfrac{R_{num}-R_{an}}{R_{an}} \\leq 1\\% $\n",
        "\n",
        "2. Faça a integração numérica pela esquerda da mesma função. Compare o resultado com a integração pela direita.\n",
        "\n",
        "3. Faça a integração por trapézios. Lembre que a área de um trapézio é dada por: $A=\\frac{(a + b)h}{2}$\n",
        "\n",
        "3. Faça a integração numérica das funções trigonométricas $\\sin(x)$ e $\\cos(x)$ num período $0 < x \\leq 2\\pi$\n",
        "\n",
        "4. Faça a integração das funções hiperbólicas  $\\sinh(x)$ e $\\cosh(x)$ no intervalo $0-10$."
      ]
    },
    {
      "cell_type": "code",
      "metadata": {
        "id": "dO-nEUEKyVzT",
        "outputId": "070f0d3a-d393-4789-d520-1fce13b9ea77",
        "colab": {
          "base_uri": "https://localhost:8080/"
        }
      },
      "source": [
        "#1\n",
        "import matplotlib.pyplot as plt\n",
        "import numpy as np\n",
        "import math\n",
        "a = math.exp(0)- math.exp(-10)\n",
        "x_i = 0\n",
        "x_f = 10\n",
        "dx = 1\n",
        "perc = 1\n",
        "while perc >= 0.01:\n",
        "  n_steps = round((x_f - x_i)/dx)\n",
        "  x = np.arange(x_i,x_f,dx)\n",
        "  S1= 0\n",
        "  for xi in x:\n",
        "      S1 = S1+ math.exp(-xi) * dx\n",
        "\n",
        "  perc = abs(S1 - a)/a\n",
        "  print('aproximação',S1, f\"Soma de {n_steps} caixinhas\", 'Erro:', perc*100, '%')\n",
        "  print( )\n",
        "  dx = dx*0.1"
      ],
      "execution_count": null,
      "outputs": [
        {
          "output_type": "stream",
          "text": [
            "aproximação 1.5819048852379485 Soma de 10 caixinhas Erro: 58.197670686932625 %\n",
            "\n",
            "aproximação 1.0507854867242843 Soma de 100 caixinhas Erro: 5.083319447750567 %\n",
            "\n",
            "aproximação 1.004962706011702 Soma de 1000 caixinhas Erro: 0.5008333319445322 %\n",
            "\n"
          ],
          "name": "stdout"
        }
      ]
    },
    {
      "cell_type": "code",
      "metadata": {
        "id": "QqiFF8Eqyoga",
        "outputId": "45534334-8fc4-4f3a-de2e-d93ede7601a3",
        "colab": {
          "base_uri": "https://localhost:8080/"
        }
      },
      "source": [
        "#2\n",
        "import numpy as np\n",
        "def f(x):\n",
        "  return np.exp(-x)\n",
        "\n",
        "def left_integral(f,a,b,dx):\n",
        "  x = np.arange(a,b,dx)\n",
        "  sum = 0\n",
        "  for i in range(len(x) - 1):\n",
        "    sum = sum + f(x[i])*dx\n",
        "  print(f\"soma pela esquerda = {sum}\")\n",
        "  return sum\n",
        "\n",
        "def right_integral(f,a,b,dx):\n",
        "  x = np.arange(a,b,dx)\n",
        "  sum = 0\n",
        "  for i in range(1,len(x)):\n",
        "    sum = sum + f(x[i])*dx\n",
        "  print(f\"soma pela direita = {sum}\")\n",
        "  return sum\n",
        "\n",
        "s1 = right_integral(f, a=0, b=10, dx=1 )\n",
        "s2 = left_integral(f, a=0, b=10, dx=1 )\n",
        "print((s1+s2)/2)"
      ],
      "execution_count": null,
      "outputs": [
        {
          "output_type": "stream",
          "text": [
            "soma pela direita = 0.5819048852379487\n",
            "soma pela esquerda = 1.5817814754338617\n",
            "1.0818431803359052\n"
          ],
          "name": "stdout"
        }
      ]
    },
    {
      "cell_type": "code",
      "metadata": {
        "id": "XbjY_ou4rHeM",
        "outputId": "0a561e26-31b3-4bf9-f688-e29da20a4d33",
        "colab": {
          "base_uri": "https://localhost:8080/",
          "height": 265
        }
      },
      "source": [
        "#extra meu\n",
        "import matplotlib.pyplot as plt\n",
        "import numpy as np\n",
        "import math\n",
        "x=range(0,10)\n",
        "y=[math.cos(xi) for xi in x]  # isto se chama \"list comprehension\"]\n",
        "\n",
        "plt.bar(x,y,color=\"red\",align=\"edge\",width=1)\n",
        "x1 = np.linspace(0,10, 1000) # intervalo de 0 a 10, com 1000 divisões\n",
        "y1=[math.cos(xi) for xi in x1]\n",
        "plt.plot(x1,y1)\n",
        "plt.show()"
      ],
      "execution_count": 84,
      "outputs": [
        {
          "output_type": "display_data",
          "data": {
            "image/png": "[encoded data removed]",
            "text/plain": [
              "<Figure size 432x288 with 1 Axes>"
            ]
          },
          "metadata": {
            "tags": [],
            "needs_background": "light"
          }
        }
      ]
    },
    {
      "cell_type": "code",
      "metadata": {
        "id": "P_oBCoFpwNyK",
        "outputId": "cc80c255-58dd-40ee-cd41-42ecb91f7d99",
        "colab": {
          "base_uri": "https://localhost:8080/",
          "height": 265
        }
      },
      "source": [
        "#extra meu\n",
        "x = np.linspace(0,1.5,100)\n",
        "y = np.exp(-x)\n",
        "plt.plot(x,y)\n",
        "\n",
        "x0 = 0; x1 = 1;\n",
        "y0 = np.exp(-x0); y1 = np.exp(-x1);\n",
        "plt.fill_between([x0,x1],[y0,y1])\n",
        "plt.fill_between([1,1.5],[np.exp(-1),np.exp(-1.5)])\n",
        "plt.xlim([0,1.5]); plt.ylim([0,1.5]);\n",
        "plt.show()"
      ],
      "execution_count": 83,
      "outputs": [
        {
          "output_type": "display_data",
          "data": {
            "image/png": "[encoded data removed]",
            "text/plain": [
              "<Figure size 432x288 with 1 Axes>"
            ]
          },
          "metadata": {
            "tags": [],
            "needs_background": "light"
          }
        }
      ]
    },
    {
      "cell_type": "code",
      "metadata": {
        "id": "HkC71D8d3oL3",
        "outputId": "971cde77-ebc6-41ba-dc5b-de4155ea66e5",
        "colab": {
          "base_uri": "https://localhost:8080/"
        }
      },
      "source": [
        "#3 tarpezio (f(x[i-1]) + f(x[i]))*dx/2 h=dx (a+b)*h/2\n",
        "import numpy as np\n",
        "def f(x):\n",
        "  return np.exp(-x)\n",
        "\n",
        "def left_integral(f,a,b,dx):\n",
        "  x = np.arange(a,b,dx)\n",
        "  sum = 0\n",
        "  for i in range(len(x) - 1):\n",
        "    sum = sum + (f(x[i-1]) + f(x[i]))*dx/2\n",
        "  print(f\"soma pela esquerda = {sum}\")\n",
        "  return sum\n",
        "\n",
        "def right_integral(f,a,b,dx):\n",
        "  x = np.arange(a,b,dx)\n",
        "  sum = 0\n",
        "  for i in range(1,len(x)):\n",
        "    sum = sum + (f(x[i-1]) + f(x[i]))*dx/2\n",
        "  print(f\"soma pela direita = {sum}\")\n",
        "  return sum\n",
        "s1 = right_integral(f, a=0, b=10, dx=1 ) #direita melhor\n",
        "s2 = left_integral(f, a=0, b=10, dx=1 )\n",
        "print((s1+s2)/2)"
      ],
      "execution_count": 90,
      "outputs": [
        {
          "output_type": "stream",
          "text": [
            "soma pela direita = 1.0818431803359057\n",
            "soma pela esquerda = 1.5816754490219544\n",
            "1.33175931467893\n"
          ],
          "name": "stdout"
        }
      ]
    },
    {
      "cell_type": "code",
      "metadata": {
        "id": "MMNof3DDS3gs",
        "outputId": "76960d0f-4bab-440c-87e2-b1b88fc8f22e",
        "colab": {
          "base_uri": "https://localhost:8080/"
        }
      },
      "source": [
        "#4 a\n",
        "import numpy as np\n",
        "import math\n",
        "def f(x):\n",
        "  return math.sin(x)\n",
        "\n",
        "def left_integral(f,a,b,dx):\n",
        "  x = np.arange(a,b,dx)\n",
        "  sum = 0\n",
        "  for i in range(len(x) - 1):\n",
        "    sum = sum + f(x[i])*dx\n",
        "  print(f\"soma pela esquerda = {sum}\")\n",
        "  return sum\n",
        "\n",
        "def right_integral(f,a,b,dx):\n",
        "  x = np.arange(a,b,dx)\n",
        "  sum = 0\n",
        "  for i in range(1,len(x)):\n",
        "    sum = sum + f(x[i])*dx\n",
        "  print(f\"soma pela direita = {sum}\")\n",
        "  return sum\n",
        "\n",
        "s1 = right_integral(f, a=0, b=2*math.pi, dx=0.1 )\n",
        "s2 = left_integral(f, a=0, b=2*math.pi, dx=0.1 )\n",
        "print((s1+s2)/2)"
      ],
      "execution_count": null,
      "outputs": [
        {
          "output_type": "stream",
          "text": [
            "soma pela direita = -0.0006994492302847804\n",
            "soma pela esquerda = 0.00760949105146486\n",
            "0.0034550209105900396\n"
          ],
          "name": "stdout"
        }
      ]
    },
    {
      "cell_type": "code",
      "metadata": {
        "id": "9nX_1r__TZhF",
        "outputId": "2ab9140e-b5d8-4776-eb31-e893c107bdcb",
        "colab": {
          "base_uri": "https://localhost:8080/"
        }
      },
      "source": [
        "#4 b\n",
        "import numpy as np\n",
        "import math\n",
        "def f(x):\n",
        "  return math.cos(x)\n",
        "\n",
        "def left_integral(f,a,b,dx):\n",
        "  x = np.arange(a,b,dx)\n",
        "  sum = 0\n",
        "  for i in range(len(x) - 1):\n",
        "    sum = sum + f(x[i])*dx\n",
        "  print(f\"soma pela esquerda = {sum}\")\n",
        "  return sum\n",
        "\n",
        "def right_integral(f,a,b,dx):\n",
        "  x = np.arange(a,b,dx)\n",
        "  sum = 0\n",
        "  for i in range(1,len(x)):\n",
        "    sum = sum + f(x[i])*dx\n",
        "  print(f\"soma pela direita = {sum}\")\n",
        "  return sum\n",
        "\n",
        "s1 = right_integral(f, a=0, b=2*math.pi, dx=0.1 )\n",
        "s2 = left_integral(f, a=0, b=2*math.pi, dx=0.1 )\n",
        "print((s1+s2)/2)"
      ],
      "execution_count": 3,
      "outputs": [
        {
          "output_type": "stream",
          "text": [
            "soma pela direita = -0.08319304525437743\n",
            "soma pela esquerda = -0.0828472549566991\n",
            "-0.08302015010553826\n"
          ],
          "name": "stdout"
        }
      ]
    },
    {
      "cell_type": "code",
      "metadata": {
        "id": "oMkB_ZETTozE",
        "outputId": "28c3eab8-e1fa-40e8-e13e-6f619ec61d16",
        "colab": {
          "base_uri": "https://localhost:8080/"
        }
      },
      "source": [
        "#5 a\n",
        "import numpy as np\n",
        "import math\n",
        "def f(x):\n",
        "  return math.sinh(x)\n",
        "\n",
        "def left_integral(f,a,b,dx):\n",
        "  x = np.arange(a,b,dx)\n",
        "  sum = 0\n",
        "  for i in range(len(x) - 1):\n",
        "    sum = sum + f(x[i])*dx\n",
        "  print(f\"soma pela esquerda = {sum}\")\n",
        "  return sum\n",
        "\n",
        "def right_integral(f,a,b,dx):\n",
        "  x = np.arange(a,b,dx)\n",
        "  sum = 0\n",
        "  for i in range(1,len(x)):\n",
        "    sum = sum + f(x[i])*dx\n",
        "  print(f\"soma pela direita = {sum}\")\n",
        "  return sum\n",
        "\n",
        "s1 = right_integral(f, a=0, b=10, dx=0.1 )\n",
        "s2 = left_integral(f, a=0, b=10, dx=0.1 )\n",
        "print((s1+s2)/2)"
      ],
      "execution_count": 5,
      "outputs": [
        {
          "output_type": "stream",
          "text": [
            "soma pela direita = 10470.746608022188\n",
            "soma pela esquerda = 9474.228088619408\n",
            "9972.487348320798\n"
          ],
          "name": "stdout"
        }
      ]
    },
    {
      "cell_type": "code",
      "metadata": {
        "id": "phP63JpjT13-",
        "outputId": "f79e772d-758d-4e7f-81de-065241d94a52",
        "colab": {
          "base_uri": "https://localhost:8080/"
        }
      },
      "source": [
        "#5 b\n",
        "import numpy as np\n",
        "import math\n",
        "def f(x):\n",
        "  return math.cosh(x)\n",
        "\n",
        "def left_integral(f,a,b,dx):\n",
        "  x = np.arange(a,b,dx)\n",
        "  sum = 0\n",
        "  for i in range(len(x) - 1):\n",
        "    sum = sum + f(x[i])*dx\n",
        "  print(f\"soma pela esquerda = {sum}\")\n",
        "  return sum\n",
        "\n",
        "def right_integral(f,a,b,dx):\n",
        "  x = np.arange(a,b,dx)\n",
        "  sum = 0\n",
        "  for i in range(1,len(x)):\n",
        "    sum = sum + f(x[i])*dx\n",
        "  print(f\"soma pela direita = {sum}\")\n",
        "  return sum\n",
        "\n",
        "s1 = right_integral(f, a=0, b=10, dx=0.1 )\n",
        "s2 = left_integral(f, a=0, b=10, dx=0.1 )\n",
        "print((s1+s2)/2)"
      ],
      "execution_count": null,
      "outputs": [
        {
          "output_type": "stream",
          "text": [
            "soma pela direita = 10471.697393508914\n",
            "soma pela esquerda = 9475.278869088663\n",
            "9973.488131298789\n"
          ],
          "name": "stdout"
        }
      ]
    }
  ]
}