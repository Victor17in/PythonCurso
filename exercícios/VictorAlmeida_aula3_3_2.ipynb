{
  "nbformat": 4,
  "nbformat_minor": 0,
  "metadata": {
    "colab": {
      "name": "VictorAlmeida_aula3_3_2.ipynb",
      "provenance": [],
      "authorship_tag": "ABX9TyOsT81w2LCxWQSgBC0SS3ko",
      "include_colab_link": true
    },
    "kernelspec": {
      "name": "python3",
      "display_name": "Python 3"
    }
  },
  "cells": [
    {
      "cell_type": "markdown",
      "metadata": {
        "id": "view-in-github",
        "colab_type": "text"
      },
      "source": [
        "<a href=\"https://colab.research.google.com/github/Victor17in/PythonCurso/blob/master/exerc%C3%ADcios/VictorAlmeida_aula3_3_2.ipynb\" target=\"_parent\"><img src=\"https://colab.research.google.com/assets/colab-badge.svg\" alt=\"Open In Colab\"/></a>"
      ]
    },
    {
      "cell_type": "code",
      "metadata": {
        "id": "txtU-ttLhdxL",
        "outputId": "afb9e142-085c-4063-864a-58d5870baa93",
        "colab": {
          "base_uri": "https://localhost:8080/",
          "height": 136
        }
      },
      "source": [
        "print ('Crie uma função que calcule e imprima velocidade media de um objeto a partir de uma posição inicial,')\n",
        "print ('a final e o tempo transcorrido para um objeto em MRU. ')\n",
        "def vm():\n",
        "    So= 10\n",
        "    Sf= 20\n",
        "    DS= Sf-So\n",
        "    DT= 5\n",
        "    Vm= DS/DT\n",
        "    print ('Velocida média é:')\n",
        "    print (Vm, 'm/s')\n",
        "vm()\n",
        "print('Também crie uma funcão que calcule e imprima a velocidade de um objeto a partir da aceleração constante e o tempo (MRUA) (p.ex. queda livre).')\n",
        "def ac():\n",
        "    Vo = 15\n",
        "    a = 5\n",
        "    t = 6\n",
        "    Vf = Vo + a*t\n",
        "    print ('A velocidade final é:')\n",
        "    print (Vf, 'm/s')\n",
        "ac()\n"
      ],
      "execution_count": null,
      "outputs": [
        {
          "output_type": "stream",
          "text": [
            "Crie uma função que calcule e imprima velocidade media de um objeto a partir de uma posição inicial,\n",
            "a final e o tempo transcorrido para um objeto em MRU. \n",
            "Velocida média é:\n",
            "2.0 m/s\n",
            "Também crie uma funcão que calcule e imprima a velocidade de um objeto a partir da aceleração constante e o tempo (MRUA) (p.ex. queda libre).\n",
            "A velocidade final é:\n",
            "45 m/s\n"
          ],
          "name": "stdout"
        }
      ]
    },
    {
      "cell_type": "markdown",
      "metadata": {
        "id": "41ZsjCRtgq3y"
      },
      "source": [
        "Refazendo"
      ]
    },
    {
      "cell_type": "code",
      "metadata": {
        "id": "YwFEhZImgff7",
        "outputId": "5047a4dc-2302-4d0b-ccc0-c416e22c4589",
        "colab": {
          "base_uri": "https://localhost:8080/",
          "height": 170
        }
      },
      "source": [
        "import sympy as sym\n",
        "x = sym.Symbol('x')\n",
        "y = sym.Symbol('y')\n",
        "x= int(input('Posição inicial '))\n",
        "y= int(input('Posição final '))\n",
        "t= int(input('Tempo transcorrido '))\n",
        "def vm1(x, y, t):\n",
        "    so= x\n",
        "    sf= y\n",
        "    ds= y - x\n",
        "    dt= t\n",
        "    vm= ds/dt\n",
        "    print ('A velocidae média é: ', vm, 'm/s')\n",
        "vm1(x, y, t)\n",
        "\n",
        "vo= int(input('Velocidade inicial '))\n",
        "a= int(input('Aceleração '))\n",
        "tc= int(input('Tempo transcorrido '))\n",
        "def ac1(vo, a, tc):\n",
        "    vf= vo + a*tc\n",
        "    print ('A velocidade final é:')\n",
        "    print (vf, 'm/s')\n",
        "ac1(vo, a, tc)"
      ],
      "execution_count": 23,
      "outputs": [
        {
          "output_type": "stream",
          "text": [
            "Posição inicial 10\n",
            "Posição final 20\n",
            "Tempo transcorrido 1\n",
            "A velocidae média é:  10.0 m/s\n",
            "Velocidade inicial 20\n",
            "Aceleração 5\n",
            "Tempo transcorrido 3\n",
            "A velocidade final é:\n",
            "35 m/s\n"
          ],
          "name": "stdout"
        }
      ]
    }
  ]
}