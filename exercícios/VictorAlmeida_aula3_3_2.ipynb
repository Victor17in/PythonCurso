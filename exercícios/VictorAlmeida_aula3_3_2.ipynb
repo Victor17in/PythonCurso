{
  "nbformat": 4,
  "nbformat_minor": 0,
  "metadata": {
    "colab": {
      "name": "VictorAlmeida_aula3_3_2.ipynb",
      "provenance": [],
      "authorship_tag": "ABX9TyNKITZNa3T0hHGvMMtbgPpz",
      "include_colab_link": true
    },
    "kernelspec": {
      "name": "python3",
      "display_name": "Python 3"
    }
  },
  "cells": [
    {
      "cell_type": "markdown",
      "metadata": {
        "id": "view-in-github",
        "colab_type": "text"
      },
      "source": [
        "<a href=\"https://colab.research.google.com/github/Victor17in/PythonCurso/blob/master/exerc%C3%ADcios/VictorAlmeida_aula3_3_2.ipynb\" target=\"_parent\"><img src=\"https://colab.research.google.com/assets/colab-badge.svg\" alt=\"Open In Colab\"/></a>"
      ]
    },
    {
      "cell_type": "code",
      "metadata": {
        "id": "txtU-ttLhdxL",
        "outputId": "afb9e142-085c-4063-864a-58d5870baa93",
        "colab": {
          "base_uri": "https://localhost:8080/",
          "height": 136
        }
      },
      "source": [
        "print ('Crie uma função que calcule e imprima velocidade media de um objeto a partir de uma posição inicial,')\n",
        "print ('a final e o tempo transcorrido para um objeto em MRU. ')\n",
        "def vm():\n",
        "    So= 10\n",
        "    Sf= 20\n",
        "    DS= Sf-So\n",
        "    DT= 5\n",
        "    Vm= DS/DT\n",
        "    print ('Velocida média é:')\n",
        "    print (Vm, 'm/s')\n",
        "vm()\n",
        "print('Também crie uma funcão que calcule e imprima a velocidade de um objeto a partir da aceleração constante e o tempo (MRUA) (p.ex. queda livre).')\n",
        "def ac():\n",
        "    Vo = 15\n",
        "    a = 5\n",
        "    t = 6\n",
        "    Vf = Vo + a*t\n",
        "    print ('A velocidade final é:')\n",
        "    print (Vf, 'm/s')\n",
        "ac()\n"
      ],
      "execution_count": null,
      "outputs": [
        {
          "output_type": "stream",
          "text": [
            "Crie uma função que calcule e imprima velocidade media de um objeto a partir de uma posição inicial,\n",
            "a final e o tempo transcorrido para um objeto em MRU. \n",
            "Velocida média é:\n",
            "2.0 m/s\n",
            "Também crie uma funcão que calcule e imprima a velocidade de um objeto a partir da aceleração constante e o tempo (MRUA) (p.ex. queda libre).\n",
            "A velocidade final é:\n",
            "45 m/s\n"
          ],
          "name": "stdout"
        }
      ]
    }
  ]
}