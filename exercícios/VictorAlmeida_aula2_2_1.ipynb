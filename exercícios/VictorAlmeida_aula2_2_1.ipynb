{
  "nbformat": 4,
  "nbformat_minor": 0,
  "metadata": {
    "colab": {
      "name": "Untitled0.ipynb",
      "provenance": [],
      "authorship_tag": "ABX9TyNPLyj2bAEOP2mIcWXfN/bt",
      "include_colab_link": true
    },
    "kernelspec": {
      "name": "python3",
      "display_name": "Python 3"
    }
  },
  "cells": [
    {
      "cell_type": "markdown",
      "metadata": {
        "id": "view-in-github",
        "colab_type": "text"
      },
      "source": [
        "<a href=\"https://colab.research.google.com/github/Victor17in/PythonCurso/blob/master/exerc%C3%ADcios/aula2_2_1.ipynb\" target=\"_parent\"><img src=\"https://colab.research.google.com/assets/colab-badge.svg\" alt=\"Open In Colab\"/></a>"
      ]
    },
    {
      "cell_type": "code",
      "metadata": {
        "id": "Kkfx8F_NBkVx",
        "colab_type": "code",
        "colab": {
          "base_uri": "https://localhost:8080/",
          "height": 221
        },
        "outputId": "03d8f894-de61-490d-c39b-6a391f5c78d1"
      },
      "source": [
        "largura = 17\n",
        "altura = 12.0\n",
        "delimitador = \".\"\n",
        "print ('Valor da expressão:')\n",
        "print (largura/2)\n",
        "print (largura/2.0)\n",
        "print (altura/3)\n",
        "print (1 + 2 * 5)\n",
        "print(delimitador*5)\n",
        "print ('Tipo do valor da expressão:')\n",
        "print (type(largura/2))\n",
        "print (type(largura/2.0))\n",
        "print (type(altura/3))\n",
        "print (type(1 + 2 * 5))\n",
        "print(type(delimitador*5))"
      ],
      "execution_count": 13,
      "outputs": [
        {
          "output_type": "stream",
          "text": [
            "Valor da expressão:\n",
            "8.5\n",
            "8.5\n",
            "4.0\n",
            "11\n",
            ".....\n",
            "Tipo do valor da expressão:\n",
            "<class 'float'>\n",
            "<class 'float'>\n",
            "<class 'float'>\n",
            "<class 'int'>\n",
            "<class 'str'>\n"
          ],
          "name": "stdout"
        }
      ]
    }
  ]
}
