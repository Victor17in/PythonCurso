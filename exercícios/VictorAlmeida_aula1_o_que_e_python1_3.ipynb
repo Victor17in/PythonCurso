{
  "nbformat": 4,
  "nbformat_minor": 0,
  "metadata": {
    "kernelspec": {
      "display_name": "Python 3",
      "language": "python",
      "name": "python3"
    },
    "language_info": {
      "codemirror_mode": {
        "name": "ipython",
        "version": 3
      },
      "file_extension": ".py",
      "mimetype": "text/x-python",
      "name": "python",
      "nbconvert_exporter": "python",
      "pygments_lexer": "ipython3",
      "version": "3.7.0"
    },
    "colab": {
      "name": "Cópia de Cópia de Cópia de Cópia de aula1_o_que_e_python.ipynb",
      "provenance": [],
      "include_colab_link": true
    }
  },
  "cells": [
    {
      "cell_type": "markdown",
      "metadata": {
        "id": "view-in-github",
        "colab_type": "text"
      },
      "source": [
        "<a href=\"https://colab.research.google.com/github/Victor17in/PythonCurso/blob/master/exerc%C3%ADcios/C%C3%B3pia_de_aula1_o_que_e_python1_3.ipynb\" target=\"_parent\"><img src=\"https://colab.research.google.com/assets/colab-badge.svg\" alt=\"Open In Colab\"/></a>"
      ]
    },
    {
      "cell_type": "code",
      "metadata": {
        "id": "HGgrwvbhO4zS",
        "colab_type": "code",
        "colab": {
          "base_uri": "https://localhost:8080/",
          "height": 102
        },
        "outputId": "d5e72791-5910-49e7-9727-1ea1199759ee"
      },
      "source": [
        "   \n",
        "print(\"Ache os zeros da função y = 3 *x^2 - 4 *x -10\")\n",
        "\n",
        "a= 3\n",
        "\n",
        "b= 4\n",
        "\n",
        "c= -10\n",
        "\n",
        "print(\"Se a=\", a,\" b=\", b,\" c=\", c)\n",
        "\n",
        "d= b**(2)-4*a*c\n",
        "\n",
        "print(\"E delta = b²-4ac\")\n",
        "\n",
        "X1= (-b)/(2*a) + (d**(1/2))/(2*a)\n",
        "\n",
        "X2= (-b)/(2*a) - (d**(1/2))/(2*a)\n",
        "\n",
        "print(\"Dada a equação x= -b/2a +- d^(1/2)/2a)\")\n",
        "\n",
        "print (\"As raizes da função são\", X1, X2)"
      ],
      "execution_count": 1,
      "outputs": [
        {
          "output_type": "stream",
          "text": [
            "Ache os zeros da função y = 3 *x^2 - 4 *x -10\n",
            "Se a= 3  b= 4  c= -10\n",
            "E delta = b²-4ac\n",
            "Dada a equação x= -b/2a +- d^(1/2)/2a)\n",
            "As raizes da função são 1.2769839649484336 -2.610317298281767\n"
          ],
          "name": "stdout"
        }
      ]
    }
  ]
}
