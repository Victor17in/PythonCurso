{
  "nbformat": 4,
  "nbformat_minor": 0,
  "metadata": {
    "colab": {
      "name": "VictorAlmeida_aula11.ipynb",
      "provenance": [],
      "collapsed_sections": [],
      "authorship_tag": "ABX9TyO5Z0NWr2cxMYcTP4oTlbzg",
      "include_colab_link": true
    },
    "kernelspec": {
      "name": "python3",
      "display_name": "Python 3"
    }
  },
  "cells": [
    {
      "cell_type": "markdown",
      "metadata": {
        "id": "view-in-github",
        "colab_type": "text"
      },
      "source": [
        "<a href=\"https://colab.research.google.com/github/Victor17in/PythonCurso/blob/master/exerc%C3%ADcios/VictorAlmeida_aula11.ipynb\" target=\"_parent\"><img src=\"https://colab.research.google.com/assets/colab-badge.svg\" alt=\"Open In Colab\"/></a>"
      ]
    },
    {
      "cell_type": "markdown",
      "metadata": {
        "id": "ytySECp0tabL"
      },
      "source": [
        "## Exercícios:\n",
        "\n",
        "1) Utilizando dicionários e o método ***get***, contrua a seguinte matriz em python e acesse os valores de índices (0,3), (2,1), (4,3) e (2,2).\n",
        "![matrix](https://github.com/malbouis/Python_intro/blob/master/aulas_2019/pics/matrix_aula12.png?raw=1)"
      ]
    },
    {
      "cell_type": "code",
      "metadata": {
        "id": "yKvc2AH1tXw_",
        "colab": {
          "base_uri": "https://localhost:8080/"
        },
        "outputId": "30e0a49a-43e2-4495-beb5-86fe8f8e87c1"
      },
      "source": [
        "matrix = {(0, 0): 0, (0, 1): 0, (0, 2): 0, (0, 3): 1, (0, 4): 0, (1, 0): 0, (1, 1): 0, (1, 2): 0, (1, 3): 0, (1, 4): 0, (2, 0): 0, (2, 1): 2, (2, 2): 0, (2, 3): 1, (2, 4): 0, (3, 0): 0, (3, 1): 0, (3, 2): 0, (3, 3): 0, (3, 4): 0, (4, 0): 0, (4, 1): 0, (4, 2): 0, (4, 3): 3, (4, 4): 0}\n",
        "print(matrix.get((0,3)))\n",
        "print(matrix.get((2, 1)))\n",
        "print(matrix.get((4,3)))\n",
        "print(matrix.get((2, 2)))"
      ],
      "execution_count": null,
      "outputs": [
        {
          "output_type": "stream",
          "text": [
            "1\n",
            "2\n",
            "3\n",
            "0\n"
          ],
          "name": "stdout"
        }
      ]
    },
    {
      "cell_type": "markdown",
      "metadata": {
        "id": "k4Mo3ONKvzKZ"
      },
      "source": [
        "2) Contagem de Letras. \n",
        "\n",
        "a) Utilizando dicionários, escreva uma função que tome como argumento uma palavra (string) e  retorne um dicionário que tem como ***key*** a letra da palavra e como valor o número de vezes que ela aparece na palavra. Tal dicionário é chamado de **tabela de frequência**.\n",
        "***Dica***: Utilize o método ***get*** dos dicionários.\n",
        "\n",
        "b) Utilizando os métodos sort() (referente a listas) e items() (referente a dicionários), imprima na tela uma lista ordenada alfabeticamente da tabela de frequência obtida no item a)."
      ]
    },
    {
      "cell_type": "code",
      "metadata": {
        "id": "Xn0aj4wtz5Tx",
        "colab": {
          "base_uri": "https://localhost:8080/"
        },
        "outputId": "37ab9cf8-bfbf-44b9-bd5c-ea9eb04b9c64"
      },
      "source": [
        "def tabela_de_frequencia(palavra):\n",
        "\tcount_letras = {}\n",
        "\tfor i in palavra:\n",
        "\t\tcount_letras[i] = count_letras.get(i, 0) + 1\n",
        "\treturn count_letras\n",
        "\n",
        "palavra = input('Digite a palavra que você deseja imprimir uma tabela de frequência: ')\n",
        "dicti = tabela_de_frequencia(palavra)\n",
        "print(dicti)\n",
        "\n",
        "print('\\nb)')\n",
        "\n",
        "def ordenação(dicti):\n",
        "\tdicti = list(dicti.items())\n",
        "\tdicti.sort()\n",
        "\treturn dicti\n",
        "\n",
        "print(ordenação(dicti))"
      ],
      "execution_count": null,
      "outputs": [
        {
          "output_type": "stream",
          "text": [
            "Digite a palavra que você deseja imprimir uma tabela de frequência: thinkinpython\n",
            "{'t': 2, 'h': 2, 'i': 2, 'n': 3, 'k': 1, 'p': 1, 'y': 1, 'o': 1}\n",
            "\n",
            "b)\n",
            "[('h', 2), ('i', 2), ('k', 1), ('n', 3), ('o', 1), ('p', 1), ('t', 2), ('y', 1)]\n"
          ],
          "name": "stdout"
        }
      ]
    },
    {
      "cell_type": "markdown",
      "metadata": {
        "id": "wkNhrxXXx4Ua"
      },
      "source": [
        "3) Escreva um programa que leia uma string e retorne uma tabela das letras do alfabeto em ordem alfabética que ocorrem na string junto com o número de vezes que cada letra ocorre. Letras maiúsculas devem deve ser ignoradas. Um exemplo de saída do programa quando o usuário digita os dados “ThiS is String with Upper and lower case Letters”, seria o seguinte:\n",
        "\n",
        "a  2\n",
        "\n",
        "c  1\n",
        "\n",
        "\n",
        "d  1\n",
        "\n",
        "\n",
        "e  5\n",
        "\n",
        "\n",
        "g  1\n",
        "\n",
        "\n",
        "h  2\n",
        "\n",
        "\n",
        "i  4\n",
        "\n",
        "\n",
        "l  2\n",
        "\n",
        "\n",
        "n  2\n",
        "\n",
        "\n",
        "o  1\n",
        "\n",
        "\n",
        "p  2\n",
        "\n",
        "\n",
        "r  4\n",
        "\n",
        "\n",
        "s  5\n",
        "\n",
        "\n",
        "t  5\n",
        "\n",
        "\n",
        "u  1\n",
        "\n",
        "\n",
        "w  2"
      ]
    },
    {
      "cell_type": "code",
      "metadata": {
        "id": "qi3ItVd-x88V",
        "colab": {
          "base_uri": "https://localhost:8080/"
        },
        "outputId": "0a457878-b7eb-4fc7-ae46-ac77cf30c909"
      },
      "source": [
        "def tabela_ordenada(palavra):\n",
        "\tcount = {}\n",
        "\tfor i in palavra:\n",
        "\t\tcount[i] = count.get(i,0) + 1\n",
        "\treturn count\n",
        "\n",
        "palavra = input('Digite a string que você deseja ordenar em uma tabela de frequência: ')\n",
        "palavra = \"\".join(palavra.strip(\".\").split()).lower()\n",
        "dicti = tabela_ordenada(palavra)\n",
        "\n",
        "for (i,j) in sorted(dicti.items()):\n",
        "\tprint(i,j)"
      ],
      "execution_count": null,
      "outputs": [
        {
          "output_type": "stream",
          "text": [
            "Digite a string que você deseja ordenar em uma tabela de frequência: geografia\n",
            "a 2\n",
            "e 1\n",
            "f 1\n",
            "g 2\n",
            "i 1\n",
            "o 1\n",
            "r 1\n"
          ],
          "name": "stdout"
        }
      ]
    }
  ]
}