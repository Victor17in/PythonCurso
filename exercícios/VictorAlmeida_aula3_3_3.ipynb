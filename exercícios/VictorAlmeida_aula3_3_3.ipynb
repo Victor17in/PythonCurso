{
  "nbformat": 4,
  "nbformat_minor": 0,
  "metadata": {
    "colab": {
      "name": "VictorAlmeida_aula3_3_3.ipynb",
      "provenance": [],
      "authorship_tag": "ABX9TyOil6uKG2f+ZdyB7RQB5kdr",
      "include_colab_link": true
    },
    "kernelspec": {
      "name": "python3",
      "display_name": "Python 3"
    }
  },
  "cells": [
    {
      "cell_type": "markdown",
      "metadata": {
        "id": "view-in-github",
        "colab_type": "text"
      },
      "source": [
        "<a href=\"https://colab.research.google.com/github/Victor17in/PythonCurso/blob/master/exerc%C3%ADcios/VictorAlmeida_aula3_3_3.ipynb\" target=\"_parent\"><img src=\"https://colab.research.google.com/assets/colab-badge.svg\" alt=\"Open In Colab\"/></a>"
      ]
    },
    {
      "cell_type": "code",
      "metadata": {
        "id": "txtU-ttLhdxL",
        "colab_type": "code",
        "colab": {
          "base_uri": "https://localhost:8080/",
          "height": 85
        },
        "outputId": "4b2ce720-8ce1-4a08-e2cd-0916a0acdead"
      },
      "source": [
        "import math\n",
        "print ('Crie uma funcão para calcular o ángulo zenital do sol (da semana passada) tomando como argumento as medidas da altura e o comprimento da sombra.')\n",
        "print ('A sombra de um poste de 5 m de altura tem apenas 50 cm de comprimento no chão, qual o ângulo zenital do sol?')\n",
        "def angz():\n",
        "    C1= 5\n",
        "    C2= 0.5\n",
        "    tan = C2/C1\n",
        "    theta= math.degrees(math.atan(0.5/5)) #argumentos: altura e comprimento\n",
        "    print ('O ângulo zenital é:')\n",
        "    print (theta)\n",
        "angz()"
      ],
      "execution_count": 6,
      "outputs": [
        {
          "output_type": "stream",
          "text": [
            "Crie uma funcão para calcular o ángulo zenital do sol (da semana passada) tomando como argumento as medidas da altura e o comprimento da sombra.\n",
            "A sombra de um poste de 5 m de altura tem apenas 50 cm de comprimento no chão, qual o ângulo zenital do sol?\n",
            "O ângulo zenital é:\n",
            "5.710593137499643\n"
          ],
          "name": "stdout"
        }
      ]
    }
  ]
}