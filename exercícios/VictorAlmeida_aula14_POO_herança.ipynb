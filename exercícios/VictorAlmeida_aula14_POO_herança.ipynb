{
  "nbformat": 4,
  "nbformat_minor": 0,
  "metadata": {
    "colab": {
      "name": "VictorAlmeida_aula14_POO_herança.ipynb",
      "provenance": [],
      "collapsed_sections": [],
      "authorship_tag": "ABX9TyNw1p88aLDWJxNzz67V6YjI",
      "include_colab_link": true
    },
    "kernelspec": {
      "name": "python3",
      "display_name": "Python 3"
    }
  },
  "cells": [
    {
      "cell_type": "markdown",
      "metadata": {
        "id": "view-in-github",
        "colab_type": "text"
      },
      "source": [
        "<a href=\"https://colab.research.google.com/github/Victor17in/PythonCurso/blob/master/exerc%C3%ADcios/VictorAlmeida_aula14_POO_heran%C3%A7a.ipynb\" target=\"_parent\"><img src=\"https://colab.research.google.com/assets/colab-badge.svg\" alt=\"Open In Colab\"/></a>"
      ]
    },
    {
      "cell_type": "markdown",
      "metadata": {
        "id": "Thc7NlaRzeJ6"
      },
      "source": [
        "#### Exercício: adicione um método `__sub __ (self, other)` que sobrecarrega o operador de subtração e teste-o."
      ]
    },
    {
      "cell_type": "code",
      "metadata": {
        "id": "QupJK1uYzYUG"
      },
      "source": [
        "class  Ponto: \n",
        "    # Métodos previamente definidos aqui ... \n",
        "\n",
        "    def  __add__ ( self ,  other ): \n",
        "        return  Ponto( self.x + other.x , self.y + other.y ) \n",
        "    def  __sub__ ( self ,  other ): \n",
        "        return  Ponto( self.x - other.x , self.y - other.y )"
      ],
      "execution_count": null,
      "outputs": []
    },
    {
      "cell_type": "markdown",
      "metadata": {
        "id": "W6PcpmyV0BPU"
      },
      "source": [
        "##  Exercícios \n",
        "1. Escreva uma função booleana  chamada `entre`  que tome dois objetos MeuTempo, t1 e t2 , como argumentos, e retorne `True` se um terceiro objeto MeuTempo invocado estiver entre os dois tempos. Suponha que o tempo t1 <= t2 , e faça o teste fechado no limite inferior e abra no limite superior, isto é, retorne True se t1 <= obj < t2.\n",
        "\n",
        "1. Transforme a função acima em um método na classe MeuTempo.\n",
        "\n",
        "1. Sobrecarregue o(s) operador(es) necessário(s)  --ver a lista de métodos especiais em https://docs.python.org/3/reference/datamodel.html#special-method-names -- para que, em vez de ter que escrever :\n",
        "```python\n",
        "if t1.depois( t2 ):  \n",
        "     ...\n",
        "```\n",
        "possamos usar o mais conveniente:\n",
        "```python\n",
        "if t1  >  t2 :  \n",
        "     ...\n",
        "```"
      ]
    },
    {
      "cell_type": "code",
      "metadata": {
        "colab": {
          "base_uri": "https://localhost:8080/"
        },
        "id": "Ix1TOqKP0PUU",
        "outputId": "4021ef8c-7960-4f20-80c5-97acaee8f158"
      },
      "source": [
        "class  MeuTempo : \n",
        "    # Métodos previamente definidos aqui ... \n",
        "    def  __init__ ( self ,  hrs = 0 ,  mins = 0 ,  segs = 0 ): \n",
        "        \"\"\" Criar um novo objeto MeuTempo inicializado para hrs, min, segs. \n",
        "           Os valores de mins e segs podem estar fora do intervalo de 0-59, \n",
        "           mas o objecto MeuTempo resultante será normalizado.  \"\"\" \n",
        "        # Calcular total de segundos para representar \n",
        "        self.totalsegs =  hrs * 3600  +  mins * 60  +  segs \n",
        "        self.horas =  self.totalsegs  //  3600         # Divisão em h, m, s \n",
        "        restosegs =  self.totalsegs  %  3600 \n",
        "        self.minutos  =  restosegs  //  60 \n",
        "        self.segundos  =  restosegs  %  60\n",
        "        if self.horas >=24:\n",
        "            self.horas = self.horas%24\n",
        "    def  to_seconds ( self ): \n",
        "        \"\" \"Retorna o número de segundos representados por esta instância \" \"\" \n",
        "        return  self.totalsegs\n",
        "    \n",
        "    def  __add__ ( self ,  other ): \n",
        "        \"\"\" Retorna a soma do tempo atual e outro, para utilizar com o simbolo + \"\"\"\n",
        "        return  MeuTempo ( 0 ,  0 ,  self.to_seconds()  +  other.to_seconds())\n",
        "    \n",
        "    def __str__(self):\n",
        "        \"\"\"Retorna uma representação do objeto como string, legível para humanos.\"\"\"\n",
        "        return '%.2d:%.2d:%.2d' % (self.horas, self.minutos, self.segundos)\n",
        "    def  depois ( self ,  time2 ): \n",
        "        \"\" \"Retorna True se self for estritamente maior que time2\" \"\" \n",
        "        if  self.horas  >  time2.horas : \n",
        "            return  True \n",
        "        if  self.horas  <  time2.horas : \n",
        "            return  False \n",
        "\n",
        "        if  self.minutos  >  time2.minutos : \n",
        "            return  True \n",
        "        if  self.minutos  <  time2.minutos : \n",
        "            return  False \n",
        "        if  self.segundos  >  time2.segundos : \n",
        "            return  True \n",
        "        return  False\n",
        "    \n",
        "t1  =  MeuTempo ( 10 ,  55 ,  12 ) \n",
        "t2  =  MeuTempo ( 10 ,  48 ,  22 ) \n",
        "t1.depois ( t2 )   "
      ],
      "execution_count": null,
      "outputs": [
        {
          "output_type": "execute_result",
          "data": {
            "text/plain": [
              "True"
            ]
          },
          "metadata": {
            "tags": []
          },
          "execution_count": 1
        }
      ]
    },
    {
      "cell_type": "code",
      "metadata": {
        "colab": {
          "base_uri": "https://localhost:8080/"
        },
        "id": "qQOwXmx10qbp",
        "outputId": "bf9ae1c8-02a0-4aab-f152-9e51338857bc"
      },
      "source": [
        "#1\n",
        "t3  =  MeuTempo ( 14 ,  55 ,  12 )\n",
        "\n",
        "def  entre ( self ,  time2): \n",
        "        \"\" \"Retorna True se self for estritamente maior que time2\" \"\" \n",
        "        if  self.horas  >=  t3.horas : \n",
        "            return  False\n",
        "        if  time2.horas  >  t3.horas : \n",
        "            return  True \n",
        "        if  time2.horas  <  t3.horas : \n",
        "            return  False\n",
        "        if  self.horas  <=  t3.horas : \n",
        "            return  True \n",
        "        return  False\n",
        "    \n",
        "t1  =  MeuTempo ( 10 ,  55 ,  12 ) \n",
        "t2  =  MeuTempo ( 15 ,  48 ,  22 )\n",
        "entre(t1,t2)"
      ],
      "execution_count": null,
      "outputs": [
        {
          "output_type": "execute_result",
          "data": {
            "text/plain": [
              "True"
            ]
          },
          "metadata": {
            "tags": []
          },
          "execution_count": 5
        }
      ]
    },
    {
      "cell_type": "code",
      "metadata": {
        "colab": {
          "base_uri": "https://localhost:8080/"
        },
        "id": "bncAStPB6P4Z",
        "outputId": "dab6fafe-94ff-4ee0-96a4-92e6c53d4941"
      },
      "source": [
        "#2 e 3\n",
        "class  MeuTempo : \n",
        "    # Métodos previamente definidos aqui ... \n",
        "    def  __init__ ( self ,  hrs = 0 ,  mins = 0 ,  segs = 0 ): \n",
        "        \"\"\" Criar um novo objeto MeuTempo inicializado para hrs, min, segs. \n",
        "           Os valores de mins e segs podem estar fora do intervalo de 0-59, \n",
        "           mas o objecto MeuTempo resultante será normalizado.  \"\"\" \n",
        "        # Calcular total de segundos para representar \n",
        "        self.totalsegs =  hrs * 3600  +  mins * 60  +  segs \n",
        "        self.horas =  self.totalsegs  //  3600         # Divisão em h, m, s \n",
        "        restosegs =  self.totalsegs  %  3600 \n",
        "        self.minutos  =  restosegs  //  60 \n",
        "        self.segundos  =  restosegs  %  60\n",
        "        if self.horas >=24:\n",
        "            self.horas = self.horas%24\n",
        "    def  to_seconds ( self ): \n",
        "        \"\" \"Retorna o número de segundos representados por esta instância \" \"\" \n",
        "        return  self.totalsegs\n",
        "    \n",
        "    def  __add__ ( self ,  other ): \n",
        "        \"\"\" Retorna a soma do tempo atual e outro, para utilizar com o simbolo + \"\"\"\n",
        "        return  MeuTempo ( 0 ,  0 ,  self.to_seconds()  +  other.to_seconds())\n",
        "    \n",
        "    def __str__(self):\n",
        "        \"\"\"Retorna uma representação do objeto como string, legível para humanos.\"\"\"\n",
        "        return '%.2d:%.2d:%.2d' % (self.horas, self.minutos, self.segundos)\n",
        "    def  depois ( self ,  time2 ): \n",
        "        \"\" \"Retorna True se self for estritamente maior que time2\" \"\" \n",
        "        if  self.horas  >  time2.horas : \n",
        "            return  True \n",
        "        if  self.horas  <  time2.horas : \n",
        "            return  False \n",
        "\n",
        "        if  self.minutos  >  time2.minutos : \n",
        "            return  True \n",
        "        if  self.minutos  <  time2.minutos : \n",
        "            return  False \n",
        "        if  self.segundos  >  time2.segundos : \n",
        "            return  True \n",
        "        return  False\n",
        "    def  entre ( self ,  time2): \n",
        "        \"\" \"Retorna True se self for estritamente maior que time2\" \"\" \n",
        "        if  self.horas  >=  t3.horas : \n",
        "            return  False\n",
        "        if  time2.horas  >  t3.horas : \n",
        "            return  True \n",
        "        if  time2.horas  <  t3.horas : \n",
        "            return  False\n",
        "        if  self.horas  <=  t3.horas : \n",
        "            return  True \n",
        "        return  False\n",
        "\n",
        "t3  =  MeuTempo ( 14 ,  55 ,  12 )\n",
        "t1  =  MeuTempo ( 10 ,  55 ,  12 ) \n",
        "t2  =  MeuTempo ( 15 ,  48 ,  22 )\n",
        "#sobrecarga de entre\n",
        "print(t1.entre(t2))\n",
        "#sobrecarga de depois\n",
        "print(t3.depois(t1))"
      ],
      "execution_count": null,
      "outputs": [
        {
          "output_type": "stream",
          "text": [
            "True\n",
            "True\n"
          ],
          "name": "stdout"
        }
      ]
    },
    {
      "cell_type": "markdown",
      "metadata": {
        "id": "fRgNjrJW8-t0"
      },
      "source": [
        "4. Defina um novo tipo de tartaruga, TurtleGTX, que venha com alguns recursos extras: ela pode saltar para uma determinada distância, e tem um odômetro que rastreia até onde a tartaruga viajou desde que saiu da linha de produção. (A classe base tem vários sinônimos como `fd` e `forward` ; `back` , `backward` e `bk` : para este exercício, concentre-se **apenas** em colocar essa funcionalidade no método `forward`.) Pense cuidadosamente sobre como contar a distância se a tartaruga for solicitada a avançar por um valor negativo. (Não gostaríamos de comprar uma tartaruga de segunda mão cuja leitura do odômetro foi falsificada porque seu proprietário anterior a levou para trás ao redor do quarteirão com muita frequência. Tente isso em um carro perto de você e veja se o odômetro do carro conta para cima ou para baixo quando você marcha ré.)\n",
        "\n",
        "1. Depois de percorrer uma distância aleatória, sua tartaruga deve quebrar com um pneu furado. Depois disso, aumente uma exceção sempre que `forward` for chamado. Também forneça um método `trocar_pneu` que possa consertar o pneu furado e eliminar a exceção para a tartaruga continuar seu percurso."
      ]
    },
    {
      "cell_type": "code",
      "metadata": {
        "colab": {
          "base_uri": "https://localhost:8080/"
        },
        "id": "ycZqiIMlxSLh",
        "outputId": "aa6e4a25-789f-4ad6-f349-71a90d706878"
      },
      "source": [
        "!pip3 install ColabTurtle\n",
        "import ColabTurtle"
      ],
      "execution_count": 3,
      "outputs": [
        {
          "output_type": "stream",
          "text": [
            "Collecting ColabTurtle\n",
            "  Downloading https://files.pythonhosted.org/packages/49/01/6da7091c2c6c917cce99c000b89acb6aa27b66ef6eafc0c0ccf59b98694f/ColabTurtle-2.0.0.tar.gz\n",
            "Building wheels for collected packages: ColabTurtle\n",
            "  Building wheel for ColabTurtle (setup.py) ... \u001b[?25l\u001b[?25hdone\n",
            "  Created wheel for ColabTurtle: filename=ColabTurtle-2.0.0-cp36-none-any.whl size=4032 sha256=79130b5c3870e7f36de034ef7739a1f791469c2f177ea6409b74ef702d61d181\n",
            "  Stored in directory: /root/.cache/pip/wheels/a8/29/ec/ad346f0042ae467cc74f4378916348faf975b07890651dcae7\n",
            "Successfully built ColabTurtle\n",
            "Installing collected packages: ColabTurtle\n",
            "Successfully installed ColabTurtle-2.0.0\n"
          ],
          "name": "stdout"
        }
      ]
    },
    {
      "cell_type": "code",
      "metadata": {
        "id": "A2x0aqbyvt8N"
      },
      "source": [
        "class  Ponto: \n",
        "    \"\"\" Cria um novo Ponto, com coordenadas x, y \"\"\"\n",
        "    def __init__(self, x=0, y=0):\n",
        "        \"\"\" Inicializa em x, y o novo ponto criado pela classe \"\"\"\n",
        "        self.x = x\n",
        "        self.y = y\n",
        "    def __str__(self):\n",
        "        return \"({0}, {1})\".format(self.x, self.y)\n",
        "    # outros métodos previamente definidos aqui ... blah blah\n",
        "    \n",
        "    def  reverse ( self ): \n",
        "        \"\"\" Função que inverte as coordenadas do ponto x<->y\"\"\"\n",
        "        ( self.x  ,  self.y )  =  ( self.y ,  self.x )"
      ],
      "execution_count": null,
      "outputs": []
    },
    {
      "cell_type": "code",
      "metadata": {
        "id": "L5AdCmSo9CwI",
        "colab": {
          "base_uri": "https://localhost:8080/",
          "height": 521
        },
        "outputId": "c9c126ff-16b8-4d9f-f1e2-407d7dcb026a"
      },
      "source": [
        "import ColabTurtle.Turtle as t \n",
        "class TurtleGTX  :\n",
        "  t.initializeTurtle()\n",
        "  def parafrente(t, x, esq, dir) :\n",
        "      t.forward(x)\n",
        "  def viraraesquerda(t,x,esq,dir) :\n",
        "      t.left(esq)\n",
        "  def viraradireita(t,x,esq,dir) :\n",
        "      t.right(dir)    \n",
        "TurtleGTX.parafrente(t,10,45,60)\n",
        "TurtleGTX.viraradireita(t,10,45,60)\n",
        "TurtleGTX.parafrente(t,10,45,60)"
      ],
      "execution_count": 15,
      "outputs": [
        {
          "output_type": "display_data",
          "data": {
            "text/html": [
              "\n",
              "      <svg width=\"800\" height=\"500\">\n",
              "        <rect width=\"100%\" height=\"100%\" fill=\"black\"/>\n",
              "        <line x1=\"400\" y1=\"250\" x2=\"400.0\" y2=\"240.0\" stroke-linecap=\"round\" style=\"stroke:white;stroke-width:4\"/><line x1=\"400.0\" y1=\"240.0\" x2=\"408.66025403784437\" y2=\"235.0\" stroke-linecap=\"round\" style=\"stroke:white;stroke-width:4\"/>\n",
              "        \n",
              "      <g visibility=visible transform=\"rotate(240,408.66025403784437,235.0) translate(408.66025403784437, 235.0)\">\n",
              "        <circle stroke=\"white\" stroke-width=\"3\" fill=\"transparent\" r=\"12\" cx=\"0\" cy=\"0\"/>\n",
              "        <polygon points=\"0,19 3,16 -3,16\" style=\"fill:white;stroke:white;stroke-width:2\"/>\n",
              "      </g>\n",
              "    \n",
              "      </svg>\n",
              "    "
            ],
            "text/plain": [
              "<IPython.core.display.HTML object>"
            ]
          },
          "metadata": {
            "tags": []
          }
        }
      ]
    }
  ]
}