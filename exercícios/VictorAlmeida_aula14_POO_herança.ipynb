{
  "nbformat": 4,
  "nbformat_minor": 0,
  "metadata": {
    "colab": {
      "name": "VictorAlmeida_aula14_POO_herança.ipynb",
      "provenance": [],
      "collapsed_sections": [],
      "authorship_tag": "ABX9TyP4Fg+7meVdDgAv9/JQU/QC",
      "include_colab_link": true
    },
    "kernelspec": {
      "name": "python3",
      "display_name": "Python 3"
    }
  },
  "cells": [
    {
      "cell_type": "markdown",
      "metadata": {
        "id": "view-in-github",
        "colab_type": "text"
      },
      "source": [
        "<a href=\"https://colab.research.google.com/github/Victor17in/PythonCurso/blob/master/exerc%C3%ADcios/VictorAlmeida_aula14_POO_heran%C3%A7a.ipynb\" target=\"_parent\"><img src=\"https://colab.research.google.com/assets/colab-badge.svg\" alt=\"Open In Colab\"/></a>"
      ]
    },
    {
      "cell_type": "markdown",
      "metadata": {
        "id": "Thc7NlaRzeJ6"
      },
      "source": [
        "#### Exercício: adicione um método `__sub __ (self, other)` que sobrecarrega o operador de subtração e teste-o."
      ]
    },
    {
      "cell_type": "code",
      "metadata": {
        "id": "Y3_gNhALjmL6"
      },
      "source": [
        "class  MeuTempo : \n",
        "    # Métodos previamente definidos aqui ... \n",
        "    def  __init__ ( self ,  hrs = 0 ,  mins = 0 ,  segs = 0 ): \n",
        "        \"\"\" Criar um novo objeto MeuTempo inicializado para hrs, min, segs. \n",
        "           Os valores de mins e segs podem estar fora do intervalo de 0-59, \n",
        "           mas o objecto MeuTempo resultante será normalizado.  \"\"\" \n",
        "        # Calcular total de segundos para representar \n",
        "        self.totalsegs =  hrs * 3600  +  mins * 60  +  segs \n",
        "        self.horas =  self.totalsegs  //  3600         # Divisão em h, m, s \n",
        "        restosegs =  self.totalsegs  %  3600 \n",
        "        self.minutos  =  restosegs  //  60 \n",
        "        self.segundos  =  restosegs  %  60\n",
        "        if self.horas >=24:\n",
        "            self.horas = self.horas%24\n",
        "    def  to_seconds ( self ): \n",
        "        \"\" \"Retorna o número de segundos representados por esta instância \" \"\" \n",
        "        return  self.totalsegs\n",
        "    \n",
        "    def  __add__ ( self ,  other ): \n",
        "        \"\"\" Retorna a soma do tempo atual e outro, para utilizar com o simbolo + \"\"\"\n",
        "        return  MeuTempo ( 0 ,  0 ,  self.to_seconds()  +  other.to_seconds())\n",
        "    \n",
        "    def __str__(self):\n",
        "        \"\"\"Retorna uma representação do objeto como string, legível para humanos.\"\"\"\n",
        "        return '%.2d:%.2d:%.2d' % (self.horas, self.minutos, self.segundos)\n",
        "    def  __sub__ ( self ,  other ): \n",
        "        \"\"\" Retorna a soma do tempo atual e outro, para utilizar com o simbolo + \"\"\"\n",
        "        return  MeuTempo ( 0 ,  0 ,  -self.to_seconds()  +  other.to_seconds())\n"
      ],
      "execution_count": 7,
      "outputs": []
    },
    {
      "cell_type": "code",
      "metadata": {
        "colab": {
          "base_uri": "https://localhost:8080/"
        },
        "id": "RrufAPaejwP1",
        "outputId": "6d0afdb6-1622-4c33-b323-e39aca23be37"
      },
      "source": [
        "a=MeuTempo(1,40,30)\n",
        "b=MeuTempo(12,55,15)\n",
        "print(a,b) #os dois tempos iniciais a e b\n",
        "print(a + b) #o resultado da soma \"normalizada\"\n",
        "print(a,b) #os valores de a e b não mudaram!!\n",
        "print(a.__sub__(b))"
      ],
      "execution_count": 8,
      "outputs": [
        {
          "output_type": "stream",
          "text": [
            "01:40:30 12:55:15\n",
            "14:35:45\n",
            "01:40:30 12:55:15\n",
            "11:14:45\n"
          ],
          "name": "stdout"
        }
      ]
    },
    {
      "cell_type": "markdown",
      "metadata": {
        "id": "W6PcpmyV0BPU"
      },
      "source": [
        "##  Exercícios \n",
        "1. Escreva uma função booleana  chamada `entre`  que tome dois objetos MeuTempo, t1 e t2 , como argumentos, e retorne `True` se um terceiro objeto MeuTempo invocado estiver entre os dois tempos. Suponha que o tempo t1 <= t2 , e faça o teste fechado no limite inferior e abra no limite superior, isto é, retorne True se t1 <= obj < t2.\n",
        "\n",
        "1. Transforme a função acima em um método na classe MeuTempo.\n",
        "\n",
        "1. Sobrecarregue o(s) operador(es) necessário(s)  --ver a lista de métodos especiais em https://docs.python.org/3/reference/datamodel.html#special-method-names -- para que, em vez de ter que escrever :\n",
        "```python\n",
        "if t1.depois( t2 ):  \n",
        "     ...\n",
        "```\n",
        "possamos usar o mais conveniente:\n",
        "```python\n",
        "if t1  >  t2 :  \n",
        "     ...\n",
        "```"
      ]
    },
    {
      "cell_type": "code",
      "metadata": {
        "colab": {
          "base_uri": "https://localhost:8080/"
        },
        "id": "Ix1TOqKP0PUU",
        "outputId": "4021ef8c-7960-4f20-80c5-97acaee8f158"
      },
      "source": [
        "class  MeuTempo : \n",
        "    # Métodos previamente definidos aqui ... \n",
        "    def  __init__ ( self ,  hrs = 0 ,  mins = 0 ,  segs = 0 ): \n",
        "        \"\"\" Criar um novo objeto MeuTempo inicializado para hrs, min, segs. \n",
        "           Os valores de mins e segs podem estar fora do intervalo de 0-59, \n",
        "           mas o objecto MeuTempo resultante será normalizado.  \"\"\" \n",
        "        # Calcular total de segundos para representar \n",
        "        self.totalsegs =  hrs * 3600  +  mins * 60  +  segs \n",
        "        self.horas =  self.totalsegs  //  3600         # Divisão em h, m, s \n",
        "        restosegs =  self.totalsegs  %  3600 \n",
        "        self.minutos  =  restosegs  //  60 \n",
        "        self.segundos  =  restosegs  %  60\n",
        "        if self.horas >=24:\n",
        "            self.horas = self.horas%24\n",
        "    def  to_seconds ( self ): \n",
        "        \"\" \"Retorna o número de segundos representados por esta instância \" \"\" \n",
        "        return  self.totalsegs\n",
        "    \n",
        "    def  __add__ ( self ,  other ): \n",
        "        \"\"\" Retorna a soma do tempo atual e outro, para utilizar com o simbolo + \"\"\"\n",
        "        return  MeuTempo ( 0 ,  0 ,  self.to_seconds()  +  other.to_seconds())\n",
        "    \n",
        "    def __str__(self):\n",
        "        \"\"\"Retorna uma representação do objeto como string, legível para humanos.\"\"\"\n",
        "        return '%.2d:%.2d:%.2d' % (self.horas, self.minutos, self.segundos)\n",
        "    def  depois ( self ,  time2 ): \n",
        "        \"\" \"Retorna True se self for estritamente maior que time2\" \"\" \n",
        "        if  self.horas  >  time2.horas : \n",
        "            return  True \n",
        "        if  self.horas  <  time2.horas : \n",
        "            return  False \n",
        "\n",
        "        if  self.minutos  >  time2.minutos : \n",
        "            return  True \n",
        "        if  self.minutos  <  time2.minutos : \n",
        "            return  False \n",
        "        if  self.segundos  >  time2.segundos : \n",
        "            return  True \n",
        "        return  False\n",
        "    \n",
        "t1  =  MeuTempo ( 10 ,  55 ,  12 ) \n",
        "t2  =  MeuTempo ( 10 ,  48 ,  22 ) \n",
        "t1.depois ( t2 )   "
      ],
      "execution_count": null,
      "outputs": [
        {
          "output_type": "execute_result",
          "data": {
            "text/plain": [
              "True"
            ]
          },
          "metadata": {
            "tags": []
          },
          "execution_count": 1
        }
      ]
    },
    {
      "cell_type": "code",
      "metadata": {
        "colab": {
          "base_uri": "https://localhost:8080/"
        },
        "id": "qQOwXmx10qbp",
        "outputId": "bf9ae1c8-02a0-4aab-f152-9e51338857bc"
      },
      "source": [
        "#1\n",
        "t3  =  MeuTempo ( 14 ,  55 ,  12 )\n",
        "\n",
        "def  entre ( self ,  time2): \n",
        "        \"\" \"Retorna True se self for estritamente maior que time2\" \"\" \n",
        "        if  self.horas  >=  t3.horas : \n",
        "            return  False\n",
        "        if  time2.horas  >  t3.horas : \n",
        "            return  True \n",
        "        if  time2.horas  <  t3.horas : \n",
        "            return  False\n",
        "        if  self.horas  <=  t3.horas : \n",
        "            return  True \n",
        "        return  False\n",
        "    \n",
        "t1  =  MeuTempo ( 10 ,  55 ,  12 ) \n",
        "t2  =  MeuTempo ( 15 ,  48 ,  22 )\n",
        "entre(t1,t2)"
      ],
      "execution_count": null,
      "outputs": [
        {
          "output_type": "execute_result",
          "data": {
            "text/plain": [
              "True"
            ]
          },
          "metadata": {
            "tags": []
          },
          "execution_count": 5
        }
      ]
    },
    {
      "cell_type": "code",
      "metadata": {
        "colab": {
          "base_uri": "https://localhost:8080/"
        },
        "id": "bncAStPB6P4Z",
        "outputId": "dab6fafe-94ff-4ee0-96a4-92e6c53d4941"
      },
      "source": [
        "#2 e 3\n",
        "class  MeuTempo : \n",
        "    # Métodos previamente definidos aqui ... \n",
        "    def  __init__ ( self ,  hrs = 0 ,  mins = 0 ,  segs = 0 ): \n",
        "        \"\"\" Criar um novo objeto MeuTempo inicializado para hrs, min, segs. \n",
        "           Os valores de mins e segs podem estar fora do intervalo de 0-59, \n",
        "           mas o objecto MeuTempo resultante será normalizado.  \"\"\" \n",
        "        # Calcular total de segundos para representar \n",
        "        self.totalsegs =  hrs * 3600  +  mins * 60  +  segs \n",
        "        self.horas =  self.totalsegs  //  3600         # Divisão em h, m, s \n",
        "        restosegs =  self.totalsegs  %  3600 \n",
        "        self.minutos  =  restosegs  //  60 \n",
        "        self.segundos  =  restosegs  %  60\n",
        "        if self.horas >=24:\n",
        "            self.horas = self.horas%24\n",
        "    def  to_seconds ( self ): \n",
        "        \"\" \"Retorna o número de segundos representados por esta instância \" \"\" \n",
        "        return  self.totalsegs\n",
        "    \n",
        "    def  __add__ ( self ,  other ): \n",
        "        \"\"\" Retorna a soma do tempo atual e outro, para utilizar com o simbolo + \"\"\"\n",
        "        return  MeuTempo ( 0 ,  0 ,  self.to_seconds()  +  other.to_seconds())\n",
        "    \n",
        "    def __str__(self):\n",
        "        \"\"\"Retorna uma representação do objeto como string, legível para humanos.\"\"\"\n",
        "        return '%.2d:%.2d:%.2d' % (self.horas, self.minutos, self.segundos)\n",
        "    def  depois ( self ,  time2 ): \n",
        "        \"\" \"Retorna True se self for estritamente maior que time2\" \"\" \n",
        "        if  self.horas  >  time2.horas : \n",
        "            return  True \n",
        "        if  self.horas  <  time2.horas : \n",
        "            return  False \n",
        "\n",
        "        if  self.minutos  >  time2.minutos : \n",
        "            return  True \n",
        "        if  self.minutos  <  time2.minutos : \n",
        "            return  False \n",
        "        if  self.segundos  >  time2.segundos : \n",
        "            return  True \n",
        "        return  False\n",
        "    def  entre ( self ,  time2): \n",
        "        \"\" \"Retorna True se self for estritamente maior que time2\" \"\" \n",
        "        if  self.horas  >=  t3.horas : \n",
        "            return  False\n",
        "        if  time2.horas  >  t3.horas : \n",
        "            return  True \n",
        "        if  time2.horas  <  t3.horas : \n",
        "            return  False\n",
        "        if  self.horas  <=  t3.horas : \n",
        "            return  True \n",
        "        return  False\n",
        "\n",
        "t3  =  MeuTempo ( 14 ,  55 ,  12 )\n",
        "t1  =  MeuTempo ( 10 ,  55 ,  12 ) \n",
        "t2  =  MeuTempo ( 15 ,  48 ,  22 )\n",
        "#sobrecarga de entre\n",
        "print(t1.entre(t2))\n",
        "#sobrecarga de depois\n",
        "print(t3.depois(t1))"
      ],
      "execution_count": null,
      "outputs": [
        {
          "output_type": "stream",
          "text": [
            "True\n",
            "True\n"
          ],
          "name": "stdout"
        }
      ]
    },
    {
      "cell_type": "markdown",
      "metadata": {
        "id": "fRgNjrJW8-t0"
      },
      "source": [
        "4. Defina um novo tipo de tartaruga, TurtleGTX, que venha com alguns recursos extras: ela pode saltar para uma determinada distância, e tem um odômetro que rastreia até onde a tartaruga viajou desde que saiu da linha de produção. (A classe base tem vários sinônimos como `fd` e `forward` ; `back` , `backward` e `bk` : para este exercício, concentre-se **apenas** em colocar essa funcionalidade no método `forward`.) Pense cuidadosamente sobre como contar a distância se a tartaruga for solicitada a avançar por um valor negativo. (Não gostaríamos de comprar uma tartaruga de segunda mão cuja leitura do odômetro foi falsificada porque seu proprietário anterior a levou para trás ao redor do quarteirão com muita frequência. Tente isso em um carro perto de você e veja se o odômetro do carro conta para cima ou para baixo quando você marcha ré.)\n",
        "\n",
        "1. Depois de percorrer uma distância aleatória, sua tartaruga deve quebrar com um pneu furado. Depois disso, aumente uma exceção sempre que `forward` for chamado. Também forneça um método `trocar_pneu` que possa consertar o pneu furado e eliminar a exceção para a tartaruga continuar seu percurso."
      ]
    },
    {
      "cell_type": "code",
      "metadata": {
        "colab": {
          "base_uri": "https://localhost:8080/"
        },
        "id": "ycZqiIMlxSLh",
        "outputId": "6efcf108-230d-4012-e96b-d1c6656953c1"
      },
      "source": [
        "!pip3 install ColabTurtle\n",
        "import ColabTurtle"
      ],
      "execution_count": null,
      "outputs": [
        {
          "output_type": "stream",
          "text": [
            "Collecting ColabTurtle\n",
            "  Downloading https://files.pythonhosted.org/packages/49/01/6da7091c2c6c917cce99c000b89acb6aa27b66ef6eafc0c0ccf59b98694f/ColabTurtle-2.0.0.tar.gz\n",
            "Building wheels for collected packages: ColabTurtle\n",
            "  Building wheel for ColabTurtle (setup.py) ... \u001b[?25l\u001b[?25hdone\n",
            "  Created wheel for ColabTurtle: filename=ColabTurtle-2.0.0-cp36-none-any.whl size=4032 sha256=7125e5854a64a18300fa27657c9deb2d710dd494e98b3f09a215d1c27ec00db5\n",
            "  Stored in directory: /root/.cache/pip/wheels/a8/29/ec/ad346f0042ae467cc74f4378916348faf975b07890651dcae7\n",
            "Successfully built ColabTurtle\n",
            "Installing collected packages: ColabTurtle\n",
            "Successfully installed ColabTurtle-2.0.0\n"
          ],
          "name": "stdout"
        }
      ]
    },
    {
      "cell_type": "code",
      "metadata": {
        "id": "L5AdCmSo9CwI",
        "colab": {
          "base_uri": "https://localhost:8080/",
          "height": 557
        },
        "outputId": "33a00fd3-84ba-4c89-8d17-f5e74c7ca765"
      },
      "source": [
        "#4\n",
        "import ColabTurtle.Turtle as t \n",
        "d =[]\n",
        "class TurtleGTX  :\n",
        "  t.initializeTurtle()\n",
        "  def parafrente(t, x, esq, dir,y,z) :\n",
        "      t.forward(x)\n",
        "      if x >= 0:\n",
        "        d.append(x)\n",
        "      else:\n",
        "        d.append(-x)\n",
        "  def viraraesquerda(t,x,esq,dir,y,z) :\n",
        "      t.left(esq)\n",
        "  def viraradireita(t,x,esq,dir,y,z) :\n",
        "      t.right(dir)\n",
        "  def salto(t,x,esq,dir,y,z) :\n",
        "    if y >= 0 and z >= 0:\n",
        "      t.goto(y,z)\n",
        "      d.append(((y**2)+(z**2))**(0.5))\n",
        "    elif y <= 0 and z >= 0:\n",
        "      t.goto(-y,z)\n",
        "      d.append(((y**2)+(z**2))**(0.5))\n",
        "    elif z <= 0 and y >= 0:\n",
        "      t.goto(y,-z)\n",
        "      d.append(((y**2)+(z**2))**(0.5))\n",
        "    elif z <= 0 and y <= 0:\n",
        "      t.goto(-y,-z)\n",
        "      d.append(((y**2)+(z**2))**(0.5))\n",
        "       \n",
        "\n",
        "TurtleGTX.parafrente(t,10,45,60,3,5)\n",
        "TurtleGTX.viraradireita(t,10,45,60,3,5)\n",
        "TurtleGTX.parafrente(t,10,45,60,3,5)\n",
        "TurtleGTX.salto(t,10,45,60,50,55)\n",
        "print(d)\n",
        "distanciapercorrida=0\n",
        "for i in d:\n",
        "  distanciapercorrida += i\n",
        "print('Distância total percorrida é:', distanciapercorrida)"
      ],
      "execution_count": null,
      "outputs": [
        {
          "output_type": "display_data",
          "data": {
            "text/html": [
              "\n",
              "      <svg width=\"800\" height=\"500\">\n",
              "        <rect width=\"100%\" height=\"100%\" fill=\"black\"/>\n",
              "        <line x1=\"400\" y1=\"250\" x2=\"400.0\" y2=\"240.0\" stroke-linecap=\"round\" style=\"stroke:white;stroke-width:4\"/><line x1=\"400.0\" y1=\"240.0\" x2=\"408.66025403784437\" y2=\"235.0\" stroke-linecap=\"round\" style=\"stroke:white;stroke-width:4\"/><line x1=\"408.66025403784437\" y1=\"235.0\" x2=\"50\" y2=\"55\" stroke-linecap=\"round\" style=\"stroke:white;stroke-width:4\"/>\n",
              "        \n",
              "      <g visibility=visible transform=\"rotate(240,50,55) translate(50, 55)\">\n",
              "        <circle stroke=\"white\" stroke-width=\"3\" fill=\"transparent\" r=\"12\" cx=\"0\" cy=\"0\"/>\n",
              "        <polygon points=\"0,19 3,16 -3,16\" style=\"fill:white;stroke:white;stroke-width:2\"/>\n",
              "      </g>\n",
              "    \n",
              "      </svg>\n",
              "    "
            ],
            "text/plain": [
              "<IPython.core.display.HTML object>"
            ]
          },
          "metadata": {
            "tags": []
          }
        },
        {
          "output_type": "stream",
          "text": [
            "[10, 10, 74.33034373659252]\n",
            "Distância total percorrida é: 94.33034373659252\n"
          ],
          "name": "stdout"
        }
      ]
    },
    {
      "cell_type": "code",
      "metadata": {
        "colab": {
          "base_uri": "https://localhost:8080/",
          "height": 739
        },
        "id": "qj3rSQrZ3iFy",
        "outputId": "564617e2-526e-4052-dc88-2e813f6b8145"
      },
      "source": [
        "#5\n",
        "import ColabTurtle.Turtle as t \n",
        "d =[]\n",
        "import sys\n",
        "def trocar_pneu():\n",
        "    t.left(90)\n",
        "    t.right(90)\n",
        "    t.left(180)\n",
        "    t.right(180)\n",
        "\n",
        "class TurtleGTX  :\n",
        "  t.initializeTurtle()\n",
        "  def parafrenteerro(t, x, esq, dir,y,z) :\n",
        "    if x >= 0:\n",
        "        Exc = input(\"Pneu quebrado, trocar?(s) ou (n)\")\n",
        "        if Exc == 's':\n",
        "          print(\"Ok, trabalhando nisso\")\n",
        "          trocar_pneu()\n",
        "          print(\"Tudo pronto\")\n",
        "        elif Exc == 'n':\n",
        "          print(\"Chame o reboque\")\n",
        "          sys.exit()\n",
        "        else:\n",
        "          print(\"Não entendi\")\n",
        "          TurtleGTX.parafrenteerro(t, x, esq, dir,y,z)\n",
        "\n",
        "  def parafrente(t, x, esq, dir,y,z) :\n",
        "      t.forward(x)\n",
        "      if x >= 0:\n",
        "        d.append(x)\n",
        "        Exc = input(\"Pneu quebrado, trocar?(s) ou (n)\")\n",
        "        if Exc == 's':\n",
        "          print(\"Ok, trabalhando nisso\")\n",
        "          trocar_pneu()\n",
        "          print(\"Tudo pronto\")\n",
        "        elif Exc == 'n':\n",
        "          print(\"Chame o reboque\")\n",
        "          sys.exit()\n",
        "        else:\n",
        "          print(\"Não entendi\")\n",
        "          TurtleGTX.parafrenteerro(t, x, esq, dir,y,z)\n",
        "          \n",
        "\n",
        "      else:\n",
        "        d.append(-x)\n",
        "        Exc = input(\"Pneu quebrado, trocar?(s) ou (n)\")\n",
        "        if Exc == 's':\n",
        "          print(\"Ok, trabalhando nisso\")\n",
        "          trocar_pneu()\n",
        "          print(\"Tudo pronto\")\n",
        "        elif Exc == 'n':\n",
        "          print(\"Chame o reboque\")\n",
        "          sys.exit()\n",
        "        else:\n",
        "          print(\"Não entendi\")\n",
        "          TurtleGTX.parafrente(t, x, esq, dir,y,z)\n",
        "\n",
        "  def viraraesquerda(t,x,esq,dir,y,z) :\n",
        "      t.left(esq)\n",
        "  def viraradireita(t,x,esq,dir,y,z) :\n",
        "      t.right(dir)\n",
        "  def salto(t,x,esq,dir,y,z) :\n",
        "    if y >= 0 and z >= 0:\n",
        "      t.goto(y,z)\n",
        "      d.append(((y**2)+(z**2))**(0.5))\n",
        "    elif y <= 0 and z >= 0:\n",
        "      t.goto(-y,z)\n",
        "      d.append(((y**2)+(z**2))**(0.5))\n",
        "    elif z <= 0 and y >= 0:\n",
        "      t.goto(y,-z)\n",
        "      d.append(((y**2)+(z**2))**(0.5))\n",
        "    elif z <= 0 and y <= 0:\n",
        "      t.goto(-y,-z)\n",
        "      d.append(((y**2)+(z**2))**(0.5))\n",
        "       \n",
        "\n",
        "TurtleGTX.parafrente(t,10,45,60,3,5)\n",
        "TurtleGTX.viraradireita(t,10,45,60,3,5)\n",
        "TurtleGTX.parafrente(t,10,45,60,3,5)\n",
        "TurtleGTX.salto(t,10,45,60,-100,55)\n",
        "print(d)\n",
        "distanciapercorrida=0\n",
        "for i in d:\n",
        "  distanciapercorrida += i\n",
        "print('Distância total percorrida é:', distanciapercorrida)"
      ],
      "execution_count": null,
      "outputs": [
        {
          "output_type": "display_data",
          "data": {
            "text/html": [
              "\n",
              "      <svg width=\"800\" height=\"500\">\n",
              "        <rect width=\"100%\" height=\"100%\" fill=\"black\"/>\n",
              "        <line x1=\"400\" y1=\"250\" x2=\"400.0\" y2=\"240.0\" stroke-linecap=\"round\" style=\"stroke:white;stroke-width:4\"/><line x1=\"400.0\" y1=\"240.0\" x2=\"408.66025403784437\" y2=\"235.0\" stroke-linecap=\"round\" style=\"stroke:white;stroke-width:4\"/><line x1=\"408.66025403784437\" y1=\"235.0\" x2=\"100\" y2=\"55\" stroke-linecap=\"round\" style=\"stroke:white;stroke-width:4\"/>\n",
              "        \n",
              "      <g visibility=visible transform=\"rotate(240,100,55) translate(100, 55)\">\n",
              "        <circle stroke=\"white\" stroke-width=\"3\" fill=\"transparent\" r=\"12\" cx=\"0\" cy=\"0\"/>\n",
              "        <polygon points=\"0,19 3,16 -3,16\" style=\"fill:white;stroke:white;stroke-width:2\"/>\n",
              "      </g>\n",
              "    \n",
              "      </svg>\n",
              "    "
            ],
            "text/plain": [
              "<IPython.core.display.HTML object>"
            ]
          },
          "metadata": {
            "tags": []
          }
        },
        {
          "output_type": "stream",
          "text": [
            "Pneu quebrado, trocar?(s) ou (n)ç\n",
            "Não entendi\n",
            "Pneu quebrado, trocar?(s) ou (n)p\n",
            "Não entendi\n",
            "Pneu quebrado, trocar?(s) ou (n)s\n",
            "Ok, trabalhando nisso\n",
            "Tudo pronto\n",
            "Pneu quebrado, trocar?(s) ou (n)s\n",
            "Ok, trabalhando nisso\n",
            "Tudo pronto\n",
            "[10, 10, 114.12712210513327]\n",
            "Distância total percorrida é: 134.12712210513325\n"
          ],
          "name": "stdout"
        }
      ]
    }
  ]
}