{
  "nbformat": 4,
  "nbformat_minor": 0,
  "metadata": {
    "kernelspec": {
      "display_name": "Python 3",
      "language": "python",
      "name": "python3"
    },
    "language_info": {
      "codemirror_mode": {
        "name": "ipython",
        "version": 3
      },
      "file_extension": ".py",
      "mimetype": "text/x-python",
      "name": "python",
      "nbconvert_exporter": "python",
      "pygments_lexer": "ipython3",
      "version": "3.6.4"
    },
    "colab": {
      "name": "VictorAlmeida_aula13_exercicioClasses.ipynb",
      "provenance": [],
      "include_colab_link": true
    }
  },
  "cells": [
    {
      "cell_type": "markdown",
      "metadata": {
        "id": "view-in-github",
        "colab_type": "text"
      },
      "source": [
        "<a href=\"https://colab.research.google.com/github/Victor17in/PythonCurso/blob/master/exerc%C3%ADcios/VictorAlmeida_aula13_exercicioClasses.ipynb\" target=\"_parent\"><img src=\"https://colab.research.google.com/assets/colab-badge.svg\" alt=\"Open In Colab\"/></a>"
      ]
    },
    {
      "cell_type": "markdown",
      "metadata": {
        "id": "EdYNQfYbEnk_"
      },
      "source": [
        "# Exercícios da aula passada:\n",
        "\n",
        "1) Escreva uma função que calcula a distância entre dois pontos, usando a classe Ponto que fizemos nessa aula.\n",
        "\n",
        "2) Adicione um método reflexao_x à classe Ponto que retorna uma instância de Ponto, que é o reflexo do Ponto sobre o eixo x. Por exemplo, Point (3, 5) .reflexao_x () é (3, -5)\n",
        "\n",
        "3) Adicione um método ***inclinacao_da_origem*** à classe Ponto, que retorne a inclinação da linha que une a origem ao Ponto. Por exemplo,"
      ]
    },
    {
      "cell_type": "code",
      "metadata": {
        "id": "G-VQ94VsEnlA",
        "outputId": "3b2617fc-9324-4c2d-ab5a-90bad113db4e"
      },
      "source": [
        "from Ponto import *\n",
        "Ponto(4, 10).inclinacao_origem()"
      ],
      "execution_count": null,
      "outputs": [
        {
          "output_type": "execute_result",
          "data": {
            "text/plain": [
              "2.5"
            ]
          },
          "metadata": {
            "tags": []
          },
          "execution_count": 5
        }
      ]
    },
    {
      "cell_type": "markdown",
      "metadata": {
        "id": "3kAzsBogEnlC"
      },
      "source": [
        "O que pode dar errado com esse programa?\n",
        "\n",
        "4) A equação de uma linha reta é “y = ax + b”. Os coeficientes a e b descrevem completamente a linha. Escreva um método na classe Ponto para que, se uma instância Ponto receber outro Ponto, calcule a equação da linha reta que une os dois pontos. Deve retornar os dois coeficientes como uma tupla de dois valores. Por exemplo,"
      ]
    },
    {
      "cell_type": "code",
      "metadata": {
        "id": "ahwUGU-nEnlC",
        "outputId": "15a68a85-9822-411f-a829-5bbb37e4dc9f"
      },
      "source": [
        "from Ponto import *\n",
        "print(Ponto(4,11).parametros_reta(Ponto(6,15)))"
      ],
      "execution_count": null,
      "outputs": [
        {
          "output_type": "stream",
          "text": [
            "(2.0, 3.0)\n"
          ],
          "name": "stdout"
        }
      ]
    },
    {
      "cell_type": "markdown",
      "metadata": {
        "id": "K1AY0_vQEnlD"
      },
      "source": [
        "O resultado acima nos diz que a equação da reta é y = 2x + 3. Quando esse método falha?"
      ]
    },
    {
      "cell_type": "code",
      "metadata": {
        "id": "F_nFOdvPuRux"
      },
      "source": [
        "class Ponto:\n",
        "    \"\"\" Cria um novo Ponto, com coordenadas x, y \"\"\"\n",
        "\n",
        "    def __init__(self, x=0, y=0):\n",
        "        \"\"\" Inicializa em x, y o novo ponto criado pela classe \"\"\"\n",
        "        self.x = x\n",
        "        self.y = y\n",
        "\n",
        "    def __str__(self):\n",
        "        return \"({0}, {1})\".format(self.x, self.y)\n",
        "\n",
        "    def distancia_da_origem(self):\n",
        "        \"\"\" Calcula minha distânica da origem \"\"\"\n",
        "        return (self.x**2 + self.y**2)**0.5\n",
        "\n",
        "    def ponto_medio(self, alvo):\n",
        "        \"\"\" Retorna o ponto medio entre esse ponto e o alvo \"\"\"\n",
        "        mx = (self.x + alvo.x)/2\n",
        "        my = (self.y + alvo.y)/2\n",
        "        return Ponto(mx, my)\n",
        "\n",
        "    def distancia_entre_pontos(self, alvo):\n",
        "    \t\"\"\" Calcula a distância entre um ponto e outro ponto alvo \"\"\"\n",
        "    \tdx = (alvo.x - self.x)**2\n",
        "    \tdy = (alvo.y - self.y)**2\n",
        "    \treturn (dx + dy)**0.5\n",
        "\n",
        "    def reflexao_x(self):\n",
        "    \t\"\"\" Calcula o ponto refletido pelo eixo x \"\"\"\n",
        "    \treturn Ponto(self.x,-(self.y))\n",
        "\n",
        "    def inclinacao_da_origem(self):\n",
        "    \t\"\"\" Calcula o ângulo entre a origem e o ponto \"\"\"\n",
        "    \tif self.x == 0:\n",
        "    \t\treturn None\n",
        "    \telse:\n",
        "    \t\treturn self.y/self.x\n",
        "\n",
        "    def coeficiente_angular(self,alvo):\n",
        "    \t\"\"\" Calcula o coeficiente angualr entre dois pontos \"\"\"\n",
        "    \tif (alvo.x - self.x) == 0:\n",
        "    \t\treturn None\n",
        "    \telse:\n",
        "    \t\treturn (alvo.y - self.y)/(alvo.x - self.x)\n",
        "\n",
        "    def equaçao_da_reta(self,alvo):\n",
        "    \t\"\"\" Calcula a equação da reta entre um ponto e outro ponto alvo \"\"\"\n",
        "    \tm = self.coeficiente_angular(alvo)\n",
        "    \tn = self.y - m*self.x\n",
        "    \treturn (m, n)"
      ],
      "execution_count": 1,
      "outputs": []
    },
    {
      "cell_type": "markdown",
      "metadata": {
        "id": "EwvQUSAVEnlD"
      },
      "source": [
        "# Exercícios da aula de hoje:\n",
        "\n",
        "5) Usando a classe **Ponto** criada na última aula escreva uma classe **Retangulo**. A definição da classe Retangulo é:\n",
        "**Dica**: use o método criado no exercício 1)."
      ]
    },
    {
      "cell_type": "code",
      "metadata": {
        "id": "TtQKKKt8EnlD",
        "colab": {
          "base_uri": "https://localhost:8080/"
        },
        "outputId": "fe857aa5-70c7-40bb-fa2c-3c658ba5e85e"
      },
      "source": [
        "class Rectangle:\n",
        "    \"\"\"Representa um retangulo. \n",
        "\n",
        "    atributos: \n",
        "    - largura, do tipo float\n",
        "    - altura, do tipo float \n",
        "    - canto, do tipo Ponto.\n",
        "    \"\"\"\n",
        "    def __init__(self,largura,altura,canto):\n",
        "    \tself.largura = largura\n",
        "    \tself.altura = altura\n",
        "\n",
        "    \tif not isinstance(canto, Ponto):\n",
        "    \t\traise TypeError('O canto deve ser um Ponto.')\n",
        "    \telse:\n",
        "    \t\tself.canto = canto\n",
        "\n",
        "    def __str__(self):\n",
        "        return  \"({0}, {1}, {2})\".format(self.largura, self.altura, self.canto)\n",
        "\n",
        "a = Ponto(3,2)\n",
        "rect = Rectangle(1,2,a)\n",
        "print('A largura do retângulo é', rect.largura)\n",
        "print('A altura do retângulo é', rect.altura)\n",
        "print('O canto o retângulo está localizado no ponto', a)"
      ],
      "execution_count": 4,
      "outputs": [
        {
          "output_type": "stream",
          "text": [
            "A largura do retângulo é 1\n",
            "A altura do retângulo é 2\n",
            "O canto o retângulo está localizado no ponto (3, 2)\n"
          ],
          "name": "stdout"
        }
      ]
    },
    {
      "cell_type": "markdown",
      "metadata": {
        "id": "JGuVeaQgEnlD"
      },
      "source": [
        "6) Escreva uma definição para uma classe chamada **Circulo** com atributos ***centro*** e ***raio***, em que ***centro*** é um objeto do tipo **Ponto** e ***raio*** é um número.\n",
        "   * Instancie um objeto **Circulo** que represente um círculo com seu centro em (150, 100) e raio 75 e imprima na tela as coordenadas (x,y) do centro do círculo.\n",
        "   * Escreva uma função chamada ponto_no_circulo que use um Circulo e um Ponto e retorne True se o Ponto estiver dentro do círculo ou no limite do mesmo.\n",
        "   \n",
        "7) Escreva uma função chamada **desenhar_ret** que use um objeto ***Turtle*** e um ***Retangulo*** e use o Turtle para desenhar o retângulo.\n",
        "\n",
        "8) Escreva uma função chamada desenhar_circulo que use uma ***Turtle*** e um ***Circulo*** e desenhe o ***Circulo***."
      ]
    },
    {
      "cell_type": "code",
      "metadata": {
        "id": "DpkFyT6kEnlD",
        "colab": {
          "base_uri": "https://localhost:8080/"
        },
        "outputId": "9685b910-309d-40b8-9736-366bafc81d36"
      },
      "source": [
        "#6\n",
        "class Circulo:\n",
        "\t\"\"\" Representa um circulo.\n",
        "\tAtributos:\n",
        "\t- raio, do tipo float\n",
        "\t- centro, do tipo Ponto.\n",
        "\t\"\"\"\n",
        "\n",
        "\tdef __init__(self,raio,centro):\n",
        "\t\tself.raio = raio\n",
        "\n",
        "\t\tif not isinstance(centro, Ponto):\n",
        "\t\t\traise TypeError('O centro deve ser um ponto.')\n",
        "\t\telse:\n",
        "\t\t\tself.centro = centro\n",
        "\n",
        "\tdef __str__(self):\n",
        "\t\treturn \"({0}, {1})\".format(self.raio, self.centro)\n",
        "\n",
        "\tdef ponto_no_circulo(self,alvo):\n",
        "\t\t\"\"\" Verifica se um ponto alvo está dentro do circulo \"\"\"\n",
        "\t\tdx = (alvo.x - self.centro.x)**2\n",
        "\t\tdy = (alvo.y - self.centro.y)**2\n",
        "\t\td = (dx + dy)**0.5\n",
        "\t\tif d <= self.raio:\n",
        "\t\t\treturn True\n",
        "\t\telse:\n",
        "\t\t\treturn False\n",
        "\n",
        "o = Ponto(150,100)\n",
        "circ = Circulo(75,o)\n",
        "p = Ponto(120,120)\n",
        "\n",
        "print('As coordenadas x,y do centro do círculo são', o)\n",
        "print('O ponto', p, 'está contido no círculo', circ, '?', circ.ponto_no_circulo(p))"
      ],
      "execution_count": 10,
      "outputs": [
        {
          "output_type": "stream",
          "text": [
            "As coordenadas x,y do centro do círculo são (150, 100)\n",
            "O ponto (120, 120) está contido no círculo (75, (150, 100)) ? True\n"
          ],
          "name": "stdout"
        }
      ]
    },
    {
      "cell_type": "code",
      "metadata": {
        "colab": {
          "base_uri": "https://localhost:8080/"
        },
        "id": "Ga0_Hmplw95w",
        "outputId": "13aa49ac-c8d7-45c7-c3c1-172099ddb4d5"
      },
      "source": [
        "!pip3 install ColabTurtle\n",
        "import ColabTurtle"
      ],
      "execution_count": 20,
      "outputs": [
        {
          "output_type": "stream",
          "text": [
            "Requirement already satisfied: ColabTurtle in /usr/local/lib/python3.6/dist-packages (2.0.0)\n"
          ],
          "name": "stdout"
        }
      ]
    },
    {
      "cell_type": "code",
      "metadata": {
        "colab": {
          "base_uri": "https://localhost:8080/",
          "height": 521
        },
        "id": "LsG_WBYRxEru",
        "outputId": "1cbaa728-4377-47e5-848a-fe66490a3b63"
      },
      "source": [
        "#7\n",
        "import ColabTurtle.Turtle as teca \n",
        "\n",
        "def desenhar_ret(t,rect):\n",
        "\tt.initializeTurtle()\n",
        "\tt.color('blue')\n",
        "\tt.speed(8)\n",
        "\n",
        "\tfor i in range(2):\n",
        "\t\tt.left(90)\n",
        "\t\tt.forward(rect.largura)\n",
        "\t\tt.left(90)\n",
        "\t\tt.forward(rect.altura)\n",
        " \n",
        "b = Ponto(100,-40)\n",
        "rect = Rectangle(120,50,b)\n",
        "desenhar_ret(teca,rect)"
      ],
      "execution_count": 58,
      "outputs": [
        {
          "output_type": "display_data",
          "data": {
            "text/html": [
              "\n",
              "      <svg width=\"800\" height=\"500\">\n",
              "        <rect width=\"100%\" height=\"100%\" fill=\"black\"/>\n",
              "        <line x1=\"400\" y1=\"250\" x2=\"280.0\" y2=\"250.00000000000003\" stroke-linecap=\"round\" style=\"stroke:blue;stroke-width:4\"/><line x1=\"280.0\" y1=\"250.00000000000003\" x2=\"280.0\" y2=\"300.0\" stroke-linecap=\"round\" style=\"stroke:blue;stroke-width:4\"/><line x1=\"280.0\" y1=\"300.0\" x2=\"400.0\" y2=\"300.0\" stroke-linecap=\"round\" style=\"stroke:blue;stroke-width:4\"/><line x1=\"400.0\" y1=\"300.0\" x2=\"400.0\" y2=\"250.0\" stroke-linecap=\"round\" style=\"stroke:blue;stroke-width:4\"/>\n",
              "        \n",
              "      <g visibility=visible transform=\"rotate(180,400.0,250.0) translate(400.0, 250.0)\">\n",
              "        <circle stroke=\"blue\" stroke-width=\"3\" fill=\"transparent\" r=\"12\" cx=\"0\" cy=\"0\"/>\n",
              "        <polygon points=\"0,19 3,16 -3,16\" style=\"fill:blue;stroke:blue;stroke-width:2\"/>\n",
              "      </g>\n",
              "    \n",
              "      </svg>\n",
              "    "
            ],
            "text/plain": [
              "<IPython.core.display.HTML object>"
            ]
          },
          "metadata": {
            "tags": []
          }
        }
      ]
    },
    {
      "cell_type": "code",
      "metadata": {
        "colab": {
          "base_uri": "https://localhost:8080/",
          "height": 521
        },
        "id": "EGEu9f5w2fr0",
        "outputId": "14dc83ea-756f-4ed0-e0ad-78364698658f"
      },
      "source": [
        "#8\n",
        "import ColabTurtle.Turtle as teca\n",
        "teca.initializeTurtle()\n",
        "def desenhar_circulo(t,circ):\n",
        "\tt.color('red')\n",
        "\tt.speed(10)\n",
        "\tt.right(90)\n",
        "\n",
        "\tperimetro = 2*pi*circ.raio\n",
        "\n",
        "\tfor i in range(0,360):\n",
        "\t\tt.forward(int(perimetro/360.0))\n",
        "\t\tt.right(1)\n",
        "  \n",
        "o = Ponto(-30,6)\n",
        "circ = Circulo(60,o)\n",
        "desenhar_circulo(teca,circ)"
      ],
      "execution_count": 59,
      "outputs": [
        {
          "output_type": "display_data",
          "data": {
            "text/html": [
              "\n",
              "      <svg width=\"800\" height=\"500\">\n",
              "        <rect width=\"100%\" height=\"100%\" fill=\"black\"/>\n",
              "        <line x1=\"400\" y1=\"250\" x2=\"401.0\" y2=\"250.0\" stroke-linecap=\"round\" style=\"stroke:red;stroke-width:4\"/><line x1=\"401.0\" y1=\"250.0\" x2=\"401.9998476951564\" y2=\"250.0174524064373\" stroke-linecap=\"round\" style=\"stroke:red;stroke-width:4\"/><line x1=\"401.9998476951564\" y1=\"250.0174524064373\" x2=\"402.9992385221755\" y2=\"250.0523519031398\" stroke-linecap=\"round\" style=\"stroke:red;stroke-width:4\"/><line x1=\"402.9992385221755\" y1=\"250.0523519031398\" x2=\"403.9978680569301\" y2=\"250.10468785938275\" stroke-linecap=\"round\" style=\"stroke:red;stroke-width:4\"/><line x1=\"403.9978680569301\" y1=\"250.10468785938275\" x2=\"404.9954321071899\" y2=\"250.17444433312687\" stroke-linecap=\"round\" style=\"stroke:red;stroke-width:4\"/><line x1=\"404.9954321071899\" y1=\"250.17444433312687\" x2=\"405.99162680528167\" y2=\"250.26160007587453\" stroke-linecap=\"round\" style=\"stroke:red;stroke-width:4\"/><line x1=\"405.99162680528167\" y1=\"250.26160007587453\" x2=\"406.98614870064995\" y2=\"250.36612853914218\" stroke-linecap=\"round\" style=\"stroke:red;stroke-width:4\"/><line x1=\"406.98614870064995\" y1=\"250.36612853914218\" x2=\"407.97869485229126\" y2=\"250.48799788254732\" stroke-linecap=\"round\" style=\"stroke:red;stroke-width:4\"/><line x1=\"407.97869485229126\" y1=\"250.48799788254732\" x2=\"408.9689629210328\" y2=\"250.6271709835074\" stroke-linecap=\"round\" style=\"stroke:red;stroke-width:4\"/><line x1=\"408.9689629210328\" y1=\"250.6271709835074\" x2=\"409.95665126162794\" y2=\"250.78360544854763\" stroke-linecap=\"round\" style=\"stroke:red;stroke-width:4\"/><line x1=\"409.95665126162794\" y1=\"250.78360544854763\" x2=\"410.94145901464015\" y2=\"250.95725362621457\" stroke-linecap=\"round\" style=\"stroke:red;stroke-width:4\"/><line x1=\"410.94145901464015\" y1=\"250.95725362621457\" x2=\"411.9230861980878\" y2=\"251.14806262159112\" stroke-linecap=\"round\" style=\"stroke:red;stroke-width:4\"/><line x1=\"411.9230861980878\" y1=\"251.14806262159112\" x2=\"412.9012337988216\" y2=\"251.35597431240888\" stroke-linecap=\"round\" style=\"stroke:red;stroke-width:4\"/><line x1=\"412.9012337988216\" y1=\"251.35597431240888\" x2=\"413.87560386360684\" y2=\"251.58092536675275\" stroke-linecap=\"round\" style=\"stroke:red;stroke-width:4\"/><line x1=\"413.87560386360684\" y1=\"251.58092536675275\" x2=\"414.84589958988283\" y2=\"251.8228472623524\" stroke-linecap=\"round\" style=\"stroke:red;stroke-width:4\"/><line x1=\"414.84589958988283\" y1=\"251.8228472623524\" x2=\"415.8118254161719\" y2=\"252.08166630745492\" stroke-linecap=\"round\" style=\"stroke:red;stroke-width:4\"/><line x1=\"415.8118254161719\" y1=\"252.08166630745492\" x2=\"416.77308711211026\" y2=\"252.35730366327192\" stroke-linecap=\"round\" style=\"stroke:red;stroke-width:4\"/><line x1=\"416.77308711211026\" y1=\"252.35730366327192\" x2=\"417.7293918680733\" y2=\"252.64967536799466\" stroke-linecap=\"round\" style=\"stroke:red;stroke-width:4\"/><line x1=\"417.7293918680733\" y1=\"252.64967536799466\" x2=\"418.68044838436845\" y2=\"252.95869236236962\" stroke-linecap=\"round\" style=\"stroke:red;stroke-width:4\"/><line x1=\"418.68044838436845\" y1=\"252.95869236236962\" x2=\"419.62596695996774\" y2=\"253.28426051682678\" stroke-linecap=\"round\" style=\"stroke:red;stroke-width:4\"/><line x1=\"419.62596695996774\" y1=\"253.28426051682678\" x2=\"420.5656595807537\" y2=\"253.62628066015245\" stroke-linecap=\"round\" style=\"stroke:red;stroke-width:4\"/><line x1=\"420.5656595807537\" y1=\"253.62628066015245\" x2=\"421.4992400072509\" y2=\"253.98464860969776\" stroke-linecap=\"round\" style=\"stroke:red;stroke-width:4\"/><line x1=\"421.4992400072509\" y1=\"253.98464860969776\" x2=\"422.4264238618177\" y2=\"254.35925520311366\" stroke-linecap=\"round\" style=\"stroke:red;stroke-width:4\"/><line x1=\"422.4264238618177\" y1=\"254.35925520311366\" x2=\"423.3469287152701\" y2=\"254.74998633160294\" stroke-linecap=\"round\" style=\"stroke:red;stroke-width:4\"/><line x1=\"423.3469287152701\" y1=\"254.74998633160294\" x2=\"424.2604741729127\" y2=\"255.15672297467873\" stroke-linecap=\"round\" style=\"stroke:red;stroke-width:4\"/><line x1=\"424.2604741729127\" y1=\"255.15672297467873\" x2=\"425.1667819599494\" y2=\"255.57934123641942\" stroke-linecap=\"round\" style=\"stroke:red;stroke-width:4\"/><line x1=\"425.1667819599494\" y1=\"255.57934123641942\" x2=\"426.06557600624853\" y2=\"256.0177123832085\" stroke-linecap=\"round\" style=\"stroke:red;stroke-width:4\"/><line x1=\"426.06557600624853\" y1=\"256.0177123832085\" x2=\"426.9565825304369\" y2=\"256.4717028829481\" stroke-linecap=\"round\" style=\"stroke:red;stroke-width:4\"/><line x1=\"426.9565825304369\" y1=\"256.4717028829481\" x2=\"427.83953012329584\" y2=\"256.94117444573396\" stroke-linecap=\"round\" style=\"stroke:red;stroke-width:4\"/><line x1=\"427.83953012329584\" y1=\"256.94117444573396\" x2=\"428.71414983043525\" y2=\"257.4259840659803\" stroke-linecap=\"round\" style=\"stroke:red;stroke-width:4\"/><line x1=\"428.71414983043525\" y1=\"257.4259840659803\" x2=\"429.58017523421967\" y2=\"257.9259840659803\" stroke-linecap=\"round\" style=\"stroke:red;stroke-width:4\"/><line x1=\"429.58017523421967\" y1=\"257.9259840659803\" x2=\"430.43734253492175\" y2=\"258.44102214089037\" stroke-linecap=\"round\" style=\"stroke:red;stroke-width:4\"/><line x1=\"430.43734253492175\" y1=\"258.44102214089037\" x2=\"431.2853906310782\" y2=\"258.9709414051236\" stroke-linecap=\"round\" style=\"stroke:red;stroke-width:4\"/><line x1=\"431.2853906310782\" y1=\"258.9709414051236\" x2=\"432.12406119902363\" y2=\"259.51558044013865\" stroke-linecap=\"round\" style=\"stroke:red;stroke-width:4\"/><line x1=\"432.12406119902363\" y1=\"259.51558044013865\" x2=\"432.95309877157865\" y2=\"260.0747733436094\" stroke-linecap=\"round\" style=\"stroke:red;stroke-width:4\"/><line x1=\"432.95309877157865\" y1=\"260.0747733436094\" x2=\"433.77225081586766\" y2=\"260.6483497799605\" stroke-linecap=\"round\" style=\"stroke:red;stroke-width:4\"/><line x1=\"433.77225081586766\" y1=\"260.6483497799605\" x2=\"434.5812678102426\" y2=\"261.23613503225295\" stroke-linecap=\"round\" style=\"stroke:red;stroke-width:4\"/><line x1=\"434.5812678102426\" y1=\"261.23613503225295\" x2=\"435.3799033202899\" y2=\"261.837950055405\" stroke-linecap=\"round\" style=\"stroke:red;stroke-width:4\"/><line x1=\"435.3799033202899\" y1=\"261.837950055405\" x2=\"436.1679140738966\" y2=\"262.45361153073065\" stroke-linecap=\"round\" style=\"stroke:red;stroke-width:4\"/><line x1=\"436.1679140738966\" y1=\"262.45361153073065\" x2=\"436.9450600353536\" y2=\"263.08293192178047\" stroke-linecap=\"round\" style=\"stroke:red;stroke-width:4\"/><line x1=\"436.9450600353536\" y1=\"263.08293192178047\" x2=\"437.7111044784726\" y2=\"263.725719531467\" stroke-linecap=\"round\" style=\"stroke:red;stroke-width:4\"/><line x1=\"437.7111044784726\" y1=\"263.725719531467\" x2=\"438.46581405869534\" y2=\"264.3817785604575\" stroke-linecap=\"round\" style=\"stroke:red;stroke-width:4\"/><line x1=\"438.46581405869534\" y1=\"264.3817785604575\" x2=\"439.2089588841727\" y2=\"265.0509091668164\" stroke-linecap=\"round\" style=\"stroke:red;stroke-width:4\"/><line x1=\"439.2089588841727\" y1=\"265.0509091668164\" x2=\"439.9403125857919\" y2=\"265.7329075268789\" stroke-linecap=\"round\" style=\"stroke:red;stroke-width:4\"/><line x1=\"439.9403125857919\" y1=\"265.7329075268789\" x2=\"440.6596523861306\" y2=\"266.4275658973379\" stroke-linecap=\"round\" style=\"stroke:red;stroke-width:4\"/><line x1=\"440.6596523861306\" y1=\"266.4275658973379\" x2=\"441.3667591673171\" y2=\"267.13467267852445\" stroke-linecap=\"round\" style=\"stroke:red;stroke-width:4\"/><line x1=\"441.3667591673171\" y1=\"267.13467267852445\" x2=\"442.06141753777615\" y2=\"267.8540124788631\" stroke-linecap=\"round\" style=\"stroke:red;stroke-width:4\"/><line x1=\"442.06141753777615\" y1=\"267.8540124788631\" x2=\"442.74341589783864\" y2=\"268.5853661804823\" stroke-linecap=\"round\" style=\"stroke:red;stroke-width:4\"/><line x1=\"442.74341589783864\" y1=\"268.5853661804823\" x2=\"443.4125465041975\" y2=\"269.3285110059597\" stroke-linecap=\"round\" style=\"stroke:red;stroke-width:4\"/><line x1=\"443.4125465041975\" y1=\"269.3285110059597\" x2=\"444.068605533188\" y2=\"270.08322058618245\" stroke-linecap=\"round\" style=\"stroke:red;stroke-width:4\"/><line x1=\"444.068605533188\" y1=\"270.08322058618245\" x2=\"444.71139314287456\" y2=\"270.8492650293014\" stroke-linecap=\"round\" style=\"stroke:red;stroke-width:4\"/><line x1=\"444.71139314287456\" y1=\"270.8492650293014\" x2=\"445.3407135339244\" y2=\"271.6264109907584\" stroke-linecap=\"round\" style=\"stroke:red;stroke-width:4\"/><line x1=\"445.3407135339244\" y1=\"271.6264109907584\" x2=\"445.95637500925005\" y2=\"272.41442174436514\" stroke-linecap=\"round\" style=\"stroke:red;stroke-width:4\"/><line x1=\"445.95637500925005\" y1=\"272.41442174436514\" x2=\"446.5581900324021\" y2=\"273.21305725441243\" stroke-linecap=\"round\" style=\"stroke:red;stroke-width:4\"/><line x1=\"446.5581900324021\" y1=\"273.21305725441243\" x2=\"447.14597528469454\" y2=\"274.02207424878736\" stroke-linecap=\"round\" style=\"stroke:red;stroke-width:4\"/><line x1=\"447.14597528469454\" y1=\"274.02207424878736\" x2=\"447.7195517210456\" y2=\"274.8412262930764\" stroke-linecap=\"round\" style=\"stroke:red;stroke-width:4\"/><line x1=\"447.7195517210456\" y1=\"274.8412262930764\" x2=\"448.2787446245164\" y2=\"275.6702638656314\" stroke-linecap=\"round\" style=\"stroke:red;stroke-width:4\"/><line x1=\"448.2787446245164\" y1=\"275.6702638656314\" x2=\"448.82338365953143\" y2=\"276.5089344335768\" stroke-linecap=\"round\" style=\"stroke:red;stroke-width:4\"/><line x1=\"448.82338365953143\" y1=\"276.5089344335768\" x2=\"449.35330292376466\" y2=\"277.3569825297333\" stroke-linecap=\"round\" style=\"stroke:red;stroke-width:4\"/><line x1=\"449.35330292376466\" y1=\"277.3569825297333\" x2=\"449.86834099867474\" y2=\"278.21414983043536\" stroke-linecap=\"round\" style=\"stroke:red;stroke-width:4\"/><line x1=\"449.86834099867474\" y1=\"278.21414983043536\" x2=\"450.36834099867474\" y2=\"279.0801752342198\" stroke-linecap=\"round\" style=\"stroke:red;stroke-width:4\"/><line x1=\"450.36834099867474\" y1=\"279.0801752342198\" x2=\"450.85315061892106\" y2=\"279.9547949413592\" stroke-linecap=\"round\" style=\"stroke:red;stroke-width:4\"/><line x1=\"450.85315061892106\" y1=\"279.9547949413592\" x2=\"451.32262218170695\" y2=\"280.83774253421814\" stroke-linecap=\"round\" style=\"stroke:red;stroke-width:4\"/><line x1=\"451.32262218170695\" y1=\"280.83774253421814\" x2=\"451.7766126814465\" y2=\"281.7287490584065\" stroke-linecap=\"round\" style=\"stroke:red;stroke-width:4\"/><line x1=\"451.7766126814465\" y1=\"281.7287490584065\" x2=\"452.2149838282356\" y2=\"282.62754310470564\" stroke-linecap=\"round\" style=\"stroke:red;stroke-width:4\"/><line x1=\"452.2149838282356\" y1=\"282.62754310470564\" x2=\"452.63760208997627\" y2=\"283.5338508917423\" stroke-linecap=\"round\" style=\"stroke:red;stroke-width:4\"/><line x1=\"452.63760208997627\" y1=\"283.5338508917423\" x2=\"453.0443387330521\" y2=\"284.4473963493849\" stroke-linecap=\"round\" style=\"stroke:red;stroke-width:4\"/><line x1=\"453.0443387330521\" y1=\"284.4473963493849\" x2=\"453.43506986154136\" y2=\"285.36790120283734\" stroke-linecap=\"round\" style=\"stroke:red;stroke-width:4\"/><line x1=\"453.43506986154136\" y1=\"285.36790120283734\" x2=\"453.8096764549573\" y2=\"286.29508505740415\" stroke-linecap=\"round\" style=\"stroke:red;stroke-width:4\"/><line x1=\"453.8096764549573\" y1=\"286.29508505740415\" x2=\"454.1680444045026\" y2=\"287.22866548390135\" stroke-linecap=\"round\" style=\"stroke:red;stroke-width:4\"/><line x1=\"454.1680444045026\" y1=\"287.22866548390135\" x2=\"454.5100645478283\" y2=\"288.1683581046873\" stroke-linecap=\"round\" style=\"stroke:red;stroke-width:4\"/><line x1=\"454.5100645478283\" y1=\"288.1683581046873\" x2=\"454.8356327022854\" y2=\"289.1138766802866\" stroke-linecap=\"round\" style=\"stroke:red;stroke-width:4\"/><line x1=\"454.8356327022854\" y1=\"289.1138766802866\" x2=\"455.14464969666034\" y2=\"290.0649331965817\" stroke-linecap=\"round\" style=\"stroke:red;stroke-width:4\"/><line x1=\"455.14464969666034\" y1=\"290.0649331965817\" x2=\"455.43702140138305\" y2=\"291.02123795254477\" stroke-linecap=\"round\" style=\"stroke:red;stroke-width:4\"/><line x1=\"455.43702140138305\" y1=\"291.02123795254477\" x2=\"455.7126587572001\" y2=\"291.9824996484831\" stroke-linecap=\"round\" style=\"stroke:red;stroke-width:4\"/><line x1=\"455.7126587572001\" y1=\"291.9824996484831\" x2=\"455.9714778023026\" y2=\"292.9484254747722\" stroke-linecap=\"round\" style=\"stroke:red;stroke-width:4\"/><line x1=\"455.9714778023026\" y1=\"292.9484254747722\" x2=\"456.2133996979023\" y2=\"293.9187212010482\" stroke-linecap=\"round\" style=\"stroke:red;stroke-width:4\"/><line x1=\"456.2133996979023\" y1=\"293.9187212010482\" x2=\"456.43835075224615\" y2=\"294.89309126583345\" stroke-linecap=\"round\" style=\"stroke:red;stroke-width:4\"/><line x1=\"456.43835075224615\" y1=\"294.89309126583345\" x2=\"456.6462624430639\" y2=\"295.87123886656724\" stroke-linecap=\"round\" style=\"stroke:red;stroke-width:4\"/><line x1=\"456.6462624430639\" y1=\"295.87123886656724\" x2=\"456.83707143844043\" y2=\"296.8528660500149\" stroke-linecap=\"round\" style=\"stroke:red;stroke-width:4\"/><line x1=\"456.83707143844043\" y1=\"296.8528660500149\" x2=\"457.01071961610734\" y2=\"297.8376738030271\" stroke-linecap=\"round\" style=\"stroke:red;stroke-width:4\"/><line x1=\"457.01071961610734\" y1=\"297.8376738030271\" x2=\"457.16715408114754\" y2=\"298.8253621436222\" stroke-linecap=\"round\" style=\"stroke:red;stroke-width:4\"/><line x1=\"457.16715408114754\" y1=\"298.8253621436222\" x2=\"457.3063271821076\" y2=\"299.81563021236377\" stroke-linecap=\"round\" style=\"stroke:red;stroke-width:4\"/><line x1=\"457.3063271821076\" y1=\"299.81563021236377\" x2=\"457.42819652551276\" y2=\"300.8081763640051\" stroke-linecap=\"round\" style=\"stroke:red;stroke-width:4\"/><line x1=\"457.42819652551276\" y1=\"300.8081763640051\" x2=\"457.5327249887804\" y2=\"301.80269825937336\" stroke-linecap=\"round\" style=\"stroke:red;stroke-width:4\"/><line x1=\"457.5327249887804\" y1=\"301.80269825937336\" x2=\"457.61988073152804\" y2=\"302.7988929574651\" stroke-linecap=\"round\" style=\"stroke:red;stroke-width:4\"/><line x1=\"457.61988073152804\" y1=\"302.7988929574651\" x2=\"457.68963720527216\" y2=\"303.79645700772494\" stroke-linecap=\"round\" style=\"stroke:red;stroke-width:4\"/><line x1=\"457.68963720527216\" y1=\"303.79645700772494\" x2=\"457.7419731615151\" y2=\"304.7950865424795\" stroke-linecap=\"round\" style=\"stroke:red;stroke-width:4\"/><line x1=\"457.7419731615151\" y1=\"304.7950865424795\" x2=\"457.7768726582176\" y2=\"305.7944773694986\" stroke-linecap=\"round\" style=\"stroke:red;stroke-width:4\"/><line x1=\"457.7768726582176\" y1=\"305.7944773694986\" x2=\"457.79432506465486\" y2=\"306.794325064655\" stroke-linecap=\"round\" style=\"stroke:red;stroke-width:4\"/><line x1=\"457.79432506465486\" y1=\"306.794325064655\" x2=\"457.79432506465486\" y2=\"307.794325064655\" stroke-linecap=\"round\" style=\"stroke:red;stroke-width:4\"/><line x1=\"457.79432506465486\" y1=\"307.794325064655\" x2=\"457.7768726582176\" y2=\"308.79417275981143\" stroke-linecap=\"round\" style=\"stroke:red;stroke-width:4\"/><line x1=\"457.7768726582176\" y1=\"308.79417275981143\" x2=\"457.7419731615151\" y2=\"309.79356358683054\" stroke-linecap=\"round\" style=\"stroke:red;stroke-width:4\"/><line x1=\"457.7419731615151\" y1=\"309.79356358683054\" x2=\"457.68963720527216\" y2=\"310.7921931215851\" stroke-linecap=\"round\" style=\"stroke:red;stroke-width:4\"/><line x1=\"457.68963720527216\" y1=\"310.7921931215851\" x2=\"457.61988073152804\" y2=\"311.78975717184494\" stroke-linecap=\"round\" style=\"stroke:red;stroke-width:4\"/><line x1=\"457.61988073152804\" y1=\"311.78975717184494\" x2=\"457.5327249887804\" y2=\"312.7859518699367\" stroke-linecap=\"round\" style=\"stroke:red;stroke-width:4\"/><line x1=\"457.5327249887804\" y1=\"312.7859518699367\" x2=\"457.42819652551276\" y2=\"313.780473765305\" stroke-linecap=\"round\" style=\"stroke:red;stroke-width:4\"/><line x1=\"457.42819652551276\" y1=\"313.780473765305\" x2=\"457.3063271821076\" y2=\"314.7730199169463\" stroke-linecap=\"round\" style=\"stroke:red;stroke-width:4\"/><line x1=\"457.3063271821076\" y1=\"314.7730199169463\" x2=\"457.16715408114754\" y2=\"315.76328798568784\" stroke-linecap=\"round\" style=\"stroke:red;stroke-width:4\"/><line x1=\"457.16715408114754\" y1=\"315.76328798568784\" x2=\"457.01071961610734\" y2=\"316.75097632628297\" stroke-linecap=\"round\" style=\"stroke:red;stroke-width:4\"/><line x1=\"457.01071961610734\" y1=\"316.75097632628297\" x2=\"456.83707143844043\" y2=\"317.7357840792952\" stroke-linecap=\"round\" style=\"stroke:red;stroke-width:4\"/><line x1=\"456.83707143844043\" y1=\"317.7357840792952\" x2=\"456.6462624430639\" y2=\"318.7174112627428\" stroke-linecap=\"round\" style=\"stroke:red;stroke-width:4\"/><line x1=\"456.6462624430639\" y1=\"318.7174112627428\" x2=\"456.43835075224615\" y2=\"319.6955588634766\" stroke-linecap=\"round\" style=\"stroke:red;stroke-width:4\"/><line x1=\"456.43835075224615\" y1=\"319.6955588634766\" x2=\"456.2133996979023\" y2=\"320.66992892826187\" stroke-linecap=\"round\" style=\"stroke:red;stroke-width:4\"/><line x1=\"456.2133996979023\" y1=\"320.66992892826187\" x2=\"455.9714778023026\" y2=\"321.64022465453786\" stroke-linecap=\"round\" style=\"stroke:red;stroke-width:4\"/><line x1=\"455.9714778023026\" y1=\"321.64022465453786\" x2=\"455.7126587572001\" y2=\"322.60615048082695\" stroke-linecap=\"round\" style=\"stroke:red;stroke-width:4\"/><line x1=\"455.7126587572001\" y1=\"322.60615048082695\" x2=\"455.43702140138305\" y2=\"323.5674121767653\" stroke-linecap=\"round\" style=\"stroke:red;stroke-width:4\"/><line x1=\"455.43702140138305\" y1=\"323.5674121767653\" x2=\"455.14464969666034\" y2=\"324.52371693272835\" stroke-linecap=\"round\" style=\"stroke:red;stroke-width:4\"/><line x1=\"455.14464969666034\" y1=\"324.52371693272835\" x2=\"454.8356327022854\" y2=\"325.4747734490235\" stroke-linecap=\"round\" style=\"stroke:red;stroke-width:4\"/><line x1=\"454.8356327022854\" y1=\"325.4747734490235\" x2=\"454.5100645478283\" y2=\"326.42029202462277\" stroke-linecap=\"round\" style=\"stroke:red;stroke-width:4\"/><line x1=\"454.5100645478283\" y1=\"326.42029202462277\" x2=\"454.1680444045026\" y2=\"327.3599846454087\" stroke-linecap=\"round\" style=\"stroke:red;stroke-width:4\"/><line x1=\"454.1680444045026\" y1=\"327.3599846454087\" x2=\"453.8096764549573\" y2=\"328.2935650719059\" stroke-linecap=\"round\" style=\"stroke:red;stroke-width:4\"/><line x1=\"453.8096764549573\" y1=\"328.2935650719059\" x2=\"453.43506986154136\" y2=\"329.2207489264727\" stroke-linecap=\"round\" style=\"stroke:red;stroke-width:4\"/><line x1=\"453.43506986154136\" y1=\"329.2207489264727\" x2=\"453.0443387330521\" y2=\"330.14125377992514\" stroke-linecap=\"round\" style=\"stroke:red;stroke-width:4\"/><line x1=\"453.0443387330521\" y1=\"330.14125377992514\" x2=\"452.63760208997627\" y2=\"331.05479923756775\" stroke-linecap=\"round\" style=\"stroke:red;stroke-width:4\"/><line x1=\"452.63760208997627\" y1=\"331.05479923756775\" x2=\"452.2149838282356\" y2=\"331.9611070246044\" stroke-linecap=\"round\" style=\"stroke:red;stroke-width:4\"/><line x1=\"452.2149838282356\" y1=\"331.9611070246044\" x2=\"451.7766126814465\" y2=\"332.85990107090356\" stroke-linecap=\"round\" style=\"stroke:red;stroke-width:4\"/><line x1=\"451.7766126814465\" y1=\"332.85990107090356\" x2=\"451.322622181707\" y2=\"333.7509075950919\" stroke-linecap=\"round\" style=\"stroke:red;stroke-width:4\"/><line x1=\"451.322622181707\" y1=\"333.7509075950919\" x2=\"450.8531506189211\" y2=\"334.63385518795087\" stroke-linecap=\"round\" style=\"stroke:red;stroke-width:4\"/><line x1=\"450.8531506189211\" y1=\"334.63385518795087\" x2=\"450.3683409986748\" y2=\"335.5084748950903\" stroke-linecap=\"round\" style=\"stroke:red;stroke-width:4\"/><line x1=\"450.3683409986748\" y1=\"335.5084748950903\" x2=\"449.8683409986748\" y2=\"336.3745002988747\" stroke-linecap=\"round\" style=\"stroke:red;stroke-width:4\"/><line x1=\"449.8683409986748\" y1=\"336.3745002988747\" x2=\"449.3533029237647\" y2=\"337.2316675995768\" stroke-linecap=\"round\" style=\"stroke:red;stroke-width:4\"/><line x1=\"449.3533029237647\" y1=\"337.2316675995768\" x2=\"448.8233836595315\" y2=\"338.0797156957332\" stroke-linecap=\"round\" style=\"stroke:red;stroke-width:4\"/><line x1=\"448.8233836595315\" y1=\"338.0797156957332\" x2=\"448.27874462451643\" y2=\"338.91838626367866\" stroke-linecap=\"round\" style=\"stroke:red;stroke-width:4\"/><line x1=\"448.27874462451643\" y1=\"338.91838626367866\" x2=\"447.71955172104566\" y2=\"339.7474238362337\" stroke-linecap=\"round\" style=\"stroke:red;stroke-width:4\"/><line x1=\"447.71955172104566\" y1=\"339.7474238362337\" x2=\"447.1459752846946\" y2=\"340.5665758805227\" stroke-linecap=\"round\" style=\"stroke:red;stroke-width:4\"/><line x1=\"447.1459752846946\" y1=\"340.5665758805227\" x2=\"446.55819003240214\" y2=\"341.3755928748976\" stroke-linecap=\"round\" style=\"stroke:red;stroke-width:4\"/><line x1=\"446.55819003240214\" y1=\"341.3755928748976\" x2=\"445.9563750092501\" y2=\"342.1742283849449\" stroke-linecap=\"round\" style=\"stroke:red;stroke-width:4\"/><line x1=\"445.9563750092501\" y1=\"342.1742283849449\" x2=\"445.34071353392443\" y2=\"342.96223913855164\" stroke-linecap=\"round\" style=\"stroke:red;stroke-width:4\"/><line x1=\"445.34071353392443\" y1=\"342.96223913855164\" x2=\"444.7113931428746\" y2=\"343.73938510000863\" stroke-linecap=\"round\" style=\"stroke:red;stroke-width:4\"/><line x1=\"444.7113931428746\" y1=\"343.73938510000863\" x2=\"444.0686055331881\" y2=\"344.5054295431276\" stroke-linecap=\"round\" style=\"stroke:red;stroke-width:4\"/><line x1=\"444.0686055331881\" y1=\"344.5054295431276\" x2=\"443.41254650419756\" y2=\"345.26013912335037\" stroke-linecap=\"round\" style=\"stroke:red;stroke-width:4\"/><line x1=\"443.41254650419756\" y1=\"345.26013912335037\" x2=\"442.7434158978387\" y2=\"346.00328394882774\" stroke-linecap=\"round\" style=\"stroke:red;stroke-width:4\"/><line x1=\"442.7434158978387\" y1=\"346.00328394882774\" x2=\"442.0614175377762\" y2=\"346.7346376504469\" stroke-linecap=\"round\" style=\"stroke:red;stroke-width:4\"/><line x1=\"442.0614175377762\" y1=\"346.7346376504469\" x2=\"441.3667591673172\" y2=\"347.4539774507856\" stroke-linecap=\"round\" style=\"stroke:red;stroke-width:4\"/><line x1=\"441.3667591673172\" y1=\"347.4539774507856\" x2=\"440.65965238613063\" y2=\"348.16108423197215\" stroke-linecap=\"round\" style=\"stroke:red;stroke-width:4\"/><line x1=\"440.65965238613063\" y1=\"348.16108423197215\" x2=\"439.94031258579196\" y2=\"348.8557426024312\" stroke-linecap=\"round\" style=\"stroke:red;stroke-width:4\"/><line x1=\"439.94031258579196\" y1=\"348.8557426024312\" x2=\"439.2089588841728\" y2=\"349.5377409624937\" stroke-linecap=\"round\" style=\"stroke:red;stroke-width:4\"/><line x1=\"439.2089588841728\" y1=\"349.5377409624937\" x2=\"438.4658140586954\" y2=\"350.20687156885253\" stroke-linecap=\"round\" style=\"stroke:red;stroke-width:4\"/><line x1=\"438.4658140586954\" y1=\"350.20687156885253\" x2=\"437.71110447847263\" y2=\"350.86293059784305\" stroke-linecap=\"round\" style=\"stroke:red;stroke-width:4\"/><line x1=\"437.71110447847263\" y1=\"350.86293059784305\" x2=\"436.94506003535366\" y2=\"351.5057182075296\" stroke-linecap=\"round\" style=\"stroke:red;stroke-width:4\"/><line x1=\"436.94506003535366\" y1=\"351.5057182075296\" x2=\"436.16791407389667\" y2=\"352.1350385985794\" stroke-linecap=\"round\" style=\"stroke:red;stroke-width:4\"/><line x1=\"436.16791407389667\" y1=\"352.1350385985794\" x2=\"435.37990332028994\" y2=\"352.7507000739051\" stroke-linecap=\"round\" style=\"stroke:red;stroke-width:4\"/><line x1=\"435.37990332028994\" y1=\"352.7507000739051\" x2=\"434.58126781024265\" y2=\"353.3525150970571\" stroke-linecap=\"round\" style=\"stroke:red;stroke-width:4\"/><line x1=\"434.58126781024265\" y1=\"353.3525150970571\" x2=\"433.7722508158677\" y2=\"353.94030034934957\" stroke-linecap=\"round\" style=\"stroke:red;stroke-width:4\"/><line x1=\"433.7722508158677\" y1=\"353.94030034934957\" x2=\"432.9530987715787\" y2=\"354.51387678570063\" stroke-linecap=\"round\" style=\"stroke:red;stroke-width:4\"/><line x1=\"432.9530987715787\" y1=\"354.51387678570063\" x2=\"432.1240611990237\" y2=\"355.0730696891714\" stroke-linecap=\"round\" style=\"stroke:red;stroke-width:4\"/><line x1=\"432.1240611990237\" y1=\"355.0730696891714\" x2=\"431.28539063107826\" y2=\"355.61770872418646\" stroke-linecap=\"round\" style=\"stroke:red;stroke-width:4\"/><line x1=\"431.28539063107826\" y1=\"355.61770872418646\" x2=\"430.4373425349218\" y2=\"356.1476279884197\" stroke-linecap=\"round\" style=\"stroke:red;stroke-width:4\"/><line x1=\"430.4373425349218\" y1=\"356.1476279884197\" x2=\"429.5801752342197\" y2=\"356.66266606332977\" stroke-linecap=\"round\" style=\"stroke:red;stroke-width:4\"/><line x1=\"429.5801752342197\" y1=\"356.66266606332977\" x2=\"428.7141498304353\" y2=\"357.16266606332977\" stroke-linecap=\"round\" style=\"stroke:red;stroke-width:4\"/><line x1=\"428.7141498304353\" y1=\"357.16266606332977\" x2=\"427.8395301232959\" y2=\"357.6474756835761\" stroke-linecap=\"round\" style=\"stroke:red;stroke-width:4\"/><line x1=\"427.8395301232959\" y1=\"357.6474756835761\" x2=\"426.95658253043695\" y2=\"358.116947246362\" stroke-linecap=\"round\" style=\"stroke:red;stroke-width:4\"/><line x1=\"426.95658253043695\" y1=\"358.116947246362\" x2=\"426.0655760062486\" y2=\"358.57093774610155\" stroke-linecap=\"round\" style=\"stroke:red;stroke-width:4\"/><line x1=\"426.0655760062486\" y1=\"358.57093774610155\" x2=\"425.16678195994945\" y2=\"359.0093088928906\" stroke-linecap=\"round\" style=\"stroke:red;stroke-width:4\"/><line x1=\"425.16678195994945\" y1=\"359.0093088928906\" x2=\"424.2604741729128\" y2=\"359.4319271546313\" stroke-linecap=\"round\" style=\"stroke:red;stroke-width:4\"/><line x1=\"424.2604741729128\" y1=\"359.4319271546313\" x2=\"423.34692871527017\" y2=\"359.8386637977071\" stroke-linecap=\"round\" style=\"stroke:red;stroke-width:4\"/><line x1=\"423.34692871527017\" y1=\"359.8386637977071\" x2=\"422.42642386181774\" y2=\"360.2293949261964\" stroke-linecap=\"round\" style=\"stroke:red;stroke-width:4\"/><line x1=\"422.42642386181774\" y1=\"360.2293949261964\" x2=\"421.49924000725093\" y2=\"360.6040015196123\" stroke-linecap=\"round\" style=\"stroke:red;stroke-width:4\"/><line x1=\"421.49924000725093\" y1=\"360.6040015196123\" x2=\"420.56565958075373\" y2=\"360.96236946915764\" stroke-linecap=\"round\" style=\"stroke:red;stroke-width:4\"/><line x1=\"420.56565958075373\" y1=\"360.96236946915764\" x2=\"419.6259669599678\" y2=\"361.3043896124833\" stroke-linecap=\"round\" style=\"stroke:red;stroke-width:4\"/><line x1=\"419.6259669599678\" y1=\"361.3043896124833\" x2=\"418.6804483843685\" y2=\"361.62995776694044\" stroke-linecap=\"round\" style=\"stroke:red;stroke-width:4\"/><line x1=\"418.6804483843685\" y1=\"361.62995776694044\" x2=\"417.7293918680734\" y2=\"361.93897476131536\" stroke-linecap=\"round\" style=\"stroke:red;stroke-width:4\"/><line x1=\"417.7293918680734\" y1=\"361.93897476131536\" x2=\"416.7730871121103\" y2=\"362.2313464660381\" stroke-linecap=\"round\" style=\"stroke:red;stroke-width:4\"/><line x1=\"416.7730871121103\" y1=\"362.2313464660381\" x2=\"415.811825416172\" y2=\"362.5069838218551\" stroke-linecap=\"round\" style=\"stroke:red;stroke-width:4\"/><line x1=\"415.811825416172\" y1=\"362.5069838218551\" x2=\"414.8458995898829\" y2=\"362.76580286695764\" stroke-linecap=\"round\" style=\"stroke:red;stroke-width:4\"/><line x1=\"414.8458995898829\" y1=\"362.76580286695764\" x2=\"413.8756038636069\" y2=\"363.0077247625573\" stroke-linecap=\"round\" style=\"stroke:red;stroke-width:4\"/><line x1=\"413.8756038636069\" y1=\"363.0077247625573\" x2=\"412.90123379882164\" y2=\"363.2326758169012\" stroke-linecap=\"round\" style=\"stroke:red;stroke-width:4\"/><line x1=\"412.90123379882164\" y1=\"363.2326758169012\" x2=\"411.92308619808784\" y2=\"363.44058750771893\" stroke-linecap=\"round\" style=\"stroke:red;stroke-width:4\"/><line x1=\"411.92308619808784\" y1=\"363.44058750771893\" x2=\"410.9414590146402\" y2=\"363.63139650309546\" stroke-linecap=\"round\" style=\"stroke:red;stroke-width:4\"/><line x1=\"410.9414590146402\" y1=\"363.63139650309546\" x2=\"409.956651261628\" y2=\"363.80504468076236\" stroke-linecap=\"round\" style=\"stroke:red;stroke-width:4\"/><line x1=\"409.956651261628\" y1=\"363.80504468076236\" x2=\"408.96896292103287\" y2=\"363.96147914580257\" stroke-linecap=\"round\" style=\"stroke:red;stroke-width:4\"/><line x1=\"408.96896292103287\" y1=\"363.96147914580257\" x2=\"407.9786948522913\" y2=\"364.10065224676265\" stroke-linecap=\"round\" style=\"stroke:red;stroke-width:4\"/><line x1=\"407.9786948522913\" y1=\"364.10065224676265\" x2=\"406.98614870065\" y2=\"364.2225215901678\" stroke-linecap=\"round\" style=\"stroke:red;stroke-width:4\"/><line x1=\"406.98614870065\" y1=\"364.2225215901678\" x2=\"405.9916268052817\" y2=\"364.3270500534354\" stroke-linecap=\"round\" style=\"stroke:red;stroke-width:4\"/><line x1=\"405.9916268052817\" y1=\"364.3270500534354\" x2=\"404.99543210718997\" y2=\"364.41420579618307\" stroke-linecap=\"round\" style=\"stroke:red;stroke-width:4\"/><line x1=\"404.99543210718997\" y1=\"364.41420579618307\" x2=\"403.99786805693014\" y2=\"364.4839622699272\" stroke-linecap=\"round\" style=\"stroke:red;stroke-width:4\"/><line x1=\"403.99786805693014\" y1=\"364.4839622699272\" x2=\"402.9992385221756\" y2=\"364.5362982261701\" stroke-linecap=\"round\" style=\"stroke:red;stroke-width:4\"/><line x1=\"402.9992385221756\" y1=\"364.5362982261701\" x2=\"401.99984769515646\" y2=\"364.5711977228726\" stroke-linecap=\"round\" style=\"stroke:red;stroke-width:4\"/><line x1=\"401.99984769515646\" y1=\"364.5711977228726\" x2=\"401.00000000000006\" y2=\"364.5886501293099\" stroke-linecap=\"round\" style=\"stroke:red;stroke-width:4\"/><line x1=\"401.00000000000006\" y1=\"364.5886501293099\" x2=\"400.00000000000006\" y2=\"364.5886501293099\" stroke-linecap=\"round\" style=\"stroke:red;stroke-width:4\"/><line x1=\"400.00000000000006\" y1=\"364.5886501293099\" x2=\"399.00015230484365\" y2=\"364.5711977228726\" stroke-linecap=\"round\" style=\"stroke:red;stroke-width:4\"/><line x1=\"399.00015230484365\" y1=\"364.5711977228726\" x2=\"398.00076147782454\" y2=\"364.5362982261701\" stroke-linecap=\"round\" style=\"stroke:red;stroke-width:4\"/><line x1=\"398.00076147782454\" y1=\"364.5362982261701\" x2=\"397.00213194306997\" y2=\"364.4839622699272\" stroke-linecap=\"round\" style=\"stroke:red;stroke-width:4\"/><line x1=\"397.00213194306997\" y1=\"364.4839622699272\" x2=\"396.00456789281014\" y2=\"364.41420579618307\" stroke-linecap=\"round\" style=\"stroke:red;stroke-width:4\"/><line x1=\"396.00456789281014\" y1=\"364.41420579618307\" x2=\"395.0083731947184\" y2=\"364.3270500534354\" stroke-linecap=\"round\" style=\"stroke:red;stroke-width:4\"/><line x1=\"395.0083731947184\" y1=\"364.3270500534354\" x2=\"394.0138512993501\" y2=\"364.2225215901678\" stroke-linecap=\"round\" style=\"stroke:red;stroke-width:4\"/><line x1=\"394.0138512993501\" y1=\"364.2225215901678\" x2=\"393.0213051477088\" y2=\"364.10065224676265\" stroke-linecap=\"round\" style=\"stroke:red;stroke-width:4\"/><line x1=\"393.0213051477088\" y1=\"364.10065224676265\" x2=\"392.03103707896724\" y2=\"363.96147914580257\" stroke-linecap=\"round\" style=\"stroke:red;stroke-width:4\"/><line x1=\"392.03103707896724\" y1=\"363.96147914580257\" x2=\"391.0433487383721\" y2=\"363.80504468076236\" stroke-linecap=\"round\" style=\"stroke:red;stroke-width:4\"/><line x1=\"391.0433487383721\" y1=\"363.80504468076236\" x2=\"390.0585409853599\" y2=\"363.63139650309546\" stroke-linecap=\"round\" style=\"stroke:red;stroke-width:4\"/><line x1=\"390.0585409853599\" y1=\"363.63139650309546\" x2=\"389.07691380191227\" y2=\"363.44058750771893\" stroke-linecap=\"round\" style=\"stroke:red;stroke-width:4\"/><line x1=\"389.07691380191227\" y1=\"363.44058750771893\" x2=\"388.0987662011785\" y2=\"363.2326758169012\" stroke-linecap=\"round\" style=\"stroke:red;stroke-width:4\"/><line x1=\"388.0987662011785\" y1=\"363.2326758169012\" x2=\"387.1243961363932\" y2=\"363.0077247625573\" stroke-linecap=\"round\" style=\"stroke:red;stroke-width:4\"/><line x1=\"387.1243961363932\" y1=\"363.0077247625573\" x2=\"386.1541004101172\" y2=\"362.76580286695764\" stroke-linecap=\"round\" style=\"stroke:red;stroke-width:4\"/><line x1=\"386.1541004101172\" y1=\"362.76580286695764\" x2=\"385.18817458382813\" y2=\"362.5069838218551\" stroke-linecap=\"round\" style=\"stroke:red;stroke-width:4\"/><line x1=\"385.18817458382813\" y1=\"362.5069838218551\" x2=\"384.2269128878898\" y2=\"362.2313464660381\" stroke-linecap=\"round\" style=\"stroke:red;stroke-width:4\"/><line x1=\"384.2269128878898\" y1=\"362.2313464660381\" x2=\"383.27060813192674\" y2=\"361.93897476131536\" stroke-linecap=\"round\" style=\"stroke:red;stroke-width:4\"/><line x1=\"383.27060813192674\" y1=\"361.93897476131536\" x2=\"382.31955161563155\" y2=\"361.62995776694044\" stroke-linecap=\"round\" style=\"stroke:red;stroke-width:4\"/><line x1=\"382.31955161563155\" y1=\"361.62995776694044\" x2=\"381.37403304003226\" y2=\"361.3043896124833\" stroke-linecap=\"round\" style=\"stroke:red;stroke-width:4\"/><line x1=\"381.37403304003226\" y1=\"361.3043896124833\" x2=\"380.4343404192463\" y2=\"360.96236946915764\" stroke-linecap=\"round\" style=\"stroke:red;stroke-width:4\"/><line x1=\"380.4343404192463\" y1=\"360.96236946915764\" x2=\"379.5007599927491\" y2=\"360.6040015196123\" stroke-linecap=\"round\" style=\"stroke:red;stroke-width:4\"/><line x1=\"379.5007599927491\" y1=\"360.6040015196123\" x2=\"378.5735761381823\" y2=\"360.2293949261964\" stroke-linecap=\"round\" style=\"stroke:red;stroke-width:4\"/><line x1=\"378.5735761381823\" y1=\"360.2293949261964\" x2=\"377.6530712847299\" y2=\"359.8386637977071\" stroke-linecap=\"round\" style=\"stroke:red;stroke-width:4\"/><line x1=\"377.6530712847299\" y1=\"359.8386637977071\" x2=\"376.7395258270873\" y2=\"359.4319271546313\" stroke-linecap=\"round\" style=\"stroke:red;stroke-width:4\"/><line x1=\"376.7395258270873\" y1=\"359.4319271546313\" x2=\"375.8332180400506\" y2=\"359.0093088928906\" stroke-linecap=\"round\" style=\"stroke:red;stroke-width:4\"/><line x1=\"375.8332180400506\" y1=\"359.0093088928906\" x2=\"374.93442399375147\" y2=\"358.57093774610155\" stroke-linecap=\"round\" style=\"stroke:red;stroke-width:4\"/><line x1=\"374.93442399375147\" y1=\"358.57093774610155\" x2=\"374.0434174695631\" y2=\"358.11694724636203\" stroke-linecap=\"round\" style=\"stroke:red;stroke-width:4\"/><line x1=\"374.0434174695631\" y1=\"358.11694724636203\" x2=\"373.16046987670416\" y2=\"357.64747568357615\" stroke-linecap=\"round\" style=\"stroke:red;stroke-width:4\"/><line x1=\"373.16046987670416\" y1=\"357.64747568357615\" x2=\"372.28585016956475\" y2=\"357.1626660633298\" stroke-linecap=\"round\" style=\"stroke:red;stroke-width:4\"/><line x1=\"372.28585016956475\" y1=\"357.1626660633298\" x2=\"371.41982476578033\" y2=\"356.6626660633298\" stroke-linecap=\"round\" style=\"stroke:red;stroke-width:4\"/><line x1=\"371.41982476578033\" y1=\"356.6626660633298\" x2=\"370.56265746507825\" y2=\"356.14762798841974\" stroke-linecap=\"round\" style=\"stroke:red;stroke-width:4\"/><line x1=\"370.56265746507825\" y1=\"356.14762798841974\" x2=\"369.7146093689218\" y2=\"355.6177087241865\" stroke-linecap=\"round\" style=\"stroke:red;stroke-width:4\"/><line x1=\"369.7146093689218\" y1=\"355.6177087241865\" x2=\"368.87593880097637\" y2=\"355.07306968917146\" stroke-linecap=\"round\" style=\"stroke:red;stroke-width:4\"/><line x1=\"368.87593880097637\" y1=\"355.07306968917146\" x2=\"368.04690122842135\" y2=\"354.5138767857007\" stroke-linecap=\"round\" style=\"stroke:red;stroke-width:4\"/><line x1=\"368.04690122842135\" y1=\"354.5138767857007\" x2=\"367.22774918413234\" y2=\"353.9403003493496\" stroke-linecap=\"round\" style=\"stroke:red;stroke-width:4\"/><line x1=\"367.22774918413234\" y1=\"353.9403003493496\" x2=\"366.4187321897574\" y2=\"353.35251509705716\" stroke-linecap=\"round\" style=\"stroke:red;stroke-width:4\"/><line x1=\"366.4187321897574\" y1=\"353.35251509705716\" x2=\"365.6200966797101\" y2=\"352.75070007390514\" stroke-linecap=\"round\" style=\"stroke:red;stroke-width:4\"/><line x1=\"365.6200966797101\" y1=\"352.75070007390514\" x2=\"364.8320859261034\" y2=\"352.13503859857946\" stroke-linecap=\"round\" style=\"stroke:red;stroke-width:4\"/><line x1=\"364.8320859261034\" y1=\"352.13503859857946\" x2=\"364.0549399646464\" y2=\"351.50571820752964\" stroke-linecap=\"round\" style=\"stroke:red;stroke-width:4\"/><line x1=\"364.0549399646464\" y1=\"351.50571820752964\" x2=\"363.2888955215274\" y2=\"350.8629305978431\" stroke-linecap=\"round\" style=\"stroke:red;stroke-width:4\"/><line x1=\"363.2888955215274\" y1=\"350.8629305978431\" x2=\"362.53418594130466\" y2=\"350.2068715688526\" stroke-linecap=\"round\" style=\"stroke:red;stroke-width:4\"/><line x1=\"362.53418594130466\" y1=\"350.2068715688526\" x2=\"361.7910411158273\" y2=\"349.53774096249373\" stroke-linecap=\"round\" style=\"stroke:red;stroke-width:4\"/><line x1=\"361.7910411158273\" y1=\"349.53774096249373\" x2=\"361.0596874142081\" y2=\"348.85574260243123\" stroke-linecap=\"round\" style=\"stroke:red;stroke-width:4\"/><line x1=\"361.0596874142081\" y1=\"348.85574260243123\" x2=\"360.3403476138694\" y2=\"348.1610842319722\" stroke-linecap=\"round\" style=\"stroke:red;stroke-width:4\"/><line x1=\"360.3403476138694\" y1=\"348.1610842319722\" x2=\"359.6332408326829\" y2=\"347.45397745078566\" stroke-linecap=\"round\" style=\"stroke:red;stroke-width:4\"/><line x1=\"359.6332408326829\" y1=\"347.45397745078566\" x2=\"358.93858246222385\" y2=\"346.734637650447\" stroke-linecap=\"round\" style=\"stroke:red;stroke-width:4\"/><line x1=\"358.93858246222385\" y1=\"346.734637650447\" x2=\"358.25658410216136\" y2=\"346.0032839488278\" stroke-linecap=\"round\" style=\"stroke:red;stroke-width:4\"/><line x1=\"358.25658410216136\" y1=\"346.0032839488278\" x2=\"357.5874534958025\" y2=\"345.2601391233504\" stroke-linecap=\"round\" style=\"stroke:red;stroke-width:4\"/><line x1=\"357.5874534958025\" y1=\"345.2601391233504\" x2=\"356.931394466812\" y2=\"344.50542954312766\" stroke-linecap=\"round\" style=\"stroke:red;stroke-width:4\"/><line x1=\"356.931394466812\" y1=\"344.50542954312766\" x2=\"356.28860685712544\" y2=\"343.7393851000087\" stroke-linecap=\"round\" style=\"stroke:red;stroke-width:4\"/><line x1=\"356.28860685712544\" y1=\"343.7393851000087\" x2=\"355.6592864660756\" y2=\"342.9622391385517\" stroke-linecap=\"round\" style=\"stroke:red;stroke-width:4\"/><line x1=\"355.6592864660756\" y1=\"342.9622391385517\" x2=\"355.04362499074995\" y2=\"342.17422838494497\" stroke-linecap=\"round\" style=\"stroke:red;stroke-width:4\"/><line x1=\"355.04362499074995\" y1=\"342.17422838494497\" x2=\"354.4418099675979\" y2=\"341.3755928748977\" stroke-linecap=\"round\" style=\"stroke:red;stroke-width:4\"/><line x1=\"354.4418099675979\" y1=\"341.3755928748977\" x2=\"353.85402471530546\" y2=\"340.56657588052275\" stroke-linecap=\"round\" style=\"stroke:red;stroke-width:4\"/><line x1=\"353.85402471530546\" y1=\"340.56657588052275\" x2=\"353.2804482789544\" y2=\"339.74742383623374\" stroke-linecap=\"round\" style=\"stroke:red;stroke-width:4\"/><line x1=\"353.2804482789544\" y1=\"339.74742383623374\" x2=\"352.7212553754836\" y2=\"338.9183862636787\" stroke-linecap=\"round\" style=\"stroke:red;stroke-width:4\"/><line x1=\"352.7212553754836\" y1=\"338.9183862636787\" x2=\"352.17661634046857\" y2=\"338.0797156957333\" stroke-linecap=\"round\" style=\"stroke:red;stroke-width:4\"/><line x1=\"352.17661634046857\" y1=\"338.0797156957333\" x2=\"351.64669707623534\" y2=\"337.23166759957684\" stroke-linecap=\"round\" style=\"stroke:red;stroke-width:4\"/><line x1=\"351.64669707623534\" y1=\"337.23166759957684\" x2=\"351.13165900132526\" y2=\"336.37450029887475\" stroke-linecap=\"round\" style=\"stroke:red;stroke-width:4\"/><line x1=\"351.13165900132526\" y1=\"336.37450029887475\" x2=\"350.63165900132526\" y2=\"335.50847489509033\" stroke-linecap=\"round\" style=\"stroke:red;stroke-width:4\"/><line x1=\"350.63165900132526\" y1=\"335.50847489509033\" x2=\"350.14684938107894\" y2=\"334.6338551879509\" stroke-linecap=\"round\" style=\"stroke:red;stroke-width:4\"/><line x1=\"350.14684938107894\" y1=\"334.6338551879509\" x2=\"349.67737781829305\" y2=\"333.750907595092\" stroke-linecap=\"round\" style=\"stroke:red;stroke-width:4\"/><line x1=\"349.67737781829305\" y1=\"333.750907595092\" x2=\"349.2233873185535\" y2=\"332.8599010709036\" stroke-linecap=\"round\" style=\"stroke:red;stroke-width:4\"/><line x1=\"349.2233873185535\" y1=\"332.8599010709036\" x2=\"348.7850161717644\" y2=\"331.9611070246045\" stroke-linecap=\"round\" style=\"stroke:red;stroke-width:4\"/><line x1=\"348.7850161717644\" y1=\"331.9611070246045\" x2=\"348.36239791002373\" y2=\"331.0547992375678\" stroke-linecap=\"round\" style=\"stroke:red;stroke-width:4\"/><line x1=\"348.36239791002373\" y1=\"331.0547992375678\" x2=\"347.9556612669479\" y2=\"330.1412537799252\" stroke-linecap=\"round\" style=\"stroke:red;stroke-width:4\"/><line x1=\"347.9556612669479\" y1=\"330.1412537799252\" x2=\"347.56493013845864\" y2=\"329.22074892647277\" stroke-linecap=\"round\" style=\"stroke:red;stroke-width:4\"/><line x1=\"347.56493013845864\" y1=\"329.22074892647277\" x2=\"347.1903235450427\" y2=\"328.29356507190596\" stroke-linecap=\"round\" style=\"stroke:red;stroke-width:4\"/><line x1=\"347.1903235450427\" y1=\"328.29356507190596\" x2=\"346.8319555954974\" y2=\"327.35998464540876\" stroke-linecap=\"round\" style=\"stroke:red;stroke-width:4\"/><line x1=\"346.8319555954974\" y1=\"327.35998464540876\" x2=\"346.4899354521717\" y2=\"326.4202920246228\" stroke-linecap=\"round\" style=\"stroke:red;stroke-width:4\"/><line x1=\"346.4899354521717\" y1=\"326.4202920246228\" x2=\"346.1643672977146\" y2=\"325.47477344902353\" stroke-linecap=\"round\" style=\"stroke:red;stroke-width:4\"/><line x1=\"346.1643672977146\" y1=\"325.47477344902353\" x2=\"345.85535030333966\" y2=\"324.5237169327284\" stroke-linecap=\"round\" style=\"stroke:red;stroke-width:4\"/><line x1=\"345.85535030333966\" y1=\"324.5237169327284\" x2=\"345.56297859861695\" y2=\"323.56741217676534\" stroke-linecap=\"round\" style=\"stroke:red;stroke-width:4\"/><line x1=\"345.56297859861695\" y1=\"323.56741217676534\" x2=\"345.2873412427999\" y2=\"322.606150480827\" stroke-linecap=\"round\" style=\"stroke:red;stroke-width:4\"/><line x1=\"345.2873412427999\" y1=\"322.606150480827\" x2=\"345.0285221976974\" y2=\"321.6402246545379\" stroke-linecap=\"round\" style=\"stroke:red;stroke-width:4\"/><line x1=\"345.0285221976974\" y1=\"321.6402246545379\" x2=\"344.7866003020977\" y2=\"320.6699289282619\" stroke-linecap=\"round\" style=\"stroke:red;stroke-width:4\"/><line x1=\"344.7866003020977\" y1=\"320.6699289282619\" x2=\"344.56164924775385\" y2=\"319.69555886347666\" stroke-linecap=\"round\" style=\"stroke:red;stroke-width:4\"/><line x1=\"344.56164924775385\" y1=\"319.69555886347666\" x2=\"344.3537375569361\" y2=\"318.71741126274287\" stroke-linecap=\"round\" style=\"stroke:red;stroke-width:4\"/><line x1=\"344.3537375569361\" y1=\"318.71741126274287\" x2=\"344.16292856155957\" y2=\"317.73578407929523\" stroke-linecap=\"round\" style=\"stroke:red;stroke-width:4\"/><line x1=\"344.16292856155957\" y1=\"317.73578407929523\" x2=\"343.98928038389266\" y2=\"316.750976326283\" stroke-linecap=\"round\" style=\"stroke:red;stroke-width:4\"/><line x1=\"343.98928038389266\" y1=\"316.750976326283\" x2=\"343.83284591885246\" y2=\"315.7632879856879\" stroke-linecap=\"round\" style=\"stroke:red;stroke-width:4\"/><line x1=\"343.83284591885246\" y1=\"315.7632879856879\" x2=\"343.6936728178924\" y2=\"314.77301991694634\" stroke-linecap=\"round\" style=\"stroke:red;stroke-width:4\"/><line x1=\"343.6936728178924\" y1=\"314.77301991694634\" x2=\"343.57180347448724\" y2=\"313.78047376530503\" stroke-linecap=\"round\" style=\"stroke:red;stroke-width:4\"/><line x1=\"343.57180347448724\" y1=\"313.78047376530503\" x2=\"343.4672750112196\" y2=\"312.78595186993675\" stroke-linecap=\"round\" style=\"stroke:red;stroke-width:4\"/><line x1=\"343.4672750112196\" y1=\"312.78595186993675\" x2=\"343.38011926847196\" y2=\"311.789757171845\" stroke-linecap=\"round\" style=\"stroke:red;stroke-width:4\"/><line x1=\"343.38011926847196\" y1=\"311.789757171845\" x2=\"343.31036279472784\" y2=\"310.79219312158517\" stroke-linecap=\"round\" style=\"stroke:red;stroke-width:4\"/><line x1=\"343.31036279472784\" y1=\"310.79219312158517\" x2=\"343.2580268384849\" y2=\"309.7935635868306\" stroke-linecap=\"round\" style=\"stroke:red;stroke-width:4\"/><line x1=\"343.2580268384849\" y1=\"309.7935635868306\" x2=\"343.2231273417824\" y2=\"308.7941727598115\" stroke-linecap=\"round\" style=\"stroke:red;stroke-width:4\"/><line x1=\"343.2231273417824\" y1=\"308.7941727598115\" x2=\"343.20567493534514\" y2=\"307.7943250646551\" stroke-linecap=\"round\" style=\"stroke:red;stroke-width:4\"/><line x1=\"343.20567493534514\" y1=\"307.7943250646551\" x2=\"343.20567493534514\" y2=\"306.7943250646551\" stroke-linecap=\"round\" style=\"stroke:red;stroke-width:4\"/><line x1=\"343.20567493534514\" y1=\"306.7943250646551\" x2=\"343.2231273417824\" y2=\"305.7944773694987\" stroke-linecap=\"round\" style=\"stroke:red;stroke-width:4\"/><line x1=\"343.2231273417824\" y1=\"305.7944773694987\" x2=\"343.2580268384849\" y2=\"304.79508654247957\" stroke-linecap=\"round\" style=\"stroke:red;stroke-width:4\"/><line x1=\"343.2580268384849\" y1=\"304.79508654247957\" x2=\"343.31036279472784\" y2=\"303.796457007725\" stroke-linecap=\"round\" style=\"stroke:red;stroke-width:4\"/><line x1=\"343.31036279472784\" y1=\"303.796457007725\" x2=\"343.38011926847196\" y2=\"302.79889295746517\" stroke-linecap=\"round\" style=\"stroke:red;stroke-width:4\"/><line x1=\"343.38011926847196\" y1=\"302.79889295746517\" x2=\"343.4672750112196\" y2=\"301.8026982593734\" stroke-linecap=\"round\" style=\"stroke:red;stroke-width:4\"/><line x1=\"343.4672750112196\" y1=\"301.8026982593734\" x2=\"343.57180347448724\" y2=\"300.80817636400513\" stroke-linecap=\"round\" style=\"stroke:red;stroke-width:4\"/><line x1=\"343.57180347448724\" y1=\"300.80817636400513\" x2=\"343.6936728178924\" y2=\"299.8156302123638\" stroke-linecap=\"round\" style=\"stroke:red;stroke-width:4\"/><line x1=\"343.6936728178924\" y1=\"299.8156302123638\" x2=\"343.83284591885246\" y2=\"298.82536214362227\" stroke-linecap=\"round\" style=\"stroke:red;stroke-width:4\"/><line x1=\"343.83284591885246\" y1=\"298.82536214362227\" x2=\"343.98928038389266\" y2=\"297.83767380302714\" stroke-linecap=\"round\" style=\"stroke:red;stroke-width:4\"/><line x1=\"343.98928038389266\" y1=\"297.83767380302714\" x2=\"344.16292856155957\" y2=\"296.85286605001494\" stroke-linecap=\"round\" style=\"stroke:red;stroke-width:4\"/><line x1=\"344.16292856155957\" y1=\"296.85286605001494\" x2=\"344.3537375569361\" y2=\"295.8712388665673\" stroke-linecap=\"round\" style=\"stroke:red;stroke-width:4\"/><line x1=\"344.3537375569361\" y1=\"295.8712388665673\" x2=\"344.56164924775385\" y2=\"294.8930912658335\" stroke-linecap=\"round\" style=\"stroke:red;stroke-width:4\"/><line x1=\"344.56164924775385\" y1=\"294.8930912658335\" x2=\"344.7866003020977\" y2=\"293.91872120104824\" stroke-linecap=\"round\" style=\"stroke:red;stroke-width:4\"/><line x1=\"344.7866003020977\" y1=\"293.91872120104824\" x2=\"345.0285221976974\" y2=\"292.94842547477225\" stroke-linecap=\"round\" style=\"stroke:red;stroke-width:4\"/><line x1=\"345.0285221976974\" y1=\"292.94842547477225\" x2=\"345.2873412427999\" y2=\"291.98249964848316\" stroke-linecap=\"round\" style=\"stroke:red;stroke-width:4\"/><line x1=\"345.2873412427999\" y1=\"291.98249964848316\" x2=\"345.56297859861695\" y2=\"291.0212379525448\" stroke-linecap=\"round\" style=\"stroke:red;stroke-width:4\"/><line x1=\"345.56297859861695\" y1=\"291.0212379525448\" x2=\"345.85535030333966\" y2=\"290.06493319658176\" stroke-linecap=\"round\" style=\"stroke:red;stroke-width:4\"/><line x1=\"345.85535030333966\" y1=\"290.06493319658176\" x2=\"346.1643672977146\" y2=\"289.1138766802866\" stroke-linecap=\"round\" style=\"stroke:red;stroke-width:4\"/><line x1=\"346.1643672977146\" y1=\"289.1138766802866\" x2=\"346.4899354521717\" y2=\"288.1683581046873\" stroke-linecap=\"round\" style=\"stroke:red;stroke-width:4\"/><line x1=\"346.4899354521717\" y1=\"288.1683581046873\" x2=\"346.8319555954974\" y2=\"287.22866548390135\" stroke-linecap=\"round\" style=\"stroke:red;stroke-width:4\"/><line x1=\"346.8319555954974\" y1=\"287.22866548390135\" x2=\"347.1903235450427\" y2=\"286.29508505740415\" stroke-linecap=\"round\" style=\"stroke:red;stroke-width:4\"/><line x1=\"347.1903235450427\" y1=\"286.29508505740415\" x2=\"347.56493013845864\" y2=\"285.36790120283734\" stroke-linecap=\"round\" style=\"stroke:red;stroke-width:4\"/><line x1=\"347.56493013845864\" y1=\"285.36790120283734\" x2=\"347.9556612669479\" y2=\"284.4473963493849\" stroke-linecap=\"round\" style=\"stroke:red;stroke-width:4\"/><line x1=\"347.9556612669479\" y1=\"284.4473963493849\" x2=\"348.36239791002373\" y2=\"283.5338508917423\" stroke-linecap=\"round\" style=\"stroke:red;stroke-width:4\"/><line x1=\"348.36239791002373\" y1=\"283.5338508917423\" x2=\"348.7850161717644\" y2=\"282.62754310470564\" stroke-linecap=\"round\" style=\"stroke:red;stroke-width:4\"/><line x1=\"348.7850161717644\" y1=\"282.62754310470564\" x2=\"349.2233873185535\" y2=\"281.7287490584065\" stroke-linecap=\"round\" style=\"stroke:red;stroke-width:4\"/><line x1=\"349.2233873185535\" y1=\"281.7287490584065\" x2=\"349.677377818293\" y2=\"280.83774253421814\" stroke-linecap=\"round\" style=\"stroke:red;stroke-width:4\"/><line x1=\"349.677377818293\" y1=\"280.83774253421814\" x2=\"350.1468493810789\" y2=\"279.9547949413592\" stroke-linecap=\"round\" style=\"stroke:red;stroke-width:4\"/><line x1=\"350.1468493810789\" y1=\"279.9547949413592\" x2=\"350.6316590013252\" y2=\"279.0801752342198\" stroke-linecap=\"round\" style=\"stroke:red;stroke-width:4\"/><line x1=\"350.6316590013252\" y1=\"279.0801752342198\" x2=\"351.1316590013252\" y2=\"278.21414983043536\" stroke-linecap=\"round\" style=\"stroke:red;stroke-width:4\"/><line x1=\"351.1316590013252\" y1=\"278.21414983043536\" x2=\"351.6466970762353\" y2=\"277.3569825297333\" stroke-linecap=\"round\" style=\"stroke:red;stroke-width:4\"/><line x1=\"351.6466970762353\" y1=\"277.3569825297333\" x2=\"352.1766163404685\" y2=\"276.5089344335768\" stroke-linecap=\"round\" style=\"stroke:red;stroke-width:4\"/><line x1=\"352.1766163404685\" y1=\"276.5089344335768\" x2=\"352.72125537548357\" y2=\"275.6702638656314\" stroke-linecap=\"round\" style=\"stroke:red;stroke-width:4\"/><line x1=\"352.72125537548357\" y1=\"275.6702638656314\" x2=\"353.28044827895434\" y2=\"274.8412262930764\" stroke-linecap=\"round\" style=\"stroke:red;stroke-width:4\"/><line x1=\"353.28044827895434\" y1=\"274.8412262930764\" x2=\"353.8540247153054\" y2=\"274.02207424878736\" stroke-linecap=\"round\" style=\"stroke:red;stroke-width:4\"/><line x1=\"353.8540247153054\" y1=\"274.02207424878736\" x2=\"354.44180996759786\" y2=\"273.21305725441243\" stroke-linecap=\"round\" style=\"stroke:red;stroke-width:4\"/><line x1=\"354.44180996759786\" y1=\"273.21305725441243\" x2=\"355.0436249907499\" y2=\"272.41442174436514\" stroke-linecap=\"round\" style=\"stroke:red;stroke-width:4\"/><line x1=\"355.0436249907499\" y1=\"272.41442174436514\" x2=\"355.65928646607557\" y2=\"271.6264109907584\" stroke-linecap=\"round\" style=\"stroke:red;stroke-width:4\"/><line x1=\"355.65928646607557\" y1=\"271.6264109907584\" x2=\"356.2886068571254\" y2=\"270.8492650293014\" stroke-linecap=\"round\" style=\"stroke:red;stroke-width:4\"/><line x1=\"356.2886068571254\" y1=\"270.8492650293014\" x2=\"356.9313944668119\" y2=\"270.08322058618245\" stroke-linecap=\"round\" style=\"stroke:red;stroke-width:4\"/><line x1=\"356.9313944668119\" y1=\"270.08322058618245\" x2=\"357.58745349580244\" y2=\"269.3285110059597\" stroke-linecap=\"round\" style=\"stroke:red;stroke-width:4\"/><line x1=\"357.58745349580244\" y1=\"269.3285110059597\" x2=\"358.2565841021613\" y2=\"268.5853661804823\" stroke-linecap=\"round\" style=\"stroke:red;stroke-width:4\"/><line x1=\"358.2565841021613\" y1=\"268.5853661804823\" x2=\"358.9385824622238\" y2=\"267.8540124788631\" stroke-linecap=\"round\" style=\"stroke:red;stroke-width:4\"/><line x1=\"358.9385824622238\" y1=\"267.8540124788631\" x2=\"359.6332408326828\" y2=\"267.13467267852445\" stroke-linecap=\"round\" style=\"stroke:red;stroke-width:4\"/><line x1=\"359.6332408326828\" y1=\"267.13467267852445\" x2=\"360.34034761386937\" y2=\"266.4275658973379\" stroke-linecap=\"round\" style=\"stroke:red;stroke-width:4\"/><line x1=\"360.34034761386937\" y1=\"266.4275658973379\" x2=\"361.05968741420804\" y2=\"265.7329075268789\" stroke-linecap=\"round\" style=\"stroke:red;stroke-width:4\"/><line x1=\"361.05968741420804\" y1=\"265.7329075268789\" x2=\"361.7910411158272\" y2=\"265.0509091668164\" stroke-linecap=\"round\" style=\"stroke:red;stroke-width:4\"/><line x1=\"361.7910411158272\" y1=\"265.0509091668164\" x2=\"362.5341859413046\" y2=\"264.3817785604575\" stroke-linecap=\"round\" style=\"stroke:red;stroke-width:4\"/><line x1=\"362.5341859413046\" y1=\"264.3817785604575\" x2=\"363.28889552152737\" y2=\"263.725719531467\" stroke-linecap=\"round\" style=\"stroke:red;stroke-width:4\"/><line x1=\"363.28889552152737\" y1=\"263.725719531467\" x2=\"364.05493996464634\" y2=\"263.08293192178047\" stroke-linecap=\"round\" style=\"stroke:red;stroke-width:4\"/><line x1=\"364.05493996464634\" y1=\"263.08293192178047\" x2=\"364.83208592610333\" y2=\"262.45361153073065\" stroke-linecap=\"round\" style=\"stroke:red;stroke-width:4\"/><line x1=\"364.83208592610333\" y1=\"262.45361153073065\" x2=\"365.62009667971006\" y2=\"261.837950055405\" stroke-linecap=\"round\" style=\"stroke:red;stroke-width:4\"/><line x1=\"365.62009667971006\" y1=\"261.837950055405\" x2=\"366.41873218975735\" y2=\"261.23613503225295\" stroke-linecap=\"round\" style=\"stroke:red;stroke-width:4\"/><line x1=\"366.41873218975735\" y1=\"261.23613503225295\" x2=\"367.2277491841323\" y2=\"260.6483497799605\" stroke-linecap=\"round\" style=\"stroke:red;stroke-width:4\"/><line x1=\"367.2277491841323\" y1=\"260.6483497799605\" x2=\"368.0469012284213\" y2=\"260.0747733436094\" stroke-linecap=\"round\" style=\"stroke:red;stroke-width:4\"/><line x1=\"368.0469012284213\" y1=\"260.0747733436094\" x2=\"368.8759388009763\" y2=\"259.51558044013865\" stroke-linecap=\"round\" style=\"stroke:red;stroke-width:4\"/><line x1=\"368.8759388009763\" y1=\"259.51558044013865\" x2=\"369.71460936892174\" y2=\"258.9709414051236\" stroke-linecap=\"round\" style=\"stroke:red;stroke-width:4\"/><line x1=\"369.71460936892174\" y1=\"258.9709414051236\" x2=\"370.5626574650782\" y2=\"258.44102214089037\" stroke-linecap=\"round\" style=\"stroke:red;stroke-width:4\"/><line x1=\"370.5626574650782\" y1=\"258.44102214089037\" x2=\"371.4198247657803\" y2=\"257.9259840659803\" stroke-linecap=\"round\" style=\"stroke:red;stroke-width:4\"/><line x1=\"371.4198247657803\" y1=\"257.9259840659803\" x2=\"372.2858501695647\" y2=\"257.4259840659803\" stroke-linecap=\"round\" style=\"stroke:red;stroke-width:4\"/><line x1=\"372.2858501695647\" y1=\"257.4259840659803\" x2=\"373.1604698767041\" y2=\"256.94117444573396\" stroke-linecap=\"round\" style=\"stroke:red;stroke-width:4\"/><line x1=\"373.1604698767041\" y1=\"256.94117444573396\" x2=\"374.04341746956305\" y2=\"256.4717028829481\" stroke-linecap=\"round\" style=\"stroke:red;stroke-width:4\"/><line x1=\"374.04341746956305\" y1=\"256.4717028829481\" x2=\"374.9344239937514\" y2=\"256.0177123832085\" stroke-linecap=\"round\" style=\"stroke:red;stroke-width:4\"/><line x1=\"374.9344239937514\" y1=\"256.0177123832085\" x2=\"375.83321804005055\" y2=\"255.57934123641942\" stroke-linecap=\"round\" style=\"stroke:red;stroke-width:4\"/><line x1=\"375.83321804005055\" y1=\"255.57934123641942\" x2=\"376.7395258270872\" y2=\"255.15672297467873\" stroke-linecap=\"round\" style=\"stroke:red;stroke-width:4\"/><line x1=\"376.7395258270872\" y1=\"255.15672297467873\" x2=\"377.65307128472983\" y2=\"254.74998633160294\" stroke-linecap=\"round\" style=\"stroke:red;stroke-width:4\"/><line x1=\"377.65307128472983\" y1=\"254.74998633160294\" x2=\"378.57357613818226\" y2=\"254.35925520311366\" stroke-linecap=\"round\" style=\"stroke:red;stroke-width:4\"/><line x1=\"378.57357613818226\" y1=\"254.35925520311366\" x2=\"379.50075999274907\" y2=\"253.98464860969776\" stroke-linecap=\"round\" style=\"stroke:red;stroke-width:4\"/><line x1=\"379.50075999274907\" y1=\"253.98464860969776\" x2=\"380.43434041924627\" y2=\"253.62628066015245\" stroke-linecap=\"round\" style=\"stroke:red;stroke-width:4\"/><line x1=\"380.43434041924627\" y1=\"253.62628066015245\" x2=\"381.3740330400322\" y2=\"253.28426051682678\" stroke-linecap=\"round\" style=\"stroke:red;stroke-width:4\"/><line x1=\"381.3740330400322\" y1=\"253.28426051682678\" x2=\"382.3195516156315\" y2=\"252.95869236236962\" stroke-linecap=\"round\" style=\"stroke:red;stroke-width:4\"/><line x1=\"382.3195516156315\" y1=\"252.95869236236962\" x2=\"383.2706081319266\" y2=\"252.64967536799466\" stroke-linecap=\"round\" style=\"stroke:red;stroke-width:4\"/><line x1=\"383.2706081319266\" y1=\"252.64967536799466\" x2=\"384.2269128878897\" y2=\"252.35730366327192\" stroke-linecap=\"round\" style=\"stroke:red;stroke-width:4\"/><line x1=\"384.2269128878897\" y1=\"252.35730366327192\" x2=\"385.188174583828\" y2=\"252.08166630745492\" stroke-linecap=\"round\" style=\"stroke:red;stroke-width:4\"/><line x1=\"385.188174583828\" y1=\"252.08166630745492\" x2=\"386.1541004101171\" y2=\"251.8228472623524\" stroke-linecap=\"round\" style=\"stroke:red;stroke-width:4\"/><line x1=\"386.1541004101171\" y1=\"251.8228472623524\" x2=\"387.1243961363931\" y2=\"251.58092536675275\" stroke-linecap=\"round\" style=\"stroke:red;stroke-width:4\"/><line x1=\"387.1243961363931\" y1=\"251.58092536675275\" x2=\"388.09876620117836\" y2=\"251.35597431240888\" stroke-linecap=\"round\" style=\"stroke:red;stroke-width:4\"/><line x1=\"388.09876620117836\" y1=\"251.35597431240888\" x2=\"389.07691380191216\" y2=\"251.14806262159112\" stroke-linecap=\"round\" style=\"stroke:red;stroke-width:4\"/><line x1=\"389.07691380191216\" y1=\"251.14806262159112\" x2=\"390.0585409853598\" y2=\"250.95725362621457\" stroke-linecap=\"round\" style=\"stroke:red;stroke-width:4\"/><line x1=\"390.0585409853598\" y1=\"250.95725362621457\" x2=\"391.043348738372\" y2=\"250.78360544854763\" stroke-linecap=\"round\" style=\"stroke:red;stroke-width:4\"/><line x1=\"391.043348738372\" y1=\"250.78360544854763\" x2=\"392.03103707896713\" y2=\"250.6271709835074\" stroke-linecap=\"round\" style=\"stroke:red;stroke-width:4\"/><line x1=\"392.03103707896713\" y1=\"250.6271709835074\" x2=\"393.0213051477087\" y2=\"250.48799788254732\" stroke-linecap=\"round\" style=\"stroke:red;stroke-width:4\"/><line x1=\"393.0213051477087\" y1=\"250.48799788254732\" x2=\"394.01385129935\" y2=\"250.36612853914218\" stroke-linecap=\"round\" style=\"stroke:red;stroke-width:4\"/><line x1=\"394.01385129935\" y1=\"250.36612853914218\" x2=\"395.0083731947183\" y2=\"250.26160007587453\" stroke-linecap=\"round\" style=\"stroke:red;stroke-width:4\"/><line x1=\"395.0083731947183\" y1=\"250.26160007587453\" x2=\"396.00456789281003\" y2=\"250.17444433312687\" stroke-linecap=\"round\" style=\"stroke:red;stroke-width:4\"/><line x1=\"396.00456789281003\" y1=\"250.17444433312687\" x2=\"397.00213194306986\" y2=\"250.10468785938275\" stroke-linecap=\"round\" style=\"stroke:red;stroke-width:4\"/><line x1=\"397.00213194306986\" y1=\"250.10468785938275\" x2=\"398.0007614778244\" y2=\"250.0523519031398\" stroke-linecap=\"round\" style=\"stroke:red;stroke-width:4\"/><line x1=\"398.0007614778244\" y1=\"250.0523519031398\" x2=\"399.00015230484354\" y2=\"250.0174524064373\" stroke-linecap=\"round\" style=\"stroke:red;stroke-width:4\"/><line x1=\"399.00015230484354\" y1=\"250.0174524064373\" x2=\"399.99999999999994\" y2=\"250.0\" stroke-linecap=\"round\" style=\"stroke:red;stroke-width:4\"/>\n",
              "        \n",
              "      <g visibility=visible transform=\"rotate(-90,399.99999999999994,250.0) translate(399.99999999999994, 250.0)\">\n",
              "        <circle stroke=\"red\" stroke-width=\"3\" fill=\"transparent\" r=\"12\" cx=\"0\" cy=\"0\"/>\n",
              "        <polygon points=\"0,19 3,16 -3,16\" style=\"fill:red;stroke:red;stroke-width:2\"/>\n",
              "      </g>\n",
              "    \n",
              "      </svg>\n",
              "    "
            ],
            "text/plain": [
              "<IPython.core.display.HTML object>"
            ]
          },
          "metadata": {
            "tags": []
          }
        }
      ]
    }
  ]
}