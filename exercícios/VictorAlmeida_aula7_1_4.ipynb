{
  "nbformat": 4,
  "nbformat_minor": 0,
  "metadata": {
    "colab": {
      "name": "VictorAlmeida_aula7_1_4.ipynb",
      "provenance": [],
      "authorship_tag": "ABX9TyNN2buLNwPY+d8R0Mbovjmz",
      "include_colab_link": true
    },
    "kernelspec": {
      "name": "python3",
      "display_name": "Python 3"
    }
  },
  "cells": [
    {
      "cell_type": "markdown",
      "metadata": {
        "id": "view-in-github",
        "colab_type": "text"
      },
      "source": [
        "<a href=\"https://colab.research.google.com/github/Victor17in/PythonCurso/blob/master/exerc%C3%ADcios/VictorAlmeida_aula7_1_4.ipynb\" target=\"_parent\"><img src=\"https://colab.research.google.com/assets/colab-badge.svg\" alt=\"Open In Colab\"/></a>"
      ]
    },
    {
      "cell_type": "markdown",
      "metadata": {
        "id": "YRF3VzBYLbC7"
      },
      "source": [
        "\n",
        "1) A **conjectura de Collatz**, diz que \"Todos os inteiros positivos irão eventualmente convergir para 1 usando as regras do Collatz\". Faça um programa que verifique a conjectura de Collatz para alguns valores. As regras de Collatz são: Dado um número ***n***: \n",
        "   * se ***n*** for par, divida-o por ***2***;\n",
        "   * Se ***n*** for ímpar, atualize-o para 3*n + 1"
      ]
    },
    {
      "cell_type": "code",
      "metadata": {
        "id": "V3PnF23ILSmx",
        "outputId": "b45ad813-d5e3-478f-9638-52e2944f4c91",
        "colab": {
          "base_uri": "https://localhost:8080/",
          "height": 85
        }
      },
      "source": [
        "n = int(input('Escolha um número:')) # int(str)= int\n",
        "print(n)    \n",
        "if n % 2 == 1:      # If the number is odd\n",
        "  cc = 3*n + 1\n",
        "  print('Ímpar')\n",
        "  print(cc)\n",
        "else:\n",
        "  c = n/2\n",
        "  print('Par')\n",
        "  print(c)"
      ],
      "execution_count": null,
      "outputs": [
        {
          "output_type": "stream",
          "text": [
            "Escolha um número:106\n",
            "106\n",
            "Par\n",
            "53.0\n"
          ],
          "name": "stdout"
        }
      ]
    },
    {
      "cell_type": "markdown",
      "metadata": {
        "id": "PzZLNIVYRyfY"
      },
      "source": [
        "2) Modifique a função counter para contar o número de vezes que os dígitos 0 e 5 aparecem em um dado número n. Por exemplo, n = 10568, tem 2 dígitos 0 ou 5. "
      ]
    },
    {
      "cell_type": "code",
      "metadata": {
        "id": "L-rjNynlR4yr",
        "outputId": "4461f470-0bfe-41f2-dd5a-e3f2918fad7c",
        "colab": {
          "base_uri": "https://localhost:8080/",
          "height": 34
        }
      },
      "source": [
        "def counter(n):\n",
        "    count = 0\n",
        "    while n!=0:\n",
        "        count = count + 1\n",
        "        n = n // 10         # divisão de inteiros\n",
        "    return count\n",
        "\n",
        "counter(7100)"
      ],
      "execution_count": null,
      "outputs": [
        {
          "output_type": "execute_result",
          "data": {
            "text/plain": [
              "4"
            ]
          },
          "metadata": {
            "tags": []
          },
          "execution_count": 46
        }
      ]
    },
    {
      "cell_type": "code",
      "metadata": {
        "id": "kKGkzxUsTqyd",
        "outputId": "00858168-fc4d-433b-86a4-53220b515643",
        "colab": {
          "base_uri": "https://localhost:8080/",
          "height": 68
        }
      },
      "source": [
        "def counter05(n):\n",
        "\tcount0 = 0\n",
        "\tcount5 = 0\n",
        "\tfor i in n:\n",
        "\t\tif i == \"0\": #somar quando aparece 0 na str numérica\n",
        "\t\t\tcount0 = count0 + 1\n",
        "\t\telif i == \"5\": #somar quando aparece 5 na str numérica\n",
        "\t\t\tcount5 = count5 + 1\n",
        "\treturn count0, count5\n",
        "\n",
        "n = input('Contar a quantidade de zeros e cincos do número: ') #str\n",
        "count0, count5 = counter05(n)\n",
        "print(count0, 'zeros')\n",
        "print(count5, 'cincos')"
      ],
      "execution_count": null,
      "outputs": [
        {
          "output_type": "stream",
          "text": [
            "Contar a quantidade de zeros e cincos do número: 558003\n",
            "2 zeros\n",
            "2 cincos\n"
          ],
          "name": "stdout"
        }
      ]
    },
    {
      "cell_type": "markdown",
      "metadata": {
        "id": "aA6TMWkIWJ1W"
      },
      "source": [
        "3) Encapsule e generalize a seguinte declaração:"
      ]
    },
    {
      "cell_type": "code",
      "metadata": {
        "id": "j0QyWTEoWN_U",
        "outputId": "34cdb305-d7e1-44f1-b270-fb4fe5d8d49c",
        "colab": {
          "base_uri": "https://localhost:8080/",
          "height": 68
        }
      },
      "source": [
        "for i in [12, 16, 17, 24, 29]:\n",
        "    if i % 2 == 1:  # If the number is odd\n",
        "       break        #  ... immediately exit the loop\n",
        "    print(i)\n",
        "print(\"done\")"
      ],
      "execution_count": null,
      "outputs": [
        {
          "output_type": "stream",
          "text": [
            "12\n",
            "16\n",
            "done\n"
          ],
          "name": "stdout"
        }
      ]
    },
    {
      "cell_type": "code",
      "metadata": {
        "id": "B8Fvi2QnWSrV",
        "outputId": "bc5c69cb-fb13-4e90-8bdc-b822d4066a92",
        "colab": {
          "base_uri": "https://localhost:8080/",
          "height": 153
        }
      },
      "source": [
        "def listaateimpar(lista1):\n",
        "\t\tfor i in lista1:\n",
        "\t\t\tif i % 2 == 1:\n",
        "\t\t\t\tbreak\n",
        "\t\t\tprint(i)\n",
        "\t\tprint('Done')\n",
        "\n",
        "n = int(input('Quantidade de números: '))\n",
        "lista = []\n",
        "for i in range(1, n+1):\n",
        "    print('Número',i,':', end='')\n",
        "    x = int(input())\n",
        "    lista.append(x) #gravar na lista\n",
        "\n",
        "listaateimpar(lista)"
      ],
      "execution_count": null,
      "outputs": [
        {
          "output_type": "stream",
          "text": [
            "Quantidade de números: 3\n",
            "Número 1 :6\n",
            "Número 2 :6\n",
            "Número 3 :8\n",
            "6\n",
            "6\n",
            "8\n",
            "Done\n"
          ],
          "name": "stdout"
        }
      ]
    },
    {
      "cell_type": "markdown",
      "metadata": {
        "id": "2cq8jxlnbG74"
      },
      "source": [
        "4) O método de Newton para raiz quadrada. Suponha que você queira calcular a raiz quadrada de ***n***. Se você começar com quase qualquer aproximação, poderá calcular uma aproximação melhor (mais próxima da resposta real) com a seguinte fórmula: melhor = (approx + n/approx)/2\n",
        "\n",
        "\n",
        "Usando um loop e repetindo esta fórmula até que a melhor aproximação se aproxime o suficiente da anterior (podemos considerar uma diferença de 0,001), podemos escrever uma função para calcular a raiz quadrada.\n",
        "\n",
        "\n",
        "Esse é um exemplo de repetição **indefinida**. Com qual tipo de loop você deve escrever o seu programa?"
      ]
    },
    {
      "cell_type": "code",
      "metadata": {
        "id": "7a8MfKbRfshd",
        "outputId": "e01029db-bf07-4c8b-d740-bca16c7a2a69",
        "colab": {
          "base_uri": "https://localhost:8080/",
          "height": 85
        }
      },
      "source": [
        "#loop while para repetição indefinida\n",
        "def metodonewton(n):\n",
        "    approx = n/2.5 # n/3.0 qualquer aproximação\n",
        "    count = 0\n",
        "    while True:\n",
        "    \tcount = count + 1\n",
        "    \tmelhor = (approx + n/approx)/2.0\n",
        "    \tif approx - melhor == 0:\n",
        "    \t\treturn melhor, count\n",
        "    \tapprox = melhor\n",
        "\n",
        "n = int(input('Número para fazer a raiz quadrada: '))\n",
        "raiz, count = metodonewton(n)\n",
        "\n",
        "print('A raiz quadrada é:')\n",
        "print(round(raiz,3))\n",
        "print(count, 'repetições')"
      ],
      "execution_count": 113,
      "outputs": [
        {
          "output_type": "stream",
          "text": [
            "Número para fazer a raiz quadrada: 5\n",
            "A raiz quadrada é:\n",
            "2.236\n",
            "5 repetições\n"
          ],
          "name": "stdout"
        }
      ]
    }
  ]
}