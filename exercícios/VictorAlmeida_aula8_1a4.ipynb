{
  "nbformat": 4,
  "nbformat_minor": 0,
  "metadata": {
    "colab": {
      "name": "VictorAlmeida_aula8_1a4.ipynb",
      "provenance": [],
      "collapsed_sections": [],
      "authorship_tag": "ABX9TyONdzBK4FSDevchn0thgKks",
      "include_colab_link": true
    },
    "kernelspec": {
      "name": "python3",
      "display_name": "Python 3"
    }
  },
  "cells": [
    {
      "cell_type": "markdown",
      "metadata": {
        "id": "view-in-github",
        "colab_type": "text"
      },
      "source": [
        "<a href=\"https://colab.research.google.com/github/Victor17in/PythonCurso/blob/master/exerc%C3%ADcios/VictorAlmeida_aula8_1a4.ipynb\" target=\"_parent\"><img src=\"https://colab.research.google.com/assets/colab-badge.svg\" alt=\"Open In Colab\"/></a>"
      ]
    },
    {
      "cell_type": "markdown",
      "metadata": {
        "id": "VSQ_IUKoFehQ"
      },
      "source": [
        "## Exercício\n",
        "\n",
        "1. Resolução numérica de equações diferenciais. Imagine que tem um/a maratonista treinando, que num trecho de $5 km$ tem velocidade quase constante de $12 km/h$. Produza uma lista distância percorrida em intervalos de 1 minuto."
      ]
    },
    {
      "cell_type": "code",
      "metadata": {
        "id": "xDG_Pm65Fdty",
        "outputId": "33ad140a-cc3e-4c1a-f019-ce6ef9799feb",
        "colab": {
          "base_uri": "https://localhost:8080/",
          "height": 51
        }
      },
      "source": [
        "t = []\n",
        "dpercorrida = []\n",
        "so = 0\n",
        "sf = 5 #km\n",
        "vconst = 12 #km/h\n",
        "to = 0\n",
        "acrescimodet = 1 #min\n",
        "\n",
        "vconstkmpormin = vconst/60 #km/h para km/min\n",
        "#print(vconstkmpormin)\n",
        "\n",
        "while so != sf:\n",
        "  t.append(to)\n",
        "  #milista.append(10)\n",
        "  so = vconstkmpormin*to\n",
        "  to = to + acrescimodet\n",
        "  dpercorrida.append(round(so,2))\n",
        "\n",
        "print(t)\n",
        "print(dpercorrida)"
      ],
      "execution_count": 4,
      "outputs": [
        {
          "output_type": "stream",
          "text": [
            "[0, 1, 2, 3, 4, 5, 6, 7, 8, 9, 10, 11, 12, 13, 14, 15, 16, 17, 18, 19, 20, 21, 22, 23, 24, 25]\n",
            "[0.0, 0.2, 0.4, 0.6, 0.8, 1.0, 1.2, 1.4, 1.6, 1.8, 2.0, 2.2, 2.4, 2.6, 2.8, 3.0, 3.2, 3.4, 3.6, 3.8, 4.0, 4.2, 4.4, 4.6, 4.8, 5.0]\n"
          ],
          "name": "stdout"
        }
      ]
    },
    {
      "cell_type": "markdown",
      "metadata": {
        "id": "j_ggL8u3Fkts"
      },
      "source": [
        "2. O/A mesmo/a atleta no seguinte trecho acelera  por $200$ metros até chegar em $15 km/h$  por $2 km$. Queremos obter uma tabela ou gráfico da distância percorrida en função do tempo e o tempo total para chegar em $7 km$, faça isto utilizando listas."
      ]
    },
    {
      "cell_type": "code",
      "metadata": {
        "id": "Tk5SWTJBFot_",
        "outputId": "6f922dbc-b2c2-4065-b0fd-ea2778e22ada",
        "colab": {
          "base_uri": "https://localhost:8080/",
          "height": 153
        }
      },
      "source": [
        "t2 = []\n",
        "dpercorrida2 = []\n",
        "so2 = 0\n",
        "sf2 = 0.2 #km\n",
        "vo = 12 #km/h\n",
        "vf = 15 #km/h\n",
        "to2 = 0\n",
        "acrescimodet2 = 1 #min\n",
        "vokmpormin = vo/60 #km/h para km/min\n",
        "vfkmpormin = vf/60 #km/h para km/min\n",
        "#def torricelli():\n",
        "#vf**2 = vo + 2*a*sf2\n",
        "vdiferequad = (vf**2 - vo**2)\n",
        "print(vdiferequad)\n",
        "Variação2 = (2*sf2)\n",
        "print(Variação2)\n",
        "ac = ((vf**2 - vo**2)/(2*sf2)) #km/(h*h)\n",
        "acm = ((vfkmpormin**2 - vokmpormin**2)/(2*sf2)) #km/(min*min)\n",
        "print(ac, 'km por h*h')\n",
        "print(acm, 'km por minquadrado')\n",
        "acs = ac*3600\n",
        "print(acs) \n",
        "\n",
        "tempo200m = (vf-vo)/ac\n",
        "print(tempo200m, 'h')\n",
        "print(round(tempo200m*60,2), 'min -> tempo de 200 m')\n",
        "print(round(tempo200m*3600,2), 's -> tempo de 200 m')\n",
        "\n",
        "t200 = [25.89]\n",
        "d200m = [5.2]\n"
      ],
      "execution_count": 5,
      "outputs": [
        {
          "output_type": "stream",
          "text": [
            "81\n",
            "0.4\n",
            "202.5 km por h*h\n",
            "0.05624999999999998 km por minquadrado\n",
            "729000.0\n",
            "0.014814814814814815 h\n",
            "0.89 min -> tempo de 200 m\n",
            "53.33 s -> tempo de 200 m\n"
          ],
          "name": "stdout"
        }
      ]
    },
    {
      "cell_type": "code",
      "metadata": {
        "id": "a2501LV7XYbo",
        "outputId": "5ee1cf06-f540-4688-83cc-ba08246df597",
        "colab": {
          "base_uri": "https://localhost:8080/",
          "height": 364
        }
      },
      "source": [
        "t2 = []\n",
        "dpercorrida2 = []\n",
        "so2 = 5.2\n",
        "sf = 7 #km\n",
        "vconst = 15 #km/h\n",
        "to2 = 26 # min\n",
        "acrescimodet = 1 #min\n",
        "\n",
        "vconstkmpormin = vconst/60 #km/h para km/min\n",
        "#print(vconstkmpormin)\n",
        "\n",
        "while so2 != sf:\n",
        "  t2.append(to2)\n",
        "  so2 = vconstkmpormin*to2\n",
        "  to2 = round(to2 + acrescimodet)\n",
        "  dpercorrida2.append(round(so2,2))\n",
        "\n",
        "print(t2)\n",
        "print(dpercorrida2)\n",
        "mylist = t + t200 +t2\n",
        "mylistd = dpercorrida + d200m + dpercorrida2\n",
        "print(mylist)\n",
        "print(mylistd)\n",
        "\n",
        "import matplotlib.pyplot as plt\n",
        "\n",
        "t=mylist\n",
        "x=mylistd\n",
        "\n",
        "plt.plot(t,x)\n",
        "plt.xlabel(\"tempo min\")\n",
        "plt.ylabel(\"distância m\")"
      ],
      "execution_count": 6,
      "outputs": [
        {
          "output_type": "stream",
          "text": [
            "[26, 27, 28]\n",
            "[6.5, 6.75, 7.0]\n",
            "[0, 1, 2, 3, 4, 5, 6, 7, 8, 9, 10, 11, 12, 13, 14, 15, 16, 17, 18, 19, 20, 21, 22, 23, 24, 25, 25.89, 26, 27, 28]\n",
            "[0.0, 0.2, 0.4, 0.6, 0.8, 1.0, 1.2, 1.4, 1.6, 1.8, 2.0, 2.2, 2.4, 2.6, 2.8, 3.0, 3.2, 3.4, 3.6, 3.8, 4.0, 4.2, 4.4, 4.6, 4.8, 5.0, 5.2, 6.5, 6.75, 7.0]\n"
          ],
          "name": "stdout"
        },
        {
          "output_type": "execute_result",
          "data": {
            "text/plain": [
              "Text(0, 0.5, 'distância m')"
            ]
          },
          "metadata": {
            "tags": []
          },
          "execution_count": 6
        },
        {
          "output_type": "display_data",
          "data": {
            "image/png": "[encoded data removed]",
            "text/plain": [
              "<Figure size 432x288 with 1 Axes>"
            ]
          },
          "metadata": {
            "tags": [],
            "needs_background": "light"
          }
        }
      ]
    },
    {
      "cell_type": "markdown",
      "metadata": {
        "id": "kj45_41ZFr6u"
      },
      "source": [
        "3. Considere um péndulo simples num plano. O comprimento da linha é $1$ metro, a massa é $0,2 kg$ e a aceleração de gravidade $9,8 m/s^2$. Faça um gráfico ou crie uma tabela para a posição em coordenadas cartesianas em função do tempo, utilizando listas."
      ]
    },
    {
      "cell_type": "code",
      "metadata": {
        "id": "NzaYCSYoFsyg",
        "outputId": "a8cb6410-daf0-4a7d-cfe3-02b48634a724",
        "colab": {
          "base_uri": "https://localhost:8080/",
          "height": 296
        }
      },
      "source": [
        "import matplotlib.pyplot as plt\n",
        "import math\n",
        "l = 1  # m\n",
        "m = 0.2 # kg\n",
        "g = 9.8 # m/s²\n",
        "angle = int(input())\n",
        "\n",
        "tl = []\n",
        "xl = []\n",
        "zl = []  \n",
        "\n",
        "theta = math.radians(angle)\n",
        "vx = 0                                            \n",
        "vz = 0                                            \n",
        "w = 0  #rad/s\n",
        "to = 0  \n",
        "tf = 30 \n",
        "acrescimodet = 0.1\n",
        "x = l*math.sin(theta)                                  \n",
        "z = -l*math.cos(theta)                                                                      \n",
        "\n",
        "while to <= tf:\n",
        "\tx = l*math.sin(theta)\n",
        "\tz = -l*math.cos(theta)\n",
        "\tac = -(g/l)*math.sin(theta)\n",
        "\tw = w + ac*acrescimodet\n",
        "\ttheta = theta + w*acrescimodet\n",
        "\tto = to + acrescimodet\n",
        "\ttl.append(t)\n",
        "\txl.append(x)\n",
        "\tzl.append(z)\n",
        " \n",
        "def grafico(x,f,x_label,f_label):\n",
        "\tplt.plot(x,f)\n",
        "\tplt.xlabel(x_label)\n",
        "\tplt.ylabel(f_label)\n",
        "\n",
        "grafico(xl,zl,'Posição x em m','Posição z em m')              "
      ],
      "execution_count": 18,
      "outputs": [
        {
          "output_type": "stream",
          "text": [
            "45\n"
          ],
          "name": "stdout"
        },
        {
          "output_type": "display_data",
          "data": {
            "image/png": "[encoded data removed]",
            "text/plain": [
              "<Figure size 432x288 with 1 Axes>"
            ]
          },
          "metadata": {
            "tags": [],
            "needs_background": "light"
          }
        }
      ]
    },
    {
      "cell_type": "markdown",
      "metadata": {
        "id": "04cPGYe0FtGk"
      },
      "source": [
        "4. (opcional) Pesquise sobre o pacote `numpy` e os objetos desse pacote chamados `array`, tente utilizálos ao invés de listas para resolver os exercícios.\n",
        "\n",
        "Dica: podem usar o pacote `matplotlib.pyplot` para fazer um gráfico:"
      ]
    },
    {
      "cell_type": "code",
      "metadata": {
        "id": "NaVsZ89OFwBi",
        "outputId": "998a2207-2716-4b80-fb75-8dc1a7f9cccf",
        "colab": {
          "base_uri": "https://localhost:8080/",
          "height": 296
        }
      },
      "source": [
        "import matplotlib.pyplot as plt\n",
        "\n",
        "t=[0,1,2,3,4,5,6,7,8,9,10]\n",
        "x=[0,4.2,8,10,23,30,35,41,44,50,55]\n",
        "\n",
        "plt.plot(t,x)\n",
        "plt.xlabel(\"tempo s\")\n",
        "plt.ylabel(\"distância m\")"
      ],
      "execution_count": null,
      "outputs": [
        {
          "output_type": "execute_result",
          "data": {
            "text/plain": [
              "Text(0, 0.5, 'distância m')"
            ]
          },
          "metadata": {
            "tags": []
          },
          "execution_count": 10
        },
        {
          "output_type": "display_data",
          "data": {
            "image/png": "[encoded data removed]",
            "text/plain": [
              "<Figure size 432x288 with 1 Axes>"
            ]
          },
          "metadata": {
            "tags": [],
            "needs_background": "light"
          }
        }
      ]
    },
    {
      "cell_type": "code",
      "metadata": {
        "id": "jPuUXv76KVdp",
        "outputId": "5944a6be-c0f4-43f7-abb9-b51bf53f9262",
        "colab": {
          "base_uri": "https://localhost:8080/",
          "height": 330
        }
      },
      "source": [
        "import matplotlib.pyplot as plt\n",
        "import numpy as np\n",
        "\n",
        "t=[0,1,2,3,4,5,6,7,8,9,10]\n",
        "x=[0,4.2,8,10,23,30,35,41,44,50,55]\n",
        "\n",
        "valort = np.array(t)\n",
        "valorx = np.array(x)\n",
        "print(valort)\n",
        "print(valorx)\n",
        "plt.plot(t,x)\n",
        "plt.xlabel(\"tempo s\")\n",
        "plt.ylabel(\"distância m\")"
      ],
      "execution_count": 19,
      "outputs": [
        {
          "output_type": "stream",
          "text": [
            "[ 0  1  2  3  4  5  6  7  8  9 10]\n",
            "[ 0.   4.2  8.  10.  23.  30.  35.  41.  44.  50.  55. ]\n"
          ],
          "name": "stdout"
        },
        {
          "output_type": "execute_result",
          "data": {
            "text/plain": [
              "Text(0, 0.5, 'distância m')"
            ]
          },
          "metadata": {
            "tags": []
          },
          "execution_count": 19
        },
        {
          "output_type": "display_data",
          "data": {
            "image/png": "[encoded data removed]",
            "text/plain": [
              "<Figure size 432x288 with 1 Axes>"
            ]
          },
          "metadata": {
            "tags": [],
            "needs_background": "light"
          }
        }
      ]
    },
    {
      "cell_type": "code",
      "metadata": {
        "id": "E6g8S-bJc_n-",
        "outputId": "aae55a8a-c547-4492-c38e-605e6ad729cd",
        "colab": {
          "base_uri": "https://localhost:8080/",
          "height": 51
        }
      },
      "source": [
        "#no good\n",
        "import numpy as np\n",
        "t = []\n",
        "dpercorrida = []\n",
        "so = 0\n",
        "sf = 5 #km\n",
        "vconst = 12 #km/h\n",
        "to = 0\n",
        "acrescimodet = 1 #min\n",
        "\n",
        "vconstkmpormin = vconst/60 #km/h para km/min\n",
        "#print(vconstkmpormin)\n",
        "\n",
        "while so != sf:\n",
        "  np.array(to)\n",
        "  t = np.array(to)\n",
        "  #milista.append(10)\n",
        "  so = vconstkmpormin*to\n",
        "  to = to + acrescimodet\n",
        "  np.array(round(so,2))\n",
        "  dpercorrida = np.array(round(so,2))\n",
        "\n",
        "print(t)\n",
        "print(dpercorrida)"
      ],
      "execution_count": 24,
      "outputs": [
        {
          "output_type": "stream",
          "text": [
            "25\n",
            "5.0\n"
          ],
          "name": "stdout"
        }
      ]
    }
  ]
}