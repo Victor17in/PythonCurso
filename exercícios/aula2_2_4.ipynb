{
  "nbformat": 4,
  "nbformat_minor": 0,
  "metadata": {
    "colab": {
      "name": "aula2_2_4.ipynb",
      "provenance": [],
      "authorship_tag": "ABX9TyPS1qaeaPzigOTVbBrA76J+",
      "include_colab_link": true
    },
    "kernelspec": {
      "name": "python3",
      "display_name": "Python 3"
    }
  },
  "cells": [
    {
      "cell_type": "markdown",
      "metadata": {
        "id": "view-in-github",
        "colab_type": "text"
      },
      "source": [
        "<a href=\"https://colab.research.google.com/github/Victor17in/PythonCurso/blob/master/exerc%C3%ADcios/aula2_2_4.ipynb\" target=\"_parent\"><img src=\"https://colab.research.google.com/assets/colab-badge.svg\" alt=\"Open In Colab\"/></a>"
      ]
    },
    {
      "cell_type": "code",
      "metadata": {
        "id": "6LoX360dNywb",
        "colab_type": "code",
        "colab": {
          "base_uri": "https://localhost:8080/",
          "height": 122
        },
        "outputId": "4cb9ca1e-aa4d-47fd-a72a-2c485c9ce11d"
      },
      "source": [
        "print ('Um laser vermelho (com comprimento de onda  λ=632.8  nm) incide em uma fenda dupla produzindo um padrão de interferência com franjas claras e escuras, em um anteparo situado a uma distância D = 1.98 m da fenda.') \n",
        "print('Calcule a distância  Δy  entre dois máximos consecutivos de interferência. Considere o espaçamento entre as fendas,  d , como sendo igual a 0.250 mm.')\n",
        "print ('Dica: a distância entre dois máximos de interferência consecutivos pode ser aproximada por  Δy=λD/d .')\n",
        "l = 632.8*10**(-9)\n",
        "D = 1.98\n",
        "d = 0.250*10**(-3)\n",
        "y = l*D/d\n",
        "print ('A resposta é')\n",
        "print (y, 'm')"
      ],
      "execution_count": 9,
      "outputs": [
        {
          "output_type": "stream",
          "text": [
            "Um laser vermelho (com comprimento de onda  λ=632.8  nm) incide em uma fenda dupla produzindo um padrão de interferência com franjas claras e escuras, em um anteparo situado a uma distância D = 1.98 m da fenda.\n",
            "Calcule a distância  Δy  entre dois máximos consecutivos de interferência. Considere o espaçamento entre as fendas,  d , como sendo igual a 0.250 mm.\n",
            "Dica: a distância entre dois máximos de interferência consecutivos pode ser aproximada por  Δy=λD/d .\n",
            "A resposta é\n",
            "0.005011776 m\n"
          ],
          "name": "stdout"
        }
      ]
    }
  ]
}