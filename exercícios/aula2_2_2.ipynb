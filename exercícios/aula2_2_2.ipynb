{
  "nbformat": 4,
  "nbformat_minor": 0,
  "metadata": {
    "colab": {
      "name": "aula2_2_2.ipynb",
      "provenance": [],
      "authorship_tag": "ABX9TyPA5t+X3mrN74Ktcp++dD2+",
      "include_colab_link": true
    },
    "kernelspec": {
      "name": "python3",
      "display_name": "Python 3"
    }
  },
  "cells": [
    {
      "cell_type": "markdown",
      "metadata": {
        "id": "view-in-github",
        "colab_type": "text"
      },
      "source": [
        "<a href=\"https://colab.research.google.com/github/Victor17in/PythonCurso/blob/master/exerc%C3%ADcios/aula2_2_2.ipynb\" target=\"_parent\"><img src=\"https://colab.research.google.com/assets/colab-badge.svg\" alt=\"Open In Colab\"/></a>"
      ]
    },
    {
      "cell_type": "code",
      "metadata": {
        "id": "0DzjlUogNBb0",
        "colab_type": "code",
        "colab": {
          "base_uri": "https://localhost:8080/",
          "height": 85
        },
        "outputId": "f5aa95e0-00d9-4af4-be7a-2fcaf06ca724"
      },
      "source": [
        "print ('O volume de uma esfera de raio r é  (4/3)πr³? Qual é o volume de uma esfera de raio 5?')\n",
        "pi = 3.141592\n",
        "r = 5\n",
        "V = (4*pi*r**3)/3\n",
        "print (V)\n",
        "print ('Aproximadamente:')\n",
        "print (523.60)\n"
      ],
      "execution_count": 4,
      "outputs": [
        {
          "output_type": "stream",
          "text": [
            "O volume de uma esfera de raio r é  (4/3)πr³? Qual é o volume de uma esfera de raio 5?\n",
            "523.5986666666666\n",
            "Aproximadamente:\n",
            "523.6\n"
          ],
          "name": "stdout"
        }
      ]
    }
  ]
}