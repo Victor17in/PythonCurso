{
  "nbformat": 4,
  "nbformat_minor": 0,
  "metadata": {
    "colab": {
      "name": "aula2_2_2.ipynb",
      "provenance": [],
      "authorship_tag": "ABX9TyP8yrCb5yy6W1LnC3PL7yLO",
      "include_colab_link": true
    },
    "kernelspec": {
      "name": "python3",
      "display_name": "Python 3"
    }
  },
  "cells": [
    {
      "cell_type": "markdown",
      "metadata": {
        "id": "view-in-github",
        "colab_type": "text"
      },
      "source": [
        "<a href=\"https://colab.research.google.com/github/Victor17in/PythonCurso/blob/master/exerc%C3%ADcios/aula2_2_2.ipynb\" target=\"_parent\"><img src=\"https://colab.research.google.com/assets/colab-badge.svg\" alt=\"Open In Colab\"/></a>"
      ]
    },
    {
      "cell_type": "code",
      "metadata": {
        "id": "u2ds5lj6EMOw",
        "colab_type": "code",
        "colab": {
          "base_uri": "https://localhost:8080/",
          "height": 51
        },
        "outputId": "9e566686-f764-46d1-87b6-9972000867b3"
      },
      "source": [
        "print ('O volume de uma esfera de raio r é  (4/3)πr³? Qual é o volume de uma esfera de raio 5?')\n",
        "pi = 3.141592\n",
        "r = 5\n",
        "V = (4*pi*r**3)/3\n",
        "print (V)"
      ],
      "execution_count": null,
      "outputs": [
        {
          "output_type": "stream",
          "text": [
            "O volume de uma esfera de raio r é  (4/3)πr³? Qual é o volume de uma esfera de raio 5?\n",
            "523.5986666666666\n"
          ],
          "name": "stdout"
        }
      ]
    }
  ]
}