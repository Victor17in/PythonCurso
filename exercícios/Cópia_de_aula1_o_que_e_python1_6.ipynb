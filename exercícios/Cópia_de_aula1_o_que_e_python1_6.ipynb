{
  "nbformat": 4,
  "nbformat_minor": 0,
  "metadata": {
    "kernelspec": {
      "display_name": "Python 3",
      "language": "python",
      "name": "python3"
    },
    "language_info": {
      "codemirror_mode": {
        "name": "ipython",
        "version": 3
      },
      "file_extension": ".py",
      "mimetype": "text/x-python",
      "name": "python",
      "nbconvert_exporter": "python",
      "pygments_lexer": "ipython3",
      "version": "3.7.0"
    },
    "colab": {
      "name": "Cópia de Cópia de Cópia de Cópia de aula1_o_que_e_python.ipynb",
      "provenance": [],
      "include_colab_link": true
    }
  },
  "cells": [
    {
      "cell_type": "markdown",
      "metadata": {
        "id": "view-in-github",
        "colab_type": "text"
      },
      "source": [
        "<a href=\"https://colab.research.google.com/github/Victor17in/PythonCurso/blob/master/exerc%C3%ADcios/C%C3%B3pia_de_aula1_o_que_e_python1_6.ipynb\" target=\"_parent\"><img src=\"https://colab.research.google.com/assets/colab-badge.svg\" alt=\"Open In Colab\"/></a>"
      ]
    },
    {
      "cell_type": "code",
      "metadata": {
        "id": "HGgrwvbhO4zS",
        "colab_type": "code",
        "colab": {
          "base_uri": "https://localhost:8080/",
          "height": 68
        },
        "outputId": "1da53f93-bec5-4ebb-cbc1-2e079aeb9e9d"
      },
      "source": [
        "print(\"Calcule a velocidade final de um objeto em queda livre a partir de 3 metros de altura (sem resistencia do ar). Calcule o tempo que esse objeto demora para cair.\")\n",
        "\n",
        "h= 3\n",
        "\n",
        "g= 9.81\n",
        "\n",
        "v= (2*g*h)**(1/2)\n",
        "\n",
        "print(\"Usando as relações entre energia cinética e energia potencial é possível facilmente achar a velocidade v=\", v,\"m/s\")\n",
        "\n",
        "t= (2*h/g)**(1/2)\n",
        "\n",
        "print(\"Usando a equação do movimento unifomemente variado pode-se achar o tempo t=\", t,\"s\")"
      ],
      "execution_count": 1,
      "outputs": [
        {
          "output_type": "stream",
          "text": [
            "Calcule a velocidade final de um objeto em queda livre a partir de 3 metros de altura (sem resistencia do ar). Calcule o tempo que esse objeto demora para cair.\n",
            "Usando as relações entre energia cinética e energia potencial é possível facilmente achar a velocidade v= 7.672027111526653 m/s\n",
            "Usando a equação do movimento unifomemente variado pode-se achar o tempo t= 0.7820618870057751 s\n"
          ],
          "name": "stdout"
        }
      ]
    }
  ]
}