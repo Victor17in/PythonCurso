{
  "nbformat": 4,
  "nbformat_minor": 0,
  "metadata": {
    "colab": {
      "name": "Cópia de Python_AVA_aula1",
      "provenance": [],
      "collapsed_sections": [],
      "include_colab_link": true
    },
    "kernelspec": {
      "name": "python3",
      "display_name": "Python 3"
    }
  },
  "cells": [
    {
      "cell_type": "markdown",
      "metadata": {
        "id": "view-in-github",
        "colab_type": "text"
      },
      "source": [
        "<a href=\"https://colab.research.google.com/github/Victor17in/PythonCurso/blob/master/aulas/C%C3%B3pia_de_Python_AVA_aula1.ipynb\" target=\"_parent\"><img src=\"https://colab.research.google.com/assets/colab-badge.svg\" alt=\"Open In Colab\"/></a>"
      ]
    },
    {
      "cell_type": "markdown",
      "metadata": {
        "id": "Bj_RsH7Qez-G",
        "colab_type": "text"
      },
      "source": [
        "![](https://www.python.org/static/img/python-logo@2x.png)\n",
        "\n",
        "# Vamos aprender Python?!\n",
        "\n",
        "Esse tópico foi pensado principalmente para quem nunca programou ou para quem teve pouco contato com outras linguagens de programação. Mas claro que é aberto para todos e todas que queiram aprender.\n",
        "\n",
        "A ferramenta que estamos usando é o [Google Colaboratory](https://colab.research.google.com/).\n",
        "\n",
        "O [Google Colaboratory](https://colab.research.google.com/) é um ambiente no seu navegador que usa a nuvem do Google. É construído em cima do [Jupyter Notebook](https://jupyter.org/) e usa Python como linguagem de programação.\n",
        "\n",
        "Cada arquivo do Google Colaboratory (ou somente Colab) é chamado de um \"notebook\", ou bloco de notas.\n",
        "\n",
        "Para ter acesso a esse notebook e executar os exemplos que se encontram aqui, você deverá ter (e se não tiver, criar) uma conta Google e copiar esse notebook para o seu Google Drive.\n",
        "\n",
        "Toda a documentação disponibilizada nesse tópico de **Python para quem nunca programou** é baseada [em aulas](http://www.letslearnpython.com/learn/) oferecidas na conferência anual sobre Python, [PyCon North America conference](https://us.pycon.org/2020/) disponibilizadas no site do [Python](http://www.python.org).\n",
        "\n",
        "## Organização do Curso:\n",
        "* **Professores**: Clemencia Mora, Dilson de Jesus Damião & Helena Malbouisson (helena@uerj.br; dilson@uerj.br)\n",
        "* **Horários de atendimento**: Terças-feiras às **16h**, via chat ou vídeo-conferência, de acordo com o interesse dos alunos e alunas."
      ]
    },
    {
      "cell_type": "markdown",
      "metadata": {
        "id": "ifHC-21MYmSu",
        "colab_type": "text"
      },
      "source": [
        "## Opções de acesso a Python\n",
        "\n",
        "Como já mencionado, vamos trabalhar no Google Colab. Qualquer pessoa com um celular/computador e internet, pode rodar facilmente todos os exemplos que faremos aqui. Escolhemos o Google Colab por considerarmos o ambiente mais amigável para quem está somente com celular (apesar do ideal ser um computador) e pela facilidade de não ter que instalar Python no seu sistema operacional. O ponto negativo é que é necessário acesso à internet.\n",
        "\n",
        "Quem preferir instalar Python no computador/laptop, recomendamos a instalação do gerenciador de pacotes [Anaconda](https://www.anaconda.com/), ou o [PyCharm](https://www.jetbrains.com/pt-br/pycharm/). Mas existem *muitos* ambientes IDE (do inglês, *Integrated Development Environment*, Ambiente Integrado de Desenvolvimento) que reunem ferramentas para o desenvolvimento de programas e aprendizado de Python. Caso não se adapte aos listados acima, você pode procurar outras opções e escolher o seu preferido. Um bom ponto de partida é o site do [Python](http://www.python.org)."
      ]
    },
    {
      "cell_type": "markdown",
      "metadata": {
        "id": "itY_Q-8VgcQi",
        "colab_type": "text"
      },
      "source": [
        "## O interpretador de Python\n",
        "\n",
        "De forma pouco formal, podemos dizer que o Python (assim como todas as outras linguagens de programação) é uma maneira de enviar comandos ao computador (que entende a linguagem de máquina). Nós \"falamos\" (enviamos comandos) através de uma linguagem que sabemos codificar (Python) e o interpretador (de Python) \"traduz\" os comandos para a linguagem do computador (binária, em 0 e 1) e retorna a resposta em uma linguagem que entendemos. Isso torna o nosso programa **portátil**. O mesmo código fonte escrito em Python, funciona em qualquer computador com Python instalado. \n",
        "\n",
        "No Google Colab, essa ferramenta que estamos usando aqui, a forma com que acessamos o interpretador é abrindo uma **célula** de ***Código***, indicada como '+ Code' no canto alto da esquerda desse *notebook*. Para rodar o código de Python, clicamos na seta no canto alto à esquerda da célula de código.\n",
        "\n",
        "Mas a forma mais comum de acessar o interpretador é através de uma \"shell\", que é uma janela de um computador (com Python instalado), como mostrado abaixo.\n",
        "\n",
        "![](http://www.letslearnpython.com/static/lessons/images/Idle.png)\n",
        "\n",
        "No alto da figura à esquerda, podemos ver a versão do Python, que é 3.5.1.\n",
        "\n",
        "Os três '>>>' indicam por onde entramos com os comandos em Python e é chamado de 'prompt'.\n",
        "\n",
        "Lembre-se que quando digitamos algo no 'prompt' (ou na célula 'Code' do Google Colab) e apertamos o botão 'Enter' (ou a seta no canto alto à esquerda do Google Colab), o que está sendo feito é:\n",
        "\n",
        "* traduzir o que digitamos;\n",
        "* falar com o computador;\n",
        "* obter uma resposta do computador e enviar de volta para a gente em uma linguagem que compreendemos.\n",
        "\n"
      ]
    },
    {
      "cell_type": "markdown",
      "metadata": {
        "id": "DYgIK3Ik4f1d",
        "colab_type": "text"
      },
      "source": [
        "## O que é Python?\n",
        "\n",
        "Python é uma **linguagem de programação** de alto nível, orientada a objetos, moderna e de propósito geral.\n",
        "\n",
        "**Características gerais de Python:**\n",
        "\n",
        "* **linguagem simples e limpa**: código intuitivo e fácil de ler, sintaxe minimalista de fácil aprendizado, capacidade de manutenção escalável bem com o tamanho dos projetos;\n",
        "\n",
        "* **linguagem expressiva**: Menos linhas de código, menos bugs, mais fácil de manter.\n",
        "\n",
        "**Detalhes técnicos:**\n",
        "\n",
        "* **Digitado dinamicamente**: Não há necessidade de definir o tipo de variáveis, argumentos de função ou tipos de retorno;\n",
        "\n",
        "* **Gerenciamento automático de memória**: Não é necessário alocar e desalocar explicitamente a memória para variáveis e matrizes de dados. Não há vazamentos de memória (memory leak bugs);\n",
        "\n",
        "* **interpretado**: Não há necessidade de compilar o código. O interpretador Python lê e executa o código python diretamente.\n",
        "\n",
        "**Vantagens:**\n",
        "\n",
        "* A principal vantagem é a facilidade de programação, minimizando o tempo necessário para desenvolver, debugar (procurar por erros no programa) e manter o código;\n",
        "* Linguagem bem projetada que incentiva muitas boas práticas de programação:\n",
        "\n",
        "   * Programação modular e orientada a objetos, bom sistema para empacotamento e reutilização de código. Isso geralmente resulta em código mais transparente, sustentável e livre de bugs;\n",
        "\n",
        "   * Documentação totalmente integrada com o código;\n",
        "\n",
        "   * Uma grande biblioteca padrão e uma grande coleção de pacotes complementares;\n",
        "\n",
        "   * **Muita documentação disponível!**\n",
        "\n",
        "**Desvantagens:**\n",
        "\n",
        "* Como o Python é uma linguagem de programação interpretada e dinamicamente digitada, a execução do código python pode ser lenta em comparação com as linguagens de programação compiladas estaticamente, como C e Fortran. Mas na maioria dos casos, Python tem uma excelente performance.\n",
        "\n"
      ]
    },
    {
      "cell_type": "markdown",
      "metadata": {
        "id": "0JIgYOwHNzIW",
        "colab_type": "text"
      },
      "source": [
        "## O que é programação?\n",
        "\n",
        "Todo programa começa com um problema que queremos resolver. \n",
        "\n",
        "Podemos dizer que programar é uma forma de tornar tarefas complexas em uma sucessão de sub-tarefas cada vez mais simples, de forma que possamos resolver o problema com uma série de instruções básicas, que chamamos de **algoritmo**.\n",
        "\n",
        "Ou seja, o **conjunto de algoritmos** é a resolução do problema inicial e compõe o **programa**.\n",
        "\n",
        "Uma vez o programa estabelecido (sucessão de algoritmos a serem executados pelo computador), o interpretador (como por exemplo, Python) fará a tradução para a **linguagem do computador**, que executará os comandos e retornará o resultado encontrado."
      ]
    },
    {
      "cell_type": "markdown",
      "metadata": {
        "id": "c4c0-Kb0SuN1",
        "colab_type": "text"
      },
      "source": [
        "## Noções básicas de matemática com Python\n",
        "\n",
        "Vamos começar com exemplos extremamente simples de operações matemáticas e usar Python como uma calculadora."
      ]
    },
    {
      "cell_type": "code",
      "metadata": {
        "id": "nx3y6iG5VRZA",
        "colab_type": "code",
        "colab": {
          "base_uri": "https://localhost:8080/",
          "height": 34
        },
        "outputId": "7e253012-d848-4a58-eb8e-c03fa567f7f8"
      },
      "source": [
        "22 + 4"
      ],
      "execution_count": null,
      "outputs": [
        {
          "output_type": "execute_result",
          "data": {
            "text/plain": [
              "26"
            ]
          },
          "metadata": {
            "tags": []
          },
          "execution_count": 2
        }
      ]
    },
    {
      "cell_type": "code",
      "metadata": {
        "id": "1fPFCPNwVch3",
        "colab_type": "code",
        "colab": {
          "base_uri": "https://localhost:8080/",
          "height": 34
        },
        "outputId": "f7cae931-33a9-44f2-d160-b796f25567e8"
      },
      "source": [
        "12 - 4"
      ],
      "execution_count": null,
      "outputs": [
        {
          "output_type": "execute_result",
          "data": {
            "text/plain": [
              "8"
            ]
          },
          "metadata": {
            "tags": []
          },
          "execution_count": 3
        }
      ]
    },
    {
      "cell_type": "code",
      "metadata": {
        "id": "8JjYU72hVe8V",
        "colab_type": "code",
        "colab": {
          "base_uri": "https://localhost:8080/",
          "height": 34
        },
        "outputId": "3c41699e-f7db-4744-a32c-04cc15f28d11"
      },
      "source": [
        "14 - 9 + 8"
      ],
      "execution_count": null,
      "outputs": [
        {
          "output_type": "execute_result",
          "data": {
            "text/plain": [
              "13"
            ]
          },
          "metadata": {
            "tags": []
          },
          "execution_count": 4
        }
      ]
    },
    {
      "cell_type": "markdown",
      "metadata": {
        "id": "LNeJQWOGViAh",
        "colab_type": "text"
      },
      "source": [
        "Em programação, chamamos os símbolos matemáticos de **operadores**."
      ]
    },
    {
      "cell_type": "code",
      "metadata": {
        "id": "WQeBa4ZEV7eN",
        "colab_type": "code",
        "colab": {
          "base_uri": "https://localhost:8080/",
          "height": 34
        },
        "outputId": "3c7afd35-2f97-4afd-ea89-2a555bf66aa4"
      },
      "source": [
        "6*5"
      ],
      "execution_count": null,
      "outputs": [
        {
          "output_type": "execute_result",
          "data": {
            "text/plain": [
              "30"
            ]
          },
          "metadata": {
            "tags": []
          },
          "execution_count": 5
        }
      ]
    },
    {
      "cell_type": "code",
      "metadata": {
        "id": "Pqq8h-oIV9yy",
        "colab_type": "code",
        "colab": {
          "base_uri": "https://localhost:8080/",
          "height": 34
        },
        "outputId": "8e7599db-bce4-430d-ec63-cbfec3eee444"
      },
      "source": [
        "28/4"
      ],
      "execution_count": null,
      "outputs": [
        {
          "output_type": "execute_result",
          "data": {
            "text/plain": [
              "7.0"
            ]
          },
          "metadata": {
            "tags": []
          },
          "execution_count": 6
        }
      ]
    },
    {
      "cell_type": "code",
      "metadata": {
        "id": "kPy4zMprV_oJ",
        "colab_type": "code",
        "colab": {
          "base_uri": "https://localhost:8080/",
          "height": 34
        },
        "outputId": "11625f37-0401-4a56-db75-492089a663c6"
      },
      "source": [
        "28 * 5 / 6"
      ],
      "execution_count": null,
      "outputs": [
        {
          "output_type": "execute_result",
          "data": {
            "text/plain": [
              "23.333333333333332"
            ]
          },
          "metadata": {
            "tags": []
          },
          "execution_count": 7
        }
      ]
    },
    {
      "cell_type": "markdown",
      "metadata": {
        "id": "eO-hX4FNWIN-",
        "colab_type": "text"
      },
      "source": [
        "Operadores |  símbolo\n",
        "--- | ---\n",
        "adição | +\n",
        "subtração | -\n",
        "multiplicação | *\n",
        "divisão | /"
      ]
    },
    {
      "cell_type": "markdown",
      "metadata": {
        "id": "scqzellSYf9M",
        "colab_type": "text"
      },
      "source": [
        "## Ponha em prática!\n",
        "Agora você pode executar algumas operações matemáticas com os operadores que acabamos de aprender. Use Python como sua calculadora! \n",
        "\n",
        "Aqui no Google Colab, você só precisa abrir uma nova célula ( clicando no canto alto à esquerda em '+ Code') e executando o comando ao clicar na seta que fica no canto alto da célula de código, à esquerda. "
      ]
    },
    {
      "cell_type": "code",
      "metadata": {
        "id": "LWBx6S8eVXn4",
        "colab_type": "code",
        "colab": {
          "base_uri": "https://localhost:8080/",
          "height": 34
        },
        "outputId": "939d049e-0e58-4c93-99f4-28f9165712dd"
      },
      "source": [
        "5*3"
      ],
      "execution_count": null,
      "outputs": [
        {
          "output_type": "execute_result",
          "data": {
            "text/plain": [
              "15"
            ]
          },
          "metadata": {
            "tags": []
          },
          "execution_count": 4
        }
      ]
    },
    {
      "cell_type": "markdown",
      "metadata": {
        "id": "2S3QFG5gZXHK",
        "colab_type": "text"
      },
      "source": [
        "## Floats e inteiros\n",
        "\n",
        "Em Python (e em muitas outras linguagens de programação) um número decimal é chamado de **float**.\n",
        "\n",
        "Quando fazemos alguma operação que tem como resultado um número decimal, Python nos retorna um valor do **tipo float**.\n",
        "\n",
        "Assim como quando temos um número inteiro como resultado, o valor é do **tipo inteiro**.\n",
        "\n",
        "Abaixo, podemos ver exemplos de floats e inteiros."
      ]
    },
    {
      "cell_type": "code",
      "metadata": {
        "id": "qtVjGqHRn-4M",
        "colab_type": "code",
        "colab": {
          "base_uri": "https://localhost:8080/",
          "height": 34
        },
        "outputId": "99066f7b-b554-48a6-c0d0-a861d8cbdb74"
      },
      "source": [
        "# Float:\n",
        "10/3"
      ],
      "execution_count": null,
      "outputs": [
        {
          "output_type": "execute_result",
          "data": {
            "text/plain": [
              "3.3333333333333335"
            ]
          },
          "metadata": {
            "tags": []
          },
          "execution_count": 8
        }
      ]
    },
    {
      "cell_type": "code",
      "metadata": {
        "id": "QQrTZfvAoIYC",
        "colab_type": "code",
        "colab": {
          "base_uri": "https://localhost:8080/",
          "height": 34
        },
        "outputId": "c68e3430-8373-4c70-ab4c-b139379cc0c8"
      },
      "source": [
        "#inteiro:\n",
        "9/3"
      ],
      "execution_count": null,
      "outputs": [
        {
          "output_type": "execute_result",
          "data": {
            "text/plain": [
              "3.0"
            ]
          },
          "metadata": {
            "tags": []
          },
          "execution_count": 10
        }
      ]
    },
    {
      "cell_type": "markdown",
      "metadata": {
        "id": "Cg4Unm5eobbT",
        "colab_type": "text"
      },
      "source": [
        "Existe uma função *built-in* de Python, que arredonda os **floats**, para o caso em que a gente queira somente inteiros. Essa função é chamada de `round()`."
      ]
    },
    {
      "cell_type": "code",
      "metadata": {
        "id": "uUgcKf2mo9xZ",
        "colab_type": "code",
        "colab": {
          "base_uri": "https://localhost:8080/",
          "height": 34
        },
        "outputId": "b9d5a343-f8c8-4217-a5d6-b18ae2563f87"
      },
      "source": [
        "round(10/3)"
      ],
      "execution_count": null,
      "outputs": [
        {
          "output_type": "execute_result",
          "data": {
            "text/plain": [
              "3"
            ]
          },
          "metadata": {
            "tags": []
          },
          "execution_count": 11
        }
      ]
    },
    {
      "cell_type": "markdown",
      "metadata": {
        "id": "ThDaGsxopELL",
        "colab_type": "text"
      },
      "source": [
        "## O que vimos até agora\n",
        "\n",
        "\n",
        "* Python é uma **linguagem de programação** que traduz o que \"dizemos\" para **linguagem de máquina** (computador), para que o computador possa **executar** os comandos que estabelecemos (algoritmos);\n",
        "\n",
        "* Um **programa** é um conjunto de **algoritmos** que visam **solucionar um problema**;\n",
        "\n",
        "* Quando dizemos que o Python **retorna** algo, estamos falando das respostas que o Python nos fornece. Quando você digita algo no `prompt` e pressiona `Enter`, está fazendo uma pergunta ao Python. Então Python devolve, ou retorna, uma resposta para você;\n",
        "\n",
        "* Também usamos a palavra **expressão** - você ouvirá muito mais à medida que prosseguimos. Até agora, as expressões que vimos foram problemas de matemática. Mas expressões podem ser muito mais - também vamos ver algumas expressões que usam palavras e outros tipos de símbolos.\n",
        "\n",
        "* Existem **tipos** de Python associados a valores. Os que vimos até agora foram **floats** e **inteiros**."
      ]
    },
    {
      "cell_type": "markdown",
      "metadata": {
        "id": "73XgsDmVqeBG",
        "colab_type": "text"
      },
      "source": [
        "## Operadores de comparação\n",
        "\n",
        "Existem situações em que queremos comparar valores ou expressões. Para tal, existem os **operadores de comparação**. \n",
        "\n",
        "Operador | Significado\n",
        "---|---\n",
        "== | Igual a\n",
        "!= | Diferente de\n",
        "< | Menor que\n",
        "> | Maior que\n",
        "<= | Menor ou igual a\n",
        ">= | Maior ou igual a \n",
        "\n",
        "Mais para a frente, veremos exemplos de como programar esses operadores de comparação. Por agora, vamos entender como eles funcionam.\n",
        "\n",
        "Vamos ver o que acontece quando executamos as expressões abaixo. Tente antecipar o resultado antes de executar a célula."
      ]
    },
    {
      "cell_type": "code",
      "metadata": {
        "id": "gjzQ62Gqqg9n",
        "colab_type": "code",
        "colab": {
          "base_uri": "https://localhost:8080/",
          "height": 34
        },
        "outputId": "e686f1f5-e2e8-4afe-98a9-a1dff9c99a70"
      },
      "source": [
        "5 < 4 + 3"
      ],
      "execution_count": null,
      "outputs": [
        {
          "output_type": "execute_result",
          "data": {
            "text/plain": [
              "True"
            ]
          },
          "metadata": {
            "tags": []
          },
          "execution_count": 13
        }
      ]
    },
    {
      "cell_type": "code",
      "metadata": {
        "id": "TluT3mfQtwgj",
        "colab_type": "code",
        "colab": {
          "base_uri": "https://localhost:8080/",
          "height": 34
        },
        "outputId": "9b55a2dd-2795-43ac-b0dc-058aa17c1f36"
      },
      "source": [
        "12 + 1 >= 12"
      ],
      "execution_count": null,
      "outputs": [
        {
          "output_type": "execute_result",
          "data": {
            "text/plain": [
              "True"
            ]
          },
          "metadata": {
            "tags": []
          },
          "execution_count": 14
        }
      ]
    },
    {
      "cell_type": "code",
      "metadata": {
        "id": "2yPb1jHatzN5",
        "colab_type": "code",
        "colab": {
          "base_uri": "https://localhost:8080/",
          "height": 34
        },
        "outputId": "eafcebf0-1e95-4014-c01d-162a9322bc9d"
      },
      "source": [
        "16 * 2 == 32"
      ],
      "execution_count": null,
      "outputs": [
        {
          "output_type": "execute_result",
          "data": {
            "text/plain": [
              "True"
            ]
          },
          "metadata": {
            "tags": []
          },
          "execution_count": 15
        }
      ]
    },
    {
      "cell_type": "code",
      "metadata": {
        "id": "e-yf3714t8Cr",
        "colab_type": "code",
        "colab": {
          "base_uri": "https://localhost:8080/",
          "height": 34
        },
        "outputId": "326f91cf-d876-4e6a-9904-9736c6cef4ad"
      },
      "source": [
        "16 != 16"
      ],
      "execution_count": null,
      "outputs": [
        {
          "output_type": "execute_result",
          "data": {
            "text/plain": [
              "False"
            ]
          },
          "metadata": {
            "tags": []
          },
          "execution_count": 16
        }
      ]
    },
    {
      "cell_type": "code",
      "metadata": {
        "id": "jFkZ2giKt9KT",
        "colab_type": "code",
        "colab": {
          "base_uri": "https://localhost:8080/",
          "height": 34
        },
        "outputId": "2037dbb2-c3e5-4f8d-b8a0-14c3f4e77dde"
      },
      "source": [
        "5 >= 6"
      ],
      "execution_count": null,
      "outputs": [
        {
          "output_type": "execute_result",
          "data": {
            "text/plain": [
              "False"
            ]
          },
          "metadata": {
            "tags": []
          },
          "execution_count": 17
        }
      ]
    },
    {
      "cell_type": "markdown",
      "metadata": {
        "id": "xUxAY2xBuIMk",
        "colab_type": "text"
      },
      "source": [
        "* A primeira observação que você provavelmente notou é que as expressões retornadas não são números. Faz sentido, já que estamos comparando duas quantidades e nos perguntando se as expressões são verdadeiras (True) ou falsas (False). Esses resultados representam também um **tipo** de valor de Python, que é chamado de **Boolean**;\n",
        "\n",
        "* Outro ponto importante é o que chamamos de **ordem da operação**. As expressões simples, como **adição ou multiplicação** são sempre executadas **antes da comparação**."
      ]
    },
    {
      "cell_type": "markdown",
      "metadata": {
        "id": "15wgL51iwMmb",
        "colab_type": "text"
      },
      "source": [
        "## Próxima Aula:\n",
        "\n",
        "Na próxima aula veremos um outro **tipo** de valores em Python: as **Strings**.\n",
        "\n",
        "### Exercícios:\n",
        "\n",
        "1. Use Python como uma calculadora. E se você quiser calcular o seno de um dado ângulo? Consegue fazer isso com Python?\n",
        "1. Faça mais alguns exemplos com os operadores de comparação, principalmente misturando expressões antes e depois dos operadores. "
      ]
    },
    {
      "cell_type": "code",
      "metadata": {
        "id": "4zukqsgueAmH",
        "colab_type": "code",
        "colab": {
          "base_uri": "https://localhost:8080/",
          "height": 34
        },
        "outputId": "eda1527d-bc38-4811-d408-3611489c57b5"
      },
      "source": [
        "import math\n",
        "math.sin(math.radians(30))"
      ],
      "execution_count": null,
      "outputs": [
        {
          "output_type": "execute_result",
          "data": {
            "text/plain": [
              "0.49999999999999994"
            ]
          },
          "metadata": {
            "tags": []
          },
          "execution_count": 37
        }
      ]
    },
    {
      "cell_type": "code",
      "metadata": {
        "colab_type": "code",
        "id": "4ta08fyPfqAP",
        "colab": {
          "base_uri": "https://localhost:8080/",
          "height": 34
        },
        "outputId": "980066e1-6600-4278-a8e5-b6d2e733d92f"
      },
      "source": [
        "import math\n",
        "math.sin(math.radians(30))"
      ],
      "execution_count": null,
      "outputs": [
        {
          "output_type": "execute_result",
          "data": {
            "text/plain": [
              "0.49999999999999994"
            ]
          },
          "metadata": {
            "tags": []
          },
          "execution_count": 30
        }
      ]
    },
    {
      "cell_type": "code",
      "metadata": {
        "id": "n-Db0Qr-gppA",
        "colab_type": "code",
        "colab": {
          "base_uri": "https://localhost:8080/",
          "height": 139
        },
        "outputId": "26f3b7f2-73a8-42cf-9e50-ca2c23d95d50"
      },
      "source": [
        "import math\n",
        "\n",
        "ângulo = input(\"Defina o ângulo: \")\n",
        "\n",
        "print(\"Seno: \")\n",
        "print(math.sin(int(ângulo)))\n",
        "print(\"Cosseno: \")\n",
        "print(math.cos(int(ângulo)))\n",
        "print(\"Tangente: \")\n",
        "print(math.tan(int(ângulo)))"
      ],
      "execution_count": null,
      "outputs": [
        {
          "output_type": "stream",
          "text": [
            "Defina o ângulo: 30\n",
            "Seno: \n",
            "-0.9880316240928618\n",
            "Cosseno: \n",
            "0.15425144988758405\n",
            "Tangente: \n",
            "-6.405331196646276\n"
          ],
          "name": "stdout"
        }
      ]
    }
  ]
}